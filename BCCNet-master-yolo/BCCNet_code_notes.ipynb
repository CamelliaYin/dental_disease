{
 "cells": [
  {
   "cell_type": "markdown",
   "metadata": {},
   "source": [
    "# Code notes for BCCNet\n",
    "\n",
    "source: https://github.com/OlgaIsupova/BCCNet"
   ]
  },
  {
   "cell_type": "markdown",
   "metadata": {},
   "source": [
    "**utils**: https://github.com/OlgaIsupova/BCCNet/blob/master/utils/utils_dataset_processing.py <br><br>\n",
    "Two functions: \n",
    "1. shuffle_arrays(arrays)\n",
    "2. shrink_arrays(arrays, shrink_size, is_shuffle=True)"
   ]
  },
  {
   "cell_type": "code",
   "execution_count": 3,
   "metadata": {},
   "outputs": [],
   "source": [
    "import numpy as np"
   ]
  },
  {
   "cell_type": "code",
   "execution_count": 49,
   "metadata": {},
   "outputs": [],
   "source": [
    "# assume that our data is in 3d, i.e.for each sample we have 2d input.\n",
    "# for instance, (6000,28,28) for MNIST\n",
    "# what the shuffle does is to pick out the rows, and random shuffle those rows\n",
    "\n",
    "def shuffle_arrays(arrays):\n",
    "    #if not arrays:\n",
    "    #    return arrays\n",
    "\n",
    "    size = arrays[0].shape[0]\n",
    "    permutation = np.arange(size)\n",
    "    np.random.shuffle(permutation)\n",
    "    for i, array in enumerate(arrays):\n",
    "        arrays[i] = array[permutation]\n",
    "\n",
    "    return arrays"
   ]
  },
  {
   "cell_type": "code",
   "execution_count": 59,
   "metadata": {
    "scrolled": true
   },
   "outputs": [
    {
     "name": "stdout",
     "output_type": "stream",
     "text": [
      "[[0 0 1 1]\n",
      " [1 1 0 0]\n",
      " [0 0 0 1]\n",
      " [0 0 0 0]]\n",
      "[[0 0 0 1]\n",
      " [0 0 0 0]\n",
      " [0 0 1 1]\n",
      " [1 1 0 0]]\n"
     ]
    }
   ],
   "source": [
    "np.random.seed(100)\n",
    "x = np.random.choice([0,1], size=(6000, 4, 4))\n",
    "print(x[0])\n",
    "print(shuffle_arrays(x)[0])"
   ]
  },
  {
   "cell_type": "code",
   "execution_count": 60,
   "metadata": {},
   "outputs": [],
   "source": [
    "# what we do is shuffle rows like the previous function\n",
    "# then output a tuple which contains partial and whole of the example\n",
    "\n",
    "\n",
    "def shrink_arrays(arrays, shrink_size, is_shuffle=True):\n",
    "    # if shrink_size in [0.0, 1.0] it specifies fraction of the array size to be extracted, if shrink_size is an\n",
    "    # integer it specifies the size of the shrunk arrays\n",
    "\n",
    "    #if not arrays:\n",
    "    #    return arrays\n",
    "\n",
    "    if type(shrink_size) == float or type(shrink_size) == np.float64:\n",
    "        assert(0.0 <= shrink_size <= 1.0)\n",
    "        size = arrays[0].shape[0]\n",
    "        shrunk_array_size = int(round(shrink_size * size))\n",
    "    else:\n",
    "        shrunk_array_size = shrink_size\n",
    "\n",
    "    if is_shuffle:\n",
    "        shuffled_arrays = shuffle_arrays(arrays)\n",
    "    else:\n",
    "        shuffled_arrays = arrays\n",
    "\n",
    "    shrunk_arrays = []\n",
    "    for array in shuffled_arrays:\n",
    "        shrunk_arrays.append(array[:shrunk_array_size])\n",
    "\n",
    "    return shrunk_arrays, shuffled_arrays"
   ]
  },
  {
   "cell_type": "code",
   "execution_count": 64,
   "metadata": {},
   "outputs": [
    {
     "name": "stdout",
     "output_type": "stream",
     "text": [
      "[[0 0 0 0]\n",
      " [1 1 0 0]\n",
      " [0 0 1 1]\n",
      " [0 0 0 1]]\n",
      "[[0 0 1 1]]\n",
      "[[0 0 1 1]\n",
      " [1 1 0 0]\n",
      " [0 0 0 1]\n",
      " [0 0 0 0]]\n"
     ]
    }
   ],
   "source": [
    "np.random.seed(100)\n",
    "print(x[0])\n",
    "labelled_train, whole_train = shrink_arrays(x, 0.25) #shrunk_arrays, shuffled_arrays\n",
    "print(labelled_train[0])\n",
    "print(whole_train[0])"
   ]
  },
  {
   "cell_type": "markdown",
   "metadata": {},
   "source": [
    "np function: **numpy.expand_dims()**"
   ]
  },
  {
   "cell_type": "code",
   "execution_count": 79,
   "metadata": {},
   "outputs": [
    {
     "name": "stdout",
     "output_type": "stream",
     "text": [
      "[[0 0 1 1]\n",
      " [1 1 0 0]\n",
      " [0 0 0 1]\n",
      " [0 0 0 0]]\n",
      "[[[0]\n",
      "  [0]\n",
      "  [1]\n",
      "  [1]]\n",
      "\n",
      " [[1]\n",
      "  [1]\n",
      "  [0]\n",
      "  [0]]\n",
      "\n",
      " [[0]\n",
      "  [0]\n",
      "  [0]\n",
      "  [1]]\n",
      "\n",
      " [[0]\n",
      "  [0]\n",
      "  [0]\n",
      "  [0]]]\n",
      "(6000, 4, 4, 1)\n"
     ]
    }
   ],
   "source": [
    "np.random.seed(100)\n",
    "print(x[0])\n",
    "y = np.expand_dims(x, axis=3)\n",
    "print(y[0])\n",
    "print(y.shape)"
   ]
  },
  {
   "cell_type": "code",
   "execution_count": 24,
   "metadata": {},
   "outputs": [
    {
     "name": "stdout",
     "output_type": "stream",
     "text": [
      "[[0.6 0.2 0.2]\n",
      " [0.2 0.6 0.2]\n",
      " [0.2 0.2 0.6]]\n",
      "[[[2.60443695e-01 1.50222467e-01 1.64188820e-01 6.35220479e-01\n",
      "   9.06720061e-01]\n",
      "  [7.08570616e-01 1.24915813e-09 4.19045135e-07 2.60291192e-06\n",
      "   9.28793808e-02]\n",
      "  [3.09856886e-02 8.49777532e-01 8.35810761e-01 3.64776918e-01\n",
      "   4.00558549e-04]]\n",
      "\n",
      " [[8.57248735e-02 8.09221819e-05 6.90062379e-01 6.18002044e-01\n",
      "   3.69328193e-02]\n",
      "  [9.14275117e-01 9.99471865e-01 3.09904988e-01 3.46448610e-03\n",
      "   9.43204722e-01]\n",
      "  [9.41801356e-09 4.47213280e-04 3.26332918e-05 3.78533470e-01\n",
      "   1.98624584e-02]]\n",
      "\n",
      " [[1.86274606e-02 1.76781772e-04 4.43271386e-01 2.95320063e-01\n",
      "   2.63320486e-04]\n",
      "  [9.76598597e-03 3.12931161e-02 5.01200339e-02 5.51499504e-05\n",
      "   6.55430081e-02]\n",
      "  [9.71606553e-01 9.68530102e-01 5.06608580e-01 7.04624787e-01\n",
      "   9.34193671e-01]]]\n",
      "[[1.50222467e-01 1.50222468e-01 1.00000000e+00]\n",
      " [8.09221819e-05 9.99552787e-01 1.00000000e+00]\n",
      " [1.76781772e-04 3.14698979e-02 1.00000000e+00]]\n"
     ]
    }
   ],
   "source": [
    "n_classes = 3\n",
    "reliability_level = 0.6\n",
    "alpha = (reliability_level - (1 - reliability_level) / (n_classes - 1)) * np.eye(n_classes) + \\\n",
    "            (1 - reliability_level) / (n_classes - 1)\n",
    "print(alpha)\n",
    "\n",
    "confusion_matrices = np.zeros((3, 3, 5), dtype=np.float64)\n",
    "for k in np.arange(5):\n",
    "    for i in np.arange(3):\n",
    "        confusion_matrices[i, :, k] = np.random.dirichlet(alpha[i, :])\n",
    "print(confusion_matrices)\n",
    "\n",
    "\n",
    "x = np.cumsum(confusion_matrices[:, :, 1], axis=1)\n",
    "print(x)\n",
    "\n",
    "\n",
    "\n",
    "\n",
    "\n",
    "\n",
    "\n"
   ]
  },
  {
   "cell_type": "code",
   "execution_count": 7,
   "metadata": {},
   "outputs": [
    {
     "name": "stdout",
     "output_type": "stream",
     "text": [
      "[[1 1 1 0 1]\n",
      " [1 1 1 1 0]\n",
      " [1 1 0 1 1]\n",
      " [0 1 1 1 1]\n",
      " [1 1 1 0 0]\n",
      " [0 0 1 1 0]\n",
      " [1 1 0 0 1]\n",
      " [1 1 1 1 1]\n",
      " [1 0 0 1 1]\n",
      " [1 1 1 0 1]]\n",
      "[[0.21465633]\n",
      " [0.41011371]\n",
      " [0.55321564]\n",
      " [0.95173549]\n",
      " [0.87471379]\n",
      " [0.85582064]\n",
      " [0.75820016]\n",
      " [0.89383032]\n",
      " [0.68797276]\n",
      " [0.87556469]]\n"
     ]
    }
   ],
   "source": [
    "x = np.random.binomial(1, 0.8, (10, 5))\n",
    "print(x)\n",
    "\n",
    "y = np.random.rand(10,1)\n",
    "print(y)\n",
    "\n",
    "\n"
   ]
  },
  {
   "cell_type": "code",
   "execution_count": null,
   "metadata": {},
   "outputs": [],
   "source": []
  }
 ],
 "metadata": {
  "kernelspec": {
   "display_name": "Python 3",
   "language": "python",
   "name": "python3"
  },
  "language_info": {
   "codemirror_mode": {
    "name": "ipython",
    "version": 3
   },
   "file_extension": ".py",
   "mimetype": "text/x-python",
   "name": "python",
   "nbconvert_exporter": "python",
   "pygments_lexer": "ipython3",
   "version": "3.8.3"
  }
 },
 "nbformat": 4,
 "nbformat_minor": 4
}
