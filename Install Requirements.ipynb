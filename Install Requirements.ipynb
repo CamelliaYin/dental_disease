{
 "cells": [
  {
   "cell_type": "code",
   "execution_count": 1,
   "id": "a5ce0d3e-8e9d-4641-bcb0-958fa9cb7d38",
   "metadata": {},
   "outputs": [
    {
     "name": "stdout",
     "output_type": "stream",
     "text": [
      "Requirement already satisfied: matplotlib>=3.2.2 in /Users/rb01243/opt/anaconda3/lib/python3.9/site-packages (from -r requirements.txt (line 4)) (3.4.3)\n",
      "Requirement already satisfied: numpy>=1.18.5 in /Users/rb01243/opt/anaconda3/lib/python3.9/site-packages (from -r requirements.txt (line 5)) (1.20.3)\n",
      "Collecting opencv-python>=4.1.2\n",
      "  Downloading opencv_python-4.5.5.62-cp36-abi3-macosx_10_15_x86_64.whl (46.0 MB)\n",
      "\u001b[K     |████████████████████████████████| 46.0 MB 1.7 MB/s eta 0:00:011\n",
      "\u001b[?25hRequirement already satisfied: Pillow>=8.0.0 in /Users/rb01243/opt/anaconda3/lib/python3.9/site-packages (from -r requirements.txt (line 7)) (8.4.0)\n",
      "Requirement already satisfied: PyYAML>=5.3.1 in /Users/rb01243/opt/anaconda3/lib/python3.9/site-packages (from -r requirements.txt (line 8)) (6.0)\n",
      "Requirement already satisfied: scipy>=1.4.1 in /Users/rb01243/opt/anaconda3/lib/python3.9/site-packages (from -r requirements.txt (line 9)) (1.7.1)\n",
      "Requirement already satisfied: torch>=1.7.0 in /Users/rb01243/opt/anaconda3/lib/python3.9/site-packages (from -r requirements.txt (line 10)) (1.10.2)\n",
      "Collecting torchvision>=0.8.1\n",
      "  Downloading torchvision-0.11.3-cp39-cp39-macosx_10_9_x86_64.whl (1.2 MB)\n",
      "\u001b[K     |████████████████████████████████| 1.2 MB 4.1 MB/s eta 0:00:01\n",
      "\u001b[?25hRequirement already satisfied: tqdm>=4.41.0 in /Users/rb01243/opt/anaconda3/lib/python3.9/site-packages (from -r requirements.txt (line 12)) (4.62.3)\n",
      "Collecting tensorboard>=2.4.1\n",
      "  Downloading tensorboard-2.8.0-py3-none-any.whl (5.8 MB)\n",
      "\u001b[K     |████████████████████████████████| 5.8 MB 701 kB/s eta 0:00:01\n",
      "\u001b[?25hRequirement already satisfied: seaborn>=0.11.0 in /Users/rb01243/opt/anaconda3/lib/python3.9/site-packages (from -r requirements.txt (line 19)) (0.11.2)\n",
      "Requirement already satisfied: pandas in /Users/rb01243/opt/anaconda3/lib/python3.9/site-packages (from -r requirements.txt (line 20)) (1.3.4)\n",
      "Collecting thop\n",
      "  Downloading thop-0.0.31.post2005241907-py3-none-any.whl (8.7 kB)\n",
      "Requirement already satisfied: kiwisolver>=1.0.1 in /Users/rb01243/opt/anaconda3/lib/python3.9/site-packages (from matplotlib>=3.2.2->-r requirements.txt (line 4)) (1.3.1)\n",
      "Requirement already satisfied: cycler>=0.10 in /Users/rb01243/opt/anaconda3/lib/python3.9/site-packages (from matplotlib>=3.2.2->-r requirements.txt (line 4)) (0.10.0)\n",
      "Requirement already satisfied: pyparsing>=2.2.1 in /Users/rb01243/opt/anaconda3/lib/python3.9/site-packages (from matplotlib>=3.2.2->-r requirements.txt (line 4)) (3.0.4)\n",
      "Requirement already satisfied: python-dateutil>=2.7 in /Users/rb01243/opt/anaconda3/lib/python3.9/site-packages (from matplotlib>=3.2.2->-r requirements.txt (line 4)) (2.8.2)\n",
      "Requirement already satisfied: typing-extensions in /Users/rb01243/opt/anaconda3/lib/python3.9/site-packages (from torch>=1.7.0->-r requirements.txt (line 10)) (3.10.0.2)\n",
      "Requirement already satisfied: wheel>=0.26 in /Users/rb01243/opt/anaconda3/lib/python3.9/site-packages (from tensorboard>=2.4.1->-r requirements.txt (line 15)) (0.37.0)\n",
      "Collecting grpcio>=1.24.3\n",
      "  Downloading grpcio-1.43.0-cp39-cp39-macosx_10_10_x86_64.whl (4.2 MB)\n",
      "\u001b[K     |████████████████████████████████| 4.2 MB 7.4 MB/s eta 0:00:01\n",
      "\u001b[?25hCollecting markdown>=2.6.8\n",
      "  Downloading Markdown-3.3.6-py3-none-any.whl (97 kB)\n",
      "\u001b[K     |████████████████████████████████| 97 kB 10.2 MB/s eta 0:00:01\n",
      "\u001b[?25hCollecting tensorboard-plugin-wit>=1.6.0\n",
      "  Downloading tensorboard_plugin_wit-1.8.1-py3-none-any.whl (781 kB)\n",
      "\u001b[K     |████████████████████████████████| 781 kB 8.0 MB/s eta 0:00:01\n",
      "\u001b[?25hCollecting absl-py>=0.4\n",
      "  Downloading absl_py-1.0.0-py3-none-any.whl (126 kB)\n",
      "\u001b[K     |████████████████████████████████| 126 kB 6.3 MB/s eta 0:00:01\n",
      "\u001b[?25hCollecting tensorboard-data-server<0.7.0,>=0.6.0\n",
      "  Downloading tensorboard_data_server-0.6.1-py3-none-macosx_10_9_x86_64.whl (3.5 MB)\n",
      "\u001b[K     |████████████████████████████████| 3.5 MB 8.6 MB/s eta 0:00:01\n",
      "\u001b[?25hCollecting protobuf>=3.6.0\n",
      "  Downloading protobuf-3.19.4-cp39-cp39-macosx_10_9_x86_64.whl (961 kB)\n",
      "\u001b[K     |████████████████████████████████| 961 kB 9.2 MB/s eta 0:00:01\n",
      "\u001b[?25hRequirement already satisfied: werkzeug>=0.11.15 in /Users/rb01243/opt/anaconda3/lib/python3.9/site-packages (from tensorboard>=2.4.1->-r requirements.txt (line 15)) (2.0.2)\n",
      "Requirement already satisfied: setuptools>=41.0.0 in /Users/rb01243/opt/anaconda3/lib/python3.9/site-packages (from tensorboard>=2.4.1->-r requirements.txt (line 15)) (58.0.4)\n",
      "Collecting google-auth-oauthlib<0.5,>=0.4.1\n",
      "  Downloading google_auth_oauthlib-0.4.6-py2.py3-none-any.whl (18 kB)\n",
      "Collecting google-auth<3,>=1.6.3\n",
      "  Downloading google_auth-2.6.0-py2.py3-none-any.whl (156 kB)\n",
      "\u001b[K     |████████████████████████████████| 156 kB 7.6 MB/s eta 0:00:01\n",
      "\u001b[?25hRequirement already satisfied: requests<3,>=2.21.0 in /Users/rb01243/opt/anaconda3/lib/python3.9/site-packages (from tensorboard>=2.4.1->-r requirements.txt (line 15)) (2.26.0)\n",
      "Requirement already satisfied: pytz>=2017.3 in /Users/rb01243/opt/anaconda3/lib/python3.9/site-packages (from pandas->-r requirements.txt (line 20)) (2021.3)\n",
      "Requirement already satisfied: six in /Users/rb01243/opt/anaconda3/lib/python3.9/site-packages (from absl-py>=0.4->tensorboard>=2.4.1->-r requirements.txt (line 15)) (1.16.0)\n",
      "Collecting pyasn1-modules>=0.2.1\n",
      "  Downloading pyasn1_modules-0.2.8-py2.py3-none-any.whl (155 kB)\n",
      "\u001b[K     |████████████████████████████████| 155 kB 14.6 MB/s eta 0:00:01\n",
      "\u001b[?25hCollecting rsa<5,>=3.1.4\n",
      "  Downloading rsa-4.8-py3-none-any.whl (39 kB)\n",
      "Collecting cachetools<6.0,>=2.0.0\n",
      "  Downloading cachetools-5.0.0-py3-none-any.whl (9.1 kB)\n",
      "Collecting requests-oauthlib>=0.7.0\n",
      "  Downloading requests_oauthlib-1.3.1-py2.py3-none-any.whl (23 kB)\n",
      "Requirement already satisfied: importlib-metadata>=4.4 in /Users/rb01243/opt/anaconda3/lib/python3.9/site-packages (from markdown>=2.6.8->tensorboard>=2.4.1->-r requirements.txt (line 15)) (4.8.1)\n",
      "Requirement already satisfied: zipp>=0.5 in /Users/rb01243/opt/anaconda3/lib/python3.9/site-packages (from importlib-metadata>=4.4->markdown>=2.6.8->tensorboard>=2.4.1->-r requirements.txt (line 15)) (3.6.0)\n",
      "Collecting pyasn1<0.5.0,>=0.4.6\n",
      "  Downloading pyasn1-0.4.8-py2.py3-none-any.whl (77 kB)\n",
      "\u001b[K     |████████████████████████████████| 77 kB 1.9 MB/s eta 0:00:01\n",
      "\u001b[?25hRequirement already satisfied: charset-normalizer~=2.0.0 in /Users/rb01243/opt/anaconda3/lib/python3.9/site-packages (from requests<3,>=2.21.0->tensorboard>=2.4.1->-r requirements.txt (line 15)) (2.0.4)\n",
      "Requirement already satisfied: idna<4,>=2.5 in /Users/rb01243/opt/anaconda3/lib/python3.9/site-packages (from requests<3,>=2.21.0->tensorboard>=2.4.1->-r requirements.txt (line 15)) (3.2)\n",
      "Requirement already satisfied: urllib3<1.27,>=1.21.1 in /Users/rb01243/opt/anaconda3/lib/python3.9/site-packages (from requests<3,>=2.21.0->tensorboard>=2.4.1->-r requirements.txt (line 15)) (1.26.7)\n",
      "Requirement already satisfied: certifi>=2017.4.17 in /Users/rb01243/opt/anaconda3/lib/python3.9/site-packages (from requests<3,>=2.21.0->tensorboard>=2.4.1->-r requirements.txt (line 15)) (2021.10.8)\n",
      "Collecting oauthlib>=3.0.0\n",
      "  Downloading oauthlib-3.2.0-py3-none-any.whl (151 kB)\n",
      "\u001b[K     |████████████████████████████████| 151 kB 10.1 MB/s eta 0:00:01\n",
      "\u001b[?25hInstalling collected packages: pyasn1, rsa, pyasn1-modules, oauthlib, cachetools, requests-oauthlib, google-auth, tensorboard-plugin-wit, tensorboard-data-server, protobuf, markdown, grpcio, google-auth-oauthlib, absl-py, torchvision, thop, tensorboard, opencv-python\n",
      "Successfully installed absl-py-1.0.0 cachetools-5.0.0 google-auth-2.6.0 google-auth-oauthlib-0.4.6 grpcio-1.43.0 markdown-3.3.6 oauthlib-3.2.0 opencv-python-4.5.5.62 protobuf-3.19.4 pyasn1-0.4.8 pyasn1-modules-0.2.8 requests-oauthlib-1.3.1 rsa-4.8 tensorboard-2.8.0 tensorboard-data-server-0.6.1 tensorboard-plugin-wit-1.8.1 thop-0.0.31.post2005241907 torchvision-0.11.3\n",
      "Note: you may need to restart the kernel to use updated packages.\n"
     ]
    }
   ],
   "source": [
    "pip install -r requirements.txt"
   ]
  },
  {
   "cell_type": "code",
   "execution_count": null,
   "id": "6b05fab4-e956-4f7c-9b96-547db193a856",
   "metadata": {},
   "outputs": [],
   "source": []
  }
 ],
 "metadata": {
  "kernelspec": {
   "display_name": "Python 3 (ipykernel)",
   "language": "python",
   "name": "python3"
  },
  "language_info": {
   "codemirror_mode": {
    "name": "ipython",
    "version": 3
   },
   "file_extension": ".py",
   "mimetype": "text/x-python",
   "name": "python",
   "nbconvert_exporter": "python",
   "pygments_lexer": "ipython3",
   "version": "3.9.7"
  }
 },
 "nbformat": 4,
 "nbformat_minor": 5
}
