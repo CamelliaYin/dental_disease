{
 "cells": [
  {
   "cell_type": "markdown",
   "metadata": {},
   "source": [
    "# Code notes for BCCNet\n",
    "\n",
    "source: https://github.com/OlgaIsupova/BCCNet"
   ]
  },
  {
   "cell_type": "markdown",
   "metadata": {},
   "source": [
    "**utils**: https://github.com/OlgaIsupova/BCCNet/blob/master/utils/utils_dataset_processing.py <br><br>\n",
    "Two functions: \n",
    "1. shuffle_arrays(arrays)\n",
    "2. shrink_arrays(arrays, shrink_size, is_shuffle=True)"
   ]
  },
  {
   "cell_type": "code",
   "execution_count": 48,
   "metadata": {},
   "outputs": [],
   "source": [
    "import numpy as np"
   ]
  },
  {
   "cell_type": "code",
   "execution_count": 49,
   "metadata": {},
   "outputs": [],
   "source": [
    "# assume that our data is in 3d, i.e.for each sample we have 2d input.\n",
    "# for instance, (6000,28,28) for MNIST\n",
    "# what the shuffle does is to pick out the rows, and random shuffle those rows\n",
    "\n",
    "def shuffle_arrays(arrays):\n",
    "    #if not arrays:\n",
    "    #    return arrays\n",
    "\n",
    "    size = arrays[0].shape[0]\n",
    "    permutation = np.arange(size)\n",
    "    np.random.shuffle(permutation)\n",
    "    for i, array in enumerate(arrays):\n",
    "        arrays[i] = array[permutation]\n",
    "\n",
    "    return arrays"
   ]
  },
  {
   "cell_type": "code",
   "execution_count": 59,
   "metadata": {
    "scrolled": true
   },
   "outputs": [
    {
     "name": "stdout",
     "output_type": "stream",
     "text": [
      "[[0 0 1 1]\n",
      " [1 1 0 0]\n",
      " [0 0 0 1]\n",
      " [0 0 0 0]]\n",
      "[[0 0 0 1]\n",
      " [0 0 0 0]\n",
      " [0 0 1 1]\n",
      " [1 1 0 0]]\n"
     ]
    }
   ],
   "source": [
    "np.random.seed(100)\n",
    "x = np.random.choice([0,1], size=(6000, 4, 4))\n",
    "print(x[0])\n",
    "print(shuffle_arrays(x)[0])"
   ]
  },
  {
   "cell_type": "code",
   "execution_count": 60,
   "metadata": {},
   "outputs": [],
   "source": [
    "# what we do is shuffle rows like the previous function\n",
    "# then output a tuple which contains partial and whole of the example\n",
    "\n",
    "\n",
    "def shrink_arrays(arrays, shrink_size, is_shuffle=True):\n",
    "    # if shrink_size in [0.0, 1.0] it specifies fraction of the array size to be extracted, if shrink_size is an\n",
    "    # integer it specifies the size of the shrunk arrays\n",
    "\n",
    "    #if not arrays:\n",
    "    #    return arrays\n",
    "\n",
    "    if type(shrink_size) == float or type(shrink_size) == np.float64:\n",
    "        assert(0.0 <= shrink_size <= 1.0)\n",
    "        size = arrays[0].shape[0]\n",
    "        shrunk_array_size = int(round(shrink_size * size))\n",
    "    else:\n",
    "        shrunk_array_size = shrink_size\n",
    "\n",
    "    if is_shuffle:\n",
    "        shuffled_arrays = shuffle_arrays(arrays)\n",
    "    else:\n",
    "        shuffled_arrays = arrays\n",
    "\n",
    "    shrunk_arrays = []\n",
    "    for array in shuffled_arrays:\n",
    "        shrunk_arrays.append(array[:shrunk_array_size])\n",
    "\n",
    "    return shrunk_arrays, shuffled_arrays"
   ]
  },
  {
   "cell_type": "code",
   "execution_count": 64,
   "metadata": {},
   "outputs": [
    {
     "name": "stdout",
     "output_type": "stream",
     "text": [
      "[[0 0 0 0]\n",
      " [1 1 0 0]\n",
      " [0 0 1 1]\n",
      " [0 0 0 1]]\n",
      "[[0 0 1 1]]\n",
      "[[0 0 1 1]\n",
      " [1 1 0 0]\n",
      " [0 0 0 1]\n",
      " [0 0 0 0]]\n"
     ]
    }
   ],
   "source": [
    "np.random.seed(100)\n",
    "print(x[0])\n",
    "labelled_train, whole_train = shrink_arrays(x, 0.25) #shrunk_arrays, shuffled_arrays\n",
    "print(labelled_train[0])\n",
    "print(whole_train[0])"
   ]
  },
  {
   "cell_type": "markdown",
   "metadata": {},
   "source": [
    "np function: **numpy.expand_dims()**"
   ]
  },
  {
   "cell_type": "code",
   "execution_count": 79,
   "metadata": {},
   "outputs": [
    {
     "name": "stdout",
     "output_type": "stream",
     "text": [
      "[[0 0 1 1]\n",
      " [1 1 0 0]\n",
      " [0 0 0 1]\n",
      " [0 0 0 0]]\n",
      "[[[0]\n",
      "  [0]\n",
      "  [1]\n",
      "  [1]]\n",
      "\n",
      " [[1]\n",
      "  [1]\n",
      "  [0]\n",
      "  [0]]\n",
      "\n",
      " [[0]\n",
      "  [0]\n",
      "  [0]\n",
      "  [1]]\n",
      "\n",
      " [[0]\n",
      "  [0]\n",
      "  [0]\n",
      "  [0]]]\n",
      "(6000, 4, 4, 1)\n"
     ]
    }
   ],
   "source": [
    "np.random.seed(100)\n",
    "print(x[0])\n",
    "y = np.expand_dims(x, axis=3)\n",
    "print(y[0])\n",
    "print(y.shape)"
   ]
  },
  {
   "cell_type": "code",
   "execution_count": 78,
   "metadata": {},
   "outputs": [
    {
     "data": {
      "text/plain": [
       "6000"
      ]
     },
     "execution_count": 78,
     "metadata": {},
     "output_type": "execute_result"
    }
   ],
   "source": [
    "len(y)"
   ]
  }
 ],
 "metadata": {
  "kernelspec": {
   "display_name": "Python 3",
   "language": "python",
   "name": "python3"
  },
  "language_info": {
   "codemirror_mode": {
    "name": "ipython",
    "version": 3
   },
   "file_extension": ".py",
   "mimetype": "text/x-python",
   "name": "python",
   "nbconvert_exporter": "python",
   "pygments_lexer": "ipython3",
   "version": "3.8.3"
  }
 },
 "nbformat": 4,
 "nbformat_minor": 4
}
