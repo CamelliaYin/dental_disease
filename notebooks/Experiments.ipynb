{
 "cells": [
  {
   "cell_type": "markdown",
   "metadata": {},
   "source": [
    "# Experiments\n",
    "\n",
    "This notebook contains all the experiments conducted for the paper"
   ]
  },
  {
   "cell_type": "markdown",
   "metadata": {},
   "source": [
    "## Experiment Set 1"
   ]
  },
  {
   "cell_type": "markdown",
   "metadata": {},
   "source": [
    "### This experiment set is to test the results using the smaller test dataset of 5 annotators (including 1 expert). Results are reproduced from the development of the crowd yolo model, compared to other models using the same dataset."
   ]
  },
  {
   "cell_type": "markdown",
   "metadata": {},
   "source": [
    "The dataset used is a small dataset of 100 radiographs with 5 annotators (500 sets of labels) one of which is compleeted by a dental expert. The expert labels are separated and used as ground truth labels for the test dataset.\n",
    "\n",
    "\n",
    "There are 4 models/techniques to expeiment:\n",
    "- `Crowd Yolo`: A combination of YoloV5 object detection algorithm and a bayesian classifier combination network BCCNet (a network that decides the annotators value as an annotator inorder to train the yolo model). (main model the paper is about)\n",
    "- `Crowd RCNN`: Another crowdsourced object detection model using an RCNN object detection model and a bayesian classifier combination network BCCNet (This main model we are comparing the results to)\n",
    "- `YoloV5 IID`: This model doesn't have crowdsourcing functionality and is just YoloV5 object detection. The data to train this model has to be treated as ground truth data, so a separate dataset is used where different annotators for a single image are separated and treated as individual ground truth labels..\n",
    "- `YoloV5 Agregation Preprocessing`: This algorithm agregates nearby labels of the same disease to create ground truth labels from crowdsourced labels (Not Machine learning). It will also use yoloV5 for the object detection `MIGHT NOT BE NEEDED`\n",
    "\n",
    "\n",
    "`ALL MODELS HAVE HYPERPAMETER TUNING AND ARE TRAINED TO THE BEST OF OUR ABILITY`"
   ]
  },
  {
   "cell_type": "markdown",
   "metadata": {},
   "source": [
    "|  | `Dataset 1 (All Annotators) [CSall]` | `Test Data (Ground Truth) [GTtest]` |\n",
    "|---|---|---|\n",
    "| `Crowd Yolo` | Expert and non-expert Crowdsourced data | `Expert ground truth unseen data. Used as the test dataset for both train datasets.` |\n",
    "| `Crowd  RCNN` | Expert and non-expert Crowdsourced data | `Expert ground truth unseen data. Used as the test dataset for both train datasets.` |\n",
    "| `YoloV5 IID` | Images are repeated and labels are separated to act as ground trouth labels for each radiograph (from same dataset) | `Expert ground truth unseen data. Used as the test dataset for both train datasets.` |\n",
    "| `MIGHT NOT BE NEEDED` `YoloV5 Agregation Preprocessing` | Expert and non-expert Crowdsourced data agregated into ground truth labels | `Expert ground truth unseen data. Used as the test dataset for both train datasets.` |\n"
   ]
  },
  {
   "cell_type": "markdown",
   "metadata": {},
   "source": [
    "## Experiment Set 2"
   ]
  },
  {
   "cell_type": "markdown",
   "metadata": {},
   "source": [
    "There are 3 datasets used in these experiments:\n",
    "- `Dataset 1 (CSall)`: Crowdsourced with both expert and non-expert labels \n",
    "- `Dataset 2 (CSexp)`: Crowdsourced (same dataset as above) with just expert labels filtered, no non-expert labels.  \n",
    "- `Test Dataset (GTtest)`: Expert only ground truth labels with unseen data (small dataset completed by a single expert)\n",
    "\n",
    "There are 4 models/techniques to expeiment:\n",
    "- `Crowd Yolo`: A combination of YoloV5 object detection algorithm and a bayesian classifier combination network BCCNet (a network that decides the annotators value as an annotator inorder to train the yolo model). (main model the paper is about)\n",
    "- `Crowd RCNN`: Another crowdsourced object detection model using an RCNN object detection model and a bayesian classifier combination network BCCNet (This main model we are comparing the results to)\n",
    "- `YoloV5 IID`: This model doesn't have crowdsourcing functionality and is just YoloV5 object detection. The data to train this model has to be treated as ground truth data, so a separate dataset is used where different annotators for a single image are separated and treated as individual ground truth labels..\n",
    "- `YoloV5 Agregation Preprocessing`: This algorithm agregates nearby labels of the same disease to create ground truth labels from crowdsourced labels (Not Machine learning). It will also use yoloV5 for the object detection `MIGHT NOT BE NEEDED`\n",
    "\n",
    "\n",
    "`ALL MODELS HAVE HYPERPAMETER TUNING AND ARE TRAINED TO THE BEST OF OUR ABILITY`"
   ]
  },
  {
   "cell_type": "markdown",
   "metadata": {},
   "source": [
    "|  | `Dataset 1 (All Annotators) [CSall]` | `Dataset 2 (Expert Labels Only) [CSexp]` | `Test Data (Ground Truth) [GTtest]` |\n",
    "|---|---|---|---|\n",
    "| `Crowd Yolo` | Expert and non-expert Crowdsourced data | Expert Crowdsourced data | `Expert ground truth unseen data. Used as the test dataset for both train datasets.` |\n",
    "| `Crowd  RCNN` | Expert and non-expert Crowdsourced data | Expert Crowdsourced data | `Expert ground truth unseen data. Used as the test dataset for both train datasets.` |\n",
    "| `YoloV5 IID` | Images are repeated and labels are separated to act as ground trouth labels for each radiograph (from same dataset) | Images are repeated and labels are separated to act as ground trouth labels only for expert annotator labels for each radiograph (from same dataset) | `Expert ground truth unseen data. Used as the test dataset for both train datasets.` |\n",
    "| `MIGHT NOT BE NEEDED` `YoloV5 Agregation Preprocessing` | Expert and non-expert Crowdsourced data agregated into ground truth labels | Expert only Crowdsourced data agregated into ground truth labels | `Expert ground truth unseen data. Used as the test dataset for both train datasets.` |\n",
    "\n",
    "LAST ONE MIGHT NOT BE NEEDED"
   ]
  },
  {
   "cell_type": "markdown",
   "metadata": {},
   "source": [
    "## Installs"
   ]
  },
  {
   "cell_type": "markdown",
   "metadata": {},
   "source": [
    "#### Please run the 'Install Requirements.ipynb' file in the base folder"
   ]
  },
  {
   "cell_type": "markdown",
   "metadata": {},
   "source": [
    "## Libraries "
   ]
  },
  {
   "cell_type": "code",
   "execution_count": 1,
   "metadata": {},
   "outputs": [],
   "source": [
    "import os\n",
    "import sys\n",
    "import json\n",
    "import yaml\n",
    "from collections import defaultdict\n",
    "import numpy as np\n",
    "import pandas as pd\n",
    "from tqdm.notebook import tqdm\n",
    "import matplotlib.pyplot as plt\n",
    "import matplotlib.image as mpimg\n",
    "import matplotlib.patches as mpatch\n",
    "import matplotlib\n",
    "sys.path.append('../src/cyolo_utils')\n",
    "from results_plotter import read_exp_results as read_exp"
   ]
  },
  {
   "cell_type": "markdown",
   "metadata": {},
   "source": [
    "### Choice of Hyper Parameters\n",
    "\n",
    "Below are all the inital parameters you can change.\n",
    "\n",
    "\n",
    "\n",
    "| `Parameter` | `Description` | `Type` | `Default` |\n",
    "| --- | --- | --- | --- |\n",
    "| bcc_epoch | start-epoch for BCC+YOLO run; use -1 for no BCC. | int | 0 |\n",
    "| qtfilter_epoch | start-epoch for qt-filter; use -1 for no qt-filter. | int | -1 |\n",
    "| qt_thres_mode | one of '', 'conf-count', 'entropy', 'conf-val' | str | '' |\n",
    "| qt_thres | the threshold value. | float | 0.0 |\n",
    "| hybrid_entropy_thres | the entropy threshold value (only to be used when running the hybrid filter). | float | 0.0 |\n",
    "| hybrid_conf_thres | the confidence threshold value (only to be used when running the hybrid filter). | float | 0.0 |\n",
    "| weights | initial weights path | str | 'yolov5s.pt' |\n",
    "| cfg | model.yaml path | str | '' |\n",
    "| data | dataset.yaml path | str | '../data/coco128.yaml' |\n",
    "| hyp | hyperparameters path | str | '../data/hyps/hyp.scratch.yaml' |\n",
    "| epochs | number of epoch repeates | int | 300 |\n",
    "| batch-size | total batch size for all GPUs | int | 16 |\n",
    "| imgsz | train, val image size (pixels) | int | 640 |\n",
    "| rect | rectangular training | call | store_true |\n",
    "| resume | resume most recent training | bool | False |\n",
    "| nosave | only save final checkpoint | call | store_true |\n",
    "| noval | only validate final epoch | call | store_true |\n",
    "| noautoanchor | disable autoanchor check | call | store_true |\n",
    "| evolve | evolve hyperparameters for x generations | int | const:300 |\n",
    "| bucket | gsutil bucket | str | '' |\n",
    "| cache | --cache images in \"ram\" (default) or \"disk\" | str | const:'ram' |\n",
    "| image-weights | use weighted image selection for training | call | store_true |\n",
    "| device | cuda device, i.e. 0 or 0,1,2,3 or cpu | call | store_true |\n",
    "| multi-scale | vary img-size +/- 50%% | call | store_true |\n",
    "| single-cls | train multi-class data as single-class | call | store_true |\n",
    "| adam | use torch.optim.Adam() optimizer | call | store_true |\n",
    "| sync-bn | use SyncBatchNorm, only available in DDP mode | call | store_true |\n",
    "| workers | maximum number of dataloader workers | int | 8 |\n",
    "| project | save to project/name | N/A | runs/train |\n",
    "| entity | W&B entity | N/A | None |\n",
    "| name | save to project/name | N/A | 'exp' |\n",
    "| exist-ok | existing project/name ok, do not increment | call | store_true |\n",
    "| quad | quad dataloader | call | store_true |\n",
    "| linear-lr | linear LR | call | store_true |\n",
    "| label-smoothing | Label smoothing epsilon | float | 0.0 |\n",
    "| upload_dataset | Upload dataset as W&B artifact table | call | store_true |\n",
    "| bbox_interval | Set bounding-box image logging interval for W&B | int | -1 |\n",
    "| save_period | Log model after every \"save_period\" epoch | int | -1 |\n",
    "| artifact_alias | version of dataset artifact to be used | str | latest |\n",
    "| local_rank | DDP parameter, do not modify | int | -1 |\n",
    "| freeze | Number of layers to freeze. backbone=10, all=24 | int | 0 |\n",
    "| patience | EarlyStopping patience (epochs) | int | 1100 |\n"
   ]
  },
  {
   "cell_type": "markdown",
   "metadata": {},
   "source": [
    "# EXPERIMENT SET 1 "
   ]
  },
  {
   "cell_type": "markdown",
   "metadata": {},
   "source": [
    "# Experiment 1 (Crowd Yolo Model)\n",
    "\n",
    "### This section runs the experiments, prints results, and plots graphs for both dataset using the Crowd Yolo model."
   ]
  },
  {
   "cell_type": "code",
   "execution_count": null,
   "metadata": {},
   "outputs": [],
   "source": [
    "!pip install -r yolov5_master/requirements.txt\n",
    "!pip install python-utils\n",
    "!pip install tensorflow"
   ]
  },
  {
   "cell_type": "code",
   "execution_count": 1,
   "metadata": {},
   "outputs": [],
   "source": [
    "import os\n",
    "import torch\n",
    "import wandb\n",
    "#!pip install seaborn\n",
    "#!pip install torch\n",
    "#!pip3 install torch==1.10.1+cu113 torchvision==0.11.2+cu113 torchaudio===0.10.1+cu113 -f https://download.pytorch.org/whl/cu113/torch_stable.html --user\n",
    "#!wandb login --host=https://api.wandb.ai\n",
    "#!wandb login --relogin b0d31701f11706105f7eec6a2d5cff4f9e89b18c"
   ]
  },
  {
   "cell_type": "code",
   "execution_count": 2,
   "metadata": {},
   "outputs": [
    {
     "name": "stderr",
     "output_type": "stream",
     "text": [
      "YOLOv5  2022-1-18 torch 1.10.1+cu113 CUDA:0 (NVIDIA GeForce RTX 3090, 24575.5MB)\n",
      "\n",
      "\u001b[34m\u001b[1mhyperparameters: \u001b[0mlr0=0.01, lrf=0.2, momentum=0.937, weight_decay=0.0005, warmup_epochs=3.0, warmup_momentum=0.8, warmup_bias_lr=0.1, box=0.05, obj=1.0, cls=0.5, cls_pw=1.0, obj_pw=1.0, iou_t=0.2, anchor_t=4.0, fl_gamma=0, hsv_h=0.015, hsv_s=0.7, hsv_v=0.4, degrees=0.0, translate=0.1, scale=0.5, shear=0.0, perspective=0.0, flipud=0.0, fliplr=0.5, mosaic=1.0, mixup=0.0, copy_paste=0.0\n",
      "\u001b[34m\u001b[1mTensorBoard: \u001b[0mStart with 'tensorboard --logdir runs\\train', view at http://localhost:6006/\n"
     ]
    },
    {
     "name": "stdout",
     "output_type": "stream",
     "text": [
      "\u001b[34m\u001b[1mtrain: \u001b[0mbcc_epoch=0, qtfilter_epoch=-1, qt_thres_mode=, qt_thres=0.0, hybrid_entropy_thres=0.0, hybrid_conf_thres=0.0, weights=yolov5s.pt, cfg=, data=../data/cyolo.yaml, hyp=../data/hyps/hyp.scratch.yaml, epochs=80, batch_size=20, imgsz=640, rect=False, resume=False, nosave=False, noval=False, noautoanchor=False, evolve=None, bucket=, cache=None, image_weights=False, device=, multi_scale=False, single_cls=False, adam=False, sync_bn=False, workers=8, project=runs/train, entity=None, name=Expset1_all_cyolo, exist_ok=False, quad=False, linear_lr=False, label_smoothing=0.0, upload_dataset=False, bbox_interval=-1, save_period=-1, artifact_alias=latest, local_rank=-1, freeze=0, patience=1100\n",
      "\u001b[34m\u001b[1mgithub: \u001b[0mskipping check (not a git repository), for updates see https://github.com/ultralytics/yolov5\n"
     ]
    },
    {
     "name": "stderr",
     "output_type": "stream",
     "text": [
      "\u001b[34m\u001b[1mwandb\u001b[0m: Currently logged in as: \u001b[33mdddetection\u001b[0m (use `wandb login --relogin` to force relogin)\n"
     ]
    },
    {
     "data": {
      "text/html": [
       "\n",
       "                    Syncing run <strong><a href=\"https://wandb.ai/dddetection/YOLOv5/runs/340ouz2n\" target=\"_blank\">Expset1_all_cyolo</a></strong> to <a href=\"https://wandb.ai/dddetection/YOLOv5\" target=\"_blank\">Weights & Biases</a> (<a href=\"https://docs.wandb.com/integrations/jupyter.html\" target=\"_blank\">docs</a>).<br/>\n",
       "\n",
       "                "
      ],
      "text/plain": [
       "<IPython.core.display.HTML object>"
      ]
     },
     "metadata": {},
     "output_type": "display_data"
    },
    {
     "name": "stderr",
     "output_type": "stream",
     "text": [
      "Overriding model.yaml nc=80 with nc=2\n",
      "\n",
      "                 from  n    params  module                                  arguments                     \n",
      "  0                -1  1      3520  models.common.Conv                      [3, 32, 6, 2, 2]              \n",
      "  1                -1  1     18560  models.common.Conv                      [32, 64, 3, 2]                \n",
      "  2                -1  1     18816  models.common.C3                        [64, 64, 1]                   \n",
      "  3                -1  1     73984  models.common.Conv                      [64, 128, 3, 2]               \n",
      "  4                -1  2    115712  models.common.C3                        [128, 128, 2]                 \n",
      "  5                -1  1    295424  models.common.Conv                      [128, 256, 3, 2]              \n",
      "  6                -1  3    625152  models.common.C3                        [256, 256, 3]                 \n",
      "  7                -1  1   1180672  models.common.Conv                      [256, 512, 3, 2]              \n",
      "  8                -1  1   1182720  models.common.C3                        [512, 512, 1]                 \n",
      "  9                -1  1    656896  models.common.SPPF                      [512, 512, 5]                 \n",
      " 10                -1  1    131584  models.common.Conv                      [512, 256, 1, 1]              \n",
      " 11                -1  1         0  torch.nn.modules.upsampling.Upsample    [None, 2, 'nearest']          \n",
      " 12           [-1, 6]  1         0  models.common.Concat                    [1]                           \n",
      " 13                -1  1    361984  models.common.C3                        [512, 256, 1, False]          \n",
      " 14                -1  1     33024  models.common.Conv                      [256, 128, 1, 1]              \n",
      " 15                -1  1         0  torch.nn.modules.upsampling.Upsample    [None, 2, 'nearest']          \n",
      " 16           [-1, 4]  1         0  models.common.Concat                    [1]                           \n",
      " 17                -1  1     90880  models.common.C3                        [256, 128, 1, False]          \n",
      " 18                -1  1    147712  models.common.Conv                      [128, 128, 3, 2]              \n",
      " 19          [-1, 14]  1         0  models.common.Concat                    [1]                           \n",
      " 20                -1  1    296448  models.common.C3                        [256, 256, 1, False]          \n",
      " 21                -1  1    590336  models.common.Conv                      [256, 256, 3, 2]              \n",
      " 22          [-1, 10]  1         0  models.common.Concat                    [1]                           \n",
      " 23                -1  1   1182720  models.common.C3                        [512, 512, 1, False]          \n",
      " 24      [17, 20, 23]  1     18879  models.yolo.Detect                      [2, [[10, 13, 16, 30, 33, 23], [30, 61, 62, 45, 59, 119], [116, 90, 156, 198, 373, 326]], [128, 256, 512]]\n",
      "C:\\Users\\rb01243\\Anaconda3\\lib\\site-packages\\torch\\functional.py:445: UserWarning: torch.meshgrid: in an upcoming release, it will be required to pass the indexing argument. (Triggered internally at  ..\\aten\\src\\ATen\\native\\TensorShape.cpp:2157.)\n",
      "  return _VF.meshgrid(tensors, **kwargs)  # type: ignore[attr-defined]\n",
      "Model Summary: 270 layers, 7025023 parameters, 7025023 gradients, 15.9 GFLOPs\n",
      "\n",
      "Transferred 344/350 items from yolov5s.pt\n",
      "Scaled weight_decay = 0.00046875\n",
      "\u001b[34m\u001b[1moptimizer:\u001b[0m SGD with parameter groups 57 weight, 60 weight (no decay), 60 bias\n",
      "\u001b[34m\u001b[1mtrain: \u001b[0mScanning '..\\data\\datasets\\bcc-tvt\\labels\\train.cache' images and labels... 70 found, 0 missing, 3 empty, 0 corrupted: 100%|██████████| 70/70 [00:00<?, ?it/s]\n",
      "\u001b[34m\u001b[1mval: \u001b[0mScanning '..\\data\\datasets\\iid-tvt\\labels\\val.cache' images and labels... 67 found, 13 missing, 0 empty, 0 corrupted: 100%|██████████| 80/80 [00:00<?, ?it/s]\n"
     ]
    },
    {
     "name": "stdout",
     "output_type": "stream",
     "text": [
      "Plotting labels... \n"
     ]
    },
    {
     "name": "stderr",
     "output_type": "stream",
     "text": [
      "Image sizes 640 train, 640 val\n",
      "Using 8 dataloader workers\n",
      "Logging results to \u001b[1mruns\\train\\Expset1_all_cyolo2\u001b[0m\n",
      "Starting training for 80 epochs...\n",
      "\n",
      "     Epoch   gpu_mem       box       obj       cls    labels  img_size\n",
      "\n",
      "YOLO+BCC\n"
     ]
    },
    {
     "name": "stdout",
     "output_type": "stream",
     "text": [
      "\n",
      "\u001b[34m\u001b[1mautoanchor: \u001b[0mAnalyzing anchors... anchors/target = 6.03, Best Possible Recall (BPR) = 1.0000\n"
     ]
    },
    {
     "name": "stderr",
     "output_type": "stream",
     "text": [
      "  0%|          | 0/4 [00:00<?, ?it/s]"
     ]
    },
    {
     "name": "stdout",
     "output_type": "stream",
     "text": [
      "Minimum probs (c1, c2, bkgd): [1e-05, 1.4e-05, 0.890137]\n",
      "Maximum probs (c1, c2, bkgd): [0.075563, 0.064747, 1.0]\n"
     ]
    },
    {
     "name": "stderr",
     "output_type": "stream",
     "text": [
      "      0/79     7.44G         0   0.02265         0       222       640:  25%|██▌       | 1/4 [00:04<00:13,  4.56s/it]"
     ]
    },
    {
     "name": "stdout",
     "output_type": "stream",
     "text": [
      "Minimum probs (c1, c2, bkgd): [1.5e-05, 1.1e-05, 0.841797]\n",
      "Maximum probs (c1, c2, bkgd): [0.109224, 0.092917, 1.0]\n"
     ]
    },
    {
     "name": "stderr",
     "output_type": "stream",
     "text": [
      "      0/79     10.7G   0.06144   0.03272   0.01333       336       640:  50%|█████     | 2/4 [00:06<00:05,  2.94s/it]"
     ]
    },
    {
     "name": "stdout",
     "output_type": "stream",
     "text": [
      "Minimum probs (c1, c2, bkgd): [1.2e-05, 5e-06, 0.867676]\n",
      "Maximum probs (c1, c2, bkgd): [0.105859, 0.060043, 1.0]\n"
     ]
    },
    {
     "name": "stderr",
     "output_type": "stream",
     "text": [
      "      0/79       14G   0.08139   0.04379   0.01812       289       640:  75%|███████▌  | 3/4 [00:08<00:02,  2.64s/it]"
     ]
    },
    {
     "name": "stdout",
     "output_type": "stream",
     "text": [
      "Minimum probs (c1, c2, bkgd): [2.1e-05, 1.7e-05, 0.851074]\n",
      "Maximum probs (c1, c2, bkgd): [0.061872, 0.102043, 1.0]\n"
     ]
    },
    {
     "name": "stderr",
     "output_type": "stream",
     "text": [
      "      0/79       14G   0.09173   0.04891   0.02044       114       640: 100%|██████████| 4/4 [00:09<00:00,  2.28s/it]\n",
      "               Class     Images     Labels          P          R     mAP@.5 mAP@.5:.95: 100%|██████████| 2/2 [00:03<00:00,  1.96s/it]\n"
     ]
    },
    {
     "name": "stdout",
     "output_type": "stream",
     "text": [
      "                 all         80        220    0.00128    0.00515   0.000337   8.42e-05\n"
     ]
    },
    {
     "name": "stderr",
     "output_type": "stream",
     "text": [
      "               Class     Images     Labels          P          R     mAP@.5 mAP@.5:.95: 100%|██████████| 4/4 [00:01<00:00,  2.32it/s]\n"
     ]
    },
    {
     "name": "stdout",
     "output_type": "stream",
     "text": [
      "                 all         70        961    0.00292     0.0163    0.00135   0.000268\n"
     ]
    },
    {
     "name": "stderr",
     "output_type": "stream",
     "text": [
      "\n",
      "     Epoch   gpu_mem       box       obj       cls    labels  img_size\n",
      "\n",
      "YOLO+BCC\n",
      "  0%|          | 0/4 [00:00<?, ?it/s]"
     ]
    },
    {
     "name": "stdout",
     "output_type": "stream",
     "text": [
      "Minimum probs (c1, c2, bkgd): [6e-06, 9e-06, 0.911621]\n",
      "Maximum probs (c1, c2, bkgd): [0.060747, 0.057741, 1.0]\n"
     ]
    },
    {
     "name": "stderr",
     "output_type": "stream",
     "text": [
      "      1/79       12G    0.1209   0.07186   0.02778       222       640:  25%|██▌       | 1/4 [00:00<00:01,  2.37it/s]"
     ]
    },
    {
     "name": "stdout",
     "output_type": "stream",
     "text": [
      "Minimum probs (c1, c2, bkgd): [8e-06, 9e-06, 0.84375]\n",
      "Maximum probs (c1, c2, bkgd): [0.107163, 0.093981, 1.0]\n"
     ]
    },
    {
     "name": "stderr",
     "output_type": "stream",
     "text": [
      "      1/79       12G    0.1206   0.08033   0.02747       336       640:  50%|█████     | 2/4 [00:00<00:00,  2.40it/s]"
     ]
    },
    {
     "name": "stdout",
     "output_type": "stream",
     "text": [
      "Minimum probs (c1, c2, bkgd): [1.1e-05, 4e-06, 0.835449]\n",
      "Maximum probs (c1, c2, bkgd): [0.131572, 0.065468, 1.0]\n"
     ]
    },
    {
     "name": "stderr",
     "output_type": "stream",
     "text": [
      "      1/79     15.6G      0.12   0.08089   0.02777       114       640: 100%|██████████| 4/4 [00:01<00:00,  2.77it/s]\n"
     ]
    },
    {
     "name": "stdout",
     "output_type": "stream",
     "text": [
      "Minimum probs (c1, c2, bkgd): [1.4e-05, 1.6e-05, 0.844238]\n",
      "Maximum probs (c1, c2, bkgd): [0.069714, 0.104849, 1.0]\n"
     ]
    },
    {
     "name": "stderr",
     "output_type": "stream",
     "text": [
      "               Class     Images     Labels          P          R     mAP@.5 mAP@.5:.95: 100%|██████████| 2/2 [00:02<00:00,  1.08s/it]\n"
     ]
    },
    {
     "name": "stdout",
     "output_type": "stream",
     "text": [
      "                 all         80        220    0.00112    0.00515   0.000311   7.59e-05\n"
     ]
    },
    {
     "name": "stderr",
     "output_type": "stream",
     "text": [
      "               Class     Images     Labels          P          R     mAP@.5 mAP@.5:.95: 100%|██████████| 4/4 [00:01<00:00,  2.41it/s]\n"
     ]
    },
    {
     "name": "stdout",
     "output_type": "stream",
     "text": [
      "                 all         70        961    0.00287     0.0163    0.00129    0.00026\n"
     ]
    },
    {
     "name": "stderr",
     "output_type": "stream",
     "text": [
      "\n",
      "     Epoch   gpu_mem       box       obj       cls    labels  img_size\n",
      "\n",
      "YOLO+BCC\n",
      "  0%|          | 0/4 [00:00<?, ?it/s]"
     ]
    },
    {
     "name": "stdout",
     "output_type": "stream",
     "text": [
      "Minimum probs (c1, c2, bkgd): [4e-06, 8e-06, 0.913086]\n",
      "Maximum probs (c1, c2, bkgd): [0.058879, 0.054899, 1.0]\n"
     ]
    },
    {
     "name": "stderr",
     "output_type": "stream",
     "text": [
      "      2/79     12.2G    0.1181   0.07601   0.02777       222       640:  25%|██▌       | 1/4 [00:00<00:01,  2.23it/s]"
     ]
    },
    {
     "name": "stdout",
     "output_type": "stream",
     "text": [
      "Minimum probs (c1, c2, bkgd): [2e-06, 8e-06, 0.871094]\n",
      "Maximum probs (c1, c2, bkgd): [0.102116, 0.078691, 1.0]\n"
     ]
    },
    {
     "name": "stderr",
     "output_type": "stream",
     "text": [
      "      2/79     12.2G     0.117    0.0883   0.02757       336       640:  50%|█████     | 2/4 [00:00<00:00,  2.52it/s]"
     ]
    },
    {
     "name": "stdout",
     "output_type": "stream",
     "text": [
      "Minimum probs (c1, c2, bkgd): [1.1e-05, 3e-06, 0.825684]\n",
      "Maximum probs (c1, c2, bkgd): [0.138947, 0.066712, 1.0]\n"
     ]
    },
    {
     "name": "stderr",
     "output_type": "stream",
     "text": [
      "      2/79     15.6G    0.1162   0.08947   0.02779       114       640: 100%|██████████| 4/4 [00:01<00:00,  2.61it/s]\n"
     ]
    },
    {
     "name": "stdout",
     "output_type": "stream",
     "text": [
      "Minimum probs (c1, c2, bkgd): [7e-06, 1.7e-05, 0.836426]\n",
      "Maximum probs (c1, c2, bkgd): [0.077237, 0.108662, 1.0]\n"
     ]
    },
    {
     "name": "stderr",
     "output_type": "stream",
     "text": [
      "               Class     Images     Labels          P          R     mAP@.5 mAP@.5:.95: 100%|██████████| 2/2 [00:01<00:00,  1.13it/s]\n"
     ]
    },
    {
     "name": "stdout",
     "output_type": "stream",
     "text": [
      "                 all         80        220    0.00131    0.00515   0.000451   9.52e-05\n"
     ]
    },
    {
     "name": "stderr",
     "output_type": "stream",
     "text": [
      "               Class     Images     Labels          P          R     mAP@.5 mAP@.5:.95: 100%|██████████| 4/4 [00:01<00:00,  2.66it/s]\n"
     ]
    },
    {
     "name": "stdout",
     "output_type": "stream",
     "text": [
      "                 all         70        961    0.00297     0.0212    0.00127   0.000274\n"
     ]
    },
    {
     "name": "stderr",
     "output_type": "stream",
     "text": [
      "\n",
      "     Epoch   gpu_mem       box       obj       cls    labels  img_size\n",
      "\n",
      "YOLO+BCC\n",
      "  0%|          | 0/4 [00:00<?, ?it/s]"
     ]
    },
    {
     "name": "stdout",
     "output_type": "stream",
     "text": [
      "Minimum probs (c1, c2, bkgd): [7e-06, 6e-06, 0.898438]\n",
      "Maximum probs (c1, c2, bkgd): [0.081515, 0.060801, 1.0]\n"
     ]
    },
    {
     "name": "stderr",
     "output_type": "stream",
     "text": [
      "      3/79     12.2G    0.1127   0.08531   0.02755       222       640:  25%|██▌       | 1/4 [00:00<00:01,  2.17it/s]"
     ]
    },
    {
     "name": "stdout",
     "output_type": "stream",
     "text": [
      "Minimum probs (c1, c2, bkgd): [0.0, 4e-06, 0.88916]\n",
      "Maximum probs (c1, c2, bkgd): [0.094926, 0.052983, 1.0]\n"
     ]
    },
    {
     "name": "stderr",
     "output_type": "stream",
     "text": [
      "      3/79     12.4G    0.1115   0.09883   0.02746       336       640:  50%|█████     | 2/4 [00:00<00:00,  2.56it/s]"
     ]
    },
    {
     "name": "stdout",
     "output_type": "stream",
     "text": [
      "Minimum probs (c1, c2, bkgd): [9e-06, 3e-06, 0.833008]\n",
      "Maximum probs (c1, c2, bkgd): [0.13002, 0.072923, 1.0]\n"
     ]
    },
    {
     "name": "stderr",
     "output_type": "stream",
     "text": [
      "      3/79     15.6G    0.1106    0.1015   0.02772       114       640: 100%|██████████| 4/4 [00:01<00:00,  2.75it/s]\n"
     ]
    },
    {
     "name": "stdout",
     "output_type": "stream",
     "text": [
      "Minimum probs (c1, c2, bkgd): [6e-06, 1.6e-05, 0.850586]\n",
      "Maximum probs (c1, c2, bkgd): [0.080115, 0.091998, 1.0]\n"
     ]
    },
    {
     "name": "stderr",
     "output_type": "stream",
     "text": [
      "               Class     Images     Labels          P          R     mAP@.5 mAP@.5:.95: 100%|██████████| 2/2 [00:01<00:00,  1.35it/s]\n"
     ]
    },
    {
     "name": "stdout",
     "output_type": "stream",
     "text": [
      "                 all         80        220    0.00255    0.00258    0.00037   7.37e-05\n"
     ]
    },
    {
     "name": "stderr",
     "output_type": "stream",
     "text": [
      "               Class     Images     Labels          P          R     mAP@.5 mAP@.5:.95: 100%|██████████| 4/4 [00:01<00:00,  2.80it/s]\n"
     ]
    },
    {
     "name": "stdout",
     "output_type": "stream",
     "text": [
      "                 all         70        961    0.00284     0.0287    0.00134   0.000295\n"
     ]
    },
    {
     "name": "stderr",
     "output_type": "stream",
     "text": [
      "\n",
      "     Epoch   gpu_mem       box       obj       cls    labels  img_size\n",
      "\n",
      "YOLO+BCC\n",
      "  0%|          | 0/4 [00:00<?, ?it/s]"
     ]
    },
    {
     "name": "stdout",
     "output_type": "stream",
     "text": [
      "Minimum probs (c1, c2, bkgd): [7e-06, 8e-06, 0.901367]\n",
      "Maximum probs (c1, c2, bkgd): [0.063854, 0.06719, 1.0]\n"
     ]
    },
    {
     "name": "stderr",
     "output_type": "stream",
     "text": [
      "      4/79     12.6G    0.1068   0.09588   0.02737       222       640:  25%|██▌       | 1/4 [00:00<00:01,  2.49it/s]"
     ]
    },
    {
     "name": "stdout",
     "output_type": "stream",
     "text": [
      "Minimum probs (c1, c2, bkgd): [0.0, 3e-06, 0.873047]\n",
      "Maximum probs (c1, c2, bkgd): [0.107777, 0.076049, 1.0]\n"
     ]
    },
    {
     "name": "stderr",
     "output_type": "stream",
     "text": [
      "      4/79     12.8G    0.1056    0.1117   0.02731       336       640:  50%|█████     | 2/4 [00:00<00:00,  2.70it/s]"
     ]
    },
    {
     "name": "stdout",
     "output_type": "stream",
     "text": [
      "Minimum probs (c1, c2, bkgd): [8e-06, 3e-06, 0.837891]\n",
      "Maximum probs (c1, c2, bkgd): [0.123799, 0.086595, 1.0]\n"
     ]
    },
    {
     "name": "stderr",
     "output_type": "stream",
     "text": [
      "      4/79     15.6G    0.1046    0.1154   0.02764       114       640: 100%|██████████| 4/4 [00:01<00:00,  2.95it/s]\n"
     ]
    },
    {
     "name": "stdout",
     "output_type": "stream",
     "text": [
      "Minimum probs (c1, c2, bkgd): [7e-06, 1.4e-05, 0.839844]\n",
      "Maximum probs (c1, c2, bkgd): [0.08438, 0.081951, 1.0]\n"
     ]
    },
    {
     "name": "stderr",
     "output_type": "stream",
     "text": [
      "               Class     Images     Labels          P          R     mAP@.5 mAP@.5:.95: 100%|██████████| 2/2 [00:01<00:00,  1.31it/s]\n"
     ]
    },
    {
     "name": "stdout",
     "output_type": "stream",
     "text": [
      "                 all         80        220   0.000825     0.0541   0.000453   0.000103\n"
     ]
    },
    {
     "name": "stderr",
     "output_type": "stream",
     "text": [
      "               Class     Images     Labels          P          R     mAP@.5 mAP@.5:.95: 100%|██████████| 4/4 [00:01<00:00,  2.57it/s]\n"
     ]
    },
    {
     "name": "stdout",
     "output_type": "stream",
     "text": [
      "                 all         70        961    0.00359     0.0278     0.0017    0.00037\n"
     ]
    },
    {
     "name": "stderr",
     "output_type": "stream",
     "text": [
      "\n",
      "     Epoch   gpu_mem       box       obj       cls    labels  img_size\n",
      "\n",
      "YOLO+BCC\n",
      "  0%|          | 0/4 [00:00<?, ?it/s]"
     ]
    },
    {
     "name": "stdout",
     "output_type": "stream",
     "text": [
      "Minimum probs (c1, c2, bkgd): [6e-06, 1e-05, 0.875977]\n",
      "Maximum probs (c1, c2, bkgd): [0.06788, 0.082186, 1.0]\n"
     ]
    },
    {
     "name": "stderr",
     "output_type": "stream",
     "text": [
      "      5/79     12.6G    0.1009    0.1086   0.02715       222       640:  25%|██▌       | 1/4 [00:00<00:01,  2.32it/s]"
     ]
    },
    {
     "name": "stdout",
     "output_type": "stream",
     "text": [
      "Minimum probs (c1, c2, bkgd): [1e-06, 5e-06, 0.862305]\n",
      "Maximum probs (c1, c2, bkgd): [0.115931, 0.088337, 1.0]\n"
     ]
    },
    {
     "name": "stderr",
     "output_type": "stream",
     "text": [
      "      5/79     12.8G   0.09983    0.1249   0.02715       336       640:  50%|█████     | 2/4 [00:00<00:00,  2.48it/s]"
     ]
    },
    {
     "name": "stdout",
     "output_type": "stream",
     "text": [
      "Minimum probs (c1, c2, bkgd): [7e-06, 4e-06, 0.814453]\n",
      "Maximum probs (c1, c2, bkgd): [0.1411, 0.102156, 1.0]\n"
     ]
    },
    {
     "name": "stderr",
     "output_type": "stream",
     "text": [
      "      5/79     15.6G   0.09931    0.1276   0.02755       114       640: 100%|██████████| 4/4 [00:01<00:00,  2.77it/s]\n"
     ]
    },
    {
     "name": "stdout",
     "output_type": "stream",
     "text": [
      "Minimum probs (c1, c2, bkgd): [5e-06, 1.2e-05, 0.821289]\n",
      "Maximum probs (c1, c2, bkgd): [0.090426, 0.100092, 1.0]\n"
     ]
    },
    {
     "name": "stderr",
     "output_type": "stream",
     "text": [
      "               Class     Images     Labels          P          R     mAP@.5 mAP@.5:.95: 100%|██████████| 2/2 [00:01<00:00,  1.23it/s]\n"
     ]
    },
    {
     "name": "stdout",
     "output_type": "stream",
     "text": [
      "                 all         80        220   0.000959     0.0644   0.000549   0.000139\n"
     ]
    },
    {
     "name": "stderr",
     "output_type": "stream",
     "text": [
      "               Class     Images     Labels          P          R     mAP@.5 mAP@.5:.95: 100%|██████████| 4/4 [00:01<00:00,  2.42it/s]\n"
     ]
    },
    {
     "name": "stdout",
     "output_type": "stream",
     "text": [
      "                 all         70        961    0.00436     0.0295     0.0022   0.000456\n"
     ]
    },
    {
     "name": "stderr",
     "output_type": "stream",
     "text": [
      "\n",
      "     Epoch   gpu_mem       box       obj       cls    labels  img_size\n",
      "\n",
      "YOLO+BCC\n",
      "  0%|          | 0/4 [00:00<?, ?it/s]"
     ]
    },
    {
     "name": "stdout",
     "output_type": "stream",
     "text": [
      "Minimum probs (c1, c2, bkgd): [6e-06, 8e-06, 0.84668]\n",
      "Maximum probs (c1, c2, bkgd): [0.073909, 0.099067, 1.0]\n"
     ]
    },
    {
     "name": "stderr",
     "output_type": "stream",
     "text": [
      "      6/79     12.6G   0.09614    0.1173   0.02704       222       640:  25%|██▌       | 1/4 [00:00<00:01,  2.33it/s]"
     ]
    },
    {
     "name": "stdout",
     "output_type": "stream",
     "text": [
      "Minimum probs (c1, c2, bkgd): [0.0, 4e-06, 0.831543]\n",
      "Maximum probs (c1, c2, bkgd): [0.121039, 0.106667, 1.0]\n"
     ]
    },
    {
     "name": "stderr",
     "output_type": "stream",
     "text": [
      "      6/79     12.8G   0.09542    0.1346   0.02706       336       640:  50%|█████     | 2/4 [00:00<00:00,  2.46it/s]"
     ]
    },
    {
     "name": "stdout",
     "output_type": "stream",
     "text": [
      "Minimum probs (c1, c2, bkgd): [7e-06, 4e-06, 0.82373]\n",
      "Maximum probs (c1, c2, bkgd): [0.129718, 0.109636, 1.0]\n"
     ]
    },
    {
     "name": "stderr",
     "output_type": "stream",
     "text": [
      "      6/79     15.6G   0.09531     0.137   0.02749       114       640: 100%|██████████| 4/4 [00:01<00:00,  2.79it/s]\n"
     ]
    },
    {
     "name": "stdout",
     "output_type": "stream",
     "text": [
      "Minimum probs (c1, c2, bkgd): [4e-06, 1.1e-05, 0.813477]\n",
      "Maximum probs (c1, c2, bkgd): [0.116574, 0.095046, 1.0]\n"
     ]
    },
    {
     "name": "stderr",
     "output_type": "stream",
     "text": [
      "               Class     Images     Labels          P          R     mAP@.5 mAP@.5:.95: 100%|██████████| 2/2 [00:01<00:00,  1.07it/s]\n"
     ]
    },
    {
     "name": "stdout",
     "output_type": "stream",
     "text": [
      "                 all         80        220    0.00135     0.0103   0.000669   0.000171\n"
     ]
    },
    {
     "name": "stderr",
     "output_type": "stream",
     "text": [
      "               Class     Images     Labels          P          R     mAP@.5 mAP@.5:.95: 100%|██████████| 4/4 [00:01<00:00,  2.13it/s]\n"
     ]
    },
    {
     "name": "stdout",
     "output_type": "stream",
     "text": [
      "                 all         70        961    0.00543     0.0342    0.00282   0.000535\n"
     ]
    },
    {
     "name": "stderr",
     "output_type": "stream",
     "text": [
      "\n",
      "     Epoch   gpu_mem       box       obj       cls    labels  img_size\n",
      "\n",
      "YOLO+BCC\n",
      "  0%|          | 0/4 [00:00<?, ?it/s]"
     ]
    },
    {
     "name": "stdout",
     "output_type": "stream",
     "text": [
      "Minimum probs (c1, c2, bkgd): [5e-06, 8e-06, 0.774414]\n",
      "Maximum probs (c1, c2, bkgd): [0.107249, 0.123746, 1.0]\n"
     ]
    },
    {
     "name": "stderr",
     "output_type": "stream",
     "text": [
      "      7/79     12.6G   0.09291    0.1237   0.02693       222       640:  25%|██▌       | 1/4 [00:00<00:01,  2.36it/s]"
     ]
    },
    {
     "name": "stdout",
     "output_type": "stream",
     "text": [
      "Minimum probs (c1, c2, bkgd): [1e-06, 7e-06, 0.74707]\n",
      "Maximum probs (c1, c2, bkgd): [0.132718, 0.166291, 1.0]\n"
     ]
    },
    {
     "name": "stderr",
     "output_type": "stream",
     "text": [
      "      7/79     12.8G   0.09244    0.1418   0.02693       336       640:  50%|█████     | 2/4 [00:00<00:00,  2.61it/s]"
     ]
    },
    {
     "name": "stdout",
     "output_type": "stream",
     "text": [
      "Minimum probs (c1, c2, bkgd): [9e-06, 5e-06, 0.823242]\n",
      "Maximum probs (c1, c2, bkgd): [0.125584, 0.117781, 1.0]\n"
     ]
    },
    {
     "name": "stderr",
     "output_type": "stream",
     "text": [
      "      7/79     15.6G   0.09255    0.1437   0.02741       114       640: 100%|██████████| 4/4 [00:01<00:00,  2.86it/s]\n"
     ]
    },
    {
     "name": "stdout",
     "output_type": "stream",
     "text": [
      "Minimum probs (c1, c2, bkgd): [4e-06, 1e-05, 0.805664]\n",
      "Maximum probs (c1, c2, bkgd): [0.121937, 0.090762, 1.0]\n"
     ]
    },
    {
     "name": "stderr",
     "output_type": "stream",
     "text": [
      "               Class     Images     Labels          P          R     mAP@.5 mAP@.5:.95: 100%|██████████| 2/2 [00:03<00:00,  1.82s/it]\n"
     ]
    },
    {
     "name": "stdout",
     "output_type": "stream",
     "text": [
      "                 all         80        220    0.00588     0.0129    0.00132   0.000297\n"
     ]
    },
    {
     "name": "stderr",
     "output_type": "stream",
     "text": [
      "               Class     Images     Labels          P          R     mAP@.5 mAP@.5:.95: 100%|██████████| 4/4 [00:02<00:00,  1.83it/s]\n"
     ]
    },
    {
     "name": "stdout",
     "output_type": "stream",
     "text": [
      "                 all         70        961    0.00986     0.0243    0.00571    0.00122\n"
     ]
    },
    {
     "name": "stderr",
     "output_type": "stream",
     "text": [
      "\n",
      "     Epoch   gpu_mem       box       obj       cls    labels  img_size\n",
      "\n",
      "YOLO+BCC\n",
      "  0%|          | 0/4 [00:00<?, ?it/s]"
     ]
    },
    {
     "name": "stdout",
     "output_type": "stream",
     "text": [
      "Minimum probs (c1, c2, bkgd): [4e-06, 8e-06, 0.613281]\n",
      "Maximum probs (c1, c2, bkgd): [0.179511, 0.207208, 1.0]\n"
     ]
    },
    {
     "name": "stderr",
     "output_type": "stream",
     "text": [
      "      8/79     12.5G   0.09071    0.1266   0.02684       222       640:  25%|██▌       | 1/4 [00:00<00:01,  1.66it/s]"
     ]
    },
    {
     "name": "stdout",
     "output_type": "stream",
     "text": [
      "Minimum probs (c1, c2, bkgd): [1e-06, 6e-06, 0.569824]\n",
      "Maximum probs (c1, c2, bkgd): [0.140179, 0.301602, 1.0]\n"
     ]
    },
    {
     "name": "stderr",
     "output_type": "stream",
     "text": [
      "      8/79     12.7G    0.0903    0.1447   0.02684       336       640:  50%|█████     | 2/4 [00:00<00:00,  2.23it/s]"
     ]
    },
    {
     "name": "stdout",
     "output_type": "stream",
     "text": [
      "Minimum probs (c1, c2, bkgd): [9e-06, 6e-06, 0.806641]\n",
      "Maximum probs (c1, c2, bkgd): [0.10979, 0.148652, 1.0]\n"
     ]
    },
    {
     "name": "stderr",
     "output_type": "stream",
     "text": [
      "      8/79     15.6G   0.09056     0.147   0.02733       114       640: 100%|██████████| 4/4 [00:01<00:00,  2.59it/s]\n"
     ]
    },
    {
     "name": "stdout",
     "output_type": "stream",
     "text": [
      "Minimum probs (c1, c2, bkgd): [4e-06, 1e-05, 0.793457]\n",
      "Maximum probs (c1, c2, bkgd): [0.11959, 0.130881, 1.0]\n"
     ]
    },
    {
     "name": "stderr",
     "output_type": "stream",
     "text": [
      "               Class     Images     Labels          P          R     mAP@.5 mAP@.5:.95: 100%|██████████| 2/2 [00:02<00:00,  1.33s/it]\n"
     ]
    },
    {
     "name": "stdout",
     "output_type": "stream",
     "text": [
      "                 all         80        220     0.0416      0.018     0.0043    0.00108\n"
     ]
    },
    {
     "name": "stderr",
     "output_type": "stream",
     "text": [
      "               Class     Images     Labels          P          R     mAP@.5 mAP@.5:.95: 100%|██████████| 4/4 [00:02<00:00,  1.61it/s]\n"
     ]
    },
    {
     "name": "stdout",
     "output_type": "stream",
     "text": [
      "                 all         70        961     0.0209     0.0286    0.00871    0.00176\n"
     ]
    },
    {
     "name": "stderr",
     "output_type": "stream",
     "text": [
      "\n",
      "     Epoch   gpu_mem       box       obj       cls    labels  img_size\n",
      "\n",
      "YOLO+BCC\n",
      "  0%|          | 0/4 [00:00<?, ?it/s]"
     ]
    },
    {
     "name": "stdout",
     "output_type": "stream",
     "text": [
      "Minimum probs (c1, c2, bkgd): [4e-06, 8e-06, 0.450195]\n",
      "Maximum probs (c1, c2, bkgd): [0.234886, 0.314918, 1.0]\n"
     ]
    },
    {
     "name": "stderr",
     "output_type": "stream",
     "text": [
      "      9/79     12.7G   0.08902    0.1267   0.02675       222       640:  25%|██▌       | 1/4 [00:00<00:01,  1.89it/s]"
     ]
    },
    {
     "name": "stdout",
     "output_type": "stream",
     "text": [
      "Minimum probs (c1, c2, bkgd): [1e-06, 5e-06, 0.415039]\n",
      "Maximum probs (c1, c2, bkgd): [0.163669, 0.421292, 1.0]\n"
     ]
    },
    {
     "name": "stderr",
     "output_type": "stream",
     "text": [
      "      9/79     12.9G   0.08861     0.145   0.02672       336       640:  50%|█████     | 2/4 [00:00<00:00,  2.35it/s]"
     ]
    },
    {
     "name": "stdout",
     "output_type": "stream",
     "text": [
      "Minimum probs (c1, c2, bkgd): [7e-06, 6e-06, 0.753418]\n",
      "Maximum probs (c1, c2, bkgd): [0.102003, 0.195011, 1.0]\n"
     ]
    },
    {
     "name": "stderr",
     "output_type": "stream",
     "text": [
      "      9/79     15.6G   0.08886    0.1472   0.02723       114       640: 100%|██████████| 4/4 [00:01<00:00,  2.73it/s]\n"
     ]
    },
    {
     "name": "stdout",
     "output_type": "stream",
     "text": [
      "Minimum probs (c1, c2, bkgd): [3e-06, 9e-06, 0.701172]\n",
      "Maximum probs (c1, c2, bkgd): [0.211426, 0.223832, 1.0]\n"
     ]
    },
    {
     "name": "stderr",
     "output_type": "stream",
     "text": [
      "               Class     Images     Labels          P          R     mAP@.5 mAP@.5:.95: 100%|██████████| 2/2 [00:03<00:00,  1.58s/it]\n"
     ]
    },
    {
     "name": "stdout",
     "output_type": "stream",
     "text": [
      "                 all         80        220     0.0518     0.0567     0.0198     0.0055\n"
     ]
    },
    {
     "name": "stderr",
     "output_type": "stream",
     "text": [
      "               Class     Images     Labels          P          R     mAP@.5 mAP@.5:.95: 100%|██████████| 4/4 [00:02<00:00,  1.34it/s]\n"
     ]
    },
    {
     "name": "stdout",
     "output_type": "stream",
     "text": [
      "                 all         70        961     0.0416     0.0455     0.0178     0.0039\n"
     ]
    },
    {
     "name": "stderr",
     "output_type": "stream",
     "text": [
      "\n",
      "     Epoch   gpu_mem       box       obj       cls    labels  img_size\n",
      "\n",
      "YOLO+BCC\n",
      "  0%|          | 0/4 [00:00<?, ?it/s]"
     ]
    },
    {
     "name": "stdout",
     "output_type": "stream",
     "text": [
      "Minimum probs (c1, c2, bkgd): [4e-06, 6e-06, 0.276855]\n",
      "Maximum probs (c1, c2, bkgd): [0.277189, 0.469022, 1.0]\n"
     ]
    },
    {
     "name": "stderr",
     "output_type": "stream",
     "text": [
      "     10/79     12.9G   0.08736    0.1249   0.02666       222       640:  25%|██▌       | 1/4 [00:00<00:01,  1.67it/s]"
     ]
    },
    {
     "name": "stdout",
     "output_type": "stream",
     "text": [
      "Minimum probs (c1, c2, bkgd): [1e-06, 5e-06, 0.309082]\n",
      "Maximum probs (c1, c2, bkgd): [0.196856, 0.532674, 1.0]\n"
     ]
    },
    {
     "name": "stderr",
     "output_type": "stream",
     "text": [
      "     10/79     12.9G     0.087    0.1425   0.02667       336       640:  50%|█████     | 2/4 [00:00<00:00,  2.21it/s]"
     ]
    },
    {
     "name": "stdout",
     "output_type": "stream",
     "text": [
      "Minimum probs (c1, c2, bkgd): [7e-06, 5e-06, 0.599609]\n",
      "Maximum probs (c1, c2, bkgd): [0.148027, 0.295805, 1.0]\n"
     ]
    },
    {
     "name": "stderr",
     "output_type": "stream",
     "text": [
      "     10/79     15.5G    0.0873    0.1447   0.02719       114       640: 100%|██████████| 4/4 [00:01<00:00,  2.58it/s]\n"
     ]
    },
    {
     "name": "stdout",
     "output_type": "stream",
     "text": [
      "Minimum probs (c1, c2, bkgd): [3e-06, 8e-06, 0.467773]\n",
      "Maximum probs (c1, c2, bkgd): [0.365543, 0.366869, 1.0]\n"
     ]
    },
    {
     "name": "stderr",
     "output_type": "stream",
     "text": [
      "               Class     Images     Labels          P          R     mAP@.5 mAP@.5:.95: 100%|██████████| 2/2 [00:03<00:00,  1.73s/it]\n"
     ]
    },
    {
     "name": "stdout",
     "output_type": "stream",
     "text": [
      "                 all         80        220     0.0789     0.0619      0.023    0.00421\n"
     ]
    },
    {
     "name": "stderr",
     "output_type": "stream",
     "text": [
      "               Class     Images     Labels          P          R     mAP@.5 mAP@.5:.95: 100%|██████████| 4/4 [00:03<00:00,  1.21it/s]\n"
     ]
    },
    {
     "name": "stdout",
     "output_type": "stream",
     "text": [
      "                 all         70        961     0.0615     0.0857     0.0317    0.00645\n"
     ]
    },
    {
     "name": "stderr",
     "output_type": "stream",
     "text": [
      "\n",
      "     Epoch   gpu_mem       box       obj       cls    labels  img_size\n",
      "\n",
      "YOLO+BCC\n",
      "  0%|          | 0/4 [00:00<?, ?it/s]"
     ]
    },
    {
     "name": "stdout",
     "output_type": "stream",
     "text": [
      "Minimum probs (c1, c2, bkgd): [4e-06, 5e-06, 0.139648]\n",
      "Maximum probs (c1, c2, bkgd): [0.289739, 0.634222, 1.0]\n"
     ]
    },
    {
     "name": "stderr",
     "output_type": "stream",
     "text": [
      "     11/79       13G    0.0861    0.1226    0.0266       222       640:  25%|██▌       | 1/4 [00:00<00:01,  2.34it/s]"
     ]
    },
    {
     "name": "stdout",
     "output_type": "stream",
     "text": [
      "Minimum probs (c1, c2, bkgd): [0.0, 4e-06, 0.230957]\n",
      "Maximum probs (c1, c2, bkgd): [0.232897, 0.630919, 1.0]\n"
     ]
    },
    {
     "name": "stderr",
     "output_type": "stream",
     "text": [
      "     11/79       13G    0.0857     0.139   0.02661       336       640:  50%|█████     | 2/4 [00:00<00:00,  2.52it/s]"
     ]
    },
    {
     "name": "stdout",
     "output_type": "stream",
     "text": [
      "Minimum probs (c1, c2, bkgd): [6e-06, 3e-06, 0.255371]\n",
      "Maximum probs (c1, c2, bkgd): [0.300064, 0.451885, 1.0]\n"
     ]
    },
    {
     "name": "stderr",
     "output_type": "stream",
     "text": [
      "     11/79     15.5G   0.08589    0.1413   0.02713       114       640: 100%|██████████| 4/4 [00:01<00:00,  2.91it/s]\n"
     ]
    },
    {
     "name": "stdout",
     "output_type": "stream",
     "text": [
      "Minimum probs (c1, c2, bkgd): [3e-06, 1e-05, 0.311523]\n",
      "Maximum probs (c1, c2, bkgd): [0.456099, 0.472815, 1.0]\n"
     ]
    },
    {
     "name": "stderr",
     "output_type": "stream",
     "text": [
      "               Class     Images     Labels          P          R     mAP@.5 mAP@.5:.95: 100%|██████████| 2/2 [00:03<00:00,  1.77s/it]\n"
     ]
    },
    {
     "name": "stdout",
     "output_type": "stream",
     "text": [
      "                 all         80        220     0.0791     0.0541     0.0228    0.00357\n"
     ]
    },
    {
     "name": "stderr",
     "output_type": "stream",
     "text": [
      "               Class     Images     Labels          P          R     mAP@.5 mAP@.5:.95: 100%|██████████| 4/4 [00:03<00:00,  1.16it/s]\n"
     ]
    },
    {
     "name": "stdout",
     "output_type": "stream",
     "text": [
      "                 all         70        961     0.0878      0.107     0.0468    0.00856\n"
     ]
    },
    {
     "name": "stderr",
     "output_type": "stream",
     "text": [
      "\n",
      "     Epoch   gpu_mem       box       obj       cls    labels  img_size\n",
      "\n",
      "YOLO+BCC\n",
      "  0%|          | 0/4 [00:00<?, ?it/s]"
     ]
    },
    {
     "name": "stdout",
     "output_type": "stream",
     "text": [
      "Minimum probs (c1, c2, bkgd): [4e-06, 5e-06, 0.077637]\n",
      "Maximum probs (c1, c2, bkgd): [0.311688, 0.700155, 1.0]\n"
     ]
    },
    {
     "name": "stderr",
     "output_type": "stream",
     "text": [
      "     12/79     12.9G   0.08468    0.1204   0.02649       222       640:  25%|██▌       | 1/4 [00:00<00:01,  2.30it/s]"
     ]
    },
    {
     "name": "stdout",
     "output_type": "stream",
     "text": [
      "Minimum probs (c1, c2, bkgd): [5e-06, 6e-06, 0.173828]\n",
      "Maximum probs (c1, c2, bkgd): [0.299144, 0.679096, 1.0]\n"
     ]
    },
    {
     "name": "stderr",
     "output_type": "stream",
     "text": [
      "     12/79     12.9G   0.08425    0.1358   0.02649       336       640:  50%|█████     | 2/4 [00:00<00:00,  2.43it/s]"
     ]
    },
    {
     "name": "stdout",
     "output_type": "stream",
     "text": [
      "Minimum probs (c1, c2, bkgd): [6e-06, 3e-06, 0.148438]\n",
      "Maximum probs (c1, c2, bkgd): [0.382718, 0.527112, 1.0]\n"
     ]
    },
    {
     "name": "stderr",
     "output_type": "stream",
     "text": [
      "     12/79     15.5G   0.08441     0.138   0.02699       114       640: 100%|██████████| 4/4 [00:01<00:00,  2.77it/s]\n"
     ]
    },
    {
     "name": "stdout",
     "output_type": "stream",
     "text": [
      "Minimum probs (c1, c2, bkgd): [3e-06, 4e-06, 0.174316]\n",
      "Maximum probs (c1, c2, bkgd): [0.477056, 0.652411, 1.0]\n"
     ]
    },
    {
     "name": "stderr",
     "output_type": "stream",
     "text": [
      "               Class     Images     Labels          P          R     mAP@.5 mAP@.5:.95: 100%|██████████| 2/2 [00:03<00:00,  1.76s/it]\n"
     ]
    },
    {
     "name": "stdout",
     "output_type": "stream",
     "text": [
      "                 all         80        220      0.043      0.111      0.025    0.00385\n"
     ]
    },
    {
     "name": "stderr",
     "output_type": "stream",
     "text": [
      "               Class     Images     Labels          P          R     mAP@.5 mAP@.5:.95: 100%|██████████| 4/4 [00:03<00:00,  1.22it/s]\n"
     ]
    },
    {
     "name": "stdout",
     "output_type": "stream",
     "text": [
      "                 all         70        961      0.102      0.126     0.0533    0.00993\n"
     ]
    },
    {
     "name": "stderr",
     "output_type": "stream",
     "text": [
      "\n",
      "     Epoch   gpu_mem       box       obj       cls    labels  img_size\n",
      "\n",
      "YOLO+BCC\n",
      "  0%|          | 0/4 [00:00<?, ?it/s]"
     ]
    },
    {
     "name": "stdout",
     "output_type": "stream",
     "text": [
      "Minimum probs (c1, c2, bkgd): [4e-06, 6e-06, 0.059082]\n",
      "Maximum probs (c1, c2, bkgd): [0.357374, 0.696574, 1.0]\n"
     ]
    },
    {
     "name": "stderr",
     "output_type": "stream",
     "text": [
      "     13/79     13.1G   0.08377     0.117   0.02626       222       640:  25%|██▌       | 1/4 [00:00<00:01,  1.91it/s]"
     ]
    },
    {
     "name": "stdout",
     "output_type": "stream",
     "text": [
      "Minimum probs (c1, c2, bkgd): [4e-06, 5e-06, 0.120117]\n",
      "Maximum probs (c1, c2, bkgd): [0.407136, 0.682264, 1.0]\n"
     ]
    },
    {
     "name": "stderr",
     "output_type": "stream",
     "text": [
      "     13/79     13.1G   0.08375    0.1315   0.02629       336       640:  50%|█████     | 2/4 [00:00<00:00,  2.35it/s]"
     ]
    },
    {
     "name": "stdout",
     "output_type": "stream",
     "text": [
      "Minimum probs (c1, c2, bkgd): [6e-06, 3e-06, 0.103027]\n",
      "Maximum probs (c1, c2, bkgd): [0.405076, 0.594926, 1.0]\n"
     ]
    },
    {
     "name": "stderr",
     "output_type": "stream",
     "text": [
      "     13/79     15.6G    0.0835    0.1343    0.0267       114       640: 100%|██████████| 4/4 [00:01<00:00,  2.73it/s]\n"
     ]
    },
    {
     "name": "stdout",
     "output_type": "stream",
     "text": [
      "Minimum probs (c1, c2, bkgd): [2e-06, 3e-06, 0.164551]\n",
      "Maximum probs (c1, c2, bkgd): [0.437558, 0.649351, 1.0]\n"
     ]
    },
    {
     "name": "stderr",
     "output_type": "stream",
     "text": [
      "               Class     Images     Labels          P          R     mAP@.5 mAP@.5:.95: 100%|██████████| 2/2 [00:03<00:00,  1.69s/it]\n"
     ]
    },
    {
     "name": "stdout",
     "output_type": "stream",
     "text": [
      "                 all         80        220     0.0432     0.0902     0.0241    0.00497\n"
     ]
    },
    {
     "name": "stderr",
     "output_type": "stream",
     "text": [
      "               Class     Images     Labels          P          R     mAP@.5 mAP@.5:.95: 100%|██████████| 4/4 [00:03<00:00,  1.28it/s]\n"
     ]
    },
    {
     "name": "stdout",
     "output_type": "stream",
     "text": [
      "                 all         70        961     0.0924      0.135     0.0533    0.00998\n"
     ]
    },
    {
     "name": "stderr",
     "output_type": "stream",
     "text": [
      "\n",
      "     Epoch   gpu_mem       box       obj       cls    labels  img_size\n",
      "\n",
      "YOLO+BCC\n",
      "  0%|          | 0/4 [00:00<?, ?it/s]"
     ]
    },
    {
     "name": "stdout",
     "output_type": "stream",
     "text": [
      "Minimum probs (c1, c2, bkgd): [3e-06, 5e-06, 0.04248]\n",
      "Maximum probs (c1, c2, bkgd): [0.430537, 0.723443, 1.0]\n"
     ]
    },
    {
     "name": "stderr",
     "output_type": "stream",
     "text": [
      "     14/79     12.9G   0.08295    0.1144   0.02595       222       640:  25%|██▌       | 1/4 [00:00<00:01,  1.72it/s]"
     ]
    },
    {
     "name": "stdout",
     "output_type": "stream",
     "text": [
      "Minimum probs (c1, c2, bkgd): [6e-06, 5e-06, 0.091797]\n",
      "Maximum probs (c1, c2, bkgd): [0.428781, 0.66607, 1.0]\n"
     ]
    },
    {
     "name": "stderr",
     "output_type": "stream",
     "text": [
      "     14/79     12.9G   0.08265    0.1279   0.02593       336       640:  50%|█████     | 2/4 [00:00<00:00,  2.25it/s]"
     ]
    },
    {
     "name": "stdout",
     "output_type": "stream",
     "text": [
      "Minimum probs (c1, c2, bkgd): [6e-06, 3e-06, 0.112793]\n",
      "Maximum probs (c1, c2, bkgd): [0.478784, 0.511774, 1.0]\n"
     ]
    },
    {
     "name": "stderr",
     "output_type": "stream",
     "text": [
      "     14/79     15.6G   0.08207    0.1308   0.02629       114       640: 100%|██████████| 4/4 [00:01<00:00,  2.64it/s]\n"
     ]
    },
    {
     "name": "stdout",
     "output_type": "stream",
     "text": [
      "Minimum probs (c1, c2, bkgd): [5e-06, 4e-06, 0.154785]\n",
      "Maximum probs (c1, c2, bkgd): [0.462078, 0.603825, 1.0]\n"
     ]
    },
    {
     "name": "stderr",
     "output_type": "stream",
     "text": [
      "               Class     Images     Labels          P          R     mAP@.5 mAP@.5:.95: 100%|██████████| 2/2 [00:03<00:00,  1.54s/it]\n"
     ]
    },
    {
     "name": "stdout",
     "output_type": "stream",
     "text": [
      "                 all         80        220     0.0368     0.0593     0.0208    0.00403\n"
     ]
    },
    {
     "name": "stderr",
     "output_type": "stream",
     "text": [
      "               Class     Images     Labels          P          R     mAP@.5 mAP@.5:.95: 100%|██████████| 4/4 [00:02<00:00,  1.42it/s]\n"
     ]
    },
    {
     "name": "stdout",
     "output_type": "stream",
     "text": [
      "                 all         70        961      0.104      0.108     0.0515    0.00968\n"
     ]
    },
    {
     "name": "stderr",
     "output_type": "stream",
     "text": [
      "\n",
      "     Epoch   gpu_mem       box       obj       cls    labels  img_size\n",
      "\n",
      "YOLO+BCC\n",
      "  0%|          | 0/4 [00:00<?, ?it/s]"
     ]
    },
    {
     "name": "stdout",
     "output_type": "stream",
     "text": [
      "Minimum probs (c1, c2, bkgd): [4e-06, 7e-06, 0.061523]\n",
      "Maximum probs (c1, c2, bkgd): [0.56344, 0.646489, 1.0]\n"
     ]
    },
    {
     "name": "stderr",
     "output_type": "stream",
     "text": [
      "     15/79     12.9G   0.07954    0.1123   0.02509       222       640:  25%|██▌       | 1/4 [00:00<00:01,  2.02it/s]"
     ]
    },
    {
     "name": "stdout",
     "output_type": "stream",
     "text": [
      "Minimum probs (c1, c2, bkgd): [5e-06, 5e-06, 0.096191]\n",
      "Maximum probs (c1, c2, bkgd): [0.505522, 0.645818, 1.0]\n"
     ]
    },
    {
     "name": "stderr",
     "output_type": "stream",
     "text": [
      "     15/79     12.9G   0.08002    0.1245   0.02516       336       640:  50%|█████     | 2/4 [00:00<00:00,  2.41it/s]"
     ]
    },
    {
     "name": "stdout",
     "output_type": "stream",
     "text": [
      "Minimum probs (c1, c2, bkgd): [5e-06, 3e-06, 0.121094]\n",
      "Maximum probs (c1, c2, bkgd): [0.505874, 0.499678, 1.0]\n"
     ]
    },
    {
     "name": "stderr",
     "output_type": "stream",
     "text": [
      "     15/79     15.6G   0.07971    0.1275   0.02561       114       640: 100%|██████████| 4/4 [00:01<00:00,  2.78it/s]\n"
     ]
    },
    {
     "name": "stdout",
     "output_type": "stream",
     "text": [
      "Minimum probs (c1, c2, bkgd): [4e-06, 5e-06, 0.166992]\n",
      "Maximum probs (c1, c2, bkgd): [0.493883, 0.511458, 1.0]\n"
     ]
    },
    {
     "name": "stderr",
     "output_type": "stream",
     "text": [
      "               Class     Images     Labels          P          R     mAP@.5 mAP@.5:.95: 100%|██████████| 2/2 [00:04<00:00,  2.10s/it]\n"
     ]
    },
    {
     "name": "stdout",
     "output_type": "stream",
     "text": [
      "                 all         80        220     0.0314     0.0954     0.0195    0.00357\n"
     ]
    },
    {
     "name": "stderr",
     "output_type": "stream",
     "text": [
      "               Class     Images     Labels          P          R     mAP@.5 mAP@.5:.95: 100%|██████████| 4/4 [00:02<00:00,  1.54it/s]\n"
     ]
    },
    {
     "name": "stdout",
     "output_type": "stream",
     "text": [
      "                 all         70        961     0.0916       0.14     0.0523    0.00982\n"
     ]
    },
    {
     "name": "stderr",
     "output_type": "stream",
     "text": [
      "\n",
      "     Epoch   gpu_mem       box       obj       cls    labels  img_size\n",
      "\n",
      "YOLO+BCC\n",
      "  0%|          | 0/4 [00:00<?, ?it/s]"
     ]
    },
    {
     "name": "stdout",
     "output_type": "stream",
     "text": [
      "Minimum probs (c1, c2, bkgd): [3e-06, 8e-06, 0.084961]\n",
      "Maximum probs (c1, c2, bkgd): [0.61629, 0.577312, 1.0]\n"
     ]
    },
    {
     "name": "stderr",
     "output_type": "stream",
     "text": [
      "     16/79     12.9G   0.07693    0.1095   0.02403       222       640:  25%|██▌       | 1/4 [00:00<00:01,  2.68it/s]"
     ]
    },
    {
     "name": "stdout",
     "output_type": "stream",
     "text": [
      "Minimum probs (c1, c2, bkgd): [3e-06, 3e-06, 0.106934]\n",
      "Maximum probs (c1, c2, bkgd): [0.594446, 0.605427, 1.0]\n"
     ]
    },
    {
     "name": "stderr",
     "output_type": "stream",
     "text": [
      "     16/79     12.9G   0.07758     0.121   0.02412       336       640:  50%|█████     | 2/4 [00:00<00:00,  2.65it/s]"
     ]
    },
    {
     "name": "stdout",
     "output_type": "stream",
     "text": [
      "Minimum probs (c1, c2, bkgd): [6e-06, 3e-06, 0.11084]\n",
      "Maximum probs (c1, c2, bkgd): [0.541176, 0.480293, 1.0]\n"
     ]
    },
    {
     "name": "stderr",
     "output_type": "stream",
     "text": [
      "     16/79     15.6G   0.07753    0.1239   0.02448       114       640: 100%|██████████| 4/4 [00:01<00:00,  2.98it/s]\n"
     ]
    },
    {
     "name": "stdout",
     "output_type": "stream",
     "text": [
      "Minimum probs (c1, c2, bkgd): [2e-06, 7e-06, 0.148438]\n",
      "Maximum probs (c1, c2, bkgd): [0.577354, 0.451226, 1.0]\n"
     ]
    },
    {
     "name": "stderr",
     "output_type": "stream",
     "text": [
      "               Class     Images     Labels          P          R     mAP@.5 mAP@.5:.95: 100%|██████████| 2/2 [00:02<00:00,  1.18s/it]\n"
     ]
    },
    {
     "name": "stdout",
     "output_type": "stream",
     "text": [
      "                 all         80        220     0.0601      0.101     0.0316    0.00575\n"
     ]
    },
    {
     "name": "stderr",
     "output_type": "stream",
     "text": [
      "               Class     Images     Labels          P          R     mAP@.5 mAP@.5:.95: 100%|██████████| 4/4 [00:02<00:00,  1.79it/s]\n"
     ]
    },
    {
     "name": "stdout",
     "output_type": "stream",
     "text": [
      "                 all         70        961      0.103      0.134     0.0598     0.0113\n"
     ]
    },
    {
     "name": "stderr",
     "output_type": "stream",
     "text": [
      "\n",
      "     Epoch   gpu_mem       box       obj       cls    labels  img_size\n",
      "\n",
      "YOLO+BCC\n",
      "  0%|          | 0/4 [00:00<?, ?it/s]"
     ]
    },
    {
     "name": "stdout",
     "output_type": "stream",
     "text": [
      "Minimum probs (c1, c2, bkgd): [3e-06, 7e-06, 0.120117]\n",
      "Maximum probs (c1, c2, bkgd): [0.628857, 0.456023, 1.0]\n"
     ]
    },
    {
     "name": "stderr",
     "output_type": "stream",
     "text": [
      "     17/79     12.8G   0.07456    0.1063    0.0223       222       640:  25%|██▌       | 1/4 [00:00<00:01,  2.20it/s]"
     ]
    },
    {
     "name": "stdout",
     "output_type": "stream",
     "text": [
      "Minimum probs (c1, c2, bkgd): [3e-06, 3e-06, 0.108887]\n",
      "Maximum probs (c1, c2, bkgd): [0.647328, 0.552619, 1.0]\n"
     ]
    },
    {
     "name": "stderr",
     "output_type": "stream",
     "text": [
      "     17/79     12.8G   0.07532     0.117   0.02225       336       640:  50%|█████     | 2/4 [00:00<00:00,  2.41it/s]"
     ]
    },
    {
     "name": "stdout",
     "output_type": "stream",
     "text": [
      "Minimum probs (c1, c2, bkgd): [3e-06, 2e-06, 0.10791]\n",
      "Maximum probs (c1, c2, bkgd): [0.621799, 0.448147, 1.0]\n"
     ]
    },
    {
     "name": "stderr",
     "output_type": "stream",
     "text": [
      "     17/79     15.6G   0.07544    0.1198   0.02235       114       640: 100%|██████████| 4/4 [00:01<00:00,  2.76it/s]\n"
     ]
    },
    {
     "name": "stdout",
     "output_type": "stream",
     "text": [
      "Minimum probs (c1, c2, bkgd): [2e-06, 4e-06, 0.125977]\n",
      "Maximum probs (c1, c2, bkgd): [0.649585, 0.415025, 1.0]\n"
     ]
    },
    {
     "name": "stderr",
     "output_type": "stream",
     "text": [
      "               Class     Images     Labels          P          R     mAP@.5 mAP@.5:.95: 100%|██████████| 2/2 [00:02<00:00,  1.03s/it]\n"
     ]
    },
    {
     "name": "stdout",
     "output_type": "stream",
     "text": [
      "                 all         80        220     0.0751     0.0948     0.0334    0.00672\n"
     ]
    },
    {
     "name": "stderr",
     "output_type": "stream",
     "text": [
      "               Class     Images     Labels          P          R     mAP@.5 mAP@.5:.95: 100%|██████████| 4/4 [00:01<00:00,  2.09it/s]\n"
     ]
    },
    {
     "name": "stdout",
     "output_type": "stream",
     "text": [
      "                 all         70        961      0.109       0.14     0.0721     0.0132\n"
     ]
    },
    {
     "name": "stderr",
     "output_type": "stream",
     "text": [
      "\n",
      "     Epoch   gpu_mem       box       obj       cls    labels  img_size\n",
      "\n",
      "YOLO+BCC\n",
      "  0%|          | 0/4 [00:00<?, ?it/s]"
     ]
    },
    {
     "name": "stdout",
     "output_type": "stream",
     "text": [
      "Minimum probs (c1, c2, bkgd): [2e-06, 5e-06, 0.132812]\n",
      "Maximum probs (c1, c2, bkgd): [0.640303, 0.331075, 1.0]\n"
     ]
    },
    {
     "name": "stderr",
     "output_type": "stream",
     "text": [
      "     18/79     13.1G   0.07294    0.1029   0.02004       222       640:  25%|██▌       | 1/4 [00:00<00:01,  2.29it/s]"
     ]
    },
    {
     "name": "stdout",
     "output_type": "stream",
     "text": [
      "Minimum probs (c1, c2, bkgd): [5e-06, 3e-06, 0.128418]\n",
      "Maximum probs (c1, c2, bkgd): [0.684913, 0.445619, 1.0]\n"
     ]
    },
    {
     "name": "stderr",
     "output_type": "stream",
     "text": [
      "     18/79     13.1G   0.07329    0.1131   0.01979       336       640:  50%|█████     | 2/4 [00:00<00:00,  2.40it/s]"
     ]
    },
    {
     "name": "stdout",
     "output_type": "stream",
     "text": [
      "Minimum probs (c1, c2, bkgd): [6e-06, 2e-06, 0.109863]\n",
      "Maximum probs (c1, c2, bkgd): [0.702619, 0.392718, 1.0]\n"
     ]
    },
    {
     "name": "stderr",
     "output_type": "stream",
     "text": [
      "     18/79     15.6G   0.07339    0.1161   0.01998       114       640: 100%|██████████| 4/4 [00:01<00:00,  2.74it/s]\n"
     ]
    },
    {
     "name": "stdout",
     "output_type": "stream",
     "text": [
      "Minimum probs (c1, c2, bkgd): [2e-06, 4e-06, 0.143555]\n",
      "Maximum probs (c1, c2, bkgd): [0.705689, 0.366355, 1.0]\n"
     ]
    },
    {
     "name": "stderr",
     "output_type": "stream",
     "text": [
      "               Class     Images     Labels          P          R     mAP@.5 mAP@.5:.95: 100%|██████████| 2/2 [00:01<00:00,  1.06it/s]\n"
     ]
    },
    {
     "name": "stdout",
     "output_type": "stream",
     "text": [
      "                 all         80        220      0.566      0.101      0.036    0.00711\n"
     ]
    },
    {
     "name": "stderr",
     "output_type": "stream",
     "text": [
      "               Class     Images     Labels          P          R     mAP@.5 mAP@.5:.95: 100%|██████████| 4/4 [00:01<00:00,  2.24it/s]\n"
     ]
    },
    {
     "name": "stdout",
     "output_type": "stream",
     "text": [
      "                 all         70        961      0.126      0.126     0.0791     0.0143\n"
     ]
    },
    {
     "name": "stderr",
     "output_type": "stream",
     "text": [
      "\n",
      "     Epoch   gpu_mem       box       obj       cls    labels  img_size\n",
      "\n",
      "YOLO+BCC\n",
      "  0%|          | 0/4 [00:00<?, ?it/s]"
     ]
    },
    {
     "name": "stdout",
     "output_type": "stream",
     "text": [
      "Minimum probs (c1, c2, bkgd): [3e-06, 5e-06, 0.129395]\n",
      "Maximum probs (c1, c2, bkgd): [0.683943, 0.302926, 1.0]\n"
     ]
    },
    {
     "name": "stderr",
     "output_type": "stream",
     "text": [
      "     19/79     12.9G   0.07138       0.1   0.01812       222       640:  25%|██▌       | 1/4 [00:00<00:01,  2.31it/s]"
     ]
    },
    {
     "name": "stdout",
     "output_type": "stream",
     "text": [
      "Minimum probs (c1, c2, bkgd): [6e-06, 3e-06, 0.145508]\n",
      "Maximum probs (c1, c2, bkgd): [0.69226, 0.358615, 1.0]\n"
     ]
    },
    {
     "name": "stderr",
     "output_type": "stream",
     "text": [
      "     19/79     12.9G   0.07169    0.1097   0.01778       336       640:  50%|█████     | 2/4 [00:00<00:00,  2.34it/s]"
     ]
    },
    {
     "name": "stdout",
     "output_type": "stream",
     "text": [
      "Minimum probs (c1, c2, bkgd): [3e-06, 2e-06, 0.128418]\n",
      "Maximum probs (c1, c2, bkgd): [0.744653, 0.299159, 1.0]\n"
     ]
    },
    {
     "name": "stderr",
     "output_type": "stream",
     "text": [
      "     19/79     15.6G   0.07296    0.1128   0.01815       114       640: 100%|██████████| 4/4 [00:01<00:00,  2.74it/s]\n"
     ]
    },
    {
     "name": "stdout",
     "output_type": "stream",
     "text": [
      "Minimum probs (c1, c2, bkgd): [2e-06, 4e-06, 0.127441]\n",
      "Maximum probs (c1, c2, bkgd): [0.711852, 0.335326, 1.0]\n"
     ]
    },
    {
     "name": "stderr",
     "output_type": "stream",
     "text": [
      "               Class     Images     Labels          P          R     mAP@.5 mAP@.5:.95: 100%|██████████| 2/2 [00:01<00:00,  1.13it/s]\n"
     ]
    },
    {
     "name": "stdout",
     "output_type": "stream",
     "text": [
      "                 all         80        220      0.558     0.0876     0.0364    0.00843\n"
     ]
    },
    {
     "name": "stderr",
     "output_type": "stream",
     "text": [
      "               Class     Images     Labels          P          R     mAP@.5 mAP@.5:.95: 100%|██████████| 4/4 [00:01<00:00,  2.43it/s]\n"
     ]
    },
    {
     "name": "stdout",
     "output_type": "stream",
     "text": [
      "                 all         70        961      0.131      0.142     0.0836     0.0159\n"
     ]
    },
    {
     "name": "stderr",
     "output_type": "stream",
     "text": [
      "\n",
      "     Epoch   gpu_mem       box       obj       cls    labels  img_size\n",
      "\n",
      "YOLO+BCC\n",
      "  0%|          | 0/4 [00:00<?, ?it/s]"
     ]
    },
    {
     "name": "stdout",
     "output_type": "stream",
     "text": [
      "Minimum probs (c1, c2, bkgd): [3e-06, 5e-06, 0.133789]\n",
      "Maximum probs (c1, c2, bkgd): [0.731995, 0.317082, 1.0]\n"
     ]
    },
    {
     "name": "stderr",
     "output_type": "stream",
     "text": [
      "     20/79     13.3G   0.07119   0.09765   0.01631       222       640:  25%|██▌       | 1/4 [00:00<00:01,  2.48it/s]"
     ]
    },
    {
     "name": "stdout",
     "output_type": "stream",
     "text": [
      "Minimum probs (c1, c2, bkgd): [6e-06, 3e-06, 0.154785]\n",
      "Maximum probs (c1, c2, bkgd): [0.724542, 0.2974, 1.0]\n"
     ]
    },
    {
     "name": "stderr",
     "output_type": "stream",
     "text": [
      "     20/79     13.3G   0.07233    0.1069   0.01607       336       640:  50%|█████     | 2/4 [00:00<00:00,  2.63it/s]"
     ]
    },
    {
     "name": "stdout",
     "output_type": "stream",
     "text": [
      "Minimum probs (c1, c2, bkgd): [2e-06, 2e-06, 0.137695]\n",
      "Maximum probs (c1, c2, bkgd): [0.776919, 0.29548, 1.0]\n"
     ]
    },
    {
     "name": "stderr",
     "output_type": "stream",
     "text": [
      "     20/79     15.6G   0.07326    0.1099   0.01664       114       640: 100%|██████████| 4/4 [00:01<00:00,  2.92it/s]\n"
     ]
    },
    {
     "name": "stdout",
     "output_type": "stream",
     "text": [
      "Minimum probs (c1, c2, bkgd): [4e-06, 4e-06, 0.128418]\n",
      "Maximum probs (c1, c2, bkgd): [0.763935, 0.303705, 1.0]\n"
     ]
    },
    {
     "name": "stderr",
     "output_type": "stream",
     "text": [
      "               Class     Images     Labels          P          R     mAP@.5 mAP@.5:.95: 100%|██████████| 2/2 [00:01<00:00,  1.21it/s]\n"
     ]
    },
    {
     "name": "stdout",
     "output_type": "stream",
     "text": [
      "                 all         80        220      0.602     0.0696     0.0412    0.00762\n"
     ]
    },
    {
     "name": "stderr",
     "output_type": "stream",
     "text": [
      "               Class     Images     Labels          P          R     mAP@.5 mAP@.5:.95: 100%|██████████| 4/4 [00:01<00:00,  2.58it/s]\n"
     ]
    },
    {
     "name": "stdout",
     "output_type": "stream",
     "text": [
      "                 all         70        961      0.643      0.146     0.0909     0.0164\n"
     ]
    },
    {
     "name": "stderr",
     "output_type": "stream",
     "text": [
      "\n",
      "     Epoch   gpu_mem       box       obj       cls    labels  img_size\n",
      "\n",
      "YOLO+BCC\n",
      "  0%|          | 0/4 [00:00<?, ?it/s]"
     ]
    },
    {
     "name": "stdout",
     "output_type": "stream",
     "text": [
      "Minimum probs (c1, c2, bkgd): [6e-06, 6e-06, 0.143066]\n",
      "Maximum probs (c1, c2, bkgd): [0.768747, 0.284042, 1.0]\n"
     ]
    },
    {
     "name": "stderr",
     "output_type": "stream",
     "text": [
      "     21/79     12.9G   0.07068   0.09548   0.01492       222       640:  25%|██▌       | 1/4 [00:00<00:01,  2.56it/s]"
     ]
    },
    {
     "name": "stdout",
     "output_type": "stream",
     "text": [
      "Minimum probs (c1, c2, bkgd): [6e-06, 2e-06, 0.151855]\n",
      "Maximum probs (c1, c2, bkgd): [0.746529, 0.260679, 1.0]\n"
     ]
    },
    {
     "name": "stderr",
     "output_type": "stream",
     "text": [
      "     21/79     12.9G   0.07292    0.1045   0.01469       336       640:  50%|█████     | 2/4 [00:00<00:00,  2.70it/s]"
     ]
    },
    {
     "name": "stdout",
     "output_type": "stream",
     "text": [
      "Minimum probs (c1, c2, bkgd): [3e-06, 2e-06, 0.138184]\n",
      "Maximum probs (c1, c2, bkgd): [0.797136, 0.263466, 1.0]\n"
     ]
    },
    {
     "name": "stderr",
     "output_type": "stream",
     "text": [
      "     21/79     15.7G   0.07375    0.1075   0.01542       114       640: 100%|██████████| 4/4 [00:01<00:00,  2.88it/s]\n"
     ]
    },
    {
     "name": "stdout",
     "output_type": "stream",
     "text": [
      "Minimum probs (c1, c2, bkgd): [3e-06, 4e-06, 0.124512]\n",
      "Maximum probs (c1, c2, bkgd): [0.784685, 0.253971, 1.0]\n"
     ]
    },
    {
     "name": "stderr",
     "output_type": "stream",
     "text": [
      "               Class     Images     Labels          P          R     mAP@.5 mAP@.5:.95: 100%|██████████| 2/2 [00:01<00:00,  1.28it/s]\n"
     ]
    },
    {
     "name": "stdout",
     "output_type": "stream",
     "text": [
      "                 all         80        220      0.566      0.101     0.0398    0.00676\n"
     ]
    },
    {
     "name": "stderr",
     "output_type": "stream",
     "text": [
      "               Class     Images     Labels          P          R     mAP@.5 mAP@.5:.95: 100%|██████████| 4/4 [00:01<00:00,  2.80it/s]\n"
     ]
    },
    {
     "name": "stdout",
     "output_type": "stream",
     "text": [
      "                 all         70        961       0.64      0.157     0.0973     0.0182\n"
     ]
    },
    {
     "name": "stderr",
     "output_type": "stream",
     "text": [
      "\n",
      "     Epoch   gpu_mem       box       obj       cls    labels  img_size\n",
      "\n",
      "YOLO+BCC\n",
      "  0%|          | 0/4 [00:00<?, ?it/s]"
     ]
    },
    {
     "name": "stdout",
     "output_type": "stream",
     "text": [
      "Minimum probs (c1, c2, bkgd): [7e-06, 6e-06, 0.157227]\n",
      "Maximum probs (c1, c2, bkgd): [0.773848, 0.249506, 1.0]\n"
     ]
    },
    {
     "name": "stderr",
     "output_type": "stream",
     "text": [
      "     22/79     13.1G   0.06986   0.09314   0.01396       222       640:  25%|██▌       | 1/4 [00:00<00:01,  2.55it/s]"
     ]
    },
    {
     "name": "stdout",
     "output_type": "stream",
     "text": [
      "Minimum probs (c1, c2, bkgd): [7e-06, 2e-06, 0.131836]\n",
      "Maximum probs (c1, c2, bkgd): [0.763999, 0.213935, 1.0]\n"
     ]
    },
    {
     "name": "stderr",
     "output_type": "stream",
     "text": [
      "     22/79     13.1G   0.07287    0.1021   0.01366       336       640:  50%|█████     | 2/4 [00:00<00:00,  2.57it/s]"
     ]
    },
    {
     "name": "stdout",
     "output_type": "stream",
     "text": [
      "Minimum probs (c1, c2, bkgd): [3e-06, 2e-06, 0.158691]\n",
      "Maximum probs (c1, c2, bkgd): [0.789297, 0.250288, 1.0]\n"
     ]
    },
    {
     "name": "stderr",
     "output_type": "stream",
     "text": [
      "     22/79     15.6G   0.07277    0.1057   0.01454       114       640: 100%|██████████| 4/4 [00:01<00:00,  2.93it/s]\n"
     ]
    },
    {
     "name": "stdout",
     "output_type": "stream",
     "text": [
      "Minimum probs (c1, c2, bkgd): [9e-06, 3e-06, 0.12207]\n",
      "Maximum probs (c1, c2, bkgd): [0.774659, 0.212218, 1.0]\n"
     ]
    },
    {
     "name": "stderr",
     "output_type": "stream",
     "text": [
      "               Class     Images     Labels          P          R     mAP@.5 mAP@.5:.95: 100%|██████████| 2/2 [00:01<00:00,  1.34it/s]\n"
     ]
    },
    {
     "name": "stdout",
     "output_type": "stream",
     "text": [
      "                 all         80        220      0.581     0.0954     0.0347    0.00619\n"
     ]
    },
    {
     "name": "stderr",
     "output_type": "stream",
     "text": [
      "               Class     Images     Labels          P          R     mAP@.5 mAP@.5:.95: 100%|██████████| 4/4 [00:01<00:00,  2.96it/s]\n"
     ]
    },
    {
     "name": "stdout",
     "output_type": "stream",
     "text": [
      "                 all         70        961      0.629      0.166     0.0974     0.0176\n"
     ]
    },
    {
     "name": "stderr",
     "output_type": "stream",
     "text": [
      "\n",
      "     Epoch   gpu_mem       box       obj       cls    labels  img_size\n",
      "\n",
      "YOLO+BCC\n",
      "  0%|          | 0/4 [00:00<?, ?it/s]"
     ]
    },
    {
     "name": "stdout",
     "output_type": "stream",
     "text": [
      "Minimum probs (c1, c2, bkgd): [3e-06, 3e-06, 0.156738]\n",
      "Maximum probs (c1, c2, bkgd): [0.763445, 0.196702, 1.0]\n"
     ]
    },
    {
     "name": "stderr",
     "output_type": "stream",
     "text": [
      "     23/79     12.9G   0.07044   0.09206    0.0131       222       640:  25%|██▌       | 1/4 [00:00<00:01,  2.45it/s]"
     ]
    },
    {
     "name": "stdout",
     "output_type": "stream",
     "text": [
      "Minimum probs (c1, c2, bkgd): [6e-06, 2e-06, 0.11084]\n",
      "Maximum probs (c1, c2, bkgd): [0.780808, 0.195023, 1.0]\n"
     ]
    },
    {
     "name": "stderr",
     "output_type": "stream",
     "text": [
      "     23/79     12.9G   0.07442    0.1003   0.01287       336       640:  50%|█████     | 2/4 [00:00<00:00,  2.60it/s]"
     ]
    },
    {
     "name": "stdout",
     "output_type": "stream",
     "text": [
      "Minimum probs (c1, c2, bkgd): [7e-06, 2e-06, 0.140137]\n",
      "Maximum probs (c1, c2, bkgd): [0.821374, 0.214256, 1.0]\n"
     ]
    },
    {
     "name": "stderr",
     "output_type": "stream",
     "text": [
      "     23/79     15.7G   0.07415    0.1034   0.01378       114       640: 100%|██████████| 4/4 [00:01<00:00,  2.96it/s]\n"
     ]
    },
    {
     "name": "stdout",
     "output_type": "stream",
     "text": [
      "Minimum probs (c1, c2, bkgd): [1e-06, 3e-06, 0.132812]\n",
      "Maximum probs (c1, c2, bkgd): [0.802777, 0.195304, 1.0]\n"
     ]
    },
    {
     "name": "stderr",
     "output_type": "stream",
     "text": [
      "               Class     Images     Labels          P          R     mAP@.5 mAP@.5:.95: 100%|██████████| 2/2 [00:02<00:00,  1.29s/it]\n"
     ]
    },
    {
     "name": "stdout",
     "output_type": "stream",
     "text": [
      "                 all         80        220      0.598     0.0851     0.0421    0.00706\n"
     ]
    },
    {
     "name": "stderr",
     "output_type": "stream",
     "text": [
      "               Class     Images     Labels          P          R     mAP@.5 mAP@.5:.95: 100%|██████████| 4/4 [00:01<00:00,  3.36it/s]\n"
     ]
    },
    {
     "name": "stdout",
     "output_type": "stream",
     "text": [
      "                 all         70        961      0.646       0.17     0.0971     0.0179\n"
     ]
    },
    {
     "name": "stderr",
     "output_type": "stream",
     "text": [
      "\n",
      "     Epoch   gpu_mem       box       obj       cls    labels  img_size\n",
      "\n",
      "YOLO+BCC\n",
      "  0%|          | 0/4 [00:00<?, ?it/s]"
     ]
    },
    {
     "name": "stdout",
     "output_type": "stream",
     "text": [
      "Minimum probs (c1, c2, bkgd): [2e-06, 5e-06, 0.14209]\n",
      "Maximum probs (c1, c2, bkgd): [0.791693, 0.180283, 1.0]\n"
     ]
    },
    {
     "name": "stderr",
     "output_type": "stream",
     "text": [
      "     24/79       13G   0.07172    0.0902   0.01273       222       640:  25%|██▌       | 1/4 [00:00<00:01,  2.22it/s]"
     ]
    },
    {
     "name": "stdout",
     "output_type": "stream",
     "text": [
      "Minimum probs (c1, c2, bkgd): [5e-06, 3e-06, 0.095215]\n",
      "Maximum probs (c1, c2, bkgd): [0.794459, 0.173507, 1.0]\n"
     ]
    },
    {
     "name": "stderr",
     "output_type": "stream",
     "text": [
      "     24/79       13G   0.07511   0.09858   0.01246       336       640:  50%|█████     | 2/4 [00:00<00:00,  2.44it/s]"
     ]
    },
    {
     "name": "stdout",
     "output_type": "stream",
     "text": [
      "Minimum probs (c1, c2, bkgd): [2e-06, 2e-06, 0.134766]\n",
      "Maximum probs (c1, c2, bkgd): [0.828668, 0.178132, 1.0]\n"
     ]
    },
    {
     "name": "stderr",
     "output_type": "stream",
     "text": [
      "     24/79     15.6G   0.07475    0.1018   0.01342       114       640: 100%|██████████| 4/4 [00:01<00:00,  2.82it/s]\n"
     ]
    },
    {
     "name": "stdout",
     "output_type": "stream",
     "text": [
      "Minimum probs (c1, c2, bkgd): [0.0, 3e-06, 0.120605]\n",
      "Maximum probs (c1, c2, bkgd): [0.811701, 0.166908, 1.0]\n"
     ]
    },
    {
     "name": "stderr",
     "output_type": "stream",
     "text": [
      "               Class     Images     Labels          P          R     mAP@.5 mAP@.5:.95: 100%|██████████| 2/2 [00:01<00:00,  1.81it/s]\n"
     ]
    },
    {
     "name": "stdout",
     "output_type": "stream",
     "text": [
      "                 all         80        220      0.585      0.067     0.0333    0.00573\n"
     ]
    },
    {
     "name": "stderr",
     "output_type": "stream",
     "text": [
      "               Class     Images     Labels          P          R     mAP@.5 mAP@.5:.95: 100%|██████████| 4/4 [00:00<00:00,  4.08it/s]\n"
     ]
    },
    {
     "name": "stdout",
     "output_type": "stream",
     "text": [
      "                 all         70        961      0.635      0.195     0.0999     0.0182\n"
     ]
    },
    {
     "name": "stderr",
     "output_type": "stream",
     "text": [
      "\n",
      "     Epoch   gpu_mem       box       obj       cls    labels  img_size\n",
      "\n",
      "YOLO+BCC\n",
      "  0%|          | 0/4 [00:00<?, ?it/s]"
     ]
    },
    {
     "name": "stdout",
     "output_type": "stream",
     "text": [
      "Minimum probs (c1, c2, bkgd): [1e-06, 3e-06, 0.149414]\n",
      "Maximum probs (c1, c2, bkgd): [0.816627, 0.193593, 1.0]\n"
     ]
    },
    {
     "name": "stderr",
     "output_type": "stream",
     "text": [
      "     25/79       13G   0.07073   0.08863   0.01253       222       640:  25%|██▌       | 1/4 [00:00<00:01,  2.43it/s]"
     ]
    },
    {
     "name": "stdout",
     "output_type": "stream",
     "text": [
      "Minimum probs (c1, c2, bkgd): [6e-06, 2e-06, 0.121582]\n",
      "Maximum probs (c1, c2, bkgd): [0.828482, 0.158905, 1.0]\n"
     ]
    },
    {
     "name": "stderr",
     "output_type": "stream",
     "text": [
      "     25/79       13G   0.07218   0.09691   0.01217       336       640:  50%|█████     | 2/4 [00:00<00:00,  2.57it/s]"
     ]
    },
    {
     "name": "stdout",
     "output_type": "stream",
     "text": [
      "Minimum probs (c1, c2, bkgd): [3e-06, 2e-06, 0.143066]\n",
      "Maximum probs (c1, c2, bkgd): [0.806114, 0.1831, 1.0]\n"
     ]
    },
    {
     "name": "stderr",
     "output_type": "stream",
     "text": [
      "     25/79     15.7G   0.07407    0.1004   0.01311       114       640: 100%|██████████| 4/4 [00:01<00:00,  2.80it/s]\n"
     ]
    },
    {
     "name": "stdout",
     "output_type": "stream",
     "text": [
      "Minimum probs (c1, c2, bkgd): [0.0, 2e-06, 0.115234]\n",
      "Maximum probs (c1, c2, bkgd): [0.830369, 0.159, 1.0]\n"
     ]
    },
    {
     "name": "stderr",
     "output_type": "stream",
     "text": [
      "               Class     Images     Labels          P          R     mAP@.5 mAP@.5:.95: 100%|██████████| 2/2 [00:01<00:00,  1.92it/s]\n"
     ]
    },
    {
     "name": "stdout",
     "output_type": "stream",
     "text": [
      "                 all         80        220      0.573     0.0902     0.0357    0.00583\n"
     ]
    },
    {
     "name": "stderr",
     "output_type": "stream",
     "text": [
      "               Class     Images     Labels          P          R     mAP@.5 mAP@.5:.95: 100%|██████████| 4/4 [00:01<00:00,  3.92it/s]\n"
     ]
    },
    {
     "name": "stdout",
     "output_type": "stream",
     "text": [
      "                 all         70        961      0.646      0.168      0.102     0.0191\n"
     ]
    },
    {
     "name": "stderr",
     "output_type": "stream",
     "text": [
      "\n",
      "     Epoch   gpu_mem       box       obj       cls    labels  img_size\n",
      "\n",
      "YOLO+BCC\n",
      "  0%|          | 0/4 [00:00<?, ?it/s]"
     ]
    },
    {
     "name": "stdout",
     "output_type": "stream",
     "text": [
      "Minimum probs (c1, c2, bkgd): [2e-06, 3e-06, 0.142578]\n",
      "Maximum probs (c1, c2, bkgd): [0.779782, 0.157745, 1.0]\n"
     ]
    },
    {
     "name": "stderr",
     "output_type": "stream",
     "text": [
      "     26/79     13.1G   0.07059   0.08686   0.01221       222       640:  25%|██▌       | 1/4 [00:00<00:01,  2.50it/s]"
     ]
    },
    {
     "name": "stdout",
     "output_type": "stream",
     "text": [
      "Minimum probs (c1, c2, bkgd): [5e-06, 1e-06, 0.127441]\n",
      "Maximum probs (c1, c2, bkgd): [0.806645, 0.152798, 1.0]\n"
     ]
    },
    {
     "name": "stderr",
     "output_type": "stream",
     "text": [
      "     26/79     13.1G   0.07296   0.09512   0.01181       336       640:  50%|█████     | 2/4 [00:00<00:00,  2.62it/s]"
     ]
    },
    {
     "name": "stdout",
     "output_type": "stream",
     "text": [
      "Minimum probs (c1, c2, bkgd): [2e-06, 2e-06, 0.138184]\n",
      "Maximum probs (c1, c2, bkgd): [0.823991, 0.184627, 1.0]\n"
     ]
    },
    {
     "name": "stderr",
     "output_type": "stream",
     "text": [
      "     26/79     15.6G   0.07454   0.09874   0.01281       114       640: 100%|██████████| 4/4 [00:01<00:00,  2.92it/s]\n"
     ]
    },
    {
     "name": "stdout",
     "output_type": "stream",
     "text": [
      "Minimum probs (c1, c2, bkgd): [0.0, 2e-06, 0.126465]\n",
      "Maximum probs (c1, c2, bkgd): [0.826583, 0.177961, 1.0]\n"
     ]
    },
    {
     "name": "stderr",
     "output_type": "stream",
     "text": [
      "               Class     Images     Labels          P          R     mAP@.5 mAP@.5:.95: 100%|██████████| 2/2 [00:01<00:00,  1.93it/s]\n"
     ]
    },
    {
     "name": "stdout",
     "output_type": "stream",
     "text": [
      "                 all         80        220      0.582     0.0996     0.0378    0.00685\n"
     ]
    },
    {
     "name": "stderr",
     "output_type": "stream",
     "text": [
      "               Class     Images     Labels          P          R     mAP@.5 mAP@.5:.95: 100%|██████████| 4/4 [00:00<00:00,  4.11it/s]\n"
     ]
    },
    {
     "name": "stdout",
     "output_type": "stream",
     "text": [
      "                 all         70        961      0.664      0.195       0.12     0.0228\n"
     ]
    },
    {
     "name": "stderr",
     "output_type": "stream",
     "text": [
      "\n",
      "     Epoch   gpu_mem       box       obj       cls    labels  img_size\n",
      "\n",
      "YOLO+BCC\n",
      "  0%|          | 0/4 [00:00<?, ?it/s]"
     ]
    },
    {
     "name": "stdout",
     "output_type": "stream",
     "text": [
      "Minimum probs (c1, c2, bkgd): [3e-06, 3e-06, 0.129395]\n",
      "Maximum probs (c1, c2, bkgd): [0.80354, 0.213176, 1.0]\n"
     ]
    },
    {
     "name": "stderr",
     "output_type": "stream",
     "text": [
      "     27/79       13G   0.07199   0.08483   0.01187       222       640:  25%|██▌       | 1/4 [00:00<00:01,  2.64it/s]"
     ]
    },
    {
     "name": "stdout",
     "output_type": "stream",
     "text": [
      "Minimum probs (c1, c2, bkgd): [5e-06, 1e-06, 0.13916]\n",
      "Maximum probs (c1, c2, bkgd): [0.805814, 0.148738, 1.0]\n"
     ]
    },
    {
     "name": "stderr",
     "output_type": "stream",
     "text": [
      "     27/79       13G   0.07269   0.09333   0.01151       336       640:  50%|█████     | 2/4 [00:00<00:00,  2.73it/s]"
     ]
    },
    {
     "name": "stdout",
     "output_type": "stream",
     "text": [
      "Minimum probs (c1, c2, bkgd): [1e-06, 2e-06, 0.139648]\n",
      "Maximum probs (c1, c2, bkgd): [0.817013, 0.156678, 1.0]\n"
     ]
    },
    {
     "name": "stderr",
     "output_type": "stream",
     "text": [
      "     27/79     15.7G   0.07406   0.09735   0.01261       114       640: 100%|██████████| 4/4 [00:01<00:00,  3.01it/s]\n"
     ]
    },
    {
     "name": "stdout",
     "output_type": "stream",
     "text": [
      "Minimum probs (c1, c2, bkgd): [1e-06, 2e-06, 0.124023]\n",
      "Maximum probs (c1, c2, bkgd): [0.830136, 0.15444, 1.0]\n"
     ]
    },
    {
     "name": "stderr",
     "output_type": "stream",
     "text": [
      "               Class     Images     Labels          P          R     mAP@.5 mAP@.5:.95: 100%|██████████| 2/2 [00:01<00:00,  1.95it/s]\n"
     ]
    },
    {
     "name": "stdout",
     "output_type": "stream",
     "text": [
      "                 all         80        220      0.589     0.0954     0.0383    0.00654\n"
     ]
    },
    {
     "name": "stderr",
     "output_type": "stream",
     "text": [
      "               Class     Images     Labels          P          R     mAP@.5 mAP@.5:.95: 100%|██████████| 4/4 [00:00<00:00,  4.22it/s]\n"
     ]
    },
    {
     "name": "stdout",
     "output_type": "stream",
     "text": [
      "                 all         70        961      0.671      0.188      0.129     0.0245\n"
     ]
    },
    {
     "name": "stderr",
     "output_type": "stream",
     "text": [
      "\n",
      "     Epoch   gpu_mem       box       obj       cls    labels  img_size\n",
      "\n",
      "YOLO+BCC\n",
      "  0%|          | 0/4 [00:00<?, ?it/s]"
     ]
    },
    {
     "name": "stdout",
     "output_type": "stream",
     "text": [
      "Minimum probs (c1, c2, bkgd): [3e-06, 2e-06, 0.154297]\n",
      "Maximum probs (c1, c2, bkgd): [0.784838, 0.186879, 1.0]\n"
     ]
    },
    {
     "name": "stderr",
     "output_type": "stream",
     "text": [
      "     28/79     13.1G   0.06874    0.0831   0.01177       222       640:  25%|██▌       | 1/4 [00:00<00:01,  2.71it/s]"
     ]
    },
    {
     "name": "stdout",
     "output_type": "stream",
     "text": [
      "Minimum probs (c1, c2, bkgd): [5e-06, 1e-06, 0.135742]\n",
      "Maximum probs (c1, c2, bkgd): [0.800499, 0.131029, 1.0]\n"
     ]
    },
    {
     "name": "stderr",
     "output_type": "stream",
     "text": [
      "     28/79     13.1G   0.07029   0.09184   0.01139       336       640:  50%|█████     | 2/4 [00:00<00:00,  2.71it/s]"
     ]
    },
    {
     "name": "stdout",
     "output_type": "stream",
     "text": [
      "Minimum probs (c1, c2, bkgd): [1e-06, 2e-06, 0.142578]\n",
      "Maximum probs (c1, c2, bkgd): [0.813588, 0.163772, 1.0]\n"
     ]
    },
    {
     "name": "stderr",
     "output_type": "stream",
     "text": [
      "     28/79     15.7G   0.07265   0.09617   0.01247       114       640: 100%|██████████| 4/4 [00:01<00:00,  3.00it/s]\n"
     ]
    },
    {
     "name": "stdout",
     "output_type": "stream",
     "text": [
      "Minimum probs (c1, c2, bkgd): [1e-06, 2e-06, 0.116699]\n",
      "Maximum probs (c1, c2, bkgd): [0.835474, 0.153744, 1.0]\n"
     ]
    },
    {
     "name": "stderr",
     "output_type": "stream",
     "text": [
      "               Class     Images     Labels          P          R     mAP@.5 mAP@.5:.95: 100%|██████████| 2/2 [00:01<00:00,  1.98it/s]\n"
     ]
    },
    {
     "name": "stdout",
     "output_type": "stream",
     "text": [
      "                 all         80        220      0.577      0.108     0.0379    0.00713\n"
     ]
    },
    {
     "name": "stderr",
     "output_type": "stream",
     "text": [
      "               Class     Images     Labels          P          R     mAP@.5 mAP@.5:.95: 100%|██████████| 4/4 [00:00<00:00,  4.33it/s]\n"
     ]
    },
    {
     "name": "stdout",
     "output_type": "stream",
     "text": [
      "                 all         70        961      0.693      0.174       0.13     0.0253\n"
     ]
    },
    {
     "name": "stderr",
     "output_type": "stream",
     "text": [
      "\n",
      "     Epoch   gpu_mem       box       obj       cls    labels  img_size\n",
      "\n",
      "YOLO+BCC\n",
      "  0%|          | 0/4 [00:00<?, ?it/s]"
     ]
    },
    {
     "name": "stdout",
     "output_type": "stream",
     "text": [
      "Minimum probs (c1, c2, bkgd): [4e-06, 2e-06, 0.154297]\n",
      "Maximum probs (c1, c2, bkgd): [0.801934, 0.169937, 1.0]\n"
     ]
    },
    {
     "name": "stderr",
     "output_type": "stream",
     "text": [
      "     29/79     13.1G   0.06859   0.08155   0.01153       222       640:  25%|██▌       | 1/4 [00:00<00:01,  2.74it/s]"
     ]
    },
    {
     "name": "stdout",
     "output_type": "stream",
     "text": [
      "Minimum probs (c1, c2, bkgd): [5e-06, 1e-06, 0.150391]\n",
      "Maximum probs (c1, c2, bkgd): [0.796884, 0.127249, 1.0]\n"
     ]
    },
    {
     "name": "stderr",
     "output_type": "stream",
     "text": [
      "     29/79     13.1G   0.06979   0.09025    0.0112       336       640:  50%|█████     | 2/4 [00:00<00:00,  2.75it/s]"
     ]
    },
    {
     "name": "stdout",
     "output_type": "stream",
     "text": [
      "Minimum probs (c1, c2, bkgd): [1e-06, 1e-06, 0.141602]\n",
      "Maximum probs (c1, c2, bkgd): [0.817574, 0.162817, 1.0]\n"
     ]
    },
    {
     "name": "stderr",
     "output_type": "stream",
     "text": [
      "     29/79     15.7G   0.07221   0.09488   0.01236       114       640: 100%|██████████| 4/4 [00:01<00:00,  2.96it/s]\n"
     ]
    },
    {
     "name": "stdout",
     "output_type": "stream",
     "text": [
      "Minimum probs (c1, c2, bkgd): [1e-06, 2e-06, 0.12207]\n",
      "Maximum probs (c1, c2, bkgd): [0.831691, 0.144276, 1.0]\n"
     ]
    },
    {
     "name": "stderr",
     "output_type": "stream",
     "text": [
      "               Class     Images     Labels          P          R     mAP@.5 mAP@.5:.95: 100%|██████████| 2/2 [00:00<00:00,  2.09it/s]\n"
     ]
    },
    {
     "name": "stdout",
     "output_type": "stream",
     "text": [
      "                 all         80        220      0.577      0.108     0.0422    0.00786\n"
     ]
    },
    {
     "name": "stderr",
     "output_type": "stream",
     "text": [
      "               Class     Images     Labels          P          R     mAP@.5 mAP@.5:.95: 100%|██████████| 4/4 [00:00<00:00,  4.36it/s]\n"
     ]
    },
    {
     "name": "stdout",
     "output_type": "stream",
     "text": [
      "                 all         70        961      0.715      0.175      0.145     0.0293\n"
     ]
    },
    {
     "name": "stderr",
     "output_type": "stream",
     "text": [
      "\n",
      "     Epoch   gpu_mem       box       obj       cls    labels  img_size\n",
      "\n",
      "YOLO+BCC\n",
      "  0%|          | 0/4 [00:00<?, ?it/s]"
     ]
    },
    {
     "name": "stdout",
     "output_type": "stream",
     "text": [
      "Minimum probs (c1, c2, bkgd): [3e-06, 2e-06, 0.147461]\n",
      "Maximum probs (c1, c2, bkgd): [0.804662, 0.158052, 1.0]\n"
     ]
    },
    {
     "name": "stderr",
     "output_type": "stream",
     "text": [
      "     30/79     13.2G   0.06895   0.07982   0.01143       222       640:  25%|██▌       | 1/4 [00:00<00:01,  2.33it/s]"
     ]
    },
    {
     "name": "stdout",
     "output_type": "stream",
     "text": [
      "Minimum probs (c1, c2, bkgd): [5e-06, 2e-06, 0.154297]\n",
      "Maximum probs (c1, c2, bkgd): [0.791964, 0.117475, 1.0]\n"
     ]
    },
    {
     "name": "stderr",
     "output_type": "stream",
     "text": [
      "     30/79     13.2G   0.06951   0.08862   0.01111       336       640:  50%|█████     | 2/4 [00:00<00:00,  2.53it/s]"
     ]
    },
    {
     "name": "stdout",
     "output_type": "stream",
     "text": [
      "Minimum probs (c1, c2, bkgd): [3e-06, 2e-06, 0.145996]\n",
      "Maximum probs (c1, c2, bkgd): [0.804119, 0.151009, 1.0]\n"
     ]
    },
    {
     "name": "stderr",
     "output_type": "stream",
     "text": [
      "     30/79     15.6G   0.07115   0.09375   0.01232       114       640: 100%|██████████| 4/4 [00:01<00:00,  2.88it/s]\n"
     ]
    },
    {
     "name": "stdout",
     "output_type": "stream",
     "text": [
      "Minimum probs (c1, c2, bkgd): [1e-06, 2e-06, 0.121094]\n",
      "Maximum probs (c1, c2, bkgd): [0.829128, 0.135072, 1.0]\n"
     ]
    },
    {
     "name": "stderr",
     "output_type": "stream",
     "text": [
      "               Class     Images     Labels          P          R     mAP@.5 mAP@.5:.95: 100%|██████████| 2/2 [00:00<00:00,  2.12it/s]\n"
     ]
    },
    {
     "name": "stdout",
     "output_type": "stream",
     "text": [
      "                 all         80        220      0.583      0.113     0.0501     0.0101\n"
     ]
    },
    {
     "name": "stderr",
     "output_type": "stream",
     "text": [
      "               Class     Images     Labels          P          R     mAP@.5 mAP@.5:.95: 100%|██████████| 4/4 [00:00<00:00,  4.62it/s]\n"
     ]
    },
    {
     "name": "stdout",
     "output_type": "stream",
     "text": [
      "                 all         70        961      0.672      0.205      0.134     0.0269\n"
     ]
    },
    {
     "name": "stderr",
     "output_type": "stream",
     "text": [
      "\n",
      "     Epoch   gpu_mem       box       obj       cls    labels  img_size\n",
      "\n",
      "YOLO+BCC\n",
      "  0%|          | 0/4 [00:00<?, ?it/s]"
     ]
    },
    {
     "name": "stdout",
     "output_type": "stream",
     "text": [
      "Minimum probs (c1, c2, bkgd): [3e-06, 2e-06, 0.145996]\n",
      "Maximum probs (c1, c2, bkgd): [0.806778, 0.133368, 1.0]\n"
     ]
    },
    {
     "name": "stderr",
     "output_type": "stream",
     "text": [
      "     31/79     12.9G   0.06621   0.07811    0.0115       222       640:  25%|██▌       | 1/4 [00:00<00:01,  2.76it/s]"
     ]
    },
    {
     "name": "stdout",
     "output_type": "stream",
     "text": [
      "Minimum probs (c1, c2, bkgd): [4e-06, 2e-06, 0.160645]\n",
      "Maximum probs (c1, c2, bkgd): [0.798851, 0.115254, 1.0]\n"
     ]
    },
    {
     "name": "stderr",
     "output_type": "stream",
     "text": [
      "     31/79     13.1G   0.06766   0.08693   0.01114       336       640:  50%|█████     | 2/4 [00:00<00:00,  2.82it/s]"
     ]
    },
    {
     "name": "stdout",
     "output_type": "stream",
     "text": [
      "Minimum probs (c1, c2, bkgd): [1e-06, 1e-06, 0.130859]\n",
      "Maximum probs (c1, c2, bkgd): [0.838487, 0.164855, 1.0]\n"
     ]
    },
    {
     "name": "stderr",
     "output_type": "stream",
     "text": [
      "     31/79     15.7G   0.06913   0.09241   0.01242       114       640: 100%|██████████| 4/4 [00:01<00:00,  3.05it/s]\n"
     ]
    },
    {
     "name": "stdout",
     "output_type": "stream",
     "text": [
      "Minimum probs (c1, c2, bkgd): [1e-06, 2e-06, 0.118652]\n",
      "Maximum probs (c1, c2, bkgd): [0.836457, 0.12693, 1.0]\n"
     ]
    },
    {
     "name": "stderr",
     "output_type": "stream",
     "text": [
      "               Class     Images     Labels          P          R     mAP@.5 mAP@.5:.95: 100%|██████████| 2/2 [00:02<00:00,  1.18s/it]\n"
     ]
    },
    {
     "name": "stdout",
     "output_type": "stream",
     "text": [
      "                 all         80        220      0.583      0.121     0.0408    0.00757\n"
     ]
    },
    {
     "name": "stderr",
     "output_type": "stream",
     "text": [
      "               Class     Images     Labels          P          R     mAP@.5 mAP@.5:.95: 100%|██████████| 4/4 [00:00<00:00,  4.15it/s]\n"
     ]
    },
    {
     "name": "stdout",
     "output_type": "stream",
     "text": [
      "                 all         70        961      0.694      0.192      0.145     0.0287\n"
     ]
    },
    {
     "name": "stderr",
     "output_type": "stream",
     "text": [
      "\n",
      "     Epoch   gpu_mem       box       obj       cls    labels  img_size\n",
      "\n",
      "YOLO+BCC\n",
      "  0%|          | 0/4 [00:00<?, ?it/s]"
     ]
    },
    {
     "name": "stdout",
     "output_type": "stream",
     "text": [
      "Minimum probs (c1, c2, bkgd): [3e-06, 2e-06, 0.152344]\n",
      "Maximum probs (c1, c2, bkgd): [0.792373, 0.128874, 1.0]\n"
     ]
    },
    {
     "name": "stderr",
     "output_type": "stream",
     "text": [
      "     32/79     12.7G   0.06673   0.07669   0.01146       222       640:  25%|██▌       | 1/4 [00:00<00:01,  2.20it/s]"
     ]
    },
    {
     "name": "stdout",
     "output_type": "stream",
     "text": [
      "Minimum probs (c1, c2, bkgd): [2e-06, 3e-06, 0.106934]\n",
      "Maximum probs (c1, c2, bkgd): [0.823158, 0.128388, 1.0]\n"
     ]
    },
    {
     "name": "stderr",
     "output_type": "stream",
     "text": [
      "     32/79     12.9G   0.06782   0.08649    0.0111       336       640:  50%|█████     | 2/4 [00:00<00:00,  2.43it/s]"
     ]
    },
    {
     "name": "stdout",
     "output_type": "stream",
     "text": [
      "Minimum probs (c1, c2, bkgd): [2e-06, 2e-06, 0.141113]\n",
      "Maximum probs (c1, c2, bkgd): [0.810235, 0.142699, 1.0]\n"
     ]
    },
    {
     "name": "stderr",
     "output_type": "stream",
     "text": [
      "     32/79     15.6G   0.06858   0.09224   0.01247       114       640: 100%|██████████| 4/4 [00:01<00:00,  2.79it/s]\n"
     ]
    },
    {
     "name": "stdout",
     "output_type": "stream",
     "text": [
      "Minimum probs (c1, c2, bkgd): [1e-06, 1e-06, 0.145508]\n",
      "Maximum probs (c1, c2, bkgd): [0.810398, 0.154057, 1.0]\n"
     ]
    },
    {
     "name": "stderr",
     "output_type": "stream",
     "text": [
      "               Class     Images     Labels          P          R     mAP@.5 mAP@.5:.95: 100%|██████████| 2/2 [00:00<00:00,  2.69it/s]\n"
     ]
    },
    {
     "name": "stdout",
     "output_type": "stream",
     "text": [
      "                 all         80        220      0.566      0.129     0.0405    0.00757\n"
     ]
    },
    {
     "name": "stderr",
     "output_type": "stream",
     "text": [
      "               Class     Images     Labels          P          R     mAP@.5 mAP@.5:.95: 100%|██████████| 4/4 [00:00<00:00,  5.89it/s]\n"
     ]
    },
    {
     "name": "stdout",
     "output_type": "stream",
     "text": [
      "                 all         70        961      0.679      0.167      0.125     0.0255\n"
     ]
    },
    {
     "name": "stderr",
     "output_type": "stream",
     "text": [
      "\n",
      "     Epoch   gpu_mem       box       obj       cls    labels  img_size\n",
      "\n",
      "YOLO+BCC\n",
      "  0%|          | 0/4 [00:00<?, ?it/s]"
     ]
    },
    {
     "name": "stdout",
     "output_type": "stream",
     "text": [
      "Minimum probs (c1, c2, bkgd): [2e-06, 1e-06, 0.140625]\n",
      "Maximum probs (c1, c2, bkgd): [0.786522, 0.133228, 1.0]\n"
     ]
    },
    {
     "name": "stderr",
     "output_type": "stream",
     "text": [
      "     33/79     13.1G   0.06422   0.07698   0.01153       222       640:  25%|██▌       | 1/4 [00:00<00:01,  1.69it/s]\n"
     ]
    },
    {
     "name": "stdout",
     "output_type": "stream",
     "text": [
      "Minimum probs (c1, c2, bkgd): [1e-06, 3e-06, 0.141602]\n",
      "Maximum probs (c1, c2, bkgd): [0.82282, 0.095168, 1.0]\n"
     ]
    },
    {
     "ename": "KeyboardInterrupt",
     "evalue": "",
     "output_type": "error",
     "traceback": [
      "\u001b[1;31m---------------------------------------------------------------------------\u001b[0m",
      "\u001b[1;31mKeyboardInterrupt\u001b[0m                         Traceback (most recent call last)",
      "\u001b[1;32m~\\OneDrive - University of Surrey\\Documents\\GitHub\\dental_disease\\src\\train.py\u001b[0m in \u001b[0;36m<module>\u001b[1;34m\u001b[0m\n\u001b[0;32m    720\u001b[0m \u001b[1;32mif\u001b[0m \u001b[0m__name__\u001b[0m \u001b[1;33m==\u001b[0m \u001b[1;34m\"__main__\"\u001b[0m\u001b[1;33m:\u001b[0m\u001b[1;33m\u001b[0m\u001b[1;33m\u001b[0m\u001b[0m\n\u001b[0;32m    721\u001b[0m     \u001b[0mopt\u001b[0m \u001b[1;33m=\u001b[0m \u001b[0mparse_opt\u001b[0m\u001b[1;33m(\u001b[0m\u001b[1;33m)\u001b[0m\u001b[1;33m\u001b[0m\u001b[1;33m\u001b[0m\u001b[0m\n\u001b[1;32m--> 722\u001b[1;33m     \u001b[0mmain\u001b[0m\u001b[1;33m(\u001b[0m\u001b[0mopt\u001b[0m\u001b[1;33m)\u001b[0m\u001b[1;33m\u001b[0m\u001b[1;33m\u001b[0m\u001b[0m\n\u001b[0m\u001b[0;32m    723\u001b[0m \u001b[1;31m#torch.cuda.empty_cache()\u001b[0m\u001b[1;33m\u001b[0m\u001b[1;33m\u001b[0m\u001b[0m\n\u001b[0;32m    724\u001b[0m \u001b[1;33m\u001b[0m\u001b[0m\n",
      "\u001b[1;32m~\\OneDrive - University of Surrey\\Documents\\GitHub\\dental_disease\\src\\train.py\u001b[0m in \u001b[0;36mmain\u001b[1;34m(opt)\u001b[0m\n\u001b[0;32m    618\u001b[0m     \u001b[1;31m# Train\u001b[0m\u001b[1;33m\u001b[0m\u001b[1;33m\u001b[0m\u001b[0m\n\u001b[0;32m    619\u001b[0m     \u001b[1;32mif\u001b[0m \u001b[1;32mnot\u001b[0m \u001b[0mopt\u001b[0m\u001b[1;33m.\u001b[0m\u001b[0mevolve\u001b[0m\u001b[1;33m:\u001b[0m\u001b[1;33m\u001b[0m\u001b[1;33m\u001b[0m\u001b[0m\n\u001b[1;32m--> 620\u001b[1;33m         \u001b[0mtrain\u001b[0m\u001b[1;33m(\u001b[0m\u001b[0mopt\u001b[0m\u001b[1;33m.\u001b[0m\u001b[0mhyp\u001b[0m\u001b[1;33m,\u001b[0m \u001b[0mopt\u001b[0m\u001b[1;33m,\u001b[0m \u001b[0mdevice\u001b[0m\u001b[1;33m)\u001b[0m\u001b[1;33m\u001b[0m\u001b[1;33m\u001b[0m\u001b[0m\n\u001b[0m\u001b[0;32m    621\u001b[0m         \u001b[1;32mif\u001b[0m \u001b[0mWORLD_SIZE\u001b[0m \u001b[1;33m>\u001b[0m \u001b[1;36m1\u001b[0m \u001b[1;32mand\u001b[0m \u001b[0mRANK\u001b[0m \u001b[1;33m==\u001b[0m \u001b[1;36m0\u001b[0m\u001b[1;33m:\u001b[0m\u001b[1;33m\u001b[0m\u001b[1;33m\u001b[0m\u001b[0m\n\u001b[0;32m    622\u001b[0m             \u001b[0m_\u001b[0m \u001b[1;33m=\u001b[0m \u001b[1;33m[\u001b[0m\u001b[0mprint\u001b[0m\u001b[1;33m(\u001b[0m\u001b[1;34m'Destroying process group... '\u001b[0m\u001b[1;33m,\u001b[0m \u001b[0mend\u001b[0m\u001b[1;33m=\u001b[0m\u001b[1;34m''\u001b[0m\u001b[1;33m)\u001b[0m\u001b[1;33m,\u001b[0m \u001b[0mdist\u001b[0m\u001b[1;33m.\u001b[0m\u001b[0mdestroy_process_group\u001b[0m\u001b[1;33m(\u001b[0m\u001b[1;33m)\u001b[0m\u001b[1;33m,\u001b[0m \u001b[0mprint\u001b[0m\u001b[1;33m(\u001b[0m\u001b[1;34m'Done.'\u001b[0m\u001b[1;33m)\u001b[0m\u001b[1;33m]\u001b[0m\u001b[1;33m\u001b[0m\u001b[1;33m\u001b[0m\u001b[0m\n",
      "\u001b[1;32m~\\OneDrive - University of Surrey\\Documents\\GitHub\\dental_disease\\src\\train.py\u001b[0m in \u001b[0;36mtrain\u001b[1;34m(hyp, opt, device, callbacks)\u001b[0m\n\u001b[0;32m    366\u001b[0m                     \u001b[0mbatch_pred_yolo\u001b[0m \u001b[1;33m=\u001b[0m \u001b[0mnn_predict\u001b[0m\u001b[1;33m(\u001b[0m\u001b[0mmodel\u001b[0m\u001b[1;33m,\u001b[0m \u001b[0mimgs\u001b[0m\u001b[1;33m,\u001b[0m \u001b[0mimgsz\u001b[0m\u001b[1;33m,\u001b[0m \u001b[0mtransform_format_flag\u001b[0m\u001b[1;33m=\u001b[0m\u001b[1;32mFalse\u001b[0m\u001b[1;33m)\u001b[0m \u001b[1;31m# y_hat_yolo\u001b[0m\u001b[1;33m\u001b[0m\u001b[1;33m\u001b[0m\u001b[0m\n\u001b[0;32m    367\u001b[0m                     \u001b[0mbatch_pred_bcc\u001b[0m\u001b[1;33m,\u001b[0m \u001b[0m_\u001b[0m\u001b[1;33m,\u001b[0m \u001b[0mbatch_conf\u001b[0m \u001b[1;33m=\u001b[0m \u001b[0myolo2bcc_newer\u001b[0m\u001b[1;33m(\u001b[0m\u001b[0mbatch_pred_yolo\u001b[0m\u001b[1;33m,\u001b[0m \u001b[0mimgsz\u001b[0m\u001b[1;33m,\u001b[0m \u001b[0msilent\u001b[0m\u001b[1;33m=\u001b[0m\u001b[1;32mFalse\u001b[0m\u001b[1;33m)\u001b[0m \u001b[1;31m# y_hat_bcc\u001b[0m\u001b[1;33m\u001b[0m\u001b[1;33m\u001b[0m\u001b[0m\n\u001b[1;32m--> 368\u001b[1;33m                     \u001b[0mbatch_qtargets\u001b[0m\u001b[1;33m,\u001b[0m \u001b[0mbatch_pcm\u001b[0m\u001b[1;33m[\u001b[0m\u001b[1;34m'variational'\u001b[0m\u001b[1;33m]\u001b[0m\u001b[1;33m,\u001b[0m \u001b[0mbatch_lb\u001b[0m \u001b[1;33m=\u001b[0m \u001b[0mVBi_yolo\u001b[0m\u001b[1;33m(\u001b[0m\u001b[0mtarget_volunteers_bcc\u001b[0m\u001b[1;33m,\u001b[0m \u001b[0mbatch_pred_bcc\u001b[0m\u001b[1;33m,\u001b[0m \u001b[0mbatch_pcm\u001b[0m\u001b[1;33m[\u001b[0m\u001b[1;34m'variational'\u001b[0m\u001b[1;33m]\u001b[0m\u001b[1;33m,\u001b[0m \u001b[0mbatch_pcm\u001b[0m\u001b[1;33m[\u001b[0m\u001b[1;34m'prior'\u001b[0m\u001b[1;33m]\u001b[0m\u001b[1;33m,\u001b[0m \u001b[0mtorchMode\u001b[0m \u001b[1;33m=\u001b[0m \u001b[0mtorchMode\u001b[0m\u001b[1;33m,\u001b[0m \u001b[0mdevice\u001b[0m\u001b[1;33m=\u001b[0m\u001b[0mdevice\u001b[0m\u001b[1;33m,\u001b[0m \u001b[0minvert_classes\u001b[0m \u001b[1;33m=\u001b[0m \u001b[1;32mFalse\u001b[0m\u001b[1;33m)\u001b[0m\u001b[1;33m\u001b[0m\u001b[1;33m\u001b[0m\u001b[0m\n\u001b[0m\u001b[0;32m    369\u001b[0m                     \u001b[0mLBs\u001b[0m\u001b[1;33m.\u001b[0m\u001b[0mappend\u001b[0m\u001b[1;33m(\u001b[0m\u001b[0mbatch_lb\u001b[0m\u001b[1;33m)\u001b[0m\u001b[1;33m\u001b[0m\u001b[1;33m\u001b[0m\u001b[0m\n\u001b[0;32m    370\u001b[0m                     \u001b[1;32mwith\u001b[0m \u001b[0mtorch\u001b[0m\u001b[1;33m.\u001b[0m\u001b[0mno_grad\u001b[0m\u001b[1;33m(\u001b[0m\u001b[1;33m)\u001b[0m\u001b[1;33m:\u001b[0m\u001b[1;33m\u001b[0m\u001b[1;33m\u001b[0m\u001b[0m\n",
      "\u001b[1;32m~\\OneDrive - University of Surrey\\Documents\\GitHub\\dental_disease\\src\\lib\\BCCNet\\VariationalInference\\VB_iteration_yolo.py\u001b[0m in \u001b[0;36mVB_iteration\u001b[1;34m(X, nn_output, alpha_volunteers, alpha0_volunteers, torchMode, device, invert_classes)\u001b[0m\n\u001b[0;32m     38\u001b[0m \u001b[1;33m\u001b[0m\u001b[0m\n\u001b[0;32m     39\u001b[0m     \u001b[1;31m# q_pi_workers\u001b[0m\u001b[1;33m\u001b[0m\u001b[1;33m\u001b[0m\u001b[0m\n\u001b[1;32m---> 40\u001b[1;33m     \u001b[0malpha_volunteers\u001b[0m \u001b[1;33m=\u001b[0m \u001b[0mupdate_alpha_volunteers\u001b[0m\u001b[1;33m(\u001b[0m\u001b[0malpha0_volunteers\u001b[0m\u001b[1;33m,\u001b[0m \u001b[0mNjl\u001b[0m\u001b[1;33m,\u001b[0m \u001b[0mtorchMode\u001b[0m\u001b[1;33m,\u001b[0m \u001b[0mdevice\u001b[0m\u001b[1;33m=\u001b[0m\u001b[0mdevice\u001b[0m\u001b[1;33m)\u001b[0m\u001b[1;33m\u001b[0m\u001b[1;33m\u001b[0m\u001b[0m\n\u001b[0m\u001b[0;32m     41\u001b[0m \u001b[1;33m\u001b[0m\u001b[0m\n\u001b[0;32m     42\u001b[0m     \u001b[1;31m# Low bound\u001b[0m\u001b[1;33m\u001b[0m\u001b[1;33m\u001b[0m\u001b[0m\n",
      "\u001b[1;32m~\\OneDrive - University of Surrey\\Documents\\GitHub\\dental_disease\\src\\lib\\BCCNet\\VariationalInference\\VB_iteration_yolo.py\u001b[0m in \u001b[0;36mupdate_alpha_volunteers\u001b[1;34m(alpha0_volunteers, f_iu, torchMode, device)\u001b[0m\n\u001b[0;32m    140\u001b[0m     \u001b[1;33m(\u001b[0m\u001b[0mbase_lib\u001b[0m\u001b[1;33m,\u001b[0m\u001b[1;33m)\u001b[0m \u001b[1;33m=\u001b[0m \u001b[0mget_modules\u001b[0m\u001b[1;33m(\u001b[0m\u001b[0mtorchMode\u001b[0m\u001b[1;33m,\u001b[0m \u001b[1;33m[\u001b[0m\u001b[1;34m'base_lib'\u001b[0m\u001b[1;33m]\u001b[0m\u001b[1;33m)\u001b[0m\u001b[1;33m\u001b[0m\u001b[1;33m\u001b[0m\u001b[0m\n\u001b[0;32m    141\u001b[0m     \u001b[0mK\u001b[0m \u001b[1;33m=\u001b[0m \u001b[0malpha0_volunteers\u001b[0m\u001b[1;33m.\u001b[0m\u001b[0mshape\u001b[0m\u001b[1;33m[\u001b[0m\u001b[1;36m2\u001b[0m\u001b[1;33m]\u001b[0m\u001b[1;33m\u001b[0m\u001b[1;33m\u001b[0m\u001b[0m\n\u001b[1;32m--> 142\u001b[1;33m     \u001b[0malpha_volunteers\u001b[0m \u001b[1;33m=\u001b[0m \u001b[0mbase_lib\u001b[0m\u001b[1;33m.\u001b[0m\u001b[0mzeros_like\u001b[0m\u001b[1;33m(\u001b[0m\u001b[0malpha0_volunteers\u001b[0m\u001b[1;33m)\u001b[0m\u001b[1;33m\u001b[0m\u001b[1;33m\u001b[0m\u001b[0m\n\u001b[0m\u001b[0;32m    143\u001b[0m     \u001b[1;32mif\u001b[0m \u001b[0mtorchMode\u001b[0m\u001b[1;33m:\u001b[0m\u001b[1;33m\u001b[0m\u001b[1;33m\u001b[0m\u001b[0m\n\u001b[0;32m    144\u001b[0m         \u001b[0malpha_volunteers\u001b[0m \u001b[1;33m=\u001b[0m \u001b[0malpha_volunteers\u001b[0m\u001b[1;33m.\u001b[0m\u001b[0mto\u001b[0m\u001b[1;33m(\u001b[0m\u001b[0mdevice\u001b[0m\u001b[1;33m)\u001b[0m\u001b[1;33m\u001b[0m\u001b[1;33m\u001b[0m\u001b[0m\n",
      "\u001b[1;31mKeyboardInterrupt\u001b[0m: "
     ]
    }
   ],
   "source": [
    "os.environ['KMP_DUPLICATE_LIB_OK']='True'\n",
    "%run -i ../src/train.py --data ../data/cyolo.yaml --batch-size 20 --epochs 80 --bcc_epoch 0 --name Expset1_all_cyolo"
   ]
  },
  {
   "cell_type": "code",
   "execution_count": 3,
   "metadata": {},
   "outputs": [
    {
     "name": "stdout",
     "output_type": "stream",
     "text": [
      "\u001b[34m\u001b[1mval: \u001b[0mdata=../data/iid-tvt.yaml, weights=['runs/train/Expset1_all_cyolo/weights/best.pt'], batch_size=32, imgsz=640, conf_thres=0.001, iou_thres=0.6, task=test, device=, single_cls=False, augment=False, verbose=False, save_txt=False, save_hybrid=False, save_conf=False, save_json=False, project=runs/val, name=Expset1_all_cyolo_test, exist_ok=False, half=False\n",
      "                 all         10         32      0.566      0.182     0.0328    0.00475\n",
      "           bone-loss         10         11      0.133      0.364     0.0649    0.00938\n",
      "       dental-caries         10         21          1          0    0.00063   0.000126\n",
      "Speed: 1.6ms pre-process, 24.4ms inference, 3.9ms NMS per image at shape (32, 3, 640, 640)\n",
      "Results saved to \u001b[1mruns\\val\\Expset1_all_cyolo_test\u001b[0m\n"
     ]
    },
    {
     "name": "stderr",
     "output_type": "stream",
     "text": [
      "YOLOv5  2022-1-18 torch 1.10.1+cu113 CUDA:0 (NVIDIA GeForce RTX 3090, 24575.5MB)\n",
      "\n",
      "Fusing layers... \n",
      "C:\\Users\\rb01243\\Anaconda3\\lib\\site-packages\\torch\\functional.py:445: UserWarning: torch.meshgrid: in an upcoming release, it will be required to pass the indexing argument. (Triggered internally at  ..\\aten\\src\\ATen\\native\\TensorShape.cpp:2157.)\n",
      "  return _VF.meshgrid(tensors, **kwargs)  # type: ignore[attr-defined]\n",
      "Model Summary: 213 layers, 7015519 parameters, 0 gradients, 15.8 GFLOPs\n",
      "\n",
      "\u001b[34m\u001b[1mtest: \u001b[0mScanning '..\\data\\datasets\\iid-tvt\\labels\\test.cache' images and labels... 10 found, 0 missing, 0 empty, 0 corrupted: 100%|##########| 10/10 [00:00<?, ?it/s]\n",
      "\u001b[34m\u001b[1mtest: \u001b[0mScanning '..\\data\\datasets\\iid-tvt\\labels\\test.cache' images and labels... 10 found, 0 missing, 0 empty, 0 corrupted: 100%|##########| 10/10 [00:00<?, ?it/s]\n",
      "\n",
      "               Class     Images     Labels          P          R     mAP@.5 mAP@.5:.95:   0%|          | 0/1 [00:00<?, ?it/s]\n",
      "               Class     Images     Labels          P          R     mAP@.5 mAP@.5:.95: 100%|##########| 1/1 [00:05<00:00,  5.97s/it]\n",
      "               Class     Images     Labels          P          R     mAP@.5 mAP@.5:.95: 100%|##########| 1/1 [00:05<00:00,  5.97s/it]\n"
     ]
    }
   ],
   "source": [
    "os.environ['KMP_DUPLICATE_LIB_OK']='True'\n",
    "!python ../src/val.py --weights runs/train/Expset1_all_cyolo/weights/best.pt --data ../data/iid-tvt.yaml --task test --name Expset1_all_cyolo_test"
   ]
  },
  {
   "cell_type": "code",
   "execution_count": 2,
   "metadata": {},
   "outputs": [
    {
     "ename": "ImportError",
     "evalue": "cannot import name 'save_one_box' from 'utils.general' (C:\\Users\\rb01243\\OneDrive - University of Surrey\\Documents\\GitHub\\dental_disease\\yolov5-master\\utils\\general.py)",
     "output_type": "error",
     "traceback": [
      "\u001b[1;31m---------------------------------------------------------------------------\u001b[0m",
      "\u001b[1;31mImportError\u001b[0m                               Traceback (most recent call last)",
      "\u001b[1;32m~\\OneDrive - University of Surrey\\Documents\\GitHub\\dental_disease\\src\\train.py\u001b[0m in \u001b[0;36m<module>\u001b[1;34m\u001b[0m\n\u001b[0;32m     30\u001b[0m \u001b[1;32mimport\u001b[0m \u001b[0myaml\u001b[0m\u001b[1;33m\u001b[0m\u001b[1;33m\u001b[0m\u001b[0m\n\u001b[0;32m     31\u001b[0m \u001b[1;33m\u001b[0m\u001b[0m\n\u001b[1;32m---> 32\u001b[1;33m \u001b[1;32mfrom\u001b[0m \u001b[0mcyolo_utils\u001b[0m\u001b[1;33m.\u001b[0m\u001b[0mtrain_with_bcc\u001b[0m \u001b[1;32mimport\u001b[0m \u001b[0mVOL_ID_MAP\u001b[0m\u001b[1;33m,\u001b[0m \u001b[0mSINGLE_VOL_ID_MAP\u001b[0m\u001b[1;33m,\u001b[0m\u001b[0;31m \u001b[0m\u001b[0;31m\\\u001b[0m\u001b[1;33m\u001b[0m\u001b[1;33m\u001b[0m\u001b[0m\n\u001b[0m\u001b[0;32m     33\u001b[0m     \u001b[0mconvert_target_volunteers_yolo2bcc\u001b[0m\u001b[1;33m,\u001b[0m \u001b[0mget_file_volunteers_dict\u001b[0m\u001b[1;33m,\u001b[0m \u001b[0mextract_volunteers\u001b[0m\u001b[1;33m,\u001b[0m\u001b[0;31m \u001b[0m\u001b[0;31m\\\u001b[0m\u001b[1;33m\u001b[0m\u001b[1;33m\u001b[0m\u001b[0m\n\u001b[0;32m     34\u001b[0m     \u001b[0mnn_predict\u001b[0m\u001b[1;33m,\u001b[0m \u001b[0minit_bcc_params\u001b[0m\u001b[1;33m,\u001b[0m \u001b[0mcompute_param_confusion_matrices\u001b[0m\u001b[1;33m,\u001b[0m \u001b[0minit_metrics\u001b[0m\u001b[1;33m\u001b[0m\u001b[1;33m\u001b[0m\u001b[0m\n",
      "\u001b[1;32m~\\OneDrive - University of Surrey\\Documents\\GitHub\\dental_disease\\src\\cyolo_utils\\train_with_bcc.py\u001b[0m in \u001b[0;36m<module>\u001b[1;34m\u001b[0m\n\u001b[0;32m      5\u001b[0m \u001b[1;32mfrom\u001b[0m \u001b[0mutils\u001b[0m\u001b[1;33m.\u001b[0m\u001b[0mgeneral\u001b[0m \u001b[1;32mimport\u001b[0m \u001b[0mxywh2xyxy\u001b[0m\u001b[1;33m\u001b[0m\u001b[1;33m\u001b[0m\u001b[0m\n\u001b[0;32m      6\u001b[0m \u001b[1;32mfrom\u001b[0m \u001b[0mutils\u001b[0m\u001b[1;33m.\u001b[0m\u001b[0mgeneral\u001b[0m \u001b[1;32mimport\u001b[0m \u001b[0mcheck_dataset\u001b[0m\u001b[1;33m,\u001b[0m \u001b[0mcheck_file\u001b[0m\u001b[1;33m,\u001b[0m \u001b[0mincrement_path\u001b[0m\u001b[1;33m\u001b[0m\u001b[1;33m\u001b[0m\u001b[0m\n\u001b[1;32m----> 7\u001b[1;33m \u001b[1;32mimport\u001b[0m \u001b[0mdetect\u001b[0m\u001b[1;33m\u001b[0m\u001b[1;33m\u001b[0m\u001b[0m\n\u001b[0m\u001b[0;32m      8\u001b[0m \u001b[1;32mimport\u001b[0m \u001b[0mnumpy\u001b[0m \u001b[1;32mas\u001b[0m \u001b[0mnp\u001b[0m\u001b[1;33m\u001b[0m\u001b[1;33m\u001b[0m\u001b[0m\n\u001b[0;32m      9\u001b[0m \u001b[1;32mimport\u001b[0m \u001b[0mos\u001b[0m\u001b[1;33m\u001b[0m\u001b[1;33m\u001b[0m\u001b[0m\n",
      "\u001b[1;32m~\\OneDrive - University of Surrey\\Documents\\GitHub\\dental_disease\\src\\detect.py\u001b[0m in \u001b[0;36m<module>\u001b[1;34m\u001b[0m\n\u001b[0;32m     22\u001b[0m \u001b[1;32mfrom\u001b[0m \u001b[0mmodels\u001b[0m\u001b[1;33m.\u001b[0m\u001b[0mexperimental\u001b[0m \u001b[1;32mimport\u001b[0m \u001b[0mattempt_load\u001b[0m\u001b[1;33m\u001b[0m\u001b[1;33m\u001b[0m\u001b[0m\n\u001b[0;32m     23\u001b[0m \u001b[1;32mfrom\u001b[0m \u001b[0mutils\u001b[0m\u001b[1;33m.\u001b[0m\u001b[0mdatasets\u001b[0m \u001b[1;32mimport\u001b[0m \u001b[0mLoadStreams\u001b[0m\u001b[1;33m,\u001b[0m \u001b[0mLoadImages\u001b[0m\u001b[1;33m\u001b[0m\u001b[1;33m\u001b[0m\u001b[0m\n\u001b[1;32m---> 24\u001b[1;33m \u001b[1;32mfrom\u001b[0m \u001b[0mutils\u001b[0m\u001b[1;33m.\u001b[0m\u001b[0mgeneral\u001b[0m \u001b[1;32mimport\u001b[0m \u001b[0mcheck_img_size\u001b[0m\u001b[1;33m,\u001b[0m \u001b[0mcheck_requirements\u001b[0m\u001b[1;33m,\u001b[0m \u001b[0mcheck_imshow\u001b[0m\u001b[1;33m,\u001b[0m \u001b[0mcolorstr\u001b[0m\u001b[1;33m,\u001b[0m \u001b[0mis_ascii\u001b[0m\u001b[1;33m,\u001b[0m \u001b[0mnon_max_suppression\u001b[0m\u001b[1;33m,\u001b[0m\u001b[0;31m \u001b[0m\u001b[0;31m\\\u001b[0m\u001b[1;33m\u001b[0m\u001b[1;33m\u001b[0m\u001b[0m\n\u001b[0m\u001b[0;32m     25\u001b[0m     \u001b[0mapply_classifier\u001b[0m\u001b[1;33m,\u001b[0m \u001b[0mscale_coords\u001b[0m\u001b[1;33m,\u001b[0m \u001b[0mxyxy2xywh\u001b[0m\u001b[1;33m,\u001b[0m \u001b[0mstrip_optimizer\u001b[0m\u001b[1;33m,\u001b[0m \u001b[0mset_logging\u001b[0m\u001b[1;33m,\u001b[0m \u001b[0mincrement_path\u001b[0m\u001b[1;33m,\u001b[0m \u001b[0msave_one_box\u001b[0m\u001b[1;33m\u001b[0m\u001b[1;33m\u001b[0m\u001b[0m\n\u001b[0;32m     26\u001b[0m \u001b[1;32mfrom\u001b[0m \u001b[0mutils\u001b[0m\u001b[1;33m.\u001b[0m\u001b[0mplots\u001b[0m \u001b[1;32mimport\u001b[0m \u001b[0mAnnotator\u001b[0m\u001b[1;33m,\u001b[0m \u001b[0mcolors\u001b[0m\u001b[1;33m\u001b[0m\u001b[1;33m\u001b[0m\u001b[0m\n",
      "\u001b[1;31mImportError\u001b[0m: cannot import name 'save_one_box' from 'utils.general' (C:\\Users\\rb01243\\OneDrive - University of Surrey\\Documents\\GitHub\\dental_disease\\yolov5-master\\utils\\general.py)"
     ]
    }
   ],
   "source": [
    "import os\n",
    "import torch\n",
    "import wandb\n",
    "# PROJ_PATH = '..'\n",
    "# sys.path.append(PROJ_PATH)\n",
    "# from src.data_preparer import prepare_data\n",
    "#os.chdir(origDir)\n",
    "#os.chdir(os.getcwd()+'/yolov5_master')\n",
    "\n",
    "#%run -i train.py --data ../data/iid-tvt.yaml --batch-size 20 --epochs 18 --weights models/yolov5s.pt\n",
    "#%run -i src/train.py --data data/iid-tvt.yaml --batch-size 20 --epochs 18 --bcc_epoch -1 --cfg src/models/yolov5s.yaml\n",
    "#%run -i yolov5_master/train.py --data data/iid-tvt.yaml --batch-size 20 --epochs 18 --cfg yolov5_master/models/yolov5s.yaml\n",
    "#%run -i train.py --data data/iid-tvt.yaml --batch-size 20 --epochs 18 --weights models/yolov5s.pt --bcc_epoch -1 yolov5_master/train.py yolov5_master/models/yolov5s.pt\n",
    "\n",
    "#os.chdir(origDir) \n",
    "\n",
    "# SRC_PATH = os.path.join(PROJ_PATH, 'src')\n",
    "# DATA_PATH = os.path.join(PROJ_PATH, 'data/datasets')\n",
    "\n",
    "# # data_modes = ['sty', 'stcy']\n",
    "# # train_ratios = (0.7, 0.2, 0.1)\n",
    "# # data_path = DATA_PATH\n",
    "# # for mode in data_modes:\n",
    "# #     prepare_data(mode, train_ratios, data_path)\n",
    "\n",
    "\n",
    "# data = '../data/iid-tvt.yaml'\n",
    "# #data = '../data/cyolo.yaml'\n",
    "# batch_size = 20 # Change this to number of train images\n",
    "# epochs = 20\n",
    "# bcc_epoch = -1 # Involve BCC from epoch number \"bcc_epoch\". Set to -1 for no BCC. 0 for all BCC.\n",
    "# exp_num = 10002\n",
    "# name = f'exp{exp_num}'\n",
    "\n",
    "# print(SRC_PATH)\n",
    "#wandb.init(project=\"cyolo\", entity=\"dddetection\")\n",
    "os.environ['KMP_DUPLICATE_LIB_OK']='True'\n",
    "#torch. set_printoptions(profile=\"full\")\n",
    "#torch. set_printoptions(profile=\"default\")\n",
    "%run -i ../src/train.py --data ../data/iid-tvt.yaml --batch-size 20 --epochs 20 --bcc_epoch -1 --name iid\n",
    "#%run -i ../src/train.py --data ../data/coco2.yaml --batch-size 18 --epochs 2 --bcc_epoch -1 --name testCOCO1\n",
    "\n",
    "# !python $SRC_PATH/train.py --data $data \\\n",
    "#                            --batch-size $batch_size \\\n",
    "#                            --epochs $epochs \\\n",
    "#                            --bcc_epoch $bcc_epoch \\\n",
    "#                            --name $name \\\n",
    "#                            --exist-ok"
   ]
  },
  {
   "cell_type": "markdown",
   "metadata": {},
   "source": [
    "## Analysis"
   ]
  },
  {
   "cell_type": "markdown",
   "metadata": {},
   "source": [
    "{ analysis goes here }"
   ]
  },
  {
   "cell_type": "markdown",
   "metadata": {},
   "source": [
    "# Experiment 2 (Crowd RCNN)\n",
    "\n",
    "### This section runs the experiments, prints results, and plots graphs for both dataset using the Crowd RCNN model."
   ]
  },
  {
   "cell_type": "code",
   "execution_count": null,
   "metadata": {},
   "outputs": [],
   "source": [
    "%run -i ../Crowd-R-CNN-master/trainval_net.py --dataset ../data/datasets/bcc-tvt/ --batch_size 20 --epochs 80 --name Expset1_all_RCNN"
   ]
  },
  {
   "cell_type": "code",
   "execution_count": null,
   "metadata": {},
   "outputs": [],
   "source": []
  },
  {
   "cell_type": "markdown",
   "metadata": {},
   "source": [
    "## Analysis"
   ]
  },
  {
   "cell_type": "markdown",
   "metadata": {},
   "source": [
    "{ analysis goes here }"
   ]
  },
  {
   "cell_type": "markdown",
   "metadata": {},
   "source": [
    "# Experiment 3 (YoloV5 IID Annotators)\n",
    "\n",
    "### This section runs the experiments, prints results, and plots graphs for all annotators where their labels are treated as ground truth labels, using the YoloV5 model."
   ]
  },
  {
   "cell_type": "code",
   "execution_count": 1,
   "metadata": {},
   "outputs": [
    {
     "name": "stderr",
     "output_type": "stream",
     "text": [
      "YOLOv5  2022-1-18 torch 1.10.1+cu113 CUDA:0 (NVIDIA GeForce RTX 3090, 24575.5MB)\n",
      "\n",
      "\u001b[34m\u001b[1mhyperparameters: \u001b[0mlr0=0.01, lrf=0.2, momentum=0.937, weight_decay=0.0005, warmup_epochs=3.0, warmup_momentum=0.8, warmup_bias_lr=0.1, box=0.05, obj=1.0, cls=0.5, cls_pw=1.0, obj_pw=1.0, iou_t=0.2, anchor_t=4.0, fl_gamma=0, hsv_h=0.015, hsv_s=0.7, hsv_v=0.4, degrees=0.0, translate=0.1, scale=0.5, shear=0.0, perspective=0.0, flipud=0.0, fliplr=0.5, mosaic=1.0, mixup=0.0, copy_paste=0.0\n",
      "\u001b[34m\u001b[1mTensorBoard: \u001b[0mStart with 'tensorboard --logdir runs\\train', view at http://localhost:6006/\n"
     ]
    },
    {
     "name": "stdout",
     "output_type": "stream",
     "text": [
      "\u001b[34m\u001b[1mtrain: \u001b[0mbcc_epoch=-1, qtfilter_epoch=-1, qt_thres_mode=, qt_thres=0.0, hybrid_entropy_thres=0.0, hybrid_conf_thres=0.0, weights=yolov5s.pt, cfg=, data=../data/iid-tvt.yaml, hyp=../data/hyps/hyp.scratch.yaml, epochs=80, batch_size=20, imgsz=640, rect=False, resume=False, nosave=False, noval=False, noautoanchor=False, evolve=None, bucket=, cache=None, image_weights=False, device=, multi_scale=False, single_cls=False, adam=False, sync_bn=False, workers=8, project=runs/train, entity=None, name=Expset1_iid_yolov5, exist_ok=False, quad=False, linear_lr=False, label_smoothing=0.0, upload_dataset=False, bbox_interval=-1, save_period=-1, artifact_alias=latest, local_rank=-1, freeze=0, patience=1100\n",
      "\u001b[34m\u001b[1mgithub: \u001b[0mskipping check (not a git repository), for updates see https://github.com/ultralytics/yolov5\n"
     ]
    },
    {
     "name": "stderr",
     "output_type": "stream",
     "text": [
      "\u001b[34m\u001b[1mwandb\u001b[0m: Currently logged in as: \u001b[33mdddetection\u001b[0m (use `wandb login --relogin` to force relogin)\n"
     ]
    },
    {
     "data": {
      "text/html": [
       "\n",
       "                    Syncing run <strong><a href=\"https://wandb.ai/dddetection/YOLOv5/runs/sp3dl844\" target=\"_blank\">Expset1_iid_yolov5</a></strong> to <a href=\"https://wandb.ai/dddetection/YOLOv5\" target=\"_blank\">Weights & Biases</a> (<a href=\"https://docs.wandb.com/integrations/jupyter.html\" target=\"_blank\">docs</a>).<br/>\n",
       "\n",
       "                "
      ],
      "text/plain": [
       "<IPython.core.display.HTML object>"
      ]
     },
     "metadata": {},
     "output_type": "display_data"
    },
    {
     "name": "stderr",
     "output_type": "stream",
     "text": [
      "Overriding model.yaml nc=80 with nc=2\n",
      "\n",
      "                 from  n    params  module                                  arguments                     \n",
      "  0                -1  1      3520  models.common.Conv                      [3, 32, 6, 2, 2]              \n",
      "  1                -1  1     18560  models.common.Conv                      [32, 64, 3, 2]                \n",
      "  2                -1  1     18816  models.common.C3                        [64, 64, 1]                   \n",
      "  3                -1  1     73984  models.common.Conv                      [64, 128, 3, 2]               \n",
      "  4                -1  2    115712  models.common.C3                        [128, 128, 2]                 \n",
      "  5                -1  1    295424  models.common.Conv                      [128, 256, 3, 2]              \n",
      "  6                -1  3    625152  models.common.C3                        [256, 256, 3]                 \n",
      "  7                -1  1   1180672  models.common.Conv                      [256, 512, 3, 2]              \n",
      "  8                -1  1   1182720  models.common.C3                        [512, 512, 1]                 \n",
      "  9                -1  1    656896  models.common.SPPF                      [512, 512, 5]                 \n",
      " 10                -1  1    131584  models.common.Conv                      [512, 256, 1, 1]              \n",
      " 11                -1  1         0  torch.nn.modules.upsampling.Upsample    [None, 2, 'nearest']          \n",
      " 12           [-1, 6]  1         0  models.common.Concat                    [1]                           \n",
      " 13                -1  1    361984  models.common.C3                        [512, 256, 1, False]          \n",
      " 14                -1  1     33024  models.common.Conv                      [256, 128, 1, 1]              \n",
      " 15                -1  1         0  torch.nn.modules.upsampling.Upsample    [None, 2, 'nearest']          \n",
      " 16           [-1, 4]  1         0  models.common.Concat                    [1]                           \n",
      " 17                -1  1     90880  models.common.C3                        [256, 128, 1, False]          \n",
      " 18                -1  1    147712  models.common.Conv                      [128, 128, 3, 2]              \n",
      " 19          [-1, 14]  1         0  models.common.Concat                    [1]                           \n",
      " 20                -1  1    296448  models.common.C3                        [256, 256, 1, False]          \n",
      " 21                -1  1    590336  models.common.Conv                      [256, 256, 3, 2]              \n",
      " 22          [-1, 10]  1         0  models.common.Concat                    [1]                           \n",
      " 23                -1  1   1182720  models.common.C3                        [512, 512, 1, False]          \n",
      " 24      [17, 20, 23]  1     18879  models.yolo.Detect                      [2, [[10, 13, 16, 30, 33, 23], [30, 61, 62, 45, 59, 119], [116, 90, 156, 198, 373, 326]], [128, 256, 512]]\n",
      "C:\\Users\\rb01243\\Anaconda3\\lib\\site-packages\\torch\\functional.py:445: UserWarning: torch.meshgrid: in an upcoming release, it will be required to pass the indexing argument. (Triggered internally at  ..\\aten\\src\\ATen\\native\\TensorShape.cpp:2157.)\n",
      "  return _VF.meshgrid(tensors, **kwargs)  # type: ignore[attr-defined]\n",
      "Model Summary: 270 layers, 7025023 parameters, 7025023 gradients, 15.9 GFLOPs\n",
      "\n",
      "Transferred 344/350 items from yolov5s.pt\n",
      "Scaled weight_decay = 0.00046875\n",
      "\u001b[34m\u001b[1moptimizer:\u001b[0m SGD with parameter groups 57 weight, 60 weight (no decay), 60 bias\n",
      "\u001b[34m\u001b[1mtrain: \u001b[0mScanning '..\\data\\datasets\\iid-tvt\\labels\\train.cache' images and labels... 262 found, 18 missing, 0 empty, 0 corrupted: 100%|██████████| 280/280 [00:00<?, ?it/s]\n",
      "\u001b[34m\u001b[1mval: \u001b[0mScanning '..\\data\\datasets\\iid-tvt\\labels\\val.cache' images and labels... 67 found, 13 missing, 0 empty, 0 corrupted: 100%|██████████| 80/80 [00:00<?, ?it/s]\n"
     ]
    },
    {
     "name": "stdout",
     "output_type": "stream",
     "text": [
      "Plotting labels... \n"
     ]
    },
    {
     "name": "stderr",
     "output_type": "stream",
     "text": [
      "Image sizes 640 train, 640 val\n",
      "Using 8 dataloader workers\n",
      "Logging results to \u001b[1mruns\\train\\Expset1_iid_yolov5\u001b[0m\n",
      "Starting training for 80 epochs...\n",
      "\n",
      "     Epoch   gpu_mem       box       obj       cls    labels  img_size\n",
      "\n",
      "Only YOLO\n"
     ]
    },
    {
     "name": "stdout",
     "output_type": "stream",
     "text": [
      "\n",
      "\u001b[34m\u001b[1mautoanchor: \u001b[0mAnalyzing anchors... anchors/target = 6.02, Best Possible Recall (BPR) = 1.0000\n"
     ]
    },
    {
     "name": "stderr",
     "output_type": "stream",
     "text": [
      "      0/79     4.32G    0.1161   0.03868   0.02713        51       640: 100%|██████████| 14/14 [00:05<00:00,  2.42it/s]\n",
      "               Class     Images     Labels          P          R     mAP@.5 mAP@.5:.95: 100%|██████████| 2/2 [00:01<00:00,  1.28it/s]\n"
     ]
    },
    {
     "name": "stdout",
     "output_type": "stream",
     "text": [
      "                 all         80        220    0.00165    0.00515   0.000457   0.000103\n"
     ]
    },
    {
     "name": "stderr",
     "output_type": "stream",
     "text": [
      "               Class     Images     Labels          P          R     mAP@.5 mAP@.5:.95: 100%|██████████| 14/14 [00:05<00:00,  2.76it/s]\n"
     ]
    },
    {
     "name": "stdout",
     "output_type": "stream",
     "text": [
      "                 all        280        961    0.00108     0.0233   0.000437   8.33e-05\n"
     ]
    },
    {
     "name": "stderr",
     "output_type": "stream",
     "text": [
      "\n",
      "     Epoch   gpu_mem       box       obj       cls    labels  img_size\n",
      "\n",
      "Only YOLO\n",
      "      1/79     4.32G     0.104    0.0408    0.0236        51       640: 100%|██████████| 14/14 [00:01<00:00,  8.10it/s]\n",
      "               Class     Images     Labels          P          R     mAP@.5 mAP@.5:.95: 100%|██████████| 2/2 [00:00<00:00,  2.10it/s]\n"
     ]
    },
    {
     "name": "stdout",
     "output_type": "stream",
     "text": [
      "                 all         80        220    0.00217      0.027    0.00063   0.000131\n"
     ]
    },
    {
     "name": "stderr",
     "output_type": "stream",
     "text": [
      "               Class     Images     Labels          P          R     mAP@.5 mAP@.5:.95: 100%|██████████| 14/14 [00:03<00:00,  3.65it/s]\n"
     ]
    },
    {
     "name": "stdout",
     "output_type": "stream",
     "text": [
      "                 all        280        961    0.00139     0.0355   0.000714   0.000162\n"
     ]
    },
    {
     "name": "stderr",
     "output_type": "stream",
     "text": [
      "\n",
      "     Epoch   gpu_mem       box       obj       cls    labels  img_size\n",
      "\n",
      "Only YOLO\n",
      "      2/79     4.32G   0.09664   0.04229   0.02022        51       640: 100%|██████████| 14/14 [00:01<00:00,  8.12it/s]\n",
      "               Class     Images     Labels          P          R     mAP@.5 mAP@.5:.95: 100%|██████████| 2/2 [00:00<00:00,  2.22it/s]\n"
     ]
    },
    {
     "name": "stdout",
     "output_type": "stream",
     "text": [
      "                 all         80        220     0.0017     0.0747   0.000914   0.000202\n"
     ]
    },
    {
     "name": "stderr",
     "output_type": "stream",
     "text": [
      "               Class     Images     Labels          P          R     mAP@.5 mAP@.5:.95: 100%|██████████| 14/14 [00:03<00:00,  4.19it/s]\n"
     ]
    },
    {
     "name": "stdout",
     "output_type": "stream",
     "text": [
      "                 all        280        961    0.00268     0.0204    0.00107   0.000216\n"
     ]
    },
    {
     "name": "stderr",
     "output_type": "stream",
     "text": [
      "\n",
      "     Epoch   gpu_mem       box       obj       cls    labels  img_size\n",
      "\n",
      "Only YOLO\n",
      "      3/79     4.32G   0.09147   0.04322   0.01751        51       640: 100%|██████████| 14/14 [00:01<00:00,  7.88it/s]\n",
      "               Class     Images     Labels          P          R     mAP@.5 mAP@.5:.95: 100%|██████████| 2/2 [00:00<00:00,  2.76it/s]\n"
     ]
    },
    {
     "name": "stdout",
     "output_type": "stream",
     "text": [
      "                 all         80        220    0.00405      0.018     0.0014   0.000318\n"
     ]
    },
    {
     "name": "stderr",
     "output_type": "stream",
     "text": [
      "               Class     Images     Labels          P          R     mAP@.5 mAP@.5:.95: 100%|██████████| 14/14 [00:02<00:00,  4.95it/s]\n"
     ]
    },
    {
     "name": "stdout",
     "output_type": "stream",
     "text": [
      "                 all        280        961    0.00579     0.0332    0.00206   0.000397\n"
     ]
    },
    {
     "name": "stderr",
     "output_type": "stream",
     "text": [
      "\n",
      "     Epoch   gpu_mem       box       obj       cls    labels  img_size\n",
      "\n",
      "Only YOLO\n",
      "      4/79     4.32G   0.08658   0.04402   0.01531        51       640: 100%|██████████| 14/14 [00:01<00:00,  7.98it/s]\n",
      "               Class     Images     Labels          P          R     mAP@.5 mAP@.5:.95: 100%|██████████| 2/2 [00:00<00:00,  2.73it/s]\n"
     ]
    },
    {
     "name": "stdout",
     "output_type": "stream",
     "text": [
      "                 all         80        220     0.0134     0.0438    0.00475   0.000875\n"
     ]
    },
    {
     "name": "stderr",
     "output_type": "stream",
     "text": [
      "               Class     Images     Labels          P          R     mAP@.5 mAP@.5:.95: 100%|██████████| 14/14 [00:02<00:00,  5.24it/s]\n"
     ]
    },
    {
     "name": "stdout",
     "output_type": "stream",
     "text": [
      "                 all        280        961     0.0152     0.0501    0.00507   0.000983\n"
     ]
    },
    {
     "name": "stderr",
     "output_type": "stream",
     "text": [
      "\n",
      "     Epoch   gpu_mem       box       obj       cls    labels  img_size\n",
      "\n",
      "Only YOLO\n",
      "      5/79     4.32G   0.08257   0.04392   0.01356        51       640: 100%|██████████| 14/14 [00:01<00:00,  8.00it/s]\n",
      "               Class     Images     Labels          P          R     mAP@.5 mAP@.5:.95: 100%|██████████| 2/2 [00:00<00:00,  2.84it/s]\n"
     ]
    },
    {
     "name": "stdout",
     "output_type": "stream",
     "text": [
      "                 all         80        220     0.0335     0.0928     0.0161     0.0031\n"
     ]
    },
    {
     "name": "stderr",
     "output_type": "stream",
     "text": [
      "               Class     Images     Labels          P          R     mAP@.5 mAP@.5:.95: 100%|██████████| 14/14 [00:02<00:00,  5.27it/s]\n"
     ]
    },
    {
     "name": "stdout",
     "output_type": "stream",
     "text": [
      "                 all        280        961     0.0491     0.0728     0.0193     0.0036\n"
     ]
    },
    {
     "name": "stderr",
     "output_type": "stream",
     "text": [
      "\n",
      "     Epoch   gpu_mem       box       obj       cls    labels  img_size\n",
      "\n",
      "Only YOLO\n",
      "      6/79     4.32G   0.07865   0.04294    0.0121        51       640: 100%|██████████| 14/14 [00:01<00:00,  8.20it/s]\n",
      "               Class     Images     Labels          P          R     mAP@.5 mAP@.5:.95: 100%|██████████| 2/2 [00:00<00:00,  2.69it/s]\n"
     ]
    },
    {
     "name": "stdout",
     "output_type": "stream",
     "text": [
      "                 all         80        220      0.565      0.106     0.0289    0.00515\n"
     ]
    },
    {
     "name": "stderr",
     "output_type": "stream",
     "text": [
      "               Class     Images     Labels          P          R     mAP@.5 mAP@.5:.95: 100%|██████████| 14/14 [00:02<00:00,  5.20it/s]\n"
     ]
    },
    {
     "name": "stdout",
     "output_type": "stream",
     "text": [
      "                 all        280        961      0.564      0.118     0.0332    0.00584\n"
     ]
    },
    {
     "name": "stderr",
     "output_type": "stream",
     "text": [
      "\n",
      "     Epoch   gpu_mem       box       obj       cls    labels  img_size\n",
      "\n",
      "Only YOLO\n",
      "      7/79     4.32G   0.07569   0.04034   0.01082        51       640: 100%|██████████| 14/14 [00:01<00:00,  8.11it/s]\n",
      "               Class     Images     Labels          P          R     mAP@.5 mAP@.5:.95: 100%|██████████| 2/2 [00:02<00:00,  1.00s/it]\n"
     ]
    },
    {
     "name": "stdout",
     "output_type": "stream",
     "text": [
      "                 all         80        220      0.576      0.103     0.0384     0.0059\n"
     ]
    },
    {
     "name": "stderr",
     "output_type": "stream",
     "text": [
      "               Class     Images     Labels          P          R     mAP@.5 mAP@.5:.95: 100%|██████████| 14/14 [00:02<00:00,  5.17it/s]\n"
     ]
    },
    {
     "name": "stdout",
     "output_type": "stream",
     "text": [
      "                 all        280        961      0.565      0.125     0.0443    0.00783\n"
     ]
    },
    {
     "name": "stderr",
     "output_type": "stream",
     "text": [
      "\n",
      "     Epoch   gpu_mem       box       obj       cls    labels  img_size\n",
      "\n",
      "Only YOLO\n",
      "      8/79     4.32G    0.0734   0.03715  0.009664        51       640: 100%|██████████| 14/14 [00:01<00:00,  8.12it/s]\n",
      "               Class     Images     Labels          P          R     mAP@.5 mAP@.5:.95: 100%|██████████| 2/2 [00:00<00:00,  3.03it/s]\n"
     ]
    },
    {
     "name": "stdout",
     "output_type": "stream",
     "text": [
      "                 all         80        220      0.563      0.155     0.0403    0.00745\n"
     ]
    },
    {
     "name": "stderr",
     "output_type": "stream",
     "text": [
      "               Class     Images     Labels          P          R     mAP@.5 mAP@.5:.95: 100%|██████████| 14/14 [00:02<00:00,  5.37it/s]\n"
     ]
    },
    {
     "name": "stdout",
     "output_type": "stream",
     "text": [
      "                 all        280        961      0.581      0.157     0.0621     0.0112\n"
     ]
    },
    {
     "name": "stderr",
     "output_type": "stream",
     "text": [
      "\n",
      "     Epoch   gpu_mem       box       obj       cls    labels  img_size\n",
      "\n",
      "Only YOLO\n",
      "      9/79     4.32G   0.07243   0.03481  0.008727        51       640: 100%|██████████| 14/14 [00:01<00:00,  7.93it/s]\n",
      "               Class     Images     Labels          P          R     mAP@.5 mAP@.5:.95: 100%|██████████| 2/2 [00:00<00:00,  3.28it/s]\n"
     ]
    },
    {
     "name": "stdout",
     "output_type": "stream",
     "text": [
      "                 all         80        220      0.583      0.198     0.0623      0.012\n"
     ]
    },
    {
     "name": "stderr",
     "output_type": "stream",
     "text": [
      "               Class     Images     Labels          P          R     mAP@.5 mAP@.5:.95: 100%|██████████| 14/14 [00:02<00:00,  5.82it/s]\n"
     ]
    },
    {
     "name": "stdout",
     "output_type": "stream",
     "text": [
      "                 all        280        961      0.593      0.159     0.0766     0.0162\n"
     ]
    },
    {
     "name": "stderr",
     "output_type": "stream",
     "text": [
      "\n",
      "     Epoch   gpu_mem       box       obj       cls    labels  img_size\n",
      "\n",
      "Only YOLO\n",
      "     10/79     4.32G    0.0689   0.03409  0.007981        51       640: 100%|██████████| 14/14 [00:01<00:00,  8.23it/s]\n",
      "               Class     Images     Labels          P          R     mAP@.5 mAP@.5:.95: 100%|██████████| 2/2 [00:00<00:00,  3.65it/s]\n"
     ]
    },
    {
     "name": "stdout",
     "output_type": "stream",
     "text": [
      "                 all         80        220      0.586      0.188     0.0715     0.0169\n"
     ]
    },
    {
     "name": "stderr",
     "output_type": "stream",
     "text": [
      "               Class     Images     Labels          P          R     mAP@.5 mAP@.5:.95: 100%|██████████| 14/14 [00:02<00:00,  6.46it/s]\n"
     ]
    },
    {
     "name": "stdout",
     "output_type": "stream",
     "text": [
      "                 all        280        961      0.626      0.152     0.0977     0.0213\n"
     ]
    },
    {
     "name": "stderr",
     "output_type": "stream",
     "text": [
      "\n",
      "     Epoch   gpu_mem       box       obj       cls    labels  img_size\n",
      "\n",
      "Only YOLO\n",
      "     11/79     4.32G   0.06967   0.03288  0.007405        51       640: 100%|██████████| 14/14 [00:01<00:00,  8.35it/s]\n",
      "               Class     Images     Labels          P          R     mAP@.5 mAP@.5:.95: 100%|██████████| 2/2 [00:00<00:00,  3.79it/s]\n"
     ]
    },
    {
     "name": "stdout",
     "output_type": "stream",
     "text": [
      "                 all         80        220      0.575      0.146     0.0549     0.0108\n"
     ]
    },
    {
     "name": "stderr",
     "output_type": "stream",
     "text": [
      "               Class     Images     Labels          P          R     mAP@.5 mAP@.5:.95: 100%|██████████| 14/14 [00:02<00:00,  6.75it/s]\n"
     ]
    },
    {
     "name": "stdout",
     "output_type": "stream",
     "text": [
      "                 all        280        961      0.591      0.192      0.079     0.0147\n"
     ]
    },
    {
     "name": "stderr",
     "output_type": "stream",
     "text": [
      "\n",
      "     Epoch   gpu_mem       box       obj       cls    labels  img_size\n",
      "\n",
      "Only YOLO\n",
      "     12/79     4.32G   0.06753   0.03239  0.006852        51       640: 100%|██████████| 14/14 [00:01<00:00,  8.14it/s]\n",
      "               Class     Images     Labels          P          R     mAP@.5 mAP@.5:.95: 100%|██████████| 2/2 [00:00<00:00,  3.81it/s]\n"
     ]
    },
    {
     "name": "stdout",
     "output_type": "stream",
     "text": [
      "                 all         80        220      0.589      0.219     0.0903      0.019\n"
     ]
    },
    {
     "name": "stderr",
     "output_type": "stream",
     "text": [
      "               Class     Images     Labels          P          R     mAP@.5 mAP@.5:.95: 100%|██████████| 14/14 [00:01<00:00,  7.28it/s]\n"
     ]
    },
    {
     "name": "stdout",
     "output_type": "stream",
     "text": [
      "                 all        280        961      0.615      0.193      0.101     0.0228\n"
     ]
    },
    {
     "name": "stderr",
     "output_type": "stream",
     "text": [
      "\n",
      "     Epoch   gpu_mem       box       obj       cls    labels  img_size\n",
      "\n",
      "Only YOLO\n",
      "     13/79     4.32G   0.06647    0.0318  0.006514        51       640: 100%|██████████| 14/14 [00:01<00:00,  8.37it/s]\n",
      "               Class     Images     Labels          P          R     mAP@.5 mAP@.5:.95: 100%|██████████| 2/2 [00:00<00:00,  4.17it/s]\n"
     ]
    },
    {
     "name": "stdout",
     "output_type": "stream",
     "text": [
      "                 all         80        220      0.603      0.165     0.0695     0.0175\n"
     ]
    },
    {
     "name": "stderr",
     "output_type": "stream",
     "text": [
      "               Class     Images     Labels          P          R     mAP@.5 mAP@.5:.95: 100%|██████████| 14/14 [00:01<00:00,  7.37it/s]\n"
     ]
    },
    {
     "name": "stdout",
     "output_type": "stream",
     "text": [
      "                 all        280        961      0.601      0.244     0.0944     0.0208\n"
     ]
    },
    {
     "name": "stderr",
     "output_type": "stream",
     "text": [
      "\n",
      "     Epoch   gpu_mem       box       obj       cls    labels  img_size\n",
      "\n",
      "Only YOLO\n",
      "     14/79     4.32G   0.06628    0.0311  0.006026        51       640: 100%|██████████| 14/14 [00:01<00:00,  8.32it/s]\n",
      "               Class     Images     Labels          P          R     mAP@.5 mAP@.5:.95: 100%|██████████| 2/2 [00:00<00:00,  3.65it/s]\n"
     ]
    },
    {
     "name": "stdout",
     "output_type": "stream",
     "text": [
      "                 all         80        220      0.647      0.152     0.0973     0.0228\n"
     ]
    },
    {
     "name": "stderr",
     "output_type": "stream",
     "text": [
      "               Class     Images     Labels          P          R     mAP@.5 mAP@.5:.95: 100%|██████████| 14/14 [00:01<00:00,  7.73it/s]\n"
     ]
    },
    {
     "name": "stdout",
     "output_type": "stream",
     "text": [
      "                 all        280        961      0.625       0.19      0.111     0.0271\n"
     ]
    },
    {
     "name": "stderr",
     "output_type": "stream",
     "text": [
      "\n",
      "     Epoch   gpu_mem       box       obj       cls    labels  img_size\n",
      "\n",
      "Only YOLO\n",
      "     15/79     4.32G   0.06531   0.03091  0.005693        51       640: 100%|██████████| 14/14 [00:01<00:00,  8.31it/s]\n",
      "               Class     Images     Labels          P          R     mAP@.5 mAP@.5:.95: 100%|██████████| 2/2 [00:01<00:00,  1.12it/s]\n"
     ]
    },
    {
     "name": "stdout",
     "output_type": "stream",
     "text": [
      "                 all         80        220      0.617      0.186     0.0952     0.0219\n"
     ]
    },
    {
     "name": "stderr",
     "output_type": "stream",
     "text": [
      "               Class     Images     Labels          P          R     mAP@.5 mAP@.5:.95: 100%|██████████| 14/14 [00:01<00:00,  7.83it/s]\n"
     ]
    },
    {
     "name": "stdout",
     "output_type": "stream",
     "text": [
      "                 all        280        961      0.648      0.212      0.146     0.0368\n"
     ]
    },
    {
     "name": "stderr",
     "output_type": "stream",
     "text": [
      "\n",
      "     Epoch   gpu_mem       box       obj       cls    labels  img_size\n",
      "\n",
      "Only YOLO\n",
      "     16/79     4.32G   0.06898    0.0297  0.005587        51       640: 100%|██████████| 14/14 [00:01<00:00,  8.60it/s]\n",
      "               Class     Images     Labels          P          R     mAP@.5 mAP@.5:.95: 100%|██████████| 2/2 [00:00<00:00,  4.13it/s]\n"
     ]
    },
    {
     "name": "stdout",
     "output_type": "stream",
     "text": [
      "                 all         80        220      0.582      0.119     0.0543      0.011\n"
     ]
    },
    {
     "name": "stderr",
     "output_type": "stream",
     "text": [
      "               Class     Images     Labels          P          R     mAP@.5 mAP@.5:.95: 100%|██████████| 14/14 [00:01<00:00,  7.81it/s]\n"
     ]
    },
    {
     "name": "stdout",
     "output_type": "stream",
     "text": [
      "                 all        280        961      0.606      0.159     0.0834     0.0182\n"
     ]
    },
    {
     "name": "stderr",
     "output_type": "stream",
     "text": [
      "\n",
      "     Epoch   gpu_mem       box       obj       cls    labels  img_size\n",
      "\n",
      "Only YOLO\n",
      "     17/79     4.32G   0.07012   0.02973  0.005374        51       640: 100%|██████████| 14/14 [00:01<00:00,  9.03it/s]\n",
      "               Class     Images     Labels          P          R     mAP@.5 mAP@.5:.95: 100%|██████████| 2/2 [00:00<00:00,  4.01it/s]\n"
     ]
    },
    {
     "name": "stdout",
     "output_type": "stream",
     "text": [
      "                 all         80        220      0.576      0.222     0.0704     0.0142\n"
     ]
    },
    {
     "name": "stderr",
     "output_type": "stream",
     "text": [
      "               Class     Images     Labels          P          R     mAP@.5 mAP@.5:.95: 100%|██████████| 14/14 [00:01<00:00,  7.74it/s]\n"
     ]
    },
    {
     "name": "stdout",
     "output_type": "stream",
     "text": [
      "                 all        280        961      0.595      0.235     0.0899      0.018\n"
     ]
    },
    {
     "name": "stderr",
     "output_type": "stream",
     "text": [
      "\n",
      "     Epoch   gpu_mem       box       obj       cls    labels  img_size\n",
      "\n",
      "Only YOLO\n",
      "     18/79     4.32G   0.07364   0.02876  0.005354        51       640: 100%|██████████| 14/14 [00:01<00:00,  8.69it/s]\n",
      "               Class     Images     Labels          P          R     mAP@.5 mAP@.5:.95: 100%|██████████| 2/2 [00:00<00:00,  4.35it/s]\n"
     ]
    },
    {
     "name": "stdout",
     "output_type": "stream",
     "text": [
      "                 all         80        220      0.598      0.157     0.0794     0.0192\n"
     ]
    },
    {
     "name": "stderr",
     "output_type": "stream",
     "text": [
      "               Class     Images     Labels          P          R     mAP@.5 mAP@.5:.95: 100%|██████████| 14/14 [00:01<00:00,  7.67it/s]\n"
     ]
    },
    {
     "name": "stdout",
     "output_type": "stream",
     "text": [
      "                 all        280        961      0.637      0.188      0.115     0.0272\n"
     ]
    },
    {
     "name": "stderr",
     "output_type": "stream",
     "text": [
      "\n",
      "     Epoch   gpu_mem       box       obj       cls    labels  img_size\n",
      "\n",
      "Only YOLO\n",
      "     19/79     4.32G   0.06725   0.02946  0.004896        51       640: 100%|██████████| 14/14 [00:01<00:00,  8.91it/s]\n",
      "               Class     Images     Labels          P          R     mAP@.5 mAP@.5:.95: 100%|██████████| 2/2 [00:00<00:00,  4.09it/s]\n"
     ]
    },
    {
     "name": "stdout",
     "output_type": "stream",
     "text": [
      "                 all         80        220       0.55      0.281     0.0463    0.00872\n"
     ]
    },
    {
     "name": "stderr",
     "output_type": "stream",
     "text": [
      "               Class     Images     Labels          P          R     mAP@.5 mAP@.5:.95: 100%|██████████| 14/14 [00:01<00:00,  7.64it/s]\n"
     ]
    },
    {
     "name": "stdout",
     "output_type": "stream",
     "text": [
      "                 all        280        961      0.572      0.168     0.0598     0.0117\n"
     ]
    },
    {
     "name": "stderr",
     "output_type": "stream",
     "text": [
      "\n",
      "     Epoch   gpu_mem       box       obj       cls    labels  img_size\n",
      "\n",
      "Only YOLO\n",
      "     20/79     4.32G   0.06584   0.02934  0.004727        51       640: 100%|██████████| 14/14 [00:01<00:00,  8.77it/s]\n",
      "               Class     Images     Labels          P          R     mAP@.5 mAP@.5:.95: 100%|██████████| 2/2 [00:00<00:00,  3.92it/s]\n"
     ]
    },
    {
     "name": "stdout",
     "output_type": "stream",
     "text": [
      "                 all         80        220      0.609      0.121      0.074     0.0141\n"
     ]
    },
    {
     "name": "stderr",
     "output_type": "stream",
     "text": [
      "               Class     Images     Labels          P          R     mAP@.5 mAP@.5:.95: 100%|██████████| 14/14 [00:01<00:00,  7.61it/s]\n"
     ]
    },
    {
     "name": "stdout",
     "output_type": "stream",
     "text": [
      "                 all        280        961      0.618      0.189      0.111      0.025\n"
     ]
    },
    {
     "name": "stderr",
     "output_type": "stream",
     "text": [
      "\n",
      "     Epoch   gpu_mem       box       obj       cls    labels  img_size\n",
      "\n",
      "Only YOLO\n",
      "     21/79     4.32G   0.06955   0.02832  0.004561        51       640: 100%|██████████| 14/14 [00:01<00:00,  8.76it/s]\n",
      "               Class     Images     Labels          P          R     mAP@.5 mAP@.5:.95: 100%|██████████| 2/2 [00:00<00:00,  4.00it/s]\n"
     ]
    },
    {
     "name": "stdout",
     "output_type": "stream",
     "text": [
      "                 all         80        220      0.665      0.139      0.105      0.023\n"
     ]
    },
    {
     "name": "stderr",
     "output_type": "stream",
     "text": [
      "               Class     Images     Labels          P          R     mAP@.5 mAP@.5:.95: 100%|██████████| 14/14 [00:01<00:00,  7.93it/s]\n"
     ]
    },
    {
     "name": "stdout",
     "output_type": "stream",
     "text": [
      "                 all        280        961      0.636      0.224       0.14     0.0332\n"
     ]
    },
    {
     "name": "stderr",
     "output_type": "stream",
     "text": [
      "\n",
      "     Epoch   gpu_mem       box       obj       cls    labels  img_size\n",
      "\n",
      "Only YOLO\n",
      "     22/79     4.32G   0.06181   0.02958  0.004243        51       640: 100%|██████████| 14/14 [00:01<00:00,  8.92it/s]\n",
      "               Class     Images     Labels          P          R     mAP@.5 mAP@.5:.95: 100%|██████████| 2/2 [00:00<00:00,  4.41it/s]\n"
     ]
    },
    {
     "name": "stdout",
     "output_type": "stream",
     "text": [
      "                 all         80        220      0.606      0.245      0.103     0.0216\n"
     ]
    },
    {
     "name": "stderr",
     "output_type": "stream",
     "text": [
      "               Class     Images     Labels          P          R     mAP@.5 mAP@.5:.95: 100%|██████████| 14/14 [00:01<00:00,  7.76it/s]\n"
     ]
    },
    {
     "name": "stdout",
     "output_type": "stream",
     "text": [
      "                 all        280        961      0.662      0.219      0.179     0.0431\n"
     ]
    },
    {
     "name": "stderr",
     "output_type": "stream",
     "text": [
      "\n",
      "     Epoch   gpu_mem       box       obj       cls    labels  img_size\n",
      "\n",
      "Only YOLO\n",
      "     23/79     4.32G    0.0626    0.0289  0.003974        51       640: 100%|██████████| 14/14 [00:01<00:00,  8.65it/s]\n",
      "               Class     Images     Labels          P          R     mAP@.5 mAP@.5:.95: 100%|██████████| 2/2 [00:01<00:00,  1.13it/s]\n"
     ]
    },
    {
     "name": "stdout",
     "output_type": "stream",
     "text": [
      "                 all         80        220      0.629      0.147      0.102     0.0222\n"
     ]
    },
    {
     "name": "stderr",
     "output_type": "stream",
     "text": [
      "               Class     Images     Labels          P          R     mAP@.5 mAP@.5:.95: 100%|██████████| 14/14 [00:01<00:00,  8.32it/s]\n"
     ]
    },
    {
     "name": "stdout",
     "output_type": "stream",
     "text": [
      "                 all        280        961      0.635      0.255      0.179     0.0384\n"
     ]
    },
    {
     "name": "stderr",
     "output_type": "stream",
     "text": [
      "\n",
      "     Epoch   gpu_mem       box       obj       cls    labels  img_size\n",
      "\n",
      "Only YOLO\n",
      "     24/79     4.32G   0.06102    0.0283  0.003623        51       640: 100%|██████████| 14/14 [00:01<00:00,  8.78it/s]\n",
      "               Class     Images     Labels          P          R     mAP@.5 mAP@.5:.95: 100%|██████████| 2/2 [00:00<00:00,  4.04it/s]\n"
     ]
    },
    {
     "name": "stdout",
     "output_type": "stream",
     "text": [
      "                 all         80        220        0.6      0.131     0.0673     0.0132\n"
     ]
    },
    {
     "name": "stderr",
     "output_type": "stream",
     "text": [
      "               Class     Images     Labels          P          R     mAP@.5 mAP@.5:.95: 100%|██████████| 14/14 [00:01<00:00,  7.86it/s]\n"
     ]
    },
    {
     "name": "stdout",
     "output_type": "stream",
     "text": [
      "                 all        280        961      0.601      0.203      0.103     0.0198\n"
     ]
    },
    {
     "name": "stderr",
     "output_type": "stream",
     "text": [
      "\n",
      "     Epoch   gpu_mem       box       obj       cls    labels  img_size\n",
      "\n",
      "Only YOLO\n",
      "     25/79     4.32G   0.06507   0.02751  0.003417        51       640: 100%|██████████| 14/14 [00:01<00:00,  8.75it/s]\n",
      "               Class     Images     Labels          P          R     mAP@.5 mAP@.5:.95: 100%|██████████| 2/2 [00:00<00:00,  4.52it/s]\n"
     ]
    },
    {
     "name": "stdout",
     "output_type": "stream",
     "text": [
      "                 all         80        220      0.629      0.133      0.101     0.0232\n"
     ]
    },
    {
     "name": "stderr",
     "output_type": "stream",
     "text": [
      "               Class     Images     Labels          P          R     mAP@.5 mAP@.5:.95: 100%|██████████| 14/14 [00:01<00:00,  7.94it/s]\n"
     ]
    },
    {
     "name": "stdout",
     "output_type": "stream",
     "text": [
      "                 all        280        961      0.665        0.2      0.182     0.0442\n"
     ]
    },
    {
     "name": "stderr",
     "output_type": "stream",
     "text": [
      "\n",
      "     Epoch   gpu_mem       box       obj       cls    labels  img_size\n",
      "\n",
      "Only YOLO\n",
      "     26/79     4.32G   0.05964   0.02761  0.003215        51       640: 100%|██████████| 14/14 [00:01<00:00,  8.57it/s]\n",
      "               Class     Images     Labels          P          R     mAP@.5 mAP@.5:.95: 100%|██████████| 2/2 [00:00<00:00,  4.51it/s]\n"
     ]
    },
    {
     "name": "stdout",
     "output_type": "stream",
     "text": [
      "                 all         80        220      0.587      0.232     0.0953     0.0204\n"
     ]
    },
    {
     "name": "stderr",
     "output_type": "stream",
     "text": [
      "               Class     Images     Labels          P          R     mAP@.5 mAP@.5:.95: 100%|██████████| 14/14 [00:01<00:00,  8.18it/s]\n"
     ]
    },
    {
     "name": "stdout",
     "output_type": "stream",
     "text": [
      "                 all        280        961      0.632      0.248      0.156     0.0314\n"
     ]
    },
    {
     "name": "stderr",
     "output_type": "stream",
     "text": [
      "\n",
      "     Epoch   gpu_mem       box       obj       cls    labels  img_size\n",
      "\n",
      "Only YOLO\n",
      "     27/79     4.32G   0.06029   0.02731  0.003098        51       640: 100%|██████████| 14/14 [00:01<00:00,  8.75it/s]\n",
      "               Class     Images     Labels          P          R     mAP@.5 mAP@.5:.95: 100%|██████████| 2/2 [00:00<00:00,  4.41it/s]\n"
     ]
    },
    {
     "name": "stdout",
     "output_type": "stream",
     "text": [
      "                 all         80        220      0.642      0.106     0.0794     0.0189\n"
     ]
    },
    {
     "name": "stderr",
     "output_type": "stream",
     "text": [
      "               Class     Images     Labels          P          R     mAP@.5 mAP@.5:.95: 100%|██████████| 14/14 [00:01<00:00,  7.94it/s]\n"
     ]
    },
    {
     "name": "stdout",
     "output_type": "stream",
     "text": [
      "                 all        280        961       0.17      0.565      0.187      0.047\n"
     ]
    },
    {
     "name": "stderr",
     "output_type": "stream",
     "text": [
      "\n",
      "     Epoch   gpu_mem       box       obj       cls    labels  img_size\n",
      "\n",
      "Only YOLO\n",
      "     28/79     4.32G    0.0598   0.02715  0.002838        51       640: 100%|██████████| 14/14 [00:01<00:00,  8.89it/s]\n",
      "               Class     Images     Labels          P          R     mAP@.5 mAP@.5:.95: 100%|██████████| 2/2 [00:00<00:00,  4.54it/s]\n"
     ]
    },
    {
     "name": "stdout",
     "output_type": "stream",
     "text": [
      "                 all         80        220      0.584      0.278      0.104      0.024\n"
     ]
    },
    {
     "name": "stderr",
     "output_type": "stream",
     "text": [
      "               Class     Images     Labels          P          R     mAP@.5 mAP@.5:.95: 100%|██████████| 14/14 [00:01<00:00,  8.30it/s]\n"
     ]
    },
    {
     "name": "stdout",
     "output_type": "stream",
     "text": [
      "                 all        280        961      0.187      0.489        0.2     0.0521\n"
     ]
    },
    {
     "name": "stderr",
     "output_type": "stream",
     "text": [
      "\n",
      "     Epoch   gpu_mem       box       obj       cls    labels  img_size\n",
      "\n",
      "Only YOLO\n",
      "     29/79     4.32G   0.05919   0.02699  0.002806        51       640: 100%|██████████| 14/14 [00:01<00:00,  9.01it/s]\n",
      "               Class     Images     Labels          P          R     mAP@.5 mAP@.5:.95: 100%|██████████| 2/2 [00:00<00:00,  4.05it/s]\n"
     ]
    },
    {
     "name": "stdout",
     "output_type": "stream",
     "text": [
      "                 all         80        220      0.673      0.129      0.124     0.0332\n"
     ]
    },
    {
     "name": "stderr",
     "output_type": "stream",
     "text": [
      "               Class     Images     Labels          P          R     mAP@.5 mAP@.5:.95: 100%|██████████| 14/14 [00:01<00:00,  7.99it/s]\n"
     ]
    },
    {
     "name": "stdout",
     "output_type": "stream",
     "text": [
      "                 all        280        961      0.259      0.478      0.221     0.0593\n"
     ]
    },
    {
     "name": "stderr",
     "output_type": "stream",
     "text": [
      "\n",
      "     Epoch   gpu_mem       box       obj       cls    labels  img_size\n",
      "\n",
      "Only YOLO\n",
      "     30/79     4.32G   0.05735   0.02689  0.002671        51       640: 100%|██████████| 14/14 [00:01<00:00,  8.94it/s]\n",
      "               Class     Images     Labels          P          R     mAP@.5 mAP@.5:.95: 100%|██████████| 2/2 [00:00<00:00,  4.25it/s]\n"
     ]
    },
    {
     "name": "stdout",
     "output_type": "stream",
     "text": [
      "                 all         80        220      0.677      0.131      0.123     0.0297\n"
     ]
    },
    {
     "name": "stderr",
     "output_type": "stream",
     "text": [
      "               Class     Images     Labels          P          R     mAP@.5 mAP@.5:.95: 100%|██████████| 14/14 [00:01<00:00,  7.43it/s]\n"
     ]
    },
    {
     "name": "stdout",
     "output_type": "stream",
     "text": [
      "                 all        280        961      0.196      0.544      0.235     0.0694\n"
     ]
    },
    {
     "name": "stderr",
     "output_type": "stream",
     "text": [
      "\n",
      "     Epoch   gpu_mem       box       obj       cls    labels  img_size\n",
      "\n",
      "Only YOLO\n",
      "     31/79     4.32G   0.05652   0.02661   0.00247        51       640: 100%|██████████| 14/14 [00:01<00:00,  8.30it/s]\n",
      "               Class     Images     Labels          P          R     mAP@.5 mAP@.5:.95: 100%|██████████| 2/2 [00:01<00:00,  1.13it/s]\n"
     ]
    },
    {
     "name": "stdout",
     "output_type": "stream",
     "text": [
      "                 all         80        220      0.671       0.17      0.144      0.031\n"
     ]
    },
    {
     "name": "stderr",
     "output_type": "stream",
     "text": [
      "               Class     Images     Labels          P          R     mAP@.5 mAP@.5:.95: 100%|██████████| 14/14 [00:01<00:00,  8.46it/s]\n"
     ]
    },
    {
     "name": "stdout",
     "output_type": "stream",
     "text": [
      "                 all        280        961      0.235      0.432      0.256     0.0684\n"
     ]
    },
    {
     "name": "stderr",
     "output_type": "stream",
     "text": [
      "\n",
      "     Epoch   gpu_mem       box       obj       cls    labels  img_size\n",
      "\n",
      "Only YOLO\n",
      "     32/79     4.32G   0.05666   0.02596  0.002485        51       640: 100%|██████████| 14/14 [00:01<00:00,  8.46it/s]\n",
      "               Class     Images     Labels          P          R     mAP@.5 mAP@.5:.95: 100%|██████████| 2/2 [00:00<00:00,  4.16it/s]\n"
     ]
    },
    {
     "name": "stdout",
     "output_type": "stream",
     "text": [
      "                 all         80        220        0.6       0.29      0.114      0.027\n"
     ]
    },
    {
     "name": "stderr",
     "output_type": "stream",
     "text": [
      "               Class     Images     Labels          P          R     mAP@.5 mAP@.5:.95: 100%|██████████| 14/14 [00:01<00:00,  7.89it/s]\n"
     ]
    },
    {
     "name": "stdout",
     "output_type": "stream",
     "text": [
      "                 all        280        961      0.263      0.423       0.26     0.0709\n"
     ]
    },
    {
     "name": "stderr",
     "output_type": "stream",
     "text": [
      "\n",
      "     Epoch   gpu_mem       box       obj       cls    labels  img_size\n",
      "\n",
      "Only YOLO\n",
      "     33/79     4.32G   0.05599     0.026   0.00252        51       640: 100%|██████████| 14/14 [00:01<00:00,  8.89it/s]\n",
      "               Class     Images     Labels          P          R     mAP@.5 mAP@.5:.95: 100%|██████████| 2/2 [00:00<00:00,  4.60it/s]\n"
     ]
    },
    {
     "name": "stdout",
     "output_type": "stream",
     "text": [
      "                 all         80        220      0.631      0.165      0.114      0.026\n"
     ]
    },
    {
     "name": "stderr",
     "output_type": "stream",
     "text": [
      "               Class     Images     Labels          P          R     mAP@.5 mAP@.5:.95: 100%|██████████| 14/14 [00:01<00:00,  7.52it/s]\n"
     ]
    },
    {
     "name": "stdout",
     "output_type": "stream",
     "text": [
      "                 all        280        961      0.242      0.546      0.273     0.0695\n"
     ]
    },
    {
     "name": "stderr",
     "output_type": "stream",
     "text": [
      "\n",
      "     Epoch   gpu_mem       box       obj       cls    labels  img_size\n",
      "\n",
      "Only YOLO\n",
      "     34/79     4.32G   0.05544   0.02586  0.002337        51       640: 100%|██████████| 14/14 [00:01<00:00,  8.58it/s]\n",
      "               Class     Images     Labels          P          R     mAP@.5 mAP@.5:.95: 100%|██████████| 2/2 [00:00<00:00,  4.57it/s]\n"
     ]
    },
    {
     "name": "stdout",
     "output_type": "stream",
     "text": [
      "                 all         80        220      0.603      0.237      0.123     0.0304\n"
     ]
    },
    {
     "name": "stderr",
     "output_type": "stream",
     "text": [
      "               Class     Images     Labels          P          R     mAP@.5 mAP@.5:.95: 100%|██████████| 14/14 [00:01<00:00,  8.32it/s]\n"
     ]
    },
    {
     "name": "stdout",
     "output_type": "stream",
     "text": [
      "                 all        280        961      0.304      0.442      0.291     0.0838\n"
     ]
    },
    {
     "name": "stderr",
     "output_type": "stream",
     "text": [
      "\n",
      "     Epoch   gpu_mem       box       obj       cls    labels  img_size\n",
      "\n",
      "Only YOLO\n",
      "     35/79     4.32G   0.05392   0.02554  0.002208        51       640: 100%|██████████| 14/14 [00:01<00:00,  8.67it/s]\n",
      "               Class     Images     Labels          P          R     mAP@.5 mAP@.5:.95: 100%|██████████| 2/2 [00:00<00:00,  3.73it/s]\n"
     ]
    },
    {
     "name": "stdout",
     "output_type": "stream",
     "text": [
      "                 all         80        220      0.623      0.232      0.136     0.0338\n"
     ]
    },
    {
     "name": "stderr",
     "output_type": "stream",
     "text": [
      "               Class     Images     Labels          P          R     mAP@.5 mAP@.5:.95: 100%|██████████| 14/14 [00:01<00:00,  8.08it/s]\n"
     ]
    },
    {
     "name": "stdout",
     "output_type": "stream",
     "text": [
      "                 all        280        961      0.253      0.534      0.294     0.0894\n"
     ]
    },
    {
     "name": "stderr",
     "output_type": "stream",
     "text": [
      "\n",
      "     Epoch   gpu_mem       box       obj       cls    labels  img_size\n",
      "\n",
      "Only YOLO\n",
      "     36/79     4.32G   0.05262   0.02601  0.002199        51       640: 100%|██████████| 14/14 [00:01<00:00,  8.53it/s]\n",
      "               Class     Images     Labels          P          R     mAP@.5 mAP@.5:.95: 100%|██████████| 2/2 [00:00<00:00,  4.77it/s]\n"
     ]
    },
    {
     "name": "stdout",
     "output_type": "stream",
     "text": [
      "                 all         80        220      0.625      0.278      0.144     0.0343\n"
     ]
    },
    {
     "name": "stderr",
     "output_type": "stream",
     "text": [
      "               Class     Images     Labels          P          R     mAP@.5 mAP@.5:.95: 100%|██████████| 14/14 [00:01<00:00,  8.30it/s]\n"
     ]
    },
    {
     "name": "stdout",
     "output_type": "stream",
     "text": [
      "                 all        280        961      0.221       0.56      0.274     0.0814\n"
     ]
    },
    {
     "name": "stderr",
     "output_type": "stream",
     "text": [
      "\n",
      "     Epoch   gpu_mem       box       obj       cls    labels  img_size\n",
      "\n",
      "Only YOLO\n",
      "     37/79     4.32G   0.05489   0.02545  0.002179        51       640: 100%|██████████| 14/14 [00:01<00:00,  8.50it/s]\n",
      "               Class     Images     Labels          P          R     mAP@.5 mAP@.5:.95: 100%|██████████| 2/2 [00:00<00:00,  4.65it/s]\n"
     ]
    },
    {
     "name": "stdout",
     "output_type": "stream",
     "text": [
      "                 all         80        220       0.71      0.139      0.147     0.0404\n"
     ]
    },
    {
     "name": "stderr",
     "output_type": "stream",
     "text": [
      "               Class     Images     Labels          P          R     mAP@.5 mAP@.5:.95: 100%|██████████| 14/14 [00:01<00:00,  8.22it/s]\n"
     ]
    },
    {
     "name": "stdout",
     "output_type": "stream",
     "text": [
      "                 all        280        961      0.222      0.595      0.294     0.0927\n"
     ]
    },
    {
     "name": "stderr",
     "output_type": "stream",
     "text": [
      "\n",
      "     Epoch   gpu_mem       box       obj       cls    labels  img_size\n",
      "\n",
      "Only YOLO\n",
      "     38/79     4.32G   0.05138   0.02571  0.002147        51       640: 100%|██████████| 14/14 [00:01<00:00,  8.72it/s]\n",
      "               Class     Images     Labels          P          R     mAP@.5 mAP@.5:.95: 100%|██████████| 2/2 [00:00<00:00,  4.66it/s]\n"
     ]
    },
    {
     "name": "stdout",
     "output_type": "stream",
     "text": [
      "                 all         80        220      0.659      0.214      0.142     0.0378\n"
     ]
    },
    {
     "name": "stderr",
     "output_type": "stream",
     "text": [
      "               Class     Images     Labels          P          R     mAP@.5 mAP@.5:.95: 100%|██████████| 14/14 [00:01<00:00,  8.31it/s]\n"
     ]
    },
    {
     "name": "stdout",
     "output_type": "stream",
     "text": [
      "                 all        280        961      0.204      0.636      0.306      0.106\n"
     ]
    },
    {
     "name": "stderr",
     "output_type": "stream",
     "text": [
      "\n",
      "     Epoch   gpu_mem       box       obj       cls    labels  img_size\n",
      "\n",
      "Only YOLO\n",
      "     39/79     4.32G   0.05219   0.02596  0.002019        51       640: 100%|██████████| 14/14 [00:01<00:00,  8.86it/s]\n",
      "               Class     Images     Labels          P          R     mAP@.5 mAP@.5:.95: 100%|██████████| 2/2 [00:01<00:00,  1.16it/s]\n"
     ]
    },
    {
     "name": "stdout",
     "output_type": "stream",
     "text": [
      "                 all         80        220      0.626      0.188      0.112     0.0228\n"
     ]
    },
    {
     "name": "stderr",
     "output_type": "stream",
     "text": [
      "               Class     Images     Labels          P          R     mAP@.5 mAP@.5:.95: 100%|██████████| 14/14 [00:01<00:00,  8.35it/s]\n"
     ]
    },
    {
     "name": "stdout",
     "output_type": "stream",
     "text": [
      "                 all        280        961      0.332      0.321      0.221     0.0548\n"
     ]
    },
    {
     "name": "stderr",
     "output_type": "stream",
     "text": [
      "\n",
      "     Epoch   gpu_mem       box       obj       cls    labels  img_size\n",
      "\n",
      "Only YOLO\n",
      "     40/79     4.32G   0.05178   0.02574    0.0021        51       640: 100%|██████████| 14/14 [00:01<00:00,  8.74it/s]\n",
      "               Class     Images     Labels          P          R     mAP@.5 mAP@.5:.95: 100%|██████████| 2/2 [00:00<00:00,  4.56it/s]\n"
     ]
    },
    {
     "name": "stdout",
     "output_type": "stream",
     "text": [
      "                 all         80        220      0.613      0.284      0.129     0.0313\n"
     ]
    },
    {
     "name": "stderr",
     "output_type": "stream",
     "text": [
      "               Class     Images     Labels          P          R     mAP@.5 mAP@.5:.95: 100%|██████████| 14/14 [00:01<00:00,  8.37it/s]\n"
     ]
    },
    {
     "name": "stdout",
     "output_type": "stream",
     "text": [
      "                 all        280        961      0.307      0.506      0.309     0.0848\n"
     ]
    },
    {
     "name": "stderr",
     "output_type": "stream",
     "text": [
      "\n",
      "     Epoch   gpu_mem       box       obj       cls    labels  img_size\n",
      "\n",
      "Only YOLO\n",
      "     41/79     4.32G   0.05061   0.02554  0.001992        51       640: 100%|██████████| 14/14 [00:01<00:00,  8.68it/s]\n",
      "               Class     Images     Labels          P          R     mAP@.5 mAP@.5:.95: 100%|██████████| 2/2 [00:00<00:00,  4.13it/s]\n"
     ]
    },
    {
     "name": "stdout",
     "output_type": "stream",
     "text": [
      "                 all         80        220      0.605      0.303      0.127     0.0321\n"
     ]
    },
    {
     "name": "stderr",
     "output_type": "stream",
     "text": [
      "               Class     Images     Labels          P          R     mAP@.5 mAP@.5:.95: 100%|██████████| 14/14 [00:01<00:00,  8.29it/s]\n"
     ]
    },
    {
     "name": "stdout",
     "output_type": "stream",
     "text": [
      "                 all        280        961      0.286      0.585      0.349       0.11\n"
     ]
    },
    {
     "name": "stderr",
     "output_type": "stream",
     "text": [
      "\n",
      "     Epoch   gpu_mem       box       obj       cls    labels  img_size\n",
      "\n",
      "Only YOLO\n",
      "     42/79     4.32G   0.04823   0.02534   0.00195        51       640: 100%|██████████| 14/14 [00:01<00:00,  8.70it/s]\n",
      "               Class     Images     Labels          P          R     mAP@.5 mAP@.5:.95: 100%|██████████| 2/2 [00:00<00:00,  4.60it/s]\n"
     ]
    },
    {
     "name": "stdout",
     "output_type": "stream",
     "text": [
      "                 all         80        220      0.648      0.183      0.144     0.0369\n"
     ]
    },
    {
     "name": "stderr",
     "output_type": "stream",
     "text": [
      "               Class     Images     Labels          P          R     mAP@.5 mAP@.5:.95: 100%|██████████| 14/14 [00:01<00:00,  7.58it/s]\n"
     ]
    },
    {
     "name": "stdout",
     "output_type": "stream",
     "text": [
      "                 all        280        961      0.233      0.675      0.324     0.0981\n"
     ]
    },
    {
     "name": "stderr",
     "output_type": "stream",
     "text": [
      "\n",
      "     Epoch   gpu_mem       box       obj       cls    labels  img_size\n",
      "\n",
      "Only YOLO\n",
      "     43/79     4.32G    0.0485   0.02511  0.001864        51       640: 100%|██████████| 14/14 [00:01<00:00,  8.42it/s]\n",
      "               Class     Images     Labels          P          R     mAP@.5 mAP@.5:.95: 100%|██████████| 2/2 [00:00<00:00,  4.57it/s]\n"
     ]
    },
    {
     "name": "stdout",
     "output_type": "stream",
     "text": [
      "                 all         80        220      0.632      0.229      0.146     0.0326\n"
     ]
    },
    {
     "name": "stderr",
     "output_type": "stream",
     "text": [
      "               Class     Images     Labels          P          R     mAP@.5 mAP@.5:.95: 100%|██████████| 14/14 [00:01<00:00,  8.42it/s]\n"
     ]
    },
    {
     "name": "stdout",
     "output_type": "stream",
     "text": [
      "                 all        280        961      0.376      0.418      0.332      0.107\n"
     ]
    },
    {
     "name": "stderr",
     "output_type": "stream",
     "text": [
      "\n",
      "     Epoch   gpu_mem       box       obj       cls    labels  img_size\n",
      "\n",
      "Only YOLO\n",
      "     44/79     4.32G   0.05028   0.02483  0.001914        51       640: 100%|██████████| 14/14 [00:01<00:00,  8.69it/s]\n",
      "               Class     Images     Labels          P          R     mAP@.5 mAP@.5:.95: 100%|██████████| 2/2 [00:00<00:00,  4.64it/s]\n"
     ]
    },
    {
     "name": "stdout",
     "output_type": "stream",
     "text": [
      "                 all         80        220      0.667       0.19       0.15     0.0393\n"
     ]
    },
    {
     "name": "stderr",
     "output_type": "stream",
     "text": [
      "               Class     Images     Labels          P          R     mAP@.5 mAP@.5:.95: 100%|██████████| 14/14 [00:01<00:00,  8.03it/s]\n"
     ]
    },
    {
     "name": "stdout",
     "output_type": "stream",
     "text": [
      "                 all        280        961      0.291      0.594      0.366      0.118\n"
     ]
    },
    {
     "name": "stderr",
     "output_type": "stream",
     "text": [
      "\n",
      "     Epoch   gpu_mem       box       obj       cls    labels  img_size\n",
      "\n",
      "Only YOLO\n",
      "     45/79     4.32G   0.04799   0.02488  0.001854        51       640: 100%|██████████| 14/14 [00:01<00:00,  8.80it/s]\n",
      "               Class     Images     Labels          P          R     mAP@.5 mAP@.5:.95: 100%|██████████| 2/2 [00:00<00:00,  4.36it/s]\n"
     ]
    },
    {
     "name": "stdout",
     "output_type": "stream",
     "text": [
      "                 all         80        220      0.626      0.271      0.147     0.0337\n"
     ]
    },
    {
     "name": "stderr",
     "output_type": "stream",
     "text": [
      "               Class     Images     Labels          P          R     mAP@.5 mAP@.5:.95: 100%|██████████| 14/14 [00:01<00:00,  8.47it/s]\n"
     ]
    },
    {
     "name": "stdout",
     "output_type": "stream",
     "text": [
      "                 all        280        961      0.327      0.523       0.37      0.109\n"
     ]
    },
    {
     "name": "stderr",
     "output_type": "stream",
     "text": [
      "\n",
      "     Epoch   gpu_mem       box       obj       cls    labels  img_size\n",
      "\n",
      "Only YOLO\n",
      "     46/79     4.32G   0.04687   0.02453  0.001762        51       640: 100%|██████████| 14/14 [00:01<00:00,  8.73it/s]\n",
      "               Class     Images     Labels          P          R     mAP@.5 mAP@.5:.95: 100%|██████████| 2/2 [00:00<00:00,  4.43it/s]\n"
     ]
    },
    {
     "name": "stdout",
     "output_type": "stream",
     "text": [
      "                 all         80        220      0.609      0.296      0.135     0.0303\n"
     ]
    },
    {
     "name": "stderr",
     "output_type": "stream",
     "text": [
      "               Class     Images     Labels          P          R     mAP@.5 mAP@.5:.95: 100%|██████████| 14/14 [00:01<00:00,  7.98it/s]\n"
     ]
    },
    {
     "name": "stdout",
     "output_type": "stream",
     "text": [
      "                 all        280        961      0.306      0.564      0.336     0.0935\n"
     ]
    },
    {
     "name": "stderr",
     "output_type": "stream",
     "text": [
      "\n",
      "     Epoch   gpu_mem       box       obj       cls    labels  img_size\n",
      "\n",
      "Only YOLO\n",
      "     47/79     4.32G   0.04816   0.02449  0.001799        51       640: 100%|██████████| 14/14 [00:01<00:00,  8.62it/s]\n",
      "               Class     Images     Labels          P          R     mAP@.5 mAP@.5:.95: 100%|██████████| 2/2 [00:01<00:00,  1.10it/s]\n"
     ]
    },
    {
     "name": "stdout",
     "output_type": "stream",
     "text": [
      "                 all         80        220      0.644      0.258      0.169     0.0466\n"
     ]
    },
    {
     "name": "stderr",
     "output_type": "stream",
     "text": [
      "               Class     Images     Labels          P          R     mAP@.5 mAP@.5:.95: 100%|██████████| 14/14 [00:01<00:00,  7.90it/s]\n"
     ]
    },
    {
     "name": "stdout",
     "output_type": "stream",
     "text": [
      "                 all        280        961      0.251      0.737      0.372      0.133\n"
     ]
    },
    {
     "name": "stderr",
     "output_type": "stream",
     "text": [
      "\n",
      "     Epoch   gpu_mem       box       obj       cls    labels  img_size\n",
      "\n",
      "Only YOLO\n",
      "     48/79     4.32G   0.04661   0.02456  0.001857        51       640: 100%|██████████| 14/14 [00:01<00:00,  8.77it/s]\n",
      "               Class     Images     Labels          P          R     mAP@.5 mAP@.5:.95: 100%|██████████| 2/2 [00:00<00:00,  4.55it/s]\n"
     ]
    },
    {
     "name": "stdout",
     "output_type": "stream",
     "text": [
      "                 all         80        220      0.677      0.157      0.129      0.032\n"
     ]
    },
    {
     "name": "stderr",
     "output_type": "stream",
     "text": [
      "               Class     Images     Labels          P          R     mAP@.5 mAP@.5:.95: 100%|██████████| 14/14 [00:01<00:00,  8.17it/s]\n"
     ]
    },
    {
     "name": "stdout",
     "output_type": "stream",
     "text": [
      "                 all        280        961      0.236      0.691       0.35      0.119\n"
     ]
    },
    {
     "name": "stderr",
     "output_type": "stream",
     "text": [
      "\n",
      "     Epoch   gpu_mem       box       obj       cls    labels  img_size\n",
      "\n",
      "Only YOLO\n",
      "     49/79     4.32G   0.04961   0.02407  0.001798        51       640: 100%|██████████| 14/14 [00:01<00:00,  8.99it/s]\n",
      "               Class     Images     Labels          P          R     mAP@.5 mAP@.5:.95: 100%|██████████| 2/2 [00:00<00:00,  4.48it/s]\n"
     ]
    },
    {
     "name": "stdout",
     "output_type": "stream",
     "text": [
      "                 all         80        220      0.673      0.186      0.146     0.0382\n"
     ]
    },
    {
     "name": "stderr",
     "output_type": "stream",
     "text": [
      "               Class     Images     Labels          P          R     mAP@.5 mAP@.5:.95: 100%|██████████| 14/14 [00:01<00:00,  8.38it/s]\n"
     ]
    },
    {
     "name": "stdout",
     "output_type": "stream",
     "text": [
      "                 all        280        961      0.301      0.592      0.367       0.12\n"
     ]
    },
    {
     "name": "stderr",
     "output_type": "stream",
     "text": [
      "\n",
      "     Epoch   gpu_mem       box       obj       cls    labels  img_size\n",
      "\n",
      "Only YOLO\n",
      "     50/79     4.32G   0.04879   0.02405  0.001776        51       640: 100%|██████████| 14/14 [00:01<00:00,  9.16it/s]\n",
      "               Class     Images     Labels          P          R     mAP@.5 mAP@.5:.95: 100%|██████████| 2/2 [00:00<00:00,  4.19it/s]\n"
     ]
    },
    {
     "name": "stdout",
     "output_type": "stream",
     "text": [
      "                 all         80        220      0.619      0.258      0.133      0.029\n"
     ]
    },
    {
     "name": "stderr",
     "output_type": "stream",
     "text": [
      "               Class     Images     Labels          P          R     mAP@.5 mAP@.5:.95: 100%|██████████| 14/14 [00:01<00:00,  7.57it/s]\n"
     ]
    },
    {
     "name": "stdout",
     "output_type": "stream",
     "text": [
      "                 all        280        961      0.272      0.611      0.368     0.0952\n"
     ]
    },
    {
     "name": "stderr",
     "output_type": "stream",
     "text": [
      "\n",
      "     Epoch   gpu_mem       box       obj       cls    labels  img_size\n",
      "\n",
      "Only YOLO\n",
      "     51/79     4.32G   0.04733   0.02407  0.001775        51       640: 100%|██████████| 14/14 [00:01<00:00,  8.86it/s]\n",
      "               Class     Images     Labels          P          R     mAP@.5 mAP@.5:.95: 100%|██████████| 2/2 [00:00<00:00,  4.58it/s]\n"
     ]
    },
    {
     "name": "stdout",
     "output_type": "stream",
     "text": [
      "                 all         80        220      0.606      0.294      0.122     0.0283\n"
     ]
    },
    {
     "name": "stderr",
     "output_type": "stream",
     "text": [
      "               Class     Images     Labels          P          R     mAP@.5 mAP@.5:.95: 100%|██████████| 14/14 [00:01<00:00,  7.94it/s]\n"
     ]
    },
    {
     "name": "stdout",
     "output_type": "stream",
     "text": [
      "                 all        280        961      0.289      0.617      0.362      0.116\n"
     ]
    },
    {
     "name": "stderr",
     "output_type": "stream",
     "text": [
      "\n",
      "     Epoch   gpu_mem       box       obj       cls    labels  img_size\n",
      "\n",
      "Only YOLO\n",
      "     52/79     4.32G   0.04793   0.02375  0.001728        51       640: 100%|██████████| 14/14 [00:01<00:00,  9.01it/s]\n",
      "               Class     Images     Labels          P          R     mAP@.5 mAP@.5:.95: 100%|██████████| 2/2 [00:00<00:00,  4.54it/s]\n"
     ]
    },
    {
     "name": "stdout",
     "output_type": "stream",
     "text": [
      "                 all         80        220      0.664      0.206      0.156     0.0393\n"
     ]
    },
    {
     "name": "stderr",
     "output_type": "stream",
     "text": [
      "               Class     Images     Labels          P          R     mAP@.5 mAP@.5:.95: 100%|██████████| 14/14 [00:01<00:00,  8.34it/s]\n"
     ]
    },
    {
     "name": "stdout",
     "output_type": "stream",
     "text": [
      "                 all        280        961      0.326      0.575      0.403      0.142\n"
     ]
    },
    {
     "name": "stderr",
     "output_type": "stream",
     "text": [
      "\n",
      "     Epoch   gpu_mem       box       obj       cls    labels  img_size\n",
      "\n",
      "Only YOLO\n",
      "     53/79     4.32G   0.04457   0.02408  0.001739        51       640: 100%|██████████| 14/14 [00:01<00:00,  8.89it/s]\n",
      "               Class     Images     Labels          P          R     mAP@.5 mAP@.5:.95: 100%|██████████| 2/2 [00:00<00:00,  4.66it/s]\n"
     ]
    },
    {
     "name": "stdout",
     "output_type": "stream",
     "text": [
      "                 all         80        220      0.651      0.227      0.151     0.0376\n"
     ]
    },
    {
     "name": "stderr",
     "output_type": "stream",
     "text": [
      "               Class     Images     Labels          P          R     mAP@.5 mAP@.5:.95: 100%|██████████| 14/14 [00:01<00:00,  8.25it/s]\n"
     ]
    },
    {
     "name": "stdout",
     "output_type": "stream",
     "text": [
      "                 all        280        961      0.376      0.482       0.39      0.141\n"
     ]
    },
    {
     "name": "stderr",
     "output_type": "stream",
     "text": [
      "\n",
      "     Epoch   gpu_mem       box       obj       cls    labels  img_size\n",
      "\n",
      "Only YOLO\n",
      "     54/79     4.32G   0.04524   0.02398  0.001722        51       640: 100%|██████████| 14/14 [00:01<00:00,  8.89it/s]\n",
      "               Class     Images     Labels          P          R     mAP@.5 mAP@.5:.95: 100%|██████████| 2/2 [00:00<00:00,  4.48it/s]\n"
     ]
    },
    {
     "name": "stdout",
     "output_type": "stream",
     "text": [
      "                 all         80        220      0.655      0.173       0.14     0.0366\n"
     ]
    },
    {
     "name": "stderr",
     "output_type": "stream",
     "text": [
      "               Class     Images     Labels          P          R     mAP@.5 mAP@.5:.95: 100%|██████████| 14/14 [00:01<00:00,  8.00it/s]\n"
     ]
    },
    {
     "name": "stdout",
     "output_type": "stream",
     "text": [
      "                 all        280        961      0.286      0.599      0.362      0.128\n"
     ]
    },
    {
     "name": "stderr",
     "output_type": "stream",
     "text": [
      "\n",
      "     Epoch   gpu_mem       box       obj       cls    labels  img_size\n",
      "\n",
      "Only YOLO\n",
      "     55/79     4.32G   0.04636   0.02372  0.001725        51       640: 100%|██████████| 14/14 [00:01<00:00,  9.00it/s]\n",
      "               Class     Images     Labels          P          R     mAP@.5 mAP@.5:.95: 100%|██████████| 2/2 [00:01<00:00,  1.21it/s]\n"
     ]
    },
    {
     "name": "stdout",
     "output_type": "stream",
     "text": [
      "                 all         80        220      0.665       0.17      0.134     0.0353\n"
     ]
    },
    {
     "name": "stderr",
     "output_type": "stream",
     "text": [
      "               Class     Images     Labels          P          R     mAP@.5 mAP@.5:.95: 100%|██████████| 14/14 [00:01<00:00,  8.42it/s]\n"
     ]
    },
    {
     "name": "stdout",
     "output_type": "stream",
     "text": [
      "                 all        280        961      0.365      0.457      0.378      0.137\n"
     ]
    },
    {
     "name": "stderr",
     "output_type": "stream",
     "text": [
      "\n",
      "     Epoch   gpu_mem       box       obj       cls    labels  img_size\n",
      "\n",
      "Only YOLO\n",
      "     56/79     4.32G   0.04401    0.0239  0.001705        51       640: 100%|██████████| 14/14 [00:01<00:00,  8.83it/s]\n",
      "               Class     Images     Labels          P          R     mAP@.5 mAP@.5:.95: 100%|██████████| 2/2 [00:00<00:00,  4.51it/s]\n"
     ]
    },
    {
     "name": "stdout",
     "output_type": "stream",
     "text": [
      "                 all         80        220      0.629      0.252      0.158     0.0457\n"
     ]
    },
    {
     "name": "stderr",
     "output_type": "stream",
     "text": [
      "               Class     Images     Labels          P          R     mAP@.5 mAP@.5:.95: 100%|██████████| 14/14 [00:01<00:00,  8.03it/s]\n"
     ]
    },
    {
     "name": "stdout",
     "output_type": "stream",
     "text": [
      "                 all        280        961        0.4      0.475      0.408      0.144\n"
     ]
    },
    {
     "name": "stderr",
     "output_type": "stream",
     "text": [
      "\n",
      "     Epoch   gpu_mem       box       obj       cls    labels  img_size\n",
      "\n",
      "Only YOLO\n",
      "     57/79     4.32G   0.04381   0.02381  0.001687        51       640: 100%|██████████| 14/14 [00:01<00:00,  8.91it/s]\n",
      "               Class     Images     Labels          P          R     mAP@.5 mAP@.5:.95: 100%|██████████| 2/2 [00:00<00:00,  4.39it/s]\n"
     ]
    },
    {
     "name": "stdout",
     "output_type": "stream",
     "text": [
      "                 all         80        220      0.665      0.208      0.165      0.043\n"
     ]
    },
    {
     "name": "stderr",
     "output_type": "stream",
     "text": [
      "               Class     Images     Labels          P          R     mAP@.5 mAP@.5:.95: 100%|██████████| 14/14 [00:01<00:00,  8.15it/s]\n"
     ]
    },
    {
     "name": "stdout",
     "output_type": "stream",
     "text": [
      "                 all        280        961      0.391      0.514      0.431      0.162\n"
     ]
    },
    {
     "name": "stderr",
     "output_type": "stream",
     "text": [
      "\n",
      "     Epoch   gpu_mem       box       obj       cls    labels  img_size\n",
      "\n",
      "Only YOLO\n",
      "     58/79     4.32G     0.043   0.02384  0.001638        51       640: 100%|██████████| 14/14 [00:01<00:00,  8.67it/s]\n",
      "               Class     Images     Labels          P          R     mAP@.5 mAP@.5:.95: 100%|██████████| 2/2 [00:00<00:00,  4.19it/s]\n"
     ]
    },
    {
     "name": "stdout",
     "output_type": "stream",
     "text": [
      "                 all         80        220      0.662      0.201      0.158     0.0488\n"
     ]
    },
    {
     "name": "stderr",
     "output_type": "stream",
     "text": [
      "               Class     Images     Labels          P          R     mAP@.5 mAP@.5:.95: 100%|██████████| 14/14 [00:01<00:00,  8.06it/s]\n"
     ]
    },
    {
     "name": "stdout",
     "output_type": "stream",
     "text": [
      "                 all        280        961      0.352      0.553      0.421      0.164\n"
     ]
    },
    {
     "name": "stderr",
     "output_type": "stream",
     "text": [
      "\n",
      "     Epoch   gpu_mem       box       obj       cls    labels  img_size\n",
      "\n",
      "Only YOLO\n",
      "     59/79     4.32G   0.04218   0.02383  0.001621        51       640: 100%|██████████| 14/14 [00:01<00:00,  8.79it/s]\n",
      "               Class     Images     Labels          P          R     mAP@.5 mAP@.5:.95: 100%|██████████| 2/2 [00:00<00:00,  4.55it/s]\n"
     ]
    },
    {
     "name": "stdout",
     "output_type": "stream",
     "text": [
      "                 all         80        220      0.673      0.224      0.175     0.0519\n"
     ]
    },
    {
     "name": "stderr",
     "output_type": "stream",
     "text": [
      "               Class     Images     Labels          P          R     mAP@.5 mAP@.5:.95: 100%|██████████| 14/14 [00:01<00:00,  8.14it/s]\n"
     ]
    },
    {
     "name": "stdout",
     "output_type": "stream",
     "text": [
      "                 all        280        961      0.408       0.53       0.46      0.177\n"
     ]
    },
    {
     "name": "stderr",
     "output_type": "stream",
     "text": [
      "\n",
      "     Epoch   gpu_mem       box       obj       cls    labels  img_size\n",
      "\n",
      "Only YOLO\n",
      "     60/79     4.32G   0.04293   0.02385  0.001658        51       640: 100%|██████████| 14/14 [00:01<00:00,  8.96it/s]\n",
      "               Class     Images     Labels          P          R     mAP@.5 mAP@.5:.95: 100%|██████████| 2/2 [00:00<00:00,  3.63it/s]\n"
     ]
    },
    {
     "name": "stdout",
     "output_type": "stream",
     "text": [
      "                 all         80        220      0.673      0.222      0.184     0.0537\n"
     ]
    },
    {
     "name": "stderr",
     "output_type": "stream",
     "text": [
      "               Class     Images     Labels          P          R     mAP@.5 mAP@.5:.95: 100%|██████████| 14/14 [00:01<00:00,  8.72it/s]\n"
     ]
    },
    {
     "name": "stdout",
     "output_type": "stream",
     "text": [
      "                 all        280        961      0.308      0.694      0.442      0.184\n"
     ]
    },
    {
     "name": "stderr",
     "output_type": "stream",
     "text": [
      "\n",
      "     Epoch   gpu_mem       box       obj       cls    labels  img_size\n",
      "\n",
      "Only YOLO\n",
      "     61/79     4.32G   0.04164   0.02373  0.001569        51       640: 100%|██████████| 14/14 [00:01<00:00,  8.95it/s]\n",
      "               Class     Images     Labels          P          R     mAP@.5 mAP@.5:.95: 100%|██████████| 2/2 [00:00<00:00,  4.61it/s]\n"
     ]
    },
    {
     "name": "stdout",
     "output_type": "stream",
     "text": [
      "                 all         80        220      0.659      0.214      0.163     0.0456\n"
     ]
    },
    {
     "name": "stderr",
     "output_type": "stream",
     "text": [
      "               Class     Images     Labels          P          R     mAP@.5 mAP@.5:.95: 100%|██████████| 14/14 [00:01<00:00,  8.12it/s]\n"
     ]
    },
    {
     "name": "stdout",
     "output_type": "stream",
     "text": [
      "                 all        280        961      0.334      0.657      0.437      0.174\n"
     ]
    },
    {
     "name": "stderr",
     "output_type": "stream",
     "text": [
      "\n",
      "     Epoch   gpu_mem       box       obj       cls    labels  img_size\n",
      "\n",
      "Only YOLO\n",
      "     62/79     4.32G   0.03958   0.02383  0.001514        51       640: 100%|██████████| 14/14 [00:01<00:00,  8.81it/s]\n",
      "               Class     Images     Labels          P          R     mAP@.5 mAP@.5:.95: 100%|██████████| 2/2 [00:00<00:00,  4.56it/s]\n"
     ]
    },
    {
     "name": "stdout",
     "output_type": "stream",
     "text": [
      "                 all         80        220      0.623      0.293       0.16     0.0416\n"
     ]
    },
    {
     "name": "stderr",
     "output_type": "stream",
     "text": [
      "               Class     Images     Labels          P          R     mAP@.5 mAP@.5:.95: 100%|██████████| 14/14 [00:01<00:00,  8.54it/s]\n"
     ]
    },
    {
     "name": "stdout",
     "output_type": "stream",
     "text": [
      "                 all        280        961      0.304      0.679      0.429      0.165\n"
     ]
    },
    {
     "name": "stderr",
     "output_type": "stream",
     "text": [
      "\n",
      "     Epoch   gpu_mem       box       obj       cls    labels  img_size\n",
      "\n",
      "Only YOLO\n",
      "     63/79     4.32G   0.04161    0.0236  0.001502        51       640: 100%|██████████| 14/14 [00:01<00:00,  8.64it/s]\n",
      "               Class     Images     Labels          P          R     mAP@.5 mAP@.5:.95: 100%|██████████| 2/2 [00:01<00:00,  1.22it/s]\n"
     ]
    },
    {
     "name": "stdout",
     "output_type": "stream",
     "text": [
      "                 all         80        220      0.638      0.294      0.172     0.0518\n"
     ]
    },
    {
     "name": "stderr",
     "output_type": "stream",
     "text": [
      "               Class     Images     Labels          P          R     mAP@.5 mAP@.5:.95: 100%|██████████| 14/14 [00:01<00:00,  8.53it/s]\n"
     ]
    },
    {
     "name": "stdout",
     "output_type": "stream",
     "text": [
      "                 all        280        961      0.405      0.552      0.463      0.182\n"
     ]
    },
    {
     "name": "stderr",
     "output_type": "stream",
     "text": [
      "\n",
      "     Epoch   gpu_mem       box       obj       cls    labels  img_size\n",
      "\n",
      "Only YOLO\n",
      "     64/79     4.32G   0.04105   0.02351  0.001516        51       640: 100%|██████████| 14/14 [00:01<00:00,  9.22it/s]\n",
      "               Class     Images     Labels          P          R     mAP@.5 mAP@.5:.95: 100%|██████████| 2/2 [00:00<00:00,  4.41it/s]\n"
     ]
    },
    {
     "name": "stdout",
     "output_type": "stream",
     "text": [
      "                 all         80        220      0.624      0.286      0.159     0.0442\n"
     ]
    },
    {
     "name": "stderr",
     "output_type": "stream",
     "text": [
      "               Class     Images     Labels          P          R     mAP@.5 mAP@.5:.95: 100%|██████████| 14/14 [00:01<00:00,  8.58it/s]\n"
     ]
    },
    {
     "name": "stdout",
     "output_type": "stream",
     "text": [
      "                 all        280        961      0.322      0.649      0.437      0.159\n"
     ]
    },
    {
     "name": "stderr",
     "output_type": "stream",
     "text": [
      "\n",
      "     Epoch   gpu_mem       box       obj       cls    labels  img_size\n",
      "\n",
      "Only YOLO\n",
      "     65/79     4.32G   0.03943   0.02379  0.001547        51       640: 100%|██████████| 14/14 [00:01<00:00,  9.18it/s]\n",
      "               Class     Images     Labels          P          R     mAP@.5 mAP@.5:.95: 100%|██████████| 2/2 [00:00<00:00,  3.70it/s]\n"
     ]
    },
    {
     "name": "stdout",
     "output_type": "stream",
     "text": [
      "                 all         80        220      0.616      0.307      0.152     0.0444\n"
     ]
    },
    {
     "name": "stderr",
     "output_type": "stream",
     "text": [
      "               Class     Images     Labels          P          R     mAP@.5 mAP@.5:.95: 100%|██████████| 14/14 [00:01<00:00,  8.36it/s]\n"
     ]
    },
    {
     "name": "stdout",
     "output_type": "stream",
     "text": [
      "                 all        280        961      0.369      0.615      0.453      0.177\n"
     ]
    },
    {
     "name": "stderr",
     "output_type": "stream",
     "text": [
      "\n",
      "     Epoch   gpu_mem       box       obj       cls    labels  img_size\n",
      "\n",
      "Only YOLO\n",
      "     66/79     4.32G   0.04012   0.02373  0.001503        51       640: 100%|██████████| 14/14 [00:01<00:00,  9.26it/s]\n",
      "               Class     Images     Labels          P          R     mAP@.5 mAP@.5:.95: 100%|██████████| 2/2 [00:00<00:00,  4.03it/s]\n"
     ]
    },
    {
     "name": "stdout",
     "output_type": "stream",
     "text": [
      "                 all         80        220      0.677      0.191      0.162     0.0454\n"
     ]
    },
    {
     "name": "stderr",
     "output_type": "stream",
     "text": [
      "               Class     Images     Labels          P          R     mAP@.5 mAP@.5:.95: 100%|██████████| 14/14 [00:01<00:00,  8.10it/s]\n"
     ]
    },
    {
     "name": "stdout",
     "output_type": "stream",
     "text": [
      "                 all        280        961      0.423      0.512      0.452      0.188\n"
     ]
    },
    {
     "name": "stderr",
     "output_type": "stream",
     "text": [
      "\n",
      "     Epoch   gpu_mem       box       obj       cls    labels  img_size\n",
      "\n",
      "Only YOLO\n",
      "     67/79     4.32G    0.0394   0.02372  0.001493        51       640: 100%|██████████| 14/14 [00:01<00:00,  8.56it/s]\n",
      "               Class     Images     Labels          P          R     mAP@.5 mAP@.5:.95: 100%|██████████| 2/2 [00:00<00:00,  4.46it/s]\n"
     ]
    },
    {
     "name": "stdout",
     "output_type": "stream",
     "text": [
      "                 all         80        220      0.632      0.284      0.158     0.0426\n"
     ]
    },
    {
     "name": "stderr",
     "output_type": "stream",
     "text": [
      "               Class     Images     Labels          P          R     mAP@.5 mAP@.5:.95: 100%|██████████| 14/14 [00:01<00:00,  8.38it/s]\n"
     ]
    },
    {
     "name": "stdout",
     "output_type": "stream",
     "text": [
      "                 all        280        961      0.335      0.693      0.443      0.178\n"
     ]
    },
    {
     "name": "stderr",
     "output_type": "stream",
     "text": [
      "\n",
      "     Epoch   gpu_mem       box       obj       cls    labels  img_size\n",
      "\n",
      "Only YOLO\n",
      "     68/79     4.32G   0.03842   0.02379  0.001482        51       640: 100%|██████████| 14/14 [00:01<00:00,  8.91it/s]\n",
      "               Class     Images     Labels          P          R     mAP@.5 mAP@.5:.95: 100%|██████████| 2/2 [00:00<00:00,  4.52it/s]\n"
     ]
    },
    {
     "name": "stdout",
     "output_type": "stream",
     "text": [
      "                 all         80        220      0.662      0.224      0.169     0.0471\n"
     ]
    },
    {
     "name": "stderr",
     "output_type": "stream",
     "text": [
      "               Class     Images     Labels          P          R     mAP@.5 mAP@.5:.95: 100%|██████████| 14/14 [00:01<00:00,  7.92it/s]\n"
     ]
    },
    {
     "name": "stdout",
     "output_type": "stream",
     "text": [
      "                 all        280        961      0.337      0.638       0.42      0.168\n"
     ]
    },
    {
     "name": "stderr",
     "output_type": "stream",
     "text": [
      "\n",
      "     Epoch   gpu_mem       box       obj       cls    labels  img_size\n",
      "\n",
      "Only YOLO\n",
      "     69/79     4.32G   0.03933   0.02358  0.001434        51       640: 100%|██████████| 14/14 [00:01<00:00,  9.20it/s]\n",
      "               Class     Images     Labels          P          R     mAP@.5 mAP@.5:.95: 100%|██████████| 2/2 [00:00<00:00,  4.20it/s]\n"
     ]
    },
    {
     "name": "stdout",
     "output_type": "stream",
     "text": [
      "                 all         80        220       0.63      0.321      0.165     0.0482\n"
     ]
    },
    {
     "name": "stderr",
     "output_type": "stream",
     "text": [
      "               Class     Images     Labels          P          R     mAP@.5 mAP@.5:.95: 100%|██████████| 14/14 [00:01<00:00,  8.19it/s]\n"
     ]
    },
    {
     "name": "stdout",
     "output_type": "stream",
     "text": [
      "                 all        280        961      0.339      0.681      0.457      0.192\n"
     ]
    },
    {
     "name": "stderr",
     "output_type": "stream",
     "text": [
      "\n",
      "     Epoch   gpu_mem       box       obj       cls    labels  img_size\n",
      "\n",
      "Only YOLO\n",
      "     70/79     4.32G   0.03742   0.02375  0.001458        51       640: 100%|██████████| 14/14 [00:01<00:00,  8.93it/s]\n",
      "               Class     Images     Labels          P          R     mAP@.5 mAP@.5:.95: 100%|██████████| 2/2 [00:00<00:00,  4.75it/s]\n"
     ]
    },
    {
     "name": "stdout",
     "output_type": "stream",
     "text": [
      "                 all         80        220       0.67      0.193       0.17     0.0522\n"
     ]
    },
    {
     "name": "stderr",
     "output_type": "stream",
     "text": [
      "               Class     Images     Labels          P          R     mAP@.5 mAP@.5:.95: 100%|██████████| 14/14 [00:01<00:00,  8.33it/s]\n"
     ]
    },
    {
     "name": "stdout",
     "output_type": "stream",
     "text": [
      "                 all        280        961      0.404      0.556      0.468        0.2\n"
     ]
    },
    {
     "name": "stderr",
     "output_type": "stream",
     "text": [
      "\n",
      "     Epoch   gpu_mem       box       obj       cls    labels  img_size\n",
      "\n",
      "Only YOLO\n",
      "     71/79     4.32G    0.0373   0.02361  0.001404        51       640: 100%|██████████| 14/14 [00:01<00:00,  8.80it/s]\n",
      "               Class     Images     Labels          P          R     mAP@.5 mAP@.5:.95: 100%|██████████| 2/2 [00:01<00:00,  1.24it/s]\n"
     ]
    },
    {
     "name": "stdout",
     "output_type": "stream",
     "text": [
      "                 all         80        220      0.656      0.219      0.159     0.0429\n"
     ]
    },
    {
     "name": "stderr",
     "output_type": "stream",
     "text": [
      "               Class     Images     Labels          P          R     mAP@.5 mAP@.5:.95: 100%|██████████| 14/14 [00:01<00:00,  8.34it/s]\n"
     ]
    },
    {
     "name": "stdout",
     "output_type": "stream",
     "text": [
      "                 all        280        961      0.371      0.569      0.435      0.184\n"
     ]
    },
    {
     "name": "stderr",
     "output_type": "stream",
     "text": [
      "\n",
      "     Epoch   gpu_mem       box       obj       cls    labels  img_size\n",
      "\n",
      "Only YOLO\n",
      "     72/79     4.32G   0.03833   0.02353   0.00139        51       640: 100%|██████████| 14/14 [00:01<00:00,  9.02it/s]\n",
      "               Class     Images     Labels          P          R     mAP@.5 mAP@.5:.95: 100%|██████████| 2/2 [00:00<00:00,  4.66it/s]\n"
     ]
    },
    {
     "name": "stdout",
     "output_type": "stream",
     "text": [
      "                 all         80        220      0.655      0.214      0.158     0.0441\n"
     ]
    },
    {
     "name": "stderr",
     "output_type": "stream",
     "text": [
      "               Class     Images     Labels          P          R     mAP@.5 mAP@.5:.95: 100%|██████████| 14/14 [00:01<00:00,  8.75it/s]\n"
     ]
    },
    {
     "name": "stdout",
     "output_type": "stream",
     "text": [
      "                 all        280        961      0.388      0.559      0.458      0.196\n"
     ]
    },
    {
     "name": "stderr",
     "output_type": "stream",
     "text": [
      "\n",
      "     Epoch   gpu_mem       box       obj       cls    labels  img_size\n",
      "\n",
      "Only YOLO\n",
      "     73/79     4.32G   0.03662   0.02358  0.001377        51       640: 100%|██████████| 14/14 [00:01<00:00,  8.79it/s]\n",
      "               Class     Images     Labels          P          R     mAP@.5 mAP@.5:.95: 100%|██████████| 2/2 [00:00<00:00,  4.62it/s]\n"
     ]
    },
    {
     "name": "stdout",
     "output_type": "stream",
     "text": [
      "                 all         80        220      0.635      0.268      0.165     0.0466\n"
     ]
    },
    {
     "name": "stderr",
     "output_type": "stream",
     "text": [
      "               Class     Images     Labels          P          R     mAP@.5 mAP@.5:.95: 100%|██████████| 14/14 [00:01<00:00,  8.29it/s]\n"
     ]
    },
    {
     "name": "stdout",
     "output_type": "stream",
     "text": [
      "                 all        280        961      0.367      0.607      0.455      0.195\n"
     ]
    },
    {
     "name": "stderr",
     "output_type": "stream",
     "text": [
      "\n",
      "     Epoch   gpu_mem       box       obj       cls    labels  img_size\n",
      "\n",
      "Only YOLO\n",
      "     74/79     4.32G   0.03748   0.02343  0.001372        51       640: 100%|██████████| 14/14 [00:01<00:00,  8.98it/s]\n",
      "               Class     Images     Labels          P          R     mAP@.5 mAP@.5:.95: 100%|██████████| 2/2 [00:00<00:00,  4.61it/s]\n"
     ]
    },
    {
     "name": "stdout",
     "output_type": "stream",
     "text": [
      "                 all         80        220      0.694      0.193      0.175     0.0521\n"
     ]
    },
    {
     "name": "stderr",
     "output_type": "stream",
     "text": [
      "               Class     Images     Labels          P          R     mAP@.5 mAP@.5:.95: 100%|██████████| 14/14 [00:01<00:00,  8.22it/s]\n"
     ]
    },
    {
     "name": "stdout",
     "output_type": "stream",
     "text": [
      "                 all        280        961       0.36      0.662      0.462      0.203\n"
     ]
    },
    {
     "name": "stderr",
     "output_type": "stream",
     "text": [
      "\n",
      "     Epoch   gpu_mem       box       obj       cls    labels  img_size\n",
      "\n",
      "Only YOLO\n",
      "     75/79     4.32G   0.03646   0.02357  0.001373        51       640: 100%|██████████| 14/14 [00:01<00:00,  8.78it/s]\n",
      "               Class     Images     Labels          P          R     mAP@.5 mAP@.5:.95: 100%|██████████| 2/2 [00:00<00:00,  4.63it/s]\n"
     ]
    },
    {
     "name": "stdout",
     "output_type": "stream",
     "text": [
      "                 all         80        220      0.678      0.198      0.174     0.0526\n"
     ]
    },
    {
     "name": "stderr",
     "output_type": "stream",
     "text": [
      "               Class     Images     Labels          P          R     mAP@.5 mAP@.5:.95: 100%|██████████| 14/14 [00:01<00:00,  8.15it/s]\n"
     ]
    },
    {
     "name": "stdout",
     "output_type": "stream",
     "text": [
      "                 all        280        961      0.321      0.729      0.459      0.201\n"
     ]
    },
    {
     "name": "stderr",
     "output_type": "stream",
     "text": [
      "\n",
      "     Epoch   gpu_mem       box       obj       cls    labels  img_size\n",
      "\n",
      "Only YOLO\n",
      "     76/79     4.32G   0.03656   0.02349  0.001341        51       640: 100%|██████████| 14/14 [00:01<00:00,  8.34it/s]\n",
      "               Class     Images     Labels          P          R     mAP@.5 mAP@.5:.95: 100%|██████████| 2/2 [00:00<00:00,  4.47it/s]\n"
     ]
    },
    {
     "name": "stdout",
     "output_type": "stream",
     "text": [
      "                 all         80        220      0.664      0.206       0.17     0.0489\n"
     ]
    },
    {
     "name": "stderr",
     "output_type": "stream",
     "text": [
      "               Class     Images     Labels          P          R     mAP@.5 mAP@.5:.95: 100%|██████████| 14/14 [00:01<00:00,  8.61it/s]\n"
     ]
    },
    {
     "name": "stdout",
     "output_type": "stream",
     "text": [
      "                 all        280        961      0.359      0.645      0.466      0.198\n"
     ]
    },
    {
     "name": "stderr",
     "output_type": "stream",
     "text": [
      "\n",
      "     Epoch   gpu_mem       box       obj       cls    labels  img_size\n",
      "\n",
      "Only YOLO\n",
      "     77/79     4.32G   0.03593   0.02352  0.001334        51       640: 100%|██████████| 14/14 [00:01<00:00,  9.23it/s]\n",
      "               Class     Images     Labels          P          R     mAP@.5 mAP@.5:.95: 100%|██████████| 2/2 [00:00<00:00,  4.59it/s]\n"
     ]
    },
    {
     "name": "stdout",
     "output_type": "stream",
     "text": [
      "                 all         80        220      0.686       0.18      0.163     0.0463\n"
     ]
    },
    {
     "name": "stderr",
     "output_type": "stream",
     "text": [
      "               Class     Images     Labels          P          R     mAP@.5 mAP@.5:.95: 100%|██████████| 14/14 [00:01<00:00,  8.54it/s]\n"
     ]
    },
    {
     "name": "stdout",
     "output_type": "stream",
     "text": [
      "                 all        280        961      0.379      0.593       0.47      0.196\n"
     ]
    },
    {
     "name": "stderr",
     "output_type": "stream",
     "text": [
      "\n",
      "     Epoch   gpu_mem       box       obj       cls    labels  img_size\n",
      "\n",
      "Only YOLO\n",
      "     78/79     4.32G   0.03805   0.02338  0.001331        51       640: 100%|██████████| 14/14 [00:01<00:00,  8.81it/s]\n",
      "               Class     Images     Labels          P          R     mAP@.5 mAP@.5:.95: 100%|██████████| 2/2 [00:00<00:00,  4.66it/s]\n"
     ]
    },
    {
     "name": "stdout",
     "output_type": "stream",
     "text": [
      "                 all         80        220      0.709      0.173      0.171     0.0557\n"
     ]
    },
    {
     "name": "stderr",
     "output_type": "stream",
     "text": [
      "               Class     Images     Labels          P          R     mAP@.5 mAP@.5:.95: 100%|██████████| 14/14 [00:01<00:00,  8.48it/s]\n"
     ]
    },
    {
     "name": "stdout",
     "output_type": "stream",
     "text": [
      "                 all        280        961      0.356      0.667       0.47      0.211\n"
     ]
    },
    {
     "name": "stderr",
     "output_type": "stream",
     "text": [
      "\n",
      "     Epoch   gpu_mem       box       obj       cls    labels  img_size\n",
      "\n",
      "Only YOLO\n",
      "     79/79     4.32G   0.03685   0.02343  0.001331        51       640: 100%|██████████| 14/14 [00:01<00:00,  9.06it/s]\n",
      "               Class     Images     Labels          P          R     mAP@.5 mAP@.5:.95: 100%|██████████| 2/2 [00:02<00:00,  1.38s/it]\n"
     ]
    },
    {
     "name": "stdout",
     "output_type": "stream",
     "text": [
      "                 all         80        220      0.647      0.222      0.167     0.0529\n",
      "           bone-loss         80        194      0.294      0.443      0.331      0.105\n",
      "       dental-caries         80         26          1          0    0.00341    0.00103\n"
     ]
    },
    {
     "name": "stderr",
     "output_type": "stream",
     "text": [
      "               Class     Images     Labels          P          R     mAP@.5 mAP@.5:.95: 100%|██████████| 14/14 [00:06<00:00,  2.15it/s]\n"
     ]
    },
    {
     "name": "stdout",
     "output_type": "stream",
     "text": [
      "                 all        280        961      0.338      0.702      0.447      0.199\n",
      "           bone-loss        280        858      0.342      0.921      0.549      0.242\n",
      "       dental-caries        280        103      0.334      0.483      0.345      0.157\n"
     ]
    },
    {
     "name": "stderr",
     "output_type": "stream",
     "text": [
      "\n",
      "80 epochs completed in 0.106 hours.\n",
      "Fusing layers... \n",
      "Model Summary: 213 layers, 7015519 parameters, 0 gradients, 15.8 GFLOPs\n",
      "               Class     Images     Labels          P          R     mAP@.5 mAP@.5:.95: 100%|██████████| 2/2 [00:01<00:00,  1.05it/s]\n"
     ]
    },
    {
     "name": "stdout",
     "output_type": "stream",
     "text": [
      "                 all         80        220      0.658      0.203      0.166      0.052\n",
      "\n",
      "Evaluating pycocotools mAP... saving runs\\train\\Expset1_iid_yolov5\\_predictions.json...\n",
      "\u001b[31m\u001b[1mrequirements:\u001b[0m pycocotools not found and is required by YOLOv5, attempting auto-update...\n",
      "\u001b[31m\u001b[1mrequirements:\u001b[0m Command 'pip install 'pycocotools'' returned non-zero exit status 1.\n",
      "pycocotools unable to run: No module named 'pycocotools'\n"
     ]
    },
    {
     "name": "stderr",
     "output_type": "stream",
     "text": [
      "Fusing layers... \n",
      "Model Summary: 213 layers, 7015519 parameters, 0 gradients, 15.8 GFLOPs\n",
      "               Class     Images     Labels          P          R     mAP@.5 mAP@.5:.95: 100%|██████████| 2/2 [00:00<00:00,  4.15it/s]\n"
     ]
    },
    {
     "name": "stdout",
     "output_type": "stream",
     "text": [
      "                 all         80        220      0.709      0.173       0.17     0.0547\n",
      "\n",
      "Evaluating pycocotools mAP... saving runs\\train\\Expset1_iid_yolov5\\_predictions.json...\n",
      "\u001b[31m\u001b[1mrequirements:\u001b[0m pycocotools not found and is required by YOLOv5, attempting auto-update...\n",
      "\u001b[31m\u001b[1mrequirements:\u001b[0m Command 'pip install 'pycocotools'' returned non-zero exit status 1.\n",
      "pycocotools unable to run: No module named 'pycocotools'\n",
      "Optimizer stripped from runs\\train\\Expset1_iid_yolov5\\weights\\last.pt, 14.3MB\n",
      "Optimizer stripped from runs\\train\\Expset1_iid_yolov5\\weights\\best.pt, 14.3MB\n"
     ]
    },
    {
     "data": {
      "text/html": [
       "<br/>Waiting for W&B process to finish, PID 10528... <strong style=\"color:green\">(success).</strong>"
      ],
      "text/plain": [
       "<IPython.core.display.HTML object>"
      ]
     },
     "metadata": {},
     "output_type": "display_data"
    },
    {
     "data": {
      "application/vnd.jupyter.widget-view+json": {
       "model_id": "",
       "version_major": 2,
       "version_minor": 0
      },
      "text/plain": [
       "VBox(children=(Label(value=' 57.34MB of 57.87MB uploaded (0.00MB deduped)\\r'), FloatProgress(value=0.990849283…"
      ]
     },
     "metadata": {},
     "output_type": "display_data"
    },
    {
     "data": {
      "text/html": [
       "<style>\n",
       "    table.wandb td:nth-child(1) { padding: 0 10px; text-align: right }\n",
       "    .wandb-row { display: flex; flex-direction: row; flex-wrap: wrap; width: 100% }\n",
       "    .wandb-col { display: flex; flex-direction: column; flex-basis: 100%; flex: 1; padding: 10px; }\n",
       "    </style>\n",
       "<div class=\"wandb-row\"><div class=\"wandb-col\">\n",
       "<h3>Run history:</h3><br/><table class=\"wandb\"><tr><td>metrics/mAP_0.5</td><td>▁▁▁▂▃▄▄▅▃▄▄▅▄▅▅▆▅▆▆▆▆▆▇▆▆▆▇▆▇▇█▇▇▇▇▇▇█▇▇</td></tr><tr><td>metrics/mAP_0.5:0.95</td><td>▁▁▁▂▂▃▃▄▂▃▃▄▃▄▄▅▅▅▅▆▅▆▆▅▅▅▆▆▇▇█▆▇▇▇█▇█▇█</td></tr><tr><td>metrics/precision</td><td>▁▁▁▇▇▇▇█▇▇▇▇▇▇▇█▇▇▇█▇██▇█▇██▇██▇▇███████</td></tr><tr><td>metrics/recall</td><td>▁▃▂▃▅▅▆▅▄▅▄▇▄▆█▄█▇█▆█▅▅█▅▇▆▅▇▆▆██▅▆▆▆▆▆▆</td></tr><tr><td>train/box_loss</td><td>█▆▅▅▄▄▄▄▄▄▄▃▃▃▃▃▃▃▂▂▂▂▂▂▂▂▂▂▂▂▂▁▁▁▁▁▁▁▁▁</td></tr><tr><td>train/cls_loss</td><td>█▆▅▄▃▃▂▂▂▂▂▂▂▂▁▁▁▁▁▁▁▁▁▁▁▁▁▁▁▁▁▁▁▁▁▁▁▁▁▁</td></tr><tr><td>train/obj_loss</td><td>▆▇██▆▅▄▄▃▃▃▃▃▂▂▂▂▂▂▂▂▂▁▁▁▁▁▁▁▁▁▁▁▁▁▁▁▁▁▁</td></tr><tr><td>val/box_loss</td><td>█▆▅▄▄▃▃▃▃▃▂▂▃▂▂▂▂▂▂▁▂▁▁▂▁▁▁▁▁▁▁▁▁▁▁▁▁▁▁▁</td></tr><tr><td>val/cls_loss</td><td>█▆▄▃▂▂▂▁▂▁▂▁▁▁▁▁▁▁▁▁▁▁▁▁▁▁▁▁▁▁▁▁▁▁▁▁▁▁▁▁</td></tr><tr><td>val/obj_loss</td><td>▇██▆▄▃▃▂▁▂▃▂▁▂▁▁▂▁▂▄▂▂▂▂▂▂▂▂▃▃▃▃▃▃▃▃▃▃▃▄</td></tr><tr><td>x/lr0</td><td>▁▂▂▃▃▄▄▅▅▆▆▇▇▇▇██████████▇▇▇▇▇▆▆▆▆▆▆▅▅▅▅</td></tr><tr><td>x/lr1</td><td>▁▂▂▃▃▄▄▅▅▆▆▇▇▇▇██████████▇▇▇▇▇▆▆▆▆▆▆▅▅▅▅</td></tr><tr><td>x/lr2</td><td>███▇▇▇▇▇▇▆▆▆▆▆▅▅▅▅▅▄▄▄▄▄▃▃▃▃▃▂▂▂▂▁▁▁▁▁▁▁</td></tr></table><br/></div><div class=\"wandb-col\">\n",
       "<h3>Run summary:</h3><br/><table class=\"wandb\"><tr><td>metrics/mAP_0.5</td><td>0.16738</td></tr><tr><td>metrics/mAP_0.5:0.95</td><td>0.0529</td></tr><tr><td>metrics/precision</td><td>0.64707</td></tr><tr><td>metrics/recall</td><td>0.22165</td></tr><tr><td>train/box_loss</td><td>0.03685</td></tr><tr><td>train/cls_loss</td><td>0.00133</td></tr><tr><td>train/obj_loss</td><td>0.02343</td></tr><tr><td>val/box_loss</td><td>0.06218</td></tr><tr><td>val/cls_loss</td><td>0.00636</td></tr><tr><td>val/obj_loss</td><td>0.031</td></tr><tr><td>x/lr0</td><td>0.00201</td></tr><tr><td>x/lr1</td><td>0.00201</td></tr><tr><td>x/lr2</td><td>0.00201</td></tr></table>\n",
       "</div></div>\n",
       "Synced 6 W&B file(s), 334 media file(s), 1 artifact file(s) and 0 other file(s)\n",
       "<br/>Synced <strong style=\"color:#cdcd00\">Expset1_iid_yolov5</strong>: <a href=\"https://wandb.ai/dddetection/YOLOv5/runs/sp3dl844\" target=\"_blank\">https://wandb.ai/dddetection/YOLOv5/runs/sp3dl844</a><br/>\n",
       "Find logs at: <code>.\\wandb\\run-20220124_140523-sp3dl844\\logs</code><br/>\n"
      ],
      "text/plain": [
       "<IPython.core.display.HTML object>"
      ]
     },
     "metadata": {},
     "output_type": "display_data"
    },
    {
     "name": "stderr",
     "output_type": "stream",
     "text": [
      "Results saved to \u001b[1mruns\\train\\Expset1_iid_yolov5\u001b[0m\n"
     ]
    }
   ],
   "source": [
    "import os\n",
    "os.environ['KMP_DUPLICATE_LIB_OK']='True'\n",
    "%run -i ../src/train.py --data ../data/iid-tvt.yaml --batch-size 20 --epochs 80 --bcc_epoch -1 --name Expset1_iid_yolov5"
   ]
  },
  {
   "cell_type": "code",
   "execution_count": 2,
   "metadata": {},
   "outputs": [
    {
     "name": "stdout",
     "output_type": "stream",
     "text": [
      "\u001b[34m\u001b[1mval: \u001b[0mdata=../data/iid-tvt.yaml, weights=['runs/train/Expset1_iid_yolov5/weights/best.pt'], batch_size=32, imgsz=640, conf_thres=0.001, iou_thres=0.6, task=test, device=, single_cls=False, augment=False, verbose=False, save_txt=False, save_hybrid=False, save_conf=False, save_json=False, project=runs/val, name=Expset1_iid_yolov5_test, exist_ok=False, half=False\n",
      "                 all         10         32      0.749     0.0455     0.0466     0.0144\n",
      "           bone-loss         10         11      0.498     0.0909     0.0909     0.0283\n",
      "       dental-caries         10         21          1          0    0.00228   0.000457\n",
      "Speed: 0.7ms pre-process, 3.0ms inference, 2.0ms NMS per image at shape (32, 3, 640, 640)\n",
      "Results saved to \u001b[1mruns\\val\\Expset1_iid_yolov5_test\u001b[0m\n"
     ]
    },
    {
     "name": "stderr",
     "output_type": "stream",
     "text": [
      "YOLOv5  2022-1-18 torch 1.10.1+cu113 CUDA:0 (NVIDIA GeForce RTX 3090, 24575.5MB)\n",
      "\n",
      "Fusing layers... \n",
      "C:\\Users\\rb01243\\Anaconda3\\lib\\site-packages\\torch\\functional.py:445: UserWarning: torch.meshgrid: in an upcoming release, it will be required to pass the indexing argument. (Triggered internally at  ..\\aten\\src\\ATen\\native\\TensorShape.cpp:2157.)\n",
      "  return _VF.meshgrid(tensors, **kwargs)  # type: ignore[attr-defined]\n",
      "Model Summary: 213 layers, 7015519 parameters, 0 gradients, 15.8 GFLOPs\n",
      "\n",
      "\u001b[34m\u001b[1mtest: \u001b[0mScanning '..\\data\\datasets\\iid-tvt\\labels\\test.cache' images and labels... 10 found, 0 missing, 0 empty, 0 corrupted: 100%|##########| 10/10 [00:00<?, ?it/s]\n",
      "\u001b[34m\u001b[1mtest: \u001b[0mScanning '..\\data\\datasets\\iid-tvt\\labels\\test.cache' images and labels... 10 found, 0 missing, 0 empty, 0 corrupted: 100%|##########| 10/10 [00:00<?, ?it/s]\n",
      "\n",
      "               Class     Images     Labels          P          R     mAP@.5 mAP@.5:.95:   0%|          | 0/1 [00:00<?, ?it/s]\n",
      "               Class     Images     Labels          P          R     mAP@.5 mAP@.5:.95: 100%|##########| 1/1 [00:03<00:00,  3.04s/it]\n",
      "               Class     Images     Labels          P          R     mAP@.5 mAP@.5:.95: 100%|##########| 1/1 [00:03<00:00,  3.04s/it]\n"
     ]
    }
   ],
   "source": [
    "os.environ['KMP_DUPLICATE_LIB_OK']='True'\n",
    "!python ../src/val.py --weights runs/train/Expset1_iid_yolov5/weights/best.pt --data ../data/iid-tvt.yaml --task test --name Expset1_iid_yolov5_test"
   ]
  },
  {
   "cell_type": "code",
   "execution_count": null,
   "metadata": {},
   "outputs": [],
   "source": []
  },
  {
   "cell_type": "markdown",
   "metadata": {},
   "source": [
    "## Analysis"
   ]
  },
  {
   "cell_type": "markdown",
   "metadata": {},
   "source": [
    "{ analysis goes here }"
   ]
  },
  {
   "cell_type": "markdown",
   "metadata": {},
   "source": [
    "# Experiment 4 (YoloV5 Agregation Preprocessing)\n",
    "\n",
    "### This section runs the experiments, prints results, and plots graphs for both dataset where ground truth labels are agregated into ground truth labels. This experiment also uses YoloV5 as the object detection algorithm"
   ]
  },
  {
   "cell_type": "markdown",
   "metadata": {},
   "source": [
    "## 4.2  CSexp (Dataset 2)"
   ]
  },
  {
   "cell_type": "code",
   "execution_count": null,
   "metadata": {},
   "outputs": [],
   "source": []
  },
  {
   "cell_type": "code",
   "execution_count": null,
   "metadata": {},
   "outputs": [],
   "source": []
  },
  {
   "cell_type": "markdown",
   "metadata": {},
   "source": [
    "## Analysis"
   ]
  },
  {
   "cell_type": "markdown",
   "metadata": {},
   "source": [
    "{ analysis goes here }"
   ]
  },
  {
   "cell_type": "markdown",
   "metadata": {},
   "source": []
  },
  {
   "cell_type": "markdown",
   "metadata": {},
   "source": [
    "# Conclusion Experiment Set 1"
   ]
  },
  {
   "cell_type": "markdown",
   "metadata": {},
   "source": []
  },
  {
   "cell_type": "markdown",
   "metadata": {},
   "source": [
    "# EXPERIMENT SET 2 "
   ]
  },
  {
   "cell_type": "markdown",
   "metadata": {},
   "source": [
    "# Experiment 1 (Crowd Yolo Model)\n",
    "\n",
    "### This section runs the experiments, prints results, and plots graphs for both dataset using the Crowd Yolo model."
   ]
  },
  {
   "cell_type": "code",
   "execution_count": 1,
   "metadata": {},
   "outputs": [
    {
     "name": "stderr",
     "output_type": "stream",
     "text": [
      "YOLOv5  2022-2-8 torch 1.10.1+cu113 CUDA:0 (NVIDIA GeForce RTX 3090, 24575.5MB)\n",
      "\n",
      "\u001b[34m\u001b[1mhyperparameters: \u001b[0mlr0=0.01, lrf=0.2, momentum=0.937, weight_decay=0.0005, warmup_epochs=3.0, warmup_momentum=0.8, warmup_bias_lr=0.1, box=0.05, obj=1.0, cls=0.5, cls_pw=1.0, obj_pw=1.0, iou_t=0.2, anchor_t=4.0, fl_gamma=0, hsv_h=0.015, hsv_s=0.7, hsv_v=0.4, degrees=0.0, translate=0.1, scale=0.5, shear=0.0, perspective=0.0, flipud=0.0, fliplr=0.5, mosaic=1.0, mixup=0.0, copy_paste=0.0\n",
      "\u001b[34m\u001b[1mTensorBoard: \u001b[0mStart with 'tensorboard --logdir runs\\train', view at http://localhost:6006/\n"
     ]
    },
    {
     "name": "stdout",
     "output_type": "stream",
     "text": [
      "\u001b[34m\u001b[1mtrain: \u001b[0mbcc_epoch=0, confusion_matrix_diagonal_prior_hyp=0.1, convergence_threshold_hyp=1e-06, qtfilter_epoch=-1, qt_thres_mode=, qt_thres=0.0, hybrid_entropy_thres=0.0, hybrid_conf_thres=0.0, weights=yolov5s.pt, cfg=, data=../data/All_Volunteers_Crowdsourced.yaml, hyp=../data/hyps/hyp.scratch.yaml, epochs=50, batch_size=25, imgsz=640, rect=False, resume=False, nosave=False, noval=False, noautoanchor=False, evolve=None, bucket=, cache=None, image_weights=False, device=0, multi_scale=False, single_cls=False, adam=False, sync_bn=False, workers=8, project=runs/train, entity=None, name=ex1_Zoon_with_Calc, exist_ok=False, quad=False, linear_lr=False, label_smoothing=0.0, upload_dataset=False, bbox_interval=-1, save_period=-1, artifact_alias=latest, local_rank=-1, freeze=0, patience=1100\n",
      "\u001b[34m\u001b[1mgithub: \u001b[0mskipping check (not a git repository), for updates see https://github.com/ultralytics/yolov5\n",
      "device:  cuda:0\n"
     ]
    },
    {
     "name": "stderr",
     "output_type": "stream",
     "text": [
      "Failed to detect the name of this notebook, you can set it manually with the WANDB_NOTEBOOK_NAME environment variable to enable code saving.\n",
      "\u001b[34m\u001b[1mwandb\u001b[0m: Currently logged in as: \u001b[33mdddetection\u001b[0m (use `wandb login --relogin` to force relogin)\n"
     ]
    },
    {
     "data": {
      "text/html": [
       "\n",
       "                    Syncing run <strong><a href=\"https://wandb.ai/dddetection/YOLOv5/runs/6zhmpjrj\" target=\"_blank\">ex1_Zoon_with_Calc</a></strong> to <a href=\"https://wandb.ai/dddetection/YOLOv5\" target=\"_blank\">Weights & Biases</a> (<a href=\"https://docs.wandb.com/integrations/jupyter.html\" target=\"_blank\">docs</a>).<br/>\n",
       "\n",
       "                "
      ],
      "text/plain": [
       "<IPython.core.display.HTML object>"
      ]
     },
     "metadata": {},
     "output_type": "display_data"
    },
    {
     "name": "stderr",
     "output_type": "stream",
     "text": [
      "Overriding model.yaml nc=80 with nc=3\n",
      "\n",
      "                 from  n    params  module                                  arguments                     \n",
      "  0                -1  1      3520  models.common.Conv                      [3, 32, 6, 2, 2]              \n",
      "  1                -1  1     18560  models.common.Conv                      [32, 64, 3, 2]                \n",
      "  2                -1  1     18816  models.common.C3                        [64, 64, 1]                   \n",
      "  3                -1  1     73984  models.common.Conv                      [64, 128, 3, 2]               \n",
      "  4                -1  2    115712  models.common.C3                        [128, 128, 2]                 \n",
      "  5                -1  1    295424  models.common.Conv                      [128, 256, 3, 2]              \n",
      "  6                -1  3    625152  models.common.C3                        [256, 256, 3]                 \n",
      "  7                -1  1   1180672  models.common.Conv                      [256, 512, 3, 2]              \n",
      "  8                -1  1   1182720  models.common.C3                        [512, 512, 1]                 \n",
      "  9                -1  1    656896  models.common.SPPF                      [512, 512, 5]                 \n",
      " 10                -1  1    131584  models.common.Conv                      [512, 256, 1, 1]              \n",
      " 11                -1  1         0  torch.nn.modules.upsampling.Upsample    [None, 2, 'nearest']          \n",
      " 12           [-1, 6]  1         0  models.common.Concat                    [1]                           \n",
      " 13                -1  1    361984  models.common.C3                        [512, 256, 1, False]          \n",
      " 14                -1  1     33024  models.common.Conv                      [256, 128, 1, 1]              \n",
      " 15                -1  1         0  torch.nn.modules.upsampling.Upsample    [None, 2, 'nearest']          \n",
      " 16           [-1, 4]  1         0  models.common.Concat                    [1]                           \n",
      " 17                -1  1     90880  models.common.C3                        [256, 128, 1, False]          \n",
      " 18                -1  1    147712  models.common.Conv                      [128, 128, 3, 2]              \n",
      " 19          [-1, 14]  1         0  models.common.Concat                    [1]                           \n",
      " 20                -1  1    296448  models.common.C3                        [256, 256, 1, False]          \n",
      " 21                -1  1    590336  models.common.Conv                      [256, 256, 3, 2]              \n",
      " 22          [-1, 10]  1         0  models.common.Concat                    [1]                           \n",
      " 23                -1  1   1182720  models.common.C3                        [512, 512, 1, False]          \n",
      " 24      [17, 20, 23]  1     21576  models.yolo.Detect                      [3, [[10, 13, 16, 30, 33, 23], [30, 61, 62, 45, 59, 119], [116, 90, 156, 198, 373, 326]], [128, 256, 512]]\n",
      "C:\\Users\\rb01243\\Anaconda3\\lib\\site-packages\\torch\\functional.py:445: UserWarning: torch.meshgrid: in an upcoming release, it will be required to pass the indexing argument. (Triggered internally at  ..\\aten\\src\\ATen\\native\\TensorShape.cpp:2157.)\n",
      "  return _VF.meshgrid(tensors, **kwargs)  # type: ignore[attr-defined]\n",
      "Model Summary: 270 layers, 7027720 parameters, 7027720 gradients, 15.9 GFLOPs\n",
      "\n",
      "Transferred 344/350 items from yolov5s.pt\n",
      "Scaled weight_decay = 0.0005859375\n",
      "\u001b[34m\u001b[1moptimizer:\u001b[0m SGD with parameter groups 57 weight, 60 weight (no decay), 60 bias\n"
     ]
    },
    {
     "name": "stdout",
     "output_type": "stream",
     "text": [
      "Augmentation is:  False\n"
     ]
    },
    {
     "name": "stderr",
     "output_type": "stream",
     "text": [
      "\u001b[34m\u001b[1mtrain: \u001b[0mScanning '..\\data\\datasets\\All_Volunteers_Crowdsourced\\labels\\train' images and labels...1557 found, 0 missing, 0 empty, 1 corrupted: 100%|██████████| 1557/1557 [00:04<00:00, 337.80it/s] \n",
      "\u001b[34m\u001b[1mtrain: \u001b[0mWARNING: Ignoring corrupted image and/or label ..\\data\\datasets\\All_Volunteers_Crowdsourced\\images\\train\\Unknown-X-20200130-084742-XLGSYPPPTEXC-0.JPG: non-normalized or out of bounds coordinate labels\n",
      "\u001b[34m\u001b[1mtrain: \u001b[0mNew cache created: ..\\data\\datasets\\All_Volunteers_Crowdsourced\\labels\\train.cache\n",
      "\u001b[34m\u001b[1mval: \u001b[0mScanning '..\\data\\datasets\\All_Volunteers_IID\\labels\\val' images and labels...1901 found, 0 missing, 0 empty, 1 corrupted: 100%|██████████| 1901/1901 [00:04<00:00, 395.37it/s] \n",
      "\u001b[34m\u001b[1mval: \u001b[0mWARNING: Ignoring corrupted image and/or label ..\\data\\datasets\\All_Volunteers_IID\\images\\val\\IX20191022_101649_0368_00003706.neeraja.swayampakula.JPG: non-normalized or out of bounds coordinate labels\n",
      "\u001b[34m\u001b[1mval: \u001b[0mNew cache created: ..\\data\\datasets\\All_Volunteers_IID\\labels\\val.cache\n"
     ]
    },
    {
     "name": "stdout",
     "output_type": "stream",
     "text": [
      "Plotting labels... \n"
     ]
    },
    {
     "name": "stderr",
     "output_type": "stream",
     "text": [
      "Image sizes 640 train, 640 val\n",
      "Using 8 dataloader workers\n",
      "Logging results to \u001b[1mruns\\train\\ex1_Zoon_with_Calc5\u001b[0m\n",
      "Starting training for 50 epochs...\n",
      "\n",
      "     Epoch   gpu_mem       box       obj       cls    labels  img_size\n",
      "\n",
      "YOLO+BCC\n"
     ]
    },
    {
     "name": "stdout",
     "output_type": "stream",
     "text": [
      "\n",
      "\u001b[34m\u001b[1mautoanchor: \u001b[0mAnalyzing anchors... anchors/target = 5.18, Best Possible Recall (BPR) = 0.9987\n"
     ]
    },
    {
     "name": "stderr",
     "output_type": "stream",
     "text": [
      "      0/49     6.17G         0   0.01162         0        88       640: 100%|██████████| 63/63 [04:23<00:00,  4.19s/it]\n",
      "               Class     Images     Labels          P          R     mAP@.5 mAP@.5:.95: 100%|██████████| 38/38 [00:11<00:00,  3.35it/s]\n"
     ]
    },
    {
     "name": "stdout",
     "output_type": "stream",
     "text": [
      "                 all       1900       6316     0.0011     0.0368   0.000545   0.000112\n"
     ]
    },
    {
     "name": "stderr",
     "output_type": "stream",
     "text": [
      "               Class     Images     Labels          P          R     mAP@.5 mAP@.5:.95: 100%|██████████| 63/63 [00:11<00:00,  5.68it/s]\n"
     ]
    },
    {
     "name": "stdout",
     "output_type": "stream",
     "text": [
      "                 all       1556      23108    0.00464     0.0152    0.00175   0.000372\n"
     ]
    },
    {
     "name": "stderr",
     "output_type": "stream",
     "text": [
      "\n",
      "     Epoch   gpu_mem       box       obj       cls    labels  img_size\n",
      "\n",
      "YOLO+BCC\n",
      "      1/49     7.12G         0  0.003824         0        88       640: 100%|██████████| 63/63 [04:19<00:00,  4.11s/it]\n",
      "               Class     Images     Labels          P          R     mAP@.5 mAP@.5:.95: 100%|██████████| 38/38 [00:09<00:00,  3.90it/s]\n"
     ]
    },
    {
     "name": "stdout",
     "output_type": "stream",
     "text": [
      "                 all       1900       6316    0.00153     0.0159   0.000688   0.000149\n"
     ]
    },
    {
     "name": "stderr",
     "output_type": "stream",
     "text": [
      "               Class     Images     Labels          P          R     mAP@.5 mAP@.5:.95: 100%|██████████| 63/63 [00:09<00:00,  6.78it/s]\n"
     ]
    },
    {
     "name": "stdout",
     "output_type": "stream",
     "text": [
      "                 all       1556      23108    0.00668       0.02    0.00245   0.000516\n"
     ]
    },
    {
     "name": "stderr",
     "output_type": "stream",
     "text": [
      "\n",
      "     Epoch   gpu_mem       box       obj       cls    labels  img_size\n",
      "\n",
      "YOLO+BCC\n",
      "      2/49     7.24G         0  0.002027         0        88       640: 100%|██████████| 63/63 [04:18<00:00,  4.11s/it]\n",
      "               Class     Images     Labels          P          R     mAP@.5 mAP@.5:.95: 100%|██████████| 38/38 [00:09<00:00,  4.02it/s]\n"
     ]
    },
    {
     "name": "stdout",
     "output_type": "stream",
     "text": [
      "                 all       1900       6316    0.00182     0.0333   0.000959   0.000226\n"
     ]
    },
    {
     "name": "stderr",
     "output_type": "stream",
     "text": [
      "               Class     Images     Labels          P          R     mAP@.5 mAP@.5:.95: 100%|██████████| 63/63 [00:08<00:00,  7.00it/s]\n"
     ]
    },
    {
     "name": "stdout",
     "output_type": "stream",
     "text": [
      "                 all       1556      23108    0.00617     0.0325    0.00328   0.000745\n"
     ]
    },
    {
     "name": "stderr",
     "output_type": "stream",
     "text": [
      "\n",
      "     Epoch   gpu_mem       box       obj       cls    labels  img_size\n",
      "\n",
      "YOLO+BCC\n",
      "      3/49     7.85G         0  0.001263         0        88       640: 100%|██████████| 63/63 [04:17<00:00,  4.09s/it]\n",
      "               Class     Images     Labels          P          R     mAP@.5 mAP@.5:.95: 100%|██████████| 38/38 [00:09<00:00,  4.07it/s]\n"
     ]
    },
    {
     "name": "stdout",
     "output_type": "stream",
     "text": [
      "                 all       1900       6316    0.00204    0.00846    0.00105   0.000259\n"
     ]
    },
    {
     "name": "stderr",
     "output_type": "stream",
     "text": [
      "               Class     Images     Labels          P          R     mAP@.5 mAP@.5:.95: 100%|██████████| 63/63 [00:08<00:00,  7.20it/s]\n"
     ]
    },
    {
     "name": "stdout",
     "output_type": "stream",
     "text": [
      "                 all       1556      23108     0.0074    0.00839    0.00385   0.000746\n"
     ]
    },
    {
     "name": "stderr",
     "output_type": "stream",
     "text": [
      "\n",
      "     Epoch   gpu_mem       box       obj       cls    labels  img_size\n",
      "\n",
      "YOLO+BCC\n",
      "      4/49     7.79G         0 0.0008588         0        88       640: 100%|██████████| 63/63 [04:17<00:00,  4.08s/it]\n",
      "               Class     Images     Labels          P          R     mAP@.5 mAP@.5:.95: 100%|██████████| 38/38 [00:09<00:00,  4.04it/s]\n"
     ]
    },
    {
     "name": "stdout",
     "output_type": "stream",
     "text": [
      "                 all       1900       6316    0.00224    0.00234    0.00114   0.000238\n"
     ]
    },
    {
     "name": "stderr",
     "output_type": "stream",
     "text": [
      "               Class     Images     Labels          P          R     mAP@.5 mAP@.5:.95: 100%|██████████| 63/63 [00:07<00:00,  7.95it/s]\n"
     ]
    },
    {
     "name": "stdout",
     "output_type": "stream",
     "text": [
      "                 all       1556      23108    0.00679     0.0025    0.00355    0.00081\n"
     ]
    },
    {
     "name": "stderr",
     "output_type": "stream",
     "text": [
      "\n",
      "     Epoch   gpu_mem       box       obj       cls    labels  img_size\n",
      "\n",
      "YOLO+BCC\n",
      "      5/49     8.13G         0 0.0006269         0        88       640: 100%|██████████| 63/63 [04:23<00:00,  4.18s/it]\n",
      "               Class     Images     Labels          P          R     mAP@.5 mAP@.5:.95: 100%|██████████| 38/38 [00:07<00:00,  4.84it/s]\n"
     ]
    },
    {
     "name": "stdout",
     "output_type": "stream",
     "text": [
      "                 all       1900       6316    0.00186   0.000781   0.000948   0.000231\n"
     ]
    },
    {
     "name": "stderr",
     "output_type": "stream",
     "text": [
      "               Class     Images     Labels          P          R     mAP@.5 mAP@.5:.95: 100%|██████████| 63/63 [00:07<00:00,  8.34it/s]\n"
     ]
    },
    {
     "name": "stdout",
     "output_type": "stream",
     "text": [
      "                 all       1556      23108     0.0087    0.00105    0.00447   0.000868\n"
     ]
    },
    {
     "name": "stderr",
     "output_type": "stream",
     "text": [
      "\n",
      "     Epoch   gpu_mem       box       obj       cls    labels  img_size\n",
      "\n",
      "YOLO+BCC\n",
      "      6/49     7.69G         0 0.0004669         0        88       640: 100%|██████████| 63/63 [04:23<00:00,  4.18s/it]\n",
      "               Class     Images     Labels          P          R     mAP@.5 mAP@.5:.95: 100%|██████████| 38/38 [00:07<00:00,  4.83it/s]\n"
     ]
    },
    {
     "name": "stdout",
     "output_type": "stream",
     "text": [
      "                 all       1900       6316     0.0029    0.00051    0.00146   0.000343\n"
     ]
    },
    {
     "name": "stderr",
     "output_type": "stream",
     "text": [
      "               Class     Images     Labels          P          R     mAP@.5 mAP@.5:.95: 100%|██████████| 63/63 [00:07<00:00,  8.72it/s]\n"
     ]
    },
    {
     "name": "stdout",
     "output_type": "stream",
     "text": [
      "                 all       1556      23108    0.00958   0.000423    0.00492   0.000989\n"
     ]
    },
    {
     "name": "stderr",
     "output_type": "stream",
     "text": [
      "\n",
      "     Epoch   gpu_mem       box       obj       cls    labels  img_size\n",
      "\n",
      "YOLO+BCC\n",
      "      7/49     7.66G         0 0.0003576         0        88       640: 100%|██████████| 63/63 [04:22<00:00,  4.17s/it]\n",
      "               Class     Images     Labels          P          R     mAP@.5 mAP@.5:.95: 100%|██████████| 38/38 [00:07<00:00,  5.04it/s]\n"
     ]
    },
    {
     "name": "stdout",
     "output_type": "stream",
     "text": [
      "                 all       1900       6316    0.00171   0.000239   0.000856   0.000257\n"
     ]
    },
    {
     "name": "stderr",
     "output_type": "stream",
     "text": [
      "               Class     Images     Labels          P          R     mAP@.5 mAP@.5:.95: 100%|██████████| 63/63 [00:07<00:00,  8.76it/s]\n"
     ]
    },
    {
     "name": "stdout",
     "output_type": "stream",
     "text": [
      "                 all       1556      23108     0.0139   0.000244    0.00713    0.00141\n"
     ]
    },
    {
     "name": "stderr",
     "output_type": "stream",
     "text": [
      "\n",
      "     Epoch   gpu_mem       box       obj       cls    labels  img_size\n",
      "\n",
      "YOLO+BCC\n",
      "      8/49        8G         0 0.0002806         0        88       640: 100%|██████████| 63/63 [04:21<00:00,  4.16s/it]\n",
      "               Class     Images     Labels          P          R     mAP@.5 mAP@.5:.95: 100%|██████████| 38/38 [00:07<00:00,  5.29it/s]\n"
     ]
    },
    {
     "name": "stdout",
     "output_type": "stream",
     "text": [
      "                 all       1900          0          0          0          0          0\n"
     ]
    },
    {
     "name": "stderr",
     "output_type": "stream",
     "text": [
      "               Class     Images     Labels          P          R     mAP@.5 mAP@.5:.95: 100%|██████████| 63/63 [00:07<00:00,  8.55it/s]\n"
     ]
    },
    {
     "name": "stdout",
     "output_type": "stream",
     "text": [
      "                 all       1556      23108     0.0191   0.000145    0.00964    0.00228\n"
     ]
    },
    {
     "name": "stderr",
     "output_type": "stream",
     "text": [
      "\n",
      "     Epoch   gpu_mem       box       obj       cls    labels  img_size\n",
      "\n",
      "YOLO+BCC\n",
      "      9/49     7.44G         0 0.0002242         0        88       640: 100%|██████████| 63/63 [04:22<00:00,  4.16s/it]\n",
      "               Class     Images     Labels          P          R     mAP@.5 mAP@.5:.95: 100%|██████████| 38/38 [00:07<00:00,  5.10it/s]\n"
     ]
    },
    {
     "name": "stdout",
     "output_type": "stream",
     "text": [
      "                 all       1900          0          0          0          0          0\n"
     ]
    },
    {
     "name": "stderr",
     "output_type": "stream",
     "text": [
      "               Class     Images     Labels          P          R     mAP@.5 mAP@.5:.95: 100%|██████████| 63/63 [00:07<00:00,  8.97it/s]\n"
     ]
    },
    {
     "name": "stdout",
     "output_type": "stream",
     "text": [
      "                 all       1556      23108     0.0167   4.48e-05    0.00835     0.0025\n"
     ]
    },
    {
     "name": "stderr",
     "output_type": "stream",
     "text": [
      "\n",
      "     Epoch   gpu_mem       box       obj       cls    labels  img_size\n",
      "\n",
      "YOLO+BCC\n",
      "     10/49     7.99G         0  0.000182         0        88       640: 100%|██████████| 63/63 [04:21<00:00,  4.16s/it]\n",
      "               Class     Images     Labels          P          R     mAP@.5 mAP@.5:.95: 100%|██████████| 38/38 [00:07<00:00,  5.43it/s]\n"
     ]
    },
    {
     "name": "stdout",
     "output_type": "stream",
     "text": [
      "                 all       1900          0          0          0          0          0\n"
     ]
    },
    {
     "name": "stderr",
     "output_type": "stream",
     "text": [
      "               Class     Images     Labels          P          R     mAP@.5 mAP@.5:.95: 100%|██████████| 63/63 [00:06<00:00,  9.21it/s]\n"
     ]
    },
    {
     "name": "stdout",
     "output_type": "stream",
     "text": [
      "                 all       1556          0          0          0          0          0\n"
     ]
    },
    {
     "name": "stderr",
     "output_type": "stream",
     "text": [
      "\n",
      "     Epoch   gpu_mem       box       obj       cls    labels  img_size\n",
      "\n",
      "YOLO+BCC\n",
      "     11/49     7.94G         0 0.0001494         0        88       640: 100%|██████████| 63/63 [04:22<00:00,  4.16s/it]\n",
      "               Class     Images     Labels          P          R     mAP@.5 mAP@.5:.95: 100%|██████████| 38/38 [00:06<00:00,  5.53it/s]\n"
     ]
    },
    {
     "name": "stdout",
     "output_type": "stream",
     "text": [
      "                 all       1900          0          0          0          0          0\n"
     ]
    },
    {
     "name": "stderr",
     "output_type": "stream",
     "text": [
      "               Class     Images     Labels          P          R     mAP@.5 mAP@.5:.95: 100%|██████████| 63/63 [00:06<00:00,  9.35it/s]\n"
     ]
    },
    {
     "name": "stdout",
     "output_type": "stream",
     "text": [
      "                 all       1556          0          0          0          0          0\n"
     ]
    },
    {
     "name": "stderr",
     "output_type": "stream",
     "text": [
      "\n",
      "     Epoch   gpu_mem       box       obj       cls    labels  img_size\n",
      "\n",
      "YOLO+BCC\n",
      "     12/49        8G         0 0.0001239         0        88       640: 100%|██████████| 63/63 [04:21<00:00,  4.16s/it]\n",
      "               Class     Images     Labels          P          R     mAP@.5 mAP@.5:.95: 100%|██████████| 38/38 [00:07<00:00,  5.37it/s]\n"
     ]
    },
    {
     "name": "stdout",
     "output_type": "stream",
     "text": [
      "                 all       1900          0          0          0          0          0\n"
     ]
    },
    {
     "name": "stderr",
     "output_type": "stream",
     "text": [
      "               Class     Images     Labels          P          R     mAP@.5 mAP@.5:.95: 100%|██████████| 63/63 [00:06<00:00,  9.26it/s]\n"
     ]
    },
    {
     "name": "stdout",
     "output_type": "stream",
     "text": [
      "                 all       1556          0          0          0          0          0\n"
     ]
    },
    {
     "name": "stderr",
     "output_type": "stream",
     "text": [
      "\n",
      "     Epoch   gpu_mem       box       obj       cls    labels  img_size\n",
      "\n",
      "YOLO+BCC\n",
      "     13/49     7.79G         0 0.0001034         0        88       640: 100%|██████████| 63/63 [04:22<00:00,  4.16s/it]\n",
      "               Class     Images     Labels          P          R     mAP@.5 mAP@.5:.95: 100%|██████████| 38/38 [00:06<00:00,  5.44it/s]\n"
     ]
    },
    {
     "name": "stdout",
     "output_type": "stream",
     "text": [
      "                 all       1900          0          0          0          0          0\n"
     ]
    },
    {
     "name": "stderr",
     "output_type": "stream",
     "text": [
      "               Class     Images     Labels          P          R     mAP@.5 mAP@.5:.95: 100%|██████████| 63/63 [00:06<00:00,  9.21it/s]\n"
     ]
    },
    {
     "name": "stdout",
     "output_type": "stream",
     "text": [
      "                 all       1556          0          0          0          0          0\n"
     ]
    },
    {
     "name": "stderr",
     "output_type": "stream",
     "text": [
      "\n",
      "     Epoch   gpu_mem       box       obj       cls    labels  img_size\n",
      "\n",
      "YOLO+BCC\n",
      "     14/49      7.7G         0 8.697e-05         0        88       640: 100%|██████████| 63/63 [04:21<00:00,  4.16s/it]\n",
      "               Class     Images     Labels          P          R     mAP@.5 mAP@.5:.95: 100%|██████████| 38/38 [00:07<00:00,  5.41it/s]\n"
     ]
    },
    {
     "name": "stdout",
     "output_type": "stream",
     "text": [
      "                 all       1900          0          0          0          0          0\n"
     ]
    },
    {
     "name": "stderr",
     "output_type": "stream",
     "text": [
      "               Class     Images     Labels          P          R     mAP@.5 mAP@.5:.95: 100%|██████████| 63/63 [00:06<00:00,  9.07it/s]\n"
     ]
    },
    {
     "name": "stdout",
     "output_type": "stream",
     "text": [
      "                 all       1556          0          0          0          0          0\n"
     ]
    },
    {
     "name": "stderr",
     "output_type": "stream",
     "text": [
      "\n",
      "     Epoch   gpu_mem       box       obj       cls    labels  img_size\n",
      "\n",
      "YOLO+BCC\n",
      "     15/49     7.54G         0 7.409e-05         0        88       640: 100%|██████████| 63/63 [04:22<00:00,  4.17s/it]\n",
      "               Class     Images     Labels          P          R     mAP@.5 mAP@.5:.95: 100%|██████████| 38/38 [00:06<00:00,  5.45it/s]\n"
     ]
    },
    {
     "name": "stdout",
     "output_type": "stream",
     "text": [
      "                 all       1900          0          0          0          0          0\n"
     ]
    },
    {
     "name": "stderr",
     "output_type": "stream",
     "text": [
      "               Class     Images     Labels          P          R     mAP@.5 mAP@.5:.95: 100%|██████████| 63/63 [00:06<00:00,  9.37it/s]\n"
     ]
    },
    {
     "name": "stdout",
     "output_type": "stream",
     "text": [
      "                 all       1556          0          0          0          0          0\n"
     ]
    },
    {
     "name": "stderr",
     "output_type": "stream",
     "text": [
      "\n",
      "     Epoch   gpu_mem       box       obj       cls    labels  img_size\n",
      "\n",
      "YOLO+BCC\n",
      "     16/49      7.9G         0 6.359e-05         0        88       640: 100%|██████████| 63/63 [04:21<00:00,  4.15s/it]\n",
      "               Class     Images     Labels          P          R     mAP@.5 mAP@.5:.95: 100%|██████████| 38/38 [00:06<00:00,  5.45it/s]\n"
     ]
    },
    {
     "name": "stdout",
     "output_type": "stream",
     "text": [
      "                 all       1900          0          0          0          0          0\n"
     ]
    },
    {
     "name": "stderr",
     "output_type": "stream",
     "text": [
      "               Class     Images     Labels          P          R     mAP@.5 mAP@.5:.95: 100%|██████████| 63/63 [00:06<00:00,  9.15it/s]\n"
     ]
    },
    {
     "name": "stdout",
     "output_type": "stream",
     "text": [
      "                 all       1556          0          0          0          0          0\n"
     ]
    },
    {
     "name": "stderr",
     "output_type": "stream",
     "text": [
      "\n",
      "     Epoch   gpu_mem       box       obj       cls    labels  img_size\n",
      "\n",
      "YOLO+BCC\n",
      "     17/49     7.52G         0 5.461e-05         0        88       640: 100%|██████████| 63/63 [04:21<00:00,  4.15s/it]\n",
      "               Class     Images     Labels          P          R     mAP@.5 mAP@.5:.95: 100%|██████████| 38/38 [00:06<00:00,  5.60it/s]\n"
     ]
    },
    {
     "name": "stdout",
     "output_type": "stream",
     "text": [
      "                 all       1900          0          0          0          0          0\n"
     ]
    },
    {
     "name": "stderr",
     "output_type": "stream",
     "text": [
      "               Class     Images     Labels          P          R     mAP@.5 mAP@.5:.95: 100%|██████████| 63/63 [00:06<00:00,  9.16it/s]\n"
     ]
    },
    {
     "name": "stdout",
     "output_type": "stream",
     "text": [
      "                 all       1556          0          0          0          0          0\n"
     ]
    },
    {
     "name": "stderr",
     "output_type": "stream",
     "text": [
      "\n",
      "     Epoch   gpu_mem       box       obj       cls    labels  img_size\n",
      "\n",
      "YOLO+BCC\n",
      "     18/49     8.27G         0 4.776e-05         0        88       640: 100%|██████████| 63/63 [04:20<00:00,  4.13s/it]\n",
      "               Class     Images     Labels          P          R     mAP@.5 mAP@.5:.95: 100%|██████████| 38/38 [00:06<00:00,  5.53it/s]\n"
     ]
    },
    {
     "name": "stdout",
     "output_type": "stream",
     "text": [
      "                 all       1900          0          0          0          0          0\n"
     ]
    },
    {
     "name": "stderr",
     "output_type": "stream",
     "text": [
      "               Class     Images     Labels          P          R     mAP@.5 mAP@.5:.95: 100%|██████████| 63/63 [00:06<00:00,  9.25it/s]\n"
     ]
    },
    {
     "name": "stdout",
     "output_type": "stream",
     "text": [
      "                 all       1556          0          0          0          0          0\n"
     ]
    },
    {
     "name": "stderr",
     "output_type": "stream",
     "text": [
      "\n",
      "     Epoch   gpu_mem       box       obj       cls    labels  img_size\n",
      "\n",
      "YOLO+BCC\n",
      "     19/49       14G         0 4.295e-05         0       323       640:  86%|████████▌ | 54/63 [03:50<00:38,  4.27s/it]\n"
     ]
    },
    {
     "ename": "RuntimeError",
     "evalue": "CUDA error: device-side assert triggered\nCUDA kernel errors might be asynchronously reported at some other API call,so the stacktrace below might be incorrect.\nFor debugging consider passing CUDA_LAUNCH_BLOCKING=1.",
     "output_type": "error",
     "traceback": [
      "\u001b[1;31m---------------------------------------------------------------------------\u001b[0m",
      "\u001b[1;31mRuntimeError\u001b[0m                              Traceback (most recent call last)",
      "\u001b[1;32m~\\OneDrive - University of Surrey\\Documents\\GitHub\\miccai\\miccai_dental_disease\\src\\train.py\u001b[0m in \u001b[0;36m<module>\u001b[1;34m\u001b[0m\n\u001b[0;32m    750\u001b[0m \u001b[1;32mif\u001b[0m \u001b[0m__name__\u001b[0m \u001b[1;33m==\u001b[0m \u001b[1;34m\"__main__\"\u001b[0m\u001b[1;33m:\u001b[0m\u001b[1;33m\u001b[0m\u001b[1;33m\u001b[0m\u001b[0m\n\u001b[0;32m    751\u001b[0m     \u001b[0mopt\u001b[0m \u001b[1;33m=\u001b[0m \u001b[0mparse_opt\u001b[0m\u001b[1;33m(\u001b[0m\u001b[1;33m)\u001b[0m\u001b[1;33m\u001b[0m\u001b[1;33m\u001b[0m\u001b[0m\n\u001b[1;32m--> 752\u001b[1;33m     \u001b[0mmain\u001b[0m\u001b[1;33m(\u001b[0m\u001b[0mopt\u001b[0m\u001b[1;33m)\u001b[0m\u001b[1;33m\u001b[0m\u001b[1;33m\u001b[0m\u001b[0m\n\u001b[0m\u001b[0;32m    753\u001b[0m \u001b[1;31m#torch.cuda.empty_cache()\u001b[0m\u001b[1;33m\u001b[0m\u001b[1;33m\u001b[0m\u001b[0m\n\u001b[0;32m    754\u001b[0m \u001b[1;33m\u001b[0m\u001b[0m\n",
      "\u001b[1;32m~\\OneDrive - University of Surrey\\Documents\\GitHub\\miccai\\miccai_dental_disease\\src\\train.py\u001b[0m in \u001b[0;36mmain\u001b[1;34m(opt)\u001b[0m\n\u001b[0;32m    648\u001b[0m     \u001b[1;31m# Train\u001b[0m\u001b[1;33m\u001b[0m\u001b[1;33m\u001b[0m\u001b[0m\n\u001b[0;32m    649\u001b[0m     \u001b[1;32mif\u001b[0m \u001b[1;32mnot\u001b[0m \u001b[0mopt\u001b[0m\u001b[1;33m.\u001b[0m\u001b[0mevolve\u001b[0m\u001b[1;33m:\u001b[0m\u001b[1;33m\u001b[0m\u001b[1;33m\u001b[0m\u001b[0m\n\u001b[1;32m--> 650\u001b[1;33m         \u001b[0mtrain\u001b[0m\u001b[1;33m(\u001b[0m\u001b[0mopt\u001b[0m\u001b[1;33m.\u001b[0m\u001b[0mhyp\u001b[0m\u001b[1;33m,\u001b[0m \u001b[0mopt\u001b[0m\u001b[1;33m,\u001b[0m \u001b[0mdevice\u001b[0m\u001b[1;33m)\u001b[0m\u001b[1;33m\u001b[0m\u001b[1;33m\u001b[0m\u001b[0m\n\u001b[0m\u001b[0;32m    651\u001b[0m         \u001b[1;32mif\u001b[0m \u001b[0mWORLD_SIZE\u001b[0m \u001b[1;33m>\u001b[0m \u001b[1;36m1\u001b[0m \u001b[1;32mand\u001b[0m \u001b[0mRANK\u001b[0m \u001b[1;33m==\u001b[0m \u001b[1;36m0\u001b[0m\u001b[1;33m:\u001b[0m\u001b[1;33m\u001b[0m\u001b[1;33m\u001b[0m\u001b[0m\n\u001b[0;32m    652\u001b[0m             \u001b[0m_\u001b[0m \u001b[1;33m=\u001b[0m \u001b[1;33m[\u001b[0m\u001b[0mprint\u001b[0m\u001b[1;33m(\u001b[0m\u001b[1;34m'Destroying process group... '\u001b[0m\u001b[1;33m,\u001b[0m \u001b[0mend\u001b[0m\u001b[1;33m=\u001b[0m\u001b[1;34m''\u001b[0m\u001b[1;33m)\u001b[0m\u001b[1;33m,\u001b[0m \u001b[0mdist\u001b[0m\u001b[1;33m.\u001b[0m\u001b[0mdestroy_process_group\u001b[0m\u001b[1;33m(\u001b[0m\u001b[1;33m)\u001b[0m\u001b[1;33m,\u001b[0m \u001b[0mprint\u001b[0m\u001b[1;33m(\u001b[0m\u001b[1;34m'Done.'\u001b[0m\u001b[1;33m)\u001b[0m\u001b[1;33m]\u001b[0m\u001b[1;33m\u001b[0m\u001b[1;33m\u001b[0m\u001b[0m\n",
      "\u001b[1;32m~\\OneDrive - University of Surrey\\Documents\\GitHub\\miccai\\miccai_dental_disease\\src\\train.py\u001b[0m in \u001b[0;36mtrain\u001b[1;34m(hyp, opt, device, callbacks)\u001b[0m\n\u001b[0;32m    403\u001b[0m                         \u001b[1;31m# batch_qtargets_yolo = filter_qt(batch_qtargets_yolo, qt_thres_mode, qt_thres, batch_qtargets, batch_conf, torchMode = torchMode, device=device).half().float()\u001b[0m\u001b[1;33m\u001b[0m\u001b[1;33m\u001b[0m\u001b[0m\n\u001b[0;32m    404\u001b[0m                     \u001b[0mmodel\u001b[0m\u001b[1;33m.\u001b[0m\u001b[0mtrain\u001b[0m\u001b[1;33m(\u001b[0m\u001b[1;33m)\u001b[0m\u001b[1;33m\u001b[0m\u001b[1;33m\u001b[0m\u001b[0m\n\u001b[1;32m--> 405\u001b[1;33m                     \u001b[0mloss\u001b[0m\u001b[1;33m,\u001b[0m \u001b[0mloss_items\u001b[0m \u001b[1;33m=\u001b[0m \u001b[0mcompute_loss\u001b[0m\u001b[1;33m(\u001b[0m\u001b[0mpred\u001b[0m\u001b[1;33m,\u001b[0m \u001b[0mbatch_qtargets_yolo\u001b[0m\u001b[1;33m)\u001b[0m\u001b[1;33m\u001b[0m\u001b[1;33m\u001b[0m\u001b[0m\n\u001b[0m\u001b[0;32m    406\u001b[0m                 \u001b[1;32melse\u001b[0m\u001b[1;33m:\u001b[0m\u001b[1;33m\u001b[0m\u001b[1;33m\u001b[0m\u001b[0m\n\u001b[0;32m    407\u001b[0m                     \u001b[1;31m# # # # # Just for the sake of seeing the output\u001b[0m\u001b[1;33m\u001b[0m\u001b[1;33m\u001b[0m\u001b[0m\n",
      "\u001b[1;32m~\\OneDrive - University of Surrey\\Documents\\GitHub\\miccai\\miccai_dental_disease\\src\\utils\\loss.py\u001b[0m in \u001b[0;36m__call__\u001b[1;34m(self, p, targets)\u001b[0m\n\u001b[0;32m    147\u001b[0m                 \u001b[1;32mif\u001b[0m \u001b[0mself\u001b[0m\u001b[1;33m.\u001b[0m\u001b[0mnc\u001b[0m \u001b[1;33m>\u001b[0m \u001b[1;36m1\u001b[0m\u001b[1;33m:\u001b[0m  \u001b[1;31m# cls loss (only if multiple classes)\u001b[0m\u001b[1;33m\u001b[0m\u001b[1;33m\u001b[0m\u001b[0m\n\u001b[0;32m    148\u001b[0m                     \u001b[0mt\u001b[0m \u001b[1;33m=\u001b[0m \u001b[0mtorch\u001b[0m\u001b[1;33m.\u001b[0m\u001b[0mfull_like\u001b[0m\u001b[1;33m(\u001b[0m\u001b[0mps\u001b[0m\u001b[1;33m[\u001b[0m\u001b[1;33m:\u001b[0m\u001b[1;33m,\u001b[0m \u001b[1;36m5\u001b[0m\u001b[1;33m:\u001b[0m\u001b[1;33m]\u001b[0m\u001b[1;33m,\u001b[0m \u001b[0mself\u001b[0m\u001b[1;33m.\u001b[0m\u001b[0mcn\u001b[0m\u001b[1;33m,\u001b[0m \u001b[0mdevice\u001b[0m\u001b[1;33m=\u001b[0m\u001b[0mdevice\u001b[0m\u001b[1;33m)\u001b[0m  \u001b[1;31m# targets\u001b[0m\u001b[1;33m\u001b[0m\u001b[1;33m\u001b[0m\u001b[0m\n\u001b[1;32m--> 149\u001b[1;33m                     \u001b[0mt\u001b[0m\u001b[1;33m[\u001b[0m\u001b[0mrange\u001b[0m\u001b[1;33m(\u001b[0m\u001b[0mn\u001b[0m\u001b[1;33m)\u001b[0m\u001b[1;33m,\u001b[0m \u001b[0mtcls\u001b[0m\u001b[1;33m[\u001b[0m\u001b[0mi\u001b[0m\u001b[1;33m]\u001b[0m\u001b[1;33m]\u001b[0m \u001b[1;33m=\u001b[0m \u001b[0mself\u001b[0m\u001b[1;33m.\u001b[0m\u001b[0mcp\u001b[0m\u001b[1;33m\u001b[0m\u001b[1;33m\u001b[0m\u001b[0m\n\u001b[0m\u001b[0;32m    150\u001b[0m                     \u001b[0mlcls\u001b[0m \u001b[1;33m+=\u001b[0m \u001b[0mself\u001b[0m\u001b[1;33m.\u001b[0m\u001b[0mBCEcls\u001b[0m\u001b[1;33m(\u001b[0m\u001b[0mps\u001b[0m\u001b[1;33m[\u001b[0m\u001b[1;33m:\u001b[0m\u001b[1;33m,\u001b[0m \u001b[1;36m5\u001b[0m\u001b[1;33m:\u001b[0m\u001b[1;33m]\u001b[0m\u001b[1;33m,\u001b[0m \u001b[0mt\u001b[0m\u001b[1;33m)\u001b[0m  \u001b[1;31m# BCE\u001b[0m\u001b[1;33m\u001b[0m\u001b[1;33m\u001b[0m\u001b[0m\n\u001b[0;32m    151\u001b[0m \u001b[1;33m\u001b[0m\u001b[0m\n",
      "\u001b[1;31mRuntimeError\u001b[0m: CUDA error: device-side assert triggered\nCUDA kernel errors might be asynchronously reported at some other API call,so the stacktrace below might be incorrect.\nFor debugging consider passing CUDA_LAUNCH_BLOCKING=1."
     ]
    }
   ],
   "source": [
    "import os\n",
    "os.environ['KMP_DUPLICATE_LIB_OK']='True'\n",
    "%run -i ../src/train.py --data ../data/All_Volunteers_Calc_Removed_Crowdsourced_IID_Val.yaml --batch-size 25 --epochs 50 --bcc_epoch 0 --device 0 --name ex1_Zoon_with_Calc\n",
    "#--batch-size 100"
   ]
  },
  {
   "cell_type": "code",
   "execution_count": 1,
   "metadata": {},
   "outputs": [
    {
     "name": "stderr",
     "output_type": "stream",
     "text": [
      "YOLOv5  2022-2-8 torch 1.10.1+cu113 CUDA:0 (NVIDIA GeForce RTX 3090, 24575.5MB)\n",
      "\n",
      "\u001b[34m\u001b[1mhyperparameters: \u001b[0mlr0=0.01, lrf=0.2, momentum=0.937, weight_decay=0.0005, warmup_epochs=3.0, warmup_momentum=0.8, warmup_bias_lr=0.1, box=0.05, obj=1.0, cls=0.5, cls_pw=1.0, obj_pw=1.0, iou_t=0.2, anchor_t=4.0, fl_gamma=0, hsv_h=0.015, hsv_s=0.7, hsv_v=0.4, degrees=0.0, translate=0.1, scale=0.5, shear=0.0, perspective=0.0, flipud=0.0, fliplr=0.5, mosaic=1.0, mixup=0.0, copy_paste=0.0\n",
      "\u001b[34m\u001b[1mTensorBoard: \u001b[0mStart with 'tensorboard --logdir runs\\train', view at http://localhost:6006/\n"
     ]
    },
    {
     "name": "stdout",
     "output_type": "stream",
     "text": [
      "\u001b[34m\u001b[1mtrain: \u001b[0mbcc_epoch=0, confusion_matrix_diagonal_prior_hyp=0.1, convergence_threshold_hyp=1e-06, qtfilter_epoch=-1, qt_thres_mode=, qt_thres=0.0, hybrid_entropy_thres=0.0, hybrid_conf_thres=0.0, weights=yolov5s.pt, cfg=, data=../data/All_Volunteers_Calc_Removed_Crowdsourced.yaml, hyp=../data/hyps/hyp.scratch.yaml, epochs=10, batch_size=25, imgsz=640, rect=False, resume=False, nosave=False, noval=False, noautoanchor=False, evolve=None, bucket=, cache=None, image_weights=False, device=0, multi_scale=False, single_cls=False, adam=False, sync_bn=False, workers=8, project=runs/train, entity=None, name=ex1_Zoon_without_Calc_10epo_Test_Val_CS, exist_ok=False, quad=False, linear_lr=False, label_smoothing=0.0, upload_dataset=False, bbox_interval=-1, save_period=-1, artifact_alias=latest, local_rank=-1, freeze=0, patience=1100\n",
      "\u001b[34m\u001b[1mgithub: \u001b[0mskipping check (not a git repository), for updates see https://github.com/ultralytics/yolov5\n",
      "device:  cuda:0\n"
     ]
    },
    {
     "name": "stderr",
     "output_type": "stream",
     "text": [
      "Failed to detect the name of this notebook, you can set it manually with the WANDB_NOTEBOOK_NAME environment variable to enable code saving.\n",
      "\u001b[34m\u001b[1mwandb\u001b[0m: Currently logged in as: \u001b[33mdddetection\u001b[0m (use `wandb login --relogin` to force relogin)\n"
     ]
    },
    {
     "data": {
      "text/html": [
       "\n",
       "                    Syncing run <strong><a href=\"https://wandb.ai/dddetection/YOLOv5/runs/vnf50tb6\" target=\"_blank\">ex1_Zoon_without_Calc_10epo_Test_Val_CS</a></strong> to <a href=\"https://wandb.ai/dddetection/YOLOv5\" target=\"_blank\">Weights & Biases</a> (<a href=\"https://docs.wandb.com/integrations/jupyter.html\" target=\"_blank\">docs</a>).<br/>\n",
       "\n",
       "                "
      ],
      "text/plain": [
       "<IPython.core.display.HTML object>"
      ]
     },
     "metadata": {},
     "output_type": "display_data"
    },
    {
     "name": "stderr",
     "output_type": "stream",
     "text": [
      "Overriding model.yaml nc=80 with nc=2\n",
      "\n",
      "                 from  n    params  module                                  arguments                     \n",
      "  0                -1  1      3520  models.common.Conv                      [3, 32, 6, 2, 2]              \n",
      "  1                -1  1     18560  models.common.Conv                      [32, 64, 3, 2]                \n",
      "  2                -1  1     18816  models.common.C3                        [64, 64, 1]                   \n",
      "  3                -1  1     73984  models.common.Conv                      [64, 128, 3, 2]               \n",
      "  4                -1  2    115712  models.common.C3                        [128, 128, 2]                 \n",
      "  5                -1  1    295424  models.common.Conv                      [128, 256, 3, 2]              \n",
      "  6                -1  3    625152  models.common.C3                        [256, 256, 3]                 \n",
      "  7                -1  1   1180672  models.common.Conv                      [256, 512, 3, 2]              \n",
      "  8                -1  1   1182720  models.common.C3                        [512, 512, 1]                 \n",
      "  9                -1  1    656896  models.common.SPPF                      [512, 512, 5]                 \n",
      " 10                -1  1    131584  models.common.Conv                      [512, 256, 1, 1]              \n",
      " 11                -1  1         0  torch.nn.modules.upsampling.Upsample    [None, 2, 'nearest']          \n",
      " 12           [-1, 6]  1         0  models.common.Concat                    [1]                           \n",
      " 13                -1  1    361984  models.common.C3                        [512, 256, 1, False]          \n",
      " 14                -1  1     33024  models.common.Conv                      [256, 128, 1, 1]              \n",
      " 15                -1  1         0  torch.nn.modules.upsampling.Upsample    [None, 2, 'nearest']          \n",
      " 16           [-1, 4]  1         0  models.common.Concat                    [1]                           \n",
      " 17                -1  1     90880  models.common.C3                        [256, 128, 1, False]          \n",
      " 18                -1  1    147712  models.common.Conv                      [128, 128, 3, 2]              \n",
      " 19          [-1, 14]  1         0  models.common.Concat                    [1]                           \n",
      " 20                -1  1    296448  models.common.C3                        [256, 256, 1, False]          \n",
      " 21                -1  1    590336  models.common.Conv                      [256, 256, 3, 2]              \n",
      " 22          [-1, 10]  1         0  models.common.Concat                    [1]                           \n",
      " 23                -1  1   1182720  models.common.C3                        [512, 512, 1, False]          \n",
      " 24      [17, 20, 23]  1     18879  models.yolo.Detect                      [2, [[10, 13, 16, 30, 33, 23], [30, 61, 62, 45, 59, 119], [116, 90, 156, 198, 373, 326]], [128, 256, 512]]\n",
      "C:\\Users\\rb01243\\Anaconda3\\lib\\site-packages\\torch\\functional.py:445: UserWarning: torch.meshgrid: in an upcoming release, it will be required to pass the indexing argument. (Triggered internally at  ..\\aten\\src\\ATen\\native\\TensorShape.cpp:2157.)\n",
      "  return _VF.meshgrid(tensors, **kwargs)  # type: ignore[attr-defined]\n",
      "Model Summary: 270 layers, 7025023 parameters, 7025023 gradients, 15.9 GFLOPs\n",
      "\n",
      "Transferred 344/350 items from yolov5s.pt\n",
      "Scaled weight_decay = 0.0005859375\n",
      "\u001b[34m\u001b[1moptimizer:\u001b[0m SGD with parameter groups 57 weight, 60 weight (no decay), 60 bias\n"
     ]
    },
    {
     "name": "stdout",
     "output_type": "stream",
     "text": [
      "Augmentation is:  False\n"
     ]
    },
    {
     "name": "stderr",
     "output_type": "stream",
     "text": [
      "\u001b[34m\u001b[1mtrain: \u001b[0mScanning '..\\data\\datasets\\All_Volunteers_Calc_Removed_Crowdsourced\\labels\\train.cache' images and labels... 1552 found, 0 missing, 0 empty, 1 corrupted: 100%|██████████| 1552/1552 [00:00<?, ?it/s]\n",
      "\u001b[34m\u001b[1mtrain: \u001b[0mWARNING: Ignoring corrupted image and/or label ..\\data\\datasets\\All_Volunteers_Calc_Removed_Crowdsourced\\images\\train\\Unknown-X-20200130-084742-XLGSYPPPTEXC-0.JPG: non-normalized or out of bounds coordinate labels\n",
      "\u001b[34m\u001b[1mval: \u001b[0mScanning '..\\data\\datasets\\All_Volunteers_Calc_Removed_Crowdsourced\\labels\\val' images and labels...388 found, 0 missing, 0 empty, 0 corrupted: 100%|██████████| 388/388 [00:03<00:00, 102.68it/s]\n",
      "\u001b[34m\u001b[1mval: \u001b[0mNew cache created: ..\\data\\datasets\\All_Volunteers_Calc_Removed_Crowdsourced\\labels\\val.cache\n"
     ]
    },
    {
     "name": "stdout",
     "output_type": "stream",
     "text": [
      "Plotting labels... \n"
     ]
    },
    {
     "name": "stderr",
     "output_type": "stream",
     "text": [
      "Image sizes 640 train, 640 val\n",
      "Using 8 dataloader workers\n",
      "Logging results to \u001b[1mruns\\train\\ex1_Zoon_without_Calc_10epo_Test_Val_CS\u001b[0m\n",
      "Starting training for 10 epochs...\n",
      "\n",
      "     Epoch   gpu_mem       box       obj       cls    labels  img_size\n",
      "\n",
      "YOLO+BCC\n"
     ]
    },
    {
     "name": "stdout",
     "output_type": "stream",
     "text": [
      "\n",
      "\u001b[34m\u001b[1mautoanchor: \u001b[0mAnalyzing anchors... anchors/target = 5.37, Best Possible Recall (BPR) = 0.9986\n"
     ]
    },
    {
     "name": "stderr",
     "output_type": "stream",
     "text": [
      "       0/9     6.09G         0   0.01147         0         6       640: 100%|██████████| 63/63 [04:14<00:00,  4.05s/it]\n",
      "               Class     Images     Labels          P          R     mAP@.5 mAP@.5:.95: 100%|██████████| 8/8 [00:04<00:00,  1.92it/s]\n"
     ]
    },
    {
     "name": "stdout",
     "output_type": "stream",
     "text": [
      "                 all        388       4923    0.00333     0.0654    0.00171    0.00038\n"
     ]
    },
    {
     "name": "stderr",
     "output_type": "stream",
     "text": [
      "               Class     Images     Labels          P          R     mAP@.5 mAP@.5:.95: 100%|██████████| 63/63 [00:12<00:00,  4.91it/s]\n"
     ]
    },
    {
     "name": "stdout",
     "output_type": "stream",
     "text": [
      "                 all       1551      17030    0.00411     0.0424    0.00202   0.000402\n"
     ]
    },
    {
     "name": "stderr",
     "output_type": "stream",
     "text": [
      "\n",
      "     Epoch   gpu_mem       box       obj       cls    labels  img_size\n",
      "\n",
      "YOLO+BCC\n",
      "       1/9     6.35G         0  0.003863         0         6       640: 100%|██████████| 63/63 [04:11<00:00,  4.00s/it]\n",
      "               Class     Images     Labels          P          R     mAP@.5 mAP@.5:.95: 100%|██████████| 8/8 [00:03<00:00,  2.47it/s]\n"
     ]
    },
    {
     "name": "stdout",
     "output_type": "stream",
     "text": [
      "                 all        388       4923     0.0055     0.0434    0.00252    0.00053\n"
     ]
    },
    {
     "name": "stderr",
     "output_type": "stream",
     "text": [
      "               Class     Images     Labels          P          R     mAP@.5 mAP@.5:.95: 100%|██████████| 63/63 [00:09<00:00,  6.67it/s]\n"
     ]
    },
    {
     "name": "stdout",
     "output_type": "stream",
     "text": [
      "                 all       1551      17030    0.00519     0.0159    0.00208   0.000413\n"
     ]
    },
    {
     "name": "stderr",
     "output_type": "stream",
     "text": [
      "\n",
      "     Epoch   gpu_mem       box       obj       cls    labels  img_size\n",
      "\n",
      "YOLO+BCC\n",
      "       2/9     6.44G         0  0.002072         0         6       640: 100%|██████████| 63/63 [04:09<00:00,  3.96s/it]\n",
      "               Class     Images     Labels          P          R     mAP@.5 mAP@.5:.95: 100%|██████████| 8/8 [00:03<00:00,  2.46it/s]\n"
     ]
    },
    {
     "name": "stdout",
     "output_type": "stream",
     "text": [
      "                 all        388       4923    0.00514     0.0695    0.00291   0.000644\n"
     ]
    },
    {
     "name": "stderr",
     "output_type": "stream",
     "text": [
      "               Class     Images     Labels          P          R     mAP@.5 mAP@.5:.95: 100%|██████████| 63/63 [00:09<00:00,  6.98it/s]\n"
     ]
    },
    {
     "name": "stdout",
     "output_type": "stream",
     "text": [
      "                 all       1551      17030    0.00388     0.0899    0.00228   0.000472\n"
     ]
    },
    {
     "name": "stderr",
     "output_type": "stream",
     "text": [
      "\n",
      "     Epoch   gpu_mem       box       obj       cls    labels  img_size\n",
      "\n",
      "YOLO+BCC\n",
      "       3/9      6.4G         0  0.001325         0         6       640: 100%|██████████| 63/63 [04:09<00:00,  3.96s/it]\n",
      "               Class     Images     Labels          P          R     mAP@.5 mAP@.5:.95: 100%|██████████| 8/8 [00:02<00:00,  2.69it/s]\n"
     ]
    },
    {
     "name": "stdout",
     "output_type": "stream",
     "text": [
      "                 all        388       4923    0.00631     0.0233    0.00337   0.000714\n"
     ]
    },
    {
     "name": "stderr",
     "output_type": "stream",
     "text": [
      "               Class     Images     Labels          P          R     mAP@.5 mAP@.5:.95: 100%|██████████| 63/63 [00:08<00:00,  7.09it/s]\n"
     ]
    },
    {
     "name": "stdout",
     "output_type": "stream",
     "text": [
      "                 all       1551      17030    0.00587     0.0332    0.00305   0.000644\n"
     ]
    },
    {
     "name": "stderr",
     "output_type": "stream",
     "text": [
      "\n",
      "     Epoch   gpu_mem       box       obj       cls    labels  img_size\n",
      "\n",
      "YOLO+BCC\n",
      "       4/9     6.41G         0 0.0009398         0         6       640: 100%|██████████| 63/63 [04:10<00:00,  3.98s/it]\n",
      "               Class     Images     Labels          P          R     mAP@.5 mAP@.5:.95: 100%|██████████| 8/8 [00:03<00:00,  2.56it/s]\n"
     ]
    },
    {
     "name": "stdout",
     "output_type": "stream",
     "text": [
      "                 all        388       4923    0.00651    0.00811     0.0034   0.000643\n"
     ]
    },
    {
     "name": "stderr",
     "output_type": "stream",
     "text": [
      "               Class     Images     Labels          P          R     mAP@.5 mAP@.5:.95: 100%|██████████| 63/63 [00:08<00:00,  7.15it/s]\n"
     ]
    },
    {
     "name": "stdout",
     "output_type": "stream",
     "text": [
      "                 all       1551      17030    0.00706     0.0118    0.00359   0.000815\n"
     ]
    },
    {
     "name": "stderr",
     "output_type": "stream",
     "text": [
      "\n",
      "     Epoch   gpu_mem       box       obj       cls    labels  img_size\n",
      "\n",
      "YOLO+BCC\n",
      "       5/9     6.43G         0 0.0007257         0         6       640: 100%|██████████| 63/63 [04:09<00:00,  3.96s/it]\n",
      "               Class     Images     Labels          P          R     mAP@.5 mAP@.5:.95: 100%|██████████| 8/8 [00:02<00:00,  2.85it/s]\n"
     ]
    },
    {
     "name": "stdout",
     "output_type": "stream",
     "text": [
      "                 all        388       4923    0.00573    0.00303    0.00304   0.000653\n"
     ]
    },
    {
     "name": "stderr",
     "output_type": "stream",
     "text": [
      "               Class     Images     Labels          P          R     mAP@.5 mAP@.5:.95: 100%|██████████| 63/63 [00:08<00:00,  7.42it/s]\n"
     ]
    },
    {
     "name": "stdout",
     "output_type": "stream",
     "text": [
      "                 all       1551      17030    0.00888    0.00569    0.00451      0.001\n"
     ]
    },
    {
     "name": "stderr",
     "output_type": "stream",
     "text": [
      "\n",
      "     Epoch   gpu_mem       box       obj       cls    labels  img_size\n",
      "\n",
      "YOLO+BCC\n",
      "       6/9     6.48G         0 0.0005845         0         6       640: 100%|██████████| 63/63 [04:10<00:00,  3.97s/it]\n",
      "               Class     Images     Labels          P          R     mAP@.5 mAP@.5:.95: 100%|██████████| 8/8 [00:02<00:00,  2.84it/s]\n"
     ]
    },
    {
     "name": "stdout",
     "output_type": "stream",
     "text": [
      "                 all        388       4923    0.00314    0.00081    0.00182   0.000413\n"
     ]
    },
    {
     "name": "stderr",
     "output_type": "stream",
     "text": [
      "               Class     Images     Labels          P          R     mAP@.5 mAP@.5:.95: 100%|██████████| 63/63 [00:07<00:00,  8.14it/s]\n"
     ]
    },
    {
     "name": "stdout",
     "output_type": "stream",
     "text": [
      "                 all       1551      17030    0.00876    0.00252    0.00441    0.00111\n"
     ]
    },
    {
     "name": "stderr",
     "output_type": "stream",
     "text": [
      "\n",
      "     Epoch   gpu_mem       box       obj       cls    labels  img_size\n",
      "\n",
      "YOLO+BCC\n",
      "       7/9     6.49G         0 0.0004917         0         6       640: 100%|██████████| 63/63 [04:10<00:00,  3.98s/it]\n",
      "               Class     Images     Labels          P          R     mAP@.5 mAP@.5:.95: 100%|██████████| 8/8 [00:02<00:00,  3.09it/s]\n"
     ]
    },
    {
     "name": "stdout",
     "output_type": "stream",
     "text": [
      "                 all        388       4923    0.00722    0.00101      0.004   0.000717\n"
     ]
    },
    {
     "name": "stderr",
     "output_type": "stream",
     "text": [
      "               Class     Images     Labels          P          R     mAP@.5 mAP@.5:.95: 100%|██████████| 63/63 [00:07<00:00,  8.83it/s]\n"
     ]
    },
    {
     "name": "stdout",
     "output_type": "stream",
     "text": [
      "                 all       1551      17030    0.00666    0.00102    0.00334     0.0006\n"
     ]
    },
    {
     "name": "stderr",
     "output_type": "stream",
     "text": [
      "\n",
      "     Epoch   gpu_mem       box       obj       cls    labels  img_size\n",
      "\n",
      "YOLO+BCC\n",
      "       8/9     6.37G         0 0.0004284         0         6       640: 100%|██████████| 63/63 [04:10<00:00,  3.98s/it]\n",
      "               Class     Images     Labels          P          R     mAP@.5 mAP@.5:.95: 100%|██████████| 8/8 [00:02<00:00,  3.14it/s]\n"
     ]
    },
    {
     "name": "stdout",
     "output_type": "stream",
     "text": [
      "                 all        388       4923    0.00954    0.00081    0.00724    0.00101\n"
     ]
    },
    {
     "name": "stderr",
     "output_type": "stream",
     "text": [
      "               Class     Images     Labels          P          R     mAP@.5 mAP@.5:.95: 100%|██████████| 63/63 [00:07<00:00,  8.82it/s]\n"
     ]
    },
    {
     "name": "stdout",
     "output_type": "stream",
     "text": [
      "                 all       1551      17030     0.0092   0.000866    0.00463     0.0011\n"
     ]
    },
    {
     "name": "stderr",
     "output_type": "stream",
     "text": [
      "\n",
      "     Epoch   gpu_mem       box       obj       cls    labels  img_size\n",
      "\n",
      "YOLO+BCC\n",
      "       9/9     6.55G         0 0.0003825         0         6       640: 100%|██████████| 63/63 [04:10<00:00,  3.97s/it]\n",
      "               Class     Images     Labels          P          R     mAP@.5 mAP@.5:.95: 100%|██████████| 8/8 [00:04<00:00,  1.67it/s]\n"
     ]
    },
    {
     "name": "stdout",
     "output_type": "stream",
     "text": [
      "                 all        388       4923     0.0115   0.000605    0.00817    0.00123\n",
      "           bone-loss        388       2479     0.0229    0.00121     0.0163    0.00246\n",
      "       dental-caries        388       2444          0          0          0          0\n"
     ]
    },
    {
     "name": "stderr",
     "output_type": "stream",
     "text": [
      "               Class     Images     Labels          P          R     mAP@.5 mAP@.5:.95: 100%|██████████| 63/63 [00:09<00:00,  6.47it/s]\n"
     ]
    },
    {
     "name": "stdout",
     "output_type": "stream",
     "text": [
      "                 all       1551      17030     0.0046   0.000291    0.00231   0.000415\n",
      "           bone-loss       1551       7433     0.0059   0.000269    0.00296   0.000444\n",
      "       dental-caries       1551       9597    0.00331   0.000313    0.00165   0.000386\n"
     ]
    },
    {
     "name": "stderr",
     "output_type": "stream",
     "text": [
      "\n",
      "10 epochs completed in 0.734 hours.\n",
      "Fusing layers... \n",
      "Model Summary: 213 layers, 7015519 parameters, 0 gradients, 15.8 GFLOPs\n",
      "               Class     Images     Labels          P          R     mAP@.5 mAP@.5:.95: 100%|██████████| 8/8 [00:02<00:00,  3.19it/s]\n"
     ]
    },
    {
     "name": "stdout",
     "output_type": "stream",
     "text": [
      "                 all        388       4923     0.0109   0.000605    0.00789    0.00117\n",
      "\n",
      "Evaluating pycocotools mAP... saving runs\\train\\ex1_Zoon_without_Calc_10epo_Test_Val_CS\\_predictions.json...\n",
      "\u001b[31m\u001b[1mrequirements:\u001b[0m pycocotools not found and is required by YOLOv5, attempting auto-update...\n",
      "\u001b[31m\u001b[1mrequirements:\u001b[0m Command 'pip install 'pycocotools'' returned non-zero exit status 1.\n",
      "pycocotools unable to run: No module named 'pycocotools'\n"
     ]
    },
    {
     "name": "stderr",
     "output_type": "stream",
     "text": [
      "Fusing layers... \n",
      "Model Summary: 213 layers, 7015519 parameters, 0 gradients, 15.8 GFLOPs\n",
      "               Class     Images     Labels          P          R     mAP@.5 mAP@.5:.95: 100%|██████████| 8/8 [00:01<00:00,  7.05it/s]\n"
     ]
    },
    {
     "name": "stdout",
     "output_type": "stream",
     "text": [
      "                 all        388       4923     0.0109   0.000605    0.00789    0.00117\n",
      "\n",
      "Evaluating pycocotools mAP... saving runs\\train\\ex1_Zoon_without_Calc_10epo_Test_Val_CS\\_predictions.json...\n",
      "\u001b[31m\u001b[1mrequirements:\u001b[0m pycocotools not found and is required by YOLOv5, attempting auto-update...\n",
      "\u001b[31m\u001b[1mrequirements:\u001b[0m Command 'pip install 'pycocotools'' returned non-zero exit status 1.\n",
      "pycocotools unable to run: No module named 'pycocotools'\n",
      "Optimizer stripped from runs\\train\\ex1_Zoon_without_Calc_10epo_Test_Val_CS\\weights\\last.pt, 14.3MB\n",
      "Optimizer stripped from runs\\train\\ex1_Zoon_without_Calc_10epo_Test_Val_CS\\weights\\best.pt, 14.3MB\n"
     ]
    },
    {
     "data": {
      "text/html": [
       "<br/>Waiting for W&B process to finish, PID 1664... <strong style=\"color:green\">(success).</strong>"
      ],
      "text/plain": [
       "<IPython.core.display.HTML object>"
      ]
     },
     "metadata": {},
     "output_type": "display_data"
    },
    {
     "data": {
      "application/vnd.jupyter.widget-view+json": {
       "model_id": "",
       "version_major": 2,
       "version_minor": 0
      },
      "text/plain": [
       "VBox(children=(Label(value=' 51.83MB of 52.13MB uploaded (0.00MB deduped)\\r'), FloatProgress(value=0.994331073…"
      ]
     },
     "metadata": {},
     "output_type": "display_data"
    },
    {
     "data": {
      "text/html": [
       "<style>\n",
       "    table.wandb td:nth-child(1) { padding: 0 10px; text-align: right }\n",
       "    .wandb-row { display: flex; flex-direction: row; flex-wrap: wrap; width: 100% }\n",
       "    .wandb-col { display: flex; flex-direction: column; flex-basis: 100%; flex: 1; padding: 10px; }\n",
       "    </style>\n",
       "<div class=\"wandb-row\"><div class=\"wandb-col\">\n",
       "<h3>Run history:</h3><br/><table class=\"wandb\"><tr><td>metrics/mAP_0.5</td><td>▁▂▂▃▃▂▁▃▇█</td></tr><tr><td>metrics/mAP_0.5:0.95</td><td>▁▂▃▄▃▃▁▄▆█</td></tr><tr><td>metrics/precision</td><td>▁▃▃▄▄▃▁▄▆█</td></tr><tr><td>metrics/recall</td><td>█▅█▃▂▁▁▁▁▁</td></tr><tr><td>train/box_loss</td><td>▁▁▁▁▁▁▁▁▁▁</td></tr><tr><td>train/cls_loss</td><td>▁▁▁▁▁▁▁▁▁▁</td></tr><tr><td>train/obj_loss</td><td>█▃▂▂▁▁▁▁▁▁</td></tr><tr><td>val/box_loss</td><td>▁▇████▇█▇▇</td></tr><tr><td>val/cls_loss</td><td>▁▄█▅▅▆▆█▇▆</td></tr><tr><td>val/obj_loss</td><td>▁▁▃▄▅▆▇▇██</td></tr><tr><td>x/lr0</td><td>▁▄▆▇██▇▆▅▄</td></tr><tr><td>x/lr1</td><td>▁▄▆▇██▇▆▅▄</td></tr><tr><td>x/lr2</td><td>█▇▇▆▅▄▃▃▂▁</td></tr></table><br/></div><div class=\"wandb-col\">\n",
       "<h3>Run summary:</h3><br/><table class=\"wandb\"><tr><td>metrics/mAP_0.5</td><td>0.00817</td></tr><tr><td>metrics/mAP_0.5:0.95</td><td>0.00123</td></tr><tr><td>metrics/precision</td><td>0.01145</td></tr><tr><td>metrics/recall</td><td>0.00061</td></tr><tr><td>train/box_loss</td><td>0.0</td></tr><tr><td>train/cls_loss</td><td>0.0</td></tr><tr><td>train/obj_loss</td><td>0.00038</td></tr><tr><td>val/box_loss</td><td>0.12315</td></tr><tr><td>val/cls_loss</td><td>0.02947</td></tr><tr><td>val/obj_loss</td><td>0.08325</td></tr><tr><td>x/lr0</td><td>0.00138</td></tr><tr><td>x/lr1</td><td>0.00138</td></tr><tr><td>x/lr2</td><td>0.03848</td></tr></table>\n",
       "</div></div>\n",
       "Synced 6 W&B file(s), 336 media file(s), 1 artifact file(s) and 0 other file(s)\n",
       "<br/>Synced <strong style=\"color:#cdcd00\">ex1_Zoon_without_Calc_10epo_Test_Val_CS</strong>: <a href=\"https://wandb.ai/dddetection/YOLOv5/runs/vnf50tb6\" target=\"_blank\">https://wandb.ai/dddetection/YOLOv5/runs/vnf50tb6</a><br/>\n",
       "Find logs at: <code>.\\wandb\\run-20220211_142423-vnf50tb6\\logs</code><br/>\n"
      ],
      "text/plain": [
       "<IPython.core.display.HTML object>"
      ]
     },
     "metadata": {},
     "output_type": "display_data"
    },
    {
     "name": "stderr",
     "output_type": "stream",
     "text": [
      "Results saved to \u001b[1mruns\\train\\ex1_Zoon_without_Calc_10epo_Test_Val_CS\u001b[0m\n"
     ]
    }
   ],
   "source": [
    "import os\n",
    "os.environ['KMP_DUPLICATE_LIB_OK']='True'\n",
    "%run -i ../src/train.py --data ../data/All_Volunteers_Calc_Removed_Crowdsourced.yaml --batch-size 25 --epochs 10 --bcc_epoch 0 --device 0 --name ex1_Zoon_without_Calc_10epo\n",
    "#--batch-size 100"
   ]
  },
  {
   "cell_type": "markdown",
   "metadata": {},
   "source": [
    "## 1.1  CSall (Dataset 1)"
   ]
  },
  {
   "cell_type": "code",
   "execution_count": 1,
   "metadata": {},
   "outputs": [
    {
     "name": "stderr",
     "output_type": "stream",
     "text": [
      "YOLOv5  2022-2-8 torch 1.10.1+cu113 CUDA:0 (NVIDIA GeForce RTX 3090, 24575.5MB)\n",
      "\n",
      "\u001b[34m\u001b[1mhyperparameters: \u001b[0mlr0=0.01, lrf=0.2, momentum=0.937, weight_decay=0.0005, warmup_epochs=3.0, warmup_momentum=0.8, warmup_bias_lr=0.1, box=0.05, obj=1.0, cls=0.5, cls_pw=1.0, obj_pw=1.0, iou_t=0.2, anchor_t=4.0, fl_gamma=0, hsv_h=0.015, hsv_s=0.7, hsv_v=0.4, degrees=0.0, translate=0.1, scale=0.5, shear=0.0, perspective=0.0, flipud=0.0, fliplr=0.5, mosaic=1.0, mixup=0.0, copy_paste=0.0\n",
      "\u001b[34m\u001b[1mTensorBoard: \u001b[0mStart with 'tensorboard --logdir runs\\train', view at http://localhost:6006/\n"
     ]
    },
    {
     "name": "stdout",
     "output_type": "stream",
     "text": [
      "\u001b[34m\u001b[1mtrain: \u001b[0mbcc_epoch=0, confusion_matrix_diagonal_prior_hyp=0.1, convergence_threshold_hyp=1e-06, qtfilter_epoch=-1, qt_thres_mode=, qt_thres=0.0, hybrid_entropy_thres=0.0, hybrid_conf_thres=0.0, weights=yolov5s.pt, cfg=, data=../data/All_Volunteers_Crowdsourced.yaml, hyp=../data/hyps/hyp.scratch.yaml, epochs=10, batch_size=20, imgsz=640, rect=False, resume=False, nosave=False, noval=False, noautoanchor=False, evolve=None, bucket=, cache=None, image_weights=False, device=0, multi_scale=False, single_cls=False, adam=False, sync_bn=False, workers=8, project=runs/train, entity=None, name=LargeDS_cyolo, exist_ok=False, quad=False, linear_lr=False, label_smoothing=0.0, upload_dataset=False, bbox_interval=-1, save_period=-1, artifact_alias=latest, local_rank=-1, freeze=0, patience=1100\n",
      "\u001b[34m\u001b[1mgithub: \u001b[0mskipping check (not a git repository), for updates see https://github.com/ultralytics/yolov5\n",
      "device:  cuda:0\n"
     ]
    },
    {
     "name": "stderr",
     "output_type": "stream",
     "text": [
      "Failed to detect the name of this notebook, you can set it manually with the WANDB_NOTEBOOK_NAME environment variable to enable code saving.\n",
      "\u001b[34m\u001b[1mwandb\u001b[0m: Currently logged in as: \u001b[33mdddetection\u001b[0m (use `wandb login --relogin` to force relogin)\n"
     ]
    },
    {
     "data": {
      "text/html": [
       "\n",
       "                    Syncing run <strong><a href=\"https://wandb.ai/dddetection/YOLOv5/runs/38vjmbgk\" target=\"_blank\">LargeDS_cyolo</a></strong> to <a href=\"https://wandb.ai/dddetection/YOLOv5\" target=\"_blank\">Weights & Biases</a> (<a href=\"https://docs.wandb.com/integrations/jupyter.html\" target=\"_blank\">docs</a>).<br/>\n",
       "\n",
       "                "
      ],
      "text/plain": [
       "<IPython.core.display.HTML object>"
      ]
     },
     "metadata": {},
     "output_type": "display_data"
    },
    {
     "name": "stderr",
     "output_type": "stream",
     "text": [
      "Overriding model.yaml nc=80 with nc=3\n",
      "\n",
      "                 from  n    params  module                                  arguments                     \n",
      "  0                -1  1      3520  models.common.Conv                      [3, 32, 6, 2, 2]              \n",
      "  1                -1  1     18560  models.common.Conv                      [32, 64, 3, 2]                \n",
      "  2                -1  1     18816  models.common.C3                        [64, 64, 1]                   \n",
      "  3                -1  1     73984  models.common.Conv                      [64, 128, 3, 2]               \n",
      "  4                -1  2    115712  models.common.C3                        [128, 128, 2]                 \n",
      "  5                -1  1    295424  models.common.Conv                      [128, 256, 3, 2]              \n",
      "  6                -1  3    625152  models.common.C3                        [256, 256, 3]                 \n",
      "  7                -1  1   1180672  models.common.Conv                      [256, 512, 3, 2]              \n",
      "  8                -1  1   1182720  models.common.C3                        [512, 512, 1]                 \n",
      "  9                -1  1    656896  models.common.SPPF                      [512, 512, 5]                 \n",
      " 10                -1  1    131584  models.common.Conv                      [512, 256, 1, 1]              \n",
      " 11                -1  1         0  torch.nn.modules.upsampling.Upsample    [None, 2, 'nearest']          \n",
      " 12           [-1, 6]  1         0  models.common.Concat                    [1]                           \n",
      " 13                -1  1    361984  models.common.C3                        [512, 256, 1, False]          \n",
      " 14                -1  1     33024  models.common.Conv                      [256, 128, 1, 1]              \n",
      " 15                -1  1         0  torch.nn.modules.upsampling.Upsample    [None, 2, 'nearest']          \n",
      " 16           [-1, 4]  1         0  models.common.Concat                    [1]                           \n",
      " 17                -1  1     90880  models.common.C3                        [256, 128, 1, False]          \n",
      " 18                -1  1    147712  models.common.Conv                      [128, 128, 3, 2]              \n",
      " 19          [-1, 14]  1         0  models.common.Concat                    [1]                           \n",
      " 20                -1  1    296448  models.common.C3                        [256, 256, 1, False]          \n",
      " 21                -1  1    590336  models.common.Conv                      [256, 256, 3, 2]              \n",
      " 22          [-1, 10]  1         0  models.common.Concat                    [1]                           \n",
      " 23                -1  1   1182720  models.common.C3                        [512, 512, 1, False]          \n",
      " 24      [17, 20, 23]  1     21576  models.yolo.Detect                      [3, [[10, 13, 16, 30, 33, 23], [30, 61, 62, 45, 59, 119], [116, 90, 156, 198, 373, 326]], [128, 256, 512]]\n",
      "C:\\Users\\rb01243\\Anaconda3\\lib\\site-packages\\torch\\functional.py:445: UserWarning: torch.meshgrid: in an upcoming release, it will be required to pass the indexing argument. (Triggered internally at  ..\\aten\\src\\ATen\\native\\TensorShape.cpp:2157.)\n",
      "  return _VF.meshgrid(tensors, **kwargs)  # type: ignore[attr-defined]\n",
      "Model Summary: 270 layers, 7027720 parameters, 7027720 gradients, 15.9 GFLOPs\n",
      "\n",
      "Transferred 344/350 items from yolov5s.pt\n",
      "Scaled weight_decay = 0.00046875\n",
      "\u001b[34m\u001b[1moptimizer:\u001b[0m SGD with parameter groups 57 weight, 60 weight (no decay), 60 bias\n",
      "\u001b[34m\u001b[1mtrain: \u001b[0mScanning '..\\data\\datasets\\All_Volunteers_Crowdsourced\\labels\\train.cache' images and labels... 1751 found, 0 missing, 0 empty, 1 corrupted: 100%|██████████| 1751/1751 [00:00<?, ?it/s]\n",
      "\u001b[34m\u001b[1mtrain: \u001b[0mWARNING: Ignoring corrupted image and/or label ..\\data\\datasets\\All_Volunteers_Crowdsourced\\images\\train\\Unknown-X-20200130-084742-XLGSYPPPTEXC-0.JPG: non-normalized or out of bounds coordinate labels\n",
      "\u001b[34m\u001b[1mval: \u001b[0mScanning '..\\data\\datasets\\All_Volunteers_IID\\labels\\val.cache' images and labels... 947 found, 0 missing, 0 empty, 1 corrupted: 100%|██████████| 947/947 [00:00<?, ?it/s]\n",
      "\u001b[34m\u001b[1mval: \u001b[0mWARNING: Ignoring corrupted image and/or label ..\\data\\datasets\\All_Volunteers_IID\\images\\val\\IX20191022_101649_0368_00003706.1a309d95dd140892a121.JPG: non-normalized or out of bounds coordinate labels\n"
     ]
    },
    {
     "name": "stdout",
     "output_type": "stream",
     "text": [
      "Plotting labels... \n"
     ]
    },
    {
     "name": "stderr",
     "output_type": "stream",
     "text": [
      "Image sizes 640 train, 640 val\n",
      "Using 8 dataloader workers\n",
      "Logging results to \u001b[1mruns\\train\\LargeDS_cyolo4\u001b[0m\n",
      "Starting training for 10 epochs...\n",
      "\n",
      "     Epoch   gpu_mem       box       obj       cls    labels  img_size\n",
      "\n",
      "YOLO+BCC\n"
     ]
    },
    {
     "name": "stdout",
     "output_type": "stream",
     "text": [
      "\n",
      "\u001b[34m\u001b[1mautoanchor: \u001b[0mAnalyzing anchors... anchors/target = 5.18, Best Possible Recall (BPR) = 0.9986\n"
     ]
    },
    {
     "name": "stderr",
     "output_type": "stream",
     "text": [
      "       0/9     11.2G         0   0.01272         0       239       640:  72%|███████▏  | 63/88 [10:04<03:59,  9.59s/it]\n"
     ]
    },
    {
     "ename": "KeyboardInterrupt",
     "evalue": "",
     "output_type": "error",
     "traceback": [
      "\u001b[1;31m---------------------------------------------------------------------------\u001b[0m",
      "\u001b[1;31mKeyboardInterrupt\u001b[0m                         Traceback (most recent call last)",
      "\u001b[1;32m~\\OneDrive - University of Surrey\\Documents\\GitHub\\miccai\\miccai_dental_disease\\src\\train.py\u001b[0m in \u001b[0;36m<module>\u001b[1;34m\u001b[0m\n\u001b[0;32m    745\u001b[0m \u001b[1;32mif\u001b[0m \u001b[0m__name__\u001b[0m \u001b[1;33m==\u001b[0m \u001b[1;34m\"__main__\"\u001b[0m\u001b[1;33m:\u001b[0m\u001b[1;33m\u001b[0m\u001b[1;33m\u001b[0m\u001b[0m\n\u001b[0;32m    746\u001b[0m     \u001b[0mopt\u001b[0m \u001b[1;33m=\u001b[0m \u001b[0mparse_opt\u001b[0m\u001b[1;33m(\u001b[0m\u001b[1;33m)\u001b[0m\u001b[1;33m\u001b[0m\u001b[1;33m\u001b[0m\u001b[0m\n\u001b[1;32m--> 747\u001b[1;33m     \u001b[0mmain\u001b[0m\u001b[1;33m(\u001b[0m\u001b[0mopt\u001b[0m\u001b[1;33m)\u001b[0m\u001b[1;33m\u001b[0m\u001b[1;33m\u001b[0m\u001b[0m\n\u001b[0m\u001b[0;32m    748\u001b[0m \u001b[1;31m#torch.cuda.empty_cache()\u001b[0m\u001b[1;33m\u001b[0m\u001b[1;33m\u001b[0m\u001b[0m\n\u001b[0;32m    749\u001b[0m \u001b[1;33m\u001b[0m\u001b[0m\n",
      "\u001b[1;32m~\\OneDrive - University of Surrey\\Documents\\GitHub\\miccai\\miccai_dental_disease\\src\\train.py\u001b[0m in \u001b[0;36mmain\u001b[1;34m(opt)\u001b[0m\n\u001b[0;32m    643\u001b[0m     \u001b[1;31m# Train\u001b[0m\u001b[1;33m\u001b[0m\u001b[1;33m\u001b[0m\u001b[0m\n\u001b[0;32m    644\u001b[0m     \u001b[1;32mif\u001b[0m \u001b[1;32mnot\u001b[0m \u001b[0mopt\u001b[0m\u001b[1;33m.\u001b[0m\u001b[0mevolve\u001b[0m\u001b[1;33m:\u001b[0m\u001b[1;33m\u001b[0m\u001b[1;33m\u001b[0m\u001b[0m\n\u001b[1;32m--> 645\u001b[1;33m         \u001b[0mtrain\u001b[0m\u001b[1;33m(\u001b[0m\u001b[0mopt\u001b[0m\u001b[1;33m.\u001b[0m\u001b[0mhyp\u001b[0m\u001b[1;33m,\u001b[0m \u001b[0mopt\u001b[0m\u001b[1;33m,\u001b[0m \u001b[0mdevice\u001b[0m\u001b[1;33m)\u001b[0m\u001b[1;33m\u001b[0m\u001b[1;33m\u001b[0m\u001b[0m\n\u001b[0m\u001b[0;32m    646\u001b[0m         \u001b[1;32mif\u001b[0m \u001b[0mWORLD_SIZE\u001b[0m \u001b[1;33m>\u001b[0m \u001b[1;36m1\u001b[0m \u001b[1;32mand\u001b[0m \u001b[0mRANK\u001b[0m \u001b[1;33m==\u001b[0m \u001b[1;36m0\u001b[0m\u001b[1;33m:\u001b[0m\u001b[1;33m\u001b[0m\u001b[1;33m\u001b[0m\u001b[0m\n\u001b[0;32m    647\u001b[0m             \u001b[0m_\u001b[0m \u001b[1;33m=\u001b[0m \u001b[1;33m[\u001b[0m\u001b[0mprint\u001b[0m\u001b[1;33m(\u001b[0m\u001b[1;34m'Destroying process group... '\u001b[0m\u001b[1;33m,\u001b[0m \u001b[0mend\u001b[0m\u001b[1;33m=\u001b[0m\u001b[1;34m''\u001b[0m\u001b[1;33m)\u001b[0m\u001b[1;33m,\u001b[0m \u001b[0mdist\u001b[0m\u001b[1;33m.\u001b[0m\u001b[0mdestroy_process_group\u001b[0m\u001b[1;33m(\u001b[0m\u001b[1;33m)\u001b[0m\u001b[1;33m,\u001b[0m \u001b[0mprint\u001b[0m\u001b[1;33m(\u001b[0m\u001b[1;34m'Done.'\u001b[0m\u001b[1;33m)\u001b[0m\u001b[1;33m]\u001b[0m\u001b[1;33m\u001b[0m\u001b[1;33m\u001b[0m\u001b[0m\n",
      "\u001b[1;32m~\\OneDrive - University of Surrey\\Documents\\GitHub\\miccai\\miccai_dental_disease\\src\\train.py\u001b[0m in \u001b[0;36mtrain\u001b[1;34m(hyp, opt, device, callbacks)\u001b[0m\n\u001b[0;32m    338\u001b[0m                 \u001b[0mtarget_volunteers\u001b[0m \u001b[1;33m=\u001b[0m \u001b[0mtorch\u001b[0m\u001b[1;33m.\u001b[0m\u001b[0mcat\u001b[0m\u001b[1;33m(\u001b[0m\u001b[1;33m[\u001b[0m\u001b[0mtargets\u001b[0m\u001b[1;33m,\u001b[0m \u001b[0mbatch_volunteers\u001b[0m\u001b[1;33m.\u001b[0m\u001b[0munsqueeze\u001b[0m\u001b[1;33m(\u001b[0m\u001b[1;33m-\u001b[0m\u001b[1;36m1\u001b[0m\u001b[1;33m)\u001b[0m\u001b[1;33m]\u001b[0m\u001b[1;33m,\u001b[0m \u001b[0maxis\u001b[0m\u001b[1;33m=\u001b[0m\u001b[1;36m1\u001b[0m\u001b[1;33m)\u001b[0m\u001b[1;33m\u001b[0m\u001b[1;33m\u001b[0m\u001b[0m\n\u001b[0;32m    339\u001b[0m                 \u001b[0mbatch_size\u001b[0m \u001b[1;33m=\u001b[0m \u001b[0mnp\u001b[0m\u001b[1;33m.\u001b[0m\u001b[0mwhere\u001b[0m\u001b[1;33m(\u001b[0m\u001b[0mdataset\u001b[0m\u001b[1;33m.\u001b[0m\u001b[0mbatch\u001b[0m\u001b[1;33m==\u001b[0m\u001b[0mi\u001b[0m\u001b[1;33m)\u001b[0m\u001b[1;33m[\u001b[0m\u001b[1;36m0\u001b[0m\u001b[1;33m]\u001b[0m\u001b[1;33m.\u001b[0m\u001b[0mshape\u001b[0m\u001b[1;33m[\u001b[0m\u001b[1;36m0\u001b[0m\u001b[1;33m]\u001b[0m\u001b[1;33m\u001b[0m\u001b[1;33m\u001b[0m\u001b[0m\n\u001b[1;32m--> 340\u001b[1;33m                 \u001b[0mtarget_volunteers_bcc\u001b[0m\u001b[1;33m,\u001b[0m \u001b[0mvigcwh\u001b[0m \u001b[1;33m=\u001b[0m \u001b[0mconvert_target_volunteers_yolo2bcc\u001b[0m\u001b[1;33m(\u001b[0m\u001b[0mtarget_volunteers\u001b[0m\u001b[1;33m,\u001b[0m \u001b[0mn_anchor_choices\u001b[0m\u001b[1;33m,\u001b[0m \u001b[0mnc\u001b[0m\u001b[1;33m,\u001b[0m \u001b[0mgrid_ratios\u001b[0m\u001b[1;33m,\u001b[0m \u001b[0mbatch_size\u001b[0m\u001b[1;33m,\u001b[0m \u001b[0mvol_id_map\u001b[0m\u001b[1;33m)\u001b[0m\u001b[1;33m\u001b[0m\u001b[1;33m\u001b[0m\u001b[0m\n\u001b[0m\u001b[0;32m    341\u001b[0m                 \u001b[0mtarget_volunteers_bcc\u001b[0m \u001b[1;33m=\u001b[0m \u001b[0mtarget_volunteers_bcc\u001b[0m\u001b[1;33m.\u001b[0m\u001b[0mto\u001b[0m\u001b[1;33m(\u001b[0m\u001b[0mdevice\u001b[0m\u001b[1;33m)\u001b[0m\u001b[1;33m\u001b[0m\u001b[1;33m\u001b[0m\u001b[0m\n\u001b[0;32m    342\u001b[0m                 \u001b[1;31m# batch_cstargets_bcc = (cstargets_bcc[dataset.batch == i]).to(device)\u001b[0m\u001b[1;33m\u001b[0m\u001b[1;33m\u001b[0m\u001b[0m\n",
      "\u001b[1;32m~\\OneDrive - University of Surrey\\Documents\\GitHub\\miccai\\miccai_dental_disease\\src\\cyolo_utils\\train_with_bcc.py\u001b[0m in \u001b[0;36mconvert_target_volunteers_yolo2bcc\u001b[1;34m(target_volunteers, Na, Nc, G, batch_size, vol_id_map)\u001b[0m\n\u001b[0;32m    250\u001b[0m                 \u001b[0mc\u001b[0m\u001b[1;33m,\u001b[0m \u001b[0mx\u001b[0m\u001b[1;33m,\u001b[0m \u001b[0my\u001b[0m\u001b[1;33m,\u001b[0m \u001b[0mw\u001b[0m\u001b[1;33m,\u001b[0m \u001b[0mh\u001b[0m \u001b[1;33m=\u001b[0m \u001b[0mtargets_per_iv\u001b[0m\u001b[1;33m.\u001b[0m\u001b[0mT\u001b[0m \u001b[1;31m# w and h are ignored\u001b[0m\u001b[1;33m\u001b[0m\u001b[1;33m\u001b[0m\u001b[0m\n\u001b[0;32m    251\u001b[0m \u001b[1;33m\u001b[0m\u001b[0m\n\u001b[1;32m--> 252\u001b[1;33m                 \u001b[0mx_cell_ids\u001b[0m \u001b[1;33m=\u001b[0m \u001b[0mtorch\u001b[0m\u001b[1;33m.\u001b[0m\u001b[0mwhere\u001b[0m\u001b[1;33m(\u001b[0m\u001b[0mx\u001b[0m\u001b[1;33m<\u001b[0m\u001b[1;36m1\u001b[0m\u001b[1;33m,\u001b[0m \u001b[0mx\u001b[0m\u001b[1;33m/\u001b[0m\u001b[0mg_frac\u001b[0m\u001b[1;33m,\u001b[0m \u001b[0mtorch\u001b[0m\u001b[1;33m.\u001b[0m\u001b[0mones\u001b[0m\u001b[1;33m(\u001b[0m\u001b[0mx\u001b[0m\u001b[1;33m.\u001b[0m\u001b[0mshape\u001b[0m\u001b[1;33m)\u001b[0m\u001b[1;33m*\u001b[0m\u001b[1;33m(\u001b[0m\u001b[0mnp\u001b[0m\u001b[1;33m.\u001b[0m\u001b[0mceil\u001b[0m\u001b[1;33m(\u001b[0m\u001b[1;36m1\u001b[0m\u001b[1;33m/\u001b[0m\u001b[0mg_frac\u001b[0m\u001b[1;33m)\u001b[0m\u001b[1;33m)\u001b[0m\u001b[1;33m)\u001b[0m\u001b[1;33m.\u001b[0m\u001b[0mint\u001b[0m\u001b[1;33m(\u001b[0m\u001b[1;33m)\u001b[0m\u001b[1;33m\u001b[0m\u001b[1;33m\u001b[0m\u001b[0m\n\u001b[0m\u001b[0;32m    253\u001b[0m                 \u001b[0my_cell_ids\u001b[0m \u001b[1;33m=\u001b[0m \u001b[0mtorch\u001b[0m\u001b[1;33m.\u001b[0m\u001b[0mwhere\u001b[0m\u001b[1;33m(\u001b[0m\u001b[0my\u001b[0m\u001b[1;33m<\u001b[0m\u001b[1;36m1\u001b[0m\u001b[1;33m,\u001b[0m \u001b[0my\u001b[0m\u001b[1;33m/\u001b[0m\u001b[0mg_frac\u001b[0m\u001b[1;33m,\u001b[0m \u001b[0mtorch\u001b[0m\u001b[1;33m.\u001b[0m\u001b[0mones\u001b[0m\u001b[1;33m(\u001b[0m\u001b[0my\u001b[0m\u001b[1;33m.\u001b[0m\u001b[0mshape\u001b[0m\u001b[1;33m)\u001b[0m\u001b[1;33m*\u001b[0m\u001b[1;33m(\u001b[0m\u001b[0mnp\u001b[0m\u001b[1;33m.\u001b[0m\u001b[0mceil\u001b[0m\u001b[1;33m(\u001b[0m\u001b[1;36m1\u001b[0m\u001b[1;33m/\u001b[0m\u001b[0mg_frac\u001b[0m\u001b[1;33m)\u001b[0m\u001b[1;33m)\u001b[0m\u001b[1;33m)\u001b[0m\u001b[1;33m.\u001b[0m\u001b[0mint\u001b[0m\u001b[1;33m(\u001b[0m\u001b[1;33m)\u001b[0m\u001b[1;33m\u001b[0m\u001b[1;33m\u001b[0m\u001b[0m\n\u001b[0;32m    254\u001b[0m                 \u001b[0mgc_ids\u001b[0m \u001b[1;33m=\u001b[0m \u001b[1;33m(\u001b[0m\u001b[1;33m(\u001b[0m\u001b[0my_cell_ids\u001b[0m\u001b[1;33m)\u001b[0m\u001b[1;33m*\u001b[0m\u001b[1;33m(\u001b[0m\u001b[0mnp\u001b[0m\u001b[1;33m.\u001b[0m\u001b[0mceil\u001b[0m\u001b[1;33m(\u001b[0m\u001b[1;36m1\u001b[0m\u001b[1;33m/\u001b[0m\u001b[0mg_frac\u001b[0m\u001b[1;33m)\u001b[0m\u001b[1;33m)\u001b[0m \u001b[1;33m+\u001b[0m \u001b[0mx_cell_ids\u001b[0m\u001b[1;33m)\u001b[0m\u001b[1;33m.\u001b[0m\u001b[0mlong\u001b[0m\u001b[1;33m(\u001b[0m\u001b[1;33m)\u001b[0m\u001b[1;33m\u001b[0m\u001b[1;33m\u001b[0m\u001b[0m\n",
      "\u001b[1;31mKeyboardInterrupt\u001b[0m: "
     ]
    }
   ],
   "source": [
    "import os\n",
    "os.environ['KMP_DUPLICATE_LIB_OK']='True'\n",
    "%run -i ../src/train.py --data ../data/All_Volunteers_Crowdsourced.yaml --batch-size 20 --epochs 100 --bcc_epoch 0 --device 0 --name LargeDS_cyolo\n",
    "#--batch-size 100"
   ]
  },
  {
   "cell_type": "code",
   "execution_count": 2,
   "metadata": {},
   "outputs": [
    {
     "name": "stdout",
     "output_type": "stream",
     "text": [
      "\u001b[34m\u001b[1mval: \u001b[0mdata=../data/All_Volunteers_Crowdsourced.yaml, weights=['runs/train/Expset2_all_cyolo136/weights/best.pt'], batch_size=32, imgsz=640, conf_thres=0.001, iou_thres=0.6, task=test, device=, single_cls=False, augment=False, verbose=False, save_txt=False, save_hybrid=False, save_conf=False, save_json=False, project=runs/val, name=Expset2_all_cyolo136_test, exist_ok=False, half=False\n",
      "                 all        100        432    0.00203     0.0149    0.00103   0.000154\n",
      "     calculus-plaque        100        316    0.00251     0.0127    0.00127    0.00019\n",
      "       dental-caries        100        116    0.00155     0.0172   0.000786   0.000118\n",
      "Speed: 0.7ms pre-process, 6.1ms inference, 4.5ms NMS per image at shape (32, 3, 640, 640)\n",
      "Results saved to \u001b[1mruns\\val\\Expset2_all_cyolo136_test\u001b[0m\n"
     ]
    },
    {
     "name": "stderr",
     "output_type": "stream",
     "text": [
      "YOLOv5  2022-1-18 torch 1.10.1+cu113 CUDA:0 (NVIDIA GeForce RTX 3090, 24575.5MB)\n",
      "\n",
      "Fusing layers... \n",
      "C:\\Users\\rb01243\\Anaconda3\\lib\\site-packages\\torch\\functional.py:445: UserWarning: torch.meshgrid: in an upcoming release, it will be required to pass the indexing argument. (Triggered internally at  ..\\aten\\src\\ATen\\native\\TensorShape.cpp:2157.)\n",
      "  return _VF.meshgrid(tensors, **kwargs)  # type: ignore[attr-defined]\n",
      "Model Summary: 213 layers, 7018216 parameters, 0 gradients, 15.8 GFLOPs\n",
      "\n",
      "\u001b[34m\u001b[1mtest: \u001b[0mScanning '..\\data\\datasets\\All_Volunteers_Crowdsourced\\labels\\test' images and labels...:   0%|          | 0/100 [00:00<?, ?it/s]\n",
      "\u001b[34m\u001b[1mtest: \u001b[0mScanning '..\\data\\datasets\\All_Volunteers_Crowdsourced\\labels\\test' images and labels...1 found, 0 missing, 0 empty, 0 corrupted:   1%|1         | 1/100 [00:03<05:10,  3.14s/it]\n",
      "\u001b[34m\u001b[1mtest: \u001b[0mScanning '..\\data\\datasets\\All_Volunteers_Crowdsourced\\labels\\test' images and labels...92 found, 0 missing, 0 empty, 0 corrupted:  92%|#########2| 92/100 [00:03<00:00, 39.92it/s]\n",
      "\u001b[34m\u001b[1mtest: \u001b[0mScanning '..\\data\\datasets\\All_Volunteers_Crowdsourced\\labels\\test' images and labels...100 found, 0 missing, 0 empty, 0 corrupted: 100%|##########| 100/100 [00:03<00:00, 30.82it/s]\n",
      "\u001b[34m\u001b[1mtest: \u001b[0mNew cache created: ..\\data\\datasets\\All_Volunteers_Crowdsourced\\labels\\test.cache\n",
      "\n",
      "               Class     Images     Labels          P          R     mAP@.5 mAP@.5:.95:   0%|          | 0/4 [00:00<?, ?it/s]\n",
      "               Class     Images     Labels          P          R     mAP@.5 mAP@.5:.95:  25%|##5       | 1/4 [00:01<00:04,  1.46s/it]\n",
      "               Class     Images     Labels          P          R     mAP@.5 mAP@.5:.95:  50%|#####     | 2/4 [00:02<00:01,  1.01it/s]\n",
      "               Class     Images     Labels          P          R     mAP@.5 mAP@.5:.95:  75%|#######5  | 3/4 [00:02<00:00,  1.21it/s]\n",
      "               Class     Images     Labels          P          R     mAP@.5 mAP@.5:.95: 100%|##########| 4/4 [00:03<00:00,  1.51it/s]\n",
      "               Class     Images     Labels          P          R     mAP@.5 mAP@.5:.95: 100%|##########| 4/4 [00:03<00:00,  1.26it/s]\n"
     ]
    }
   ],
   "source": [
    "os.environ['KMP_DUPLICATE_LIB_OK']='True'\n",
    "!python ../src/val.py --weights runs/train/LargeDS_cyolo/weights/best.pt --data ../data/All_Volunteers_Crowdsourced.yaml --task test --name LargeDS_cyolo_test"
   ]
  },
  {
   "cell_type": "markdown",
   "metadata": {},
   "source": [
    "## 1.2  CSexp (Dataset 2)"
   ]
  },
  {
   "cell_type": "code",
   "execution_count": null,
   "metadata": {},
   "outputs": [],
   "source": []
  },
  {
   "cell_type": "markdown",
   "metadata": {},
   "source": [
    "## Analysis"
   ]
  },
  {
   "cell_type": "markdown",
   "metadata": {},
   "source": [
    "{ analysis goes here }"
   ]
  },
  {
   "cell_type": "markdown",
   "metadata": {},
   "source": [
    "# Experiment 2 (Crowd RCNN)\n",
    "\n",
    "### This section runs the experiments, prints results, and plots graphs for both dataset using the Crowd RCNN model."
   ]
  },
  {
   "cell_type": "markdown",
   "metadata": {},
   "source": [
    "## 2.1  CSall (Dataset 1)"
   ]
  },
  {
   "cell_type": "code",
   "execution_count": null,
   "metadata": {},
   "outputs": [],
   "source": []
  },
  {
   "cell_type": "code",
   "execution_count": null,
   "metadata": {},
   "outputs": [],
   "source": []
  },
  {
   "cell_type": "markdown",
   "metadata": {},
   "source": [
    "## 2.2  CSexp (Dataset 2)"
   ]
  },
  {
   "cell_type": "code",
   "execution_count": null,
   "metadata": {},
   "outputs": [],
   "source": []
  },
  {
   "cell_type": "code",
   "execution_count": null,
   "metadata": {},
   "outputs": [],
   "source": []
  },
  {
   "cell_type": "markdown",
   "metadata": {},
   "source": [
    "## Analysis"
   ]
  },
  {
   "cell_type": "markdown",
   "metadata": {},
   "source": [
    "{ analysis goes here }"
   ]
  },
  {
   "cell_type": "markdown",
   "metadata": {},
   "source": [
    "# Experiment 3 (YoloV5 IID)\n",
    "\n",
    "### This section runs the experiments, prints results, and plots graphs for ranomly selected ground truth labels for both dataset using the YoloV5 model."
   ]
  },
  {
   "cell_type": "markdown",
   "metadata": {},
   "source": [
    "## 3.1  CSall (Dataset 1)"
   ]
  },
  {
   "cell_type": "code",
   "execution_count": 1,
   "metadata": {},
   "outputs": [
    {
     "name": "stderr",
     "output_type": "stream",
     "text": [
      "Failed to detect the name of this notebook, you can set it manually with the WANDB_NOTEBOOK_NAME environment variable to enable code saving.\n",
      "\u001b[34m\u001b[1mwandb\u001b[0m: Currently logged in as: \u001b[33mdddetection\u001b[0m (use `wandb login --relogin` to force relogin)\n",
      "\u001b[34m\u001b[1mtrain: \u001b[0mweights=..\\yolov5-master\\yolov5s.pt, cfg=, data=../data/All_Volunteers_IID.yaml, hyp=..\\yolov5-master\\data\\hyps\\hyp.scratch.yaml, epochs=20, batch_size=20, imgsz=640, rect=False, resume=False, nosave=False, noval=False, noautoanchor=False, evolve=None, bucket=, cache=None, image_weights=False, device=0, multi_scale=False, single_cls=False, optimizer=SGD, sync_bn=False, workers=8, project=..\\yolov5-master\\runs\\train, name=testIIDZOON, exist_ok=False, quad=False, linear_lr=False, label_smoothing=0.0, patience=100, freeze=[0], save_period=-1, local_rank=-1, entity=None, upload_dataset=False, bbox_interval=-1, artifact_alias=latest\n",
      "YOLOv5  2022-2-8 torch 1.10.1+cu113 CUDA:0 (NVIDIA GeForce RTX 3090, 24576MiB)\n",
      "\n",
      "\u001b[34m\u001b[1mhyperparameters: \u001b[0mlr0=0.01, lrf=0.1, momentum=0.937, weight_decay=0.0005, warmup_epochs=3.0, warmup_momentum=0.8, warmup_bias_lr=0.1, box=0.05, cls=0.5, cls_pw=1.0, obj=1.0, obj_pw=1.0, iou_t=0.2, anchor_t=4.0, fl_gamma=0.0, hsv_h=0.015, hsv_s=0.7, hsv_v=0.4, degrees=0.0, translate=0.1, scale=0.5, shear=0.0, perspective=0.0, flipud=0.0, fliplr=0.5, mosaic=1.0, mixup=0.0, copy_paste=0.0\n",
      "\u001b[34m\u001b[1mTensorBoard: \u001b[0mStart with 'tensorboard --logdir ..\\yolov5-master\\runs\\train', view at http://localhost:6006/\n"
     ]
    },
    {
     "name": "stdout",
     "output_type": "stream",
     "text": [
      "\u001b[34m\u001b[1mgithub: \u001b[0mskipping check (not a git repository), for updates see https://github.com/ultralytics/yolov5\n"
     ]
    },
    {
     "data": {
      "text/html": [
       "\n",
       "                    Syncing run <strong><a href=\"https://wandb.ai/dddetection/train/runs/3ptkpd13\" target=\"_blank\">testIIDZOON</a></strong> to <a href=\"https://wandb.ai/dddetection/train\" target=\"_blank\">Weights & Biases</a> (<a href=\"https://docs.wandb.com/integrations/jupyter.html\" target=\"_blank\">docs</a>).<br/>\n",
       "\n",
       "                "
      ],
      "text/plain": [
       "<IPython.core.display.HTML object>"
      ]
     },
     "metadata": {},
     "output_type": "display_data"
    },
    {
     "name": "stderr",
     "output_type": "stream",
     "text": [
      "Overriding model.yaml nc=80 with nc=3\n",
      "\n",
      "                 from  n    params  module                                  arguments                     \n",
      "  0                -1  1      3520  models.common.Conv                      [3, 32, 6, 2, 2]              \n",
      "  1                -1  1     18560  models.common.Conv                      [32, 64, 3, 2]                \n",
      "  2                -1  1     18816  models.common.C3                        [64, 64, 1]                   \n",
      "  3                -1  1     73984  models.common.Conv                      [64, 128, 3, 2]               \n",
      "  4                -1  2    115712  models.common.C3                        [128, 128, 2]                 \n",
      "  5                -1  1    295424  models.common.Conv                      [128, 256, 3, 2]              \n",
      "  6                -1  3    625152  models.common.C3                        [256, 256, 3]                 \n",
      "  7                -1  1   1180672  models.common.Conv                      [256, 512, 3, 2]              \n",
      "  8                -1  1   1182720  models.common.C3                        [512, 512, 1]                 \n",
      "  9                -1  1    656896  models.common.SPPF                      [512, 512, 5]                 \n",
      " 10                -1  1    131584  models.common.Conv                      [512, 256, 1, 1]              \n",
      " 11                -1  1         0  torch.nn.modules.upsampling.Upsample    [None, 2, 'nearest']          \n",
      " 12           [-1, 6]  1         0  models.common.Concat                    [1]                           \n",
      " 13                -1  1    361984  models.common.C3                        [512, 256, 1, False]          \n",
      " 14                -1  1     33024  models.common.Conv                      [256, 128, 1, 1]              \n",
      " 15                -1  1         0  torch.nn.modules.upsampling.Upsample    [None, 2, 'nearest']          \n",
      " 16           [-1, 4]  1         0  models.common.Concat                    [1]                           \n",
      " 17                -1  1     90880  models.common.C3                        [256, 128, 1, False]          \n",
      " 18                -1  1    147712  models.common.Conv                      [128, 128, 3, 2]              \n",
      " 19          [-1, 14]  1         0  models.common.Concat                    [1]                           \n",
      " 20                -1  1    296448  models.common.C3                        [256, 256, 1, False]          \n",
      " 21                -1  1    590336  models.common.Conv                      [256, 256, 3, 2]              \n",
      " 22          [-1, 10]  1         0  models.common.Concat                    [1]                           \n",
      " 23                -1  1   1182720  models.common.C3                        [512, 512, 1, False]          \n",
      " 24      [17, 20, 23]  1     21576  models.yolo.Detect                      [3, [[10, 13, 16, 30, 33, 23], [30, 61, 62, 45, 59, 119], [116, 90, 156, 198, 373, 326]], [128, 256, 512]]\n",
      "Model Summary: 270 layers, 7027720 parameters, 7027720 gradients, 15.9 GFLOPs\n",
      "\n",
      "Transferred 343/349 items from ..\\yolov5-master\\yolov5s.pt\n",
      "Scaled weight_decay = 0.00046875\n",
      "\u001b[34m\u001b[1moptimizer:\u001b[0m SGD with parameter groups 57 weight (no decay), 60 weight, 60 bias\n",
      "\u001b[34m\u001b[1mtrain: \u001b[0mScanning '..\\data\\datasets\\All_Volunteers_IID\\labels\\train' images and labels...8520 found, 0 missing, 0 empty, 5 corrupted: 100%|██████████| 8520/8520 [00:13<00:00, 618.45it/s]\n",
      "\u001b[34m\u001b[1mtrain: \u001b[0mWARNING: ..\\data\\datasets\\All_Volunteers_IID\\images\\train\\Unknown-X-20200130-084742-XLGSYPPPTEXC-0.2fa26163bc112ae3204a.JPG: ignoring corrupt image/label: non-normalized or out of bounds coordinates [     1.0033]\n",
      "\u001b[34m\u001b[1mtrain: \u001b[0mWARNING: ..\\data\\datasets\\All_Volunteers_IID\\images\\train\\Unknown-X-20200721-090447-XBKCLNGAJQNH-0.5a634d4f0fcf8ec9e461.JPG: ignoring corrupt image/label: negative label values [   -0.14314    -0.41709]\n",
      "\u001b[34m\u001b[1mtrain: \u001b[0mWARNING: ..\\data\\datasets\\All_Volunteers_IID\\images\\train\\Unknown-X-20201005-103909-XNCQOIKATKR9-0.c3c14eb7ba080412ee36.JPG: ignoring corrupt image/label: negative label values [  -0.034393]\n",
      "\u001b[34m\u001b[1mtrain: \u001b[0mWARNING: ..\\data\\datasets\\All_Volunteers_IID\\images\\train\\Unknown-X-20201006-084132-XVLTASWWP5TM-0.682d8a57a91ea2f10b4a.JPG: ignoring corrupt image/label: negative label values [    -0.1901    -0.19213]\n",
      "\u001b[34m\u001b[1mtrain: \u001b[0mWARNING: ..\\data\\datasets\\All_Volunteers_IID\\images\\train\\Unknown-X-20201030-092621-XJLBBLWGSTK3-0.ff2c4f12241c167761cc.JPG: ignoring corrupt image/label: negative label values [   -0.74383]\n",
      "\u001b[34m\u001b[1mtrain: \u001b[0mWARNING: Cache directory ..\\data\\datasets\\All_Volunteers_IID\\labels is not writeable: [WinError 183] Cannot create a file when that file already exists: '..\\\\data\\\\datasets\\\\All_Volunteers_IID\\\\labels\\\\train.cache.npy' -> '..\\\\data\\\\datasets\\\\All_Volunteers_IID\\\\labels\\\\train.cache'\n",
      "\u001b[34m\u001b[1mval: \u001b[0mScanning '..\\data\\datasets\\All_Volunteers_IID\\labels\\val' images and labels...947 found, 0 missing, 0 empty, 1 corrupted: 100%|██████████| 947/947 [00:06<00:00, 142.79it/s]\n",
      "\u001b[34m\u001b[1mval: \u001b[0mWARNING: ..\\data\\datasets\\All_Volunteers_IID\\images\\val\\IX20191022_101649_0368_00003706.1a309d95dd140892a121.JPG: ignoring corrupt image/label: non-normalized or out of bounds coordinates [     1.0002]\n",
      "\u001b[34m\u001b[1mval: \u001b[0mWARNING: Cache directory ..\\data\\datasets\\All_Volunteers_IID\\labels is not writeable: [WinError 183] Cannot create a file when that file already exists: '..\\\\data\\\\datasets\\\\All_Volunteers_IID\\\\labels\\\\val.cache.npy' -> '..\\\\data\\\\datasets\\\\All_Volunteers_IID\\\\labels\\\\val.cache'\n",
      "\n",
      "\u001b[34m\u001b[1mAutoAnchor: \u001b[0m5.18 anchors/target, 0.999 Best Possible Recall (BPR). Current anchors are a good fit to dataset \n",
      "Image sizes 640 train, 640 val\n",
      "Using 8 dataloader workers\n",
      "Logging results to \u001b[1m..\\yolov5-master\\runs\\train\\testIIDZOON2\u001b[0m\n",
      "Starting training for 20 epochs...\n",
      "\n",
      "     Epoch   gpu_mem       box       obj       cls    labels  img_size\n"
     ]
    },
    {
     "name": "stdout",
     "output_type": "stream",
     "text": [
      "module 'signal' has no attribute 'SIGALRM'\n"
     ]
    },
    {
     "name": "stderr",
     "output_type": "stream",
     "text": [
      "      0/19     4.33G   0.09036   0.04595   0.03228        99       640: 100%|██████████| 426/426 [02:00<00:00,  3.54it/s]\n",
      "               Class     Images     Labels          P          R     mAP@.5 mAP@.5:.95: 100%|██████████| 24/24 [00:06<00:00,  3.53it/s]\n",
      "                 all        946       2967     0.0429      0.231     0.0272    0.00621\n",
      "\n",
      "     Epoch   gpu_mem       box       obj       cls    labels  img_size\n",
      "      1/19     5.69G   0.07681   0.04775   0.02225        57       640: 100%|██████████| 426/426 [01:58<00:00,  3.61it/s]\n",
      "               Class     Images     Labels          P          R     mAP@.5 mAP@.5:.95: 100%|██████████| 24/24 [00:07<00:00,  3.07it/s]\n",
      "                 all        946       2967       0.11      0.105     0.0384     0.0096\n",
      "\n",
      "     Epoch   gpu_mem       box       obj       cls    labels  img_size\n",
      "      2/19     5.69G   0.07455   0.04713   0.01962        91       640: 100%|██████████| 426/426 [01:58<00:00,  3.60it/s]\n",
      "               Class     Images     Labels          P          R     mAP@.5 mAP@.5:.95: 100%|██████████| 24/24 [00:06<00:00,  3.86it/s]\n",
      "                 all        946       2967     0.0981      0.157     0.0507     0.0121\n",
      "\n",
      "     Epoch   gpu_mem       box       obj       cls    labels  img_size\n",
      "      3/19     5.69G   0.07339   0.04789   0.01903        64       640: 100%|██████████| 426/426 [01:57<00:00,  3.62it/s]\n",
      "               Class     Images     Labels          P          R     mAP@.5 mAP@.5:.95: 100%|██████████| 24/24 [00:07<00:00,  3.39it/s]\n",
      "                 all        946       2967      0.108      0.151     0.0555     0.0145\n",
      "\n",
      "     Epoch   gpu_mem       box       obj       cls    labels  img_size\n",
      "      4/19     5.69G   0.07213   0.04754   0.01827        58       640: 100%|██████████| 426/426 [01:59<00:00,  3.56it/s]\n",
      "               Class     Images     Labels          P          R     mAP@.5 mAP@.5:.95: 100%|██████████| 24/24 [00:05<00:00,  4.14it/s]\n",
      "                 all        946       2967      0.119      0.155     0.0616     0.0159\n",
      "\n",
      "     Epoch   gpu_mem       box       obj       cls    labels  img_size\n",
      "      5/19     5.69G   0.07126   0.04785   0.01763        74       640: 100%|██████████| 426/426 [01:58<00:00,  3.59it/s]\n",
      "               Class     Images     Labels          P          R     mAP@.5 mAP@.5:.95: 100%|██████████| 24/24 [00:07<00:00,  3.12it/s]\n",
      "                 all        946       2967      0.134      0.158     0.0672     0.0182\n",
      "\n",
      "     Epoch   gpu_mem       box       obj       cls    labels  img_size\n",
      "      6/19     5.69G   0.07057    0.0475   0.01715        71       640: 100%|██████████| 426/426 [02:03<00:00,  3.44it/s]\n",
      "               Class     Images     Labels          P          R     mAP@.5 mAP@.5:.95: 100%|██████████| 24/24 [00:05<00:00,  4.30it/s]\n",
      "                 all        946       2967       0.14      0.151      0.067     0.0178\n",
      "\n",
      "     Epoch   gpu_mem       box       obj       cls    labels  img_size\n",
      "      7/19     5.69G   0.07032   0.04764   0.01729        82       640: 100%|██████████| 426/426 [01:58<00:00,  3.58it/s]\n",
      "               Class     Images     Labels          P          R     mAP@.5 mAP@.5:.95: 100%|██████████| 24/24 [00:07<00:00,  3.30it/s]\n",
      "                 all        946       2967      0.131      0.184     0.0719     0.0193\n",
      "\n",
      "     Epoch   gpu_mem       box       obj       cls    labels  img_size\n",
      "      8/19     5.69G   0.06974   0.04779   0.01673        69       640: 100%|██████████| 426/426 [01:59<00:00,  3.56it/s]\n",
      "               Class     Images     Labels          P          R     mAP@.5 mAP@.5:.95: 100%|██████████| 24/24 [00:05<00:00,  4.33it/s]\n",
      "                 all        946       2967      0.135      0.159     0.0694     0.0187\n",
      "\n",
      "     Epoch   gpu_mem       box       obj       cls    labels  img_size\n",
      "      9/19     5.69G   0.06946   0.04763    0.0167        74       640: 100%|██████████| 426/426 [02:00<00:00,  3.55it/s]\n",
      "               Class     Images     Labels          P          R     mAP@.5 mAP@.5:.95: 100%|██████████| 24/24 [00:07<00:00,  3.38it/s]\n",
      "                 all        946       2967      0.143       0.18     0.0692     0.0181\n",
      "\n",
      "     Epoch   gpu_mem       box       obj       cls    labels  img_size\n",
      "     10/19     5.69G   0.06877   0.04761   0.01649       100       640: 100%|██████████| 426/426 [02:05<00:00,  3.39it/s]\n",
      "               Class     Images     Labels          P          R     mAP@.5 mAP@.5:.95: 100%|██████████| 24/24 [00:05<00:00,  4.12it/s]\n",
      "                 all        946       2967       0.14      0.162     0.0713     0.0185\n",
      "\n",
      "     Epoch   gpu_mem       box       obj       cls    labels  img_size\n",
      "     11/19     5.69G   0.06847   0.04734   0.01607        59       640: 100%|██████████| 426/426 [02:02<00:00,  3.49it/s]\n",
      "               Class     Images     Labels          P          R     mAP@.5 mAP@.5:.95: 100%|██████████| 24/24 [00:07<00:00,  3.39it/s]\n",
      "                 all        946       2967      0.124      0.166      0.068     0.0177\n",
      "\n",
      "     Epoch   gpu_mem       box       obj       cls    labels  img_size\n",
      "     12/19     5.69G   0.06787   0.04755   0.01588        50       640: 100%|██████████| 426/426 [01:55<00:00,  3.69it/s]\n",
      "               Class     Images     Labels          P          R     mAP@.5 mAP@.5:.95: 100%|██████████| 24/24 [00:05<00:00,  4.26it/s]\n",
      "                 all        946       2967      0.143      0.169     0.0708     0.0197\n",
      "\n",
      "     Epoch   gpu_mem       box       obj       cls    labels  img_size\n",
      "     13/19     5.69G    0.0675   0.04774   0.01579        96       640: 100%|██████████| 426/426 [01:57<00:00,  3.63it/s]\n",
      "               Class     Images     Labels          P          R     mAP@.5 mAP@.5:.95: 100%|██████████| 24/24 [00:06<00:00,  3.70it/s]\n",
      "                 all        946       2967      0.181      0.153     0.0764     0.0213\n",
      "\n",
      "     Epoch   gpu_mem       box       obj       cls    labels  img_size\n",
      "     14/19     5.69G    0.0673   0.04759   0.01553        61       640: 100%|██████████| 426/426 [01:55<00:00,  3.68it/s]\n",
      "               Class     Images     Labels          P          R     mAP@.5 mAP@.5:.95: 100%|██████████| 24/24 [00:05<00:00,  4.29it/s]\n",
      "                 all        946       2967      0.188      0.154     0.0786     0.0212\n",
      "\n",
      "     Epoch   gpu_mem       box       obj       cls    labels  img_size\n",
      "     15/19     5.69G   0.06694   0.04772   0.01521        64       640: 100%|██████████| 426/426 [01:55<00:00,  3.68it/s]\n",
      "               Class     Images     Labels          P          R     mAP@.5 mAP@.5:.95: 100%|██████████| 24/24 [00:06<00:00,  3.45it/s]\n",
      "                 all        946       2967      0.164      0.157     0.0787     0.0216\n",
      "\n",
      "     Epoch   gpu_mem       box       obj       cls    labels  img_size\n",
      "     16/19     5.69G   0.06651    0.0478   0.01507        84       640: 100%|██████████| 426/426 [01:55<00:00,  3.70it/s]\n",
      "               Class     Images     Labels          P          R     mAP@.5 mAP@.5:.95: 100%|██████████| 24/24 [00:05<00:00,  4.26it/s]\n",
      "                 all        946       2967      0.133       0.19     0.0767     0.0212\n",
      "\n",
      "     Epoch   gpu_mem       box       obj       cls    labels  img_size\n",
      "     17/19     5.69G   0.06592   0.04769   0.01479        94       640: 100%|██████████| 426/426 [01:55<00:00,  3.70it/s]\n",
      "               Class     Images     Labels          P          R     mAP@.5 mAP@.5:.95: 100%|██████████| 24/24 [00:06<00:00,  3.53it/s]\n",
      "                 all        946       2967       0.14      0.185     0.0768     0.0212\n",
      "\n",
      "     Epoch   gpu_mem       box       obj       cls    labels  img_size\n",
      "     18/19     5.69G   0.06581   0.04728   0.01473        73       640: 100%|██████████| 426/426 [01:55<00:00,  3.70it/s]\n",
      "               Class     Images     Labels          P          R     mAP@.5 mAP@.5:.95: 100%|██████████| 24/24 [00:05<00:00,  4.29it/s]\n",
      "                 all        946       2967      0.138      0.184     0.0788     0.0222\n",
      "\n",
      "     Epoch   gpu_mem       box       obj       cls    labels  img_size\n",
      "     19/19     5.69G   0.06517   0.04799   0.01463        76       640: 100%|██████████| 426/426 [01:55<00:00,  3.70it/s]\n",
      "               Class     Images     Labels          P          R     mAP@.5 mAP@.5:.95: 100%|██████████| 24/24 [00:06<00:00,  3.54it/s]\n",
      "                 all        946       2967      0.163      0.171     0.0769     0.0211\n",
      "\n",
      "20 epochs completed in 0.697 hours.\n",
      "\n",
      "Validating ..\\yolov5-master\\runs\\train\\testIIDZOON2\\weights\\best.pt...\n",
      "Fusing layers... \n"
     ]
    },
    {
     "name": "stdout",
     "output_type": "stream",
     "text": [
      "Optimizer stripped from ..\\yolov5-master\\runs\\train\\testIIDZOON2\\weights\\last.pt, 14.4MB\n",
      "Optimizer stripped from ..\\yolov5-master\\runs\\train\\testIIDZOON2\\weights\\best.pt, 14.4MB\n"
     ]
    },
    {
     "name": "stderr",
     "output_type": "stream",
     "text": [
      "Model Summary: 213 layers, 7018216 parameters, 0 gradients, 15.8 GFLOPs\n",
      "               Class     Images     Labels          P          R     mAP@.5 mAP@.5:.95: 100%|██████████| 24/24 [00:08<00:00,  2.95it/s]\n",
      "                 all        946       2967      0.138      0.184     0.0791     0.0221\n",
      "     calculus-plaque        946        586      0.139      0.142     0.0791     0.0227\n",
      "       dental-caries        946       1239      0.148      0.148     0.0744     0.0225\n",
      "           bone-loss        946       1142      0.127      0.263     0.0838      0.021\n"
     ]
    },
    {
     "data": {
      "text/html": [
       "<br/>Waiting for W&B process to finish, PID 23836... <strong style=\"color:green\">(success).</strong>"
      ],
      "text/plain": [
       "<IPython.core.display.HTML object>"
      ]
     },
     "metadata": {},
     "output_type": "display_data"
    },
    {
     "data": {
      "application/vnd.jupyter.widget-view+json": {
       "model_id": "",
       "version_major": 2,
       "version_minor": 0
      },
      "text/plain": [
       "VBox(children=(Label(value=' 56.09MB of 58.74MB uploaded (0.00MB deduped)\\r'), FloatProgress(value=0.954926170…"
      ]
     },
     "metadata": {},
     "output_type": "display_data"
    },
    {
     "data": {
      "text/html": [
       "<style>\n",
       "    table.wandb td:nth-child(1) { padding: 0 10px; text-align: right }\n",
       "    .wandb-row { display: flex; flex-direction: row; flex-wrap: wrap; width: 100% }\n",
       "    .wandb-col { display: flex; flex-direction: column; flex-basis: 100%; flex: 1; padding: 10px; }\n",
       "    </style>\n",
       "<div class=\"wandb-row\"><div class=\"wandb-col\">\n",
       "<h3>Run history:</h3><br/><table class=\"wandb\"><tr><td>metrics/mAP_0.5</td><td>▁▃▄▅▆▆▆▇▇▇▇▇▇████████</td></tr><tr><td>metrics/mAP_0.5:0.95</td><td>▁▂▄▅▅▆▆▇▆▆▆▆▇██████▇█</td></tr><tr><td>metrics/precision</td><td>▁▄▄▄▅▅▆▅▅▆▆▅▆██▇▅▆▆▇▆</td></tr><tr><td>metrics/recall</td><td>█▁▄▄▄▄▄▅▄▅▄▄▅▄▄▄▆▅▅▅▅</td></tr><tr><td>train/box_loss</td><td>█▄▄▃▃▃▂▂▂▂▂▂▂▂▂▁▁▁▁▁</td></tr><tr><td>train/cls_loss</td><td>█▄▃▃▂▂▂▂▂▂▂▂▁▁▁▁▁▁▁▁</td></tr><tr><td>train/obj_loss</td><td>▁▇▅█▆█▆▇▇▇▇▆▆▇▇▇▇▇▆█</td></tr><tr><td>val/box_loss</td><td>█▇▄▄▃▂▂▂▂▂▂▂▂▁▁▁▁▁▁▁▁</td></tr><tr><td>val/cls_loss</td><td>█▅▃▂▂▂▂▂▁▁▁▁▂▁▂▁▁▂▂▂▂</td></tr><tr><td>val/obj_loss</td><td>▁█▄▂▅▃▅▂▃▄▃▄▂▃▃▃▂▃▂▃▂</td></tr><tr><td>x/lr0</td><td>▃▅███▇▇▇▆▆▅▅▄▃▃▂▂▂▁▁</td></tr><tr><td>x/lr1</td><td>▃▅███▇▇▇▆▆▅▅▄▃▃▂▂▂▁▁</td></tr><tr><td>x/lr2</td><td>█▅▂▂▂▂▂▂▂▂▂▁▁▁▁▁▁▁▁▁</td></tr></table><br/></div><div class=\"wandb-col\">\n",
       "<h3>Run summary:</h3><br/><table class=\"wandb\"><tr><td>best/epoch</td><td>18</td></tr><tr><td>best/mAP_0.5</td><td>0.07879</td></tr><tr><td>best/mAP_0.5:0.95</td><td>0.02223</td></tr><tr><td>best/precision</td><td>0.1381</td></tr><tr><td>best/recall</td><td>0.18424</td></tr><tr><td>metrics/mAP_0.5</td><td>0.07912</td></tr><tr><td>metrics/mAP_0.5:0.95</td><td>0.02207</td></tr><tr><td>metrics/precision</td><td>0.138</td></tr><tr><td>metrics/recall</td><td>0.18401</td></tr><tr><td>train/box_loss</td><td>0.06517</td></tr><tr><td>train/cls_loss</td><td>0.01463</td></tr><tr><td>train/obj_loss</td><td>0.04799</td></tr><tr><td>val/box_loss</td><td>0.06966</td></tr><tr><td>val/cls_loss</td><td>0.01748</td></tr><tr><td>val/obj_loss</td><td>0.03805</td></tr><tr><td>x/lr0</td><td>0.00122</td></tr><tr><td>x/lr1</td><td>0.00122</td></tr><tr><td>x/lr2</td><td>0.00122</td></tr></table>\n",
       "</div></div>\n",
       "Synced 6 W&B file(s), 335 media file(s), 1 artifact file(s) and 0 other file(s)\n",
       "<br/>Synced <strong style=\"color:#cdcd00\">testIIDZOON</strong>: <a href=\"https://wandb.ai/dddetection/train/runs/3ptkpd13\" target=\"_blank\">https://wandb.ai/dddetection/train/runs/3ptkpd13</a><br/>\n",
       "Find logs at: <code>.\\wandb\\run-20220209_164454-3ptkpd13\\logs</code><br/>\n"
      ],
      "text/plain": [
       "<IPython.core.display.HTML object>"
      ]
     },
     "metadata": {},
     "output_type": "display_data"
    },
    {
     "name": "stderr",
     "output_type": "stream",
     "text": [
      "Results saved to \u001b[1m..\\yolov5-master\\runs\\train\\testIIDZOON2\u001b[0m\n"
     ]
    }
   ],
   "source": [
    "import os\n",
    "os.environ['KMP_DUPLICATE_LIB_OK']='True'\n",
    "%run -i ../src/train.py --data ../data/All_Volunteers_IID.yaml --batch-size 20 --epochs 20 --device 0 --name testIIDZOON"
   ]
  },
  {
   "cell_type": "code",
   "execution_count": null,
   "metadata": {},
   "outputs": [],
   "source": []
  },
  {
   "cell_type": "markdown",
   "metadata": {},
   "source": [
    "## 3.2  CSexp (Dataset 2)"
   ]
  },
  {
   "cell_type": "code",
   "execution_count": null,
   "metadata": {},
   "outputs": [],
   "source": []
  },
  {
   "cell_type": "code",
   "execution_count": null,
   "metadata": {},
   "outputs": [],
   "source": []
  },
  {
   "cell_type": "markdown",
   "metadata": {},
   "source": [
    "## Analysis"
   ]
  },
  {
   "cell_type": "markdown",
   "metadata": {},
   "source": [
    "{ analysis goes here }"
   ]
  },
  {
   "cell_type": "markdown",
   "metadata": {},
   "source": [
    "# Experiment 4 (YoloV5 Agregation Preprocessing)\n",
    "\n",
    "### This section runs the experiments, prints results, and plots graphs for both dataset where ground truth labels are agregated into ground truth labels. This experiment also uses YoloV5 as the object detection algorithm"
   ]
  },
  {
   "cell_type": "markdown",
   "metadata": {},
   "source": [
    "## 4.1  CSall (Dataset 1)"
   ]
  },
  {
   "cell_type": "code",
   "execution_count": null,
   "metadata": {},
   "outputs": [],
   "source": []
  },
  {
   "cell_type": "code",
   "execution_count": null,
   "metadata": {},
   "outputs": [],
   "source": []
  },
  {
   "cell_type": "markdown",
   "metadata": {},
   "source": [
    "## 4.2  CSexp (Dataset 2)"
   ]
  },
  {
   "cell_type": "code",
   "execution_count": null,
   "metadata": {},
   "outputs": [],
   "source": []
  },
  {
   "cell_type": "code",
   "execution_count": null,
   "metadata": {},
   "outputs": [],
   "source": []
  },
  {
   "cell_type": "markdown",
   "metadata": {},
   "source": [
    "## Analysis"
   ]
  },
  {
   "cell_type": "markdown",
   "metadata": {},
   "source": [
    "{ analysis goes here }"
   ]
  },
  {
   "cell_type": "markdown",
   "metadata": {},
   "source": [
    "# Conclusion Experiment Set 2"
   ]
  },
  {
   "cell_type": "markdown",
   "metadata": {},
   "source": []
  }
 ],
 "metadata": {
  "kernelspec": {
   "display_name": "Python 3",
   "language": "python",
   "name": "python3"
  },
  "language_info": {
   "codemirror_mode": {
    "name": "ipython",
    "version": 3
   },
   "file_extension": ".py",
   "mimetype": "text/x-python",
   "name": "python",
   "nbconvert_exporter": "python",
   "pygments_lexer": "ipython3",
   "version": "3.8.3"
  }
 },
 "nbformat": 4,
 "nbformat_minor": 5
}
