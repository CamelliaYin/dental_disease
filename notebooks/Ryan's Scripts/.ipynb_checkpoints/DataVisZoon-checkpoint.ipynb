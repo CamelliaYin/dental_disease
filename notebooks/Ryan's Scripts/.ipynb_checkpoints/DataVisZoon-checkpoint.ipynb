{
 "cells": [
  {
   "cell_type": "markdown",
   "id": "5e580c94-e26e-42d6-b33a-6e4a3dd3208c",
   "metadata": {},
   "source": [
    "## This script analysis the zooniverse data so we can appropriatly preprocess the data"
   ]
  },
  {
   "cell_type": "code",
   "execution_count": 1,
   "id": "3b340ff1-2dce-4ba2-9c6d-18619e667bfd",
   "metadata": {},
   "outputs": [],
   "source": [
    "import numpy as np\n",
    "import pandas as pd"
   ]
  },
  {
   "cell_type": "code",
   "execution_count": 32,
   "id": "c96fdff7-da95-4d36-a875-752ca5b35ecc",
   "metadata": {},
   "outputs": [
    {
     "name": "stdout",
     "output_type": "stream",
     "text": [
      "Number of rows: \n",
      "Number of volunteers: \n",
      "Original Dataset Shape:  (22841, 14)\n",
      "ds2:  155358\n",
      "temp:  152194\n",
      "ds3:  chrispsimmons                         2029\n",
      "gracelltt                              880\n",
      "Agustinclossirrazabal                  700\n",
      "amandanicoletta                        473\n",
      "moiraparodi                            354\n",
      "                                      ... \n",
      "Chivite                                  3\n",
      "not-logged-in-5f75099a10057f15859e       3\n",
      "not-logged-in-31985c172473e0f3b154       3\n",
      "not-logged-in-eee77cbc5a5c45d7c14e       3\n",
      "RohanKorpal                              3\n",
      "Name: user_name, Length: 229, dtype: int64\n",
      "Number of rows after dropping undesirable rows: \n",
      "Number of volunteers after dropping undesirable rows: \n",
      "Distribution of annotations per volunteer before removing outlier : \n",
      "Distribution of annotations per volunteer after removing outlier : \n",
      "mode:  0    4\n",
      "dtype: int64\n",
      "0.25     5.0\n",
      "0.50    11.0\n",
      "0.75    30.0\n",
      "Name: user_name, dtype: float64\n"
     ]
    },
    {
     "data": {
      "image/png": "[encoded data removed]",
      "text/plain": [
       "<Figure size 432x288 with 1 Axes>"
      ]
     },
     "metadata": {
      "needs_background": "light"
     },
     "output_type": "display_data"
    }
   ],
   "source": [
    "# file path to zooniverse\n",
    "dataset = pd.read_csv (r'C:\\Users\\rb01243\\OneDrive - University of Surrey\\Desktop\\zoon data\\Labels\\dental-disease-labelling-easy-classifications.csv')\n",
    "\n",
    "# Parameter to choose the minimum number of classifications a volunteer has to complete\n",
    "minClss = 3\n",
    "\n",
    "\n",
    "print(\"Number of rows: \")\n",
    "print('Number of volunteers: ')\n",
    "\n",
    "\n",
    "print('Original Dataset Shape: ', dataset.shape)\n",
    "\n",
    "\n",
    "# removes banned users\n",
    "fle = open(\"banned.txt\", \"r\")\n",
    "banedUsers = eval(fle.read())\n",
    "for bnd in banedUsers:\n",
    "    dataset = dataset[dataset['user_name'] != bnd]\n",
    "    \n",
    "    \n",
    "ds2 = dataset[dataset[\"annotations\"].str.contains('\"value\":null') == False] # removes null bounding boxes\n",
    "ds2 = ds2[ds2[\"annotations\"].str.contains('\"value\":\\[]') == False] # removes empty classifications\n",
    "\n",
    "\n",
    "# removes rows with a null value in the annoation column\n",
    "\n",
    "\n",
    "# removes users with less that the desired number of classifications\n",
    "#ds2 = ds2[ds2.groupby('user_name').user_name.transform('count') >= minClss]\n",
    "\n",
    "ds3 = ds2['user_name'].astype(str)\n",
    "ds3 = ds3.value_counts()\n",
    "ds3 = ds3[ds3 >= minClss]\n",
    "\n",
    "\n",
    "print(\"Number of rows after dropping undesirable rows: \")\n",
    "\n",
    "\n",
    "print('Number of volunteers after dropping undesirable rows: ')\n",
    "    \n",
    "\n",
    "print(\"Distribution of annotations per volunteer before removing outlier : \")\n",
    "#ds3.hist(bins=50)\n",
    "\n",
    "# remove outlier volunteers that have\n",
    "ds4 = ds3[ds3 < 250]\n",
    "print(\"Distribution of annotations per volunteer after removing outlier : \")\n",
    "ds4.hist(bins=50)\n",
    "\n",
    "print('mode: ', ds3.mode())\n",
    "print(ds3.quantile([0.25,0.5,0.75]))"
   ]
  },
  {
   "cell_type": "code",
   "execution_count": null,
   "id": "a6204ed5-5d95-4431-b56d-a3a583f1ac78",
   "metadata": {},
   "outputs": [],
   "source": []
  }
 ],
 "metadata": {
  "kernelspec": {
   "display_name": "Python 3 (ipykernel)",
   "language": "python",
   "name": "python3"
  },
  "language_info": {
   "codemirror_mode": {
    "name": "ipython",
    "version": 3
   },
   "file_extension": ".py",
   "mimetype": "text/x-python",
   "name": "python",
   "nbconvert_exporter": "python",
   "pygments_lexer": "ipython3",
   "version": "3.9.7"
  }
 },
 "nbformat": 4,
 "nbformat_minor": 5
}
