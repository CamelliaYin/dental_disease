{
 "cells": [
  {
   "cell_type": "code",
   "execution_count": 36,
   "metadata": {},
   "outputs": [],
   "source": [
    "from shutil import copyfile\n",
    "from tqdm.notebook import tqdm\n",
    "import numpy as np\n",
    "import math\n",
    "import shutil\n",
    "import os"
   ]
  },
  {
   "cell_type": "code",
   "execution_count": 37,
   "metadata": {},
   "outputs": [],
   "source": [
    "def get_split_ratios(*args):\n",
    "    if len(args) == 1:\n",
    "        train = args[0]\n",
    "        test = 1.0 - train\n",
    "        val = 0.0\n",
    "    elif len(args) == 2:\n",
    "        train, test = args\n",
    "        val = 1.0 - (train+test)\n",
    "    elif len(args) == 3:\n",
    "        train, val, test = args\n",
    "    assert all([0 <= x <= 1 for x in [train, val, test]]), \"split ratios should be between 0 and 1\"\n",
    "    assert train+val+test, \"split ratios should add up to 1\"\n",
    "    return round(train, 2), round(val, 2), round(test, 2)\n",
    "\n",
    "def get_split_ids(n, ratios, seed=None):\n",
    "    if seed is not None:\n",
    "        np.random.seed(seed)\n",
    "    ids = np.arange(n)\n",
    "    np.random.shuffle(ids)\n",
    "    n_train = min(math.ceil(n * ratios[0]), n)\n",
    "    n_val = min(math.ceil(n * ratios[1]), n)\n",
    "    n_test = n - n_train - n_val\n",
    "    train, val, test = ids[:n_train], ids[n_train:n_train+n_val], ids[n_train+n_val:]\n",
    "    return train, val, test"
   ]
  },
  {
   "cell_type": "code",
   "execution_count": 38,
   "metadata": {},
   "outputs": [],
   "source": [
    "MASTER_NAME = 'master'\n",
    "IID_NAME = 'iid'\n",
    "BCC_NAME = 'bcc'\n",
    "EXPERT_NAMES = {'Jonathan'}\n",
    "\n",
    "SEED = 0 # Set as None for no seed.\n",
    "\n",
    "TOY_MODE = False\n",
    "NUM_TOY = 10\n",
    "\n",
    "SINGLE_MODE = False\n",
    "SINGLE_VOLUNTEER_NAME = 'Camellia'\n",
    "\n",
    "data_home_path = 'datasets'\n",
    "tr = (0.7, 0.2, 0.1)\n",
    "\n",
    "SUFFIX = None\n",
    "if tr[0]:\n",
    "    SUFFIX = 't'\n",
    "    if tr[1]:\n",
    "        SUFFIX += 'v'\n",
    "    if tr[2]:\n",
    "        SUFFIX += 't'\n",
    "\n",
    "if SUFFIX is not None:\n",
    "    IID_NAME = IID_NAME + '-' + SUFFIX\n",
    "    BCC_NAME = BCC_NAME + '-' + SUFFIX\n",
    "\n",
    "silent = True\n",
    "# def prepare_data(data_home_path, tr):\n",
    "master_data_path = os.path.join(data_home_path, MASTER_NAME)\n",
    "im_path = os.path.join(master_data_path, 'images')\n",
    "la_path = os.path.join(master_data_path, 'labels')\n",
    "users = list(sorted([x for x in os.listdir(la_path) if (not x.startswith('.'))]))\n",
    "experts = [x for x in users if x in EXPERT_NAMES]\n",
    "assert len(experts) == 1, 'Not implemented for more than one experts'\n",
    "volunteers = [x for x in users if x not in EXPERT_NAMES]\n",
    "if SINGLE_MODE:\n",
    "    volunteers = [SINGLE_VOLUNTEER_NAME]\n",
    "    if SINGLE_VOLUNTEER_NAME not in volunteers:\n",
    "        raise Exception('Choose a different single volunteer.')\n",
    "im_name_exts = list(sorted([os.path.splitext(x) for x in os.listdir(im_path) if (not x.startswith('.'))]))\n",
    "\n",
    "if TOY_MODE:\n",
    "    im_name_exts = im_name_exts[:NUM_TOY]\n",
    "\n",
    "n_images = len(im_name_exts)\n",
    "if isinstance(tr, float):\n",
    "    tr = (tr,)\n",
    "tr_ids, val_ids, te_ids = get_split_ids(n_images, get_split_ratios(*tr), seed=SEED)\n",
    "\n",
    "tr_im_name_exts = [im_name_exts[i] for i in tr_ids]\n",
    "val_im_name_exts = [im_name_exts[i] for i in val_ids]\n",
    "te_im_name_exts = [im_name_exts[i] for i in te_ids]\n",
    "\n",
    "mode_metadata_dict = {'train': tr_im_name_exts,\n",
    "                      'val': val_im_name_exts,\n",
    "                      'test': te_im_name_exts}"
   ]
  },
  {
   "cell_type": "code",
   "execution_count": 39,
   "metadata": {},
   "outputs": [
    {
     "data": {
      "application/vnd.jupyter.widget-view+json": {
       "model_id": "d110eb457ad24a458b5a9177bb875ef6",
       "version_major": 2,
       "version_minor": 0
      },
      "text/plain": [
       "  0%|          | 0/70 [00:00<?, ?it/s]"
      ]
     },
     "metadata": {},
     "output_type": "display_data"
    },
    {
     "data": {
      "application/vnd.jupyter.widget-view+json": {
       "model_id": "51afd41909c841a893c97a103eb5e51e",
       "version_major": 2,
       "version_minor": 0
      },
      "text/plain": [
       "  0%|          | 0/20 [00:00<?, ?it/s]"
      ]
     },
     "metadata": {},
     "output_type": "display_data"
    },
    {
     "data": {
      "application/vnd.jupyter.widget-view+json": {
       "model_id": "daf2d0c4ea294cc992cc39428abe7ba9",
       "version_major": 2,
       "version_minor": 0
      },
      "text/plain": [
       "  0%|          | 0/10 [00:00<?, ?it/s]"
      ]
     },
     "metadata": {},
     "output_type": "display_data"
    }
   ],
   "source": [
    "data_name = IID_NAME if not TOY_MODE else f'toy_{IID_NAME}'\n",
    "if SINGLE_MODE:\n",
    "    data_name = 'single_'+data_name\n",
    "    \n",
    "iid_data_path = os.path.join(data_home_path, data_name)\n",
    "if os.path.exists(iid_data_path):\n",
    "    raise Exception('Path already exists. Not recreating data')\n",
    "    shutil.rmtree(iid_data_path)\n",
    "os.mkdir(iid_data_path)\n",
    "iid_im_path = os.path.join(iid_data_path, 'images')\n",
    "if not os.path.exists(iid_im_path):\n",
    "    os.mkdir(iid_im_path)\n",
    "iid_la_path = os.path.join(iid_data_path, 'labels')\n",
    "if not os.path.exists(iid_la_path):\n",
    "    os.mkdir(iid_la_path)\n",
    "\n",
    "for mode, metadata in mode_metadata_dict.items():\n",
    "    if mode == 'train':\n",
    "        labellers = volunteers\n",
    "    elif mode == 'val':\n",
    "        if SUFFIX == 'tt':\n",
    "            continue\n",
    "        labellers = experts if SUFFIX == 'tv' else volunteers\n",
    "    elif mode == 'test':\n",
    "        if SUFFIX == 'tv':\n",
    "            continue\n",
    "        labellers = experts\n",
    "    else:\n",
    "        raise Exception('Mode not identified.')\n",
    "    iid_im_mode_dir_path = os.path.join(iid_im_path, mode)\n",
    "    iid_la_mode_dir_path = os.path.join(iid_la_path, mode)\n",
    "    if not os.path.exists(iid_im_mode_dir_path):\n",
    "        os.mkdir(iid_im_mode_dir_path)\n",
    "    if not os.path.exists(iid_la_mode_dir_path):\n",
    "        os.mkdir(iid_la_mode_dir_path)\n",
    "    for name, im_ext in tqdm(metadata):\n",
    "        im_file_name = f'{name}{im_ext}'\n",
    "        la_file_name = f'{name}.txt'\n",
    "        im_file_path = os.path.join(im_path, im_file_name)\n",
    "        for v in labellers:\n",
    "            iid_name = f'{name}.{v}'\n",
    "            iid_im_file_name = f'{iid_name}{im_ext}'\n",
    "            iid_im_file_path = os.path.join(iid_im_mode_dir_path, iid_im_file_name)\n",
    "            if not silent:\n",
    "                print(f'Copying {im_file_path} --> {iid_im_file_path}')\n",
    "            copyfile(im_file_path, iid_im_file_path)\n",
    "\n",
    "            iid_la_file_name = f'{iid_name}.txt'\n",
    "            iid_la_file_path = os.path.join(iid_la_mode_dir_path, iid_la_file_name)\n",
    "            la_file_path = os.path.join(la_path, v, la_file_name)\n",
    "            if not os.path.exists(la_file_path):\n",
    "                continue\n",
    "            if not silent:\n",
    "                print(f'Copying {la_file_path} --> {iid_la_file_path}')\n",
    "            copyfile(la_file_path, iid_la_file_path)"
   ]
  },
  {
   "cell_type": "code",
   "execution_count": 40,
   "metadata": {},
   "outputs": [
    {
     "data": {
      "application/vnd.jupyter.widget-view+json": {
       "model_id": "9985e916ebaa448ca6d03603c09d7ce9",
       "version_major": 2,
       "version_minor": 0
      },
      "text/plain": [
       "  0%|          | 0/70 [00:00<?, ?it/s]"
      ]
     },
     "metadata": {},
     "output_type": "display_data"
    },
    {
     "name": "stdout",
     "output_type": "stream",
     "text": [
      "File datasets/master/labels/Camellia/Unknown-X-20200212-092216-XDBJPMNCZREY-3.txt not found.\n",
      "File datasets/master/labels/Xiongjie/Unknown-X-20200225-092500-XZUSY3XEHGK5-3.txt not found.\n",
      "File datasets/master/labels/Camellia/Unknown-X-20191113-111853-XYYUCGZJHAAT-3.txt not found.\n",
      "File datasets/master/labels/Camellia/Unknown-X-20191115-092306-XEMAYUBISHR7-3.txt not found.\n",
      "File datasets/master/labels/Conghui/IS20190916_155531_0888_00003368.txt not found.\n",
      "File datasets/master/labels/Camellia/IX20191024_142538_0552_00003761.txt not found.\n",
      "File datasets/master/labels/Conghui/IX20191024_142538_0552_00003761.txt not found.\n",
      "File datasets/master/labels/HaoWen/IX20191024_142538_0552_00003761.txt not found.\n",
      "File datasets/master/labels/Xiongjie/IX20191024_142538_0552_00003761.txt not found.\n",
      "File datasets/master/labels/Camellia/IX20191023_142706_0883_0000373E.txt not found.\n",
      "File datasets/master/labels/Conghui/IX20191023_142706_0883_0000373E.txt not found.\n",
      "File datasets/master/labels/HaoWen/IX20191023_142706_0883_0000373E.txt not found.\n",
      "File datasets/master/labels/Xiongjie/IX20191023_142706_0883_0000373E.txt not found.\n",
      "File datasets/master/labels/Camellia/Unknown-X-20191218-111517-XOZF1OGO8U5N-3.txt not found.\n",
      "File datasets/master/labels/Conghui/Unknown-X-20191218-111517-XOZF1OGO8U5N-3.txt not found.\n",
      "File datasets/master/labels/HaoWen/Unknown-X-20191218-111517-XOZF1OGO8U5N-3.txt not found.\n",
      "File datasets/master/labels/Xiongjie/Unknown-X-20191218-111517-XOZF1OGO8U5N-3.txt not found.\n",
      "File datasets/master/labels/Camellia/Unknown-X-20191122-123736-XZRY1XY1FPX3-3.txt not found.\n"
     ]
    },
    {
     "data": {
      "application/vnd.jupyter.widget-view+json": {
       "model_id": "d0edb2e0420244e6829606a2a802fba5",
       "version_major": 2,
       "version_minor": 0
      },
      "text/plain": [
       "  0%|          | 0/20 [00:00<?, ?it/s]"
      ]
     },
     "metadata": {},
     "output_type": "display_data"
    },
    {
     "name": "stdout",
     "output_type": "stream",
     "text": [
      "File datasets/master/labels/Camellia/Unknown-X-20200108-162424-XJTVFFN98KRL-3.txt not found.\n",
      "File datasets/master/labels/Conghui/Unknown-X-20200108-162424-XJTVFFN98KRL-3.txt not found.\n",
      "File datasets/master/labels/HaoWen/Unknown-X-20200108-162424-XJTVFFN98KRL-3.txt not found.\n",
      "File datasets/master/labels/Xiongjie/Unknown-X-20200108-162424-XJTVFFN98KRL-3.txt not found.\n",
      "File datasets/master/labels/Camellia/Unknown-X-20200108-120416-XDI5AZK8EAY1-3.txt not found.\n",
      "File datasets/master/labels/Conghui/Unknown-X-20200108-120416-XDI5AZK8EAY1-3.txt not found.\n",
      "File datasets/master/labels/HaoWen/Unknown-X-20200108-120416-XDI5AZK8EAY1-3.txt not found.\n",
      "File datasets/master/labels/Xiongjie/Unknown-X-20200108-120416-XDI5AZK8EAY1-3.txt not found.\n",
      "File datasets/master/labels/Camellia/Unknown-X-20200206-103145-XGYENCEPQD41-3.txt not found.\n",
      "File datasets/master/labels/Conghui/Unknown-X-20200206-103145-XGYENCEPQD41-3.txt not found.\n",
      "File datasets/master/labels/HaoWen/Unknown-X-20200206-103145-XGYENCEPQD41-3.txt not found.\n",
      "File datasets/master/labels/Xiongjie/Unknown-X-20200206-103145-XGYENCEPQD41-3.txt not found.\n",
      "File datasets/master/labels/Xiongjie/IS20191125_105634_0062_000039C9.txt not found.\n"
     ]
    },
    {
     "data": {
      "application/vnd.jupyter.widget-view+json": {
       "model_id": "9ed6b31ee61b4e2b9c22b18061dbe16a",
       "version_major": 2,
       "version_minor": 0
      },
      "text/plain": [
       "  0%|          | 0/10 [00:00<?, ?it/s]"
      ]
     },
     "metadata": {},
     "output_type": "display_data"
    }
   ],
   "source": [
    "data_name = BCC_NAME if not TOY_MODE else f\"toy_{BCC_NAME}\"\n",
    "if SINGLE_MODE:\n",
    "    data_name = 'single_'+data_name\n",
    "bcc_data_path = os.path.join(data_home_path, data_name)\n",
    "if os.path.exists(bcc_data_path):\n",
    "    raise Exception('Path already exists. Not recreating data.')\n",
    "    shutil.rmtree(bcc_data_path)\n",
    "os.mkdir(bcc_data_path)\n",
    "bcc_im_path = os.path.join(bcc_data_path, 'images')\n",
    "if not os.path.exists(bcc_im_path):\n",
    "    os.mkdir(bcc_im_path)\n",
    "bcc_la_path = os.path.join(bcc_data_path, 'labels')\n",
    "if not os.path.exists(bcc_la_path):\n",
    "    os.mkdir(bcc_la_path)\n",
    "bcc_vol_path = os.path.join(bcc_data_path, 'volunteers')\n",
    "if not os.path.exists(bcc_vol_path):\n",
    "    os.mkdir(bcc_vol_path)\n",
    "\n",
    "for mode, metadata in mode_metadata_dict.items():\n",
    "    if mode == 'train':\n",
    "        labellers = volunteers\n",
    "    elif mode == 'val':\n",
    "        if SUFFIX == 'tt':\n",
    "            continue\n",
    "        labellers = experts if SUFFIX == 'tv' else volunteers\n",
    "    elif mode == 'test':\n",
    "        if SUFFIX == 'tv':\n",
    "            continue\n",
    "        labellers = experts\n",
    "    else:\n",
    "        raise Exception('Mode not identified.')\n",
    "    bcc_im_mode_dir_path = os.path.join(bcc_im_path, mode)\n",
    "    bcc_la_mode_dir_path = os.path.join(bcc_la_path, mode)\n",
    "    bcc_vol_mode_dir_path = os.path.join(bcc_vol_path, mode)\n",
    "    if not os.path.exists(bcc_im_mode_dir_path):\n",
    "        os.mkdir(bcc_im_mode_dir_path)\n",
    "    if not os.path.exists(bcc_la_mode_dir_path):\n",
    "        os.mkdir(bcc_la_mode_dir_path)\n",
    "    if not os.path.exists(bcc_vol_mode_dir_path):\n",
    "        os.mkdir(bcc_vol_mode_dir_path)\n",
    "    for name, im_ext in tqdm(metadata):\n",
    "        im_file_name = f'{name}{im_ext}'\n",
    "        la_file_name = f'{name}.txt'\n",
    "        im_file_path = os.path.join(im_path, im_file_name)\n",
    "        bcc_name = name\n",
    "        bcc_im_file_name = f'{bcc_name}{im_ext}'\n",
    "        bcc_im_file_path = os.path.join(bcc_im_mode_dir_path, bcc_im_file_name)\n",
    "        if not silent:\n",
    "            print(f'Copying {im_file_path} --> {bcc_im_file_path}')\n",
    "        copyfile(im_file_path, bcc_im_file_path)\n",
    "        bcc_la_file_name = f'{bcc_name}.txt'\n",
    "        bcc_la_file_path = os.path.join(bcc_la_mode_dir_path, bcc_la_file_name)\n",
    "        lab_list = []\n",
    "        with open(bcc_la_file_path, 'w') as bcc_file:\n",
    "            for lab in labellers:\n",
    "                lab_la_file_path = os.path.join(la_path, lab, la_file_name)\n",
    "                try:\n",
    "                    with open(lab_la_file_path) as lab_file:\n",
    "                        lines = lab_file.readlines()\n",
    "                        bcc_file.write(''.join(lines))\n",
    "                        lab_list.extend([lab]*len(lines))\n",
    "                except FileNotFoundError:\n",
    "                    print(f'File {lab_la_file_path} not found.')\n",
    "        bcc_vol_file_name = f'{name}.txt'\n",
    "        bcc_vol_file_path = os.path.join(bcc_vol_mode_dir_path, bcc_vol_file_name)\n",
    "#         print(lab_list)\n",
    "        with open(bcc_vol_file_path, 'w') as bcc_vol_file:\n",
    "            bcc_vol_file.write('\\n'.join(lab_list) + ('\\n' if len(lab_list) > 0 else ''))"
   ]
  },
  {
   "cell_type": "code",
   "execution_count": null,
   "metadata": {},
   "outputs": [],
   "source": []
  },
  {
   "cell_type": "code",
   "execution_count": null,
   "metadata": {},
   "outputs": [],
   "source": []
  },
  {
   "cell_type": "code",
   "execution_count": null,
   "metadata": {},
   "outputs": [],
   "source": []
  }
 ],
 "metadata": {
  "kernelspec": {
   "display_name": "Python 3",
   "language": "python",
   "name": "python3"
  },
  "language_info": {
   "codemirror_mode": {
    "name": "ipython",
    "version": 3
   },
   "file_extension": ".py",
   "mimetype": "text/x-python",
   "name": "python",
   "nbconvert_exporter": "python",
   "pygments_lexer": "ipython3",
   "version": "3.8.3"
  }
 },
 "nbformat": 4,
 "nbformat_minor": 5
}
