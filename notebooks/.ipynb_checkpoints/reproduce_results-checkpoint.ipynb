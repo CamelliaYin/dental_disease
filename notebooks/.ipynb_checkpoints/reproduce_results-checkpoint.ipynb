{
 "cells": [
  {
   "cell_type": "markdown",
   "id": "ece95adf",
   "metadata": {},
   "source": [
    "# Crowd-YOLO (CYOLO)\n",
    "- Step 0: Prepare necessary environment\n",
    "- Step 1: Prepare data\n",
    "- Step 2: Run experiments"
   ]
  },
  {
   "cell_type": "markdown",
   "id": "6326fc0e",
   "metadata": {},
   "source": [
    "### Step 0: Prepare necessary environment\n",
    "- Ensure that there exists \"master\" data:\n",
    "  - Images (`<data_directory>/images/<image_name>.jpg`)\n",
    "  - Labels (`<data_directory>/labels/<volunteer_name>/<image_name>.txt`)\n",
    "    - Experts would give ground-truth labels\n",
    "    - Non-experts would give crowdsourced labels\n",
    "- From the master data, we prepare multiple datasets for multiple experiments based on the following modes:\n",
    "  - Size (**sz**) modes: toy (**to**), full (**fu**)\n",
    "    - When in the toy mode, we only use a small sample of images (and their annotations). This is done mainly to check that our code works well. It's only a unit-test for our code. But the main experiment would be conducted on the full data (in the full (**fu**) mode).\n",
    "  - Multiplicity (**ml**) modes: single (**si**), all (**all**)\n",
    "    - To use labels from a single (**si**) labeller or multiple (**all**) labellers.\n",
    "  - Train-Validation-Test modes:\n",
    "    - Train (**tr**), Validation (**va**), Test (**te**)\n",
    "      - What data to be used for training, validation, and testing of the model learnt.\n",
    "    - Experts (**e**), Non-experts (**ne**)\n",
    "      - Since labellers could either be experts or non-experts, we need to decide whether we want to use labels from experts or from non-experts. See below for examples.\n",
    "    - Repeated (**r**), Crowdsourced (**c**)\n",
    "      - If an algorithm that accepts training data in the usual form (i.e., one set of labels per image), we resolve \"multiple\" labellers' labels by repeating the (image, labels) combination as many number of times as there are labellers. More clearly, if we have a dataset as follows:\n",
    "        - $(x_1, (y_{11}, y_{12}, \\cdots, y_{1k_1}))$\n",
    "        - $(x_2, (y_{21}, y_{22}, \\cdots, y_{2k_2}))$\n",
    "        - $\\vdots$\n",
    "        - $(x_n, (y_{n1}, y_{n2}, \\cdots, y_{nk_n}))$,\n",
    "      \n",
    "        having $n$ images, with the $i^\\text{th}$ image $x_i$ having labelled by $k_i$ labellers giving labels $y_{i1}, y_{i2}, \\cdots, y_{ik_i}$. To use YOLO, a usual object detection algorithm, we transform this data via the \"repeated\" (**r**) mode into $\\sum_{i=1}^{n}{k_i}$ (data, label) combinations:\n",
    "        - $(x_1, y_{11})$\n",
    "        - $(x_1, y_{12})$\n",
    "        - $\\cdots$\n",
    "        - $(x_1, y_{1k_1})$,\n",
    "        - $(x_2, y_{21})$\n",
    "        - $(x_2, y_{22})$\n",
    "        - $\\cdots$\n",
    "        - $(x_2, y_{2k_2})$,\n",
    "        - $\\vdots$\n",
    "        - $(x_n, y_{n1})$\n",
    "        - $(x_n, y_{n2})$\n",
    "        - $\\cdots$\n",
    "        - $(x_n, y_{nk_n})$.\n",
    "        \n",
    "      - To be able to make use of the crowdsourced labels fully, we use Crowd-YOLO, and this is when we go with the \"crowdsourced\" (**c**) mode.\n",
    "- For example, when running YOLO (without BCC), we have the following mode settings:\n",
    "  - Size mode: full (**sz=fu**)\n",
    "  - Multiplicity mode: multiple (**ml=all**)\n",
    "  - Train-Validation-Test mode:\n",
    "    - Train on non-expert repeated (iid) data: **tr=ner**\n",
    "    - Validation on non-expert repeated (iid) data: **va=ner**\n",
    "    - Test on expert repeated (iid) data: **te=er**\n",
    "- But when running CYOLO (i.e., Crowd-YOLO), we have the following mode settings:\n",
    "  - Size mode: full (**sz=fu**)\n",
    "  - Multiplicity mode: multiple (**ml=all**)\n",
    "  - Train-Validation-Test mode:\n",
    "    - Train on non-expert crowdsourced data: **tr=nec**\n",
    "    - Validation on non-expert repeated (iid) data: **va=ner**\n",
    "    - Test on expert repeated (iid) data: **te=er**\n",
    "- The modes that we use:\n",
    "  - `singletoy-yolo`: **sz_to.ml_si.tr_ner.va_ner.te_er** --> For a quick run on the toy data using labels from a single volunteer for YOLO.\n",
    "  - `singlefull-yolo`: **sz_fu.ml_si.tr_ner.va_ner.te_er** --> For the full data using labels from a single volunteer for YOLO.\n",
    "  - `alltoy-yolo`: **sz_to.ml_all.tr_ner.va_ner.te_er** --> For a quick run on the toy data using all volunteers' labels for YOLO.\n",
    "  - `allfull-yolo`: **sz_fu.ml_all.tr_ner.va_ner.te_er** --> For the full data using all volunteers' labels for YOLO.\n",
    "  - `singletoy-cyolo`: **sz_to.ml_si.tr_nec.va_ner.te_er** --> For a quick run on the toy data using labels from a single volunteer for CYOLO.\n",
    "  - `singlefull-cyolo`: **sz_fu.ml_si.tr_nec.va_ner.te_er** --> For the full data using labels from a single volunteer for CYOLO.\n",
    "  - `multipletoy-cyolo`: **sz_to.ml_all.tr_nec.va_ner.te_er** --> For a quick run on the toy data using all volunteers' labels for CYOLO.\n",
    "  - `multiplefull-cyolo`: **sz_fu.ml_all.tr_nec.va_ner.te_er** --> For the full data using all volunteers' labels for CYOLO."
   ]
  },
  {
   "cell_type": "markdown",
   "id": "e19073bb",
   "metadata": {},
   "source": [
    "### Step 1: Prepare data"
   ]
  },
  {
   "cell_type": "code",
   "execution_count": 10,
   "id": "2aaeaee5",
   "metadata": {},
   "outputs": [],
   "source": [
    "import sys\n",
    "import os"
   ]
  },
  {
   "cell_type": "code",
   "execution_count": 11,
   "id": "26f61dc1",
   "metadata": {},
   "outputs": [],
   "source": [
    "PROJ_PATH = '..'\n",
    "sys.path.append(PROJ_PATH)"
   ]
  },
  {
   "cell_type": "code",
   "execution_count": 12,
   "id": "ea62dbd3",
   "metadata": {},
   "outputs": [],
   "source": [
    "from src.data_preparer import prepare_data"
   ]
  },
  {
   "cell_type": "code",
   "execution_count": 13,
   "id": "2587ec08",
   "metadata": {},
   "outputs": [],
   "source": [
    "SRC_PATH = os.path.join(PROJ_PATH, 'src')\n",
    "DATA_PATH = os.path.join(PROJ_PATH, 'data/datasets')"
   ]
  },
  {
   "cell_type": "code",
   "execution_count": 5,
   "id": "a6a248b7",
   "metadata": {},
   "outputs": [],
   "source": [
    "data_modes = ['sty', 'stcy']"
   ]
  },
  {
   "cell_type": "code",
   "execution_count": 6,
   "id": "150a3585",
   "metadata": {
    "scrolled": false
   },
   "outputs": [
    {
     "ename": "Exception",
     "evalue": "Path already exists. Not recreating data",
     "output_type": "error",
     "traceback": [
      "\u001b[0;31m---------------------------------------------------------------------------\u001b[0m",
      "\u001b[0;31mException\u001b[0m                                 Traceback (most recent call last)",
      "\u001b[0;32m<ipython-input-6-1fda90aff6de>\u001b[0m in \u001b[0;36m<module>\u001b[0;34m\u001b[0m\n\u001b[1;32m      2\u001b[0m \u001b[0mdata_path\u001b[0m \u001b[0;34m=\u001b[0m \u001b[0mDATA_PATH\u001b[0m\u001b[0;34m\u001b[0m\u001b[0;34m\u001b[0m\u001b[0m\n\u001b[1;32m      3\u001b[0m \u001b[0;32mfor\u001b[0m \u001b[0mmode\u001b[0m \u001b[0;32min\u001b[0m \u001b[0mdata_modes\u001b[0m\u001b[0;34m:\u001b[0m\u001b[0;34m\u001b[0m\u001b[0;34m\u001b[0m\u001b[0m\n\u001b[0;32m----> 4\u001b[0;31m     \u001b[0mprepare_data\u001b[0m\u001b[0;34m(\u001b[0m\u001b[0mmode\u001b[0m\u001b[0;34m,\u001b[0m \u001b[0mtrain_ratios\u001b[0m\u001b[0;34m,\u001b[0m \u001b[0mdata_path\u001b[0m\u001b[0;34m)\u001b[0m\u001b[0;34m\u001b[0m\u001b[0;34m\u001b[0m\u001b[0m\n\u001b[0m",
      "\u001b[0;32m~/repos/dental_disease/src/data_preparer.py\u001b[0m in \u001b[0;36mprepare_data\u001b[0;34m(mode, train_ratios, data_path)\u001b[0m\n\u001b[1;32m    146\u001b[0m     \u001b[0miid_data_path\u001b[0m \u001b[0;34m=\u001b[0m \u001b[0mos\u001b[0m\u001b[0;34m.\u001b[0m\u001b[0mpath\u001b[0m\u001b[0;34m.\u001b[0m\u001b[0mjoin\u001b[0m\u001b[0;34m(\u001b[0m\u001b[0mdata_home_path\u001b[0m\u001b[0;34m,\u001b[0m \u001b[0mdata_name\u001b[0m\u001b[0;34m)\u001b[0m\u001b[0;34m\u001b[0m\u001b[0;34m\u001b[0m\u001b[0m\n\u001b[1;32m    147\u001b[0m     \u001b[0;32mif\u001b[0m \u001b[0mos\u001b[0m\u001b[0;34m.\u001b[0m\u001b[0mpath\u001b[0m\u001b[0;34m.\u001b[0m\u001b[0mexists\u001b[0m\u001b[0;34m(\u001b[0m\u001b[0miid_data_path\u001b[0m\u001b[0;34m)\u001b[0m\u001b[0;34m:\u001b[0m\u001b[0;34m\u001b[0m\u001b[0;34m\u001b[0m\u001b[0m\n\u001b[0;32m--> 148\u001b[0;31m         \u001b[0;32mraise\u001b[0m \u001b[0mException\u001b[0m\u001b[0;34m(\u001b[0m\u001b[0;34m'Path already exists. Not recreating data'\u001b[0m\u001b[0;34m)\u001b[0m\u001b[0;34m\u001b[0m\u001b[0;34m\u001b[0m\u001b[0m\n\u001b[0m\u001b[1;32m    149\u001b[0m         \u001b[0mshutil\u001b[0m\u001b[0;34m.\u001b[0m\u001b[0mrmtree\u001b[0m\u001b[0;34m(\u001b[0m\u001b[0miid_data_path\u001b[0m\u001b[0;34m)\u001b[0m\u001b[0;34m\u001b[0m\u001b[0;34m\u001b[0m\u001b[0m\n\u001b[1;32m    150\u001b[0m     \u001b[0mos\u001b[0m\u001b[0;34m.\u001b[0m\u001b[0mmkdir\u001b[0m\u001b[0;34m(\u001b[0m\u001b[0miid_data_path\u001b[0m\u001b[0;34m)\u001b[0m\u001b[0;34m\u001b[0m\u001b[0;34m\u001b[0m\u001b[0m\n",
      "\u001b[0;31mException\u001b[0m: Path already exists. Not recreating data"
     ]
    }
   ],
   "source": [
    "train_ratios = (0.7, 0.2, 0.1)\n",
    "data_path = DATA_PATH\n",
    "for mode in data_modes:\n",
    "    prepare_data(mode, train_ratios, data_path)"
   ]
  },
  {
   "cell_type": "code",
   "execution_count": 19,
   "id": "148b6d1a",
   "metadata": {},
   "outputs": [],
   "source": [
    "data = '../data/cyolo.yaml'\n",
    "batch_size = 20 # Change this to number of train images\n",
    "epochs = 1\n",
    "bcc_epoch = 0 # Involve BCC from epoch number \"bcc_epoch\". Set to -1 for no BCC. 0 for all BCC."
   ]
  },
  {
   "cell_type": "code",
   "execution_count": 21,
   "id": "4edad4c0",
   "metadata": {},
   "outputs": [
    {
     "name": "stdout",
     "output_type": "stream",
     "text": [
      "\u001b[34m\u001b[1mtrain: \u001b[0mbcc_epochs=0, qtfilter_epoch=-1, qt_thres_mode=, qt_thres=0.0, hybrid_entropy_thres=0.0, hybrid_conf_thres=0.0, weights=yolov5s.pt, cfg=, data=../data/cyolo.yaml, hyp=../data/hyps/hyp.scratch.yaml, epochs=1, batch_size=20, imgsz=640, rect=False, resume=False, nosave=False, noval=False, noautoanchor=False, evolve=None, bucket=, cache=None, image_weights=False, device=, multi_scale=False, single_cls=False, adam=False, sync_bn=False, workers=8, project=runs/train, entity=None, name=exp, exist_ok=False, quad=False, linear_lr=False, label_smoothing=0.0, upload_dataset=False, bbox_interval=-1, save_period=-1, artifact_alias=latest, local_rank=-1, freeze=0, patience=1100\n",
      "\u001b[34m\u001b[1mgithub: \u001b[0mskipping check (not a git repository), for updates see https://github.com/ultralytics/yolov5\n",
      "\u001b[31m\u001b[1mrequirements:\u001b[0m /Users/gs0029/repos/dental_disease/src/requirements.txt not found, check failed.\n",
      "YOLOv5 🚀 e27cbbd torch 1.9.0 CPU\n",
      "\n",
      "Traceback (most recent call last):\n",
      "  File \"../src/train.py\", line 716, in <module>\n",
      "    main(opt)\n",
      "  File \"../src/train.py\", line 614, in main\n",
      "    train(opt.hyp, opt, device)\n",
      "  File \"../src/train.py\", line 73, in train\n",
      "    bcc_epoch = opt.bcc_epoch\n",
      "AttributeError: 'Namespace' object has no attribute 'bcc_epoch'\n"
     ]
    }
   ],
   "source": [
    "!python $SRC_PATH/train.py --data $data \\\n",
    "                           --batch-size $batch_size \\\n",
    "                           --epochs $epochs \\\n",
    "                           --bcc_epoch $bcc_epoch"
   ]
  },
  {
   "cell_type": "code",
   "execution_count": null,
   "id": "7abde85c",
   "metadata": {},
   "outputs": [],
   "source": []
  }
 ],
 "metadata": {
  "kernelspec": {
   "display_name": "Python 3",
   "language": "python",
   "name": "python3"
  },
  "language_info": {
   "codemirror_mode": {
    "name": "ipython",
    "version": 3
   },
   "file_extension": ".py",
   "mimetype": "text/x-python",
   "name": "python",
   "nbconvert_exporter": "python",
   "pygments_lexer": "ipython3",
   "version": "3.8.8"
  }
 },
 "nbformat": 4,
 "nbformat_minor": 5
}
