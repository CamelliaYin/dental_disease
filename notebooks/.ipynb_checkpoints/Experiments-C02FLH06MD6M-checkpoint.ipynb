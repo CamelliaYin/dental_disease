{
 "cells": [
  {
   "cell_type": "markdown",
   "id": "97e95df8-f52b-4916-962f-1dbee57e6dab",
   "metadata": {},
   "source": [
    "# Experiments\n",
    "\n",
    "This notebook contains all the experiments conducted for the paper"
   ]
  },
  {
   "cell_type": "markdown",
   "id": "7163d8c9-08fd-40ab-8e3e-793982519701",
   "metadata": {},
   "source": [
    "## Experiment Set 1"
   ]
  },
  {
   "cell_type": "markdown",
   "id": "b2f0beb8-b7aa-47f1-b244-8a7fb4b3b3e4",
   "metadata": {},
   "source": [
    "### This experiment set is to test the results using the smaller test dataset of 5 annotators (including 1 expert). Results are reproduced from the development of the crowd yolo model, compared to other models using the same dataset."
   ]
  },
  {
   "cell_type": "markdown",
   "id": "d8253cc6-77ab-4c1c-9819-679b473f5f36",
   "metadata": {},
   "source": [
    "The dataset used is a small dataset of 100 radiographs with 5 annotators (500 sets of labels) one of which is compleeted by a dental expert. The expert labels are separated and used as ground truth labels for the test dataset.\n",
    "\n",
    "\n",
    "There are 4 models/techniques to expeiment:\n",
    "- `Crowd Yolo`: A combination of YoloV5 object detection algorithm and a bayesian classifier combination network BCCNet (a network that decides the annotators value as an annotator inorder to train the yolo model). (main model the paper is about)\n",
    "- `Crowd RCNN`: Another crowdsourced object detection model using an RCNN object detection model and a bayesian classifier combination network BCCNet (This main model we are comparing the results to)\n",
    "- `YoloV5 IID`: This model doesn't have crowdsourcing functionality and is just YoloV5 object detection. The data to train this model has to be treated as ground truth data, so a separate dataset is used where different annotators for a single image are separated and treated as individual ground truth labels..\n",
    "- `YoloV5 Agregation Preprocessing`: This algorithm agregates nearby labels of the same disease to create ground truth labels from crowdsourced labels (Not Machine learning). It will also use yoloV5 for the object detection `MIGHT NOT BE NEEDED`\n",
    "\n",
    "\n",
    "`ALL MODELS HAVE HYPERPAMETER TUNING AND ARE TRAINED TO THE BEST OF OUR ABILITY`"
   ]
  },
  {
   "cell_type": "markdown",
   "id": "52f47de0-ab8b-4c58-b113-956638f4eb9e",
   "metadata": {},
   "source": [
    "|  | `Dataset 1 (All Annotators) [CSall]` | `Test Data (Ground Truth) [GTtest]` |\n",
    "|---|---|---|\n",
    "| `Crowd Yolo` | Expert and non-expert Crowdsourced data | `Expert ground truth unseen data. Used as the test dataset for both train datasets.` |\n",
    "| `Crowd  RCNN` | Expert and non-expert Crowdsourced data | `Expert ground truth unseen data. Used as the test dataset for both train datasets.` |\n",
    "| `YoloV5 IID` | Images are repeated and labels are separated to act as ground trouth labels for each radiograph (from same dataset) | `Expert ground truth unseen data. Used as the test dataset for both train datasets.` |\n",
    "| `MIGHT NOT BE NEEDED` `YoloV5 Agregation Preprocessing` | Expert and non-expert Crowdsourced data agregated into ground truth labels | `Expert ground truth unseen data. Used as the test dataset for both train datasets.` |\n"
   ]
  },
  {
   "cell_type": "markdown",
   "id": "c315ee6b-3bf7-490c-9d27-5f59280518f9",
   "metadata": {},
   "source": [
    "## Experiment Set 2"
   ]
  },
  {
   "cell_type": "markdown",
   "id": "becaeccc-cdee-4fa8-8aed-1ebdc7cb72e3",
   "metadata": {},
   "source": [
    "There are 3 datasets used in these experiments:\n",
    "- `Dataset 1 (CSall)`: Crowdsourced with both expert and non-expert labels \n",
    "- `Dataset 2 (CSexp)`: Crowdsourced (same dataset as above) with just expert labels filtered, no non-expert labels.  \n",
    "- `Test Dataset (GTtest)`: Expert only ground truth labels with unseen data (small dataset completed by a single expert)\n",
    "\n",
    "There are 4 models/techniques to expeiment:\n",
    "- `Crowd Yolo`: A combination of YoloV5 object detection algorithm and a bayesian classifier combination network BCCNet (a network that decides the annotators value as an annotator inorder to train the yolo model). (main model the paper is about)\n",
    "- `Crowd RCNN`: Another crowdsourced object detection model using an RCNN object detection model and a bayesian classifier combination network BCCNet (This main model we are comparing the results to)\n",
    "- `YoloV5 IID`: This model doesn't have crowdsourcing functionality and is just YoloV5 object detection. The data to train this model has to be treated as ground truth data, so a separate dataset is used where different annotators for a single image are separated and treated as individual ground truth labels..\n",
    "- `YoloV5 Agregation Preprocessing`: This algorithm agregates nearby labels of the same disease to create ground truth labels from crowdsourced labels (Not Machine learning). It will also use yoloV5 for the object detection `MIGHT NOT BE NEEDED`\n",
    "\n",
    "\n",
    "`ALL MODELS HAVE HYPERPAMETER TUNING AND ARE TRAINED TO THE BEST OF OUR ABILITY`"
   ]
  },
  {
   "cell_type": "markdown",
   "id": "6bd9a1f8-2c21-4857-bdd3-240e4da9d9fa",
   "metadata": {},
   "source": [
    "|  | `Dataset 1 (All Annotators) [CSall]` | `Dataset 2 (Expert Labels Only) [CSexp]` | `Test Data (Ground Truth) [GTtest]` |\n",
    "|---|---|---|---|\n",
    "| `Crowd Yolo` | Expert and non-expert Crowdsourced data | Expert Crowdsourced data | `Expert ground truth unseen data. Used as the test dataset for both train datasets.` |\n",
    "| `Crowd  RCNN` | Expert and non-expert Crowdsourced data | Expert Crowdsourced data | `Expert ground truth unseen data. Used as the test dataset for both train datasets.` |\n",
    "| `YoloV5 IID` | Images are repeated and labels are separated to act as ground trouth labels for each radiograph (from same dataset) | Images are repeated and labels are separated to act as ground trouth labels only for expert annotator labels for each radiograph (from same dataset) | `Expert ground truth unseen data. Used as the test dataset for both train datasets.` |\n",
    "| `MIGHT NOT BE NEEDED` `YoloV5 Agregation Preprocessing` | Expert and non-expert Crowdsourced data agregated into ground truth labels | Expert only Crowdsourced data agregated into ground truth labels | `Expert ground truth unseen data. Used as the test dataset for both train datasets.` |\n",
    "\n",
    "LAST ONE MIGHT NOT BE NEEDED"
   ]
  },
  {
   "cell_type": "markdown",
   "id": "e229c0ec-b3ea-4422-ba99-5e573f862ce9",
   "metadata": {},
   "source": [
    "## Installs"
   ]
  },
  {
   "cell_type": "markdown",
   "id": "3d55803f-149f-4020-bbfc-980fe8391013",
   "metadata": {},
   "source": [
    "#### Please run the 'Install Requirements.ipynb' file in the base folder"
   ]
  },
  {
   "cell_type": "markdown",
   "id": "ce8d0d3c-99d7-41d7-b01f-4dce875167f3",
   "metadata": {},
   "source": [
    "## Libraries "
   ]
  },
  {
   "cell_type": "code",
   "execution_count": 1,
   "id": "98ec26ee-2784-48aa-9f7e-b82d1b047192",
   "metadata": {},
   "outputs": [],
   "source": [
    "import os\n",
    "import sys\n",
    "import json\n",
    "import yaml\n",
    "from collections import defaultdict\n",
    "import numpy as np\n",
    "import pandas as pd\n",
    "from tqdm.notebook import tqdm\n",
    "import matplotlib.pyplot as plt\n",
    "import matplotlib.image as mpimg\n",
    "import matplotlib.patches as mpatch\n",
    "import matplotlib\n",
    "sys.path.append('../src/cyolo_utils')\n",
    "from results_plotter import read_exp_results as read_exp"
   ]
  },
  {
   "cell_type": "markdown",
   "id": "6327df03-53ab-474d-8917-152300d2ede7",
   "metadata": {},
   "source": [
    "### Choice of Hyper Parameters\n",
    "\n",
    "Below are all the inital parameters you can change.\n",
    "\n",
    "\n",
    "\n",
    "| `Parameter` | `Description` | `Type` | `Default` |\n",
    "| --- | --- | --- | --- |\n",
    "| bcc_epoch | start-epoch for BCC+YOLO run; use -1 for no BCC. | int | 0 |\n",
    "| qtfilter_epoch | start-epoch for qt-filter; use -1 for no qt-filter. | int | -1 |\n",
    "| qt_thres_mode | one of '', 'conf-count', 'entropy', 'conf-val' | str | '' |\n",
    "| qt_thres | the threshold value. | float | 0.0 |\n",
    "| hybrid_entropy_thres | the entropy threshold value (only to be used when running the hybrid filter). | float | 0.0 |\n",
    "| hybrid_conf_thres | the confidence threshold value (only to be used when running the hybrid filter). | float | 0.0 |\n",
    "| weights | initial weights path | str | 'yolov5s.pt' |\n",
    "| cfg | model.yaml path | str | '' |\n",
    "| data | dataset.yaml path | str | '../data/coco128.yaml' |\n",
    "| hyp | hyperparameters path | str | '../data/hyps/hyp.scratch.yaml' |\n",
    "| epochs | number of epoch repeates | int | 300 |\n",
    "| batch-size | total batch size for all GPUs | int | 16 |\n",
    "| imgsz | train, val image size (pixels) | int | 640 |\n",
    "| rect | rectangular training | call | store_true |\n",
    "| resume | resume most recent training | bool | False |\n",
    "| nosave | only save final checkpoint | call | store_true |\n",
    "| noval | only validate final epoch | call | store_true |\n",
    "| noautoanchor | disable autoanchor check | call | store_true |\n",
    "| evolve | evolve hyperparameters for x generations | int | const:300 |\n",
    "| bucket | gsutil bucket | str | '' |\n",
    "| cache | --cache images in \"ram\" (default) or \"disk\" | str | const:'ram' |\n",
    "| image-weights | use weighted image selection for training | call | store_true |\n",
    "| device | cuda device, i.e. 0 or 0,1,2,3 or cpu | call | store_true |\n",
    "| multi-scale | vary img-size +/- 50%% | call | store_true |\n",
    "| single-cls | train multi-class data as single-class | call | store_true |\n",
    "| adam | use torch.optim.Adam() optimizer | call | store_true |\n",
    "| sync-bn | use SyncBatchNorm, only available in DDP mode | call | store_true |\n",
    "| workers | maximum number of dataloader workers | int | 8 |\n",
    "| project | save to project/name | N/A | runs/train |\n",
    "| entity | W&B entity | N/A | None |\n",
    "| name | save to project/name | N/A | 'exp' |\n",
    "| exist-ok | existing project/name ok, do not increment | call | store_true |\n",
    "| quad | quad dataloader | call | store_true |\n",
    "| linear-lr | linear LR | call | store_true |\n",
    "| label-smoothing | Label smoothing epsilon | float | 0.0 |\n",
    "| upload_dataset | Upload dataset as W&B artifact table | call | store_true |\n",
    "| bbox_interval | Set bounding-box image logging interval for W&B | int | -1 |\n",
    "| save_period | Log model after every \"save_period\" epoch | int | -1 |\n",
    "| artifact_alias | version of dataset artifact to be used | str | latest |\n",
    "| local_rank | DDP parameter, do not modify | int | -1 |\n",
    "| freeze | Number of layers to freeze. backbone=10, all=24 | int | 0 |\n",
    "| patience | EarlyStopping patience (epochs) | int | 1100 |\n"
   ]
  },
  {
   "cell_type": "markdown",
   "id": "9dc76c8e-42ee-402d-9901-c962561abe71",
   "metadata": {},
   "source": [
    "# EXPERIMENT SET 1 "
   ]
  },
  {
   "cell_type": "markdown",
   "id": "089b8126-83e2-438c-b55a-7a03fb726833",
   "metadata": {},
   "source": [
    "# Experiment 1 (Crowd Yolo Model)\n",
    "\n",
    "### This section runs the experiments, prints results, and plots graphs for both dataset using the Crowd Yolo model."
   ]
  },
  {
   "cell_type": "code",
   "execution_count": null,
   "id": "c2589751-3be2-4296-a10a-1b66317e9205",
   "metadata": {},
   "outputs": [],
   "source": [
    "!pip install -r yolov5_master/requirements.txt\n",
    "!pip install python-utils\n",
    "!pip install tensorflow"
   ]
  },
  {
   "cell_type": "code",
   "execution_count": 1,
   "id": "0a677a9e-ae95-46d3-b5d7-509b4401342a",
   "metadata": {},
   "outputs": [],
   "source": [
    "import os\n",
    "import torch\n",
    "import wandb\n",
    "#!pip install seaborn\n",
    "#!pip install torch\n",
    "#!pip3 install torch==1.10.1+cu113 torchvision==0.11.2+cu113 torchaudio===0.10.1+cu113 -f https://download.pytorch.org/whl/cu113/torch_stable.html --user\n",
    "#!wandb login --host=https://api.wandb.ai\n",
    "#!wandb login --relogin b0d31701f11706105f7eec6a2d5cff4f9e89b18c"
   ]
  },
  {
   "cell_type": "code",
   "execution_count": 2,
   "id": "48630b23-4e52-42f2-b63e-0e29546493c3",
   "metadata": {},
   "outputs": [
    {
     "name": "stderr",
     "output_type": "stream",
     "text": [
      "YOLOv5  2022-1-18 torch 1.10.1+cu113 CUDA:0 (NVIDIA GeForce RTX 3090, 24575.5MB)\n",
      "\n",
      "\u001b[34m\u001b[1mhyperparameters: \u001b[0mlr0=0.01, lrf=0.2, momentum=0.937, weight_decay=0.0005, warmup_epochs=3.0, warmup_momentum=0.8, warmup_bias_lr=0.1, box=0.05, obj=1.0, cls=0.5, cls_pw=1.0, obj_pw=1.0, iou_t=0.2, anchor_t=4.0, fl_gamma=0, hsv_h=0.015, hsv_s=0.7, hsv_v=0.4, degrees=0.0, translate=0.1, scale=0.5, shear=0.0, perspective=0.0, flipud=0.0, fliplr=0.5, mosaic=1.0, mixup=0.0, copy_paste=0.0\n",
      "\u001b[34m\u001b[1mTensorBoard: \u001b[0mStart with 'tensorboard --logdir runs\\train', view at http://localhost:6006/\n"
     ]
    },
    {
     "name": "stdout",
     "output_type": "stream",
     "text": [
      "\u001b[34m\u001b[1mtrain: \u001b[0mbcc_epoch=0, qtfilter_epoch=-1, qt_thres_mode=, qt_thres=0.0, hybrid_entropy_thres=0.0, hybrid_conf_thres=0.0, weights=yolov5s.pt, cfg=, data=../data/cyolo.yaml, hyp=../data/hyps/hyp.scratch.yaml, epochs=80, batch_size=20, imgsz=640, rect=False, resume=False, nosave=False, noval=False, noautoanchor=False, evolve=None, bucket=, cache=None, image_weights=False, device=, multi_scale=False, single_cls=False, adam=False, sync_bn=False, workers=8, project=runs/train, entity=None, name=Expset1_all_cyolo, exist_ok=False, quad=False, linear_lr=False, label_smoothing=0.0, upload_dataset=False, bbox_interval=-1, save_period=-1, artifact_alias=latest, local_rank=-1, freeze=0, patience=1100\n",
      "\u001b[34m\u001b[1mgithub: \u001b[0mskipping check (not a git repository), for updates see https://github.com/ultralytics/yolov5\n"
     ]
    },
    {
     "name": "stderr",
     "output_type": "stream",
     "text": [
      "\u001b[34m\u001b[1mwandb\u001b[0m: Currently logged in as: \u001b[33mdddetection\u001b[0m (use `wandb login --relogin` to force relogin)\n"
     ]
    },
    {
     "data": {
      "text/html": [
       "\n",
       "                    Syncing run <strong><a href=\"https://wandb.ai/dddetection/YOLOv5/runs/340ouz2n\" target=\"_blank\">Expset1_all_cyolo</a></strong> to <a href=\"https://wandb.ai/dddetection/YOLOv5\" target=\"_blank\">Weights & Biases</a> (<a href=\"https://docs.wandb.com/integrations/jupyter.html\" target=\"_blank\">docs</a>).<br/>\n",
       "\n",
       "                "
      ],
      "text/plain": [
       "<IPython.core.display.HTML object>"
      ]
     },
     "metadata": {},
     "output_type": "display_data"
    },
    {
     "name": "stderr",
     "output_type": "stream",
     "text": [
      "Overriding model.yaml nc=80 with nc=2\n",
      "\n",
      "                 from  n    params  module                                  arguments                     \n",
      "  0                -1  1      3520  models.common.Conv                      [3, 32, 6, 2, 2]              \n",
      "  1                -1  1     18560  models.common.Conv                      [32, 64, 3, 2]                \n",
      "  2                -1  1     18816  models.common.C3                        [64, 64, 1]                   \n",
      "  3                -1  1     73984  models.common.Conv                      [64, 128, 3, 2]               \n",
      "  4                -1  2    115712  models.common.C3                        [128, 128, 2]                 \n",
      "  5                -1  1    295424  models.common.Conv                      [128, 256, 3, 2]              \n",
      "  6                -1  3    625152  models.common.C3                        [256, 256, 3]                 \n",
      "  7                -1  1   1180672  models.common.Conv                      [256, 512, 3, 2]              \n",
      "  8                -1  1   1182720  models.common.C3                        [512, 512, 1]                 \n",
      "  9                -1  1    656896  models.common.SPPF                      [512, 512, 5]                 \n",
      " 10                -1  1    131584  models.common.Conv                      [512, 256, 1, 1]              \n",
      " 11                -1  1         0  torch.nn.modules.upsampling.Upsample    [None, 2, 'nearest']          \n",
      " 12           [-1, 6]  1         0  models.common.Concat                    [1]                           \n",
      " 13                -1  1    361984  models.common.C3                        [512, 256, 1, False]          \n",
      " 14                -1  1     33024  models.common.Conv                      [256, 128, 1, 1]              \n",
      " 15                -1  1         0  torch.nn.modules.upsampling.Upsample    [None, 2, 'nearest']          \n",
      " 16           [-1, 4]  1         0  models.common.Concat                    [1]                           \n",
      " 17                -1  1     90880  models.common.C3                        [256, 128, 1, False]          \n",
      " 18                -1  1    147712  models.common.Conv                      [128, 128, 3, 2]              \n",
      " 19          [-1, 14]  1         0  models.common.Concat                    [1]                           \n",
      " 20                -1  1    296448  models.common.C3                        [256, 256, 1, False]          \n",
      " 21                -1  1    590336  models.common.Conv                      [256, 256, 3, 2]              \n",
      " 22          [-1, 10]  1         0  models.common.Concat                    [1]                           \n",
      " 23                -1  1   1182720  models.common.C3                        [512, 512, 1, False]          \n",
      " 24      [17, 20, 23]  1     18879  models.yolo.Detect                      [2, [[10, 13, 16, 30, 33, 23], [30, 61, 62, 45, 59, 119], [116, 90, 156, 198, 373, 326]], [128, 256, 512]]\n",
      "C:\\Users\\rb01243\\Anaconda3\\lib\\site-packages\\torch\\functional.py:445: UserWarning: torch.meshgrid: in an upcoming release, it will be required to pass the indexing argument. (Triggered internally at  ..\\aten\\src\\ATen\\native\\TensorShape.cpp:2157.)\n",
      "  return _VF.meshgrid(tensors, **kwargs)  # type: ignore[attr-defined]\n",
      "Model Summary: 270 layers, 7025023 parameters, 7025023 gradients, 15.9 GFLOPs\n",
      "\n",
      "Transferred 344/350 items from yolov5s.pt\n",
      "Scaled weight_decay = 0.00046875\n",
      "\u001b[34m\u001b[1moptimizer:\u001b[0m SGD with parameter groups 57 weight, 60 weight (no decay), 60 bias\n",
      "\u001b[34m\u001b[1mtrain: \u001b[0mScanning '..\\data\\datasets\\bcc-tvt\\labels\\train.cache' images and labels... 70 found, 0 missing, 3 empty, 0 corrupted: 100%|██████████| 70/70 [00:00<?, ?it/s]\n",
      "\u001b[34m\u001b[1mval: \u001b[0mScanning '..\\data\\datasets\\iid-tvt\\labels\\val.cache' images and labels... 67 found, 13 missing, 0 empty, 0 corrupted: 100%|██████████| 80/80 [00:00<?, ?it/s]\n"
     ]
    },
    {
     "name": "stdout",
     "output_type": "stream",
     "text": [
      "Plotting labels... \n"
     ]
    },
    {
     "name": "stderr",
     "output_type": "stream",
     "text": [
      "Image sizes 640 train, 640 val\n",
      "Using 8 dataloader workers\n",
      "Logging results to \u001b[1mruns\\train\\Expset1_all_cyolo2\u001b[0m\n",
      "Starting training for 80 epochs...\n",
      "\n",
      "     Epoch   gpu_mem       box       obj       cls    labels  img_size\n",
      "\n",
      "YOLO+BCC\n"
     ]
    },
    {
     "name": "stdout",
     "output_type": "stream",
     "text": [
      "\n",
      "\u001b[34m\u001b[1mautoanchor: \u001b[0mAnalyzing anchors... anchors/target = 6.03, Best Possible Recall (BPR) = 1.0000\n"
     ]
    },
    {
     "name": "stderr",
     "output_type": "stream",
     "text": [
      "  0%|          | 0/4 [00:00<?, ?it/s]"
     ]
    },
    {
     "name": "stdout",
     "output_type": "stream",
     "text": [
      "Minimum probs (c1, c2, bkgd): [1e-05, 1.4e-05, 0.890137]\n",
      "Maximum probs (c1, c2, bkgd): [0.075563, 0.064747, 1.0]\n"
     ]
    },
    {
     "name": "stderr",
     "output_type": "stream",
     "text": [
      "      0/79     7.44G         0   0.02265         0       222       640:  25%|██▌       | 1/4 [00:04<00:13,  4.56s/it]"
     ]
    },
    {
     "name": "stdout",
     "output_type": "stream",
     "text": [
      "Minimum probs (c1, c2, bkgd): [1.5e-05, 1.1e-05, 0.841797]\n",
      "Maximum probs (c1, c2, bkgd): [0.109224, 0.092917, 1.0]\n"
     ]
    },
    {
     "name": "stderr",
     "output_type": "stream",
     "text": [
      "      0/79     10.7G   0.06144   0.03272   0.01333       336       640:  50%|█████     | 2/4 [00:06<00:05,  2.94s/it]"
     ]
    },
    {
     "name": "stdout",
     "output_type": "stream",
     "text": [
      "Minimum probs (c1, c2, bkgd): [1.2e-05, 5e-06, 0.867676]\n",
      "Maximum probs (c1, c2, bkgd): [0.105859, 0.060043, 1.0]\n"
     ]
    },
    {
     "name": "stderr",
     "output_type": "stream",
     "text": [
      "      0/79       14G   0.08139   0.04379   0.01812       289       640:  75%|███████▌  | 3/4 [00:08<00:02,  2.64s/it]"
     ]
    },
    {
     "name": "stdout",
     "output_type": "stream",
     "text": [
      "Minimum probs (c1, c2, bkgd): [2.1e-05, 1.7e-05, 0.851074]\n",
      "Maximum probs (c1, c2, bkgd): [0.061872, 0.102043, 1.0]\n"
     ]
    },
    {
     "name": "stderr",
     "output_type": "stream",
     "text": [
      "      0/79       14G   0.09173   0.04891   0.02044       114       640: 100%|██████████| 4/4 [00:09<00:00,  2.28s/it]\n",
      "               Class     Images     Labels          P          R     mAP@.5 mAP@.5:.95: 100%|██████████| 2/2 [00:03<00:00,  1.96s/it]\n"
     ]
    },
    {
     "name": "stdout",
     "output_type": "stream",
     "text": [
      "                 all         80        220    0.00128    0.00515   0.000337   8.42e-05\n"
     ]
    },
    {
     "name": "stderr",
     "output_type": "stream",
     "text": [
      "               Class     Images     Labels          P          R     mAP@.5 mAP@.5:.95: 100%|██████████| 4/4 [00:01<00:00,  2.32it/s]\n"
     ]
    },
    {
     "name": "stdout",
     "output_type": "stream",
     "text": [
      "                 all         70        961    0.00292     0.0163    0.00135   0.000268\n"
     ]
    },
    {
     "name": "stderr",
     "output_type": "stream",
     "text": [
      "\n",
      "     Epoch   gpu_mem       box       obj       cls    labels  img_size\n",
      "\n",
      "YOLO+BCC\n",
      "  0%|          | 0/4 [00:00<?, ?it/s]"
     ]
    },
    {
     "name": "stdout",
     "output_type": "stream",
     "text": [
      "Minimum probs (c1, c2, bkgd): [6e-06, 9e-06, 0.911621]\n",
      "Maximum probs (c1, c2, bkgd): [0.060747, 0.057741, 1.0]\n"
     ]
    },
    {
     "name": "stderr",
     "output_type": "stream",
     "text": [
      "      1/79       12G    0.1209   0.07186   0.02778       222       640:  25%|██▌       | 1/4 [00:00<00:01,  2.37it/s]"
     ]
    },
    {
     "name": "stdout",
     "output_type": "stream",
     "text": [
      "Minimum probs (c1, c2, bkgd): [8e-06, 9e-06, 0.84375]\n",
      "Maximum probs (c1, c2, bkgd): [0.107163, 0.093981, 1.0]\n"
     ]
    },
    {
     "name": "stderr",
     "output_type": "stream",
     "text": [
      "      1/79       12G    0.1206   0.08033   0.02747       336       640:  50%|█████     | 2/4 [00:00<00:00,  2.40it/s]"
     ]
    },
    {
     "name": "stdout",
     "output_type": "stream",
     "text": [
      "Minimum probs (c1, c2, bkgd): [1.1e-05, 4e-06, 0.835449]\n",
      "Maximum probs (c1, c2, bkgd): [0.131572, 0.065468, 1.0]\n"
     ]
    },
    {
     "name": "stderr",
     "output_type": "stream",
     "text": [
      "      1/79     15.6G      0.12   0.08089   0.02777       114       640: 100%|██████████| 4/4 [00:01<00:00,  2.77it/s]\n"
     ]
    },
    {
     "name": "stdout",
     "output_type": "stream",
     "text": [
      "Minimum probs (c1, c2, bkgd): [1.4e-05, 1.6e-05, 0.844238]\n",
      "Maximum probs (c1, c2, bkgd): [0.069714, 0.104849, 1.0]\n"
     ]
    },
    {
     "name": "stderr",
     "output_type": "stream",
     "text": [
      "               Class     Images     Labels          P          R     mAP@.5 mAP@.5:.95: 100%|██████████| 2/2 [00:02<00:00,  1.08s/it]\n"
     ]
    },
    {
     "name": "stdout",
     "output_type": "stream",
     "text": [
      "                 all         80        220    0.00112    0.00515   0.000311   7.59e-05\n"
     ]
    },
    {
     "name": "stderr",
     "output_type": "stream",
     "text": [
      "               Class     Images     Labels          P          R     mAP@.5 mAP@.5:.95: 100%|██████████| 4/4 [00:01<00:00,  2.41it/s]\n"
     ]
    },
    {
     "name": "stdout",
     "output_type": "stream",
     "text": [
      "                 all         70        961    0.00287     0.0163    0.00129    0.00026\n"
     ]
    },
    {
     "name": "stderr",
     "output_type": "stream",
     "text": [
      "\n",
      "     Epoch   gpu_mem       box       obj       cls    labels  img_size\n",
      "\n",
      "YOLO+BCC\n",
      "  0%|          | 0/4 [00:00<?, ?it/s]"
     ]
    },
    {
     "name": "stdout",
     "output_type": "stream",
     "text": [
      "Minimum probs (c1, c2, bkgd): [4e-06, 8e-06, 0.913086]\n",
      "Maximum probs (c1, c2, bkgd): [0.058879, 0.054899, 1.0]\n"
     ]
    },
    {
     "name": "stderr",
     "output_type": "stream",
     "text": [
      "      2/79     12.2G    0.1181   0.07601   0.02777       222       640:  25%|██▌       | 1/4 [00:00<00:01,  2.23it/s]"
     ]
    },
    {
     "name": "stdout",
     "output_type": "stream",
     "text": [
      "Minimum probs (c1, c2, bkgd): [2e-06, 8e-06, 0.871094]\n",
      "Maximum probs (c1, c2, bkgd): [0.102116, 0.078691, 1.0]\n"
     ]
    },
    {
     "name": "stderr",
     "output_type": "stream",
     "text": [
      "      2/79     12.2G     0.117    0.0883   0.02757       336       640:  50%|█████     | 2/4 [00:00<00:00,  2.52it/s]"
     ]
    },
    {
     "name": "stdout",
     "output_type": "stream",
     "text": [
      "Minimum probs (c1, c2, bkgd): [1.1e-05, 3e-06, 0.825684]\n",
      "Maximum probs (c1, c2, bkgd): [0.138947, 0.066712, 1.0]\n"
     ]
    },
    {
     "name": "stderr",
     "output_type": "stream",
     "text": [
      "      2/79     15.6G    0.1162   0.08947   0.02779       114       640: 100%|██████████| 4/4 [00:01<00:00,  2.61it/s]\n"
     ]
    },
    {
     "name": "stdout",
     "output_type": "stream",
     "text": [
      "Minimum probs (c1, c2, bkgd): [7e-06, 1.7e-05, 0.836426]\n",
      "Maximum probs (c1, c2, bkgd): [0.077237, 0.108662, 1.0]\n"
     ]
    },
    {
     "name": "stderr",
     "output_type": "stream",
     "text": [
      "               Class     Images     Labels          P          R     mAP@.5 mAP@.5:.95: 100%|██████████| 2/2 [00:01<00:00,  1.13it/s]\n"
     ]
    },
    {
     "name": "stdout",
     "output_type": "stream",
     "text": [
      "                 all         80        220    0.00131    0.00515   0.000451   9.52e-05\n"
     ]
    },
    {
     "name": "stderr",
     "output_type": "stream",
     "text": [
      "               Class     Images     Labels          P          R     mAP@.5 mAP@.5:.95: 100%|██████████| 4/4 [00:01<00:00,  2.66it/s]\n"
     ]
    },
    {
     "name": "stdout",
     "output_type": "stream",
     "text": [
      "                 all         70        961    0.00297     0.0212    0.00127   0.000274\n"
     ]
    },
    {
     "name": "stderr",
     "output_type": "stream",
     "text": [
      "\n",
      "     Epoch   gpu_mem       box       obj       cls    labels  img_size\n",
      "\n",
      "YOLO+BCC\n",
      "  0%|          | 0/4 [00:00<?, ?it/s]"
     ]
    },
    {
     "name": "stdout",
     "output_type": "stream",
     "text": [
      "Minimum probs (c1, c2, bkgd): [7e-06, 6e-06, 0.898438]\n",
      "Maximum probs (c1, c2, bkgd): [0.081515, 0.060801, 1.0]\n"
     ]
    },
    {
     "name": "stderr",
     "output_type": "stream",
     "text": [
      "      3/79     12.2G    0.1127   0.08531   0.02755       222       640:  25%|██▌       | 1/4 [00:00<00:01,  2.17it/s]"
     ]
    },
    {
     "name": "stdout",
     "output_type": "stream",
     "text": [
      "Minimum probs (c1, c2, bkgd): [0.0, 4e-06, 0.88916]\n",
      "Maximum probs (c1, c2, bkgd): [0.094926, 0.052983, 1.0]\n"
     ]
    },
    {
     "name": "stderr",
     "output_type": "stream",
     "text": [
      "      3/79     12.4G    0.1115   0.09883   0.02746       336       640:  50%|█████     | 2/4 [00:00<00:00,  2.56it/s]"
     ]
    },
    {
     "name": "stdout",
     "output_type": "stream",
     "text": [
      "Minimum probs (c1, c2, bkgd): [9e-06, 3e-06, 0.833008]\n",
      "Maximum probs (c1, c2, bkgd): [0.13002, 0.072923, 1.0]\n"
     ]
    },
    {
     "name": "stderr",
     "output_type": "stream",
     "text": [
      "      3/79     15.6G    0.1106    0.1015   0.02772       114       640: 100%|██████████| 4/4 [00:01<00:00,  2.75it/s]\n"
     ]
    },
    {
     "name": "stdout",
     "output_type": "stream",
     "text": [
      "Minimum probs (c1, c2, bkgd): [6e-06, 1.6e-05, 0.850586]\n",
      "Maximum probs (c1, c2, bkgd): [0.080115, 0.091998, 1.0]\n"
     ]
    },
    {
     "name": "stderr",
     "output_type": "stream",
     "text": [
      "               Class     Images     Labels          P          R     mAP@.5 mAP@.5:.95: 100%|██████████| 2/2 [00:01<00:00,  1.35it/s]\n"
     ]
    },
    {
     "name": "stdout",
     "output_type": "stream",
     "text": [
      "                 all         80        220    0.00255    0.00258    0.00037   7.37e-05\n"
     ]
    },
    {
     "name": "stderr",
     "output_type": "stream",
     "text": [
      "               Class     Images     Labels          P          R     mAP@.5 mAP@.5:.95: 100%|██████████| 4/4 [00:01<00:00,  2.80it/s]\n"
     ]
    },
    {
     "name": "stdout",
     "output_type": "stream",
     "text": [
      "                 all         70        961    0.00284     0.0287    0.00134   0.000295\n"
     ]
    },
    {
     "name": "stderr",
     "output_type": "stream",
     "text": [
      "\n",
      "     Epoch   gpu_mem       box       obj       cls    labels  img_size\n",
      "\n",
      "YOLO+BCC\n",
      "  0%|          | 0/4 [00:00<?, ?it/s]"
     ]
    },
    {
     "name": "stdout",
     "output_type": "stream",
     "text": [
      "Minimum probs (c1, c2, bkgd): [7e-06, 8e-06, 0.901367]\n",
      "Maximum probs (c1, c2, bkgd): [0.063854, 0.06719, 1.0]\n"
     ]
    },
    {
     "name": "stderr",
     "output_type": "stream",
     "text": [
      "      4/79     12.6G    0.1068   0.09588   0.02737       222       640:  25%|██▌       | 1/4 [00:00<00:01,  2.49it/s]"
     ]
    },
    {
     "name": "stdout",
     "output_type": "stream",
     "text": [
      "Minimum probs (c1, c2, bkgd): [0.0, 3e-06, 0.873047]\n",
      "Maximum probs (c1, c2, bkgd): [0.107777, 0.076049, 1.0]\n"
     ]
    },
    {
     "name": "stderr",
     "output_type": "stream",
     "text": [
      "      4/79     12.8G    0.1056    0.1117   0.02731       336       640:  50%|█████     | 2/4 [00:00<00:00,  2.70it/s]"
     ]
    },
    {
     "name": "stdout",
     "output_type": "stream",
     "text": [
      "Minimum probs (c1, c2, bkgd): [8e-06, 3e-06, 0.837891]\n",
      "Maximum probs (c1, c2, bkgd): [0.123799, 0.086595, 1.0]\n"
     ]
    },
    {
     "name": "stderr",
     "output_type": "stream",
     "text": [
      "      4/79     15.6G    0.1046    0.1154   0.02764       114       640: 100%|██████████| 4/4 [00:01<00:00,  2.95it/s]\n"
     ]
    },
    {
     "name": "stdout",
     "output_type": "stream",
     "text": [
      "Minimum probs (c1, c2, bkgd): [7e-06, 1.4e-05, 0.839844]\n",
      "Maximum probs (c1, c2, bkgd): [0.08438, 0.081951, 1.0]\n"
     ]
    },
    {
     "name": "stderr",
     "output_type": "stream",
     "text": [
      "               Class     Images     Labels          P          R     mAP@.5 mAP@.5:.95: 100%|██████████| 2/2 [00:01<00:00,  1.31it/s]\n"
     ]
    },
    {
     "name": "stdout",
     "output_type": "stream",
     "text": [
      "                 all         80        220   0.000825     0.0541   0.000453   0.000103\n"
     ]
    },
    {
     "name": "stderr",
     "output_type": "stream",
     "text": [
      "               Class     Images     Labels          P          R     mAP@.5 mAP@.5:.95: 100%|██████████| 4/4 [00:01<00:00,  2.57it/s]\n"
     ]
    },
    {
     "name": "stdout",
     "output_type": "stream",
     "text": [
      "                 all         70        961    0.00359     0.0278     0.0017    0.00037\n"
     ]
    },
    {
     "name": "stderr",
     "output_type": "stream",
     "text": [
      "\n",
      "     Epoch   gpu_mem       box       obj       cls    labels  img_size\n",
      "\n",
      "YOLO+BCC\n",
      "  0%|          | 0/4 [00:00<?, ?it/s]"
     ]
    },
    {
     "name": "stdout",
     "output_type": "stream",
     "text": [
      "Minimum probs (c1, c2, bkgd): [6e-06, 1e-05, 0.875977]\n",
      "Maximum probs (c1, c2, bkgd): [0.06788, 0.082186, 1.0]\n"
     ]
    },
    {
     "name": "stderr",
     "output_type": "stream",
     "text": [
      "      5/79     12.6G    0.1009    0.1086   0.02715       222       640:  25%|██▌       | 1/4 [00:00<00:01,  2.32it/s]"
     ]
    },
    {
     "name": "stdout",
     "output_type": "stream",
     "text": [
      "Minimum probs (c1, c2, bkgd): [1e-06, 5e-06, 0.862305]\n",
      "Maximum probs (c1, c2, bkgd): [0.115931, 0.088337, 1.0]\n"
     ]
    },
    {
     "name": "stderr",
     "output_type": "stream",
     "text": [
      "      5/79     12.8G   0.09983    0.1249   0.02715       336       640:  50%|█████     | 2/4 [00:00<00:00,  2.48it/s]"
     ]
    },
    {
     "name": "stdout",
     "output_type": "stream",
     "text": [
      "Minimum probs (c1, c2, bkgd): [7e-06, 4e-06, 0.814453]\n",
      "Maximum probs (c1, c2, bkgd): [0.1411, 0.102156, 1.0]\n"
     ]
    },
    {
     "name": "stderr",
     "output_type": "stream",
     "text": [
      "      5/79     15.6G   0.09931    0.1276   0.02755       114       640: 100%|██████████| 4/4 [00:01<00:00,  2.77it/s]\n"
     ]
    },
    {
     "name": "stdout",
     "output_type": "stream",
     "text": [
      "Minimum probs (c1, c2, bkgd): [5e-06, 1.2e-05, 0.821289]\n",
      "Maximum probs (c1, c2, bkgd): [0.090426, 0.100092, 1.0]\n"
     ]
    },
    {
     "name": "stderr",
     "output_type": "stream",
     "text": [
      "               Class     Images     Labels          P          R     mAP@.5 mAP@.5:.95: 100%|██████████| 2/2 [00:01<00:00,  1.23it/s]\n"
     ]
    },
    {
     "name": "stdout",
     "output_type": "stream",
     "text": [
      "                 all         80        220   0.000959     0.0644   0.000549   0.000139\n"
     ]
    },
    {
     "name": "stderr",
     "output_type": "stream",
     "text": [
      "               Class     Images     Labels          P          R     mAP@.5 mAP@.5:.95: 100%|██████████| 4/4 [00:01<00:00,  2.42it/s]\n"
     ]
    },
    {
     "name": "stdout",
     "output_type": "stream",
     "text": [
      "                 all         70        961    0.00436     0.0295     0.0022   0.000456\n"
     ]
    },
    {
     "name": "stderr",
     "output_type": "stream",
     "text": [
      "\n",
      "     Epoch   gpu_mem       box       obj       cls    labels  img_size\n",
      "\n",
      "YOLO+BCC\n",
      "  0%|          | 0/4 [00:00<?, ?it/s]"
     ]
    },
    {
     "name": "stdout",
     "output_type": "stream",
     "text": [
      "Minimum probs (c1, c2, bkgd): [6e-06, 8e-06, 0.84668]\n",
      "Maximum probs (c1, c2, bkgd): [0.073909, 0.099067, 1.0]\n"
     ]
    },
    {
     "name": "stderr",
     "output_type": "stream",
     "text": [
      "      6/79     12.6G   0.09614    0.1173   0.02704       222       640:  25%|██▌       | 1/4 [00:00<00:01,  2.33it/s]"
     ]
    },
    {
     "name": "stdout",
     "output_type": "stream",
     "text": [
      "Minimum probs (c1, c2, bkgd): [0.0, 4e-06, 0.831543]\n",
      "Maximum probs (c1, c2, bkgd): [0.121039, 0.106667, 1.0]\n"
     ]
    },
    {
     "name": "stderr",
     "output_type": "stream",
     "text": [
      "      6/79     12.8G   0.09542    0.1346   0.02706       336       640:  50%|█████     | 2/4 [00:00<00:00,  2.46it/s]"
     ]
    },
    {
     "name": "stdout",
     "output_type": "stream",
     "text": [
      "Minimum probs (c1, c2, bkgd): [7e-06, 4e-06, 0.82373]\n",
      "Maximum probs (c1, c2, bkgd): [0.129718, 0.109636, 1.0]\n"
     ]
    },
    {
     "name": "stderr",
     "output_type": "stream",
     "text": [
      "      6/79     15.6G   0.09531     0.137   0.02749       114       640: 100%|██████████| 4/4 [00:01<00:00,  2.79it/s]\n"
     ]
    },
    {
     "name": "stdout",
     "output_type": "stream",
     "text": [
      "Minimum probs (c1, c2, bkgd): [4e-06, 1.1e-05, 0.813477]\n",
      "Maximum probs (c1, c2, bkgd): [0.116574, 0.095046, 1.0]\n"
     ]
    },
    {
     "name": "stderr",
     "output_type": "stream",
     "text": [
      "               Class     Images     Labels          P          R     mAP@.5 mAP@.5:.95: 100%|██████████| 2/2 [00:01<00:00,  1.07it/s]\n"
     ]
    },
    {
     "name": "stdout",
     "output_type": "stream",
     "text": [
      "                 all         80        220    0.00135     0.0103   0.000669   0.000171\n"
     ]
    },
    {
     "name": "stderr",
     "output_type": "stream",
     "text": [
      "               Class     Images     Labels          P          R     mAP@.5 mAP@.5:.95: 100%|██████████| 4/4 [00:01<00:00,  2.13it/s]\n"
     ]
    },
    {
     "name": "stdout",
     "output_type": "stream",
     "text": [
      "                 all         70        961    0.00543     0.0342    0.00282   0.000535\n"
     ]
    },
    {
     "name": "stderr",
     "output_type": "stream",
     "text": [
      "\n",
      "     Epoch   gpu_mem       box       obj       cls    labels  img_size\n",
      "\n",
      "YOLO+BCC\n",
      "  0%|          | 0/4 [00:00<?, ?it/s]"
     ]
    },
    {
     "name": "stdout",
     "output_type": "stream",
     "text": [
      "Minimum probs (c1, c2, bkgd): [5e-06, 8e-06, 0.774414]\n",
      "Maximum probs (c1, c2, bkgd): [0.107249, 0.123746, 1.0]\n"
     ]
    },
    {
     "name": "stderr",
     "output_type": "stream",
     "text": [
      "      7/79     12.6G   0.09291    0.1237   0.02693       222       640:  25%|██▌       | 1/4 [00:00<00:01,  2.36it/s]"
     ]
    },
    {
     "name": "stdout",
     "output_type": "stream",
     "text": [
      "Minimum probs (c1, c2, bkgd): [1e-06, 7e-06, 0.74707]\n",
      "Maximum probs (c1, c2, bkgd): [0.132718, 0.166291, 1.0]\n"
     ]
    },
    {
     "name": "stderr",
     "output_type": "stream",
     "text": [
      "      7/79     12.8G   0.09244    0.1418   0.02693       336       640:  50%|█████     | 2/4 [00:00<00:00,  2.61it/s]"
     ]
    },
    {
     "name": "stdout",
     "output_type": "stream",
     "text": [
      "Minimum probs (c1, c2, bkgd): [9e-06, 5e-06, 0.823242]\n",
      "Maximum probs (c1, c2, bkgd): [0.125584, 0.117781, 1.0]\n"
     ]
    },
    {
     "name": "stderr",
     "output_type": "stream",
     "text": [
      "      7/79     15.6G   0.09255    0.1437   0.02741       114       640: 100%|██████████| 4/4 [00:01<00:00,  2.86it/s]\n"
     ]
    },
    {
     "name": "stdout",
     "output_type": "stream",
     "text": [
      "Minimum probs (c1, c2, bkgd): [4e-06, 1e-05, 0.805664]\n",
      "Maximum probs (c1, c2, bkgd): [0.121937, 0.090762, 1.0]\n"
     ]
    },
    {
     "name": "stderr",
     "output_type": "stream",
     "text": [
      "               Class     Images     Labels          P          R     mAP@.5 mAP@.5:.95: 100%|██████████| 2/2 [00:03<00:00,  1.82s/it]\n"
     ]
    },
    {
     "name": "stdout",
     "output_type": "stream",
     "text": [
      "                 all         80        220    0.00588     0.0129    0.00132   0.000297\n"
     ]
    },
    {
     "name": "stderr",
     "output_type": "stream",
     "text": [
      "               Class     Images     Labels          P          R     mAP@.5 mAP@.5:.95: 100%|██████████| 4/4 [00:02<00:00,  1.83it/s]\n"
     ]
    },
    {
     "name": "stdout",
     "output_type": "stream",
     "text": [
      "                 all         70        961    0.00986     0.0243    0.00571    0.00122\n"
     ]
    },
    {
     "name": "stderr",
     "output_type": "stream",
     "text": [
      "\n",
      "     Epoch   gpu_mem       box       obj       cls    labels  img_size\n",
      "\n",
      "YOLO+BCC\n",
      "  0%|          | 0/4 [00:00<?, ?it/s]"
     ]
    },
    {
     "name": "stdout",
     "output_type": "stream",
     "text": [
      "Minimum probs (c1, c2, bkgd): [4e-06, 8e-06, 0.613281]\n",
      "Maximum probs (c1, c2, bkgd): [0.179511, 0.207208, 1.0]\n"
     ]
    },
    {
     "name": "stderr",
     "output_type": "stream",
     "text": [
      "      8/79     12.5G   0.09071    0.1266   0.02684       222       640:  25%|██▌       | 1/4 [00:00<00:01,  1.66it/s]"
     ]
    },
    {
     "name": "stdout",
     "output_type": "stream",
     "text": [
      "Minimum probs (c1, c2, bkgd): [1e-06, 6e-06, 0.569824]\n",
      "Maximum probs (c1, c2, bkgd): [0.140179, 0.301602, 1.0]\n"
     ]
    },
    {
     "name": "stderr",
     "output_type": "stream",
     "text": [
      "      8/79     12.7G    0.0903    0.1447   0.02684       336       640:  50%|█████     | 2/4 [00:00<00:00,  2.23it/s]"
     ]
    },
    {
     "name": "stdout",
     "output_type": "stream",
     "text": [
      "Minimum probs (c1, c2, bkgd): [9e-06, 6e-06, 0.806641]\n",
      "Maximum probs (c1, c2, bkgd): [0.10979, 0.148652, 1.0]\n"
     ]
    },
    {
     "name": "stderr",
     "output_type": "stream",
     "text": [
      "      8/79     15.6G   0.09056     0.147   0.02733       114       640: 100%|██████████| 4/4 [00:01<00:00,  2.59it/s]\n"
     ]
    },
    {
     "name": "stdout",
     "output_type": "stream",
     "text": [
      "Minimum probs (c1, c2, bkgd): [4e-06, 1e-05, 0.793457]\n",
      "Maximum probs (c1, c2, bkgd): [0.11959, 0.130881, 1.0]\n"
     ]
    },
    {
     "name": "stderr",
     "output_type": "stream",
     "text": [
      "               Class     Images     Labels          P          R     mAP@.5 mAP@.5:.95: 100%|██████████| 2/2 [00:02<00:00,  1.33s/it]\n"
     ]
    },
    {
     "name": "stdout",
     "output_type": "stream",
     "text": [
      "                 all         80        220     0.0416      0.018     0.0043    0.00108\n"
     ]
    },
    {
     "name": "stderr",
     "output_type": "stream",
     "text": [
      "               Class     Images     Labels          P          R     mAP@.5 mAP@.5:.95: 100%|██████████| 4/4 [00:02<00:00,  1.61it/s]\n"
     ]
    },
    {
     "name": "stdout",
     "output_type": "stream",
     "text": [
      "                 all         70        961     0.0209     0.0286    0.00871    0.00176\n"
     ]
    },
    {
     "name": "stderr",
     "output_type": "stream",
     "text": [
      "\n",
      "     Epoch   gpu_mem       box       obj       cls    labels  img_size\n",
      "\n",
      "YOLO+BCC\n",
      "  0%|          | 0/4 [00:00<?, ?it/s]"
     ]
    },
    {
     "name": "stdout",
     "output_type": "stream",
     "text": [
      "Minimum probs (c1, c2, bkgd): [4e-06, 8e-06, 0.450195]\n",
      "Maximum probs (c1, c2, bkgd): [0.234886, 0.314918, 1.0]\n"
     ]
    },
    {
     "name": "stderr",
     "output_type": "stream",
     "text": [
      "      9/79     12.7G   0.08902    0.1267   0.02675       222       640:  25%|██▌       | 1/4 [00:00<00:01,  1.89it/s]"
     ]
    },
    {
     "name": "stdout",
     "output_type": "stream",
     "text": [
      "Minimum probs (c1, c2, bkgd): [1e-06, 5e-06, 0.415039]\n",
      "Maximum probs (c1, c2, bkgd): [0.163669, 0.421292, 1.0]\n"
     ]
    },
    {
     "name": "stderr",
     "output_type": "stream",
     "text": [
      "      9/79     12.9G   0.08861     0.145   0.02672       336       640:  50%|█████     | 2/4 [00:00<00:00,  2.35it/s]"
     ]
    },
    {
     "name": "stdout",
     "output_type": "stream",
     "text": [
      "Minimum probs (c1, c2, bkgd): [7e-06, 6e-06, 0.753418]\n",
      "Maximum probs (c1, c2, bkgd): [0.102003, 0.195011, 1.0]\n"
     ]
    },
    {
     "name": "stderr",
     "output_type": "stream",
     "text": [
      "      9/79     15.6G   0.08886    0.1472   0.02723       114       640: 100%|██████████| 4/4 [00:01<00:00,  2.73it/s]\n"
     ]
    },
    {
     "name": "stdout",
     "output_type": "stream",
     "text": [
      "Minimum probs (c1, c2, bkgd): [3e-06, 9e-06, 0.701172]\n",
      "Maximum probs (c1, c2, bkgd): [0.211426, 0.223832, 1.0]\n"
     ]
    },
    {
     "name": "stderr",
     "output_type": "stream",
     "text": [
      "               Class     Images     Labels          P          R     mAP@.5 mAP@.5:.95: 100%|██████████| 2/2 [00:03<00:00,  1.58s/it]\n"
     ]
    },
    {
     "name": "stdout",
     "output_type": "stream",
     "text": [
      "                 all         80        220     0.0518     0.0567     0.0198     0.0055\n"
     ]
    },
    {
     "name": "stderr",
     "output_type": "stream",
     "text": [
      "               Class     Images     Labels          P          R     mAP@.5 mAP@.5:.95: 100%|██████████| 4/4 [00:02<00:00,  1.34it/s]\n"
     ]
    },
    {
     "name": "stdout",
     "output_type": "stream",
     "text": [
      "                 all         70        961     0.0416     0.0455     0.0178     0.0039\n"
     ]
    },
    {
     "name": "stderr",
     "output_type": "stream",
     "text": [
      "\n",
      "     Epoch   gpu_mem       box       obj       cls    labels  img_size\n",
      "\n",
      "YOLO+BCC\n",
      "  0%|          | 0/4 [00:00<?, ?it/s]"
     ]
    },
    {
     "name": "stdout",
     "output_type": "stream",
     "text": [
      "Minimum probs (c1, c2, bkgd): [4e-06, 6e-06, 0.276855]\n",
      "Maximum probs (c1, c2, bkgd): [0.277189, 0.469022, 1.0]\n"
     ]
    },
    {
     "name": "stderr",
     "output_type": "stream",
     "text": [
      "     10/79     12.9G   0.08736    0.1249   0.02666       222       640:  25%|██▌       | 1/4 [00:00<00:01,  1.67it/s]"
     ]
    },
    {
     "name": "stdout",
     "output_type": "stream",
     "text": [
      "Minimum probs (c1, c2, bkgd): [1e-06, 5e-06, 0.309082]\n",
      "Maximum probs (c1, c2, bkgd): [0.196856, 0.532674, 1.0]\n"
     ]
    },
    {
     "name": "stderr",
     "output_type": "stream",
     "text": [
      "     10/79     12.9G     0.087    0.1425   0.02667       336       640:  50%|█████     | 2/4 [00:00<00:00,  2.21it/s]"
     ]
    },
    {
     "name": "stdout",
     "output_type": "stream",
     "text": [
      "Minimum probs (c1, c2, bkgd): [7e-06, 5e-06, 0.599609]\n",
      "Maximum probs (c1, c2, bkgd): [0.148027, 0.295805, 1.0]\n"
     ]
    },
    {
     "name": "stderr",
     "output_type": "stream",
     "text": [
      "     10/79     15.5G    0.0873    0.1447   0.02719       114       640: 100%|██████████| 4/4 [00:01<00:00,  2.58it/s]\n"
     ]
    },
    {
     "name": "stdout",
     "output_type": "stream",
     "text": [
      "Minimum probs (c1, c2, bkgd): [3e-06, 8e-06, 0.467773]\n",
      "Maximum probs (c1, c2, bkgd): [0.365543, 0.366869, 1.0]\n"
     ]
    },
    {
     "name": "stderr",
     "output_type": "stream",
     "text": [
      "               Class     Images     Labels          P          R     mAP@.5 mAP@.5:.95: 100%|██████████| 2/2 [00:03<00:00,  1.73s/it]\n"
     ]
    },
    {
     "name": "stdout",
     "output_type": "stream",
     "text": [
      "                 all         80        220     0.0789     0.0619      0.023    0.00421\n"
     ]
    },
    {
     "name": "stderr",
     "output_type": "stream",
     "text": [
      "               Class     Images     Labels          P          R     mAP@.5 mAP@.5:.95: 100%|██████████| 4/4 [00:03<00:00,  1.21it/s]\n"
     ]
    },
    {
     "name": "stdout",
     "output_type": "stream",
     "text": [
      "                 all         70        961     0.0615     0.0857     0.0317    0.00645\n"
     ]
    },
    {
     "name": "stderr",
     "output_type": "stream",
     "text": [
      "\n",
      "     Epoch   gpu_mem       box       obj       cls    labels  img_size\n",
      "\n",
      "YOLO+BCC\n",
      "  0%|          | 0/4 [00:00<?, ?it/s]"
     ]
    },
    {
     "name": "stdout",
     "output_type": "stream",
     "text": [
      "Minimum probs (c1, c2, bkgd): [4e-06, 5e-06, 0.139648]\n",
      "Maximum probs (c1, c2, bkgd): [0.289739, 0.634222, 1.0]\n"
     ]
    },
    {
     "name": "stderr",
     "output_type": "stream",
     "text": [
      "     11/79       13G    0.0861    0.1226    0.0266       222       640:  25%|██▌       | 1/4 [00:00<00:01,  2.34it/s]"
     ]
    },
    {
     "name": "stdout",
     "output_type": "stream",
     "text": [
      "Minimum probs (c1, c2, bkgd): [0.0, 4e-06, 0.230957]\n",
      "Maximum probs (c1, c2, bkgd): [0.232897, 0.630919, 1.0]\n"
     ]
    },
    {
     "name": "stderr",
     "output_type": "stream",
     "text": [
      "     11/79       13G    0.0857     0.139   0.02661       336       640:  50%|█████     | 2/4 [00:00<00:00,  2.52it/s]"
     ]
    },
    {
     "name": "stdout",
     "output_type": "stream",
     "text": [
      "Minimum probs (c1, c2, bkgd): [6e-06, 3e-06, 0.255371]\n",
      "Maximum probs (c1, c2, bkgd): [0.300064, 0.451885, 1.0]\n"
     ]
    },
    {
     "name": "stderr",
     "output_type": "stream",
     "text": [
      "     11/79     15.5G   0.08589    0.1413   0.02713       114       640: 100%|██████████| 4/4 [00:01<00:00,  2.91it/s]\n"
     ]
    },
    {
     "name": "stdout",
     "output_type": "stream",
     "text": [
      "Minimum probs (c1, c2, bkgd): [3e-06, 1e-05, 0.311523]\n",
      "Maximum probs (c1, c2, bkgd): [0.456099, 0.472815, 1.0]\n"
     ]
    },
    {
     "name": "stderr",
     "output_type": "stream",
     "text": [
      "               Class     Images     Labels          P          R     mAP@.5 mAP@.5:.95: 100%|██████████| 2/2 [00:03<00:00,  1.77s/it]\n"
     ]
    },
    {
     "name": "stdout",
     "output_type": "stream",
     "text": [
      "                 all         80        220     0.0791     0.0541     0.0228    0.00357\n"
     ]
    },
    {
     "name": "stderr",
     "output_type": "stream",
     "text": [
      "               Class     Images     Labels          P          R     mAP@.5 mAP@.5:.95: 100%|██████████| 4/4 [00:03<00:00,  1.16it/s]\n"
     ]
    },
    {
     "name": "stdout",
     "output_type": "stream",
     "text": [
      "                 all         70        961     0.0878      0.107     0.0468    0.00856\n"
     ]
    },
    {
     "name": "stderr",
     "output_type": "stream",
     "text": [
      "\n",
      "     Epoch   gpu_mem       box       obj       cls    labels  img_size\n",
      "\n",
      "YOLO+BCC\n",
      "  0%|          | 0/4 [00:00<?, ?it/s]"
     ]
    },
    {
     "name": "stdout",
     "output_type": "stream",
     "text": [
      "Minimum probs (c1, c2, bkgd): [4e-06, 5e-06, 0.077637]\n",
      "Maximum probs (c1, c2, bkgd): [0.311688, 0.700155, 1.0]\n"
     ]
    },
    {
     "name": "stderr",
     "output_type": "stream",
     "text": [
      "     12/79     12.9G   0.08468    0.1204   0.02649       222       640:  25%|██▌       | 1/4 [00:00<00:01,  2.30it/s]"
     ]
    },
    {
     "name": "stdout",
     "output_type": "stream",
     "text": [
      "Minimum probs (c1, c2, bkgd): [5e-06, 6e-06, 0.173828]\n",
      "Maximum probs (c1, c2, bkgd): [0.299144, 0.679096, 1.0]\n"
     ]
    },
    {
     "name": "stderr",
     "output_type": "stream",
     "text": [
      "     12/79     12.9G   0.08425    0.1358   0.02649       336       640:  50%|█████     | 2/4 [00:00<00:00,  2.43it/s]"
     ]
    },
    {
     "name": "stdout",
     "output_type": "stream",
     "text": [
      "Minimum probs (c1, c2, bkgd): [6e-06, 3e-06, 0.148438]\n",
      "Maximum probs (c1, c2, bkgd): [0.382718, 0.527112, 1.0]\n"
     ]
    },
    {
     "name": "stderr",
     "output_type": "stream",
     "text": [
      "     12/79     15.5G   0.08441     0.138   0.02699       114       640: 100%|██████████| 4/4 [00:01<00:00,  2.77it/s]\n"
     ]
    },
    {
     "name": "stdout",
     "output_type": "stream",
     "text": [
      "Minimum probs (c1, c2, bkgd): [3e-06, 4e-06, 0.174316]\n",
      "Maximum probs (c1, c2, bkgd): [0.477056, 0.652411, 1.0]\n"
     ]
    },
    {
     "name": "stderr",
     "output_type": "stream",
     "text": [
      "               Class     Images     Labels          P          R     mAP@.5 mAP@.5:.95: 100%|██████████| 2/2 [00:03<00:00,  1.76s/it]\n"
     ]
    },
    {
     "name": "stdout",
     "output_type": "stream",
     "text": [
      "                 all         80        220      0.043      0.111      0.025    0.00385\n"
     ]
    },
    {
     "name": "stderr",
     "output_type": "stream",
     "text": [
      "               Class     Images     Labels          P          R     mAP@.5 mAP@.5:.95: 100%|██████████| 4/4 [00:03<00:00,  1.22it/s]\n"
     ]
    },
    {
     "name": "stdout",
     "output_type": "stream",
     "text": [
      "                 all         70        961      0.102      0.126     0.0533    0.00993\n"
     ]
    },
    {
     "name": "stderr",
     "output_type": "stream",
     "text": [
      "\n",
      "     Epoch   gpu_mem       box       obj       cls    labels  img_size\n",
      "\n",
      "YOLO+BCC\n",
      "  0%|          | 0/4 [00:00<?, ?it/s]"
     ]
    },
    {
     "name": "stdout",
     "output_type": "stream",
     "text": [
      "Minimum probs (c1, c2, bkgd): [4e-06, 6e-06, 0.059082]\n",
      "Maximum probs (c1, c2, bkgd): [0.357374, 0.696574, 1.0]\n"
     ]
    },
    {
     "name": "stderr",
     "output_type": "stream",
     "text": [
      "     13/79     13.1G   0.08377     0.117   0.02626       222       640:  25%|██▌       | 1/4 [00:00<00:01,  1.91it/s]"
     ]
    },
    {
     "name": "stdout",
     "output_type": "stream",
     "text": [
      "Minimum probs (c1, c2, bkgd): [4e-06, 5e-06, 0.120117]\n",
      "Maximum probs (c1, c2, bkgd): [0.407136, 0.682264, 1.0]\n"
     ]
    },
    {
     "name": "stderr",
     "output_type": "stream",
     "text": [
      "     13/79     13.1G   0.08375    0.1315   0.02629       336       640:  50%|█████     | 2/4 [00:00<00:00,  2.35it/s]"
     ]
    },
    {
     "name": "stdout",
     "output_type": "stream",
     "text": [
      "Minimum probs (c1, c2, bkgd): [6e-06, 3e-06, 0.103027]\n",
      "Maximum probs (c1, c2, bkgd): [0.405076, 0.594926, 1.0]\n"
     ]
    },
    {
     "name": "stderr",
     "output_type": "stream",
     "text": [
      "     13/79     15.6G    0.0835    0.1343    0.0267       114       640: 100%|██████████| 4/4 [00:01<00:00,  2.73it/s]\n"
     ]
    },
    {
     "name": "stdout",
     "output_type": "stream",
     "text": [
      "Minimum probs (c1, c2, bkgd): [2e-06, 3e-06, 0.164551]\n",
      "Maximum probs (c1, c2, bkgd): [0.437558, 0.649351, 1.0]\n"
     ]
    },
    {
     "name": "stderr",
     "output_type": "stream",
     "text": [
      "               Class     Images     Labels          P          R     mAP@.5 mAP@.5:.95: 100%|██████████| 2/2 [00:03<00:00,  1.69s/it]\n"
     ]
    },
    {
     "name": "stdout",
     "output_type": "stream",
     "text": [
      "                 all         80        220     0.0432     0.0902     0.0241    0.00497\n"
     ]
    },
    {
     "name": "stderr",
     "output_type": "stream",
     "text": [
      "               Class     Images     Labels          P          R     mAP@.5 mAP@.5:.95: 100%|██████████| 4/4 [00:03<00:00,  1.28it/s]\n"
     ]
    },
    {
     "name": "stdout",
     "output_type": "stream",
     "text": [
      "                 all         70        961     0.0924      0.135     0.0533    0.00998\n"
     ]
    },
    {
     "name": "stderr",
     "output_type": "stream",
     "text": [
      "\n",
      "     Epoch   gpu_mem       box       obj       cls    labels  img_size\n",
      "\n",
      "YOLO+BCC\n",
      "  0%|          | 0/4 [00:00<?, ?it/s]"
     ]
    },
    {
     "name": "stdout",
     "output_type": "stream",
     "text": [
      "Minimum probs (c1, c2, bkgd): [3e-06, 5e-06, 0.04248]\n",
      "Maximum probs (c1, c2, bkgd): [0.430537, 0.723443, 1.0]\n"
     ]
    },
    {
     "name": "stderr",
     "output_type": "stream",
     "text": [
      "     14/79     12.9G   0.08295    0.1144   0.02595       222       640:  25%|██▌       | 1/4 [00:00<00:01,  1.72it/s]"
     ]
    },
    {
     "name": "stdout",
     "output_type": "stream",
     "text": [
      "Minimum probs (c1, c2, bkgd): [6e-06, 5e-06, 0.091797]\n",
      "Maximum probs (c1, c2, bkgd): [0.428781, 0.66607, 1.0]\n"
     ]
    },
    {
     "name": "stderr",
     "output_type": "stream",
     "text": [
      "     14/79     12.9G   0.08265    0.1279   0.02593       336       640:  50%|█████     | 2/4 [00:00<00:00,  2.25it/s]"
     ]
    },
    {
     "name": "stdout",
     "output_type": "stream",
     "text": [
      "Minimum probs (c1, c2, bkgd): [6e-06, 3e-06, 0.112793]\n",
      "Maximum probs (c1, c2, bkgd): [0.478784, 0.511774, 1.0]\n"
     ]
    },
    {
     "name": "stderr",
     "output_type": "stream",
     "text": [
      "     14/79     15.6G   0.08207    0.1308   0.02629       114       640: 100%|██████████| 4/4 [00:01<00:00,  2.64it/s]\n"
     ]
    },
    {
     "name": "stdout",
     "output_type": "stream",
     "text": [
      "Minimum probs (c1, c2, bkgd): [5e-06, 4e-06, 0.154785]\n",
      "Maximum probs (c1, c2, bkgd): [0.462078, 0.603825, 1.0]\n"
     ]
    },
    {
     "name": "stderr",
     "output_type": "stream",
     "text": [
      "               Class     Images     Labels          P          R     mAP@.5 mAP@.5:.95: 100%|██████████| 2/2 [00:03<00:00,  1.54s/it]\n"
     ]
    },
    {
     "name": "stdout",
     "output_type": "stream",
     "text": [
      "                 all         80        220     0.0368     0.0593     0.0208    0.00403\n"
     ]
    },
    {
     "name": "stderr",
     "output_type": "stream",
     "text": [
      "               Class     Images     Labels          P          R     mAP@.5 mAP@.5:.95: 100%|██████████| 4/4 [00:02<00:00,  1.42it/s]\n"
     ]
    },
    {
     "name": "stdout",
     "output_type": "stream",
     "text": [
      "                 all         70        961      0.104      0.108     0.0515    0.00968\n"
     ]
    },
    {
     "name": "stderr",
     "output_type": "stream",
     "text": [
      "\n",
      "     Epoch   gpu_mem       box       obj       cls    labels  img_size\n",
      "\n",
      "YOLO+BCC\n",
      "  0%|          | 0/4 [00:00<?, ?it/s]"
     ]
    },
    {
     "name": "stdout",
     "output_type": "stream",
     "text": [
      "Minimum probs (c1, c2, bkgd): [4e-06, 7e-06, 0.061523]\n",
      "Maximum probs (c1, c2, bkgd): [0.56344, 0.646489, 1.0]\n"
     ]
    },
    {
     "name": "stderr",
     "output_type": "stream",
     "text": [
      "     15/79     12.9G   0.07954    0.1123   0.02509       222       640:  25%|██▌       | 1/4 [00:00<00:01,  2.02it/s]"
     ]
    },
    {
     "name": "stdout",
     "output_type": "stream",
     "text": [
      "Minimum probs (c1, c2, bkgd): [5e-06, 5e-06, 0.096191]\n",
      "Maximum probs (c1, c2, bkgd): [0.505522, 0.645818, 1.0]\n"
     ]
    },
    {
     "name": "stderr",
     "output_type": "stream",
     "text": [
      "     15/79     12.9G   0.08002    0.1245   0.02516       336       640:  50%|█████     | 2/4 [00:00<00:00,  2.41it/s]"
     ]
    },
    {
     "name": "stdout",
     "output_type": "stream",
     "text": [
      "Minimum probs (c1, c2, bkgd): [5e-06, 3e-06, 0.121094]\n",
      "Maximum probs (c1, c2, bkgd): [0.505874, 0.499678, 1.0]\n"
     ]
    },
    {
     "name": "stderr",
     "output_type": "stream",
     "text": [
      "     15/79     15.6G   0.07971    0.1275   0.02561       114       640: 100%|██████████| 4/4 [00:01<00:00,  2.78it/s]\n"
     ]
    },
    {
     "name": "stdout",
     "output_type": "stream",
     "text": [
      "Minimum probs (c1, c2, bkgd): [4e-06, 5e-06, 0.166992]\n",
      "Maximum probs (c1, c2, bkgd): [0.493883, 0.511458, 1.0]\n"
     ]
    },
    {
     "name": "stderr",
     "output_type": "stream",
     "text": [
      "               Class     Images     Labels          P          R     mAP@.5 mAP@.5:.95: 100%|██████████| 2/2 [00:04<00:00,  2.10s/it]\n"
     ]
    },
    {
     "name": "stdout",
     "output_type": "stream",
     "text": [
      "                 all         80        220     0.0314     0.0954     0.0195    0.00357\n"
     ]
    },
    {
     "name": "stderr",
     "output_type": "stream",
     "text": [
      "               Class     Images     Labels          P          R     mAP@.5 mAP@.5:.95: 100%|██████████| 4/4 [00:02<00:00,  1.54it/s]\n"
     ]
    },
    {
     "name": "stdout",
     "output_type": "stream",
     "text": [
      "                 all         70        961     0.0916       0.14     0.0523    0.00982\n"
     ]
    },
    {
     "name": "stderr",
     "output_type": "stream",
     "text": [
      "\n",
      "     Epoch   gpu_mem       box       obj       cls    labels  img_size\n",
      "\n",
      "YOLO+BCC\n",
      "  0%|          | 0/4 [00:00<?, ?it/s]"
     ]
    },
    {
     "name": "stdout",
     "output_type": "stream",
     "text": [
      "Minimum probs (c1, c2, bkgd): [3e-06, 8e-06, 0.084961]\n",
      "Maximum probs (c1, c2, bkgd): [0.61629, 0.577312, 1.0]\n"
     ]
    },
    {
     "name": "stderr",
     "output_type": "stream",
     "text": [
      "     16/79     12.9G   0.07693    0.1095   0.02403       222       640:  25%|██▌       | 1/4 [00:00<00:01,  2.68it/s]"
     ]
    },
    {
     "name": "stdout",
     "output_type": "stream",
     "text": [
      "Minimum probs (c1, c2, bkgd): [3e-06, 3e-06, 0.106934]\n",
      "Maximum probs (c1, c2, bkgd): [0.594446, 0.605427, 1.0]\n"
     ]
    },
    {
     "name": "stderr",
     "output_type": "stream",
     "text": [
      "     16/79     12.9G   0.07758     0.121   0.02412       336       640:  50%|█████     | 2/4 [00:00<00:00,  2.65it/s]"
     ]
    },
    {
     "name": "stdout",
     "output_type": "stream",
     "text": [
      "Minimum probs (c1, c2, bkgd): [6e-06, 3e-06, 0.11084]\n",
      "Maximum probs (c1, c2, bkgd): [0.541176, 0.480293, 1.0]\n"
     ]
    },
    {
     "name": "stderr",
     "output_type": "stream",
     "text": [
      "     16/79     15.6G   0.07753    0.1239   0.02448       114       640: 100%|██████████| 4/4 [00:01<00:00,  2.98it/s]\n"
     ]
    },
    {
     "name": "stdout",
     "output_type": "stream",
     "text": [
      "Minimum probs (c1, c2, bkgd): [2e-06, 7e-06, 0.148438]\n",
      "Maximum probs (c1, c2, bkgd): [0.577354, 0.451226, 1.0]\n"
     ]
    },
    {
     "name": "stderr",
     "output_type": "stream",
     "text": [
      "               Class     Images     Labels          P          R     mAP@.5 mAP@.5:.95: 100%|██████████| 2/2 [00:02<00:00,  1.18s/it]\n"
     ]
    },
    {
     "name": "stdout",
     "output_type": "stream",
     "text": [
      "                 all         80        220     0.0601      0.101     0.0316    0.00575\n"
     ]
    },
    {
     "name": "stderr",
     "output_type": "stream",
     "text": [
      "               Class     Images     Labels          P          R     mAP@.5 mAP@.5:.95: 100%|██████████| 4/4 [00:02<00:00,  1.79it/s]\n"
     ]
    },
    {
     "name": "stdout",
     "output_type": "stream",
     "text": [
      "                 all         70        961      0.103      0.134     0.0598     0.0113\n"
     ]
    },
    {
     "name": "stderr",
     "output_type": "stream",
     "text": [
      "\n",
      "     Epoch   gpu_mem       box       obj       cls    labels  img_size\n",
      "\n",
      "YOLO+BCC\n",
      "  0%|          | 0/4 [00:00<?, ?it/s]"
     ]
    },
    {
     "name": "stdout",
     "output_type": "stream",
     "text": [
      "Minimum probs (c1, c2, bkgd): [3e-06, 7e-06, 0.120117]\n",
      "Maximum probs (c1, c2, bkgd): [0.628857, 0.456023, 1.0]\n"
     ]
    },
    {
     "name": "stderr",
     "output_type": "stream",
     "text": [
      "     17/79     12.8G   0.07456    0.1063    0.0223       222       640:  25%|██▌       | 1/4 [00:00<00:01,  2.20it/s]"
     ]
    },
    {
     "name": "stdout",
     "output_type": "stream",
     "text": [
      "Minimum probs (c1, c2, bkgd): [3e-06, 3e-06, 0.108887]\n",
      "Maximum probs (c1, c2, bkgd): [0.647328, 0.552619, 1.0]\n"
     ]
    },
    {
     "name": "stderr",
     "output_type": "stream",
     "text": [
      "     17/79     12.8G   0.07532     0.117   0.02225       336       640:  50%|█████     | 2/4 [00:00<00:00,  2.41it/s]"
     ]
    },
    {
     "name": "stdout",
     "output_type": "stream",
     "text": [
      "Minimum probs (c1, c2, bkgd): [3e-06, 2e-06, 0.10791]\n",
      "Maximum probs (c1, c2, bkgd): [0.621799, 0.448147, 1.0]\n"
     ]
    },
    {
     "name": "stderr",
     "output_type": "stream",
     "text": [
      "     17/79     15.6G   0.07544    0.1198   0.02235       114       640: 100%|██████████| 4/4 [00:01<00:00,  2.76it/s]\n"
     ]
    },
    {
     "name": "stdout",
     "output_type": "stream",
     "text": [
      "Minimum probs (c1, c2, bkgd): [2e-06, 4e-06, 0.125977]\n",
      "Maximum probs (c1, c2, bkgd): [0.649585, 0.415025, 1.0]\n"
     ]
    },
    {
     "name": "stderr",
     "output_type": "stream",
     "text": [
      "               Class     Images     Labels          P          R     mAP@.5 mAP@.5:.95: 100%|██████████| 2/2 [00:02<00:00,  1.03s/it]\n"
     ]
    },
    {
     "name": "stdout",
     "output_type": "stream",
     "text": [
      "                 all         80        220     0.0751     0.0948     0.0334    0.00672\n"
     ]
    },
    {
     "name": "stderr",
     "output_type": "stream",
     "text": [
      "               Class     Images     Labels          P          R     mAP@.5 mAP@.5:.95: 100%|██████████| 4/4 [00:01<00:00,  2.09it/s]\n"
     ]
    },
    {
     "name": "stdout",
     "output_type": "stream",
     "text": [
      "                 all         70        961      0.109       0.14     0.0721     0.0132\n"
     ]
    },
    {
     "name": "stderr",
     "output_type": "stream",
     "text": [
      "\n",
      "     Epoch   gpu_mem       box       obj       cls    labels  img_size\n",
      "\n",
      "YOLO+BCC\n",
      "  0%|          | 0/4 [00:00<?, ?it/s]"
     ]
    },
    {
     "name": "stdout",
     "output_type": "stream",
     "text": [
      "Minimum probs (c1, c2, bkgd): [2e-06, 5e-06, 0.132812]\n",
      "Maximum probs (c1, c2, bkgd): [0.640303, 0.331075, 1.0]\n"
     ]
    },
    {
     "name": "stderr",
     "output_type": "stream",
     "text": [
      "     18/79     13.1G   0.07294    0.1029   0.02004       222       640:  25%|██▌       | 1/4 [00:00<00:01,  2.29it/s]"
     ]
    },
    {
     "name": "stdout",
     "output_type": "stream",
     "text": [
      "Minimum probs (c1, c2, bkgd): [5e-06, 3e-06, 0.128418]\n",
      "Maximum probs (c1, c2, bkgd): [0.684913, 0.445619, 1.0]\n"
     ]
    },
    {
     "name": "stderr",
     "output_type": "stream",
     "text": [
      "     18/79     13.1G   0.07329    0.1131   0.01979       336       640:  50%|█████     | 2/4 [00:00<00:00,  2.40it/s]"
     ]
    },
    {
     "name": "stdout",
     "output_type": "stream",
     "text": [
      "Minimum probs (c1, c2, bkgd): [6e-06, 2e-06, 0.109863]\n",
      "Maximum probs (c1, c2, bkgd): [0.702619, 0.392718, 1.0]\n"
     ]
    },
    {
     "name": "stderr",
     "output_type": "stream",
     "text": [
      "     18/79     15.6G   0.07339    0.1161   0.01998       114       640: 100%|██████████| 4/4 [00:01<00:00,  2.74it/s]\n"
     ]
    },
    {
     "name": "stdout",
     "output_type": "stream",
     "text": [
      "Minimum probs (c1, c2, bkgd): [2e-06, 4e-06, 0.143555]\n",
      "Maximum probs (c1, c2, bkgd): [0.705689, 0.366355, 1.0]\n"
     ]
    },
    {
     "name": "stderr",
     "output_type": "stream",
     "text": [
      "               Class     Images     Labels          P          R     mAP@.5 mAP@.5:.95: 100%|██████████| 2/2 [00:01<00:00,  1.06it/s]\n"
     ]
    },
    {
     "name": "stdout",
     "output_type": "stream",
     "text": [
      "                 all         80        220      0.566      0.101      0.036    0.00711\n"
     ]
    },
    {
     "name": "stderr",
     "output_type": "stream",
     "text": [
      "               Class     Images     Labels          P          R     mAP@.5 mAP@.5:.95: 100%|██████████| 4/4 [00:01<00:00,  2.24it/s]\n"
     ]
    },
    {
     "name": "stdout",
     "output_type": "stream",
     "text": [
      "                 all         70        961      0.126      0.126     0.0791     0.0143\n"
     ]
    },
    {
     "name": "stderr",
     "output_type": "stream",
     "text": [
      "\n",
      "     Epoch   gpu_mem       box       obj       cls    labels  img_size\n",
      "\n",
      "YOLO+BCC\n",
      "  0%|          | 0/4 [00:00<?, ?it/s]"
     ]
    },
    {
     "name": "stdout",
     "output_type": "stream",
     "text": [
      "Minimum probs (c1, c2, bkgd): [3e-06, 5e-06, 0.129395]\n",
      "Maximum probs (c1, c2, bkgd): [0.683943, 0.302926, 1.0]\n"
     ]
    },
    {
     "name": "stderr",
     "output_type": "stream",
     "text": [
      "     19/79     12.9G   0.07138       0.1   0.01812       222       640:  25%|██▌       | 1/4 [00:00<00:01,  2.31it/s]"
     ]
    },
    {
     "name": "stdout",
     "output_type": "stream",
     "text": [
      "Minimum probs (c1, c2, bkgd): [6e-06, 3e-06, 0.145508]\n",
      "Maximum probs (c1, c2, bkgd): [0.69226, 0.358615, 1.0]\n"
     ]
    },
    {
     "name": "stderr",
     "output_type": "stream",
     "text": [
      "     19/79     12.9G   0.07169    0.1097   0.01778       336       640:  50%|█████     | 2/4 [00:00<00:00,  2.34it/s]"
     ]
    },
    {
     "name": "stdout",
     "output_type": "stream",
     "text": [
      "Minimum probs (c1, c2, bkgd): [3e-06, 2e-06, 0.128418]\n",
      "Maximum probs (c1, c2, bkgd): [0.744653, 0.299159, 1.0]\n"
     ]
    },
    {
     "name": "stderr",
     "output_type": "stream",
     "text": [
      "     19/79     15.6G   0.07296    0.1128   0.01815       114       640: 100%|██████████| 4/4 [00:01<00:00,  2.74it/s]\n"
     ]
    },
    {
     "name": "stdout",
     "output_type": "stream",
     "text": [
      "Minimum probs (c1, c2, bkgd): [2e-06, 4e-06, 0.127441]\n",
      "Maximum probs (c1, c2, bkgd): [0.711852, 0.335326, 1.0]\n"
     ]
    },
    {
     "name": "stderr",
     "output_type": "stream",
     "text": [
      "               Class     Images     Labels          P          R     mAP@.5 mAP@.5:.95: 100%|██████████| 2/2 [00:01<00:00,  1.13it/s]\n"
     ]
    },
    {
     "name": "stdout",
     "output_type": "stream",
     "text": [
      "                 all         80        220      0.558     0.0876     0.0364    0.00843\n"
     ]
    },
    {
     "name": "stderr",
     "output_type": "stream",
     "text": [
      "               Class     Images     Labels          P          R     mAP@.5 mAP@.5:.95: 100%|██████████| 4/4 [00:01<00:00,  2.43it/s]\n"
     ]
    },
    {
     "name": "stdout",
     "output_type": "stream",
     "text": [
      "                 all         70        961      0.131      0.142     0.0836     0.0159\n"
     ]
    },
    {
     "name": "stderr",
     "output_type": "stream",
     "text": [
      "\n",
      "     Epoch   gpu_mem       box       obj       cls    labels  img_size\n",
      "\n",
      "YOLO+BCC\n",
      "  0%|          | 0/4 [00:00<?, ?it/s]"
     ]
    },
    {
     "name": "stdout",
     "output_type": "stream",
     "text": [
      "Minimum probs (c1, c2, bkgd): [3e-06, 5e-06, 0.133789]\n",
      "Maximum probs (c1, c2, bkgd): [0.731995, 0.317082, 1.0]\n"
     ]
    },
    {
     "name": "stderr",
     "output_type": "stream",
     "text": [
      "     20/79     13.3G   0.07119   0.09765   0.01631       222       640:  25%|██▌       | 1/4 [00:00<00:01,  2.48it/s]"
     ]
    },
    {
     "name": "stdout",
     "output_type": "stream",
     "text": [
      "Minimum probs (c1, c2, bkgd): [6e-06, 3e-06, 0.154785]\n",
      "Maximum probs (c1, c2, bkgd): [0.724542, 0.2974, 1.0]\n"
     ]
    },
    {
     "name": "stderr",
     "output_type": "stream",
     "text": [
      "     20/79     13.3G   0.07233    0.1069   0.01607       336       640:  50%|█████     | 2/4 [00:00<00:00,  2.63it/s]"
     ]
    },
    {
     "name": "stdout",
     "output_type": "stream",
     "text": [
      "Minimum probs (c1, c2, bkgd): [2e-06, 2e-06, 0.137695]\n",
      "Maximum probs (c1, c2, bkgd): [0.776919, 0.29548, 1.0]\n"
     ]
    },
    {
     "name": "stderr",
     "output_type": "stream",
     "text": [
      "     20/79     15.6G   0.07326    0.1099   0.01664       114       640: 100%|██████████| 4/4 [00:01<00:00,  2.92it/s]\n"
     ]
    },
    {
     "name": "stdout",
     "output_type": "stream",
     "text": [
      "Minimum probs (c1, c2, bkgd): [4e-06, 4e-06, 0.128418]\n",
      "Maximum probs (c1, c2, bkgd): [0.763935, 0.303705, 1.0]\n"
     ]
    },
    {
     "name": "stderr",
     "output_type": "stream",
     "text": [
      "               Class     Images     Labels          P          R     mAP@.5 mAP@.5:.95: 100%|██████████| 2/2 [00:01<00:00,  1.21it/s]\n"
     ]
    },
    {
     "name": "stdout",
     "output_type": "stream",
     "text": [
      "                 all         80        220      0.602     0.0696     0.0412    0.00762\n"
     ]
    },
    {
     "name": "stderr",
     "output_type": "stream",
     "text": [
      "               Class     Images     Labels          P          R     mAP@.5 mAP@.5:.95: 100%|██████████| 4/4 [00:01<00:00,  2.58it/s]\n"
     ]
    },
    {
     "name": "stdout",
     "output_type": "stream",
     "text": [
      "                 all         70        961      0.643      0.146     0.0909     0.0164\n"
     ]
    },
    {
     "name": "stderr",
     "output_type": "stream",
     "text": [
      "\n",
      "     Epoch   gpu_mem       box       obj       cls    labels  img_size\n",
      "\n",
      "YOLO+BCC\n",
      "  0%|          | 0/4 [00:00<?, ?it/s]"
     ]
    },
    {
     "name": "stdout",
     "output_type": "stream",
     "text": [
      "Minimum probs (c1, c2, bkgd): [6e-06, 6e-06, 0.143066]\n",
      "Maximum probs (c1, c2, bkgd): [0.768747, 0.284042, 1.0]\n"
     ]
    },
    {
     "name": "stderr",
     "output_type": "stream",
     "text": [
      "     21/79     12.9G   0.07068   0.09548   0.01492       222       640:  25%|██▌       | 1/4 [00:00<00:01,  2.56it/s]"
     ]
    },
    {
     "name": "stdout",
     "output_type": "stream",
     "text": [
      "Minimum probs (c1, c2, bkgd): [6e-06, 2e-06, 0.151855]\n",
      "Maximum probs (c1, c2, bkgd): [0.746529, 0.260679, 1.0]\n"
     ]
    },
    {
     "name": "stderr",
     "output_type": "stream",
     "text": [
      "     21/79     12.9G   0.07292    0.1045   0.01469       336       640:  50%|█████     | 2/4 [00:00<00:00,  2.70it/s]"
     ]
    },
    {
     "name": "stdout",
     "output_type": "stream",
     "text": [
      "Minimum probs (c1, c2, bkgd): [3e-06, 2e-06, 0.138184]\n",
      "Maximum probs (c1, c2, bkgd): [0.797136, 0.263466, 1.0]\n"
     ]
    },
    {
     "name": "stderr",
     "output_type": "stream",
     "text": [
      "     21/79     15.7G   0.07375    0.1075   0.01542       114       640: 100%|██████████| 4/4 [00:01<00:00,  2.88it/s]\n"
     ]
    },
    {
     "name": "stdout",
     "output_type": "stream",
     "text": [
      "Minimum probs (c1, c2, bkgd): [3e-06, 4e-06, 0.124512]\n",
      "Maximum probs (c1, c2, bkgd): [0.784685, 0.253971, 1.0]\n"
     ]
    },
    {
     "name": "stderr",
     "output_type": "stream",
     "text": [
      "               Class     Images     Labels          P          R     mAP@.5 mAP@.5:.95: 100%|██████████| 2/2 [00:01<00:00,  1.28it/s]\n"
     ]
    },
    {
     "name": "stdout",
     "output_type": "stream",
     "text": [
      "                 all         80        220      0.566      0.101     0.0398    0.00676\n"
     ]
    },
    {
     "name": "stderr",
     "output_type": "stream",
     "text": [
      "               Class     Images     Labels          P          R     mAP@.5 mAP@.5:.95: 100%|██████████| 4/4 [00:01<00:00,  2.80it/s]\n"
     ]
    },
    {
     "name": "stdout",
     "output_type": "stream",
     "text": [
      "                 all         70        961       0.64      0.157     0.0973     0.0182\n"
     ]
    },
    {
     "name": "stderr",
     "output_type": "stream",
     "text": [
      "\n",
      "     Epoch   gpu_mem       box       obj       cls    labels  img_size\n",
      "\n",
      "YOLO+BCC\n",
      "  0%|          | 0/4 [00:00<?, ?it/s]"
     ]
    },
    {
     "name": "stdout",
     "output_type": "stream",
     "text": [
      "Minimum probs (c1, c2, bkgd): [7e-06, 6e-06, 0.157227]\n",
      "Maximum probs (c1, c2, bkgd): [0.773848, 0.249506, 1.0]\n"
     ]
    },
    {
     "name": "stderr",
     "output_type": "stream",
     "text": [
      "     22/79     13.1G   0.06986   0.09314   0.01396       222       640:  25%|██▌       | 1/4 [00:00<00:01,  2.55it/s]"
     ]
    },
    {
     "name": "stdout",
     "output_type": "stream",
     "text": [
      "Minimum probs (c1, c2, bkgd): [7e-06, 2e-06, 0.131836]\n",
      "Maximum probs (c1, c2, bkgd): [0.763999, 0.213935, 1.0]\n"
     ]
    },
    {
     "name": "stderr",
     "output_type": "stream",
     "text": [
      "     22/79     13.1G   0.07287    0.1021   0.01366       336       640:  50%|█████     | 2/4 [00:00<00:00,  2.57it/s]"
     ]
    },
    {
     "name": "stdout",
     "output_type": "stream",
     "text": [
      "Minimum probs (c1, c2, bkgd): [3e-06, 2e-06, 0.158691]\n",
      "Maximum probs (c1, c2, bkgd): [0.789297, 0.250288, 1.0]\n"
     ]
    },
    {
     "name": "stderr",
     "output_type": "stream",
     "text": [
      "     22/79     15.6G   0.07277    0.1057   0.01454       114       640: 100%|██████████| 4/4 [00:01<00:00,  2.93it/s]\n"
     ]
    },
    {
     "name": "stdout",
     "output_type": "stream",
     "text": [
      "Minimum probs (c1, c2, bkgd): [9e-06, 3e-06, 0.12207]\n",
      "Maximum probs (c1, c2, bkgd): [0.774659, 0.212218, 1.0]\n"
     ]
    },
    {
     "name": "stderr",
     "output_type": "stream",
     "text": [
      "               Class     Images     Labels          P          R     mAP@.5 mAP@.5:.95: 100%|██████████| 2/2 [00:01<00:00,  1.34it/s]\n"
     ]
    },
    {
     "name": "stdout",
     "output_type": "stream",
     "text": [
      "                 all         80        220      0.581     0.0954     0.0347    0.00619\n"
     ]
    },
    {
     "name": "stderr",
     "output_type": "stream",
     "text": [
      "               Class     Images     Labels          P          R     mAP@.5 mAP@.5:.95: 100%|██████████| 4/4 [00:01<00:00,  2.96it/s]\n"
     ]
    },
    {
     "name": "stdout",
     "output_type": "stream",
     "text": [
      "                 all         70        961      0.629      0.166     0.0974     0.0176\n"
     ]
    },
    {
     "name": "stderr",
     "output_type": "stream",
     "text": [
      "\n",
      "     Epoch   gpu_mem       box       obj       cls    labels  img_size\n",
      "\n",
      "YOLO+BCC\n",
      "  0%|          | 0/4 [00:00<?, ?it/s]"
     ]
    },
    {
     "name": "stdout",
     "output_type": "stream",
     "text": [
      "Minimum probs (c1, c2, bkgd): [3e-06, 3e-06, 0.156738]\n",
      "Maximum probs (c1, c2, bkgd): [0.763445, 0.196702, 1.0]\n"
     ]
    },
    {
     "name": "stderr",
     "output_type": "stream",
     "text": [
      "     23/79     12.9G   0.07044   0.09206    0.0131       222       640:  25%|██▌       | 1/4 [00:00<00:01,  2.45it/s]"
     ]
    },
    {
     "name": "stdout",
     "output_type": "stream",
     "text": [
      "Minimum probs (c1, c2, bkgd): [6e-06, 2e-06, 0.11084]\n",
      "Maximum probs (c1, c2, bkgd): [0.780808, 0.195023, 1.0]\n"
     ]
    },
    {
     "name": "stderr",
     "output_type": "stream",
     "text": [
      "     23/79     12.9G   0.07442    0.1003   0.01287       336       640:  50%|█████     | 2/4 [00:00<00:00,  2.60it/s]"
     ]
    },
    {
     "name": "stdout",
     "output_type": "stream",
     "text": [
      "Minimum probs (c1, c2, bkgd): [7e-06, 2e-06, 0.140137]\n",
      "Maximum probs (c1, c2, bkgd): [0.821374, 0.214256, 1.0]\n"
     ]
    },
    {
     "name": "stderr",
     "output_type": "stream",
     "text": [
      "     23/79     15.7G   0.07415    0.1034   0.01378       114       640: 100%|██████████| 4/4 [00:01<00:00,  2.96it/s]\n"
     ]
    },
    {
     "name": "stdout",
     "output_type": "stream",
     "text": [
      "Minimum probs (c1, c2, bkgd): [1e-06, 3e-06, 0.132812]\n",
      "Maximum probs (c1, c2, bkgd): [0.802777, 0.195304, 1.0]\n"
     ]
    },
    {
     "name": "stderr",
     "output_type": "stream",
     "text": [
      "               Class     Images     Labels          P          R     mAP@.5 mAP@.5:.95: 100%|██████████| 2/2 [00:02<00:00,  1.29s/it]\n"
     ]
    },
    {
     "name": "stdout",
     "output_type": "stream",
     "text": [
      "                 all         80        220      0.598     0.0851     0.0421    0.00706\n"
     ]
    },
    {
     "name": "stderr",
     "output_type": "stream",
     "text": [
      "               Class     Images     Labels          P          R     mAP@.5 mAP@.5:.95: 100%|██████████| 4/4 [00:01<00:00,  3.36it/s]\n"
     ]
    },
    {
     "name": "stdout",
     "output_type": "stream",
     "text": [
      "                 all         70        961      0.646       0.17     0.0971     0.0179\n"
     ]
    },
    {
     "name": "stderr",
     "output_type": "stream",
     "text": [
      "\n",
      "     Epoch   gpu_mem       box       obj       cls    labels  img_size\n",
      "\n",
      "YOLO+BCC\n",
      "  0%|          | 0/4 [00:00<?, ?it/s]"
     ]
    },
    {
     "name": "stdout",
     "output_type": "stream",
     "text": [
      "Minimum probs (c1, c2, bkgd): [2e-06, 5e-06, 0.14209]\n",
      "Maximum probs (c1, c2, bkgd): [0.791693, 0.180283, 1.0]\n"
     ]
    },
    {
     "name": "stderr",
     "output_type": "stream",
     "text": [
      "     24/79       13G   0.07172    0.0902   0.01273       222       640:  25%|██▌       | 1/4 [00:00<00:01,  2.22it/s]"
     ]
    },
    {
     "name": "stdout",
     "output_type": "stream",
     "text": [
      "Minimum probs (c1, c2, bkgd): [5e-06, 3e-06, 0.095215]\n",
      "Maximum probs (c1, c2, bkgd): [0.794459, 0.173507, 1.0]\n"
     ]
    },
    {
     "name": "stderr",
     "output_type": "stream",
     "text": [
      "     24/79       13G   0.07511   0.09858   0.01246       336       640:  50%|█████     | 2/4 [00:00<00:00,  2.44it/s]"
     ]
    },
    {
     "name": "stdout",
     "output_type": "stream",
     "text": [
      "Minimum probs (c1, c2, bkgd): [2e-06, 2e-06, 0.134766]\n",
      "Maximum probs (c1, c2, bkgd): [0.828668, 0.178132, 1.0]\n"
     ]
    },
    {
     "name": "stderr",
     "output_type": "stream",
     "text": [
      "     24/79     15.6G   0.07475    0.1018   0.01342       114       640: 100%|██████████| 4/4 [00:01<00:00,  2.82it/s]\n"
     ]
    },
    {
     "name": "stdout",
     "output_type": "stream",
     "text": [
      "Minimum probs (c1, c2, bkgd): [0.0, 3e-06, 0.120605]\n",
      "Maximum probs (c1, c2, bkgd): [0.811701, 0.166908, 1.0]\n"
     ]
    },
    {
     "name": "stderr",
     "output_type": "stream",
     "text": [
      "               Class     Images     Labels          P          R     mAP@.5 mAP@.5:.95: 100%|██████████| 2/2 [00:01<00:00,  1.81it/s]\n"
     ]
    },
    {
     "name": "stdout",
     "output_type": "stream",
     "text": [
      "                 all         80        220      0.585      0.067     0.0333    0.00573\n"
     ]
    },
    {
     "name": "stderr",
     "output_type": "stream",
     "text": [
      "               Class     Images     Labels          P          R     mAP@.5 mAP@.5:.95: 100%|██████████| 4/4 [00:00<00:00,  4.08it/s]\n"
     ]
    },
    {
     "name": "stdout",
     "output_type": "stream",
     "text": [
      "                 all         70        961      0.635      0.195     0.0999     0.0182\n"
     ]
    },
    {
     "name": "stderr",
     "output_type": "stream",
     "text": [
      "\n",
      "     Epoch   gpu_mem       box       obj       cls    labels  img_size\n",
      "\n",
      "YOLO+BCC\n",
      "  0%|          | 0/4 [00:00<?, ?it/s]"
     ]
    },
    {
     "name": "stdout",
     "output_type": "stream",
     "text": [
      "Minimum probs (c1, c2, bkgd): [1e-06, 3e-06, 0.149414]\n",
      "Maximum probs (c1, c2, bkgd): [0.816627, 0.193593, 1.0]\n"
     ]
    },
    {
     "name": "stderr",
     "output_type": "stream",
     "text": [
      "     25/79       13G   0.07073   0.08863   0.01253       222       640:  25%|██▌       | 1/4 [00:00<00:01,  2.43it/s]"
     ]
    },
    {
     "name": "stdout",
     "output_type": "stream",
     "text": [
      "Minimum probs (c1, c2, bkgd): [6e-06, 2e-06, 0.121582]\n",
      "Maximum probs (c1, c2, bkgd): [0.828482, 0.158905, 1.0]\n"
     ]
    },
    {
     "name": "stderr",
     "output_type": "stream",
     "text": [
      "     25/79       13G   0.07218   0.09691   0.01217       336       640:  50%|█████     | 2/4 [00:00<00:00,  2.57it/s]"
     ]
    },
    {
     "name": "stdout",
     "output_type": "stream",
     "text": [
      "Minimum probs (c1, c2, bkgd): [3e-06, 2e-06, 0.143066]\n",
      "Maximum probs (c1, c2, bkgd): [0.806114, 0.1831, 1.0]\n"
     ]
    },
    {
     "name": "stderr",
     "output_type": "stream",
     "text": [
      "     25/79     15.7G   0.07407    0.1004   0.01311       114       640: 100%|██████████| 4/4 [00:01<00:00,  2.80it/s]\n"
     ]
    },
    {
     "name": "stdout",
     "output_type": "stream",
     "text": [
      "Minimum probs (c1, c2, bkgd): [0.0, 2e-06, 0.115234]\n",
      "Maximum probs (c1, c2, bkgd): [0.830369, 0.159, 1.0]\n"
     ]
    },
    {
     "name": "stderr",
     "output_type": "stream",
     "text": [
      "               Class     Images     Labels          P          R     mAP@.5 mAP@.5:.95: 100%|██████████| 2/2 [00:01<00:00,  1.92it/s]\n"
     ]
    },
    {
     "name": "stdout",
     "output_type": "stream",
     "text": [
      "                 all         80        220      0.573     0.0902     0.0357    0.00583\n"
     ]
    },
    {
     "name": "stderr",
     "output_type": "stream",
     "text": [
      "               Class     Images     Labels          P          R     mAP@.5 mAP@.5:.95: 100%|██████████| 4/4 [00:01<00:00,  3.92it/s]\n"
     ]
    },
    {
     "name": "stdout",
     "output_type": "stream",
     "text": [
      "                 all         70        961      0.646      0.168      0.102     0.0191\n"
     ]
    },
    {
     "name": "stderr",
     "output_type": "stream",
     "text": [
      "\n",
      "     Epoch   gpu_mem       box       obj       cls    labels  img_size\n",
      "\n",
      "YOLO+BCC\n",
      "  0%|          | 0/4 [00:00<?, ?it/s]"
     ]
    },
    {
     "name": "stdout",
     "output_type": "stream",
     "text": [
      "Minimum probs (c1, c2, bkgd): [2e-06, 3e-06, 0.142578]\n",
      "Maximum probs (c1, c2, bkgd): [0.779782, 0.157745, 1.0]\n"
     ]
    },
    {
     "name": "stderr",
     "output_type": "stream",
     "text": [
      "     26/79     13.1G   0.07059   0.08686   0.01221       222       640:  25%|██▌       | 1/4 [00:00<00:01,  2.50it/s]"
     ]
    },
    {
     "name": "stdout",
     "output_type": "stream",
     "text": [
      "Minimum probs (c1, c2, bkgd): [5e-06, 1e-06, 0.127441]\n",
      "Maximum probs (c1, c2, bkgd): [0.806645, 0.152798, 1.0]\n"
     ]
    },
    {
     "name": "stderr",
     "output_type": "stream",
     "text": [
      "     26/79     13.1G   0.07296   0.09512   0.01181       336       640:  50%|█████     | 2/4 [00:00<00:00,  2.62it/s]"
     ]
    },
    {
     "name": "stdout",
     "output_type": "stream",
     "text": [
      "Minimum probs (c1, c2, bkgd): [2e-06, 2e-06, 0.138184]\n",
      "Maximum probs (c1, c2, bkgd): [0.823991, 0.184627, 1.0]\n"
     ]
    },
    {
     "name": "stderr",
     "output_type": "stream",
     "text": [
      "     26/79     15.6G   0.07454   0.09874   0.01281       114       640: 100%|██████████| 4/4 [00:01<00:00,  2.92it/s]\n"
     ]
    },
    {
     "name": "stdout",
     "output_type": "stream",
     "text": [
      "Minimum probs (c1, c2, bkgd): [0.0, 2e-06, 0.126465]\n",
      "Maximum probs (c1, c2, bkgd): [0.826583, 0.177961, 1.0]\n"
     ]
    },
    {
     "name": "stderr",
     "output_type": "stream",
     "text": [
      "               Class     Images     Labels          P          R     mAP@.5 mAP@.5:.95: 100%|██████████| 2/2 [00:01<00:00,  1.93it/s]\n"
     ]
    },
    {
     "name": "stdout",
     "output_type": "stream",
     "text": [
      "                 all         80        220      0.582     0.0996     0.0378    0.00685\n"
     ]
    },
    {
     "name": "stderr",
     "output_type": "stream",
     "text": [
      "               Class     Images     Labels          P          R     mAP@.5 mAP@.5:.95: 100%|██████████| 4/4 [00:00<00:00,  4.11it/s]\n"
     ]
    },
    {
     "name": "stdout",
     "output_type": "stream",
     "text": [
      "                 all         70        961      0.664      0.195       0.12     0.0228\n"
     ]
    },
    {
     "name": "stderr",
     "output_type": "stream",
     "text": [
      "\n",
      "     Epoch   gpu_mem       box       obj       cls    labels  img_size\n",
      "\n",
      "YOLO+BCC\n",
      "  0%|          | 0/4 [00:00<?, ?it/s]"
     ]
    },
    {
     "name": "stdout",
     "output_type": "stream",
     "text": [
      "Minimum probs (c1, c2, bkgd): [3e-06, 3e-06, 0.129395]\n",
      "Maximum probs (c1, c2, bkgd): [0.80354, 0.213176, 1.0]\n"
     ]
    },
    {
     "name": "stderr",
     "output_type": "stream",
     "text": [
      "     27/79       13G   0.07199   0.08483   0.01187       222       640:  25%|██▌       | 1/4 [00:00<00:01,  2.64it/s]"
     ]
    },
    {
     "name": "stdout",
     "output_type": "stream",
     "text": [
      "Minimum probs (c1, c2, bkgd): [5e-06, 1e-06, 0.13916]\n",
      "Maximum probs (c1, c2, bkgd): [0.805814, 0.148738, 1.0]\n"
     ]
    },
    {
     "name": "stderr",
     "output_type": "stream",
     "text": [
      "     27/79       13G   0.07269   0.09333   0.01151       336       640:  50%|█████     | 2/4 [00:00<00:00,  2.73it/s]"
     ]
    },
    {
     "name": "stdout",
     "output_type": "stream",
     "text": [
      "Minimum probs (c1, c2, bkgd): [1e-06, 2e-06, 0.139648]\n",
      "Maximum probs (c1, c2, bkgd): [0.817013, 0.156678, 1.0]\n"
     ]
    },
    {
     "name": "stderr",
     "output_type": "stream",
     "text": [
      "     27/79     15.7G   0.07406   0.09735   0.01261       114       640: 100%|██████████| 4/4 [00:01<00:00,  3.01it/s]\n"
     ]
    },
    {
     "name": "stdout",
     "output_type": "stream",
     "text": [
      "Minimum probs (c1, c2, bkgd): [1e-06, 2e-06, 0.124023]\n",
      "Maximum probs (c1, c2, bkgd): [0.830136, 0.15444, 1.0]\n"
     ]
    },
    {
     "name": "stderr",
     "output_type": "stream",
     "text": [
      "               Class     Images     Labels          P          R     mAP@.5 mAP@.5:.95: 100%|██████████| 2/2 [00:01<00:00,  1.95it/s]\n"
     ]
    },
    {
     "name": "stdout",
     "output_type": "stream",
     "text": [
      "                 all         80        220      0.589     0.0954     0.0383    0.00654\n"
     ]
    },
    {
     "name": "stderr",
     "output_type": "stream",
     "text": [
      "               Class     Images     Labels          P          R     mAP@.5 mAP@.5:.95: 100%|██████████| 4/4 [00:00<00:00,  4.22it/s]\n"
     ]
    },
    {
     "name": "stdout",
     "output_type": "stream",
     "text": [
      "                 all         70        961      0.671      0.188      0.129     0.0245\n"
     ]
    },
    {
     "name": "stderr",
     "output_type": "stream",
     "text": [
      "\n",
      "     Epoch   gpu_mem       box       obj       cls    labels  img_size\n",
      "\n",
      "YOLO+BCC\n",
      "  0%|          | 0/4 [00:00<?, ?it/s]"
     ]
    },
    {
     "name": "stdout",
     "output_type": "stream",
     "text": [
      "Minimum probs (c1, c2, bkgd): [3e-06, 2e-06, 0.154297]\n",
      "Maximum probs (c1, c2, bkgd): [0.784838, 0.186879, 1.0]\n"
     ]
    },
    {
     "name": "stderr",
     "output_type": "stream",
     "text": [
      "     28/79     13.1G   0.06874    0.0831   0.01177       222       640:  25%|██▌       | 1/4 [00:00<00:01,  2.71it/s]"
     ]
    },
    {
     "name": "stdout",
     "output_type": "stream",
     "text": [
      "Minimum probs (c1, c2, bkgd): [5e-06, 1e-06, 0.135742]\n",
      "Maximum probs (c1, c2, bkgd): [0.800499, 0.131029, 1.0]\n"
     ]
    },
    {
     "name": "stderr",
     "output_type": "stream",
     "text": [
      "     28/79     13.1G   0.07029   0.09184   0.01139       336       640:  50%|█████     | 2/4 [00:00<00:00,  2.71it/s]"
     ]
    },
    {
     "name": "stdout",
     "output_type": "stream",
     "text": [
      "Minimum probs (c1, c2, bkgd): [1e-06, 2e-06, 0.142578]\n",
      "Maximum probs (c1, c2, bkgd): [0.813588, 0.163772, 1.0]\n"
     ]
    },
    {
     "name": "stderr",
     "output_type": "stream",
     "text": [
      "     28/79     15.7G   0.07265   0.09617   0.01247       114       640: 100%|██████████| 4/4 [00:01<00:00,  3.00it/s]\n"
     ]
    },
    {
     "name": "stdout",
     "output_type": "stream",
     "text": [
      "Minimum probs (c1, c2, bkgd): [1e-06, 2e-06, 0.116699]\n",
      "Maximum probs (c1, c2, bkgd): [0.835474, 0.153744, 1.0]\n"
     ]
    },
    {
     "name": "stderr",
     "output_type": "stream",
     "text": [
      "               Class     Images     Labels          P          R     mAP@.5 mAP@.5:.95: 100%|██████████| 2/2 [00:01<00:00,  1.98it/s]\n"
     ]
    },
    {
     "name": "stdout",
     "output_type": "stream",
     "text": [
      "                 all         80        220      0.577      0.108     0.0379    0.00713\n"
     ]
    },
    {
     "name": "stderr",
     "output_type": "stream",
     "text": [
      "               Class     Images     Labels          P          R     mAP@.5 mAP@.5:.95: 100%|██████████| 4/4 [00:00<00:00,  4.33it/s]\n"
     ]
    },
    {
     "name": "stdout",
     "output_type": "stream",
     "text": [
      "                 all         70        961      0.693      0.174       0.13     0.0253\n"
     ]
    },
    {
     "name": "stderr",
     "output_type": "stream",
     "text": [
      "\n",
      "     Epoch   gpu_mem       box       obj       cls    labels  img_size\n",
      "\n",
      "YOLO+BCC\n",
      "  0%|          | 0/4 [00:00<?, ?it/s]"
     ]
    },
    {
     "name": "stdout",
     "output_type": "stream",
     "text": [
      "Minimum probs (c1, c2, bkgd): [4e-06, 2e-06, 0.154297]\n",
      "Maximum probs (c1, c2, bkgd): [0.801934, 0.169937, 1.0]\n"
     ]
    },
    {
     "name": "stderr",
     "output_type": "stream",
     "text": [
      "     29/79     13.1G   0.06859   0.08155   0.01153       222       640:  25%|██▌       | 1/4 [00:00<00:01,  2.74it/s]"
     ]
    },
    {
     "name": "stdout",
     "output_type": "stream",
     "text": [
      "Minimum probs (c1, c2, bkgd): [5e-06, 1e-06, 0.150391]\n",
      "Maximum probs (c1, c2, bkgd): [0.796884, 0.127249, 1.0]\n"
     ]
    },
    {
     "name": "stderr",
     "output_type": "stream",
     "text": [
      "     29/79     13.1G   0.06979   0.09025    0.0112       336       640:  50%|█████     | 2/4 [00:00<00:00,  2.75it/s]"
     ]
    },
    {
     "name": "stdout",
     "output_type": "stream",
     "text": [
      "Minimum probs (c1, c2, bkgd): [1e-06, 1e-06, 0.141602]\n",
      "Maximum probs (c1, c2, bkgd): [0.817574, 0.162817, 1.0]\n"
     ]
    },
    {
     "name": "stderr",
     "output_type": "stream",
     "text": [
      "     29/79     15.7G   0.07221   0.09488   0.01236       114       640: 100%|██████████| 4/4 [00:01<00:00,  2.96it/s]\n"
     ]
    },
    {
     "name": "stdout",
     "output_type": "stream",
     "text": [
      "Minimum probs (c1, c2, bkgd): [1e-06, 2e-06, 0.12207]\n",
      "Maximum probs (c1, c2, bkgd): [0.831691, 0.144276, 1.0]\n"
     ]
    },
    {
     "name": "stderr",
     "output_type": "stream",
     "text": [
      "               Class     Images     Labels          P          R     mAP@.5 mAP@.5:.95: 100%|██████████| 2/2 [00:00<00:00,  2.09it/s]\n"
     ]
    },
    {
     "name": "stdout",
     "output_type": "stream",
     "text": [
      "                 all         80        220      0.577      0.108     0.0422    0.00786\n"
     ]
    },
    {
     "name": "stderr",
     "output_type": "stream",
     "text": [
      "               Class     Images     Labels          P          R     mAP@.5 mAP@.5:.95: 100%|██████████| 4/4 [00:00<00:00,  4.36it/s]\n"
     ]
    },
    {
     "name": "stdout",
     "output_type": "stream",
     "text": [
      "                 all         70        961      0.715      0.175      0.145     0.0293\n"
     ]
    },
    {
     "name": "stderr",
     "output_type": "stream",
     "text": [
      "\n",
      "     Epoch   gpu_mem       box       obj       cls    labels  img_size\n",
      "\n",
      "YOLO+BCC\n",
      "  0%|          | 0/4 [00:00<?, ?it/s]"
     ]
    },
    {
     "name": "stdout",
     "output_type": "stream",
     "text": [
      "Minimum probs (c1, c2, bkgd): [3e-06, 2e-06, 0.147461]\n",
      "Maximum probs (c1, c2, bkgd): [0.804662, 0.158052, 1.0]\n"
     ]
    },
    {
     "name": "stderr",
     "output_type": "stream",
     "text": [
      "     30/79     13.2G   0.06895   0.07982   0.01143       222       640:  25%|██▌       | 1/4 [00:00<00:01,  2.33it/s]"
     ]
    },
    {
     "name": "stdout",
     "output_type": "stream",
     "text": [
      "Minimum probs (c1, c2, bkgd): [5e-06, 2e-06, 0.154297]\n",
      "Maximum probs (c1, c2, bkgd): [0.791964, 0.117475, 1.0]\n"
     ]
    },
    {
     "name": "stderr",
     "output_type": "stream",
     "text": [
      "     30/79     13.2G   0.06951   0.08862   0.01111       336       640:  50%|█████     | 2/4 [00:00<00:00,  2.53it/s]"
     ]
    },
    {
     "name": "stdout",
     "output_type": "stream",
     "text": [
      "Minimum probs (c1, c2, bkgd): [3e-06, 2e-06, 0.145996]\n",
      "Maximum probs (c1, c2, bkgd): [0.804119, 0.151009, 1.0]\n"
     ]
    },
    {
     "name": "stderr",
     "output_type": "stream",
     "text": [
      "     30/79     15.6G   0.07115   0.09375   0.01232       114       640: 100%|██████████| 4/4 [00:01<00:00,  2.88it/s]\n"
     ]
    },
    {
     "name": "stdout",
     "output_type": "stream",
     "text": [
      "Minimum probs (c1, c2, bkgd): [1e-06, 2e-06, 0.121094]\n",
      "Maximum probs (c1, c2, bkgd): [0.829128, 0.135072, 1.0]\n"
     ]
    },
    {
     "name": "stderr",
     "output_type": "stream",
     "text": [
      "               Class     Images     Labels          P          R     mAP@.5 mAP@.5:.95: 100%|██████████| 2/2 [00:00<00:00,  2.12it/s]\n"
     ]
    },
    {
     "name": "stdout",
     "output_type": "stream",
     "text": [
      "                 all         80        220      0.583      0.113     0.0501     0.0101\n"
     ]
    },
    {
     "name": "stderr",
     "output_type": "stream",
     "text": [
      "               Class     Images     Labels          P          R     mAP@.5 mAP@.5:.95: 100%|██████████| 4/4 [00:00<00:00,  4.62it/s]\n"
     ]
    },
    {
     "name": "stdout",
     "output_type": "stream",
     "text": [
      "                 all         70        961      0.672      0.205      0.134     0.0269\n"
     ]
    },
    {
     "name": "stderr",
     "output_type": "stream",
     "text": [
      "\n",
      "     Epoch   gpu_mem       box       obj       cls    labels  img_size\n",
      "\n",
      "YOLO+BCC\n",
      "  0%|          | 0/4 [00:00<?, ?it/s]"
     ]
    },
    {
     "name": "stdout",
     "output_type": "stream",
     "text": [
      "Minimum probs (c1, c2, bkgd): [3e-06, 2e-06, 0.145996]\n",
      "Maximum probs (c1, c2, bkgd): [0.806778, 0.133368, 1.0]\n"
     ]
    },
    {
     "name": "stderr",
     "output_type": "stream",
     "text": [
      "     31/79     12.9G   0.06621   0.07811    0.0115       222       640:  25%|██▌       | 1/4 [00:00<00:01,  2.76it/s]"
     ]
    },
    {
     "name": "stdout",
     "output_type": "stream",
     "text": [
      "Minimum probs (c1, c2, bkgd): [4e-06, 2e-06, 0.160645]\n",
      "Maximum probs (c1, c2, bkgd): [0.798851, 0.115254, 1.0]\n"
     ]
    },
    {
     "name": "stderr",
     "output_type": "stream",
     "text": [
      "     31/79     13.1G   0.06766   0.08693   0.01114       336       640:  50%|█████     | 2/4 [00:00<00:00,  2.82it/s]"
     ]
    },
    {
     "name": "stdout",
     "output_type": "stream",
     "text": [
      "Minimum probs (c1, c2, bkgd): [1e-06, 1e-06, 0.130859]\n",
      "Maximum probs (c1, c2, bkgd): [0.838487, 0.164855, 1.0]\n"
     ]
    },
    {
     "name": "stderr",
     "output_type": "stream",
     "text": [
      "     31/79     15.7G   0.06913   0.09241   0.01242       114       640: 100%|██████████| 4/4 [00:01<00:00,  3.05it/s]\n"
     ]
    },
    {
     "name": "stdout",
     "output_type": "stream",
     "text": [
      "Minimum probs (c1, c2, bkgd): [1e-06, 2e-06, 0.118652]\n",
      "Maximum probs (c1, c2, bkgd): [0.836457, 0.12693, 1.0]\n"
     ]
    },
    {
     "name": "stderr",
     "output_type": "stream",
     "text": [
      "               Class     Images     Labels          P          R     mAP@.5 mAP@.5:.95: 100%|██████████| 2/2 [00:02<00:00,  1.18s/it]\n"
     ]
    },
    {
     "name": "stdout",
     "output_type": "stream",
     "text": [
      "                 all         80        220      0.583      0.121     0.0408    0.00757\n"
     ]
    },
    {
     "name": "stderr",
     "output_type": "stream",
     "text": [
      "               Class     Images     Labels          P          R     mAP@.5 mAP@.5:.95: 100%|██████████| 4/4 [00:00<00:00,  4.15it/s]\n"
     ]
    },
    {
     "name": "stdout",
     "output_type": "stream",
     "text": [
      "                 all         70        961      0.694      0.192      0.145     0.0287\n"
     ]
    },
    {
     "name": "stderr",
     "output_type": "stream",
     "text": [
      "\n",
      "     Epoch   gpu_mem       box       obj       cls    labels  img_size\n",
      "\n",
      "YOLO+BCC\n",
      "  0%|          | 0/4 [00:00<?, ?it/s]"
     ]
    },
    {
     "name": "stdout",
     "output_type": "stream",
     "text": [
      "Minimum probs (c1, c2, bkgd): [3e-06, 2e-06, 0.152344]\n",
      "Maximum probs (c1, c2, bkgd): [0.792373, 0.128874, 1.0]\n"
     ]
    },
    {
     "name": "stderr",
     "output_type": "stream",
     "text": [
      "     32/79     12.7G   0.06673   0.07669   0.01146       222       640:  25%|██▌       | 1/4 [00:00<00:01,  2.20it/s]"
     ]
    },
    {
     "name": "stdout",
     "output_type": "stream",
     "text": [
      "Minimum probs (c1, c2, bkgd): [2e-06, 3e-06, 0.106934]\n",
      "Maximum probs (c1, c2, bkgd): [0.823158, 0.128388, 1.0]\n"
     ]
    },
    {
     "name": "stderr",
     "output_type": "stream",
     "text": [
      "     32/79     12.9G   0.06782   0.08649    0.0111       336       640:  50%|█████     | 2/4 [00:00<00:00,  2.43it/s]"
     ]
    },
    {
     "name": "stdout",
     "output_type": "stream",
     "text": [
      "Minimum probs (c1, c2, bkgd): [2e-06, 2e-06, 0.141113]\n",
      "Maximum probs (c1, c2, bkgd): [0.810235, 0.142699, 1.0]\n"
     ]
    },
    {
     "name": "stderr",
     "output_type": "stream",
     "text": [
      "     32/79     15.6G   0.06858   0.09224   0.01247       114       640: 100%|██████████| 4/4 [00:01<00:00,  2.79it/s]\n"
     ]
    },
    {
     "name": "stdout",
     "output_type": "stream",
     "text": [
      "Minimum probs (c1, c2, bkgd): [1e-06, 1e-06, 0.145508]\n",
      "Maximum probs (c1, c2, bkgd): [0.810398, 0.154057, 1.0]\n"
     ]
    },
    {
     "name": "stderr",
     "output_type": "stream",
     "text": [
      "               Class     Images     Labels          P          R     mAP@.5 mAP@.5:.95: 100%|██████████| 2/2 [00:00<00:00,  2.69it/s]\n"
     ]
    },
    {
     "name": "stdout",
     "output_type": "stream",
     "text": [
      "                 all         80        220      0.566      0.129     0.0405    0.00757\n"
     ]
    },
    {
     "name": "stderr",
     "output_type": "stream",
     "text": [
      "               Class     Images     Labels          P          R     mAP@.5 mAP@.5:.95: 100%|██████████| 4/4 [00:00<00:00,  5.89it/s]\n"
     ]
    },
    {
     "name": "stdout",
     "output_type": "stream",
     "text": [
      "                 all         70        961      0.679      0.167      0.125     0.0255\n"
     ]
    },
    {
     "name": "stderr",
     "output_type": "stream",
     "text": [
      "\n",
      "     Epoch   gpu_mem       box       obj       cls    labels  img_size\n",
      "\n",
      "YOLO+BCC\n",
      "  0%|          | 0/4 [00:00<?, ?it/s]"
     ]
    },
    {
     "name": "stdout",
     "output_type": "stream",
     "text": [
      "Minimum probs (c1, c2, bkgd): [2e-06, 1e-06, 0.140625]\n",
      "Maximum probs (c1, c2, bkgd): [0.786522, 0.133228, 1.0]\n"
     ]
    },
    {
     "name": "stderr",
     "output_type": "stream",
     "text": [
      "     33/79     13.1G   0.06422   0.07698   0.01153       222       640:  25%|██▌       | 1/4 [00:00<00:01,  1.69it/s]\n"
     ]
    },
    {
     "name": "stdout",
     "output_type": "stream",
     "text": [
      "Minimum probs (c1, c2, bkgd): [1e-06, 3e-06, 0.141602]\n",
      "Maximum probs (c1, c2, bkgd): [0.82282, 0.095168, 1.0]\n"
     ]
    },
    {
     "ename": "KeyboardInterrupt",
     "evalue": "",
     "output_type": "error",
     "traceback": [
      "\u001b[1;31m---------------------------------------------------------------------------\u001b[0m",
      "\u001b[1;31mKeyboardInterrupt\u001b[0m                         Traceback (most recent call last)",
      "\u001b[1;32m~\\OneDrive - University of Surrey\\Documents\\GitHub\\dental_disease\\src\\train.py\u001b[0m in \u001b[0;36m<module>\u001b[1;34m\u001b[0m\n\u001b[0;32m    720\u001b[0m \u001b[1;32mif\u001b[0m \u001b[0m__name__\u001b[0m \u001b[1;33m==\u001b[0m \u001b[1;34m\"__main__\"\u001b[0m\u001b[1;33m:\u001b[0m\u001b[1;33m\u001b[0m\u001b[1;33m\u001b[0m\u001b[0m\n\u001b[0;32m    721\u001b[0m     \u001b[0mopt\u001b[0m \u001b[1;33m=\u001b[0m \u001b[0mparse_opt\u001b[0m\u001b[1;33m(\u001b[0m\u001b[1;33m)\u001b[0m\u001b[1;33m\u001b[0m\u001b[1;33m\u001b[0m\u001b[0m\n\u001b[1;32m--> 722\u001b[1;33m     \u001b[0mmain\u001b[0m\u001b[1;33m(\u001b[0m\u001b[0mopt\u001b[0m\u001b[1;33m)\u001b[0m\u001b[1;33m\u001b[0m\u001b[1;33m\u001b[0m\u001b[0m\n\u001b[0m\u001b[0;32m    723\u001b[0m \u001b[1;31m#torch.cuda.empty_cache()\u001b[0m\u001b[1;33m\u001b[0m\u001b[1;33m\u001b[0m\u001b[0m\n\u001b[0;32m    724\u001b[0m \u001b[1;33m\u001b[0m\u001b[0m\n",
      "\u001b[1;32m~\\OneDrive - University of Surrey\\Documents\\GitHub\\dental_disease\\src\\train.py\u001b[0m in \u001b[0;36mmain\u001b[1;34m(opt)\u001b[0m\n\u001b[0;32m    618\u001b[0m     \u001b[1;31m# Train\u001b[0m\u001b[1;33m\u001b[0m\u001b[1;33m\u001b[0m\u001b[0m\n\u001b[0;32m    619\u001b[0m     \u001b[1;32mif\u001b[0m \u001b[1;32mnot\u001b[0m \u001b[0mopt\u001b[0m\u001b[1;33m.\u001b[0m\u001b[0mevolve\u001b[0m\u001b[1;33m:\u001b[0m\u001b[1;33m\u001b[0m\u001b[1;33m\u001b[0m\u001b[0m\n\u001b[1;32m--> 620\u001b[1;33m         \u001b[0mtrain\u001b[0m\u001b[1;33m(\u001b[0m\u001b[0mopt\u001b[0m\u001b[1;33m.\u001b[0m\u001b[0mhyp\u001b[0m\u001b[1;33m,\u001b[0m \u001b[0mopt\u001b[0m\u001b[1;33m,\u001b[0m \u001b[0mdevice\u001b[0m\u001b[1;33m)\u001b[0m\u001b[1;33m\u001b[0m\u001b[1;33m\u001b[0m\u001b[0m\n\u001b[0m\u001b[0;32m    621\u001b[0m         \u001b[1;32mif\u001b[0m \u001b[0mWORLD_SIZE\u001b[0m \u001b[1;33m>\u001b[0m \u001b[1;36m1\u001b[0m \u001b[1;32mand\u001b[0m \u001b[0mRANK\u001b[0m \u001b[1;33m==\u001b[0m \u001b[1;36m0\u001b[0m\u001b[1;33m:\u001b[0m\u001b[1;33m\u001b[0m\u001b[1;33m\u001b[0m\u001b[0m\n\u001b[0;32m    622\u001b[0m             \u001b[0m_\u001b[0m \u001b[1;33m=\u001b[0m \u001b[1;33m[\u001b[0m\u001b[0mprint\u001b[0m\u001b[1;33m(\u001b[0m\u001b[1;34m'Destroying process group... '\u001b[0m\u001b[1;33m,\u001b[0m \u001b[0mend\u001b[0m\u001b[1;33m=\u001b[0m\u001b[1;34m''\u001b[0m\u001b[1;33m)\u001b[0m\u001b[1;33m,\u001b[0m \u001b[0mdist\u001b[0m\u001b[1;33m.\u001b[0m\u001b[0mdestroy_process_group\u001b[0m\u001b[1;33m(\u001b[0m\u001b[1;33m)\u001b[0m\u001b[1;33m,\u001b[0m \u001b[0mprint\u001b[0m\u001b[1;33m(\u001b[0m\u001b[1;34m'Done.'\u001b[0m\u001b[1;33m)\u001b[0m\u001b[1;33m]\u001b[0m\u001b[1;33m\u001b[0m\u001b[1;33m\u001b[0m\u001b[0m\n",
      "\u001b[1;32m~\\OneDrive - University of Surrey\\Documents\\GitHub\\dental_disease\\src\\train.py\u001b[0m in \u001b[0;36mtrain\u001b[1;34m(hyp, opt, device, callbacks)\u001b[0m\n\u001b[0;32m    366\u001b[0m                     \u001b[0mbatch_pred_yolo\u001b[0m \u001b[1;33m=\u001b[0m \u001b[0mnn_predict\u001b[0m\u001b[1;33m(\u001b[0m\u001b[0mmodel\u001b[0m\u001b[1;33m,\u001b[0m \u001b[0mimgs\u001b[0m\u001b[1;33m,\u001b[0m \u001b[0mimgsz\u001b[0m\u001b[1;33m,\u001b[0m \u001b[0mtransform_format_flag\u001b[0m\u001b[1;33m=\u001b[0m\u001b[1;32mFalse\u001b[0m\u001b[1;33m)\u001b[0m \u001b[1;31m# y_hat_yolo\u001b[0m\u001b[1;33m\u001b[0m\u001b[1;33m\u001b[0m\u001b[0m\n\u001b[0;32m    367\u001b[0m                     \u001b[0mbatch_pred_bcc\u001b[0m\u001b[1;33m,\u001b[0m \u001b[0m_\u001b[0m\u001b[1;33m,\u001b[0m \u001b[0mbatch_conf\u001b[0m \u001b[1;33m=\u001b[0m \u001b[0myolo2bcc_newer\u001b[0m\u001b[1;33m(\u001b[0m\u001b[0mbatch_pred_yolo\u001b[0m\u001b[1;33m,\u001b[0m \u001b[0mimgsz\u001b[0m\u001b[1;33m,\u001b[0m \u001b[0msilent\u001b[0m\u001b[1;33m=\u001b[0m\u001b[1;32mFalse\u001b[0m\u001b[1;33m)\u001b[0m \u001b[1;31m# y_hat_bcc\u001b[0m\u001b[1;33m\u001b[0m\u001b[1;33m\u001b[0m\u001b[0m\n\u001b[1;32m--> 368\u001b[1;33m                     \u001b[0mbatch_qtargets\u001b[0m\u001b[1;33m,\u001b[0m \u001b[0mbatch_pcm\u001b[0m\u001b[1;33m[\u001b[0m\u001b[1;34m'variational'\u001b[0m\u001b[1;33m]\u001b[0m\u001b[1;33m,\u001b[0m \u001b[0mbatch_lb\u001b[0m \u001b[1;33m=\u001b[0m \u001b[0mVBi_yolo\u001b[0m\u001b[1;33m(\u001b[0m\u001b[0mtarget_volunteers_bcc\u001b[0m\u001b[1;33m,\u001b[0m \u001b[0mbatch_pred_bcc\u001b[0m\u001b[1;33m,\u001b[0m \u001b[0mbatch_pcm\u001b[0m\u001b[1;33m[\u001b[0m\u001b[1;34m'variational'\u001b[0m\u001b[1;33m]\u001b[0m\u001b[1;33m,\u001b[0m \u001b[0mbatch_pcm\u001b[0m\u001b[1;33m[\u001b[0m\u001b[1;34m'prior'\u001b[0m\u001b[1;33m]\u001b[0m\u001b[1;33m,\u001b[0m \u001b[0mtorchMode\u001b[0m \u001b[1;33m=\u001b[0m \u001b[0mtorchMode\u001b[0m\u001b[1;33m,\u001b[0m \u001b[0mdevice\u001b[0m\u001b[1;33m=\u001b[0m\u001b[0mdevice\u001b[0m\u001b[1;33m,\u001b[0m \u001b[0minvert_classes\u001b[0m \u001b[1;33m=\u001b[0m \u001b[1;32mFalse\u001b[0m\u001b[1;33m)\u001b[0m\u001b[1;33m\u001b[0m\u001b[1;33m\u001b[0m\u001b[0m\n\u001b[0m\u001b[0;32m    369\u001b[0m                     \u001b[0mLBs\u001b[0m\u001b[1;33m.\u001b[0m\u001b[0mappend\u001b[0m\u001b[1;33m(\u001b[0m\u001b[0mbatch_lb\u001b[0m\u001b[1;33m)\u001b[0m\u001b[1;33m\u001b[0m\u001b[1;33m\u001b[0m\u001b[0m\n\u001b[0;32m    370\u001b[0m                     \u001b[1;32mwith\u001b[0m \u001b[0mtorch\u001b[0m\u001b[1;33m.\u001b[0m\u001b[0mno_grad\u001b[0m\u001b[1;33m(\u001b[0m\u001b[1;33m)\u001b[0m\u001b[1;33m:\u001b[0m\u001b[1;33m\u001b[0m\u001b[1;33m\u001b[0m\u001b[0m\n",
      "\u001b[1;32m~\\OneDrive - University of Surrey\\Documents\\GitHub\\dental_disease\\src\\lib\\BCCNet\\VariationalInference\\VB_iteration_yolo.py\u001b[0m in \u001b[0;36mVB_iteration\u001b[1;34m(X, nn_output, alpha_volunteers, alpha0_volunteers, torchMode, device, invert_classes)\u001b[0m\n\u001b[0;32m     38\u001b[0m \u001b[1;33m\u001b[0m\u001b[0m\n\u001b[0;32m     39\u001b[0m     \u001b[1;31m# q_pi_workers\u001b[0m\u001b[1;33m\u001b[0m\u001b[1;33m\u001b[0m\u001b[0m\n\u001b[1;32m---> 40\u001b[1;33m     \u001b[0malpha_volunteers\u001b[0m \u001b[1;33m=\u001b[0m \u001b[0mupdate_alpha_volunteers\u001b[0m\u001b[1;33m(\u001b[0m\u001b[0malpha0_volunteers\u001b[0m\u001b[1;33m,\u001b[0m \u001b[0mNjl\u001b[0m\u001b[1;33m,\u001b[0m \u001b[0mtorchMode\u001b[0m\u001b[1;33m,\u001b[0m \u001b[0mdevice\u001b[0m\u001b[1;33m=\u001b[0m\u001b[0mdevice\u001b[0m\u001b[1;33m)\u001b[0m\u001b[1;33m\u001b[0m\u001b[1;33m\u001b[0m\u001b[0m\n\u001b[0m\u001b[0;32m     41\u001b[0m \u001b[1;33m\u001b[0m\u001b[0m\n\u001b[0;32m     42\u001b[0m     \u001b[1;31m# Low bound\u001b[0m\u001b[1;33m\u001b[0m\u001b[1;33m\u001b[0m\u001b[0m\n",
      "\u001b[1;32m~\\OneDrive - University of Surrey\\Documents\\GitHub\\dental_disease\\src\\lib\\BCCNet\\VariationalInference\\VB_iteration_yolo.py\u001b[0m in \u001b[0;36mupdate_alpha_volunteers\u001b[1;34m(alpha0_volunteers, f_iu, torchMode, device)\u001b[0m\n\u001b[0;32m    140\u001b[0m     \u001b[1;33m(\u001b[0m\u001b[0mbase_lib\u001b[0m\u001b[1;33m,\u001b[0m\u001b[1;33m)\u001b[0m \u001b[1;33m=\u001b[0m \u001b[0mget_modules\u001b[0m\u001b[1;33m(\u001b[0m\u001b[0mtorchMode\u001b[0m\u001b[1;33m,\u001b[0m \u001b[1;33m[\u001b[0m\u001b[1;34m'base_lib'\u001b[0m\u001b[1;33m]\u001b[0m\u001b[1;33m)\u001b[0m\u001b[1;33m\u001b[0m\u001b[1;33m\u001b[0m\u001b[0m\n\u001b[0;32m    141\u001b[0m     \u001b[0mK\u001b[0m \u001b[1;33m=\u001b[0m \u001b[0malpha0_volunteers\u001b[0m\u001b[1;33m.\u001b[0m\u001b[0mshape\u001b[0m\u001b[1;33m[\u001b[0m\u001b[1;36m2\u001b[0m\u001b[1;33m]\u001b[0m\u001b[1;33m\u001b[0m\u001b[1;33m\u001b[0m\u001b[0m\n\u001b[1;32m--> 142\u001b[1;33m     \u001b[0malpha_volunteers\u001b[0m \u001b[1;33m=\u001b[0m \u001b[0mbase_lib\u001b[0m\u001b[1;33m.\u001b[0m\u001b[0mzeros_like\u001b[0m\u001b[1;33m(\u001b[0m\u001b[0malpha0_volunteers\u001b[0m\u001b[1;33m)\u001b[0m\u001b[1;33m\u001b[0m\u001b[1;33m\u001b[0m\u001b[0m\n\u001b[0m\u001b[0;32m    143\u001b[0m     \u001b[1;32mif\u001b[0m \u001b[0mtorchMode\u001b[0m\u001b[1;33m:\u001b[0m\u001b[1;33m\u001b[0m\u001b[1;33m\u001b[0m\u001b[0m\n\u001b[0;32m    144\u001b[0m         \u001b[0malpha_volunteers\u001b[0m \u001b[1;33m=\u001b[0m \u001b[0malpha_volunteers\u001b[0m\u001b[1;33m.\u001b[0m\u001b[0mto\u001b[0m\u001b[1;33m(\u001b[0m\u001b[0mdevice\u001b[0m\u001b[1;33m)\u001b[0m\u001b[1;33m\u001b[0m\u001b[1;33m\u001b[0m\u001b[0m\n",
      "\u001b[1;31mKeyboardInterrupt\u001b[0m: "
     ]
    }
   ],
   "source": [
    "os.environ['KMP_DUPLICATE_LIB_OK']='True'\n",
    "%run -i ../src/train.py --data ../data/cyolo.yaml --batch-size 20 --epochs 80 --bcc_epoch 0 --name Expset1_all_cyolo"
   ]
  },
  {
   "cell_type": "code",
   "execution_count": 3,
   "id": "b3ff31f1-e3c4-4cf3-9cb9-cf16fe9b85be",
   "metadata": {},
   "outputs": [
    {
     "name": "stdout",
     "output_type": "stream",
     "text": [
      "\u001b[34m\u001b[1mval: \u001b[0mdata=../data/iid-tvt.yaml, weights=['runs/train/Expset1_all_cyolo/weights/best.pt'], batch_size=32, imgsz=640, conf_thres=0.001, iou_thres=0.6, task=test, device=, single_cls=False, augment=False, verbose=False, save_txt=False, save_hybrid=False, save_conf=False, save_json=False, project=runs/val, name=Expset1_all_cyolo_test, exist_ok=False, half=False\n",
      "                 all         10         32      0.566      0.182     0.0328    0.00475\n",
      "           bone-loss         10         11      0.133      0.364     0.0649    0.00938\n",
      "       dental-caries         10         21          1          0    0.00063   0.000126\n",
      "Speed: 1.6ms pre-process, 24.4ms inference, 3.9ms NMS per image at shape (32, 3, 640, 640)\n",
      "Results saved to \u001b[1mruns\\val\\Expset1_all_cyolo_test\u001b[0m\n"
     ]
    },
    {
     "name": "stderr",
     "output_type": "stream",
     "text": [
      "YOLOv5  2022-1-18 torch 1.10.1+cu113 CUDA:0 (NVIDIA GeForce RTX 3090, 24575.5MB)\n",
      "\n",
      "Fusing layers... \n",
      "C:\\Users\\rb01243\\Anaconda3\\lib\\site-packages\\torch\\functional.py:445: UserWarning: torch.meshgrid: in an upcoming release, it will be required to pass the indexing argument. (Triggered internally at  ..\\aten\\src\\ATen\\native\\TensorShape.cpp:2157.)\n",
      "  return _VF.meshgrid(tensors, **kwargs)  # type: ignore[attr-defined]\n",
      "Model Summary: 213 layers, 7015519 parameters, 0 gradients, 15.8 GFLOPs\n",
      "\n",
      "\u001b[34m\u001b[1mtest: \u001b[0mScanning '..\\data\\datasets\\iid-tvt\\labels\\test.cache' images and labels... 10 found, 0 missing, 0 empty, 0 corrupted: 100%|##########| 10/10 [00:00<?, ?it/s]\n",
      "\u001b[34m\u001b[1mtest: \u001b[0mScanning '..\\data\\datasets\\iid-tvt\\labels\\test.cache' images and labels... 10 found, 0 missing, 0 empty, 0 corrupted: 100%|##########| 10/10 [00:00<?, ?it/s]\n",
      "\n",
      "               Class     Images     Labels          P          R     mAP@.5 mAP@.5:.95:   0%|          | 0/1 [00:00<?, ?it/s]\n",
      "               Class     Images     Labels          P          R     mAP@.5 mAP@.5:.95: 100%|##########| 1/1 [00:05<00:00,  5.97s/it]\n",
      "               Class     Images     Labels          P          R     mAP@.5 mAP@.5:.95: 100%|##########| 1/1 [00:05<00:00,  5.97s/it]\n"
     ]
    }
   ],
   "source": [
    "os.environ['KMP_DUPLICATE_LIB_OK']='True'\n",
    "!python ../src/val.py --weights runs/train/Expset1_all_cyolo/weights/best.pt --data ../data/iid-tvt.yaml --task test --name Expset1_all_cyolo_test"
   ]
  },
  {
   "cell_type": "code",
   "execution_count": 2,
   "id": "10ecd43c-73f7-4095-a86c-9ada6aed3837",
   "metadata": {},
   "outputs": [
    {
     "ename": "ImportError",
     "evalue": "cannot import name 'save_one_box' from 'utils.general' (C:\\Users\\rb01243\\OneDrive - University of Surrey\\Documents\\GitHub\\dental_disease\\yolov5-master\\utils\\general.py)",
     "output_type": "error",
     "traceback": [
      "\u001b[1;31m---------------------------------------------------------------------------\u001b[0m",
      "\u001b[1;31mImportError\u001b[0m                               Traceback (most recent call last)",
      "\u001b[1;32m~\\OneDrive - University of Surrey\\Documents\\GitHub\\dental_disease\\src\\train.py\u001b[0m in \u001b[0;36m<module>\u001b[1;34m\u001b[0m\n\u001b[0;32m     30\u001b[0m \u001b[1;32mimport\u001b[0m \u001b[0myaml\u001b[0m\u001b[1;33m\u001b[0m\u001b[1;33m\u001b[0m\u001b[0m\n\u001b[0;32m     31\u001b[0m \u001b[1;33m\u001b[0m\u001b[0m\n\u001b[1;32m---> 32\u001b[1;33m \u001b[1;32mfrom\u001b[0m \u001b[0mcyolo_utils\u001b[0m\u001b[1;33m.\u001b[0m\u001b[0mtrain_with_bcc\u001b[0m \u001b[1;32mimport\u001b[0m \u001b[0mVOL_ID_MAP\u001b[0m\u001b[1;33m,\u001b[0m \u001b[0mSINGLE_VOL_ID_MAP\u001b[0m\u001b[1;33m,\u001b[0m\u001b[0;31m \u001b[0m\u001b[0;31m\\\u001b[0m\u001b[1;33m\u001b[0m\u001b[1;33m\u001b[0m\u001b[0m\n\u001b[0m\u001b[0;32m     33\u001b[0m     \u001b[0mconvert_target_volunteers_yolo2bcc\u001b[0m\u001b[1;33m,\u001b[0m \u001b[0mget_file_volunteers_dict\u001b[0m\u001b[1;33m,\u001b[0m \u001b[0mextract_volunteers\u001b[0m\u001b[1;33m,\u001b[0m\u001b[0;31m \u001b[0m\u001b[0;31m\\\u001b[0m\u001b[1;33m\u001b[0m\u001b[1;33m\u001b[0m\u001b[0m\n\u001b[0;32m     34\u001b[0m     \u001b[0mnn_predict\u001b[0m\u001b[1;33m,\u001b[0m \u001b[0minit_bcc_params\u001b[0m\u001b[1;33m,\u001b[0m \u001b[0mcompute_param_confusion_matrices\u001b[0m\u001b[1;33m,\u001b[0m \u001b[0minit_metrics\u001b[0m\u001b[1;33m\u001b[0m\u001b[1;33m\u001b[0m\u001b[0m\n",
      "\u001b[1;32m~\\OneDrive - University of Surrey\\Documents\\GitHub\\dental_disease\\src\\cyolo_utils\\train_with_bcc.py\u001b[0m in \u001b[0;36m<module>\u001b[1;34m\u001b[0m\n\u001b[0;32m      5\u001b[0m \u001b[1;32mfrom\u001b[0m \u001b[0mutils\u001b[0m\u001b[1;33m.\u001b[0m\u001b[0mgeneral\u001b[0m \u001b[1;32mimport\u001b[0m \u001b[0mxywh2xyxy\u001b[0m\u001b[1;33m\u001b[0m\u001b[1;33m\u001b[0m\u001b[0m\n\u001b[0;32m      6\u001b[0m \u001b[1;32mfrom\u001b[0m \u001b[0mutils\u001b[0m\u001b[1;33m.\u001b[0m\u001b[0mgeneral\u001b[0m \u001b[1;32mimport\u001b[0m \u001b[0mcheck_dataset\u001b[0m\u001b[1;33m,\u001b[0m \u001b[0mcheck_file\u001b[0m\u001b[1;33m,\u001b[0m \u001b[0mincrement_path\u001b[0m\u001b[1;33m\u001b[0m\u001b[1;33m\u001b[0m\u001b[0m\n\u001b[1;32m----> 7\u001b[1;33m \u001b[1;32mimport\u001b[0m \u001b[0mdetect\u001b[0m\u001b[1;33m\u001b[0m\u001b[1;33m\u001b[0m\u001b[0m\n\u001b[0m\u001b[0;32m      8\u001b[0m \u001b[1;32mimport\u001b[0m \u001b[0mnumpy\u001b[0m \u001b[1;32mas\u001b[0m \u001b[0mnp\u001b[0m\u001b[1;33m\u001b[0m\u001b[1;33m\u001b[0m\u001b[0m\n\u001b[0;32m      9\u001b[0m \u001b[1;32mimport\u001b[0m \u001b[0mos\u001b[0m\u001b[1;33m\u001b[0m\u001b[1;33m\u001b[0m\u001b[0m\n",
      "\u001b[1;32m~\\OneDrive - University of Surrey\\Documents\\GitHub\\dental_disease\\src\\detect.py\u001b[0m in \u001b[0;36m<module>\u001b[1;34m\u001b[0m\n\u001b[0;32m     22\u001b[0m \u001b[1;32mfrom\u001b[0m \u001b[0mmodels\u001b[0m\u001b[1;33m.\u001b[0m\u001b[0mexperimental\u001b[0m \u001b[1;32mimport\u001b[0m \u001b[0mattempt_load\u001b[0m\u001b[1;33m\u001b[0m\u001b[1;33m\u001b[0m\u001b[0m\n\u001b[0;32m     23\u001b[0m \u001b[1;32mfrom\u001b[0m \u001b[0mutils\u001b[0m\u001b[1;33m.\u001b[0m\u001b[0mdatasets\u001b[0m \u001b[1;32mimport\u001b[0m \u001b[0mLoadStreams\u001b[0m\u001b[1;33m,\u001b[0m \u001b[0mLoadImages\u001b[0m\u001b[1;33m\u001b[0m\u001b[1;33m\u001b[0m\u001b[0m\n\u001b[1;32m---> 24\u001b[1;33m \u001b[1;32mfrom\u001b[0m \u001b[0mutils\u001b[0m\u001b[1;33m.\u001b[0m\u001b[0mgeneral\u001b[0m \u001b[1;32mimport\u001b[0m \u001b[0mcheck_img_size\u001b[0m\u001b[1;33m,\u001b[0m \u001b[0mcheck_requirements\u001b[0m\u001b[1;33m,\u001b[0m \u001b[0mcheck_imshow\u001b[0m\u001b[1;33m,\u001b[0m \u001b[0mcolorstr\u001b[0m\u001b[1;33m,\u001b[0m \u001b[0mis_ascii\u001b[0m\u001b[1;33m,\u001b[0m \u001b[0mnon_max_suppression\u001b[0m\u001b[1;33m,\u001b[0m\u001b[0;31m \u001b[0m\u001b[0;31m\\\u001b[0m\u001b[1;33m\u001b[0m\u001b[1;33m\u001b[0m\u001b[0m\n\u001b[0m\u001b[0;32m     25\u001b[0m     \u001b[0mapply_classifier\u001b[0m\u001b[1;33m,\u001b[0m \u001b[0mscale_coords\u001b[0m\u001b[1;33m,\u001b[0m \u001b[0mxyxy2xywh\u001b[0m\u001b[1;33m,\u001b[0m \u001b[0mstrip_optimizer\u001b[0m\u001b[1;33m,\u001b[0m \u001b[0mset_logging\u001b[0m\u001b[1;33m,\u001b[0m \u001b[0mincrement_path\u001b[0m\u001b[1;33m,\u001b[0m \u001b[0msave_one_box\u001b[0m\u001b[1;33m\u001b[0m\u001b[1;33m\u001b[0m\u001b[0m\n\u001b[0;32m     26\u001b[0m \u001b[1;32mfrom\u001b[0m \u001b[0mutils\u001b[0m\u001b[1;33m.\u001b[0m\u001b[0mplots\u001b[0m \u001b[1;32mimport\u001b[0m \u001b[0mAnnotator\u001b[0m\u001b[1;33m,\u001b[0m \u001b[0mcolors\u001b[0m\u001b[1;33m\u001b[0m\u001b[1;33m\u001b[0m\u001b[0m\n",
      "\u001b[1;31mImportError\u001b[0m: cannot import name 'save_one_box' from 'utils.general' (C:\\Users\\rb01243\\OneDrive - University of Surrey\\Documents\\GitHub\\dental_disease\\yolov5-master\\utils\\general.py)"
     ]
    }
   ],
   "source": [
    "import os\n",
    "import torch\n",
    "import wandb\n",
    "# PROJ_PATH = '..'\n",
    "# sys.path.append(PROJ_PATH)\n",
    "# from src.data_preparer import prepare_data\n",
    "#os.chdir(origDir)\n",
    "#os.chdir(os.getcwd()+'/yolov5_master')\n",
    "\n",
    "#%run -i train.py --data ../data/iid-tvt.yaml --batch-size 20 --epochs 18 --weights models/yolov5s.pt\n",
    "#%run -i src/train.py --data data/iid-tvt.yaml --batch-size 20 --epochs 18 --bcc_epoch -1 --cfg src/models/yolov5s.yaml\n",
    "#%run -i yolov5_master/train.py --data data/iid-tvt.yaml --batch-size 20 --epochs 18 --cfg yolov5_master/models/yolov5s.yaml\n",
    "#%run -i train.py --data data/iid-tvt.yaml --batch-size 20 --epochs 18 --weights models/yolov5s.pt --bcc_epoch -1 yolov5_master/train.py yolov5_master/models/yolov5s.pt\n",
    "\n",
    "#os.chdir(origDir) \n",
    "\n",
    "# SRC_PATH = os.path.join(PROJ_PATH, 'src')\n",
    "# DATA_PATH = os.path.join(PROJ_PATH, 'data/datasets')\n",
    "\n",
    "# # data_modes = ['sty', 'stcy']\n",
    "# # train_ratios = (0.7, 0.2, 0.1)\n",
    "# # data_path = DATA_PATH\n",
    "# # for mode in data_modes:\n",
    "# #     prepare_data(mode, train_ratios, data_path)\n",
    "\n",
    "\n",
    "# data = '../data/iid-tvt.yaml'\n",
    "# #data = '../data/cyolo.yaml'\n",
    "# batch_size = 20 # Change this to number of train images\n",
    "# epochs = 20\n",
    "# bcc_epoch = -1 # Involve BCC from epoch number \"bcc_epoch\". Set to -1 for no BCC. 0 for all BCC.\n",
    "# exp_num = 10002\n",
    "# name = f'exp{exp_num}'\n",
    "\n",
    "# print(SRC_PATH)\n",
    "#wandb.init(project=\"cyolo\", entity=\"dddetection\")\n",
    "os.environ['KMP_DUPLICATE_LIB_OK']='True'\n",
    "#torch. set_printoptions(profile=\"full\")\n",
    "#torch. set_printoptions(profile=\"default\")\n",
    "%run -i ../src/train.py --data ../data/iid-tvt.yaml --batch-size 20 --epochs 20 --bcc_epoch -1 --name iid\n",
    "#%run -i ../src/train.py --data ../data/coco2.yaml --batch-size 18 --epochs 2 --bcc_epoch -1 --name testCOCO1\n",
    "\n",
    "# !python $SRC_PATH/train.py --data $data \\\n",
    "#                            --batch-size $batch_size \\\n",
    "#                            --epochs $epochs \\\n",
    "#                            --bcc_epoch $bcc_epoch \\\n",
    "#                            --name $name \\\n",
    "#                            --exist-ok"
   ]
  },
  {
   "cell_type": "markdown",
   "id": "42c572d3-3bf0-4f14-85e4-3306864bf515",
   "metadata": {},
   "source": [
    "## Analysis"
   ]
  },
  {
   "cell_type": "markdown",
   "id": "a71a7334-bcaa-4460-bc66-86ffcb893705",
   "metadata": {},
   "source": [
    "{ analysis goes here }"
   ]
  },
  {
   "cell_type": "markdown",
   "id": "d14ebd1e-c827-4212-99b8-7b7c89eb4fbf",
   "metadata": {},
   "source": [
    "# Experiment 2 (Crowd RCNN)\n",
    "\n",
    "### This section runs the experiments, prints results, and plots graphs for both dataset using the Crowd RCNN model."
   ]
  },
  {
   "cell_type": "code",
   "execution_count": null,
   "id": "cd4acab0-a0a4-4db6-a0d1-f30c5cdb7f06",
   "metadata": {},
   "outputs": [],
   "source": [
    "%run -i ../Crowd-R-CNN-master/trainval_net.py --dataset ../data/datasets/bcc-tvt/ --batch_size 20 --epochs 80 --name Expset1_all_RCNN"
   ]
  },
  {
   "cell_type": "code",
   "execution_count": null,
   "id": "755e608b-2cb4-4c0f-ae55-64c56438f2b7",
   "metadata": {},
   "outputs": [],
   "source": []
  },
  {
   "cell_type": "markdown",
   "id": "9dc3123b-d1df-451d-b577-da40fe0d31fa",
   "metadata": {},
   "source": [
    "## Analysis"
   ]
  },
  {
   "cell_type": "markdown",
   "id": "5666e3ed-7714-4576-9513-76701ab6e9ab",
   "metadata": {},
   "source": [
    "{ analysis goes here }"
   ]
  },
  {
   "cell_type": "markdown",
   "id": "d80ce7d6-a098-4f0a-a72e-9d4a99afe6d3",
   "metadata": {},
   "source": [
    "# Experiment 3 (YoloV5 IID Annotators)\n",
    "\n",
    "### This section runs the experiments, prints results, and plots graphs for all annotators where their labels are treated as ground truth labels, using the YoloV5 model."
   ]
  },
  {
   "cell_type": "code",
   "execution_count": 1,
   "id": "fe52f8cb-982c-4434-a61b-7c47441763c6",
   "metadata": {},
   "outputs": [
    {
     "name": "stderr",
     "output_type": "stream",
     "text": [
      "YOLOv5  2022-1-18 torch 1.10.1+cu113 CUDA:0 (NVIDIA GeForce RTX 3090, 24575.5MB)\n",
      "\n",
      "\u001b[34m\u001b[1mhyperparameters: \u001b[0mlr0=0.01, lrf=0.2, momentum=0.937, weight_decay=0.0005, warmup_epochs=3.0, warmup_momentum=0.8, warmup_bias_lr=0.1, box=0.05, obj=1.0, cls=0.5, cls_pw=1.0, obj_pw=1.0, iou_t=0.2, anchor_t=4.0, fl_gamma=0, hsv_h=0.015, hsv_s=0.7, hsv_v=0.4, degrees=0.0, translate=0.1, scale=0.5, shear=0.0, perspective=0.0, flipud=0.0, fliplr=0.5, mosaic=1.0, mixup=0.0, copy_paste=0.0\n",
      "\u001b[34m\u001b[1mTensorBoard: \u001b[0mStart with 'tensorboard --logdir runs\\train', view at http://localhost:6006/\n"
     ]
    },
    {
     "name": "stdout",
     "output_type": "stream",
     "text": [
      "\u001b[34m\u001b[1mtrain: \u001b[0mbcc_epoch=-1, qtfilter_epoch=-1, qt_thres_mode=, qt_thres=0.0, hybrid_entropy_thres=0.0, hybrid_conf_thres=0.0, weights=yolov5s.pt, cfg=, data=../data/iid-tvt.yaml, hyp=../data/hyps/hyp.scratch.yaml, epochs=80, batch_size=20, imgsz=640, rect=False, resume=False, nosave=False, noval=False, noautoanchor=False, evolve=None, bucket=, cache=None, image_weights=False, device=, multi_scale=False, single_cls=False, adam=False, sync_bn=False, workers=8, project=runs/train, entity=None, name=Expset1_iid_yolov5, exist_ok=False, quad=False, linear_lr=False, label_smoothing=0.0, upload_dataset=False, bbox_interval=-1, save_period=-1, artifact_alias=latest, local_rank=-1, freeze=0, patience=1100\n",
      "\u001b[34m\u001b[1mgithub: \u001b[0mskipping check (not a git repository), for updates see https://github.com/ultralytics/yolov5\n"
     ]
    },
    {
     "name": "stderr",
     "output_type": "stream",
     "text": [
      "\u001b[34m\u001b[1mwandb\u001b[0m: Currently logged in as: \u001b[33mdddetection\u001b[0m (use `wandb login --relogin` to force relogin)\n"
     ]
    },
    {
     "data": {
      "text/html": [
       "\n",
       "                    Syncing run <strong><a href=\"https://wandb.ai/dddetection/YOLOv5/runs/sp3dl844\" target=\"_blank\">Expset1_iid_yolov5</a></strong> to <a href=\"https://wandb.ai/dddetection/YOLOv5\" target=\"_blank\">Weights & Biases</a> (<a href=\"https://docs.wandb.com/integrations/jupyter.html\" target=\"_blank\">docs</a>).<br/>\n",
       "\n",
       "                "
      ],
      "text/plain": [
       "<IPython.core.display.HTML object>"
      ]
     },
     "metadata": {},
     "output_type": "display_data"
    },
    {
     "name": "stderr",
     "output_type": "stream",
     "text": [
      "Overriding model.yaml nc=80 with nc=2\n",
      "\n",
      "                 from  n    params  module                                  arguments                     \n",
      "  0                -1  1      3520  models.common.Conv                      [3, 32, 6, 2, 2]              \n",
      "  1                -1  1     18560  models.common.Conv                      [32, 64, 3, 2]                \n",
      "  2                -1  1     18816  models.common.C3                        [64, 64, 1]                   \n",
      "  3                -1  1     73984  models.common.Conv                      [64, 128, 3, 2]               \n",
      "  4                -1  2    115712  models.common.C3                        [128, 128, 2]                 \n",
      "  5                -1  1    295424  models.common.Conv                      [128, 256, 3, 2]              \n",
      "  6                -1  3    625152  models.common.C3                        [256, 256, 3]                 \n",
      "  7                -1  1   1180672  models.common.Conv                      [256, 512, 3, 2]              \n",
      "  8                -1  1   1182720  models.common.C3                        [512, 512, 1]                 \n",
      "  9                -1  1    656896  models.common.SPPF                      [512, 512, 5]                 \n",
      " 10                -1  1    131584  models.common.Conv                      [512, 256, 1, 1]              \n",
      " 11                -1  1         0  torch.nn.modules.upsampling.Upsample    [None, 2, 'nearest']          \n",
      " 12           [-1, 6]  1         0  models.common.Concat                    [1]                           \n",
      " 13                -1  1    361984  models.common.C3                        [512, 256, 1, False]          \n",
      " 14                -1  1     33024  models.common.Conv                      [256, 128, 1, 1]              \n",
      " 15                -1  1         0  torch.nn.modules.upsampling.Upsample    [None, 2, 'nearest']          \n",
      " 16           [-1, 4]  1         0  models.common.Concat                    [1]                           \n",
      " 17                -1  1     90880  models.common.C3                        [256, 128, 1, False]          \n",
      " 18                -1  1    147712  models.common.Conv                      [128, 128, 3, 2]              \n",
      " 19          [-1, 14]  1         0  models.common.Concat                    [1]                           \n",
      " 20                -1  1    296448  models.common.C3                        [256, 256, 1, False]          \n",
      " 21                -1  1    590336  models.common.Conv                      [256, 256, 3, 2]              \n",
      " 22          [-1, 10]  1         0  models.common.Concat                    [1]                           \n",
      " 23                -1  1   1182720  models.common.C3                        [512, 512, 1, False]          \n",
      " 24      [17, 20, 23]  1     18879  models.yolo.Detect                      [2, [[10, 13, 16, 30, 33, 23], [30, 61, 62, 45, 59, 119], [116, 90, 156, 198, 373, 326]], [128, 256, 512]]\n",
      "C:\\Users\\rb01243\\Anaconda3\\lib\\site-packages\\torch\\functional.py:445: UserWarning: torch.meshgrid: in an upcoming release, it will be required to pass the indexing argument. (Triggered internally at  ..\\aten\\src\\ATen\\native\\TensorShape.cpp:2157.)\n",
      "  return _VF.meshgrid(tensors, **kwargs)  # type: ignore[attr-defined]\n",
      "Model Summary: 270 layers, 7025023 parameters, 7025023 gradients, 15.9 GFLOPs\n",
      "\n",
      "Transferred 344/350 items from yolov5s.pt\n",
      "Scaled weight_decay = 0.00046875\n",
      "\u001b[34m\u001b[1moptimizer:\u001b[0m SGD with parameter groups 57 weight, 60 weight (no decay), 60 bias\n",
      "\u001b[34m\u001b[1mtrain: \u001b[0mScanning '..\\data\\datasets\\iid-tvt\\labels\\train.cache' images and labels... 262 found, 18 missing, 0 empty, 0 corrupted: 100%|██████████| 280/280 [00:00<?, ?it/s]\n",
      "\u001b[34m\u001b[1mval: \u001b[0mScanning '..\\data\\datasets\\iid-tvt\\labels\\val.cache' images and labels... 67 found, 13 missing, 0 empty, 0 corrupted: 100%|██████████| 80/80 [00:00<?, ?it/s]\n"
     ]
    },
    {
     "name": "stdout",
     "output_type": "stream",
     "text": [
      "Plotting labels... \n"
     ]
    },
    {
     "name": "stderr",
     "output_type": "stream",
     "text": [
      "Image sizes 640 train, 640 val\n",
      "Using 8 dataloader workers\n",
      "Logging results to \u001b[1mruns\\train\\Expset1_iid_yolov5\u001b[0m\n",
      "Starting training for 80 epochs...\n",
      "\n",
      "     Epoch   gpu_mem       box       obj       cls    labels  img_size\n",
      "\n",
      "Only YOLO\n"
     ]
    },
    {
     "name": "stdout",
     "output_type": "stream",
     "text": [
      "\n",
      "\u001b[34m\u001b[1mautoanchor: \u001b[0mAnalyzing anchors... anchors/target = 6.02, Best Possible Recall (BPR) = 1.0000\n"
     ]
    },
    {
     "name": "stderr",
     "output_type": "stream",
     "text": [
      "      0/79     4.32G    0.1161   0.03868   0.02713        51       640: 100%|██████████| 14/14 [00:05<00:00,  2.42it/s]\n",
      "               Class     Images     Labels          P          R     mAP@.5 mAP@.5:.95: 100%|██████████| 2/2 [00:01<00:00,  1.28it/s]\n"
     ]
    },
    {
     "name": "stdout",
     "output_type": "stream",
     "text": [
      "                 all         80        220    0.00165    0.00515   0.000457   0.000103\n"
     ]
    },
    {
     "name": "stderr",
     "output_type": "stream",
     "text": [
      "               Class     Images     Labels          P          R     mAP@.5 mAP@.5:.95: 100%|██████████| 14/14 [00:05<00:00,  2.76it/s]\n"
     ]
    },
    {
     "name": "stdout",
     "output_type": "stream",
     "text": [
      "                 all        280        961    0.00108     0.0233   0.000437   8.33e-05\n"
     ]
    },
    {
     "name": "stderr",
     "output_type": "stream",
     "text": [
      "\n",
      "     Epoch   gpu_mem       box       obj       cls    labels  img_size\n",
      "\n",
      "Only YOLO\n",
      "      1/79     4.32G     0.104    0.0408    0.0236        51       640: 100%|██████████| 14/14 [00:01<00:00,  8.10it/s]\n",
      "               Class     Images     Labels          P          R     mAP@.5 mAP@.5:.95: 100%|██████████| 2/2 [00:00<00:00,  2.10it/s]\n"
     ]
    },
    {
     "name": "stdout",
     "output_type": "stream",
     "text": [
      "                 all         80        220    0.00217      0.027    0.00063   0.000131\n"
     ]
    },
    {
     "name": "stderr",
     "output_type": "stream",
     "text": [
      "               Class     Images     Labels          P          R     mAP@.5 mAP@.5:.95: 100%|██████████| 14/14 [00:03<00:00,  3.65it/s]\n"
     ]
    },
    {
     "name": "stdout",
     "output_type": "stream",
     "text": [
      "                 all        280        961    0.00139     0.0355   0.000714   0.000162\n"
     ]
    },
    {
     "name": "stderr",
     "output_type": "stream",
     "text": [
      "\n",
      "     Epoch   gpu_mem       box       obj       cls    labels  img_size\n",
      "\n",
      "Only YOLO\n",
      "      2/79     4.32G   0.09664   0.04229   0.02022        51       640: 100%|██████████| 14/14 [00:01<00:00,  8.12it/s]\n",
      "               Class     Images     Labels          P          R     mAP@.5 mAP@.5:.95: 100%|██████████| 2/2 [00:00<00:00,  2.22it/s]\n"
     ]
    },
    {
     "name": "stdout",
     "output_type": "stream",
     "text": [
      "                 all         80        220     0.0017     0.0747   0.000914   0.000202\n"
     ]
    },
    {
     "name": "stderr",
     "output_type": "stream",
     "text": [
      "               Class     Images     Labels          P          R     mAP@.5 mAP@.5:.95: 100%|██████████| 14/14 [00:03<00:00,  4.19it/s]\n"
     ]
    },
    {
     "name": "stdout",
     "output_type": "stream",
     "text": [
      "                 all        280        961    0.00268     0.0204    0.00107   0.000216\n"
     ]
    },
    {
     "name": "stderr",
     "output_type": "stream",
     "text": [
      "\n",
      "     Epoch   gpu_mem       box       obj       cls    labels  img_size\n",
      "\n",
      "Only YOLO\n",
      "      3/79     4.32G   0.09147   0.04322   0.01751        51       640: 100%|██████████| 14/14 [00:01<00:00,  7.88it/s]\n",
      "               Class     Images     Labels          P          R     mAP@.5 mAP@.5:.95: 100%|██████████| 2/2 [00:00<00:00,  2.76it/s]\n"
     ]
    },
    {
     "name": "stdout",
     "output_type": "stream",
     "text": [
      "                 all         80        220    0.00405      0.018     0.0014   0.000318\n"
     ]
    },
    {
     "name": "stderr",
     "output_type": "stream",
     "text": [
      "               Class     Images     Labels          P          R     mAP@.5 mAP@.5:.95: 100%|██████████| 14/14 [00:02<00:00,  4.95it/s]\n"
     ]
    },
    {
     "name": "stdout",
     "output_type": "stream",
     "text": [
      "                 all        280        961    0.00579     0.0332    0.00206   0.000397\n"
     ]
    },
    {
     "name": "stderr",
     "output_type": "stream",
     "text": [
      "\n",
      "     Epoch   gpu_mem       box       obj       cls    labels  img_size\n",
      "\n",
      "Only YOLO\n",
      "      4/79     4.32G   0.08658   0.04402   0.01531        51       640: 100%|██████████| 14/14 [00:01<00:00,  7.98it/s]\n",
      "               Class     Images     Labels          P          R     mAP@.5 mAP@.5:.95: 100%|██████████| 2/2 [00:00<00:00,  2.73it/s]\n"
     ]
    },
    {
     "name": "stdout",
     "output_type": "stream",
     "text": [
      "                 all         80        220     0.0134     0.0438    0.00475   0.000875\n"
     ]
    },
    {
     "name": "stderr",
     "output_type": "stream",
     "text": [
      "               Class     Images     Labels          P          R     mAP@.5 mAP@.5:.95: 100%|██████████| 14/14 [00:02<00:00,  5.24it/s]\n"
     ]
    },
    {
     "name": "stdout",
     "output_type": "stream",
     "text": [
      "                 all        280        961     0.0152     0.0501    0.00507   0.000983\n"
     ]
    },
    {
     "name": "stderr",
     "output_type": "stream",
     "text": [
      "\n",
      "     Epoch   gpu_mem       box       obj       cls    labels  img_size\n",
      "\n",
      "Only YOLO\n",
      "      5/79     4.32G   0.08257   0.04392   0.01356        51       640: 100%|██████████| 14/14 [00:01<00:00,  8.00it/s]\n",
      "               Class     Images     Labels          P          R     mAP@.5 mAP@.5:.95: 100%|██████████| 2/2 [00:00<00:00,  2.84it/s]\n"
     ]
    },
    {
     "name": "stdout",
     "output_type": "stream",
     "text": [
      "                 all         80        220     0.0335     0.0928     0.0161     0.0031\n"
     ]
    },
    {
     "name": "stderr",
     "output_type": "stream",
     "text": [
      "               Class     Images     Labels          P          R     mAP@.5 mAP@.5:.95: 100%|██████████| 14/14 [00:02<00:00,  5.27it/s]\n"
     ]
    },
    {
     "name": "stdout",
     "output_type": "stream",
     "text": [
      "                 all        280        961     0.0491     0.0728     0.0193     0.0036\n"
     ]
    },
    {
     "name": "stderr",
     "output_type": "stream",
     "text": [
      "\n",
      "     Epoch   gpu_mem       box       obj       cls    labels  img_size\n",
      "\n",
      "Only YOLO\n",
      "      6/79     4.32G   0.07865   0.04294    0.0121        51       640: 100%|██████████| 14/14 [00:01<00:00,  8.20it/s]\n",
      "               Class     Images     Labels          P          R     mAP@.5 mAP@.5:.95: 100%|██████████| 2/2 [00:00<00:00,  2.69it/s]\n"
     ]
    },
    {
     "name": "stdout",
     "output_type": "stream",
     "text": [
      "                 all         80        220      0.565      0.106     0.0289    0.00515\n"
     ]
    },
    {
     "name": "stderr",
     "output_type": "stream",
     "text": [
      "               Class     Images     Labels          P          R     mAP@.5 mAP@.5:.95: 100%|██████████| 14/14 [00:02<00:00,  5.20it/s]\n"
     ]
    },
    {
     "name": "stdout",
     "output_type": "stream",
     "text": [
      "                 all        280        961      0.564      0.118     0.0332    0.00584\n"
     ]
    },
    {
     "name": "stderr",
     "output_type": "stream",
     "text": [
      "\n",
      "     Epoch   gpu_mem       box       obj       cls    labels  img_size\n",
      "\n",
      "Only YOLO\n",
      "      7/79     4.32G   0.07569   0.04034   0.01082        51       640: 100%|██████████| 14/14 [00:01<00:00,  8.11it/s]\n",
      "               Class     Images     Labels          P          R     mAP@.5 mAP@.5:.95: 100%|██████████| 2/2 [00:02<00:00,  1.00s/it]\n"
     ]
    },
    {
     "name": "stdout",
     "output_type": "stream",
     "text": [
      "                 all         80        220      0.576      0.103     0.0384     0.0059\n"
     ]
    },
    {
     "name": "stderr",
     "output_type": "stream",
     "text": [
      "               Class     Images     Labels          P          R     mAP@.5 mAP@.5:.95: 100%|██████████| 14/14 [00:02<00:00,  5.17it/s]\n"
     ]
    },
    {
     "name": "stdout",
     "output_type": "stream",
     "text": [
      "                 all        280        961      0.565      0.125     0.0443    0.00783\n"
     ]
    },
    {
     "name": "stderr",
     "output_type": "stream",
     "text": [
      "\n",
      "     Epoch   gpu_mem       box       obj       cls    labels  img_size\n",
      "\n",
      "Only YOLO\n",
      "      8/79     4.32G    0.0734   0.03715  0.009664        51       640: 100%|██████████| 14/14 [00:01<00:00,  8.12it/s]\n",
      "               Class     Images     Labels          P          R     mAP@.5 mAP@.5:.95: 100%|██████████| 2/2 [00:00<00:00,  3.03it/s]\n"
     ]
    },
    {
     "name": "stdout",
     "output_type": "stream",
     "text": [
      "                 all         80        220      0.563      0.155     0.0403    0.00745\n"
     ]
    },
    {
     "name": "stderr",
     "output_type": "stream",
     "text": [
      "               Class     Images     Labels          P          R     mAP@.5 mAP@.5:.95: 100%|██████████| 14/14 [00:02<00:00,  5.37it/s]\n"
     ]
    },
    {
     "name": "stdout",
     "output_type": "stream",
     "text": [
      "                 all        280        961      0.581      0.157     0.0621     0.0112\n"
     ]
    },
    {
     "name": "stderr",
     "output_type": "stream",
     "text": [
      "\n",
      "     Epoch   gpu_mem       box       obj       cls    labels  img_size\n",
      "\n",
      "Only YOLO\n",
      "      9/79     4.32G   0.07243   0.03481  0.008727        51       640: 100%|██████████| 14/14 [00:01<00:00,  7.93it/s]\n",
      "               Class     Images     Labels          P          R     mAP@.5 mAP@.5:.95: 100%|██████████| 2/2 [00:00<00:00,  3.28it/s]\n"
     ]
    },
    {
     "name": "stdout",
     "output_type": "stream",
     "text": [
      "                 all         80        220      0.583      0.198     0.0623      0.012\n"
     ]
    },
    {
     "name": "stderr",
     "output_type": "stream",
     "text": [
      "               Class     Images     Labels          P          R     mAP@.5 mAP@.5:.95: 100%|██████████| 14/14 [00:02<00:00,  5.82it/s]\n"
     ]
    },
    {
     "name": "stdout",
     "output_type": "stream",
     "text": [
      "                 all        280        961      0.593      0.159     0.0766     0.0162\n"
     ]
    },
    {
     "name": "stderr",
     "output_type": "stream",
     "text": [
      "\n",
      "     Epoch   gpu_mem       box       obj       cls    labels  img_size\n",
      "\n",
      "Only YOLO\n",
      "     10/79     4.32G    0.0689   0.03409  0.007981        51       640: 100%|██████████| 14/14 [00:01<00:00,  8.23it/s]\n",
      "               Class     Images     Labels          P          R     mAP@.5 mAP@.5:.95: 100%|██████████| 2/2 [00:00<00:00,  3.65it/s]\n"
     ]
    },
    {
     "name": "stdout",
     "output_type": "stream",
     "text": [
      "                 all         80        220      0.586      0.188     0.0715     0.0169\n"
     ]
    },
    {
     "name": "stderr",
     "output_type": "stream",
     "text": [
      "               Class     Images     Labels          P          R     mAP@.5 mAP@.5:.95: 100%|██████████| 14/14 [00:02<00:00,  6.46it/s]\n"
     ]
    },
    {
     "name": "stdout",
     "output_type": "stream",
     "text": [
      "                 all        280        961      0.626      0.152     0.0977     0.0213\n"
     ]
    },
    {
     "name": "stderr",
     "output_type": "stream",
     "text": [
      "\n",
      "     Epoch   gpu_mem       box       obj       cls    labels  img_size\n",
      "\n",
      "Only YOLO\n",
      "     11/79     4.32G   0.06967   0.03288  0.007405        51       640: 100%|██████████| 14/14 [00:01<00:00,  8.35it/s]\n",
      "               Class     Images     Labels          P          R     mAP@.5 mAP@.5:.95: 100%|██████████| 2/2 [00:00<00:00,  3.79it/s]\n"
     ]
    },
    {
     "name": "stdout",
     "output_type": "stream",
     "text": [
      "                 all         80        220      0.575      0.146     0.0549     0.0108\n"
     ]
    },
    {
     "name": "stderr",
     "output_type": "stream",
     "text": [
      "               Class     Images     Labels          P          R     mAP@.5 mAP@.5:.95: 100%|██████████| 14/14 [00:02<00:00,  6.75it/s]\n"
     ]
    },
    {
     "name": "stdout",
     "output_type": "stream",
     "text": [
      "                 all        280        961      0.591      0.192      0.079     0.0147\n"
     ]
    },
    {
     "name": "stderr",
     "output_type": "stream",
     "text": [
      "\n",
      "     Epoch   gpu_mem       box       obj       cls    labels  img_size\n",
      "\n",
      "Only YOLO\n",
      "     12/79     4.32G   0.06753   0.03239  0.006852        51       640: 100%|██████████| 14/14 [00:01<00:00,  8.14it/s]\n",
      "               Class     Images     Labels          P          R     mAP@.5 mAP@.5:.95: 100%|██████████| 2/2 [00:00<00:00,  3.81it/s]\n"
     ]
    },
    {
     "name": "stdout",
     "output_type": "stream",
     "text": [
      "                 all         80        220      0.589      0.219     0.0903      0.019\n"
     ]
    },
    {
     "name": "stderr",
     "output_type": "stream",
     "text": [
      "               Class     Images     Labels          P          R     mAP@.5 mAP@.5:.95: 100%|██████████| 14/14 [00:01<00:00,  7.28it/s]\n"
     ]
    },
    {
     "name": "stdout",
     "output_type": "stream",
     "text": [
      "                 all        280        961      0.615      0.193      0.101     0.0228\n"
     ]
    },
    {
     "name": "stderr",
     "output_type": "stream",
     "text": [
      "\n",
      "     Epoch   gpu_mem       box       obj       cls    labels  img_size\n",
      "\n",
      "Only YOLO\n",
      "     13/79     4.32G   0.06647    0.0318  0.006514        51       640: 100%|██████████| 14/14 [00:01<00:00,  8.37it/s]\n",
      "               Class     Images     Labels          P          R     mAP@.5 mAP@.5:.95: 100%|██████████| 2/2 [00:00<00:00,  4.17it/s]\n"
     ]
    },
    {
     "name": "stdout",
     "output_type": "stream",
     "text": [
      "                 all         80        220      0.603      0.165     0.0695     0.0175\n"
     ]
    },
    {
     "name": "stderr",
     "output_type": "stream",
     "text": [
      "               Class     Images     Labels          P          R     mAP@.5 mAP@.5:.95: 100%|██████████| 14/14 [00:01<00:00,  7.37it/s]\n"
     ]
    },
    {
     "name": "stdout",
     "output_type": "stream",
     "text": [
      "                 all        280        961      0.601      0.244     0.0944     0.0208\n"
     ]
    },
    {
     "name": "stderr",
     "output_type": "stream",
     "text": [
      "\n",
      "     Epoch   gpu_mem       box       obj       cls    labels  img_size\n",
      "\n",
      "Only YOLO\n",
      "     14/79     4.32G   0.06628    0.0311  0.006026        51       640: 100%|██████████| 14/14 [00:01<00:00,  8.32it/s]\n",
      "               Class     Images     Labels          P          R     mAP@.5 mAP@.5:.95: 100%|██████████| 2/2 [00:00<00:00,  3.65it/s]\n"
     ]
    },
    {
     "name": "stdout",
     "output_type": "stream",
     "text": [
      "                 all         80        220      0.647      0.152     0.0973     0.0228\n"
     ]
    },
    {
     "name": "stderr",
     "output_type": "stream",
     "text": [
      "               Class     Images     Labels          P          R     mAP@.5 mAP@.5:.95: 100%|██████████| 14/14 [00:01<00:00,  7.73it/s]\n"
     ]
    },
    {
     "name": "stdout",
     "output_type": "stream",
     "text": [
      "                 all        280        961      0.625       0.19      0.111     0.0271\n"
     ]
    },
    {
     "name": "stderr",
     "output_type": "stream",
     "text": [
      "\n",
      "     Epoch   gpu_mem       box       obj       cls    labels  img_size\n",
      "\n",
      "Only YOLO\n",
      "     15/79     4.32G   0.06531   0.03091  0.005693        51       640: 100%|██████████| 14/14 [00:01<00:00,  8.31it/s]\n",
      "               Class     Images     Labels          P          R     mAP@.5 mAP@.5:.95: 100%|██████████| 2/2 [00:01<00:00,  1.12it/s]\n"
     ]
    },
    {
     "name": "stdout",
     "output_type": "stream",
     "text": [
      "                 all         80        220      0.617      0.186     0.0952     0.0219\n"
     ]
    },
    {
     "name": "stderr",
     "output_type": "stream",
     "text": [
      "               Class     Images     Labels          P          R     mAP@.5 mAP@.5:.95: 100%|██████████| 14/14 [00:01<00:00,  7.83it/s]\n"
     ]
    },
    {
     "name": "stdout",
     "output_type": "stream",
     "text": [
      "                 all        280        961      0.648      0.212      0.146     0.0368\n"
     ]
    },
    {
     "name": "stderr",
     "output_type": "stream",
     "text": [
      "\n",
      "     Epoch   gpu_mem       box       obj       cls    labels  img_size\n",
      "\n",
      "Only YOLO\n",
      "     16/79     4.32G   0.06898    0.0297  0.005587        51       640: 100%|██████████| 14/14 [00:01<00:00,  8.60it/s]\n",
      "               Class     Images     Labels          P          R     mAP@.5 mAP@.5:.95: 100%|██████████| 2/2 [00:00<00:00,  4.13it/s]\n"
     ]
    },
    {
     "name": "stdout",
     "output_type": "stream",
     "text": [
      "                 all         80        220      0.582      0.119     0.0543      0.011\n"
     ]
    },
    {
     "name": "stderr",
     "output_type": "stream",
     "text": [
      "               Class     Images     Labels          P          R     mAP@.5 mAP@.5:.95: 100%|██████████| 14/14 [00:01<00:00,  7.81it/s]\n"
     ]
    },
    {
     "name": "stdout",
     "output_type": "stream",
     "text": [
      "                 all        280        961      0.606      0.159     0.0834     0.0182\n"
     ]
    },
    {
     "name": "stderr",
     "output_type": "stream",
     "text": [
      "\n",
      "     Epoch   gpu_mem       box       obj       cls    labels  img_size\n",
      "\n",
      "Only YOLO\n",
      "     17/79     4.32G   0.07012   0.02973  0.005374        51       640: 100%|██████████| 14/14 [00:01<00:00,  9.03it/s]\n",
      "               Class     Images     Labels          P          R     mAP@.5 mAP@.5:.95: 100%|██████████| 2/2 [00:00<00:00,  4.01it/s]\n"
     ]
    },
    {
     "name": "stdout",
     "output_type": "stream",
     "text": [
      "                 all         80        220      0.576      0.222     0.0704     0.0142\n"
     ]
    },
    {
     "name": "stderr",
     "output_type": "stream",
     "text": [
      "               Class     Images     Labels          P          R     mAP@.5 mAP@.5:.95: 100%|██████████| 14/14 [00:01<00:00,  7.74it/s]\n"
     ]
    },
    {
     "name": "stdout",
     "output_type": "stream",
     "text": [
      "                 all        280        961      0.595      0.235     0.0899      0.018\n"
     ]
    },
    {
     "name": "stderr",
     "output_type": "stream",
     "text": [
      "\n",
      "     Epoch   gpu_mem       box       obj       cls    labels  img_size\n",
      "\n",
      "Only YOLO\n",
      "     18/79     4.32G   0.07364   0.02876  0.005354        51       640: 100%|██████████| 14/14 [00:01<00:00,  8.69it/s]\n",
      "               Class     Images     Labels          P          R     mAP@.5 mAP@.5:.95: 100%|██████████| 2/2 [00:00<00:00,  4.35it/s]\n"
     ]
    },
    {
     "name": "stdout",
     "output_type": "stream",
     "text": [
      "                 all         80        220      0.598      0.157     0.0794     0.0192\n"
     ]
    },
    {
     "name": "stderr",
     "output_type": "stream",
     "text": [
      "               Class     Images     Labels          P          R     mAP@.5 mAP@.5:.95: 100%|██████████| 14/14 [00:01<00:00,  7.67it/s]\n"
     ]
    },
    {
     "name": "stdout",
     "output_type": "stream",
     "text": [
      "                 all        280        961      0.637      0.188      0.115     0.0272\n"
     ]
    },
    {
     "name": "stderr",
     "output_type": "stream",
     "text": [
      "\n",
      "     Epoch   gpu_mem       box       obj       cls    labels  img_size\n",
      "\n",
      "Only YOLO\n",
      "     19/79     4.32G   0.06725   0.02946  0.004896        51       640: 100%|██████████| 14/14 [00:01<00:00,  8.91it/s]\n",
      "               Class     Images     Labels          P          R     mAP@.5 mAP@.5:.95: 100%|██████████| 2/2 [00:00<00:00,  4.09it/s]\n"
     ]
    },
    {
     "name": "stdout",
     "output_type": "stream",
     "text": [
      "                 all         80        220       0.55      0.281     0.0463    0.00872\n"
     ]
    },
    {
     "name": "stderr",
     "output_type": "stream",
     "text": [
      "               Class     Images     Labels          P          R     mAP@.5 mAP@.5:.95: 100%|██████████| 14/14 [00:01<00:00,  7.64it/s]\n"
     ]
    },
    {
     "name": "stdout",
     "output_type": "stream",
     "text": [
      "                 all        280        961      0.572      0.168     0.0598     0.0117\n"
     ]
    },
    {
     "name": "stderr",
     "output_type": "stream",
     "text": [
      "\n",
      "     Epoch   gpu_mem       box       obj       cls    labels  img_size\n",
      "\n",
      "Only YOLO\n",
      "     20/79     4.32G   0.06584   0.02934  0.004727        51       640: 100%|██████████| 14/14 [00:01<00:00,  8.77it/s]\n",
      "               Class     Images     Labels          P          R     mAP@.5 mAP@.5:.95: 100%|██████████| 2/2 [00:00<00:00,  3.92it/s]\n"
     ]
    },
    {
     "name": "stdout",
     "output_type": "stream",
     "text": [
      "                 all         80        220      0.609      0.121      0.074     0.0141\n"
     ]
    },
    {
     "name": "stderr",
     "output_type": "stream",
     "text": [
      "               Class     Images     Labels          P          R     mAP@.5 mAP@.5:.95: 100%|██████████| 14/14 [00:01<00:00,  7.61it/s]\n"
     ]
    },
    {
     "name": "stdout",
     "output_type": "stream",
     "text": [
      "                 all        280        961      0.618      0.189      0.111      0.025\n"
     ]
    },
    {
     "name": "stderr",
     "output_type": "stream",
     "text": [
      "\n",
      "     Epoch   gpu_mem       box       obj       cls    labels  img_size\n",
      "\n",
      "Only YOLO\n",
      "     21/79     4.32G   0.06955   0.02832  0.004561        51       640: 100%|██████████| 14/14 [00:01<00:00,  8.76it/s]\n",
      "               Class     Images     Labels          P          R     mAP@.5 mAP@.5:.95: 100%|██████████| 2/2 [00:00<00:00,  4.00it/s]\n"
     ]
    },
    {
     "name": "stdout",
     "output_type": "stream",
     "text": [
      "                 all         80        220      0.665      0.139      0.105      0.023\n"
     ]
    },
    {
     "name": "stderr",
     "output_type": "stream",
     "text": [
      "               Class     Images     Labels          P          R     mAP@.5 mAP@.5:.95: 100%|██████████| 14/14 [00:01<00:00,  7.93it/s]\n"
     ]
    },
    {
     "name": "stdout",
     "output_type": "stream",
     "text": [
      "                 all        280        961      0.636      0.224       0.14     0.0332\n"
     ]
    },
    {
     "name": "stderr",
     "output_type": "stream",
     "text": [
      "\n",
      "     Epoch   gpu_mem       box       obj       cls    labels  img_size\n",
      "\n",
      "Only YOLO\n",
      "     22/79     4.32G   0.06181   0.02958  0.004243        51       640: 100%|██████████| 14/14 [00:01<00:00,  8.92it/s]\n",
      "               Class     Images     Labels          P          R     mAP@.5 mAP@.5:.95: 100%|██████████| 2/2 [00:00<00:00,  4.41it/s]\n"
     ]
    },
    {
     "name": "stdout",
     "output_type": "stream",
     "text": [
      "                 all         80        220      0.606      0.245      0.103     0.0216\n"
     ]
    },
    {
     "name": "stderr",
     "output_type": "stream",
     "text": [
      "               Class     Images     Labels          P          R     mAP@.5 mAP@.5:.95: 100%|██████████| 14/14 [00:01<00:00,  7.76it/s]\n"
     ]
    },
    {
     "name": "stdout",
     "output_type": "stream",
     "text": [
      "                 all        280        961      0.662      0.219      0.179     0.0431\n"
     ]
    },
    {
     "name": "stderr",
     "output_type": "stream",
     "text": [
      "\n",
      "     Epoch   gpu_mem       box       obj       cls    labels  img_size\n",
      "\n",
      "Only YOLO\n",
      "     23/79     4.32G    0.0626    0.0289  0.003974        51       640: 100%|██████████| 14/14 [00:01<00:00,  8.65it/s]\n",
      "               Class     Images     Labels          P          R     mAP@.5 mAP@.5:.95: 100%|██████████| 2/2 [00:01<00:00,  1.13it/s]\n"
     ]
    },
    {
     "name": "stdout",
     "output_type": "stream",
     "text": [
      "                 all         80        220      0.629      0.147      0.102     0.0222\n"
     ]
    },
    {
     "name": "stderr",
     "output_type": "stream",
     "text": [
      "               Class     Images     Labels          P          R     mAP@.5 mAP@.5:.95: 100%|██████████| 14/14 [00:01<00:00,  8.32it/s]\n"
     ]
    },
    {
     "name": "stdout",
     "output_type": "stream",
     "text": [
      "                 all        280        961      0.635      0.255      0.179     0.0384\n"
     ]
    },
    {
     "name": "stderr",
     "output_type": "stream",
     "text": [
      "\n",
      "     Epoch   gpu_mem       box       obj       cls    labels  img_size\n",
      "\n",
      "Only YOLO\n",
      "     24/79     4.32G   0.06102    0.0283  0.003623        51       640: 100%|██████████| 14/14 [00:01<00:00,  8.78it/s]\n",
      "               Class     Images     Labels          P          R     mAP@.5 mAP@.5:.95: 100%|██████████| 2/2 [00:00<00:00,  4.04it/s]\n"
     ]
    },
    {
     "name": "stdout",
     "output_type": "stream",
     "text": [
      "                 all         80        220        0.6      0.131     0.0673     0.0132\n"
     ]
    },
    {
     "name": "stderr",
     "output_type": "stream",
     "text": [
      "               Class     Images     Labels          P          R     mAP@.5 mAP@.5:.95: 100%|██████████| 14/14 [00:01<00:00,  7.86it/s]\n"
     ]
    },
    {
     "name": "stdout",
     "output_type": "stream",
     "text": [
      "                 all        280        961      0.601      0.203      0.103     0.0198\n"
     ]
    },
    {
     "name": "stderr",
     "output_type": "stream",
     "text": [
      "\n",
      "     Epoch   gpu_mem       box       obj       cls    labels  img_size\n",
      "\n",
      "Only YOLO\n",
      "     25/79     4.32G   0.06507   0.02751  0.003417        51       640: 100%|██████████| 14/14 [00:01<00:00,  8.75it/s]\n",
      "               Class     Images     Labels          P          R     mAP@.5 mAP@.5:.95: 100%|██████████| 2/2 [00:00<00:00,  4.52it/s]\n"
     ]
    },
    {
     "name": "stdout",
     "output_type": "stream",
     "text": [
      "                 all         80        220      0.629      0.133      0.101     0.0232\n"
     ]
    },
    {
     "name": "stderr",
     "output_type": "stream",
     "text": [
      "               Class     Images     Labels          P          R     mAP@.5 mAP@.5:.95: 100%|██████████| 14/14 [00:01<00:00,  7.94it/s]\n"
     ]
    },
    {
     "name": "stdout",
     "output_type": "stream",
     "text": [
      "                 all        280        961      0.665        0.2      0.182     0.0442\n"
     ]
    },
    {
     "name": "stderr",
     "output_type": "stream",
     "text": [
      "\n",
      "     Epoch   gpu_mem       box       obj       cls    labels  img_size\n",
      "\n",
      "Only YOLO\n",
      "     26/79     4.32G   0.05964   0.02761  0.003215        51       640: 100%|██████████| 14/14 [00:01<00:00,  8.57it/s]\n",
      "               Class     Images     Labels          P          R     mAP@.5 mAP@.5:.95: 100%|██████████| 2/2 [00:00<00:00,  4.51it/s]\n"
     ]
    },
    {
     "name": "stdout",
     "output_type": "stream",
     "text": [
      "                 all         80        220      0.587      0.232     0.0953     0.0204\n"
     ]
    },
    {
     "name": "stderr",
     "output_type": "stream",
     "text": [
      "               Class     Images     Labels          P          R     mAP@.5 mAP@.5:.95: 100%|██████████| 14/14 [00:01<00:00,  8.18it/s]\n"
     ]
    },
    {
     "name": "stdout",
     "output_type": "stream",
     "text": [
      "                 all        280        961      0.632      0.248      0.156     0.0314\n"
     ]
    },
    {
     "name": "stderr",
     "output_type": "stream",
     "text": [
      "\n",
      "     Epoch   gpu_mem       box       obj       cls    labels  img_size\n",
      "\n",
      "Only YOLO\n",
      "     27/79     4.32G   0.06029   0.02731  0.003098        51       640: 100%|██████████| 14/14 [00:01<00:00,  8.75it/s]\n",
      "               Class     Images     Labels          P          R     mAP@.5 mAP@.5:.95: 100%|██████████| 2/2 [00:00<00:00,  4.41it/s]\n"
     ]
    },
    {
     "name": "stdout",
     "output_type": "stream",
     "text": [
      "                 all         80        220      0.642      0.106     0.0794     0.0189\n"
     ]
    },
    {
     "name": "stderr",
     "output_type": "stream",
     "text": [
      "               Class     Images     Labels          P          R     mAP@.5 mAP@.5:.95: 100%|██████████| 14/14 [00:01<00:00,  7.94it/s]\n"
     ]
    },
    {
     "name": "stdout",
     "output_type": "stream",
     "text": [
      "                 all        280        961       0.17      0.565      0.187      0.047\n"
     ]
    },
    {
     "name": "stderr",
     "output_type": "stream",
     "text": [
      "\n",
      "     Epoch   gpu_mem       box       obj       cls    labels  img_size\n",
      "\n",
      "Only YOLO\n",
      "     28/79     4.32G    0.0598   0.02715  0.002838        51       640: 100%|██████████| 14/14 [00:01<00:00,  8.89it/s]\n",
      "               Class     Images     Labels          P          R     mAP@.5 mAP@.5:.95: 100%|██████████| 2/2 [00:00<00:00,  4.54it/s]\n"
     ]
    },
    {
     "name": "stdout",
     "output_type": "stream",
     "text": [
      "                 all         80        220      0.584      0.278      0.104      0.024\n"
     ]
    },
    {
     "name": "stderr",
     "output_type": "stream",
     "text": [
      "               Class     Images     Labels          P          R     mAP@.5 mAP@.5:.95: 100%|██████████| 14/14 [00:01<00:00,  8.30it/s]\n"
     ]
    },
    {
     "name": "stdout",
     "output_type": "stream",
     "text": [
      "                 all        280        961      0.187      0.489        0.2     0.0521\n"
     ]
    },
    {
     "name": "stderr",
     "output_type": "stream",
     "text": [
      "\n",
      "     Epoch   gpu_mem       box       obj       cls    labels  img_size\n",
      "\n",
      "Only YOLO\n",
      "     29/79     4.32G   0.05919   0.02699  0.002806        51       640: 100%|██████████| 14/14 [00:01<00:00,  9.01it/s]\n",
      "               Class     Images     Labels          P          R     mAP@.5 mAP@.5:.95: 100%|██████████| 2/2 [00:00<00:00,  4.05it/s]\n"
     ]
    },
    {
     "name": "stdout",
     "output_type": "stream",
     "text": [
      "                 all         80        220      0.673      0.129      0.124     0.0332\n"
     ]
    },
    {
     "name": "stderr",
     "output_type": "stream",
     "text": [
      "               Class     Images     Labels          P          R     mAP@.5 mAP@.5:.95: 100%|██████████| 14/14 [00:01<00:00,  7.99it/s]\n"
     ]
    },
    {
     "name": "stdout",
     "output_type": "stream",
     "text": [
      "                 all        280        961      0.259      0.478      0.221     0.0593\n"
     ]
    },
    {
     "name": "stderr",
     "output_type": "stream",
     "text": [
      "\n",
      "     Epoch   gpu_mem       box       obj       cls    labels  img_size\n",
      "\n",
      "Only YOLO\n",
      "     30/79     4.32G   0.05735   0.02689  0.002671        51       640: 100%|██████████| 14/14 [00:01<00:00,  8.94it/s]\n",
      "               Class     Images     Labels          P          R     mAP@.5 mAP@.5:.95: 100%|██████████| 2/2 [00:00<00:00,  4.25it/s]\n"
     ]
    },
    {
     "name": "stdout",
     "output_type": "stream",
     "text": [
      "                 all         80        220      0.677      0.131      0.123     0.0297\n"
     ]
    },
    {
     "name": "stderr",
     "output_type": "stream",
     "text": [
      "               Class     Images     Labels          P          R     mAP@.5 mAP@.5:.95: 100%|██████████| 14/14 [00:01<00:00,  7.43it/s]\n"
     ]
    },
    {
     "name": "stdout",
     "output_type": "stream",
     "text": [
      "                 all        280        961      0.196      0.544      0.235     0.0694\n"
     ]
    },
    {
     "name": "stderr",
     "output_type": "stream",
     "text": [
      "\n",
      "     Epoch   gpu_mem       box       obj       cls    labels  img_size\n",
      "\n",
      "Only YOLO\n",
      "     31/79     4.32G   0.05652   0.02661   0.00247        51       640: 100%|██████████| 14/14 [00:01<00:00,  8.30it/s]\n",
      "               Class     Images     Labels          P          R     mAP@.5 mAP@.5:.95: 100%|██████████| 2/2 [00:01<00:00,  1.13it/s]\n"
     ]
    },
    {
     "name": "stdout",
     "output_type": "stream",
     "text": [
      "                 all         80        220      0.671       0.17      0.144      0.031\n"
     ]
    },
    {
     "name": "stderr",
     "output_type": "stream",
     "text": [
      "               Class     Images     Labels          P          R     mAP@.5 mAP@.5:.95: 100%|██████████| 14/14 [00:01<00:00,  8.46it/s]\n"
     ]
    },
    {
     "name": "stdout",
     "output_type": "stream",
     "text": [
      "                 all        280        961      0.235      0.432      0.256     0.0684\n"
     ]
    },
    {
     "name": "stderr",
     "output_type": "stream",
     "text": [
      "\n",
      "     Epoch   gpu_mem       box       obj       cls    labels  img_size\n",
      "\n",
      "Only YOLO\n",
      "     32/79     4.32G   0.05666   0.02596  0.002485        51       640: 100%|██████████| 14/14 [00:01<00:00,  8.46it/s]\n",
      "               Class     Images     Labels          P          R     mAP@.5 mAP@.5:.95: 100%|██████████| 2/2 [00:00<00:00,  4.16it/s]\n"
     ]
    },
    {
     "name": "stdout",
     "output_type": "stream",
     "text": [
      "                 all         80        220        0.6       0.29      0.114      0.027\n"
     ]
    },
    {
     "name": "stderr",
     "output_type": "stream",
     "text": [
      "               Class     Images     Labels          P          R     mAP@.5 mAP@.5:.95: 100%|██████████| 14/14 [00:01<00:00,  7.89it/s]\n"
     ]
    },
    {
     "name": "stdout",
     "output_type": "stream",
     "text": [
      "                 all        280        961      0.263      0.423       0.26     0.0709\n"
     ]
    },
    {
     "name": "stderr",
     "output_type": "stream",
     "text": [
      "\n",
      "     Epoch   gpu_mem       box       obj       cls    labels  img_size\n",
      "\n",
      "Only YOLO\n",
      "     33/79     4.32G   0.05599     0.026   0.00252        51       640: 100%|██████████| 14/14 [00:01<00:00,  8.89it/s]\n",
      "               Class     Images     Labels          P          R     mAP@.5 mAP@.5:.95: 100%|██████████| 2/2 [00:00<00:00,  4.60it/s]\n"
     ]
    },
    {
     "name": "stdout",
     "output_type": "stream",
     "text": [
      "                 all         80        220      0.631      0.165      0.114      0.026\n"
     ]
    },
    {
     "name": "stderr",
     "output_type": "stream",
     "text": [
      "               Class     Images     Labels          P          R     mAP@.5 mAP@.5:.95: 100%|██████████| 14/14 [00:01<00:00,  7.52it/s]\n"
     ]
    },
    {
     "name": "stdout",
     "output_type": "stream",
     "text": [
      "                 all        280        961      0.242      0.546      0.273     0.0695\n"
     ]
    },
    {
     "name": "stderr",
     "output_type": "stream",
     "text": [
      "\n",
      "     Epoch   gpu_mem       box       obj       cls    labels  img_size\n",
      "\n",
      "Only YOLO\n",
      "     34/79     4.32G   0.05544   0.02586  0.002337        51       640: 100%|██████████| 14/14 [00:01<00:00,  8.58it/s]\n",
      "               Class     Images     Labels          P          R     mAP@.5 mAP@.5:.95: 100%|██████████| 2/2 [00:00<00:00,  4.57it/s]\n"
     ]
    },
    {
     "name": "stdout",
     "output_type": "stream",
     "text": [
      "                 all         80        220      0.603      0.237      0.123     0.0304\n"
     ]
    },
    {
     "name": "stderr",
     "output_type": "stream",
     "text": [
      "               Class     Images     Labels          P          R     mAP@.5 mAP@.5:.95: 100%|██████████| 14/14 [00:01<00:00,  8.32it/s]\n"
     ]
    },
    {
     "name": "stdout",
     "output_type": "stream",
     "text": [
      "                 all        280        961      0.304      0.442      0.291     0.0838\n"
     ]
    },
    {
     "name": "stderr",
     "output_type": "stream",
     "text": [
      "\n",
      "     Epoch   gpu_mem       box       obj       cls    labels  img_size\n",
      "\n",
      "Only YOLO\n",
      "     35/79     4.32G   0.05392   0.02554  0.002208        51       640: 100%|██████████| 14/14 [00:01<00:00,  8.67it/s]\n",
      "               Class     Images     Labels          P          R     mAP@.5 mAP@.5:.95: 100%|██████████| 2/2 [00:00<00:00,  3.73it/s]\n"
     ]
    },
    {
     "name": "stdout",
     "output_type": "stream",
     "text": [
      "                 all         80        220      0.623      0.232      0.136     0.0338\n"
     ]
    },
    {
     "name": "stderr",
     "output_type": "stream",
     "text": [
      "               Class     Images     Labels          P          R     mAP@.5 mAP@.5:.95: 100%|██████████| 14/14 [00:01<00:00,  8.08it/s]\n"
     ]
    },
    {
     "name": "stdout",
     "output_type": "stream",
     "text": [
      "                 all        280        961      0.253      0.534      0.294     0.0894\n"
     ]
    },
    {
     "name": "stderr",
     "output_type": "stream",
     "text": [
      "\n",
      "     Epoch   gpu_mem       box       obj       cls    labels  img_size\n",
      "\n",
      "Only YOLO\n",
      "     36/79     4.32G   0.05262   0.02601  0.002199        51       640: 100%|██████████| 14/14 [00:01<00:00,  8.53it/s]\n",
      "               Class     Images     Labels          P          R     mAP@.5 mAP@.5:.95: 100%|██████████| 2/2 [00:00<00:00,  4.77it/s]\n"
     ]
    },
    {
     "name": "stdout",
     "output_type": "stream",
     "text": [
      "                 all         80        220      0.625      0.278      0.144     0.0343\n"
     ]
    },
    {
     "name": "stderr",
     "output_type": "stream",
     "text": [
      "               Class     Images     Labels          P          R     mAP@.5 mAP@.5:.95: 100%|██████████| 14/14 [00:01<00:00,  8.30it/s]\n"
     ]
    },
    {
     "name": "stdout",
     "output_type": "stream",
     "text": [
      "                 all        280        961      0.221       0.56      0.274     0.0814\n"
     ]
    },
    {
     "name": "stderr",
     "output_type": "stream",
     "text": [
      "\n",
      "     Epoch   gpu_mem       box       obj       cls    labels  img_size\n",
      "\n",
      "Only YOLO\n",
      "     37/79     4.32G   0.05489   0.02545  0.002179        51       640: 100%|██████████| 14/14 [00:01<00:00,  8.50it/s]\n",
      "               Class     Images     Labels          P          R     mAP@.5 mAP@.5:.95: 100%|██████████| 2/2 [00:00<00:00,  4.65it/s]\n"
     ]
    },
    {
     "name": "stdout",
     "output_type": "stream",
     "text": [
      "                 all         80        220       0.71      0.139      0.147     0.0404\n"
     ]
    },
    {
     "name": "stderr",
     "output_type": "stream",
     "text": [
      "               Class     Images     Labels          P          R     mAP@.5 mAP@.5:.95: 100%|██████████| 14/14 [00:01<00:00,  8.22it/s]\n"
     ]
    },
    {
     "name": "stdout",
     "output_type": "stream",
     "text": [
      "                 all        280        961      0.222      0.595      0.294     0.0927\n"
     ]
    },
    {
     "name": "stderr",
     "output_type": "stream",
     "text": [
      "\n",
      "     Epoch   gpu_mem       box       obj       cls    labels  img_size\n",
      "\n",
      "Only YOLO\n",
      "     38/79     4.32G   0.05138   0.02571  0.002147        51       640: 100%|██████████| 14/14 [00:01<00:00,  8.72it/s]\n",
      "               Class     Images     Labels          P          R     mAP@.5 mAP@.5:.95: 100%|██████████| 2/2 [00:00<00:00,  4.66it/s]\n"
     ]
    },
    {
     "name": "stdout",
     "output_type": "stream",
     "text": [
      "                 all         80        220      0.659      0.214      0.142     0.0378\n"
     ]
    },
    {
     "name": "stderr",
     "output_type": "stream",
     "text": [
      "               Class     Images     Labels          P          R     mAP@.5 mAP@.5:.95: 100%|██████████| 14/14 [00:01<00:00,  8.31it/s]\n"
     ]
    },
    {
     "name": "stdout",
     "output_type": "stream",
     "text": [
      "                 all        280        961      0.204      0.636      0.306      0.106\n"
     ]
    },
    {
     "name": "stderr",
     "output_type": "stream",
     "text": [
      "\n",
      "     Epoch   gpu_mem       box       obj       cls    labels  img_size\n",
      "\n",
      "Only YOLO\n",
      "     39/79     4.32G   0.05219   0.02596  0.002019        51       640: 100%|██████████| 14/14 [00:01<00:00,  8.86it/s]\n",
      "               Class     Images     Labels          P          R     mAP@.5 mAP@.5:.95: 100%|██████████| 2/2 [00:01<00:00,  1.16it/s]\n"
     ]
    },
    {
     "name": "stdout",
     "output_type": "stream",
     "text": [
      "                 all         80        220      0.626      0.188      0.112     0.0228\n"
     ]
    },
    {
     "name": "stderr",
     "output_type": "stream",
     "text": [
      "               Class     Images     Labels          P          R     mAP@.5 mAP@.5:.95: 100%|██████████| 14/14 [00:01<00:00,  8.35it/s]\n"
     ]
    },
    {
     "name": "stdout",
     "output_type": "stream",
     "text": [
      "                 all        280        961      0.332      0.321      0.221     0.0548\n"
     ]
    },
    {
     "name": "stderr",
     "output_type": "stream",
     "text": [
      "\n",
      "     Epoch   gpu_mem       box       obj       cls    labels  img_size\n",
      "\n",
      "Only YOLO\n",
      "     40/79     4.32G   0.05178   0.02574    0.0021        51       640: 100%|██████████| 14/14 [00:01<00:00,  8.74it/s]\n",
      "               Class     Images     Labels          P          R     mAP@.5 mAP@.5:.95: 100%|██████████| 2/2 [00:00<00:00,  4.56it/s]\n"
     ]
    },
    {
     "name": "stdout",
     "output_type": "stream",
     "text": [
      "                 all         80        220      0.613      0.284      0.129     0.0313\n"
     ]
    },
    {
     "name": "stderr",
     "output_type": "stream",
     "text": [
      "               Class     Images     Labels          P          R     mAP@.5 mAP@.5:.95: 100%|██████████| 14/14 [00:01<00:00,  8.37it/s]\n"
     ]
    },
    {
     "name": "stdout",
     "output_type": "stream",
     "text": [
      "                 all        280        961      0.307      0.506      0.309     0.0848\n"
     ]
    },
    {
     "name": "stderr",
     "output_type": "stream",
     "text": [
      "\n",
      "     Epoch   gpu_mem       box       obj       cls    labels  img_size\n",
      "\n",
      "Only YOLO\n",
      "     41/79     4.32G   0.05061   0.02554  0.001992        51       640: 100%|██████████| 14/14 [00:01<00:00,  8.68it/s]\n",
      "               Class     Images     Labels          P          R     mAP@.5 mAP@.5:.95: 100%|██████████| 2/2 [00:00<00:00,  4.13it/s]\n"
     ]
    },
    {
     "name": "stdout",
     "output_type": "stream",
     "text": [
      "                 all         80        220      0.605      0.303      0.127     0.0321\n"
     ]
    },
    {
     "name": "stderr",
     "output_type": "stream",
     "text": [
      "               Class     Images     Labels          P          R     mAP@.5 mAP@.5:.95: 100%|██████████| 14/14 [00:01<00:00,  8.29it/s]\n"
     ]
    },
    {
     "name": "stdout",
     "output_type": "stream",
     "text": [
      "                 all        280        961      0.286      0.585      0.349       0.11\n"
     ]
    },
    {
     "name": "stderr",
     "output_type": "stream",
     "text": [
      "\n",
      "     Epoch   gpu_mem       box       obj       cls    labels  img_size\n",
      "\n",
      "Only YOLO\n",
      "     42/79     4.32G   0.04823   0.02534   0.00195        51       640: 100%|██████████| 14/14 [00:01<00:00,  8.70it/s]\n",
      "               Class     Images     Labels          P          R     mAP@.5 mAP@.5:.95: 100%|██████████| 2/2 [00:00<00:00,  4.60it/s]\n"
     ]
    },
    {
     "name": "stdout",
     "output_type": "stream",
     "text": [
      "                 all         80        220      0.648      0.183      0.144     0.0369\n"
     ]
    },
    {
     "name": "stderr",
     "output_type": "stream",
     "text": [
      "               Class     Images     Labels          P          R     mAP@.5 mAP@.5:.95: 100%|██████████| 14/14 [00:01<00:00,  7.58it/s]\n"
     ]
    },
    {
     "name": "stdout",
     "output_type": "stream",
     "text": [
      "                 all        280        961      0.233      0.675      0.324     0.0981\n"
     ]
    },
    {
     "name": "stderr",
     "output_type": "stream",
     "text": [
      "\n",
      "     Epoch   gpu_mem       box       obj       cls    labels  img_size\n",
      "\n",
      "Only YOLO\n",
      "     43/79     4.32G    0.0485   0.02511  0.001864        51       640: 100%|██████████| 14/14 [00:01<00:00,  8.42it/s]\n",
      "               Class     Images     Labels          P          R     mAP@.5 mAP@.5:.95: 100%|██████████| 2/2 [00:00<00:00,  4.57it/s]\n"
     ]
    },
    {
     "name": "stdout",
     "output_type": "stream",
     "text": [
      "                 all         80        220      0.632      0.229      0.146     0.0326\n"
     ]
    },
    {
     "name": "stderr",
     "output_type": "stream",
     "text": [
      "               Class     Images     Labels          P          R     mAP@.5 mAP@.5:.95: 100%|██████████| 14/14 [00:01<00:00,  8.42it/s]\n"
     ]
    },
    {
     "name": "stdout",
     "output_type": "stream",
     "text": [
      "                 all        280        961      0.376      0.418      0.332      0.107\n"
     ]
    },
    {
     "name": "stderr",
     "output_type": "stream",
     "text": [
      "\n",
      "     Epoch   gpu_mem       box       obj       cls    labels  img_size\n",
      "\n",
      "Only YOLO\n",
      "     44/79     4.32G   0.05028   0.02483  0.001914        51       640: 100%|██████████| 14/14 [00:01<00:00,  8.69it/s]\n",
      "               Class     Images     Labels          P          R     mAP@.5 mAP@.5:.95: 100%|██████████| 2/2 [00:00<00:00,  4.64it/s]\n"
     ]
    },
    {
     "name": "stdout",
     "output_type": "stream",
     "text": [
      "                 all         80        220      0.667       0.19       0.15     0.0393\n"
     ]
    },
    {
     "name": "stderr",
     "output_type": "stream",
     "text": [
      "               Class     Images     Labels          P          R     mAP@.5 mAP@.5:.95: 100%|██████████| 14/14 [00:01<00:00,  8.03it/s]\n"
     ]
    },
    {
     "name": "stdout",
     "output_type": "stream",
     "text": [
      "                 all        280        961      0.291      0.594      0.366      0.118\n"
     ]
    },
    {
     "name": "stderr",
     "output_type": "stream",
     "text": [
      "\n",
      "     Epoch   gpu_mem       box       obj       cls    labels  img_size\n",
      "\n",
      "Only YOLO\n",
      "     45/79     4.32G   0.04799   0.02488  0.001854        51       640: 100%|██████████| 14/14 [00:01<00:00,  8.80it/s]\n",
      "               Class     Images     Labels          P          R     mAP@.5 mAP@.5:.95: 100%|██████████| 2/2 [00:00<00:00,  4.36it/s]\n"
     ]
    },
    {
     "name": "stdout",
     "output_type": "stream",
     "text": [
      "                 all         80        220      0.626      0.271      0.147     0.0337\n"
     ]
    },
    {
     "name": "stderr",
     "output_type": "stream",
     "text": [
      "               Class     Images     Labels          P          R     mAP@.5 mAP@.5:.95: 100%|██████████| 14/14 [00:01<00:00,  8.47it/s]\n"
     ]
    },
    {
     "name": "stdout",
     "output_type": "stream",
     "text": [
      "                 all        280        961      0.327      0.523       0.37      0.109\n"
     ]
    },
    {
     "name": "stderr",
     "output_type": "stream",
     "text": [
      "\n",
      "     Epoch   gpu_mem       box       obj       cls    labels  img_size\n",
      "\n",
      "Only YOLO\n",
      "     46/79     4.32G   0.04687   0.02453  0.001762        51       640: 100%|██████████| 14/14 [00:01<00:00,  8.73it/s]\n",
      "               Class     Images     Labels          P          R     mAP@.5 mAP@.5:.95: 100%|██████████| 2/2 [00:00<00:00,  4.43it/s]\n"
     ]
    },
    {
     "name": "stdout",
     "output_type": "stream",
     "text": [
      "                 all         80        220      0.609      0.296      0.135     0.0303\n"
     ]
    },
    {
     "name": "stderr",
     "output_type": "stream",
     "text": [
      "               Class     Images     Labels          P          R     mAP@.5 mAP@.5:.95: 100%|██████████| 14/14 [00:01<00:00,  7.98it/s]\n"
     ]
    },
    {
     "name": "stdout",
     "output_type": "stream",
     "text": [
      "                 all        280        961      0.306      0.564      0.336     0.0935\n"
     ]
    },
    {
     "name": "stderr",
     "output_type": "stream",
     "text": [
      "\n",
      "     Epoch   gpu_mem       box       obj       cls    labels  img_size\n",
      "\n",
      "Only YOLO\n",
      "     47/79     4.32G   0.04816   0.02449  0.001799        51       640: 100%|██████████| 14/14 [00:01<00:00,  8.62it/s]\n",
      "               Class     Images     Labels          P          R     mAP@.5 mAP@.5:.95: 100%|██████████| 2/2 [00:01<00:00,  1.10it/s]\n"
     ]
    },
    {
     "name": "stdout",
     "output_type": "stream",
     "text": [
      "                 all         80        220      0.644      0.258      0.169     0.0466\n"
     ]
    },
    {
     "name": "stderr",
     "output_type": "stream",
     "text": [
      "               Class     Images     Labels          P          R     mAP@.5 mAP@.5:.95: 100%|██████████| 14/14 [00:01<00:00,  7.90it/s]\n"
     ]
    },
    {
     "name": "stdout",
     "output_type": "stream",
     "text": [
      "                 all        280        961      0.251      0.737      0.372      0.133\n"
     ]
    },
    {
     "name": "stderr",
     "output_type": "stream",
     "text": [
      "\n",
      "     Epoch   gpu_mem       box       obj       cls    labels  img_size\n",
      "\n",
      "Only YOLO\n",
      "     48/79     4.32G   0.04661   0.02456  0.001857        51       640: 100%|██████████| 14/14 [00:01<00:00,  8.77it/s]\n",
      "               Class     Images     Labels          P          R     mAP@.5 mAP@.5:.95: 100%|██████████| 2/2 [00:00<00:00,  4.55it/s]\n"
     ]
    },
    {
     "name": "stdout",
     "output_type": "stream",
     "text": [
      "                 all         80        220      0.677      0.157      0.129      0.032\n"
     ]
    },
    {
     "name": "stderr",
     "output_type": "stream",
     "text": [
      "               Class     Images     Labels          P          R     mAP@.5 mAP@.5:.95: 100%|██████████| 14/14 [00:01<00:00,  8.17it/s]\n"
     ]
    },
    {
     "name": "stdout",
     "output_type": "stream",
     "text": [
      "                 all        280        961      0.236      0.691       0.35      0.119\n"
     ]
    },
    {
     "name": "stderr",
     "output_type": "stream",
     "text": [
      "\n",
      "     Epoch   gpu_mem       box       obj       cls    labels  img_size\n",
      "\n",
      "Only YOLO\n",
      "     49/79     4.32G   0.04961   0.02407  0.001798        51       640: 100%|██████████| 14/14 [00:01<00:00,  8.99it/s]\n",
      "               Class     Images     Labels          P          R     mAP@.5 mAP@.5:.95: 100%|██████████| 2/2 [00:00<00:00,  4.48it/s]\n"
     ]
    },
    {
     "name": "stdout",
     "output_type": "stream",
     "text": [
      "                 all         80        220      0.673      0.186      0.146     0.0382\n"
     ]
    },
    {
     "name": "stderr",
     "output_type": "stream",
     "text": [
      "               Class     Images     Labels          P          R     mAP@.5 mAP@.5:.95: 100%|██████████| 14/14 [00:01<00:00,  8.38it/s]\n"
     ]
    },
    {
     "name": "stdout",
     "output_type": "stream",
     "text": [
      "                 all        280        961      0.301      0.592      0.367       0.12\n"
     ]
    },
    {
     "name": "stderr",
     "output_type": "stream",
     "text": [
      "\n",
      "     Epoch   gpu_mem       box       obj       cls    labels  img_size\n",
      "\n",
      "Only YOLO\n",
      "     50/79     4.32G   0.04879   0.02405  0.001776        51       640: 100%|██████████| 14/14 [00:01<00:00,  9.16it/s]\n",
      "               Class     Images     Labels          P          R     mAP@.5 mAP@.5:.95: 100%|██████████| 2/2 [00:00<00:00,  4.19it/s]\n"
     ]
    },
    {
     "name": "stdout",
     "output_type": "stream",
     "text": [
      "                 all         80        220      0.619      0.258      0.133      0.029\n"
     ]
    },
    {
     "name": "stderr",
     "output_type": "stream",
     "text": [
      "               Class     Images     Labels          P          R     mAP@.5 mAP@.5:.95: 100%|██████████| 14/14 [00:01<00:00,  7.57it/s]\n"
     ]
    },
    {
     "name": "stdout",
     "output_type": "stream",
     "text": [
      "                 all        280        961      0.272      0.611      0.368     0.0952\n"
     ]
    },
    {
     "name": "stderr",
     "output_type": "stream",
     "text": [
      "\n",
      "     Epoch   gpu_mem       box       obj       cls    labels  img_size\n",
      "\n",
      "Only YOLO\n",
      "     51/79     4.32G   0.04733   0.02407  0.001775        51       640: 100%|██████████| 14/14 [00:01<00:00,  8.86it/s]\n",
      "               Class     Images     Labels          P          R     mAP@.5 mAP@.5:.95: 100%|██████████| 2/2 [00:00<00:00,  4.58it/s]\n"
     ]
    },
    {
     "name": "stdout",
     "output_type": "stream",
     "text": [
      "                 all         80        220      0.606      0.294      0.122     0.0283\n"
     ]
    },
    {
     "name": "stderr",
     "output_type": "stream",
     "text": [
      "               Class     Images     Labels          P          R     mAP@.5 mAP@.5:.95: 100%|██████████| 14/14 [00:01<00:00,  7.94it/s]\n"
     ]
    },
    {
     "name": "stdout",
     "output_type": "stream",
     "text": [
      "                 all        280        961      0.289      0.617      0.362      0.116\n"
     ]
    },
    {
     "name": "stderr",
     "output_type": "stream",
     "text": [
      "\n",
      "     Epoch   gpu_mem       box       obj       cls    labels  img_size\n",
      "\n",
      "Only YOLO\n",
      "     52/79     4.32G   0.04793   0.02375  0.001728        51       640: 100%|██████████| 14/14 [00:01<00:00,  9.01it/s]\n",
      "               Class     Images     Labels          P          R     mAP@.5 mAP@.5:.95: 100%|██████████| 2/2 [00:00<00:00,  4.54it/s]\n"
     ]
    },
    {
     "name": "stdout",
     "output_type": "stream",
     "text": [
      "                 all         80        220      0.664      0.206      0.156     0.0393\n"
     ]
    },
    {
     "name": "stderr",
     "output_type": "stream",
     "text": [
      "               Class     Images     Labels          P          R     mAP@.5 mAP@.5:.95: 100%|██████████| 14/14 [00:01<00:00,  8.34it/s]\n"
     ]
    },
    {
     "name": "stdout",
     "output_type": "stream",
     "text": [
      "                 all        280        961      0.326      0.575      0.403      0.142\n"
     ]
    },
    {
     "name": "stderr",
     "output_type": "stream",
     "text": [
      "\n",
      "     Epoch   gpu_mem       box       obj       cls    labels  img_size\n",
      "\n",
      "Only YOLO\n",
      "     53/79     4.32G   0.04457   0.02408  0.001739        51       640: 100%|██████████| 14/14 [00:01<00:00,  8.89it/s]\n",
      "               Class     Images     Labels          P          R     mAP@.5 mAP@.5:.95: 100%|██████████| 2/2 [00:00<00:00,  4.66it/s]\n"
     ]
    },
    {
     "name": "stdout",
     "output_type": "stream",
     "text": [
      "                 all         80        220      0.651      0.227      0.151     0.0376\n"
     ]
    },
    {
     "name": "stderr",
     "output_type": "stream",
     "text": [
      "               Class     Images     Labels          P          R     mAP@.5 mAP@.5:.95: 100%|██████████| 14/14 [00:01<00:00,  8.25it/s]\n"
     ]
    },
    {
     "name": "stdout",
     "output_type": "stream",
     "text": [
      "                 all        280        961      0.376      0.482       0.39      0.141\n"
     ]
    },
    {
     "name": "stderr",
     "output_type": "stream",
     "text": [
      "\n",
      "     Epoch   gpu_mem       box       obj       cls    labels  img_size\n",
      "\n",
      "Only YOLO\n",
      "     54/79     4.32G   0.04524   0.02398  0.001722        51       640: 100%|██████████| 14/14 [00:01<00:00,  8.89it/s]\n",
      "               Class     Images     Labels          P          R     mAP@.5 mAP@.5:.95: 100%|██████████| 2/2 [00:00<00:00,  4.48it/s]\n"
     ]
    },
    {
     "name": "stdout",
     "output_type": "stream",
     "text": [
      "                 all         80        220      0.655      0.173       0.14     0.0366\n"
     ]
    },
    {
     "name": "stderr",
     "output_type": "stream",
     "text": [
      "               Class     Images     Labels          P          R     mAP@.5 mAP@.5:.95: 100%|██████████| 14/14 [00:01<00:00,  8.00it/s]\n"
     ]
    },
    {
     "name": "stdout",
     "output_type": "stream",
     "text": [
      "                 all        280        961      0.286      0.599      0.362      0.128\n"
     ]
    },
    {
     "name": "stderr",
     "output_type": "stream",
     "text": [
      "\n",
      "     Epoch   gpu_mem       box       obj       cls    labels  img_size\n",
      "\n",
      "Only YOLO\n",
      "     55/79     4.32G   0.04636   0.02372  0.001725        51       640: 100%|██████████| 14/14 [00:01<00:00,  9.00it/s]\n",
      "               Class     Images     Labels          P          R     mAP@.5 mAP@.5:.95: 100%|██████████| 2/2 [00:01<00:00,  1.21it/s]\n"
     ]
    },
    {
     "name": "stdout",
     "output_type": "stream",
     "text": [
      "                 all         80        220      0.665       0.17      0.134     0.0353\n"
     ]
    },
    {
     "name": "stderr",
     "output_type": "stream",
     "text": [
      "               Class     Images     Labels          P          R     mAP@.5 mAP@.5:.95: 100%|██████████| 14/14 [00:01<00:00,  8.42it/s]\n"
     ]
    },
    {
     "name": "stdout",
     "output_type": "stream",
     "text": [
      "                 all        280        961      0.365      0.457      0.378      0.137\n"
     ]
    },
    {
     "name": "stderr",
     "output_type": "stream",
     "text": [
      "\n",
      "     Epoch   gpu_mem       box       obj       cls    labels  img_size\n",
      "\n",
      "Only YOLO\n",
      "     56/79     4.32G   0.04401    0.0239  0.001705        51       640: 100%|██████████| 14/14 [00:01<00:00,  8.83it/s]\n",
      "               Class     Images     Labels          P          R     mAP@.5 mAP@.5:.95: 100%|██████████| 2/2 [00:00<00:00,  4.51it/s]\n"
     ]
    },
    {
     "name": "stdout",
     "output_type": "stream",
     "text": [
      "                 all         80        220      0.629      0.252      0.158     0.0457\n"
     ]
    },
    {
     "name": "stderr",
     "output_type": "stream",
     "text": [
      "               Class     Images     Labels          P          R     mAP@.5 mAP@.5:.95: 100%|██████████| 14/14 [00:01<00:00,  8.03it/s]\n"
     ]
    },
    {
     "name": "stdout",
     "output_type": "stream",
     "text": [
      "                 all        280        961        0.4      0.475      0.408      0.144\n"
     ]
    },
    {
     "name": "stderr",
     "output_type": "stream",
     "text": [
      "\n",
      "     Epoch   gpu_mem       box       obj       cls    labels  img_size\n",
      "\n",
      "Only YOLO\n",
      "     57/79     4.32G   0.04381   0.02381  0.001687        51       640: 100%|██████████| 14/14 [00:01<00:00,  8.91it/s]\n",
      "               Class     Images     Labels          P          R     mAP@.5 mAP@.5:.95: 100%|██████████| 2/2 [00:00<00:00,  4.39it/s]\n"
     ]
    },
    {
     "name": "stdout",
     "output_type": "stream",
     "text": [
      "                 all         80        220      0.665      0.208      0.165      0.043\n"
     ]
    },
    {
     "name": "stderr",
     "output_type": "stream",
     "text": [
      "               Class     Images     Labels          P          R     mAP@.5 mAP@.5:.95: 100%|██████████| 14/14 [00:01<00:00,  8.15it/s]\n"
     ]
    },
    {
     "name": "stdout",
     "output_type": "stream",
     "text": [
      "                 all        280        961      0.391      0.514      0.431      0.162\n"
     ]
    },
    {
     "name": "stderr",
     "output_type": "stream",
     "text": [
      "\n",
      "     Epoch   gpu_mem       box       obj       cls    labels  img_size\n",
      "\n",
      "Only YOLO\n",
      "     58/79     4.32G     0.043   0.02384  0.001638        51       640: 100%|██████████| 14/14 [00:01<00:00,  8.67it/s]\n",
      "               Class     Images     Labels          P          R     mAP@.5 mAP@.5:.95: 100%|██████████| 2/2 [00:00<00:00,  4.19it/s]\n"
     ]
    },
    {
     "name": "stdout",
     "output_type": "stream",
     "text": [
      "                 all         80        220      0.662      0.201      0.158     0.0488\n"
     ]
    },
    {
     "name": "stderr",
     "output_type": "stream",
     "text": [
      "               Class     Images     Labels          P          R     mAP@.5 mAP@.5:.95: 100%|██████████| 14/14 [00:01<00:00,  8.06it/s]\n"
     ]
    },
    {
     "name": "stdout",
     "output_type": "stream",
     "text": [
      "                 all        280        961      0.352      0.553      0.421      0.164\n"
     ]
    },
    {
     "name": "stderr",
     "output_type": "stream",
     "text": [
      "\n",
      "     Epoch   gpu_mem       box       obj       cls    labels  img_size\n",
      "\n",
      "Only YOLO\n",
      "     59/79     4.32G   0.04218   0.02383  0.001621        51       640: 100%|██████████| 14/14 [00:01<00:00,  8.79it/s]\n",
      "               Class     Images     Labels          P          R     mAP@.5 mAP@.5:.95: 100%|██████████| 2/2 [00:00<00:00,  4.55it/s]\n"
     ]
    },
    {
     "name": "stdout",
     "output_type": "stream",
     "text": [
      "                 all         80        220      0.673      0.224      0.175     0.0519\n"
     ]
    },
    {
     "name": "stderr",
     "output_type": "stream",
     "text": [
      "               Class     Images     Labels          P          R     mAP@.5 mAP@.5:.95: 100%|██████████| 14/14 [00:01<00:00,  8.14it/s]\n"
     ]
    },
    {
     "name": "stdout",
     "output_type": "stream",
     "text": [
      "                 all        280        961      0.408       0.53       0.46      0.177\n"
     ]
    },
    {
     "name": "stderr",
     "output_type": "stream",
     "text": [
      "\n",
      "     Epoch   gpu_mem       box       obj       cls    labels  img_size\n",
      "\n",
      "Only YOLO\n",
      "     60/79     4.32G   0.04293   0.02385  0.001658        51       640: 100%|██████████| 14/14 [00:01<00:00,  8.96it/s]\n",
      "               Class     Images     Labels          P          R     mAP@.5 mAP@.5:.95: 100%|██████████| 2/2 [00:00<00:00,  3.63it/s]\n"
     ]
    },
    {
     "name": "stdout",
     "output_type": "stream",
     "text": [
      "                 all         80        220      0.673      0.222      0.184     0.0537\n"
     ]
    },
    {
     "name": "stderr",
     "output_type": "stream",
     "text": [
      "               Class     Images     Labels          P          R     mAP@.5 mAP@.5:.95: 100%|██████████| 14/14 [00:01<00:00,  8.72it/s]\n"
     ]
    },
    {
     "name": "stdout",
     "output_type": "stream",
     "text": [
      "                 all        280        961      0.308      0.694      0.442      0.184\n"
     ]
    },
    {
     "name": "stderr",
     "output_type": "stream",
     "text": [
      "\n",
      "     Epoch   gpu_mem       box       obj       cls    labels  img_size\n",
      "\n",
      "Only YOLO\n",
      "     61/79     4.32G   0.04164   0.02373  0.001569        51       640: 100%|██████████| 14/14 [00:01<00:00,  8.95it/s]\n",
      "               Class     Images     Labels          P          R     mAP@.5 mAP@.5:.95: 100%|██████████| 2/2 [00:00<00:00,  4.61it/s]\n"
     ]
    },
    {
     "name": "stdout",
     "output_type": "stream",
     "text": [
      "                 all         80        220      0.659      0.214      0.163     0.0456\n"
     ]
    },
    {
     "name": "stderr",
     "output_type": "stream",
     "text": [
      "               Class     Images     Labels          P          R     mAP@.5 mAP@.5:.95: 100%|██████████| 14/14 [00:01<00:00,  8.12it/s]\n"
     ]
    },
    {
     "name": "stdout",
     "output_type": "stream",
     "text": [
      "                 all        280        961      0.334      0.657      0.437      0.174\n"
     ]
    },
    {
     "name": "stderr",
     "output_type": "stream",
     "text": [
      "\n",
      "     Epoch   gpu_mem       box       obj       cls    labels  img_size\n",
      "\n",
      "Only YOLO\n",
      "     62/79     4.32G   0.03958   0.02383  0.001514        51       640: 100%|██████████| 14/14 [00:01<00:00,  8.81it/s]\n",
      "               Class     Images     Labels          P          R     mAP@.5 mAP@.5:.95: 100%|██████████| 2/2 [00:00<00:00,  4.56it/s]\n"
     ]
    },
    {
     "name": "stdout",
     "output_type": "stream",
     "text": [
      "                 all         80        220      0.623      0.293       0.16     0.0416\n"
     ]
    },
    {
     "name": "stderr",
     "output_type": "stream",
     "text": [
      "               Class     Images     Labels          P          R     mAP@.5 mAP@.5:.95: 100%|██████████| 14/14 [00:01<00:00,  8.54it/s]\n"
     ]
    },
    {
     "name": "stdout",
     "output_type": "stream",
     "text": [
      "                 all        280        961      0.304      0.679      0.429      0.165\n"
     ]
    },
    {
     "name": "stderr",
     "output_type": "stream",
     "text": [
      "\n",
      "     Epoch   gpu_mem       box       obj       cls    labels  img_size\n",
      "\n",
      "Only YOLO\n",
      "     63/79     4.32G   0.04161    0.0236  0.001502        51       640: 100%|██████████| 14/14 [00:01<00:00,  8.64it/s]\n",
      "               Class     Images     Labels          P          R     mAP@.5 mAP@.5:.95: 100%|██████████| 2/2 [00:01<00:00,  1.22it/s]\n"
     ]
    },
    {
     "name": "stdout",
     "output_type": "stream",
     "text": [
      "                 all         80        220      0.638      0.294      0.172     0.0518\n"
     ]
    },
    {
     "name": "stderr",
     "output_type": "stream",
     "text": [
      "               Class     Images     Labels          P          R     mAP@.5 mAP@.5:.95: 100%|██████████| 14/14 [00:01<00:00,  8.53it/s]\n"
     ]
    },
    {
     "name": "stdout",
     "output_type": "stream",
     "text": [
      "                 all        280        961      0.405      0.552      0.463      0.182\n"
     ]
    },
    {
     "name": "stderr",
     "output_type": "stream",
     "text": [
      "\n",
      "     Epoch   gpu_mem       box       obj       cls    labels  img_size\n",
      "\n",
      "Only YOLO\n",
      "     64/79     4.32G   0.04105   0.02351  0.001516        51       640: 100%|██████████| 14/14 [00:01<00:00,  9.22it/s]\n",
      "               Class     Images     Labels          P          R     mAP@.5 mAP@.5:.95: 100%|██████████| 2/2 [00:00<00:00,  4.41it/s]\n"
     ]
    },
    {
     "name": "stdout",
     "output_type": "stream",
     "text": [
      "                 all         80        220      0.624      0.286      0.159     0.0442\n"
     ]
    },
    {
     "name": "stderr",
     "output_type": "stream",
     "text": [
      "               Class     Images     Labels          P          R     mAP@.5 mAP@.5:.95: 100%|██████████| 14/14 [00:01<00:00,  8.58it/s]\n"
     ]
    },
    {
     "name": "stdout",
     "output_type": "stream",
     "text": [
      "                 all        280        961      0.322      0.649      0.437      0.159\n"
     ]
    },
    {
     "name": "stderr",
     "output_type": "stream",
     "text": [
      "\n",
      "     Epoch   gpu_mem       box       obj       cls    labels  img_size\n",
      "\n",
      "Only YOLO\n",
      "     65/79     4.32G   0.03943   0.02379  0.001547        51       640: 100%|██████████| 14/14 [00:01<00:00,  9.18it/s]\n",
      "               Class     Images     Labels          P          R     mAP@.5 mAP@.5:.95: 100%|██████████| 2/2 [00:00<00:00,  3.70it/s]\n"
     ]
    },
    {
     "name": "stdout",
     "output_type": "stream",
     "text": [
      "                 all         80        220      0.616      0.307      0.152     0.0444\n"
     ]
    },
    {
     "name": "stderr",
     "output_type": "stream",
     "text": [
      "               Class     Images     Labels          P          R     mAP@.5 mAP@.5:.95: 100%|██████████| 14/14 [00:01<00:00,  8.36it/s]\n"
     ]
    },
    {
     "name": "stdout",
     "output_type": "stream",
     "text": [
      "                 all        280        961      0.369      0.615      0.453      0.177\n"
     ]
    },
    {
     "name": "stderr",
     "output_type": "stream",
     "text": [
      "\n",
      "     Epoch   gpu_mem       box       obj       cls    labels  img_size\n",
      "\n",
      "Only YOLO\n",
      "     66/79     4.32G   0.04012   0.02373  0.001503        51       640: 100%|██████████| 14/14 [00:01<00:00,  9.26it/s]\n",
      "               Class     Images     Labels          P          R     mAP@.5 mAP@.5:.95: 100%|██████████| 2/2 [00:00<00:00,  4.03it/s]\n"
     ]
    },
    {
     "name": "stdout",
     "output_type": "stream",
     "text": [
      "                 all         80        220      0.677      0.191      0.162     0.0454\n"
     ]
    },
    {
     "name": "stderr",
     "output_type": "stream",
     "text": [
      "               Class     Images     Labels          P          R     mAP@.5 mAP@.5:.95: 100%|██████████| 14/14 [00:01<00:00,  8.10it/s]\n"
     ]
    },
    {
     "name": "stdout",
     "output_type": "stream",
     "text": [
      "                 all        280        961      0.423      0.512      0.452      0.188\n"
     ]
    },
    {
     "name": "stderr",
     "output_type": "stream",
     "text": [
      "\n",
      "     Epoch   gpu_mem       box       obj       cls    labels  img_size\n",
      "\n",
      "Only YOLO\n",
      "     67/79     4.32G    0.0394   0.02372  0.001493        51       640: 100%|██████████| 14/14 [00:01<00:00,  8.56it/s]\n",
      "               Class     Images     Labels          P          R     mAP@.5 mAP@.5:.95: 100%|██████████| 2/2 [00:00<00:00,  4.46it/s]\n"
     ]
    },
    {
     "name": "stdout",
     "output_type": "stream",
     "text": [
      "                 all         80        220      0.632      0.284      0.158     0.0426\n"
     ]
    },
    {
     "name": "stderr",
     "output_type": "stream",
     "text": [
      "               Class     Images     Labels          P          R     mAP@.5 mAP@.5:.95: 100%|██████████| 14/14 [00:01<00:00,  8.38it/s]\n"
     ]
    },
    {
     "name": "stdout",
     "output_type": "stream",
     "text": [
      "                 all        280        961      0.335      0.693      0.443      0.178\n"
     ]
    },
    {
     "name": "stderr",
     "output_type": "stream",
     "text": [
      "\n",
      "     Epoch   gpu_mem       box       obj       cls    labels  img_size\n",
      "\n",
      "Only YOLO\n",
      "     68/79     4.32G   0.03842   0.02379  0.001482        51       640: 100%|██████████| 14/14 [00:01<00:00,  8.91it/s]\n",
      "               Class     Images     Labels          P          R     mAP@.5 mAP@.5:.95: 100%|██████████| 2/2 [00:00<00:00,  4.52it/s]\n"
     ]
    },
    {
     "name": "stdout",
     "output_type": "stream",
     "text": [
      "                 all         80        220      0.662      0.224      0.169     0.0471\n"
     ]
    },
    {
     "name": "stderr",
     "output_type": "stream",
     "text": [
      "               Class     Images     Labels          P          R     mAP@.5 mAP@.5:.95: 100%|██████████| 14/14 [00:01<00:00,  7.92it/s]\n"
     ]
    },
    {
     "name": "stdout",
     "output_type": "stream",
     "text": [
      "                 all        280        961      0.337      0.638       0.42      0.168\n"
     ]
    },
    {
     "name": "stderr",
     "output_type": "stream",
     "text": [
      "\n",
      "     Epoch   gpu_mem       box       obj       cls    labels  img_size\n",
      "\n",
      "Only YOLO\n",
      "     69/79     4.32G   0.03933   0.02358  0.001434        51       640: 100%|██████████| 14/14 [00:01<00:00,  9.20it/s]\n",
      "               Class     Images     Labels          P          R     mAP@.5 mAP@.5:.95: 100%|██████████| 2/2 [00:00<00:00,  4.20it/s]\n"
     ]
    },
    {
     "name": "stdout",
     "output_type": "stream",
     "text": [
      "                 all         80        220       0.63      0.321      0.165     0.0482\n"
     ]
    },
    {
     "name": "stderr",
     "output_type": "stream",
     "text": [
      "               Class     Images     Labels          P          R     mAP@.5 mAP@.5:.95: 100%|██████████| 14/14 [00:01<00:00,  8.19it/s]\n"
     ]
    },
    {
     "name": "stdout",
     "output_type": "stream",
     "text": [
      "                 all        280        961      0.339      0.681      0.457      0.192\n"
     ]
    },
    {
     "name": "stderr",
     "output_type": "stream",
     "text": [
      "\n",
      "     Epoch   gpu_mem       box       obj       cls    labels  img_size\n",
      "\n",
      "Only YOLO\n",
      "     70/79     4.32G   0.03742   0.02375  0.001458        51       640: 100%|██████████| 14/14 [00:01<00:00,  8.93it/s]\n",
      "               Class     Images     Labels          P          R     mAP@.5 mAP@.5:.95: 100%|██████████| 2/2 [00:00<00:00,  4.75it/s]\n"
     ]
    },
    {
     "name": "stdout",
     "output_type": "stream",
     "text": [
      "                 all         80        220       0.67      0.193       0.17     0.0522\n"
     ]
    },
    {
     "name": "stderr",
     "output_type": "stream",
     "text": [
      "               Class     Images     Labels          P          R     mAP@.5 mAP@.5:.95: 100%|██████████| 14/14 [00:01<00:00,  8.33it/s]\n"
     ]
    },
    {
     "name": "stdout",
     "output_type": "stream",
     "text": [
      "                 all        280        961      0.404      0.556      0.468        0.2\n"
     ]
    },
    {
     "name": "stderr",
     "output_type": "stream",
     "text": [
      "\n",
      "     Epoch   gpu_mem       box       obj       cls    labels  img_size\n",
      "\n",
      "Only YOLO\n",
      "     71/79     4.32G    0.0373   0.02361  0.001404        51       640: 100%|██████████| 14/14 [00:01<00:00,  8.80it/s]\n",
      "               Class     Images     Labels          P          R     mAP@.5 mAP@.5:.95: 100%|██████████| 2/2 [00:01<00:00,  1.24it/s]\n"
     ]
    },
    {
     "name": "stdout",
     "output_type": "stream",
     "text": [
      "                 all         80        220      0.656      0.219      0.159     0.0429\n"
     ]
    },
    {
     "name": "stderr",
     "output_type": "stream",
     "text": [
      "               Class     Images     Labels          P          R     mAP@.5 mAP@.5:.95: 100%|██████████| 14/14 [00:01<00:00,  8.34it/s]\n"
     ]
    },
    {
     "name": "stdout",
     "output_type": "stream",
     "text": [
      "                 all        280        961      0.371      0.569      0.435      0.184\n"
     ]
    },
    {
     "name": "stderr",
     "output_type": "stream",
     "text": [
      "\n",
      "     Epoch   gpu_mem       box       obj       cls    labels  img_size\n",
      "\n",
      "Only YOLO\n",
      "     72/79     4.32G   0.03833   0.02353   0.00139        51       640: 100%|██████████| 14/14 [00:01<00:00,  9.02it/s]\n",
      "               Class     Images     Labels          P          R     mAP@.5 mAP@.5:.95: 100%|██████████| 2/2 [00:00<00:00,  4.66it/s]\n"
     ]
    },
    {
     "name": "stdout",
     "output_type": "stream",
     "text": [
      "                 all         80        220      0.655      0.214      0.158     0.0441\n"
     ]
    },
    {
     "name": "stderr",
     "output_type": "stream",
     "text": [
      "               Class     Images     Labels          P          R     mAP@.5 mAP@.5:.95: 100%|██████████| 14/14 [00:01<00:00,  8.75it/s]\n"
     ]
    },
    {
     "name": "stdout",
     "output_type": "stream",
     "text": [
      "                 all        280        961      0.388      0.559      0.458      0.196\n"
     ]
    },
    {
     "name": "stderr",
     "output_type": "stream",
     "text": [
      "\n",
      "     Epoch   gpu_mem       box       obj       cls    labels  img_size\n",
      "\n",
      "Only YOLO\n",
      "     73/79     4.32G   0.03662   0.02358  0.001377        51       640: 100%|██████████| 14/14 [00:01<00:00,  8.79it/s]\n",
      "               Class     Images     Labels          P          R     mAP@.5 mAP@.5:.95: 100%|██████████| 2/2 [00:00<00:00,  4.62it/s]\n"
     ]
    },
    {
     "name": "stdout",
     "output_type": "stream",
     "text": [
      "                 all         80        220      0.635      0.268      0.165     0.0466\n"
     ]
    },
    {
     "name": "stderr",
     "output_type": "stream",
     "text": [
      "               Class     Images     Labels          P          R     mAP@.5 mAP@.5:.95: 100%|██████████| 14/14 [00:01<00:00,  8.29it/s]\n"
     ]
    },
    {
     "name": "stdout",
     "output_type": "stream",
     "text": [
      "                 all        280        961      0.367      0.607      0.455      0.195\n"
     ]
    },
    {
     "name": "stderr",
     "output_type": "stream",
     "text": [
      "\n",
      "     Epoch   gpu_mem       box       obj       cls    labels  img_size\n",
      "\n",
      "Only YOLO\n",
      "     74/79     4.32G   0.03748   0.02343  0.001372        51       640: 100%|██████████| 14/14 [00:01<00:00,  8.98it/s]\n",
      "               Class     Images     Labels          P          R     mAP@.5 mAP@.5:.95: 100%|██████████| 2/2 [00:00<00:00,  4.61it/s]\n"
     ]
    },
    {
     "name": "stdout",
     "output_type": "stream",
     "text": [
      "                 all         80        220      0.694      0.193      0.175     0.0521\n"
     ]
    },
    {
     "name": "stderr",
     "output_type": "stream",
     "text": [
      "               Class     Images     Labels          P          R     mAP@.5 mAP@.5:.95: 100%|██████████| 14/14 [00:01<00:00,  8.22it/s]\n"
     ]
    },
    {
     "name": "stdout",
     "output_type": "stream",
     "text": [
      "                 all        280        961       0.36      0.662      0.462      0.203\n"
     ]
    },
    {
     "name": "stderr",
     "output_type": "stream",
     "text": [
      "\n",
      "     Epoch   gpu_mem       box       obj       cls    labels  img_size\n",
      "\n",
      "Only YOLO\n",
      "     75/79     4.32G   0.03646   0.02357  0.001373        51       640: 100%|██████████| 14/14 [00:01<00:00,  8.78it/s]\n",
      "               Class     Images     Labels          P          R     mAP@.5 mAP@.5:.95: 100%|██████████| 2/2 [00:00<00:00,  4.63it/s]\n"
     ]
    },
    {
     "name": "stdout",
     "output_type": "stream",
     "text": [
      "                 all         80        220      0.678      0.198      0.174     0.0526\n"
     ]
    },
    {
     "name": "stderr",
     "output_type": "stream",
     "text": [
      "               Class     Images     Labels          P          R     mAP@.5 mAP@.5:.95: 100%|██████████| 14/14 [00:01<00:00,  8.15it/s]\n"
     ]
    },
    {
     "name": "stdout",
     "output_type": "stream",
     "text": [
      "                 all        280        961      0.321      0.729      0.459      0.201\n"
     ]
    },
    {
     "name": "stderr",
     "output_type": "stream",
     "text": [
      "\n",
      "     Epoch   gpu_mem       box       obj       cls    labels  img_size\n",
      "\n",
      "Only YOLO\n",
      "     76/79     4.32G   0.03656   0.02349  0.001341        51       640: 100%|██████████| 14/14 [00:01<00:00,  8.34it/s]\n",
      "               Class     Images     Labels          P          R     mAP@.5 mAP@.5:.95: 100%|██████████| 2/2 [00:00<00:00,  4.47it/s]\n"
     ]
    },
    {
     "name": "stdout",
     "output_type": "stream",
     "text": [
      "                 all         80        220      0.664      0.206       0.17     0.0489\n"
     ]
    },
    {
     "name": "stderr",
     "output_type": "stream",
     "text": [
      "               Class     Images     Labels          P          R     mAP@.5 mAP@.5:.95: 100%|██████████| 14/14 [00:01<00:00,  8.61it/s]\n"
     ]
    },
    {
     "name": "stdout",
     "output_type": "stream",
     "text": [
      "                 all        280        961      0.359      0.645      0.466      0.198\n"
     ]
    },
    {
     "name": "stderr",
     "output_type": "stream",
     "text": [
      "\n",
      "     Epoch   gpu_mem       box       obj       cls    labels  img_size\n",
      "\n",
      "Only YOLO\n",
      "     77/79     4.32G   0.03593   0.02352  0.001334        51       640: 100%|██████████| 14/14 [00:01<00:00,  9.23it/s]\n",
      "               Class     Images     Labels          P          R     mAP@.5 mAP@.5:.95: 100%|██████████| 2/2 [00:00<00:00,  4.59it/s]\n"
     ]
    },
    {
     "name": "stdout",
     "output_type": "stream",
     "text": [
      "                 all         80        220      0.686       0.18      0.163     0.0463\n"
     ]
    },
    {
     "name": "stderr",
     "output_type": "stream",
     "text": [
      "               Class     Images     Labels          P          R     mAP@.5 mAP@.5:.95: 100%|██████████| 14/14 [00:01<00:00,  8.54it/s]\n"
     ]
    },
    {
     "name": "stdout",
     "output_type": "stream",
     "text": [
      "                 all        280        961      0.379      0.593       0.47      0.196\n"
     ]
    },
    {
     "name": "stderr",
     "output_type": "stream",
     "text": [
      "\n",
      "     Epoch   gpu_mem       box       obj       cls    labels  img_size\n",
      "\n",
      "Only YOLO\n",
      "     78/79     4.32G   0.03805   0.02338  0.001331        51       640: 100%|██████████| 14/14 [00:01<00:00,  8.81it/s]\n",
      "               Class     Images     Labels          P          R     mAP@.5 mAP@.5:.95: 100%|██████████| 2/2 [00:00<00:00,  4.66it/s]\n"
     ]
    },
    {
     "name": "stdout",
     "output_type": "stream",
     "text": [
      "                 all         80        220      0.709      0.173      0.171     0.0557\n"
     ]
    },
    {
     "name": "stderr",
     "output_type": "stream",
     "text": [
      "               Class     Images     Labels          P          R     mAP@.5 mAP@.5:.95: 100%|██████████| 14/14 [00:01<00:00,  8.48it/s]\n"
     ]
    },
    {
     "name": "stdout",
     "output_type": "stream",
     "text": [
      "                 all        280        961      0.356      0.667       0.47      0.211\n"
     ]
    },
    {
     "name": "stderr",
     "output_type": "stream",
     "text": [
      "\n",
      "     Epoch   gpu_mem       box       obj       cls    labels  img_size\n",
      "\n",
      "Only YOLO\n",
      "     79/79     4.32G   0.03685   0.02343  0.001331        51       640: 100%|██████████| 14/14 [00:01<00:00,  9.06it/s]\n",
      "               Class     Images     Labels          P          R     mAP@.5 mAP@.5:.95: 100%|██████████| 2/2 [00:02<00:00,  1.38s/it]\n"
     ]
    },
    {
     "name": "stdout",
     "output_type": "stream",
     "text": [
      "                 all         80        220      0.647      0.222      0.167     0.0529\n",
      "           bone-loss         80        194      0.294      0.443      0.331      0.105\n",
      "       dental-caries         80         26          1          0    0.00341    0.00103\n"
     ]
    },
    {
     "name": "stderr",
     "output_type": "stream",
     "text": [
      "               Class     Images     Labels          P          R     mAP@.5 mAP@.5:.95: 100%|██████████| 14/14 [00:06<00:00,  2.15it/s]\n"
     ]
    },
    {
     "name": "stdout",
     "output_type": "stream",
     "text": [
      "                 all        280        961      0.338      0.702      0.447      0.199\n",
      "           bone-loss        280        858      0.342      0.921      0.549      0.242\n",
      "       dental-caries        280        103      0.334      0.483      0.345      0.157\n"
     ]
    },
    {
     "name": "stderr",
     "output_type": "stream",
     "text": [
      "\n",
      "80 epochs completed in 0.106 hours.\n",
      "Fusing layers... \n",
      "Model Summary: 213 layers, 7015519 parameters, 0 gradients, 15.8 GFLOPs\n",
      "               Class     Images     Labels          P          R     mAP@.5 mAP@.5:.95: 100%|██████████| 2/2 [00:01<00:00,  1.05it/s]\n"
     ]
    },
    {
     "name": "stdout",
     "output_type": "stream",
     "text": [
      "                 all         80        220      0.658      0.203      0.166      0.052\n",
      "\n",
      "Evaluating pycocotools mAP... saving runs\\train\\Expset1_iid_yolov5\\_predictions.json...\n",
      "\u001b[31m\u001b[1mrequirements:\u001b[0m pycocotools not found and is required by YOLOv5, attempting auto-update...\n",
      "\u001b[31m\u001b[1mrequirements:\u001b[0m Command 'pip install 'pycocotools'' returned non-zero exit status 1.\n",
      "pycocotools unable to run: No module named 'pycocotools'\n"
     ]
    },
    {
     "name": "stderr",
     "output_type": "stream",
     "text": [
      "Fusing layers... \n",
      "Model Summary: 213 layers, 7015519 parameters, 0 gradients, 15.8 GFLOPs\n",
      "               Class     Images     Labels          P          R     mAP@.5 mAP@.5:.95: 100%|██████████| 2/2 [00:00<00:00,  4.15it/s]\n"
     ]
    },
    {
     "name": "stdout",
     "output_type": "stream",
     "text": [
      "                 all         80        220      0.709      0.173       0.17     0.0547\n",
      "\n",
      "Evaluating pycocotools mAP... saving runs\\train\\Expset1_iid_yolov5\\_predictions.json...\n",
      "\u001b[31m\u001b[1mrequirements:\u001b[0m pycocotools not found and is required by YOLOv5, attempting auto-update...\n",
      "\u001b[31m\u001b[1mrequirements:\u001b[0m Command 'pip install 'pycocotools'' returned non-zero exit status 1.\n",
      "pycocotools unable to run: No module named 'pycocotools'\n",
      "Optimizer stripped from runs\\train\\Expset1_iid_yolov5\\weights\\last.pt, 14.3MB\n",
      "Optimizer stripped from runs\\train\\Expset1_iid_yolov5\\weights\\best.pt, 14.3MB\n"
     ]
    },
    {
     "data": {
      "text/html": [
       "<br/>Waiting for W&B process to finish, PID 10528... <strong style=\"color:green\">(success).</strong>"
      ],
      "text/plain": [
       "<IPython.core.display.HTML object>"
      ]
     },
     "metadata": {},
     "output_type": "display_data"
    },
    {
     "data": {
      "application/vnd.jupyter.widget-view+json": {
       "model_id": "",
       "version_major": 2,
       "version_minor": 0
      },
      "text/plain": [
       "VBox(children=(Label(value=' 57.34MB of 57.87MB uploaded (0.00MB deduped)\\r'), FloatProgress(value=0.990849283…"
      ]
     },
     "metadata": {},
     "output_type": "display_data"
    },
    {
     "data": {
      "text/html": [
       "<style>\n",
       "    table.wandb td:nth-child(1) { padding: 0 10px; text-align: right }\n",
       "    .wandb-row { display: flex; flex-direction: row; flex-wrap: wrap; width: 100% }\n",
       "    .wandb-col { display: flex; flex-direction: column; flex-basis: 100%; flex: 1; padding: 10px; }\n",
       "    </style>\n",
       "<div class=\"wandb-row\"><div class=\"wandb-col\">\n",
       "<h3>Run history:</h3><br/><table class=\"wandb\"><tr><td>metrics/mAP_0.5</td><td>▁▁▁▂▃▄▄▅▃▄▄▅▄▅▅▆▅▆▆▆▆▆▇▆▆▆▇▆▇▇█▇▇▇▇▇▇█▇▇</td></tr><tr><td>metrics/mAP_0.5:0.95</td><td>▁▁▁▂▂▃▃▄▂▃▃▄▃▄▄▅▅▅▅▆▅▆▆▅▅▅▆▆▇▇█▆▇▇▇█▇█▇█</td></tr><tr><td>metrics/precision</td><td>▁▁▁▇▇▇▇█▇▇▇▇▇▇▇█▇▇▇█▇██▇█▇██▇██▇▇███████</td></tr><tr><td>metrics/recall</td><td>▁▃▂▃▅▅▆▅▄▅▄▇▄▆█▄█▇█▆█▅▅█▅▇▆▅▇▆▆██▅▆▆▆▆▆▆</td></tr><tr><td>train/box_loss</td><td>█▆▅▅▄▄▄▄▄▄▄▃▃▃▃▃▃▃▂▂▂▂▂▂▂▂▂▂▂▂▂▁▁▁▁▁▁▁▁▁</td></tr><tr><td>train/cls_loss</td><td>█▆▅▄▃▃▂▂▂▂▂▂▂▂▁▁▁▁▁▁▁▁▁▁▁▁▁▁▁▁▁▁▁▁▁▁▁▁▁▁</td></tr><tr><td>train/obj_loss</td><td>▆▇██▆▅▄▄▃▃▃▃▃▂▂▂▂▂▂▂▂▂▁▁▁▁▁▁▁▁▁▁▁▁▁▁▁▁▁▁</td></tr><tr><td>val/box_loss</td><td>█▆▅▄▄▃▃▃▃▃▂▂▃▂▂▂▂▂▂▁▂▁▁▂▁▁▁▁▁▁▁▁▁▁▁▁▁▁▁▁</td></tr><tr><td>val/cls_loss</td><td>█▆▄▃▂▂▂▁▂▁▂▁▁▁▁▁▁▁▁▁▁▁▁▁▁▁▁▁▁▁▁▁▁▁▁▁▁▁▁▁</td></tr><tr><td>val/obj_loss</td><td>▇██▆▄▃▃▂▁▂▃▂▁▂▁▁▂▁▂▄▂▂▂▂▂▂▂▂▃▃▃▃▃▃▃▃▃▃▃▄</td></tr><tr><td>x/lr0</td><td>▁▂▂▃▃▄▄▅▅▆▆▇▇▇▇██████████▇▇▇▇▇▆▆▆▆▆▆▅▅▅▅</td></tr><tr><td>x/lr1</td><td>▁▂▂▃▃▄▄▅▅▆▆▇▇▇▇██████████▇▇▇▇▇▆▆▆▆▆▆▅▅▅▅</td></tr><tr><td>x/lr2</td><td>███▇▇▇▇▇▇▆▆▆▆▆▅▅▅▅▅▄▄▄▄▄▃▃▃▃▃▂▂▂▂▁▁▁▁▁▁▁</td></tr></table><br/></div><div class=\"wandb-col\">\n",
       "<h3>Run summary:</h3><br/><table class=\"wandb\"><tr><td>metrics/mAP_0.5</td><td>0.16738</td></tr><tr><td>metrics/mAP_0.5:0.95</td><td>0.0529</td></tr><tr><td>metrics/precision</td><td>0.64707</td></tr><tr><td>metrics/recall</td><td>0.22165</td></tr><tr><td>train/box_loss</td><td>0.03685</td></tr><tr><td>train/cls_loss</td><td>0.00133</td></tr><tr><td>train/obj_loss</td><td>0.02343</td></tr><tr><td>val/box_loss</td><td>0.06218</td></tr><tr><td>val/cls_loss</td><td>0.00636</td></tr><tr><td>val/obj_loss</td><td>0.031</td></tr><tr><td>x/lr0</td><td>0.00201</td></tr><tr><td>x/lr1</td><td>0.00201</td></tr><tr><td>x/lr2</td><td>0.00201</td></tr></table>\n",
       "</div></div>\n",
       "Synced 6 W&B file(s), 334 media file(s), 1 artifact file(s) and 0 other file(s)\n",
       "<br/>Synced <strong style=\"color:#cdcd00\">Expset1_iid_yolov5</strong>: <a href=\"https://wandb.ai/dddetection/YOLOv5/runs/sp3dl844\" target=\"_blank\">https://wandb.ai/dddetection/YOLOv5/runs/sp3dl844</a><br/>\n",
       "Find logs at: <code>.\\wandb\\run-20220124_140523-sp3dl844\\logs</code><br/>\n"
      ],
      "text/plain": [
       "<IPython.core.display.HTML object>"
      ]
     },
     "metadata": {},
     "output_type": "display_data"
    },
    {
     "name": "stderr",
     "output_type": "stream",
     "text": [
      "Results saved to \u001b[1mruns\\train\\Expset1_iid_yolov5\u001b[0m\n"
     ]
    }
   ],
   "source": [
    "import os\n",
    "os.environ['KMP_DUPLICATE_LIB_OK']='True'\n",
    "%run -i ../src/train.py --data ../data/iid-tvt.yaml --batch-size 20 --epochs 80 --bcc_epoch -1 --name Expset1_iid_yolov5"
   ]
  },
  {
   "cell_type": "code",
   "execution_count": 2,
   "id": "646a8125-cc28-41bc-a63f-d22e5ab827f4",
   "metadata": {},
   "outputs": [
    {
     "name": "stdout",
     "output_type": "stream",
     "text": [
      "\u001b[34m\u001b[1mval: \u001b[0mdata=../data/iid-tvt.yaml, weights=['runs/train/Expset1_iid_yolov5/weights/best.pt'], batch_size=32, imgsz=640, conf_thres=0.001, iou_thres=0.6, task=test, device=, single_cls=False, augment=False, verbose=False, save_txt=False, save_hybrid=False, save_conf=False, save_json=False, project=runs/val, name=Expset1_iid_yolov5_test, exist_ok=False, half=False\n",
      "                 all         10         32      0.749     0.0455     0.0466     0.0144\n",
      "           bone-loss         10         11      0.498     0.0909     0.0909     0.0283\n",
      "       dental-caries         10         21          1          0    0.00228   0.000457\n",
      "Speed: 0.7ms pre-process, 3.0ms inference, 2.0ms NMS per image at shape (32, 3, 640, 640)\n",
      "Results saved to \u001b[1mruns\\val\\Expset1_iid_yolov5_test\u001b[0m\n"
     ]
    },
    {
     "name": "stderr",
     "output_type": "stream",
     "text": [
      "YOLOv5  2022-1-18 torch 1.10.1+cu113 CUDA:0 (NVIDIA GeForce RTX 3090, 24575.5MB)\n",
      "\n",
      "Fusing layers... \n",
      "C:\\Users\\rb01243\\Anaconda3\\lib\\site-packages\\torch\\functional.py:445: UserWarning: torch.meshgrid: in an upcoming release, it will be required to pass the indexing argument. (Triggered internally at  ..\\aten\\src\\ATen\\native\\TensorShape.cpp:2157.)\n",
      "  return _VF.meshgrid(tensors, **kwargs)  # type: ignore[attr-defined]\n",
      "Model Summary: 213 layers, 7015519 parameters, 0 gradients, 15.8 GFLOPs\n",
      "\n",
      "\u001b[34m\u001b[1mtest: \u001b[0mScanning '..\\data\\datasets\\iid-tvt\\labels\\test.cache' images and labels... 10 found, 0 missing, 0 empty, 0 corrupted: 100%|##########| 10/10 [00:00<?, ?it/s]\n",
      "\u001b[34m\u001b[1mtest: \u001b[0mScanning '..\\data\\datasets\\iid-tvt\\labels\\test.cache' images and labels... 10 found, 0 missing, 0 empty, 0 corrupted: 100%|##########| 10/10 [00:00<?, ?it/s]\n",
      "\n",
      "               Class     Images     Labels          P          R     mAP@.5 mAP@.5:.95:   0%|          | 0/1 [00:00<?, ?it/s]\n",
      "               Class     Images     Labels          P          R     mAP@.5 mAP@.5:.95: 100%|##########| 1/1 [00:03<00:00,  3.04s/it]\n",
      "               Class     Images     Labels          P          R     mAP@.5 mAP@.5:.95: 100%|##########| 1/1 [00:03<00:00,  3.04s/it]\n"
     ]
    }
   ],
   "source": [
    "os.environ['KMP_DUPLICATE_LIB_OK']='True'\n",
    "!python ../src/val.py --weights runs/train/Expset1_iid_yolov5/weights/best.pt --data ../data/iid-tvt.yaml --task test --name Expset1_iid_yolov5_test"
   ]
  },
  {
   "cell_type": "code",
   "execution_count": null,
   "id": "9bbc2c2e-f4e2-4d9b-86d2-afb1a866bc4e",
   "metadata": {},
   "outputs": [],
   "source": []
  },
  {
   "cell_type": "markdown",
   "id": "db276a6f-4959-4898-893e-9defa8128161",
   "metadata": {},
   "source": [
    "## Analysis"
   ]
  },
  {
   "cell_type": "markdown",
   "id": "c9b14cdd-1de6-41f2-ae6a-bede589625e5",
   "metadata": {},
   "source": [
    "{ analysis goes here }"
   ]
  },
  {
   "cell_type": "markdown",
   "id": "c2bd9df0-d96d-4939-84a6-567a72a39ecb",
   "metadata": {},
   "source": [
    "# Experiment 4 (YoloV5 Agregation Preprocessing)\n",
    "\n",
    "### This section runs the experiments, prints results, and plots graphs for both dataset where ground truth labels are agregated into ground truth labels. This experiment also uses YoloV5 as the object detection algorithm"
   ]
  },
  {
   "cell_type": "markdown",
   "id": "0b377a7a-47fa-4bb5-a5e5-1e58aa0f2679",
   "metadata": {},
   "source": [
    "## 4.2  CSexp (Dataset 2)"
   ]
  },
  {
   "cell_type": "code",
   "execution_count": null,
   "id": "65118089-4e0a-4481-9a27-224038669ea3",
   "metadata": {},
   "outputs": [],
   "source": []
  },
  {
   "cell_type": "code",
   "execution_count": null,
   "id": "5ce1485f-a77a-4d54-adc1-f3fc5558cc82",
   "metadata": {},
   "outputs": [],
   "source": []
  },
  {
   "cell_type": "markdown",
   "id": "2c53a4e0-edf1-4d61-881c-0cfe4d711593",
   "metadata": {},
   "source": [
    "## Analysis"
   ]
  },
  {
   "cell_type": "markdown",
   "id": "af6ee798-6531-4ab1-935d-d7fd70de2e37",
   "metadata": {},
   "source": [
    "{ analysis goes here }"
   ]
  },
  {
   "cell_type": "markdown",
   "id": "bb6920cf-b0a9-44dd-bd23-d42ee0cbbbc9",
   "metadata": {},
   "source": []
  },
  {
   "cell_type": "markdown",
   "id": "ee0db88c-d29a-408b-bbef-f53be7847017",
   "metadata": {},
   "source": [
    "# Conclusion Experiment Set 1"
   ]
  },
  {
   "cell_type": "markdown",
   "id": "9820fa65-e57a-4a99-90c9-1a9850c3b9fe",
   "metadata": {},
   "source": []
  },
  {
   "cell_type": "markdown",
   "id": "5872aa92-309b-400f-b485-f2e4dc00b0e2",
   "metadata": {},
   "source": [
    "# EXPERIMENT SET 2 "
   ]
  },
  {
   "cell_type": "markdown",
   "id": "30e4daa5-6ef8-471d-88ca-38d1a1cf0126",
   "metadata": {},
   "source": [
    "# Experiment 1 (Crowd Yolo Model)\n",
    "\n",
    "### This section runs the experiments, prints results, and plots graphs for both dataset using the Crowd Yolo model."
   ]
  },
  {
   "cell_type": "code",
   "execution_count": 3,
   "id": "67dfc1fe-7a6d-4e2e-a2d5-16aa232270d7",
   "metadata": {},
   "outputs": [
    {
     "name": "stdout",
     "output_type": "stream",
     "text": [
      "Collecting torch\n",
      "  Downloading torch-1.10.2-cp39-none-macosx_10_9_x86_64.whl (147.2 MB)\n",
      "\u001b[K     |████████████████████████████████| 147.2 MB 8.6 MB/s eta 0:00:011\n",
      "\u001b[?25hRequirement already satisfied: typing-extensions in /Users/rb01243/opt/anaconda3/lib/python3.9/site-packages (from torch) (3.10.0.2)\n",
      "Installing collected packages: torch\n",
      "Successfully installed torch-1.10.2\n"
     ]
    }
   ],
   "source": [
    "!pip install torch"
   ]
  },
  {
   "cell_type": "code",
   "execution_count": 6,
   "id": "edf0420b-eb78-4676-a938-c6f089222d17",
   "metadata": {},
   "outputs": [
    {
     "name": "stdout",
     "output_type": "stream",
     "text": [
      "test 1\n",
      "sigma_prime_t tensor([[[0.4706, 0.4834, 0.0460],\n",
      "         [0.4048, 0.5019, 0.0933],\n",
      "         [0.4642, 0.4108, 0.1250],\n",
      "         [0.3223, 0.3013, 0.3765],\n",
      "         [0.3083, 0.3316, 0.3602],\n",
      "         [0.3762, 0.2927, 0.3310]],\n",
      "\n",
      "        [[0.4610, 0.4955, 0.0435],\n",
      "         [0.4010, 0.5068, 0.0923],\n",
      "         [0.4506, 0.4221, 0.1273],\n",
      "         [0.2726, 0.3324, 0.3950],\n",
      "         [0.2642, 0.3632, 0.3726],\n",
      "         [0.3262, 0.3200, 0.3539]],\n",
      "\n",
      "        [[0.4787, 0.4910, 0.0303],\n",
      "         [0.4112, 0.5235, 0.0653],\n",
      "         [0.4828, 0.4207, 0.0964],\n",
      "         [0.3016, 0.2929, 0.4055],\n",
      "         [0.2766, 0.3139, 0.4095],\n",
      "         [0.3575, 0.2606, 0.3819]]])\n",
      "class_prob tensor([[[0.9412, 0.9668, 0.0920],\n",
      "         [0.8096, 1.0038, 0.1866],\n",
      "         [0.9285, 0.8216, 0.2500],\n",
      "         [0.6445, 0.6025, 0.7529],\n",
      "         [0.6166, 0.6631, 0.7203],\n",
      "         [0.7525, 0.5855, 0.6620]],\n",
      "\n",
      "        [[0.9221, 0.9910, 0.0870],\n",
      "         [0.8019, 1.0135, 0.1845],\n",
      "         [0.9011, 0.8443, 0.2546],\n",
      "         [0.5453, 0.6647, 0.7900],\n",
      "         [0.5285, 0.7263, 0.7452],\n",
      "         [0.6523, 0.6399, 0.7077]],\n",
      "\n",
      "        [[0.9574, 0.9820, 0.0606],\n",
      "         [0.8224, 1.0470, 0.1306],\n",
      "         [0.9657, 0.8415, 0.1928],\n",
      "         [0.6031, 0.5859, 0.8110],\n",
      "         [0.5533, 0.6278, 0.8190],\n",
      "         [0.7150, 0.5211, 0.7639]]])\n",
      "test 2\n",
      "sigma_prime_t tensor([[[0.4933, 0.5067],\n",
      "         [0.4465, 0.5535],\n",
      "         [0.5305, 0.4695],\n",
      "         [0.5168, 0.4832],\n",
      "         [0.4818, 0.5182],\n",
      "         [0.5624, 0.4376]],\n",
      "\n",
      "        [[0.4820, 0.5180],\n",
      "         [0.4417, 0.5583],\n",
      "         [0.5163, 0.4837],\n",
      "         [0.4506, 0.5494],\n",
      "         [0.4212, 0.5788],\n",
      "         [0.5048, 0.4952]],\n",
      "\n",
      "        [[0.4937, 0.5063],\n",
      "         [0.4399, 0.5601],\n",
      "         [0.5344, 0.4656],\n",
      "         [0.5072, 0.4928],\n",
      "         [0.4685, 0.5315],\n",
      "         [0.5784, 0.4216]]])\n",
      "class_prob tensor([[[0.9866, 1.0134],\n",
      "         [0.8929, 1.1071],\n",
      "         [1.0611, 0.9389],\n",
      "         [1.0337, 0.9663],\n",
      "         [0.9636, 1.0364],\n",
      "         [1.1248, 0.8752]],\n",
      "\n",
      "        [[0.9640, 1.0360],\n",
      "         [0.8835, 1.1165],\n",
      "         [1.0326, 0.9674],\n",
      "         [0.9013, 1.0987],\n",
      "         [0.8423, 1.1577],\n",
      "         [1.0096, 0.9904]],\n",
      "\n",
      "        [[0.9873, 1.0127],\n",
      "         [0.8799, 1.1201],\n",
      "         [1.0687, 0.9313],\n",
      "         [1.0145, 0.9855],\n",
      "         [0.9370, 1.0630],\n",
      "         [1.1569, 0.8431]]])\n"
     ]
    },
    {
     "data": {
      "text/plain": [
       "(tensor([[[-0.0135,  0.0133,     nan],\n",
       "          [-0.1133,  0.1017,     nan],\n",
       "          [ 0.0593, -0.0630,     nan],\n",
       "          [ 0.0331, -0.0343,     nan],\n",
       "          [-0.0371,  0.0357,     nan],\n",
       "          [ 0.1176, -0.1333,     nan]],\n",
       " \n",
       "         [[-0.0367,  0.0354,     nan],\n",
       "          [-0.1239,  0.1102,     nan],\n",
       "          [ 0.0321, -0.0331,     nan],\n",
       "          [-0.1039,  0.0941,     nan],\n",
       "          [-0.1716,  0.1464,     nan],\n",
       "          [ 0.0096, -0.0097,     nan]],\n",
       " \n",
       "         [[-0.0127,  0.0126,     nan],\n",
       "          [-0.1280,  0.1135,     nan],\n",
       "          [ 0.0665, -0.0712,     nan],\n",
       "          [ 0.0144, -0.0146,     nan],\n",
       "          [-0.0651,  0.0611,     nan],\n",
       "          [ 0.1457, -0.1706,     nan]]]),\n",
       " tensor([[[0.0180, 0.0016],\n",
       "          [0.0197, 0.0016],\n",
       "          [0.0262, 0.0016],\n",
       "          [0.8797, 0.0016],\n",
       "          [0.8781, 0.0016],\n",
       "          [0.9203, 0.0016]],\n",
       " \n",
       "         [[0.0160, 0.0016],\n",
       "          [0.0171, 0.0016],\n",
       "          [0.0248, 0.0016],\n",
       "          [1.1031, 0.0016],\n",
       "          [1.0695, 0.0016],\n",
       "          [1.0539, 0.0016]],\n",
       " \n",
       "         [[0.0117, 0.0016],\n",
       "          [0.0134, 0.0016],\n",
       "          [0.0238, 0.0016],\n",
       "          [0.9375, 0.0016],\n",
       "          [0.9008, 0.0016],\n",
       "          [0.8867, 0.0016]]]),\n",
       " tensor([[2., 2., 2., 2., 2., 2.],\n",
       "         [2., 2., 2., 2., 2., 2.],\n",
       "         [2., 2., 2., 2., 2., 2.]]))"
      ]
     },
     "execution_count": 6,
     "metadata": {},
     "output_type": "execute_result"
    }
   ],
   "source": [
    "import torch\n",
    "# When YOLO predicts bounding boxes in a given epoch, this has to be fed to BCC,\n",
    "# which is only possible if the dimensions match. While YOLO gives a boundingbox-class tensor (x, y, w, h, c, c1, c2),\n",
    "# what BCC needs is a gridcell-class tensor, and that too in logits.\n",
    "def yolo2bcc_newer(y_yolo, imgsz, silent = True):\n",
    "    wh = y_yolo[:, ..., 2:4]/imgsz # width and height\n",
    "    conf = y_yolo[:, ..., 4] # first class C1\n",
    "\n",
    "    p = y_yolo[..., 4] # also first class C1?\n",
    "    sigma_t = y_yolo[..., 5:] # the rest of the classes C2, C3, ....\n",
    "    sigma_prime_t = sigma_t / sigma_t.sum(axis=2).unsqueeze(-1)\n",
    "    print('sigma_prime_t', sigma_prime_t)\n",
    "    class_prob = sigma_prime_t*p.unsqueeze(-1)\n",
    "    print('class_prob', class_prob)\n",
    "    bkgd_prob = 1-p\n",
    "    bcc_prob = torch.cat([class_prob, bkgd_prob.unsqueeze(-1)], -1)\n",
    "    if not silent:\n",
    "        mins = [round(x, 6) for x in list(bcc_prob.min(1).values.min(0).values.cpu().detach().numpy())]\n",
    "        maxs = [round(x, 6) for x in list(bcc_prob.max(1).values.max(0).values.cpu().detach().numpy())]\n",
    "        print('Minimum probs (c1, c2, bkgd):', mins)\n",
    "        print('Maximum probs (c1, c2, bkgd):', maxs)\n",
    "    bcc_logits = torch.log(bcc_prob)\n",
    "    return bcc_logits, wh, conf\n",
    "\n",
    "num = 640\n",
    "test1 = torch.tensor([[[1.17188e-02, 0.00000e+00, 1.15391e+01, 1.00000e+00, 2.00000e+00, 3.68896e-01, 3.78906e-01, 3.60718e-02],\n",
    "         [2.08435e-02, 4.57764e-04, 1.26094e+01,  1.00000e+00, 2.00000e+00, 2.35107e-01, 2.91504e-01, 5.41992e-02],\n",
    "         [3.08075e-02, 2.64931e-03, 1.67500e+01,  1.00000e+00, 2.00000e+00, 2.42798e-01, 2.14844e-01, 6.53687e-02],\n",
    "         [8.70117e-01, 9.86816e-01, 5.63000e+02,  1.00000e+00, 2.00000e+00, 2.64160e-01, 2.46948e-01, 3.08594e-01],\n",
    "         [9.15039e-01, 9.84375e-01, 5.62000e+02,  1.00000e+00, 2.00000e+00,  2.55371e-01, 2.74658e-01, 2.98340e-01],\n",
    "         [9.63867e-01, 9.84375e-01, 5.89000e+02,  1.00000e+00, 2.00000e+00,  2.76123e-01, 2.14844e-01, 2.42920e-01]],\n",
    "\n",
    "        [[1.31836e-02, 0.00000e+00, 1.02188e+01,  1.00000e+00, 2.00000e+00,  3.98682e-01, 4.28467e-01, 3.75977e-02],\n",
    "         [2.24609e-02, 1.03772e-04, 1.09219e+01,  1.00000e+00, 2.00000e+00,  2.56348e-01, 3.23975e-01, 5.89905e-02],\n",
    "         [3.23792e-02, 2.34413e-03, 1.58984e+01,  1.00000e+00, 2.00000e+00,  2.53418e-01, 2.37427e-01, 7.15942e-02],\n",
    "         [8.66211e-01, 9.85840e-01, 7.06000e+02,  1.00000e+00, 2.00000e+00,  2.30713e-01, 2.81250e-01, 3.34229e-01],\n",
    "         [9.08691e-01, 9.83398e-01, 6.84500e+02,  1.00000e+00, 2.00000e+00,  2.25952e-01, 3.10547e-01, 3.18604e-01],\n",
    "         [9.59961e-01, 9.84375e-01, 6.74500e+02,  1.00000e+00, 2.00000e+00,  2.37183e-01, 2.32666e-01, 2.57324e-01]],\n",
    "\n",
    "        [[1.16425e-02, 0.00000e+00, 7.46875e+00,  1.00000e+00, 2.00000e+00,  3.90381e-01, 4.00391e-01, 2.47040e-02],\n",
    "         [2.08740e-02, 2.07543e-04, 8.58594e+00,  1.00000e+00, 2.00000e+00,  2.41821e-01, 3.07861e-01, 3.83911e-02],\n",
    "         [3.06702e-02, 2.69127e-03, 1.52344e+01,  1.00000e+00, 2.00000e+00,  2.53418e-01, 2.20825e-01, 5.05981e-02],\n",
    "         [8.67188e-01, 9.83398e-01, 6.00000e+02,  1.00000e+00, 2.00000e+00,  2.56348e-01, 2.49023e-01, 3.44727e-01],\n",
    "         [9.08691e-01, 9.80469e-01, 5.76500e+02,  1.00000e+00, 2.00000e+00,  2.39502e-01, 2.71729e-01, 3.54492e-01],\n",
    "         [9.59961e-01, 9.81445e-01, 5.67500e+02,  1.00000e+00, 2.00000e+00,  2.64648e-01, 1.92871e-01, 2.82715e-01]]])\n",
    "\n",
    "test2 = torch.tensor([[[1.17188e-02, 0.00000e+00, 1.15391e+01, 1.00000e+00, 2.00000e+00, 3.68896e-01, 3.78906e-01],\n",
    "         [2.08435e-02, 4.57764e-04, 1.26094e+01,  1.00000e+00, 2.00000e+00, 2.35107e-01, 2.91504e-01],\n",
    "         [3.08075e-02, 2.64931e-03, 1.67500e+01,  1.00000e+00, 2.00000e+00, 2.42798e-01, 2.14844e-01],\n",
    "         [8.70117e-01, 9.86816e-01, 5.63000e+02,  1.00000e+00, 2.00000e+00, 2.64160e-01, 2.46948e-01],\n",
    "         [9.15039e-01, 9.84375e-01, 5.62000e+02,  1.00000e+00, 2.00000e+00,  2.55371e-01, 2.74658e-01],\n",
    "         [9.63867e-01, 9.84375e-01, 5.89000e+02,  1.00000e+00, 2.00000e+00,  2.76123e-01, 2.14844e-01]],\n",
    "\n",
    "        [[1.31836e-02, 0.00000e+00, 1.02188e+01,  1.00000e+00, 2.00000e+00,  3.98682e-01, 4.28467e-01],\n",
    "         [2.24609e-02, 1.03772e-04, 1.09219e+01,  1.00000e+00, 2.00000e+00,  2.56348e-01, 3.23975e-01],\n",
    "         [3.23792e-02, 2.34413e-03, 1.58984e+01,  1.00000e+00, 2.00000e+00,  2.53418e-01, 2.37427e-01],\n",
    "         [8.66211e-01, 9.85840e-01, 7.06000e+02,  1.00000e+00, 2.00000e+00,  2.30713e-01, 2.81250e-01],\n",
    "         [9.08691e-01, 9.83398e-01, 6.84500e+02,  1.00000e+00, 2.00000e+00,  2.25952e-01, 3.10547e-01],\n",
    "         [9.59961e-01, 9.84375e-01, 6.74500e+02,  1.00000e+00, 2.00000e+00,  2.37183e-01, 2.32666e-01]],\n",
    "\n",
    "        [[1.16425e-02, 0.00000e+00, 7.46875e+00,  1.00000e+00, 2.00000e+00,  3.90381e-01, 4.00391e-01],\n",
    "         [2.08740e-02, 2.07543e-04, 8.58594e+00,  1.00000e+00, 2.00000e+00,  2.41821e-01, 3.07861e-01],\n",
    "         [3.06702e-02, 2.69127e-03, 1.52344e+01,  1.00000e+00, 2.00000e+00,  2.53418e-01, 2.20825e-01],\n",
    "         [8.67188e-01, 9.83398e-01, 6.00000e+02,  1.00000e+00, 2.00000e+00,  2.56348e-01, 2.49023e-01],\n",
    "         [9.08691e-01, 9.80469e-01, 5.76500e+02,  1.00000e+00, 2.00000e+00,  2.39502e-01, 2.71729e-01],\n",
    "         [9.59961e-01, 9.81445e-01, 5.67500e+02,  1.00000e+00, 2.00000e+00,  2.64648e-01, 1.92871e-01]]])\n",
    "print('test 1')\n",
    "yolo2bcc_newer(test1, num)\n",
    "print('test 2')\n",
    "yolo2bcc_newer(test2, num)\n",
    "\n",
    "#print(yolo2bcc_newer(test1, num))\n",
    "#print(yolo2bcc_newer(test2, num))"
   ]
  },
  {
   "cell_type": "code",
   "execution_count": 1,
   "id": "da81d5d6-0d14-400f-9d9c-943ff730f6c2",
   "metadata": {},
   "outputs": [
    {
     "name": "stderr",
     "output_type": "stream",
     "text": [
      "YOLOv5  2022-1-18 torch 1.10.1+cu113 CUDA:0 (NVIDIA GeForce RTX 3090, 24575.5MB)\n",
      "\n",
      "\u001b[34m\u001b[1mhyperparameters: \u001b[0mlr0=0.01, lrf=0.2, momentum=0.937, weight_decay=0.0005, warmup_epochs=3.0, warmup_momentum=0.8, warmup_bias_lr=0.1, box=0.05, obj=1.0, cls=0.5, cls_pw=1.0, obj_pw=1.0, iou_t=0.2, anchor_t=4.0, fl_gamma=0, hsv_h=0.015, hsv_s=0.7, hsv_v=0.4, degrees=0.0, translate=0.1, scale=0.5, shear=0.0, perspective=0.0, flipud=0.0, fliplr=0.5, mosaic=1.0, mixup=0.0, copy_paste=0.0\n",
      "\u001b[34m\u001b[1mTensorBoard: \u001b[0mStart with 'tensorboard --logdir runs\\train', view at http://localhost:6006/\n"
     ]
    },
    {
     "name": "stdout",
     "output_type": "stream",
     "text": [
      "\u001b[34m\u001b[1mtrain: \u001b[0mbcc_epoch=0, confusion_matrix_diagonal_prior_hyp=0.1, convergence_threshold_hyp=1e-06, qtfilter_epoch=-1, qt_thres_mode=, qt_thres=0.0, hybrid_entropy_thres=0.0, hybrid_conf_thres=0.0, weights=yolov5s.pt, cfg=, data=../data/All_Volunteers_Crowdsourced.yaml, hyp=../data/hyps/hyp.scratch.yaml, epochs=10, batch_size=20, imgsz=640, rect=False, resume=False, nosave=False, noval=False, noautoanchor=False, evolve=None, bucket=, cache=None, image_weights=False, device=0, multi_scale=False, single_cls=False, adam=False, sync_bn=False, workers=8, project=runs/train, entity=None, name=LargeDS_cyolo, exist_ok=False, quad=False, linear_lr=False, label_smoothing=0.0, upload_dataset=False, bbox_interval=-1, save_period=-1, artifact_alias=latest, local_rank=-1, freeze=0, patience=1100\n",
      "\u001b[34m\u001b[1mgithub: \u001b[0mskipping check (not a git repository), for updates see https://github.com/ultralytics/yolov5\n",
      "device:  cuda:0\n"
     ]
    },
    {
     "name": "stderr",
     "output_type": "stream",
     "text": [
      "\u001b[34m\u001b[1mwandb\u001b[0m: Currently logged in as: \u001b[33mdddetection\u001b[0m (use `wandb login --relogin` to force relogin)\n"
     ]
    },
    {
     "data": {
      "text/html": [
       "\n",
       "                    Syncing run <strong><a href=\"https://wandb.ai/dddetection/YOLOv5/runs/26mlz6cj\" target=\"_blank\">LargeDS_cyolo</a></strong> to <a href=\"https://wandb.ai/dddetection/YOLOv5\" target=\"_blank\">Weights & Biases</a> (<a href=\"https://docs.wandb.com/integrations/jupyter.html\" target=\"_blank\">docs</a>).<br/>\n",
       "\n",
       "                "
      ],
      "text/plain": [
       "<IPython.core.display.HTML object>"
      ]
     },
     "metadata": {},
     "output_type": "display_data"
    },
    {
     "name": "stderr",
     "output_type": "stream",
     "text": [
      "Overriding model.yaml nc=80 with nc=3\n",
      "\n",
      "                 from  n    params  module                                  arguments                     \n",
      "  0                -1  1      3520  models.common.Conv                      [3, 32, 6, 2, 2]              \n",
      "  1                -1  1     18560  models.common.Conv                      [32, 64, 3, 2]                \n",
      "  2                -1  1     18816  models.common.C3                        [64, 64, 1]                   \n",
      "  3                -1  1     73984  models.common.Conv                      [64, 128, 3, 2]               \n",
      "  4                -1  2    115712  models.common.C3                        [128, 128, 2]                 \n",
      "  5                -1  1    295424  models.common.Conv                      [128, 256, 3, 2]              \n",
      "  6                -1  3    625152  models.common.C3                        [256, 256, 3]                 \n",
      "  7                -1  1   1180672  models.common.Conv                      [256, 512, 3, 2]              \n",
      "  8                -1  1   1182720  models.common.C3                        [512, 512, 1]                 \n",
      "  9                -1  1    656896  models.common.SPPF                      [512, 512, 5]                 \n",
      " 10                -1  1    131584  models.common.Conv                      [512, 256, 1, 1]              \n",
      " 11                -1  1         0  torch.nn.modules.upsampling.Upsample    [None, 2, 'nearest']          \n",
      " 12           [-1, 6]  1         0  models.common.Concat                    [1]                           \n",
      " 13                -1  1    361984  models.common.C3                        [512, 256, 1, False]          \n",
      " 14                -1  1     33024  models.common.Conv                      [256, 128, 1, 1]              \n",
      " 15                -1  1         0  torch.nn.modules.upsampling.Upsample    [None, 2, 'nearest']          \n",
      " 16           [-1, 4]  1         0  models.common.Concat                    [1]                           \n",
      " 17                -1  1     90880  models.common.C3                        [256, 128, 1, False]          \n",
      " 18                -1  1    147712  models.common.Conv                      [128, 128, 3, 2]              \n",
      " 19          [-1, 14]  1         0  models.common.Concat                    [1]                           \n",
      " 20                -1  1    296448  models.common.C3                        [256, 256, 1, False]          \n",
      " 21                -1  1    590336  models.common.Conv                      [256, 256, 3, 2]              \n",
      " 22          [-1, 10]  1         0  models.common.Concat                    [1]                           \n",
      " 23                -1  1   1182720  models.common.C3                        [512, 512, 1, False]          \n",
      " 24      [17, 20, 23]  1     21576  models.yolo.Detect                      [3, [[10, 13, 16, 30, 33, 23], [30, 61, 62, 45, 59, 119], [116, 90, 156, 198, 373, 326]], [128, 256, 512]]\n",
      "C:\\Users\\rb01243\\Anaconda3\\lib\\site-packages\\torch\\functional.py:445: UserWarning: torch.meshgrid: in an upcoming release, it will be required to pass the indexing argument. (Triggered internally at  ..\\aten\\src\\ATen\\native\\TensorShape.cpp:2157.)\n",
      "  return _VF.meshgrid(tensors, **kwargs)  # type: ignore[attr-defined]\n",
      "Model Summary: 270 layers, 7027720 parameters, 7027720 gradients, 15.9 GFLOPs\n",
      "\n",
      "Transferred 344/350 items from yolov5s.pt\n",
      "Scaled weight_decay = 0.00046875\n",
      "\u001b[34m\u001b[1moptimizer:\u001b[0m SGD with parameter groups 57 weight, 60 weight (no decay), 60 bias\n",
      "\u001b[34m\u001b[1mtrain: \u001b[0mScanning '..\\data\\datasets\\All_Volunteers_Crowdsourced\\labels\\train' images and labels...2102 found, 0 missing, 0 empty, 0 corrupted: 100%|██████████| 2102/2102 [00:04<00:00, 496.74it/s]\n",
      "\u001b[34m\u001b[1mtrain: \u001b[0mWARNING: Cache directory ..\\data\\datasets\\All_Volunteers_Crowdsourced\\labels is not writeable: [WinError 183] Cannot create a file when that file already exists: '..\\\\data\\\\datasets\\\\All_Volunteers_Crowdsourced\\\\labels\\\\train.cache.npy' -> '..\\\\data\\\\datasets\\\\All_Volunteers_Crowdsourced\\\\labels\\\\train.cache'\n",
      "\u001b[34m\u001b[1mval: \u001b[0mScanning '..\\data\\datasets\\All_Volunteers_IID\\labels\\val' images and labels...860 found, 0 missing, 0 empty, 2 corrupted: 100%|██████████| 860/860 [00:04<00:00, 206.66it/s]\n",
      "\u001b[34m\u001b[1mval: \u001b[0mWARNING: Ignoring corrupted image and/or label ..\\data\\datasets\\All_Volunteers_IID\\images\\val\\Unknown-X-20191113-153036-XKNMQ7OPXKU-3.1f089314ef9273e4647b.JPG: non-normalized or out of bounds coordinate labels\n",
      "\u001b[34m\u001b[1mval: \u001b[0mWARNING: Ignoring corrupted image and/or label ..\\data\\datasets\\All_Volunteers_IID\\images\\val\\Unknown-X-20191113-153036-XKNMQ7OPXKU-3.9c62fc6bf51ff6f1eafe.JPG: non-normalized or out of bounds coordinate labels\n",
      "\u001b[34m\u001b[1mval: \u001b[0mWARNING: Cache directory ..\\data\\datasets\\All_Volunteers_IID\\labels is not writeable: [WinError 183] Cannot create a file when that file already exists: '..\\\\data\\\\datasets\\\\All_Volunteers_IID\\\\labels\\\\val.cache.npy' -> '..\\\\data\\\\datasets\\\\All_Volunteers_IID\\\\labels\\\\val.cache'\n"
     ]
    },
    {
     "name": "stdout",
     "output_type": "stream",
     "text": [
      "Plotting labels... \n"
     ]
    },
    {
     "name": "stderr",
     "output_type": "stream",
     "text": [
      "Image sizes 640 train, 640 val\n",
      "Using 8 dataloader workers\n",
      "Logging results to \u001b[1mruns\\train\\LargeDS_cyolo9\u001b[0m\n",
      "Starting training for 10 epochs...\n",
      "\n",
      "     Epoch   gpu_mem       box       obj       cls    labels  img_size\n",
      "\n",
      "YOLO+BCC\n"
     ]
    },
    {
     "name": "stdout",
     "output_type": "stream",
     "text": [
      "\n",
      "\u001b[34m\u001b[1mautoanchor: \u001b[0mAnalyzing anchors... anchors/target = 5.23, Best Possible Recall (BPR) = 0.9988\n"
     ]
    },
    {
     "name": "stderr",
     "output_type": "stream",
     "text": [
      "  0%|          | 0/106 [00:00<?, ?it/s]"
     ]
    },
    {
     "name": "stdout",
     "output_type": "stream",
     "text": [
      "batch_pred_yolo:  tensor([[[1.31989e-02, 0.00000e+00, 1.02344e+01,  ..., 3.99902e-01, 4.27734e-01, 3.75366e-02],\n",
      "         [2.24609e-02, 1.03772e-04, 1.09766e+01,  ..., 2.57324e-01, 3.23975e-01, 5.89905e-02],\n",
      "         [3.23792e-02, 2.33841e-03, 1.59219e+01,  ..., 2.53174e-01, 2.37427e-01, 7.15942e-02],\n",
      "         ...,\n",
      "         [8.66211e-01, 9.85840e-01, 7.06000e+02,  ..., 2.30957e-01, 2.81250e-01, 3.33984e-01],\n",
      "         [9.08691e-01, 9.83398e-01, 6.84500e+02,  ..., 2.25708e-01, 3.10547e-01, 3.18604e-01],\n",
      "         [9.59961e-01, 9.84375e-01, 6.73500e+02,  ..., 2.37061e-01, 2.32788e-01, 2.57080e-01]],\n",
      "\n",
      "        [[1.16730e-02, 0.00000e+00, 1.23281e+01,  ..., 3.80615e-01, 3.36182e-01, 2.97546e-02],\n",
      "         [2.07062e-02, 0.00000e+00, 1.28359e+01,  ..., 2.57812e-01, 2.64648e-01, 4.48608e-02],\n",
      "         [3.04260e-02, 1.52016e-03, 1.71719e+01,  ..., 2.58301e-01, 1.97021e-01, 5.33142e-02],\n",
      "         ...,\n",
      "         [8.68164e-01, 9.84375e-01, 5.99500e+02,  ..., 2.69043e-01, 2.31079e-01, 3.54492e-01],\n",
      "         [9.11621e-01, 9.81445e-01, 5.90000e+02,  ..., 2.63184e-01, 2.58057e-01, 3.52051e-01],\n",
      "         [9.60938e-01, 9.82910e-01, 6.08500e+02,  ..., 2.75879e-01, 1.96777e-01, 2.56104e-01]],\n",
      "\n",
      "        [[1.35880e-02, 0.00000e+00, 1.15625e+01,  ..., 3.70605e-01, 4.02588e-01, 3.40881e-02],\n",
      "         [2.31171e-02, 0.00000e+00, 1.23906e+01,  ..., 2.38281e-01, 3.02979e-01, 5.22461e-02],\n",
      "         [3.31116e-02, 1.89781e-03, 1.62656e+01,  ..., 2.32666e-01, 2.21069e-01, 6.61011e-02],\n",
      "         ...,\n",
      "         [8.73535e-01, 9.85352e-01, 5.46000e+02,  ..., 2.50488e-01, 2.65381e-01, 3.56689e-01],\n",
      "         [9.14062e-01, 9.79492e-01, 5.17500e+02,  ..., 2.27295e-01, 3.00049e-01, 3.41797e-01],\n",
      "         [9.62402e-01, 9.82910e-01, 5.33000e+02,  ..., 2.42065e-01, 2.26807e-01, 2.65137e-01]],\n",
      "\n",
      "        ...,\n",
      "\n",
      "        [[1.36490e-02, 0.00000e+00, 1.53828e+01,  ..., 4.26758e-01, 4.32129e-01, 2.25830e-02],\n",
      "         [2.29187e-02, 0.00000e+00, 1.60938e+01,  ..., 2.91260e-01, 3.30322e-01, 3.33252e-02],\n",
      "         [3.33557e-02, 1.92833e-03, 1.90469e+01,  ..., 2.68555e-01, 2.45850e-01, 4.23279e-02],\n",
      "         ...,\n",
      "         [8.67188e-01, 9.85352e-01, 6.44500e+02,  ..., 2.51221e-01, 2.79785e-01, 3.14697e-01],\n",
      "         [9.11621e-01, 9.83398e-01, 6.38000e+02,  ..., 2.39868e-01, 3.03711e-01, 2.99805e-01],\n",
      "         [9.63379e-01, 9.83398e-01, 6.46500e+02,  ..., 2.58301e-01, 2.17041e-01, 2.42065e-01]],\n",
      "\n",
      "        [[1.27411e-02, 0.00000e+00, 1.07578e+01,  ..., 3.87939e-01, 4.03564e-01, 3.01514e-02],\n",
      "         [2.19269e-02, 0.00000e+00, 1.16016e+01,  ..., 2.51953e-01, 3.10791e-01, 4.55933e-02],\n",
      "         [3.19824e-02, 1.97792e-03, 1.59453e+01,  ..., 2.45117e-01, 2.37793e-01, 5.80139e-02],\n",
      "         ...,\n",
      "         [8.64746e-01, 9.85840e-01, 6.36000e+02,  ..., 2.66357e-01, 2.75635e-01, 3.22754e-01],\n",
      "         [9.07715e-01, 9.83398e-01, 6.39500e+02,  ..., 2.56348e-01, 3.04443e-01, 3.05908e-01],\n",
      "         [9.59961e-01, 9.84375e-01, 6.64500e+02,  ..., 2.64648e-01, 2.21802e-01, 2.50732e-01]],\n",
      "\n",
      "        [[1.24969e-02, 0.00000e+00, 1.07188e+01,  ..., 3.82812e-01, 3.72314e-01, 2.97546e-02],\n",
      "         [2.15912e-02, 0.00000e+00, 1.19219e+01,  ..., 2.47314e-01, 2.95410e-01, 4.55933e-02],\n",
      "         [3.14331e-02, 1.97792e-03, 1.66406e+01,  ..., 2.34253e-01, 2.16064e-01, 5.38025e-02],\n",
      "         ...,\n",
      "         [8.68164e-01, 9.84375e-01, 5.73500e+02,  ..., 2.48535e-01, 2.65137e-01, 3.62793e-01],\n",
      "         [9.10156e-01, 9.81445e-01, 5.46000e+02,  ..., 2.48291e-01, 2.98828e-01, 3.55469e-01],\n",
      "         [9.60938e-01, 9.82910e-01, 5.71000e+02,  ..., 2.66602e-01, 2.17041e-01, 2.84180e-01]]], device='cuda:0', dtype=torch.float16, grad_fn=<CopySlices>)\n",
      "batch_pred_yolo size:  torch.Size([20, 25200, 8])\n",
      "640\n",
      "batch_pred_bcc:  tensor([[[-8.27594e+00, -8.20866e+00, -1.06418e+01, -4.88401e-04],\n",
      "         [-8.22488e+00, -7.99455e+00, -9.69784e+00, -4.88401e-04],\n",
      "         [-7.78290e+00, -7.84712e+00, -9.04597e+00, -9.77040e-04],\n",
      "         ...,\n",
      "         [-4.88889e+00, -4.69188e+00, -4.52003e+00, -2.77245e-02],\n",
      "         [-4.81219e+00, -4.49309e+00, -4.46748e+00, -3.12448e-02],\n",
      "         [-4.60498e+00, -4.62316e+00, -4.52391e+00, -3.12448e-02]],\n",
      "\n",
      "        [[-8.73677e+00, -8.86091e+00, -1.12856e+01, -4.88401e-04],\n",
      "         [-8.62095e+00, -8.59478e+00, -1.03696e+01, -4.88401e-04],\n",
      "         [-8.15874e+00, -8.42955e+00, -9.73666e+00, -4.88401e-04],\n",
      "         ...,\n",
      "         [-4.96544e+00, -5.11755e+00, -4.68962e+00, -2.22176e-02],\n",
      "         [-4.86025e+00, -4.87992e+00, -4.56933e+00, -2.62197e-02],\n",
      "         [-4.61515e+00, -4.95304e+00, -4.68953e+00, -2.67210e-02]],\n",
      "\n",
      "        [[-8.47030e+00, -8.38752e+00, -1.08565e+01, -4.88401e-04],\n",
      "         [-8.36619e+00, -8.12598e+00, -9.88367e+00, -4.88401e-04],\n",
      "         [-7.92162e+00, -7.97274e+00, -9.18004e+00, -9.77040e-04],\n",
      "         ...,\n",
      "         [-5.05150e+00, -4.99374e+00, -4.69804e+00, -2.27170e-02],\n",
      "         [-4.90328e+00, -4.62558e+00, -4.49531e+00, -2.87291e-02],\n",
      "         [-4.65428e+00, -4.71939e+00, -4.56324e+00, -2.92317e-02]],\n",
      "\n",
      "        ...,\n",
      "\n",
      "        [[-8.22961e+00, -8.21710e+00, -1.11686e+01, -4.88401e-04],\n",
      "         [-8.10024e+00, -7.97439e+00, -1.02681e+01, -4.88401e-04],\n",
      "         [-7.67923e+00, -7.76757e+00, -9.52684e+00, -9.77040e-04],\n",
      "         ...,\n",
      "         [-4.81366e+00, -4.70597e+00, -4.58838e+00, -2.77245e-02],\n",
      "         [-4.75482e+00, -4.51883e+00, -4.53178e+00, -3.07411e-02],\n",
      "         [-4.51548e+00, -4.68952e+00, -4.58040e+00, -3.07411e-02]],\n",
      "\n",
      "        [[-8.57138e+00, -8.53189e+00, -1.11260e+01, -4.88401e-04],\n",
      "         [-8.47533e+00, -8.26546e+00, -1.01848e+01, -4.88401e-04],\n",
      "         [-7.85487e+00, -7.88521e+00, -9.29593e+00, -9.77040e-04],\n",
      "         ...,\n",
      "         [-4.57904e+00, -4.54480e+00, -4.38699e+00, -3.37669e-02],\n",
      "         [-4.60415e+00, -4.43220e+00, -4.42740e+00, -3.42720e-02],\n",
      "         [-4.48822e+00, -4.66484e+00, -4.54223e+00, -3.17487e-02]],\n",
      "\n",
      "        [[-8.53474e+00, -8.56255e+00, -1.10893e+01, -4.88401e-04],\n",
      "         [-8.46045e+00, -8.28275e+00, -1.01514e+01, -4.88401e-04],\n",
      "         [-7.84943e+00, -7.93026e+00, -9.32052e+00, -9.77040e-04],\n",
      "         ...,\n",
      "         [-4.89248e+00, -4.82782e+00, -4.51423e+00, -2.67210e-02],\n",
      "         [-4.78262e+00, -4.59735e+00, -4.42378e+00, -3.07411e-02],\n",
      "         [-4.53286e+00, -4.73853e+00, -4.46901e+00, -3.12448e-02]]], device='cuda:0', grad_fn=<LogBackward0>)\n",
      "batch_qtargets:  tensor([[[2.35094e-33, 2.51450e-33, 1.00000e+00, 9.23048e-30],\n",
      "         [9.62588e-34, 1.21186e-33, 1.00000e+00, 3.59118e-30],\n",
      "         [7.80337e-34, 7.31807e-34, 1.00000e+00, 1.87037e-30],\n",
      "         ...,\n",
      "         [1.52583e-34, 1.85799e-34, 1.00000e+00, 1.97094e-32],\n",
      "         [1.56316e-34, 2.15071e-34, 1.00000e+00, 1.86355e-32],\n",
      "         [2.03464e-34, 1.99796e-34, 1.00000e+00, 1.97166e-32]],\n",
      "\n",
      "        [[2.82282e-33, 2.49326e-33, 1.00000e+00, 1.75710e-29],\n",
      "         [1.26816e-33, 1.30180e-33, 1.00000e+00, 7.03076e-30],\n",
      "         [1.06907e-33, 8.15444e-34, 1.00000e+00, 3.73332e-30],\n",
      "         ...,\n",
      "         [1.67457e-34, 1.43829e-34, 1.00000e+00, 2.34813e-32],\n",
      "         [1.64951e-34, 1.61731e-34, 1.00000e+00, 2.07374e-32],\n",
      "         [2.37699e-34, 1.69544e-34, 1.00000e+00, 2.33741e-32]],\n",
      "\n",
      "        [[2.39921e-33, 2.60623e-33, 1.00000e+00, 1.14406e-29],\n",
      "         [1.00639e-33, 1.27967e-33, 1.00000e+00, 4.32466e-30],\n",
      "         [7.76678e-34, 7.37952e-34, 1.00000e+00, 2.13864e-30],\n",
      "         ...,\n",
      "         [1.54948e-34, 1.64168e-34, 1.00000e+00, 2.36684e-32],\n",
      "         [1.46728e-34, 1.93697e-34, 1.00000e+00, 1.92094e-32],\n",
      "         [2.01437e-34, 1.88748e-34, 1.00000e+00, 2.05484e-32]],\n",
      "\n",
      "        ...,\n",
      "\n",
      "        [[4.17008e-33, 4.22258e-33, 1.00000e+00, 1.56318e-29],\n",
      "         [1.92864e-33, 2.18731e-33, 1.00000e+00, 6.35215e-30],\n",
      "         [1.39996e-33, 1.28162e-33, 1.00000e+00, 3.02518e-30],\n",
      "         ...,\n",
      "         [1.76137e-34, 1.96171e-34, 1.00000e+00, 2.11039e-32],\n",
      "         [1.76535e-34, 2.23529e-34, 1.00000e+00, 1.98834e-32],\n",
      "         [2.35461e-34, 1.97843e-34, 1.00000e+00, 2.08746e-32]],\n",
      "\n",
      "        [[2.83924e-33, 2.95342e-33, 1.00000e+00, 1.49789e-29],\n",
      "         [1.21943e-33, 1.50423e-33, 1.00000e+00, 5.84438e-30],\n",
      "         [9.32346e-34, 9.04489e-34, 1.00000e+00, 2.40146e-30],\n",
      "         ...,\n",
      "         [1.82094e-34, 1.88438e-34, 1.00000e+00, 1.71510e-32],\n",
      "         [1.84906e-34, 2.19594e-34, 1.00000e+00, 1.78495e-32],\n",
      "         [2.32888e-34, 1.95180e-34, 1.00000e+00, 2.00712e-32]],\n",
      "\n",
      "        [[2.83906e-33, 2.76114e-33, 1.00000e+00, 1.44394e-29],\n",
      "         [1.19701e-33, 1.42975e-33, 1.00000e+00, 5.65213e-30],\n",
      "         [9.60769e-34, 8.86183e-34, 1.00000e+00, 2.46126e-30],\n",
      "         ...,\n",
      "         [1.51155e-34, 1.61248e-34, 1.00000e+00, 1.96146e-32],\n",
      "         [1.54127e-34, 1.85493e-34, 1.00000e+00, 1.78484e-32],\n",
      "         [2.07009e-34, 1.68523e-34, 1.00000e+00, 1.86639e-32]]], device='cuda:0')\n",
      "batch_qtargets_yolo:  tensor([[ 0.00000e+00,  2.00000e+00,  6.24847e-03,  6.24847e-03, -1.00000e+00, -1.00000e+00],\n",
      "        [ 0.00000e+00,  2.00000e+00,  1.87531e-02,  6.24847e-03, -1.00000e+00, -1.00000e+00],\n",
      "        [ 0.00000e+00,  2.00000e+00,  3.12500e-02,  6.24847e-03, -1.00000e+00, -1.00000e+00],\n",
      "        ...,\n",
      "        [ 1.90000e+01,  2.00000e+00,  8.75000e-01,  9.75098e-01, -1.00000e+00, -1.00000e+00],\n",
      "        [ 1.90000e+01,  2.00000e+00,  9.24805e-01,  9.75098e-01, -1.00000e+00, -1.00000e+00],\n",
      "        [ 1.90000e+01,  2.00000e+00,  9.75098e-01,  9.75098e-01, -1.00000e+00, -1.00000e+00]], device='cuda:0')\n",
      "batch_qtargets_yolo:  tensor([], device='cuda:0', size=(0, 6))\n"
     ]
    },
    {
     "name": "stderr",
     "output_type": "stream",
     "text": [
      "  0%|          | 0/106 [00:24<?, ?it/s]\n"
     ]
    },
    {
     "ename": "KeyboardInterrupt",
     "evalue": "",
     "output_type": "error",
     "traceback": [
      "\u001b[1;31m---------------------------------------------------------------------------\u001b[0m",
      "\u001b[1;31mKeyboardInterrupt\u001b[0m                         Traceback (most recent call last)",
      "\u001b[1;32m~\\OneDrive - University of Surrey\\Documents\\GitHub\\dental_disease\\src\\train.py\u001b[0m in \u001b[0;36m<module>\u001b[1;34m\u001b[0m\n\u001b[0;32m    738\u001b[0m \u001b[1;32mif\u001b[0m \u001b[0m__name__\u001b[0m \u001b[1;33m==\u001b[0m \u001b[1;34m\"__main__\"\u001b[0m\u001b[1;33m:\u001b[0m\u001b[1;33m\u001b[0m\u001b[1;33m\u001b[0m\u001b[0m\n\u001b[0;32m    739\u001b[0m     \u001b[0mopt\u001b[0m \u001b[1;33m=\u001b[0m \u001b[0mparse_opt\u001b[0m\u001b[1;33m(\u001b[0m\u001b[1;33m)\u001b[0m\u001b[1;33m\u001b[0m\u001b[1;33m\u001b[0m\u001b[0m\n\u001b[1;32m--> 740\u001b[1;33m     \u001b[0mmain\u001b[0m\u001b[1;33m(\u001b[0m\u001b[0mopt\u001b[0m\u001b[1;33m)\u001b[0m\u001b[1;33m\u001b[0m\u001b[1;33m\u001b[0m\u001b[0m\n\u001b[0m\u001b[0;32m    741\u001b[0m \u001b[1;31m#torch.cuda.empty_cache()\u001b[0m\u001b[1;33m\u001b[0m\u001b[1;33m\u001b[0m\u001b[0m\n\u001b[0;32m    742\u001b[0m \u001b[1;33m\u001b[0m\u001b[0m\n",
      "\u001b[1;32m~\\OneDrive - University of Surrey\\Documents\\GitHub\\dental_disease\\src\\train.py\u001b[0m in \u001b[0;36mmain\u001b[1;34m(opt)\u001b[0m\n\u001b[0;32m    636\u001b[0m     \u001b[1;31m# Train\u001b[0m\u001b[1;33m\u001b[0m\u001b[1;33m\u001b[0m\u001b[0m\n\u001b[0;32m    637\u001b[0m     \u001b[1;32mif\u001b[0m \u001b[1;32mnot\u001b[0m \u001b[0mopt\u001b[0m\u001b[1;33m.\u001b[0m\u001b[0mevolve\u001b[0m\u001b[1;33m:\u001b[0m\u001b[1;33m\u001b[0m\u001b[1;33m\u001b[0m\u001b[0m\n\u001b[1;32m--> 638\u001b[1;33m         \u001b[0mtrain\u001b[0m\u001b[1;33m(\u001b[0m\u001b[0mopt\u001b[0m\u001b[1;33m.\u001b[0m\u001b[0mhyp\u001b[0m\u001b[1;33m,\u001b[0m \u001b[0mopt\u001b[0m\u001b[1;33m,\u001b[0m \u001b[0mdevice\u001b[0m\u001b[1;33m)\u001b[0m\u001b[1;33m\u001b[0m\u001b[1;33m\u001b[0m\u001b[0m\n\u001b[0m\u001b[0;32m    639\u001b[0m         \u001b[1;32mif\u001b[0m \u001b[0mWORLD_SIZE\u001b[0m \u001b[1;33m>\u001b[0m \u001b[1;36m1\u001b[0m \u001b[1;32mand\u001b[0m \u001b[0mRANK\u001b[0m \u001b[1;33m==\u001b[0m \u001b[1;36m0\u001b[0m\u001b[1;33m:\u001b[0m\u001b[1;33m\u001b[0m\u001b[1;33m\u001b[0m\u001b[0m\n\u001b[0;32m    640\u001b[0m             \u001b[0m_\u001b[0m \u001b[1;33m=\u001b[0m \u001b[1;33m[\u001b[0m\u001b[0mprint\u001b[0m\u001b[1;33m(\u001b[0m\u001b[1;34m'Destroying process group... '\u001b[0m\u001b[1;33m,\u001b[0m \u001b[0mend\u001b[0m\u001b[1;33m=\u001b[0m\u001b[1;34m''\u001b[0m\u001b[1;33m)\u001b[0m\u001b[1;33m,\u001b[0m \u001b[0mdist\u001b[0m\u001b[1;33m.\u001b[0m\u001b[0mdestroy_process_group\u001b[0m\u001b[1;33m(\u001b[0m\u001b[1;33m)\u001b[0m\u001b[1;33m,\u001b[0m \u001b[0mprint\u001b[0m\u001b[1;33m(\u001b[0m\u001b[1;34m'Done.'\u001b[0m\u001b[1;33m)\u001b[0m\u001b[1;33m]\u001b[0m\u001b[1;33m\u001b[0m\u001b[1;33m\u001b[0m\u001b[0m\n",
      "\u001b[1;32m~\\OneDrive - University of Surrey\\Documents\\GitHub\\dental_disease\\src\\train.py\u001b[0m in \u001b[0;36mtrain\u001b[1;34m(hyp, opt, device, callbacks)\u001b[0m\n\u001b[0;32m    412\u001b[0m             \u001b[1;31m# Optimize\u001b[0m\u001b[1;33m\u001b[0m\u001b[1;33m\u001b[0m\u001b[0m\n\u001b[0;32m    413\u001b[0m             \u001b[1;32mif\u001b[0m \u001b[0mni\u001b[0m \u001b[1;33m-\u001b[0m \u001b[0mlast_opt_step\u001b[0m \u001b[1;33m>=\u001b[0m \u001b[0maccumulate\u001b[0m\u001b[1;33m:\u001b[0m\u001b[1;33m\u001b[0m\u001b[1;33m\u001b[0m\u001b[0m\n\u001b[1;32m--> 414\u001b[1;33m                 \u001b[0mscaler\u001b[0m\u001b[1;33m.\u001b[0m\u001b[0mstep\u001b[0m\u001b[1;33m(\u001b[0m\u001b[0moptimizer\u001b[0m\u001b[1;33m)\u001b[0m  \u001b[1;31m# optimizer.step\u001b[0m\u001b[1;33m\u001b[0m\u001b[1;33m\u001b[0m\u001b[0m\n\u001b[0m\u001b[0;32m    415\u001b[0m                 \u001b[0mscaler\u001b[0m\u001b[1;33m.\u001b[0m\u001b[0mupdate\u001b[0m\u001b[1;33m(\u001b[0m\u001b[1;33m)\u001b[0m\u001b[1;33m\u001b[0m\u001b[1;33m\u001b[0m\u001b[0m\n\u001b[0;32m    416\u001b[0m                 \u001b[0moptimizer\u001b[0m\u001b[1;33m.\u001b[0m\u001b[0mzero_grad\u001b[0m\u001b[1;33m(\u001b[0m\u001b[1;33m)\u001b[0m\u001b[1;33m\u001b[0m\u001b[1;33m\u001b[0m\u001b[0m\n",
      "\u001b[1;32m~\\Anaconda3\\lib\\site-packages\\torch\\cuda\\amp\\grad_scaler.py\u001b[0m in \u001b[0;36mstep\u001b[1;34m(self, optimizer, *args, **kwargs)\u001b[0m\n\u001b[0;32m    336\u001b[0m         \u001b[1;32massert\u001b[0m \u001b[0mlen\u001b[0m\u001b[1;33m(\u001b[0m\u001b[0moptimizer_state\u001b[0m\u001b[1;33m[\u001b[0m\u001b[1;34m\"found_inf_per_device\"\u001b[0m\u001b[1;33m]\u001b[0m\u001b[1;33m)\u001b[0m \u001b[1;33m>\u001b[0m \u001b[1;36m0\u001b[0m\u001b[1;33m,\u001b[0m \u001b[1;34m\"No inf checks were recorded for this optimizer.\"\u001b[0m\u001b[1;33m\u001b[0m\u001b[1;33m\u001b[0m\u001b[0m\n\u001b[0;32m    337\u001b[0m \u001b[1;33m\u001b[0m\u001b[0m\n\u001b[1;32m--> 338\u001b[1;33m         \u001b[0mretval\u001b[0m \u001b[1;33m=\u001b[0m \u001b[0mself\u001b[0m\u001b[1;33m.\u001b[0m\u001b[0m_maybe_opt_step\u001b[0m\u001b[1;33m(\u001b[0m\u001b[0moptimizer\u001b[0m\u001b[1;33m,\u001b[0m \u001b[0moptimizer_state\u001b[0m\u001b[1;33m,\u001b[0m \u001b[1;33m*\u001b[0m\u001b[0margs\u001b[0m\u001b[1;33m,\u001b[0m \u001b[1;33m**\u001b[0m\u001b[0mkwargs\u001b[0m\u001b[1;33m)\u001b[0m\u001b[1;33m\u001b[0m\u001b[1;33m\u001b[0m\u001b[0m\n\u001b[0m\u001b[0;32m    339\u001b[0m \u001b[1;33m\u001b[0m\u001b[0m\n\u001b[0;32m    340\u001b[0m         \u001b[0moptimizer_state\u001b[0m\u001b[1;33m[\u001b[0m\u001b[1;34m\"stage\"\u001b[0m\u001b[1;33m]\u001b[0m \u001b[1;33m=\u001b[0m \u001b[0mOptState\u001b[0m\u001b[1;33m.\u001b[0m\u001b[0mSTEPPED\u001b[0m\u001b[1;33m\u001b[0m\u001b[1;33m\u001b[0m\u001b[0m\n",
      "\u001b[1;32m~\\Anaconda3\\lib\\site-packages\\torch\\cuda\\amp\\grad_scaler.py\u001b[0m in \u001b[0;36m_maybe_opt_step\u001b[1;34m(self, optimizer, optimizer_state, *args, **kwargs)\u001b[0m\n\u001b[0;32m    282\u001b[0m     \u001b[1;32mdef\u001b[0m \u001b[0m_maybe_opt_step\u001b[0m\u001b[1;33m(\u001b[0m\u001b[0mself\u001b[0m\u001b[1;33m,\u001b[0m \u001b[0moptimizer\u001b[0m\u001b[1;33m,\u001b[0m \u001b[0moptimizer_state\u001b[0m\u001b[1;33m,\u001b[0m \u001b[1;33m*\u001b[0m\u001b[0margs\u001b[0m\u001b[1;33m,\u001b[0m \u001b[1;33m**\u001b[0m\u001b[0mkwargs\u001b[0m\u001b[1;33m)\u001b[0m\u001b[1;33m:\u001b[0m\u001b[1;33m\u001b[0m\u001b[1;33m\u001b[0m\u001b[0m\n\u001b[0;32m    283\u001b[0m         \u001b[0mretval\u001b[0m \u001b[1;33m=\u001b[0m \u001b[1;32mNone\u001b[0m\u001b[1;33m\u001b[0m\u001b[1;33m\u001b[0m\u001b[0m\n\u001b[1;32m--> 284\u001b[1;33m         \u001b[1;32mif\u001b[0m \u001b[1;32mnot\u001b[0m \u001b[0msum\u001b[0m\u001b[1;33m(\u001b[0m\u001b[0mv\u001b[0m\u001b[1;33m.\u001b[0m\u001b[0mitem\u001b[0m\u001b[1;33m(\u001b[0m\u001b[1;33m)\u001b[0m \u001b[1;32mfor\u001b[0m \u001b[0mv\u001b[0m \u001b[1;32min\u001b[0m \u001b[0moptimizer_state\u001b[0m\u001b[1;33m[\u001b[0m\u001b[1;34m\"found_inf_per_device\"\u001b[0m\u001b[1;33m]\u001b[0m\u001b[1;33m.\u001b[0m\u001b[0mvalues\u001b[0m\u001b[1;33m(\u001b[0m\u001b[1;33m)\u001b[0m\u001b[1;33m)\u001b[0m\u001b[1;33m:\u001b[0m\u001b[1;33m\u001b[0m\u001b[1;33m\u001b[0m\u001b[0m\n\u001b[0m\u001b[0;32m    285\u001b[0m             \u001b[0mretval\u001b[0m \u001b[1;33m=\u001b[0m \u001b[0moptimizer\u001b[0m\u001b[1;33m.\u001b[0m\u001b[0mstep\u001b[0m\u001b[1;33m(\u001b[0m\u001b[1;33m*\u001b[0m\u001b[0margs\u001b[0m\u001b[1;33m,\u001b[0m \u001b[1;33m**\u001b[0m\u001b[0mkwargs\u001b[0m\u001b[1;33m)\u001b[0m\u001b[1;33m\u001b[0m\u001b[1;33m\u001b[0m\u001b[0m\n\u001b[0;32m    286\u001b[0m         \u001b[1;32mreturn\u001b[0m \u001b[0mretval\u001b[0m\u001b[1;33m\u001b[0m\u001b[1;33m\u001b[0m\u001b[0m\n",
      "\u001b[1;32m~\\Anaconda3\\lib\\site-packages\\torch\\cuda\\amp\\grad_scaler.py\u001b[0m in \u001b[0;36m<genexpr>\u001b[1;34m(.0)\u001b[0m\n\u001b[0;32m    282\u001b[0m     \u001b[1;32mdef\u001b[0m \u001b[0m_maybe_opt_step\u001b[0m\u001b[1;33m(\u001b[0m\u001b[0mself\u001b[0m\u001b[1;33m,\u001b[0m \u001b[0moptimizer\u001b[0m\u001b[1;33m,\u001b[0m \u001b[0moptimizer_state\u001b[0m\u001b[1;33m,\u001b[0m \u001b[1;33m*\u001b[0m\u001b[0margs\u001b[0m\u001b[1;33m,\u001b[0m \u001b[1;33m**\u001b[0m\u001b[0mkwargs\u001b[0m\u001b[1;33m)\u001b[0m\u001b[1;33m:\u001b[0m\u001b[1;33m\u001b[0m\u001b[1;33m\u001b[0m\u001b[0m\n\u001b[0;32m    283\u001b[0m         \u001b[0mretval\u001b[0m \u001b[1;33m=\u001b[0m \u001b[1;32mNone\u001b[0m\u001b[1;33m\u001b[0m\u001b[1;33m\u001b[0m\u001b[0m\n\u001b[1;32m--> 284\u001b[1;33m         \u001b[1;32mif\u001b[0m \u001b[1;32mnot\u001b[0m \u001b[0msum\u001b[0m\u001b[1;33m(\u001b[0m\u001b[0mv\u001b[0m\u001b[1;33m.\u001b[0m\u001b[0mitem\u001b[0m\u001b[1;33m(\u001b[0m\u001b[1;33m)\u001b[0m \u001b[1;32mfor\u001b[0m \u001b[0mv\u001b[0m \u001b[1;32min\u001b[0m \u001b[0moptimizer_state\u001b[0m\u001b[1;33m[\u001b[0m\u001b[1;34m\"found_inf_per_device\"\u001b[0m\u001b[1;33m]\u001b[0m\u001b[1;33m.\u001b[0m\u001b[0mvalues\u001b[0m\u001b[1;33m(\u001b[0m\u001b[1;33m)\u001b[0m\u001b[1;33m)\u001b[0m\u001b[1;33m:\u001b[0m\u001b[1;33m\u001b[0m\u001b[1;33m\u001b[0m\u001b[0m\n\u001b[0m\u001b[0;32m    285\u001b[0m             \u001b[0mretval\u001b[0m \u001b[1;33m=\u001b[0m \u001b[0moptimizer\u001b[0m\u001b[1;33m.\u001b[0m\u001b[0mstep\u001b[0m\u001b[1;33m(\u001b[0m\u001b[1;33m*\u001b[0m\u001b[0margs\u001b[0m\u001b[1;33m,\u001b[0m \u001b[1;33m**\u001b[0m\u001b[0mkwargs\u001b[0m\u001b[1;33m)\u001b[0m\u001b[1;33m\u001b[0m\u001b[1;33m\u001b[0m\u001b[0m\n\u001b[0;32m    286\u001b[0m         \u001b[1;32mreturn\u001b[0m \u001b[0mretval\u001b[0m\u001b[1;33m\u001b[0m\u001b[1;33m\u001b[0m\u001b[0m\n",
      "\u001b[1;31mKeyboardInterrupt\u001b[0m: "
     ]
    }
   ],
   "source": [
    "import os\n",
    "os.environ['KMP_DUPLICATE_LIB_OK']='True'\n",
    "%run -i ../src/train.py --data ../data/All_Volunteers_Crowdsourced.yaml --batch-size 20 --epochs 10 --bcc_epoch 0 --device 0 --name LargeDS_cyolo\n",
    "#--batch-size 100"
   ]
  },
  {
   "cell_type": "code",
   "execution_count": 1,
   "id": "72de09c0-6529-4395-8a63-7ec7fdc03c4e",
   "metadata": {},
   "outputs": [
    {
     "name": "stderr",
     "output_type": "stream",
     "text": [
      "YOLOv5  2022-1-18 torch 1.10.1+cu113 CUDA:0 (NVIDIA GeForce RTX 3090, 24575.5MB)\n",
      "\n",
      "\u001b[34m\u001b[1mhyperparameters: \u001b[0mlr0=0.01, lrf=0.2, momentum=0.937, weight_decay=0.0005, warmup_epochs=3.0, warmup_momentum=0.8, warmup_bias_lr=0.1, box=0.05, obj=1.0, cls=0.5, cls_pw=1.0, obj_pw=1.0, iou_t=0.2, anchor_t=4.0, fl_gamma=0, hsv_h=0.015, hsv_s=0.7, hsv_v=0.4, degrees=0.0, translate=0.1, scale=0.5, shear=0.0, perspective=0.0, flipud=0.0, fliplr=0.5, mosaic=1.0, mixup=0.0, copy_paste=0.0\n",
      "\u001b[34m\u001b[1mTensorBoard: \u001b[0mStart with 'tensorboard --logdir runs\\train', view at http://localhost:6006/\n"
     ]
    },
    {
     "name": "stdout",
     "output_type": "stream",
     "text": [
      "\u001b[34m\u001b[1mtrain: \u001b[0mbcc_epoch=0, confusion_matrix_diagonal_prior_hyp=0.1, convergence_threshold_hyp=1e-06, qtfilter_epoch=-1, qt_thres_mode=, qt_thres=0.0, hybrid_entropy_thres=0.0, hybrid_conf_thres=0.0, weights=yolov5s.pt, cfg=, data=../data/cyolo.yaml, hyp=../data/hyps/hyp.scratch.yaml, epochs=80, batch_size=20, imgsz=640, rect=False, resume=False, nosave=False, noval=False, noautoanchor=False, evolve=None, bucket=, cache=None, image_weights=False, device=0, multi_scale=False, single_cls=False, adam=False, sync_bn=False, workers=8, project=runs/train, entity=None, name=test, exist_ok=False, quad=False, linear_lr=False, label_smoothing=0.0, upload_dataset=False, bbox_interval=-1, save_period=-1, artifact_alias=latest, local_rank=-1, freeze=0, patience=1100\n",
      "\u001b[34m\u001b[1mgithub: \u001b[0mskipping check (not a git repository), for updates see https://github.com/ultralytics/yolov5\n",
      "device:  cuda:0\n"
     ]
    },
    {
     "name": "stderr",
     "output_type": "stream",
     "text": [
      "\u001b[34m\u001b[1mwandb\u001b[0m: Currently logged in as: \u001b[33mdddetection\u001b[0m (use `wandb login --relogin` to force relogin)\n"
     ]
    },
    {
     "data": {
      "text/html": [
       "\n",
       "                    Syncing run <strong><a href=\"https://wandb.ai/dddetection/YOLOv5/runs/29u5ibqj\" target=\"_blank\">test</a></strong> to <a href=\"https://wandb.ai/dddetection/YOLOv5\" target=\"_blank\">Weights & Biases</a> (<a href=\"https://docs.wandb.com/integrations/jupyter.html\" target=\"_blank\">docs</a>).<br/>\n",
       "\n",
       "                "
      ],
      "text/plain": [
       "<IPython.core.display.HTML object>"
      ]
     },
     "metadata": {},
     "output_type": "display_data"
    },
    {
     "name": "stderr",
     "output_type": "stream",
     "text": [
      "Overriding model.yaml nc=80 with nc=2\n",
      "\n",
      "                 from  n    params  module                                  arguments                     \n",
      "  0                -1  1      3520  models.common.Conv                      [3, 32, 6, 2, 2]              \n",
      "  1                -1  1     18560  models.common.Conv                      [32, 64, 3, 2]                \n",
      "  2                -1  1     18816  models.common.C3                        [64, 64, 1]                   \n",
      "  3                -1  1     73984  models.common.Conv                      [64, 128, 3, 2]               \n",
      "  4                -1  2    115712  models.common.C3                        [128, 128, 2]                 \n",
      "  5                -1  1    295424  models.common.Conv                      [128, 256, 3, 2]              \n",
      "  6                -1  3    625152  models.common.C3                        [256, 256, 3]                 \n",
      "  7                -1  1   1180672  models.common.Conv                      [256, 512, 3, 2]              \n",
      "  8                -1  1   1182720  models.common.C3                        [512, 512, 1]                 \n",
      "  9                -1  1    656896  models.common.SPPF                      [512, 512, 5]                 \n",
      " 10                -1  1    131584  models.common.Conv                      [512, 256, 1, 1]              \n",
      " 11                -1  1         0  torch.nn.modules.upsampling.Upsample    [None, 2, 'nearest']          \n",
      " 12           [-1, 6]  1         0  models.common.Concat                    [1]                           \n",
      " 13                -1  1    361984  models.common.C3                        [512, 256, 1, False]          \n",
      " 14                -1  1     33024  models.common.Conv                      [256, 128, 1, 1]              \n",
      " 15                -1  1         0  torch.nn.modules.upsampling.Upsample    [None, 2, 'nearest']          \n",
      " 16           [-1, 4]  1         0  models.common.Concat                    [1]                           \n",
      " 17                -1  1     90880  models.common.C3                        [256, 128, 1, False]          \n",
      " 18                -1  1    147712  models.common.Conv                      [128, 128, 3, 2]              \n",
      " 19          [-1, 14]  1         0  models.common.Concat                    [1]                           \n",
      " 20                -1  1    296448  models.common.C3                        [256, 256, 1, False]          \n",
      " 21                -1  1    590336  models.common.Conv                      [256, 256, 3, 2]              \n",
      " 22          [-1, 10]  1         0  models.common.Concat                    [1]                           \n",
      " 23                -1  1   1182720  models.common.C3                        [512, 512, 1, False]          \n",
      " 24      [17, 20, 23]  1     18879  models.yolo.Detect                      [2, [[10, 13, 16, 30, 33, 23], [30, 61, 62, 45, 59, 119], [116, 90, 156, 198, 373, 326]], [128, 256, 512]]\n",
      "C:\\Users\\rb01243\\Anaconda3\\lib\\site-packages\\torch\\functional.py:445: UserWarning: torch.meshgrid: in an upcoming release, it will be required to pass the indexing argument. (Triggered internally at  ..\\aten\\src\\ATen\\native\\TensorShape.cpp:2157.)\n",
      "  return _VF.meshgrid(tensors, **kwargs)  # type: ignore[attr-defined]\n",
      "Model Summary: 270 layers, 7025023 parameters, 7025023 gradients, 15.9 GFLOPs\n",
      "\n",
      "Transferred 344/350 items from yolov5s.pt\n",
      "Scaled weight_decay = 0.00046875\n",
      "\u001b[34m\u001b[1moptimizer:\u001b[0m SGD with parameter groups 57 weight, 60 weight (no decay), 60 bias\n",
      "\u001b[34m\u001b[1mtrain: \u001b[0mScanning '..\\data\\datasets\\bcc-tvt\\labels\\train.cache' images and labels... 70 found, 0 missing, 3 empty, 0 corrupted: 100%|██████████| 70/70 [00:00<?, ?it/s]\n",
      "\u001b[34m\u001b[1mval: \u001b[0mScanning '..\\data\\datasets\\iid-tvt\\labels\\val.cache' images and labels... 67 found, 13 missing, 0 empty, 0 corrupted: 100%|██████████| 80/80 [00:00<?, ?it/s]\n"
     ]
    },
    {
     "name": "stdout",
     "output_type": "stream",
     "text": [
      "Plotting labels... \n"
     ]
    },
    {
     "name": "stderr",
     "output_type": "stream",
     "text": [
      "Image sizes 640 train, 640 val\n",
      "Using 8 dataloader workers\n",
      "Logging results to \u001b[1mruns\\train\\test3\u001b[0m\n",
      "Starting training for 80 epochs...\n",
      "\n",
      "     Epoch   gpu_mem       box       obj       cls    labels  img_size\n",
      "\n",
      "YOLO+BCC\n"
     ]
    },
    {
     "name": "stdout",
     "output_type": "stream",
     "text": [
      "\n",
      "\u001b[34m\u001b[1mautoanchor: \u001b[0mAnalyzing anchors... anchors/target = 6.03, Best Possible Recall (BPR) = 1.0000\n"
     ]
    },
    {
     "name": "stderr",
     "output_type": "stream",
     "text": [
      "  0%|          | 0/4 [00:00<?, ?it/s]"
     ]
    },
    {
     "name": "stdout",
     "output_type": "stream",
     "text": [
      "batch_pred_yolo:  tensor([[[1.20010e-02, 0.00000e+00, 1.03125e+01,  ..., 3.54290e-04, 5.47852e-01, 5.02930e-01],\n",
      "         [2.12860e-02, 0.00000e+00, 1.11875e+01,  ..., 4.40836e-04, 3.92578e-01, 4.14795e-01],\n",
      "         [3.07617e-02, 2.41661e-03, 1.74844e+01,  ..., 6.71864e-04, 4.12354e-01, 3.12500e-01],\n",
      "         ...,\n",
      "         [8.68164e-01, 9.67285e-01, 4.88500e+02,  ..., 1.03683e-02, 3.98193e-01, 4.37988e-01],\n",
      "         [9.18945e-01, 9.68750e-01, 5.69000e+02,  ..., 9.26971e-03, 4.03564e-01, 4.40918e-01],\n",
      "         [9.63379e-01, 9.70215e-01, 5.15000e+02,  ..., 9.12476e-03, 4.11133e-01, 3.20801e-01]],\n",
      "\n",
      "        [[1.15356e-02, 0.00000e+00, 9.84375e+00,  ..., 4.10795e-04, 5.07324e-01, 5.14160e-01],\n",
      "         [2.05688e-02, 0.00000e+00, 1.08750e+01,  ..., 5.05447e-04, 3.54736e-01, 4.33105e-01],\n",
      "         [3.01056e-02, 2.10571e-03, 1.55781e+01,  ..., 7.04288e-04, 3.56201e-01, 3.30811e-01],\n",
      "         ...,\n",
      "         [8.64746e-01, 9.69727e-01, 4.70500e+02,  ..., 9.85718e-03, 3.93799e-01, 4.66309e-01],\n",
      "         [9.14062e-01, 9.70215e-01, 5.75500e+02,  ..., 9.33838e-03, 4.03320e-01, 4.76562e-01],\n",
      "         [9.61914e-01, 9.68750e-01, 5.23500e+02,  ..., 8.57544e-03, 4.27979e-01, 3.50830e-01]],\n",
      "\n",
      "        [[1.18179e-02, 0.00000e+00, 9.55469e+00,  ..., 4.97341e-04, 4.96338e-01, 5.73730e-01],\n",
      "         [2.09656e-02, 1.33038e-03, 1.07969e+01,  ..., 5.97477e-04, 3.28369e-01, 4.79248e-01],\n",
      "         [3.03955e-02, 3.90053e-03, 1.67656e+01,  ..., 1.00803e-03, 3.45947e-01, 3.69629e-01],\n",
      "         ...,\n",
      "         [8.64746e-01, 9.66309e-01, 4.43000e+02,  ..., 1.29700e-02, 3.75488e-01, 4.15771e-01],\n",
      "         [9.16504e-01, 9.63867e-01, 5.31000e+02,  ..., 1.05286e-02, 4.00635e-01, 3.97217e-01],\n",
      "         [9.61914e-01, 9.68750e-01, 5.10500e+02,  ..., 1.10321e-02, 4.13086e-01, 3.07861e-01]],\n",
      "\n",
      "        ...,\n",
      "\n",
      "        [[1.18790e-02, 0.00000e+00, 1.21328e+01,  ..., 4.72784e-04, 5.45410e-01, 5.75195e-01],\n",
      "         [2.11487e-02, 4.02927e-04, 1.27891e+01,  ..., 5.76973e-04, 3.94775e-01, 4.79736e-01],\n",
      "         [3.06854e-02, 2.53868e-03, 1.75938e+01,  ..., 8.45909e-04, 4.06006e-01, 3.69385e-01],\n",
      "         ...,\n",
      "         [8.70117e-01, 9.67773e-01, 3.97500e+02,  ..., 9.67407e-03, 3.80859e-01, 4.76318e-01],\n",
      "         [9.19434e-01, 9.67773e-01, 4.79500e+02,  ..., 8.71277e-03, 4.03076e-01, 4.41650e-01],\n",
      "         [9.65820e-01, 9.69727e-01, 4.97750e+02,  ..., 8.88062e-03, 4.18701e-01, 3.06641e-01]],\n",
      "\n",
      "        [[1.20621e-02, 0.00000e+00, 1.17500e+01,  ..., 5.46455e-04, 4.87061e-01, 6.14258e-01],\n",
      "         [2.13013e-02, 1.48296e-03, 1.32812e+01,  ..., 6.61373e-04, 3.23730e-01, 5.11230e-01],\n",
      "         [3.10822e-02, 3.50952e-03, 1.89375e+01,  ..., 9.07421e-04, 3.35449e-01, 3.73047e-01],\n",
      "         ...,\n",
      "         [8.70117e-01, 9.67285e-01, 4.48500e+02,  ..., 1.19629e-02, 4.17725e-01, 4.83154e-01],\n",
      "         [9.20410e-01, 9.66309e-01, 5.64500e+02,  ..., 9.37653e-03, 4.27002e-01, 4.47998e-01],\n",
      "         [9.66309e-01, 9.68750e-01, 5.41000e+02,  ..., 9.67407e-03, 4.31152e-01, 3.18359e-01]],\n",
      "\n",
      "        [[1.30768e-02, 0.00000e+00, 1.22188e+01,  ..., 3.24965e-04, 5.16113e-01, 5.65918e-01],\n",
      "         [2.25067e-02, 0.00000e+00, 1.28750e+01,  ..., 4.01258e-04, 3.77197e-01, 4.64600e-01],\n",
      "         [3.29590e-02, 1.87969e-03, 1.62656e+01,  ..., 5.88417e-04, 3.68652e-01, 3.88672e-01],\n",
      "         ...,\n",
      "         [8.68652e-01, 9.67285e-01, 4.25000e+02,  ..., 1.15509e-02, 4.04053e-01, 4.84863e-01],\n",
      "         [9.18945e-01, 9.64844e-01, 5.43500e+02,  ..., 9.59778e-03, 4.16260e-01, 4.42139e-01],\n",
      "         [9.63379e-01, 9.67773e-01, 5.27000e+02,  ..., 1.00937e-02, 4.30420e-01, 3.21533e-01]]], device='cuda:0', dtype=torch.float16, grad_fn=<CopySlices>)\n",
      "batch_pred_yolo size:  torch.Size([20, 25200, 7])\n",
      "640\n",
      "batch_pred_bcc:  tensor([[[-8.59668e+00, -8.68223e+00, -4.88401e-04],\n",
      "         [-8.44789e+00, -8.39284e+00, -4.88401e-04],\n",
      "         [-7.86954e+00, -8.14682e+00, -4.88401e-04],\n",
      "         ...,\n",
      "         [-5.31091e+00, -5.21565e+00, -1.03068e-02],\n",
      "         [-5.41939e+00, -5.33087e+00, -9.32065e-03],\n",
      "         [-5.27354e+00, -5.52163e+00, -9.32065e-03]],\n",
      "\n",
      "        [[-8.49728e+00, -8.48389e+00, -4.88401e-04],\n",
      "         [-8.38799e+00, -8.18838e+00, -4.88401e-04],\n",
      "         [-7.91518e+00, -7.98913e+00, -4.88401e-04],\n",
      "         ...,\n",
      "         [-5.40077e+00, -5.23177e+00, -9.81362e-03],\n",
      "         [-5.45368e+00, -5.28681e+00, -9.32065e-03],\n",
      "         [-5.35755e+00, -5.55632e+00, -8.82791e-03]],\n",
      "\n",
      "        [[-8.37446e+00, -8.22955e+00, -4.88401e-04],\n",
      "         [-8.32274e+00, -7.94466e+00, -4.88401e-04],\n",
      "         [-7.62656e+00, -7.56034e+00, -9.77040e-04],\n",
      "         ...,\n",
      "         [-5.09052e+00, -4.98861e+00, -1.32713e-02],\n",
      "         [-5.24254e+00, -5.25110e+00, -1.08003e-02],\n",
      "         [-5.06386e+00, -5.35786e+00, -1.12940e-02]],\n",
      "\n",
      "        ...,\n",
      "\n",
      "        [[-8.37696e+00, -8.32379e+00, -4.88401e-04],\n",
      "         [-8.25306e+00, -8.05814e+00, -4.88401e-04],\n",
      "         [-7.72210e+00, -7.81663e+00, -9.77040e-04],\n",
      "         ...,\n",
      "         [-5.44952e+00, -5.22586e+00, -9.81362e-03],\n",
      "         [-5.48285e+00, -5.39146e+00, -8.82791e-03],\n",
      "         [-5.27337e+00, -5.58485e+00, -8.82791e-03]],\n",
      "\n",
      "        [[-8.32793e+00, -8.09591e+00, -4.88401e-04],\n",
      "         [-8.26867e+00, -7.81176e+00, -4.88401e-04],\n",
      "         [-7.75258e+00, -7.64634e+00, -9.77040e-04],\n",
      "         ...,\n",
      "         [-5.19449e+00, -5.04898e+00, -1.17880e-02],\n",
      "         [-5.38698e+00, -5.33898e+00, -9.32065e-03],\n",
      "         [-5.19127e+00, -5.49455e+00, -9.81362e-03]],\n",
      "\n",
      "        [[-8.77206e+00, -8.67994e+00, -4.88401e-04],\n",
      "         [-8.62368e+00, -8.41527e+00, -4.88401e-04],\n",
      "         [-8.15801e+00, -8.10513e+00, -4.88401e-04],\n",
      "         ...,\n",
      "         [-5.24945e+00, -5.06713e+00, -1.17880e-02],\n",
      "         [-5.36998e+00, -5.30967e+00, -9.81362e-03],\n",
      "         [-5.15376e+00, -5.44542e+00, -1.03068e-02]]], device='cuda:0', grad_fn=<LogBackward0>)\n",
      "batch_qtargets:  tensor([[[1.00012e-04, 9.18109e-05, 9.99808e-01],\n",
      "         [1.16051e-04, 1.22619e-04, 9.99761e-01],\n",
      "         [2.06903e-04, 1.56800e-04, 9.99636e-01],\n",
      "         ...,\n",
      "         [2.68494e-03, 2.95327e-03, 9.94362e-01],\n",
      "         [2.40799e-03, 2.63087e-03, 9.94961e-01],\n",
      "         [2.78632e-03, 2.17413e-03, 9.95040e-01]],\n",
      "\n",
      "        [[1.10460e-04, 1.11949e-04, 9.99778e-01],\n",
      "         [1.23210e-04, 1.50430e-04, 9.99726e-01],\n",
      "         [1.97670e-04, 1.83579e-04, 9.99619e-01],\n",
      "         ...,\n",
      "         [2.45366e-03, 2.90545e-03, 9.94641e-01],\n",
      "         [2.32673e-03, 2.74926e-03, 9.94924e-01],\n",
      "         [2.56132e-03, 2.09961e-03, 9.95339e-01]],\n",
      "\n",
      "        [[1.24890e-04, 1.44363e-04, 9.99731e-01],\n",
      "         [1.31511e-04, 1.91937e-04, 9.99676e-01],\n",
      "         [2.63893e-04, 2.81957e-04, 9.99454e-01],\n",
      "         ...,\n",
      "         [3.35207e-03, 3.71169e-03, 9.92936e-01],\n",
      "         [2.87610e-03, 2.85156e-03, 9.94272e-01],\n",
      "         [3.43951e-03, 2.56337e-03, 9.93997e-01]],\n",
      "\n",
      "        ...,\n",
      "\n",
      "        [[1.24579e-04, 1.31383e-04, 9.99744e-01],\n",
      "         [1.41003e-04, 1.71348e-04, 9.99688e-01],\n",
      "         [2.39868e-04, 2.18232e-04, 9.99542e-01],\n",
      "         ...,\n",
      "         [2.33715e-03, 2.92293e-03, 9.94740e-01],\n",
      "         [2.25949e-03, 2.47573e-03, 9.95265e-01],\n",
      "         [2.78579e-03, 2.04021e-03, 9.95174e-01]],\n",
      "\n",
      "        [[1.30834e-04, 1.65001e-04, 9.99704e-01],\n",
      "         [1.38814e-04, 2.19212e-04, 9.99642e-01],\n",
      "         [2.32659e-04, 2.58736e-04, 9.99509e-01],\n",
      "         ...,\n",
      "         [3.01825e-03, 3.49100e-03, 9.93491e-01],\n",
      "         [2.48716e-03, 2.60946e-03, 9.94903e-01],\n",
      "         [3.02583e-03, 2.23425e-03, 9.94740e-01]],\n",
      "\n",
      "        [[8.39244e-05, 9.20231e-05, 9.99824e-01],\n",
      "         [9.73452e-05, 1.19902e-04, 9.99783e-01],\n",
      "         [1.55062e-04, 1.63483e-04, 9.99681e-01],\n",
      "         ...,\n",
      "         [2.85750e-03, 3.42899e-03, 9.93714e-01],\n",
      "         [2.53074e-03, 2.68808e-03, 9.94781e-01],\n",
      "         [3.14231e-03, 2.34737e-03, 9.94510e-01]]], device='cuda:0')\n",
      "batch_qtargets_yolo:  tensor([[ 0.00000e+00,  2.00000e+00,  6.24847e-03,  6.24847e-03, -1.00000e+00, -1.00000e+00],\n",
      "        [ 0.00000e+00,  2.00000e+00,  1.87531e-02,  6.24847e-03, -1.00000e+00, -1.00000e+00],\n",
      "        [ 0.00000e+00,  2.00000e+00,  3.12500e-02,  6.24847e-03, -1.00000e+00, -1.00000e+00],\n",
      "        ...,\n",
      "        [ 1.90000e+01,  2.00000e+00,  8.75000e-01,  9.75098e-01, -1.00000e+00, -1.00000e+00],\n",
      "        [ 1.90000e+01,  2.00000e+00,  9.24805e-01,  9.75098e-01, -1.00000e+00, -1.00000e+00],\n",
      "        [ 1.90000e+01,  2.00000e+00,  9.75098e-01,  9.75098e-01, -1.00000e+00, -1.00000e+00]], device='cuda:0')\n",
      "batch_qtargets_yolo:  tensor([], device='cuda:0', size=(0, 6))\n"
     ]
    },
    {
     "name": "stderr",
     "output_type": "stream",
     "text": [
      "      0/79     7.44G         0   0.02265         0       222       640:  25%|██▌       | 1/4 [00:04<00:12,  4.19s/it]"
     ]
    },
    {
     "name": "stdout",
     "output_type": "stream",
     "text": [
      "batch_pred_yolo:  tensor([[[1.23291e-02, 0.00000e+00, 1.47344e+01,  ..., 4.14133e-04, 5.96191e-01, 5.85938e-01],\n",
      "         [2.13928e-02, 5.49555e-05, 1.58984e+01,  ..., 5.19276e-04, 4.29688e-01, 4.98779e-01],\n",
      "         [3.20129e-02, 1.97792e-03, 1.98594e+01,  ..., 6.88076e-04, 3.90625e-01, 3.80859e-01],\n",
      "         ...,\n",
      "         [8.72559e-01, 9.70215e-01, 4.03500e+02,  ..., 1.00937e-02, 3.80371e-01, 4.82910e-01],\n",
      "         [9.19434e-01, 9.67285e-01, 4.63000e+02,  ..., 8.28552e-03, 3.93799e-01, 4.64844e-01],\n",
      "         [9.63379e-01, 9.68750e-01, 4.51750e+02,  ..., 9.01794e-03, 4.07715e-01, 3.32031e-01]],\n",
      "\n",
      "        [[1.30844e-02, 0.00000e+00, 7.98438e+00,  ..., 4.69208e-04, 4.99756e-01, 5.38086e-01],\n",
      "         [2.29950e-02, 0.00000e+00, 8.89844e+00,  ..., 5.90801e-04, 3.55957e-01, 4.46289e-01],\n",
      "         [3.25012e-02, 1.61743e-03, 1.20469e+01,  ..., 7.52449e-04, 3.47656e-01, 3.40820e-01],\n",
      "         ...,\n",
      "         [8.68164e-01, 9.70215e-01, 4.31250e+02,  ..., 8.54492e-03, 3.86963e-01, 4.65820e-01],\n",
      "         [9.18945e-01, 9.68750e-01, 5.08750e+02,  ..., 7.40433e-03, 3.94775e-01, 4.26025e-01],\n",
      "         [9.64844e-01, 9.69727e-01, 4.63000e+02,  ..., 7.03812e-03, 3.90869e-01, 3.20068e-01]],\n",
      "\n",
      "        [[1.25122e-02, 0.00000e+00, 1.21797e+01,  ..., 3.69787e-04, 6.10840e-01, 5.90332e-01],\n",
      "         [2.17590e-02, 5.49316e-04, 1.29844e+01,  ..., 4.56572e-04, 4.58496e-01, 4.82178e-01],\n",
      "         [3.20740e-02, 2.35558e-03, 1.61875e+01,  ..., 5.93185e-04, 4.24805e-01, 3.96973e-01],\n",
      "         ...,\n",
      "         [8.67188e-01, 9.67773e-01, 4.14250e+02,  ..., 1.08566e-02, 3.82568e-01, 4.90967e-01],\n",
      "         [9.15527e-01, 9.67285e-01, 5.07250e+02,  ..., 1.06506e-02, 4.04785e-01, 4.78516e-01],\n",
      "         [9.63867e-01, 9.67773e-01, 5.09750e+02,  ..., 9.30023e-03, 4.22363e-01, 3.55469e-01]],\n",
      "\n",
      "        ...,\n",
      "\n",
      "        [[1.14288e-02, 0.00000e+00, 9.96875e+00,  ..., 2.67267e-04, 5.95215e-01, 5.16602e-01],\n",
      "         [2.04620e-02, 0.00000e+00, 1.08359e+01,  ..., 3.39270e-04, 4.47266e-01, 4.27002e-01],\n",
      "         [3.08075e-02, 1.14155e-03, 1.45469e+01,  ..., 4.95434e-04, 4.10645e-01, 3.52539e-01],\n",
      "         ...,\n",
      "         [8.67188e-01, 9.67285e-01, 4.20250e+02,  ..., 1.12000e-02, 4.10889e-01, 4.59229e-01],\n",
      "         [9.15039e-01, 9.66309e-01, 4.92000e+02,  ..., 1.06506e-02, 4.22852e-01, 4.43115e-01],\n",
      "         [9.63379e-01, 9.67773e-01, 4.89500e+02,  ..., 1.00098e-02, 4.34814e-01, 3.37891e-01]],\n",
      "\n",
      "        [[1.15356e-02, 0.00000e+00, 1.11406e+01,  ..., 2.57254e-04, 6.10352e-01, 5.11719e-01],\n",
      "         [2.05536e-02, 1.09851e-04, 1.23906e+01,  ..., 3.32832e-04, 4.70947e-01, 4.23584e-01],\n",
      "         [3.07312e-02, 1.75762e-03, 1.59922e+01,  ..., 4.58241e-04, 4.19922e-01, 3.49365e-01],\n",
      "         ...,\n",
      "         [8.66211e-01, 9.67285e-01, 4.64000e+02,  ..., 1.13297e-02, 3.97705e-01, 4.76074e-01],\n",
      "         [9.16992e-01, 9.64844e-01, 5.61000e+02,  ..., 1.01700e-02, 4.12842e-01, 4.57764e-01],\n",
      "         [9.63379e-01, 9.67773e-01, 5.02000e+02,  ..., 1.00937e-02, 4.11377e-01, 3.55713e-01]],\n",
      "\n",
      "        [[1.22910e-02, 0.00000e+00, 8.70312e+00,  ..., 4.07696e-04, 5.77637e-01, 5.69336e-01],\n",
      "         [2.17896e-02, 0.00000e+00, 9.45312e+00,  ..., 5.15461e-04, 4.30420e-01, 4.78760e-01],\n",
      "         [3.15552e-02, 1.14155e-03, 1.39609e+01,  ..., 7.76291e-04, 4.02588e-01, 3.76709e-01],\n",
      "         ...,\n",
      "         [8.71094e-01, 9.67285e-01, 4.39750e+02,  ..., 8.51440e-03, 3.82324e-01, 4.78760e-01],\n",
      "         [9.21875e-01, 9.67285e-01, 5.41500e+02,  ..., 7.57599e-03, 3.92578e-01, 4.59961e-01],\n",
      "         [9.67285e-01, 9.67773e-01, 5.00250e+02,  ..., 7.01141e-03, 4.12354e-01, 3.36670e-01]]], device='cuda:0', dtype=torch.float16, grad_fn=<CopySlices>)\n",
      "batch_pred_yolo size:  torch.Size([20, 25200, 7])\n",
      "640\n",
      "batch_pred_bcc:  tensor([[[-8.47383e+00, -8.49118e+00, -4.88401e-04],\n",
      "         [-8.33355e+00, -8.18445e+00, -4.88401e-04],\n",
      "         [-7.96218e+00, -7.98750e+00, -4.88401e-04],\n",
      "         ...,\n",
      "         [-5.41544e+00, -5.17675e+00, -1.03068e-02],\n",
      "         [-5.57276e+00, -5.40690e+00, -8.33542e-03],\n",
      "         [-5.30428e+00, -5.50962e+00, -8.82791e-03]],\n",
      "\n",
      "        [[-8.39524e+00, -8.32135e+00, -4.88401e-04],\n",
      "         [-8.24664e+00, -8.02048e+00, -4.88401e-04],\n",
      "         [-7.87544e+00, -7.89530e+00, -9.77040e-04],\n",
      "         ...,\n",
      "         [-5.55259e+00, -5.36712e+00, -8.82791e-03],\n",
      "         [-5.63765e+00, -5.56147e+00, -7.35117e-03],\n",
      "         [-5.55463e+00, -5.75446e+00, -6.85941e-03]],\n",
      "\n",
      "        [[-8.57880e+00, -8.61295e+00, -4.88401e-04],\n",
      "         [-8.41041e+00, -8.36005e+00, -4.88401e-04],\n",
      "         [-8.08984e+00, -8.15761e+00, -4.88401e-04],\n",
      "         ...,\n",
      "         [-5.34862e+00, -5.09915e+00, -1.08003e-02],\n",
      "         [-5.32244e+00, -5.15511e+00, -1.08003e-02],\n",
      "         [-5.28836e+00, -5.46079e+00, -9.32065e-03]],\n",
      "\n",
      "        ...,\n",
      "\n",
      "        [[-8.85209e+00, -8.99374e+00, -4.88401e-04],\n",
      "         [-8.65895e+00, -8.70531e+00, -4.88401e-04],\n",
      "         [-8.22985e+00, -8.38241e+00, -4.88401e-04],\n",
      "         ...,\n",
      "         [-5.24215e+00, -5.13093e+00, -1.12940e-02],\n",
      "         [-5.25896e+00, -5.21215e+00, -1.08003e-02],\n",
      "         [-5.17917e+00, -5.43137e+00, -9.81362e-03]],\n",
      "\n",
      "        [[-8.87434e+00, -9.05060e+00, -4.88401e-04],\n",
      "         [-8.64943e+00, -8.75542e+00, -4.88401e-04],\n",
      "         [-8.29351e+00, -8.47746e+00, -4.88401e-04],\n",
      "         ...,\n",
      "         [-5.26745e+00, -5.08759e+00, -1.12940e-02],\n",
      "         [-5.33444e+00, -5.23115e+00, -1.03068e-02],\n",
      "         [-5.21894e+00, -5.36433e+00, -1.03068e-02]],\n",
      "\n",
      "        [[-8.49093e+00, -8.50540e+00, -4.88401e-04],\n",
      "         [-8.31823e+00, -8.21179e+00, -4.88401e-04],\n",
      "         [-7.82146e+00, -7.88790e+00, -9.77040e-04],\n",
      "         ...,\n",
      "         [-5.57792e+00, -5.35299e+00, -8.33542e-03],\n",
      "         [-5.65825e+00, -5.49985e+00, -7.84318e-03],\n",
      "         [-5.55711e+00, -5.75988e+00, -6.85941e-03]]], device='cuda:0', grad_fn=<LogBackward0>)\n",
      "batch_qtargets:  tensor([[[1.13080e-04, 1.11136e-04, 9.99776e-01],\n",
      "         [1.30102e-04, 1.51023e-04, 9.99719e-01],\n",
      "         [1.88595e-04, 1.83881e-04, 9.99627e-01],\n",
      "         ...,\n",
      "         [2.41881e-03, 3.07087e-03, 9.94510e-01],\n",
      "         [2.06469e-03, 2.43717e-03, 9.95498e-01],\n",
      "         [2.70080e-03, 2.19946e-03, 9.95100e-01]],\n",
      "\n",
      "        [[1.22322e-04, 1.31704e-04, 9.99746e-01],\n",
      "         [1.41911e-04, 1.77924e-04, 9.99680e-01],\n",
      "         [2.05777e-04, 2.01731e-04, 9.99592e-01],\n",
      "         ...,\n",
      "         [2.10747e-03, 2.53695e-03, 9.95356e-01],\n",
      "         [1.93398e-03, 2.08707e-03, 9.95979e-01],\n",
      "         [2.10080e-03, 1.72027e-03, 9.96179e-01]],\n",
      "\n",
      "        [[1.01815e-04, 9.83965e-05, 9.99800e-01],\n",
      "         [1.20482e-04, 1.26705e-04, 9.99753e-01],\n",
      "         [1.66001e-04, 1.55125e-04, 9.99679e-01],\n",
      "         ...,\n",
      "         [2.58615e-03, 3.31892e-03, 9.94095e-01],\n",
      "         [2.65503e-03, 3.13864e-03, 9.94206e-01],\n",
      "         [2.74506e-03, 2.31030e-03, 9.94945e-01]],\n",
      "\n",
      "        ...,\n",
      "\n",
      "        [[7.74724e-05, 6.72403e-05, 9.99855e-01],\n",
      "         [9.39746e-05, 8.97168e-05, 9.99816e-01],\n",
      "         [1.44321e-04, 1.23900e-04, 9.99732e-01],\n",
      "         ...,\n",
      "         [2.87756e-03, 3.21610e-03, 9.93906e-01],\n",
      "         [2.82905e-03, 2.96462e-03, 9.94206e-01],\n",
      "         [3.06209e-03, 2.37952e-03, 9.94558e-01]],\n",
      "\n",
      "        [[7.57678e-05, 6.35237e-05, 9.99861e-01],\n",
      "         [9.48741e-05, 8.53325e-05, 9.99820e-01],\n",
      "         [1.35422e-04, 1.12668e-04, 9.99752e-01],\n",
      "         ...,\n",
      "         [2.80548e-03, 3.35831e-03, 9.93836e-01],\n",
      "         [2.62278e-03, 2.90817e-03, 9.94469e-01],\n",
      "         [2.94402e-03, 2.54566e-03, 9.94510e-01]],\n",
      "\n",
      "        [[1.11164e-04, 1.09567e-04, 9.99779e-01],\n",
      "         [1.32111e-04, 1.46949e-04, 9.99721e-01],\n",
      "         [2.17188e-04, 2.03227e-04, 9.99579e-01],\n",
      "         ...,\n",
      "         [2.05380e-03, 2.57184e-03, 9.95374e-01],\n",
      "         [1.89530e-03, 2.22061e-03, 9.95884e-01],\n",
      "         [2.09563e-03, 1.71099e-03, 9.96193e-01]]], device='cuda:0')\n",
      "batch_qtargets_yolo:  tensor([[ 0.00000e+00,  2.00000e+00,  6.24847e-03,  6.24847e-03, -1.00000e+00, -1.00000e+00],\n",
      "        [ 0.00000e+00,  2.00000e+00,  1.87531e-02,  6.24847e-03, -1.00000e+00, -1.00000e+00],\n",
      "        [ 0.00000e+00,  2.00000e+00,  3.12500e-02,  6.24847e-03, -1.00000e+00, -1.00000e+00],\n",
      "        ...,\n",
      "        [ 1.90000e+01,  2.00000e+00,  8.75000e-01,  9.75098e-01, -1.00000e+00, -1.00000e+00],\n",
      "        [ 1.90000e+01,  2.00000e+00,  9.24805e-01,  9.75098e-01, -1.00000e+00, -1.00000e+00],\n",
      "        [ 1.90000e+01,  2.00000e+00,  9.75098e-01,  9.75098e-01, -1.00000e+00, -1.00000e+00]], device='cuda:0')\n",
      "batch_qtargets_yolo:  tensor([], device='cuda:0', size=(0, 6))\n"
     ]
    },
    {
     "name": "stderr",
     "output_type": "stream",
     "text": [
      "      0/79     9.96G         0   0.02255         0       336       640:  50%|█████     | 2/4 [00:04<00:04,  2.15s/it]"
     ]
    },
    {
     "name": "stdout",
     "output_type": "stream",
     "text": [
      "batch_pred_yolo:  tensor([[[1.16348e-02, 0.00000e+00, 9.50000e+00,  ..., 2.13146e-04, 6.41602e-01, 4.96094e-01],\n",
      "         [2.07367e-02, 3.41892e-04, 1.04531e+01,  ..., 2.82526e-04, 5.03906e-01, 3.95020e-01],\n",
      "         [3.10516e-02, 1.67274e-03, 1.43359e+01,  ..., 4.01258e-04, 4.52637e-01, 3.23486e-01],\n",
      "         ...,\n",
      "         [8.69629e-01, 9.65820e-01, 4.43000e+02,  ..., 1.05667e-02, 4.18213e-01, 4.82178e-01],\n",
      "         [9.20410e-01, 9.65820e-01, 5.44500e+02,  ..., 8.71277e-03, 4.36035e-01, 4.84619e-01],\n",
      "         [9.63867e-01, 9.67773e-01, 5.04500e+02,  ..., 9.19342e-03, 4.26514e-01, 3.50342e-01]],\n",
      "\n",
      "        [[1.11542e-02, 0.00000e+00, 9.41406e+00,  ..., 2.39730e-04, 5.39062e-01, 4.64600e-01],\n",
      "         [2.07672e-02, 0.00000e+00, 9.96094e+00,  ..., 3.12567e-04, 3.94043e-01, 4.00146e-01],\n",
      "         [3.07922e-02, 6.77586e-04, 1.35938e+01,  ..., 5.13077e-04, 3.88428e-01, 3.34961e-01],\n",
      "         ...,\n",
      "         [8.75977e-01, 9.65820e-01, 4.82750e+02,  ..., 8.06427e-03, 4.66797e-01, 4.86572e-01],\n",
      "         [9.24316e-01, 9.69727e-01, 5.92000e+02,  ..., 7.46155e-03, 4.86572e-01, 4.70947e-01],\n",
      "         [9.70215e-01, 9.68750e-01, 5.25000e+02,  ..., 7.37381e-03, 4.50684e-01, 3.35449e-01]],\n",
      "\n",
      "        [[1.14594e-02, 0.00000e+00, 1.11406e+01,  ..., 1.97172e-04, 5.73242e-01, 4.98535e-01],\n",
      "         [2.09961e-02, 0.00000e+00, 1.18984e+01,  ..., 2.61307e-04, 4.50195e-01, 4.22119e-01],\n",
      "         [3.15857e-02, 1.18446e-03, 1.62656e+01,  ..., 4.45843e-04, 4.22119e-01, 3.58887e-01],\n",
      "         ...,\n",
      "         [8.69629e-01, 9.66309e-01, 4.94500e+02,  ..., 8.94928e-03, 4.43848e-01, 4.61914e-01],\n",
      "         [9.20898e-01, 9.67285e-01, 6.03000e+02,  ..., 6.48880e-03, 4.47998e-01, 4.66797e-01],\n",
      "         [9.63379e-01, 9.69727e-01, 5.27000e+02,  ..., 7.43103e-03, 4.44824e-01, 3.46191e-01]],\n",
      "\n",
      "        ...,\n",
      "\n",
      "        [[1.22910e-02, 0.00000e+00, 1.38047e+01,  ..., 3.05414e-04, 6.21094e-01, 4.98047e-01],\n",
      "         [2.16675e-02, 3.05176e-05, 1.52578e+01,  ..., 3.93629e-04, 4.81934e-01, 4.01611e-01],\n",
      "         [3.26233e-02, 1.65367e-03, 1.91719e+01,  ..., 5.42164e-04, 4.19922e-01, 3.19580e-01],\n",
      "         ...,\n",
      "         [8.68164e-01, 9.67773e-01, 3.67250e+02,  ..., 8.64410e-03, 3.70850e-01, 4.59717e-01],\n",
      "         [9.18945e-01, 9.67285e-01, 5.08000e+02,  ..., 7.72476e-03, 4.12598e-01, 4.40918e-01],\n",
      "         [9.62402e-01, 9.70215e-01, 4.68750e+02,  ..., 8.78143e-03, 4.09180e-01, 3.21777e-01]],\n",
      "\n",
      "        [[1.01929e-02, 0.00000e+00, 9.63281e+00,  ..., 2.91348e-04, 6.91895e-01, 4.91211e-01],\n",
      "         [1.87836e-02, 1.60503e-03, 9.84375e+00,  ..., 3.54290e-04, 5.60059e-01, 3.68408e-01],\n",
      "         [2.96936e-02, 2.51389e-03, 1.28516e+01,  ..., 3.74079e-04, 5.07812e-01, 2.86865e-01],\n",
      "         ...,\n",
      "         [8.65723e-01, 9.67285e-01, 4.56750e+02,  ..., 8.78143e-03, 4.47510e-01, 4.18213e-01],\n",
      "         [9.15527e-01, 9.65820e-01, 5.64000e+02,  ..., 7.03812e-03, 4.51416e-01, 4.05029e-01],\n",
      "         [9.59961e-01, 9.69727e-01, 4.82750e+02,  ..., 8.81195e-03, 4.38721e-01, 3.11523e-01]],\n",
      "\n",
      "        [[1.27411e-02, 0.00000e+00, 1.20703e+01,  ..., 2.43425e-04, 5.99121e-01, 5.49316e-01],\n",
      "         [2.20795e-02, 3.84569e-04, 1.27891e+01,  ..., 3.17574e-04, 4.64600e-01, 4.43115e-01],\n",
      "         [3.23792e-02, 1.98364e-03, 1.59219e+01,  ..., 4.51326e-04, 4.17480e-01, 3.79150e-01],\n",
      "         ...,\n",
      "         [8.67188e-01, 9.63379e-01, 4.17250e+02,  ..., 1.21002e-02, 3.63525e-01, 4.88037e-01],\n",
      "         [9.16504e-01, 9.62402e-01, 5.12000e+02,  ..., 1.09863e-02, 3.86963e-01, 4.73145e-01],\n",
      "         [9.63379e-01, 9.66309e-01, 4.87000e+02,  ..., 1.10703e-02, 4.08447e-01, 3.76953e-01]]], device='cuda:0', dtype=torch.float16, grad_fn=<CopySlices>)\n",
      "batch_pred_yolo size:  torch.Size([20, 25200, 7])\n",
      "640\n",
      "batch_pred_bcc:  tensor([[[-9.02632e+00, -9.28353e+00,  0.00000e+00],\n",
      "         [-8.75055e+00, -8.99401e+00, -4.88401e-04],\n",
      "         [-8.36013e+00, -8.69606e+00, -4.88401e-04],\n",
      "         ...,\n",
      "         [-5.31688e+00, -5.17456e+00, -1.08003e-02],\n",
      "         [-5.49033e+00, -5.38469e+00, -8.82791e-03],\n",
      "         [-5.28888e+00, -5.48561e+00, -9.32065e-03]],\n",
      "\n",
      "        [[-8.95758e+00, -9.10623e+00,  0.00000e+00],\n",
      "         [-8.77155e+00, -8.75618e+00, -4.88401e-04],\n",
      "         [-8.19692e+00, -8.34502e+00, -4.88401e-04],\n",
      "         ...,\n",
      "         [-5.53442e+00, -5.49293e+00, -8.33542e-03],\n",
      "         [-5.57495e+00, -5.60759e+00, -7.35117e-03],\n",
      "         [-5.46618e+00, -5.76148e+00, -7.35117e-03]],\n",
      "\n",
      "        [[-9.15720e+00, -9.29683e+00,  0.00000e+00],\n",
      "         [-8.91128e+00, -8.97568e+00, -4.88401e-04],\n",
      "         [-8.33084e+00, -8.49312e+00, -4.88401e-04],\n",
      "         ...,\n",
      "         [-5.42948e+00, -5.38958e+00, -8.82791e-03],\n",
      "         [-5.75159e+00, -5.71048e+00, -6.36789e-03],\n",
      "         [-5.47773e+00, -5.72842e+00, -7.35117e-03]],\n",
      "\n",
      "        ...,\n",
      "\n",
      "        [[-8.68268e+00, -8.90346e+00, -4.88401e-04],\n",
      "         [-8.44624e+00, -8.62856e+00, -4.88401e-04],\n",
      "         [-8.08585e+00, -8.35891e+00, -4.88401e-04],\n",
      "         ...,\n",
      "         [-5.55719e+00, -5.34237e+00, -8.82791e-03],\n",
      "         [-5.59022e+00, -5.52383e+00, -7.84318e-03],\n",
      "         [-5.31532e+00, -5.55561e+00, -8.82791e-03]],\n",
      "\n",
      "        [[-8.67746e+00, -9.02002e+00, -4.88401e-04],\n",
      "         [-8.45089e+00, -8.86974e+00, -4.88401e-04],\n",
      "         [-8.33887e+00, -8.90997e+00, -4.88401e-04],\n",
      "         ...,\n",
      "         [-5.39498e+00, -5.46269e+00, -8.82791e-03],\n",
      "         [-5.59682e+00, -5.70525e+00, -6.85941e-03],\n",
      "         [-5.26818e+00, -5.61057e+00, -8.82791e-03]],\n",
      "\n",
      "        [[-8.97139e+00, -9.05818e+00,  0.00000e+00],\n",
      "         [-8.72456e+00, -8.77190e+00, -4.88401e-04],\n",
      "         [-8.34947e+00, -8.44578e+00, -4.88401e-04],\n",
      "         ...,\n",
      "         [-5.26576e+00, -4.97121e+00, -1.22821e-02],\n",
      "         [-5.30983e+00, -5.10876e+00, -1.08003e-02],\n",
      "         [-5.15732e+00, -5.23757e+00, -1.12940e-02]]], device='cuda:0', grad_fn=<LogBackward0>)\n",
      "batch_qtargets:  tensor([[[6.50547e-05, 5.03010e-05, 9.99885e-01],\n",
      "         [8.57514e-05, 6.72219e-05, 9.99847e-01],\n",
      "         [1.26699e-04, 9.05479e-05, 9.99783e-01],\n",
      "         ...,\n",
      "         [2.66996e-03, 3.07833e-03, 9.94252e-01],\n",
      "         [2.24267e-03, 2.49255e-03, 9.95265e-01],\n",
      "         [2.74381e-03, 2.25378e-03, 9.95002e-01]],\n",
      "\n",
      "        [[6.96834e-05, 6.00577e-05, 9.99870e-01],\n",
      "         [8.39677e-05, 8.52684e-05, 9.99831e-01],\n",
      "         [1.49150e-04, 1.28620e-04, 9.99722e-01],\n",
      "         ...,\n",
      "         [2.14564e-03, 2.23653e-03, 9.95618e-01],\n",
      "         [2.05906e-03, 1.99294e-03, 9.95948e-01],\n",
      "         [2.29577e-03, 1.70877e-03, 9.95995e-01]],\n",
      "\n",
      "        [[5.70748e-05, 4.96366e-05, 9.99893e-01],\n",
      "         [7.30197e-05, 6.84660e-05, 9.99858e-01],\n",
      "         [1.30461e-04, 1.10918e-04, 9.99759e-01],\n",
      "         ...,\n",
      "         [2.38307e-03, 2.48007e-03, 9.95137e-01],\n",
      "         [1.72489e-03, 1.79727e-03, 9.96478e-01],\n",
      "         [2.26934e-03, 1.76615e-03, 9.95964e-01]],\n",
      "\n",
      "        ...,\n",
      "\n",
      "        [[9.17727e-05, 7.35914e-05, 9.99835e-01],\n",
      "         [1.16246e-04, 9.68714e-05, 9.99787e-01],\n",
      "         [1.66669e-04, 1.26843e-04, 9.99706e-01],\n",
      "         ...,\n",
      "         [2.09770e-03, 2.60038e-03, 9.95302e-01],\n",
      "         [2.02858e-03, 2.16782e-03, 9.95804e-01],\n",
      "         [2.67150e-03, 2.10086e-03, 9.95228e-01]],\n",
      "\n",
      "        [[9.22536e-05, 6.54954e-05, 9.99842e-01],\n",
      "         [1.15709e-04, 7.61136e-05, 9.99808e-01],\n",
      "         [1.29423e-04, 7.31114e-05, 9.99798e-01],\n",
      "         ...,\n",
      "         [2.46693e-03, 2.30543e-03, 9.95228e-01],\n",
      "         [2.01401e-03, 1.80705e-03, 9.96179e-01],\n",
      "         [2.80039e-03, 1.98848e-03, 9.95211e-01]],\n",
      "\n",
      "        [[6.87271e-05, 6.30138e-05, 9.99868e-01],\n",
      "         [8.80081e-05, 8.39384e-05, 9.99828e-01],\n",
      "         [1.28052e-04, 1.16296e-04, 9.99756e-01],\n",
      "         ...,\n",
      "         [2.81182e-03, 3.77490e-03, 9.93413e-01],\n",
      "         [2.68824e-03, 3.28695e-03, 9.94025e-01],\n",
      "         [3.13253e-03, 2.89099e-03, 9.93976e-01]]], device='cuda:0')\n"
     ]
    },
    {
     "name": "stderr",
     "output_type": "stream",
     "text": [
      "      0/79     10.1G         0   0.02237         0       289       640:  75%|███████▌  | 3/4 [00:05<00:01,  1.46s/it]"
     ]
    },
    {
     "name": "stdout",
     "output_type": "stream",
     "text": [
      "batch_qtargets_yolo:  tensor([[ 0.00000e+00,  2.00000e+00,  6.24847e-03,  6.24847e-03, -1.00000e+00, -1.00000e+00],\n",
      "        [ 0.00000e+00,  2.00000e+00,  1.87531e-02,  6.24847e-03, -1.00000e+00, -1.00000e+00],\n",
      "        [ 0.00000e+00,  2.00000e+00,  3.12500e-02,  6.24847e-03, -1.00000e+00, -1.00000e+00],\n",
      "        ...,\n",
      "        [ 1.90000e+01,  2.00000e+00,  8.75000e-01,  9.75098e-01, -1.00000e+00, -1.00000e+00],\n",
      "        [ 1.90000e+01,  2.00000e+00,  9.24805e-01,  9.75098e-01, -1.00000e+00, -1.00000e+00],\n",
      "        [ 1.90000e+01,  2.00000e+00,  9.75098e-01,  9.75098e-01, -1.00000e+00, -1.00000e+00]], device='cuda:0')\n",
      "batch_qtargets_yolo:  tensor([], device='cuda:0', size=(0, 6))\n",
      "batch_pred_yolo:  tensor([[[1.02386e-02, 0.00000e+00, 1.10859e+01,  ..., 3.90530e-04, 6.24512e-01, 5.56152e-01],\n",
      "         [1.94092e-02, 9.21726e-04, 1.21328e+01,  ..., 4.85897e-04, 4.69482e-01, 4.47754e-01],\n",
      "         [3.04260e-02, 2.32506e-03, 1.53828e+01,  ..., 6.33717e-04, 4.36035e-01, 3.65723e-01],\n",
      "         ...,\n",
      "         [8.62305e-01, 9.67773e-01, 4.03500e+02,  ..., 1.00098e-02, 3.55469e-01, 4.39209e-01],\n",
      "         [9.11621e-01, 9.65820e-01, 4.91000e+02,  ..., 9.63593e-03, 3.84033e-01, 4.13086e-01],\n",
      "         [9.58496e-01, 9.70215e-01, 4.73000e+02,  ..., 1.04065e-02, 4.05273e-01, 3.22754e-01]],\n",
      "\n",
      "        [[1.11465e-02, 0.00000e+00, 1.03516e+01,  ..., 2.06590e-04, 6.29395e-01, 4.95605e-01],\n",
      "         [2.04163e-02, 5.86033e-04, 1.16641e+01,  ..., 2.69413e-04, 4.90234e-01, 4.13330e-01],\n",
      "         [3.06091e-02, 2.14195e-03, 1.59922e+01,  ..., 4.20570e-04, 4.36279e-01, 3.32031e-01],\n",
      "         ...,\n",
      "         [8.75000e-01, 9.67285e-01, 4.14250e+02,  ..., 8.12531e-03, 4.44336e-01, 4.82666e-01],\n",
      "         [9.24316e-01, 9.71191e-01, 5.03000e+02,  ..., 8.18634e-03, 4.50928e-01, 4.82178e-01],\n",
      "         [9.70215e-01, 9.71191e-01, 5.03750e+02,  ..., 7.87354e-03, 4.51904e-01, 3.61328e-01]],\n",
      "\n",
      "        [[1.16959e-02, 0.00000e+00, 1.31875e+01,  ..., 3.14951e-04, 5.90820e-01, 4.79736e-01],\n",
      "         [2.09351e-02, 1.58668e-04, 1.37812e+01,  ..., 3.91960e-04, 4.52881e-01, 3.88184e-01],\n",
      "         [3.21045e-02, 1.48296e-03, 1.65625e+01,  ..., 4.93526e-04, 4.22363e-01, 3.05908e-01],\n",
      "         ...,\n",
      "         [8.66211e-01, 9.66309e-01, 3.96000e+02,  ..., 9.55963e-03, 3.70361e-01, 4.28955e-01],\n",
      "         [9.14062e-01, 9.63867e-01, 4.73000e+02,  ..., 8.98743e-03, 3.80615e-01, 4.00635e-01],\n",
      "         [9.59473e-01, 9.67285e-01, 4.69500e+02,  ..., 9.78088e-03, 4.04053e-01, 3.05664e-01]],\n",
      "\n",
      "        ...,\n",
      "\n",
      "        [[1.13754e-02, 0.00000e+00, 1.04141e+01,  ..., 2.03371e-04, 6.04004e-01, 4.91455e-01],\n",
      "         [2.05688e-02, 2.44379e-05, 1.16016e+01,  ..., 2.65360e-04, 4.58252e-01, 4.15039e-01],\n",
      "         [3.05939e-02, 1.62983e-03, 1.56250e+01,  ..., 3.98159e-04, 4.13330e-01, 3.33252e-01],\n",
      "         ...,\n",
      "         [8.71094e-01, 9.66309e-01, 4.23500e+02,  ..., 7.60651e-03, 4.33105e-01, 4.69482e-01],\n",
      "         [9.18945e-01, 9.68750e-01, 5.46000e+02,  ..., 7.28989e-03, 4.46777e-01, 4.79248e-01],\n",
      "         [9.63867e-01, 9.68750e-01, 4.97750e+02,  ..., 7.31659e-03, 4.42383e-01, 3.35205e-01]],\n",
      "\n",
      "        [[1.20697e-02, 0.00000e+00, 9.99219e+00,  ..., 2.61307e-04, 6.09863e-01, 5.23926e-01],\n",
      "         [2.15454e-02, 0.00000e+00, 1.07734e+01,  ..., 3.41892e-04, 4.68262e-01, 4.40430e-01],\n",
      "         [3.17078e-02, 9.46045e-04, 1.51406e+01,  ..., 5.03540e-04, 4.27979e-01, 3.64014e-01],\n",
      "         ...,\n",
      "         [8.68652e-01, 9.70215e-01, 3.83250e+02,  ..., 7.60651e-03, 4.16016e-01, 4.50928e-01],\n",
      "         [9.20898e-01, 9.69727e-01, 5.03750e+02,  ..., 5.55420e-03, 4.10645e-01, 4.29688e-01],\n",
      "         [9.65820e-01, 9.69727e-01, 4.94500e+02,  ..., 6.53839e-03, 4.05518e-01, 2.77344e-01]],\n",
      "\n",
      "        [[1.17950e-02, 0.00000e+00, 1.05156e+01,  ..., 2.89202e-04, 5.76660e-01, 5.19043e-01],\n",
      "         [2.10266e-02, 4.88162e-05, 1.11641e+01,  ..., 3.71218e-04, 4.41162e-01, 4.12842e-01],\n",
      "         [3.13416e-02, 1.53828e-03, 1.41484e+01,  ..., 4.87804e-04, 3.97217e-01, 3.45947e-01],\n",
      "         ...,\n",
      "         [8.69629e-01, 9.67285e-01, 4.41500e+02,  ..., 7.28989e-03, 4.47510e-01, 4.22363e-01],\n",
      "         [9.18945e-01, 9.68750e-01, 5.20000e+02,  ..., 6.71768e-03, 4.53613e-01, 3.97705e-01],\n",
      "         [9.64844e-01, 9.69727e-01, 4.86000e+02,  ..., 7.90405e-03, 4.50684e-01, 2.92480e-01]]], device='cuda:0', dtype=torch.float16, grad_fn=<CopySlices>)\n",
      "batch_pred_yolo size:  torch.Size([10, 25200, 7])\n",
      "640\n",
      "batch_pred_bcc:  tensor([[[-8.48487e+00, -8.60080e+00, -4.88401e-04],\n",
      "         [-8.29925e+00, -8.34663e+00, -4.88401e-04],\n",
      "         [-7.97299e+00, -8.14884e+00, -4.88401e-04],\n",
      "         ...,\n",
      "         [-5.40869e+00, -5.19716e+00, -9.81362e-03],\n",
      "         [-5.37253e+00, -5.29961e+00, -9.81362e-03],\n",
      "         [-5.15110e+00, -5.37877e+00, -1.03068e-02]],\n",
      "\n",
      "        [[-9.06556e+00, -9.30453e+00,  0.00000e+00],\n",
      "         [-8.83073e+00, -9.00137e+00, -4.88401e-04],\n",
      "         [-8.33981e+00, -8.61286e+00, -4.88401e-04],\n",
      "         ...,\n",
      "         [-5.54815e+00, -5.46540e+00, -8.33542e-03],\n",
      "         [-5.53250e+00, -5.46549e+00, -8.33542e-03],\n",
      "         [-5.43179e+00, -5.65548e+00, -7.84318e-03]],\n",
      "\n",
      "        [[-8.65752e+00, -8.86579e+00, -4.88401e-04],\n",
      "         [-8.46339e+00, -8.61754e+00, -4.88401e-04],\n",
      "         [-8.15874e+00, -8.48132e+00, -4.88401e-04],\n",
      "         ...,\n",
      "         [-5.41948e+00, -5.27261e+00, -9.81362e-03],\n",
      "         [-5.43104e+00, -5.37977e+00, -8.82791e-03],\n",
      "         [-5.19065e+00, -5.46970e+00, -9.81362e-03]],\n",
      "\n",
      "        ...,\n",
      "\n",
      "        [[-9.09583e+00, -9.30204e+00,  0.00000e+00],\n",
      "         [-8.87927e+00, -8.97832e+00, -4.88401e-04],\n",
      "         [-8.41992e+00, -8.63527e+00, -4.88401e-04],\n",
      "         ...,\n",
      "         [-5.61304e+00, -5.53239e+00, -7.84318e-03],\n",
      "         [-5.65011e+00, -5.57995e+00, -7.35117e-03],\n",
      "         [-5.48163e+00, -5.75907e+00, -7.35117e-03]],\n",
      "\n",
      "        [[-8.86990e+00, -9.02179e+00, -4.88401e-04],\n",
      "         [-8.64399e+00, -8.70527e+00, -4.88401e-04],\n",
      "         [-8.20933e+00, -8.37121e+00, -4.88401e-04],\n",
      "         ...,\n",
      "         [-5.61300e+00, -5.53242e+00, -7.84318e-03],\n",
      "         [-5.90927e+00, -5.86394e+00, -5.38557e-03],\n",
      "         [-5.55119e+00, -5.93110e+00, -6.36789e-03]],\n",
      "\n",
      "        [[-8.79028e+00, -8.89555e+00, -4.88401e-04],\n",
      "         [-8.55925e+00, -8.62559e+00, -4.88401e-04],\n",
      "         [-8.25203e+00, -8.39023e+00, -4.88401e-04],\n",
      "         ...,\n",
      "         [-5.58592e+00, -5.64375e+00, -7.35117e-03],\n",
      "         [-5.63255e+00, -5.76409e+00, -6.85941e-03],\n",
      "         [-5.34053e+00, -5.77290e+00, -7.84318e-03]]], device='cuda:0', grad_fn=<LogBackward0>)\n",
      "batch_qtargets:  tensor([[[1.11841e-04, 9.95986e-05, 9.99789e-01],\n",
      "         [1.34646e-04, 1.28414e-04, 9.99737e-01],\n",
      "         [1.86572e-04, 1.56487e-04, 9.99657e-01],\n",
      "         ...,\n",
      "         [2.43410e-03, 3.00752e-03, 9.94558e-01],\n",
      "         [2.52424e-03, 2.71521e-03, 9.94761e-01],\n",
      "         [3.15013e-03, 2.50872e-03, 9.94341e-01]],\n",
      "\n",
      "        [[6.25522e-05, 4.92555e-05, 9.99888e-01],\n",
      "         [7.91451e-05, 6.67294e-05, 9.99854e-01],\n",
      "         [1.29298e-04, 9.84024e-05, 9.99772e-01],\n",
      "         ...,\n",
      "         [2.11631e-03, 2.29888e-03, 9.95585e-01],\n",
      "         [2.14962e-03, 2.29859e-03, 9.95552e-01],\n",
      "         [2.37661e-03, 1.90026e-03, 9.95723e-01]],\n",
      "\n",
      "        [[9.41105e-05, 7.64162e-05, 9.99829e-01],\n",
      "         [1.14269e-04, 9.79448e-05, 9.99788e-01],\n",
      "         [1.54957e-04, 1.12232e-04, 9.99733e-01],\n",
      "         ...,\n",
      "         [2.40856e-03, 2.78962e-03, 9.94802e-01],\n",
      "         [2.37931e-03, 2.50445e-03, 9.95116e-01],\n",
      "         [3.02753e-03, 2.29032e-03, 9.94682e-01]],\n",
      "\n",
      "        ...,\n",
      "\n",
      "        [[6.06871e-05, 4.93789e-05, 9.99890e-01],\n",
      "         [7.53948e-05, 6.82851e-05, 9.99856e-01],\n",
      "         [1.19346e-04, 9.62237e-05, 9.99785e-01],\n",
      "         ...,\n",
      "         [1.98294e-03, 2.14948e-03, 9.95868e-01],\n",
      "         [1.91016e-03, 2.04899e-03, 9.96041e-01],\n",
      "         [2.26065e-03, 1.71295e-03, 9.96026e-01]],\n",
      "\n",
      "        [[7.61050e-05, 6.53809e-05, 9.99858e-01],\n",
      "         [9.53904e-05, 8.97207e-05, 9.99815e-01],\n",
      "         [1.47313e-04, 1.25296e-04, 9.99727e-01],\n",
      "         ...,\n",
      "         [1.98300e-03, 2.14942e-03, 9.95868e-01],\n",
      "         [1.47257e-03, 1.54086e-03, 9.96987e-01],\n",
      "         [2.10756e-03, 1.44142e-03, 9.96451e-01]],\n",
      "\n",
      "        [[8.24107e-05, 7.41766e-05, 9.99843e-01],\n",
      "         [1.03825e-04, 9.71603e-05, 9.99799e-01],\n",
      "         [1.41155e-04, 1.22936e-04, 9.99736e-01],\n",
      "         ...,\n",
      "         [2.03680e-03, 1.92235e-03, 9.96041e-01],\n",
      "         [1.94364e-03, 1.70409e-03, 9.96352e-01],\n",
      "         [2.60367e-03, 1.68971e-03, 9.95707e-01]]], device='cuda:0')\n",
      "batch_qtargets_yolo:  tensor([[ 0.00000e+00,  2.00000e+00,  6.24847e-03,  6.24847e-03, -1.00000e+00, -1.00000e+00],\n",
      "        [ 0.00000e+00,  2.00000e+00,  1.87531e-02,  6.24847e-03, -1.00000e+00, -1.00000e+00],\n",
      "        [ 0.00000e+00,  2.00000e+00,  3.12500e-02,  6.24847e-03, -1.00000e+00, -1.00000e+00],\n",
      "        ...,\n",
      "        [ 9.00000e+00,  2.00000e+00,  8.75000e-01,  9.75098e-01, -1.00000e+00, -1.00000e+00],\n",
      "        [ 9.00000e+00,  2.00000e+00,  9.24805e-01,  9.75098e-01, -1.00000e+00, -1.00000e+00],\n",
      "        [ 9.00000e+00,  2.00000e+00,  9.75098e-01,  9.75098e-01, -1.00000e+00, -1.00000e+00]], device='cuda:0')\n",
      "batch_qtargets_yolo:  tensor([], device='cuda:0', size=(0, 6))\n"
     ]
    },
    {
     "name": "stderr",
     "output_type": "stream",
     "text": [
      "      0/79     6.65G         0   0.02219         0       114       640: 100%|██████████| 4/4 [00:06<00:00,  1.51s/it]\n",
      "               Class     Images     Labels          P          R     mAP@.5 mAP@.5:.95: 100%|██████████| 2/2 [00:01<00:00,  1.13it/s]\n"
     ]
    },
    {
     "name": "stdout",
     "output_type": "stream",
     "text": [
      "                 all         80        220    0.00159    0.00515   0.000343   8.24e-05\n"
     ]
    },
    {
     "name": "stderr",
     "output_type": "stream",
     "text": [
      "               Class     Images     Labels          P          R     mAP@.5 mAP@.5:.95: 100%|██████████| 4/4 [00:01<00:00,  2.66it/s]\n"
     ]
    },
    {
     "name": "stdout",
     "output_type": "stream",
     "text": [
      "                 all         70        961    0.00261      0.014    0.00118   0.000233\n"
     ]
    },
    {
     "name": "stderr",
     "output_type": "stream",
     "text": [
      "\n",
      "     Epoch   gpu_mem       box       obj       cls    labels  img_size\n",
      "\n",
      "YOLO+BCC\n",
      "  0%|          | 0/4 [00:00<?, ?it/s]"
     ]
    },
    {
     "name": "stdout",
     "output_type": "stream",
     "text": [
      "batch_pred_yolo:  tensor([[[1.08871e-02, 0.00000e+00, 1.05312e+01,  ..., 1.64747e-04, 5.84473e-01, 4.66553e-01],\n",
      "         [2.07520e-02, 0.00000e+00, 1.21797e+01,  ..., 2.28763e-04, 4.23828e-01, 4.01855e-01],\n",
      "         [3.07922e-02, 1.45245e-03, 1.82344e+01,  ..., 3.95060e-04, 4.32129e-01, 3.22266e-01],\n",
      "         ...,\n",
      "         [8.70117e-01, 9.67773e-01, 4.84500e+02,  ..., 8.57544e-03, 3.87939e-01, 4.21387e-01],\n",
      "         [9.20410e-01, 9.70215e-01, 5.64500e+02,  ..., 7.78580e-03, 4.06738e-01, 4.29443e-01],\n",
      "         [9.63867e-01, 9.71191e-01, 4.81250e+02,  ..., 7.90405e-03, 4.00879e-01, 3.12500e-01]],\n",
      "\n",
      "        [[1.00479e-02, 0.00000e+00, 9.50000e+00,  ..., 1.98722e-04, 5.69824e-01, 4.96826e-01],\n",
      "         [1.95618e-02, 0.00000e+00, 1.08359e+01,  ..., 2.63214e-04, 4.21143e-01, 4.44336e-01],\n",
      "         [2.92511e-02, 6.71387e-04, 1.52578e+01,  ..., 4.78506e-04, 3.88916e-01, 3.70117e-01],\n",
      "         ...,\n",
      "         [8.67188e-01, 9.70215e-01, 4.48500e+02,  ..., 8.09479e-03, 3.93799e-01, 4.41162e-01],\n",
      "         [9.15039e-01, 9.71680e-01, 5.64000e+02,  ..., 7.57599e-03, 4.27979e-01, 4.71924e-01],\n",
      "         [9.62402e-01, 9.68750e-01, 4.97000e+02,  ..., 7.20596e-03, 4.37744e-01, 3.46680e-01]],\n",
      "\n",
      "        [[1.16806e-02, 0.00000e+00, 1.26094e+01,  ..., 2.63214e-04, 5.27832e-01, 5.30273e-01],\n",
      "         [2.13470e-02, 0.00000e+00, 1.36641e+01,  ..., 3.36647e-04, 3.76465e-01, 4.59229e-01],\n",
      "         [3.16772e-02, 1.72138e-03, 1.77969e+01,  ..., 5.93185e-04, 3.43262e-01, 3.82324e-01],\n",
      "         ...,\n",
      "         [8.64746e-01, 9.64844e-01, 4.42250e+02,  ..., 1.07346e-02, 3.69629e-01, 3.96240e-01],\n",
      "         [9.15039e-01, 9.63379e-01, 5.15500e+02,  ..., 9.48334e-03, 3.83545e-01, 3.92822e-01],\n",
      "         [9.59961e-01, 9.68750e-01, 4.72000e+02,  ..., 1.00098e-02, 3.80127e-01, 3.20068e-01]],\n",
      "\n",
      "        ...,\n",
      "\n",
      "        [[1.05133e-02, 0.00000e+00, 1.13281e+01,  ..., 2.30551e-04, 6.07422e-01, 5.27344e-01],\n",
      "         [2.02637e-02, 0.00000e+00, 1.23906e+01,  ..., 3.00646e-04, 4.75586e-01, 4.55811e-01],\n",
      "         [2.97852e-02, 1.53828e-03, 1.59453e+01,  ..., 5.27382e-04, 4.43604e-01, 3.75244e-01],\n",
      "         ...,\n",
      "         [8.72559e-01, 9.67285e-01, 3.91500e+02,  ..., 7.40433e-03, 3.81104e-01, 4.46289e-01],\n",
      "         [9.20410e-01, 9.69727e-01, 4.56750e+02,  ..., 7.69424e-03, 4.04785e-01, 4.24072e-01],\n",
      "         [9.67285e-01, 9.70215e-01, 4.75250e+02,  ..., 8.15582e-03, 4.21143e-01, 3.05420e-01]],\n",
      "\n",
      "        [[1.13297e-02, 0.00000e+00, 1.29688e+01,  ..., 2.57254e-04, 5.61035e-01, 5.75195e-01],\n",
      "         [2.09656e-02, 3.66211e-04, 1.45469e+01,  ..., 3.32832e-04, 3.98438e-01, 4.97070e-01],\n",
      "         [3.07617e-02, 2.23351e-03, 1.82344e+01,  ..., 5.52654e-04, 3.68896e-01, 3.87695e-01],\n",
      "         ...,\n",
      "         [8.72070e-01, 9.66309e-01, 4.48500e+02,  ..., 9.37653e-03, 4.18701e-01, 4.83398e-01],\n",
      "         [9.21875e-01, 9.66309e-01, 5.88500e+02,  ..., 7.75528e-03, 4.42139e-01, 4.67041e-01],\n",
      "         [9.67285e-01, 9.67773e-01, 5.29500e+02,  ..., 8.47626e-03, 4.33838e-01, 3.36914e-01]],\n",
      "\n",
      "        [[1.22833e-02, 0.00000e+00, 1.21328e+01,  ..., 1.97172e-04, 6.42578e-01, 5.05371e-01],\n",
      "         [2.16522e-02, 0.00000e+00, 1.33203e+01,  ..., 2.61307e-04, 5.20508e-01, 4.22119e-01],\n",
      "         [3.18909e-02, 1.29414e-03, 1.70000e+01,  ..., 3.93629e-04, 4.47510e-01, 3.58643e-01],\n",
      "         ...,\n",
      "         [8.70117e-01, 9.66309e-01, 4.18750e+02,  ..., 8.91876e-03, 4.17725e-01, 4.76074e-01],\n",
      "         [9.20410e-01, 9.64844e-01, 5.46000e+02,  ..., 8.00323e-03, 4.28711e-01, 4.48975e-01],\n",
      "         [9.64844e-01, 9.67285e-01, 5.15000e+02,  ..., 8.91876e-03, 4.36523e-01, 3.29590e-01]]], device='cuda:0', dtype=torch.float16, grad_fn=<CopySlices>)\n",
      "batch_pred_yolo size:  torch.Size([20, 25200, 7])\n",
      "640\n",
      "batch_pred_bcc:  tensor([[[-9.29791e+00, -9.52325e+00,  0.00000e+00],\n",
      "         [-9.04971e+00, -9.10294e+00,  0.00000e+00],\n",
      "         [-8.39367e+00, -8.68701e+00, -4.88401e-04],\n",
      "         ...,\n",
      "         [-5.49421e+00, -5.41150e+00, -8.82791e-03],\n",
      "         [-5.57613e+00, -5.52181e+00, -7.84318e-03],\n",
      "         [-5.41673e+00, -5.66579e+00, -7.84318e-03]],\n",
      "\n",
      "        [[-9.15055e+00, -9.28764e+00,  0.00000e+00],\n",
      "         [-8.96285e+00, -8.90924e+00, -4.88401e-04],\n",
      "         [-8.31352e+00, -8.36307e+00, -4.88401e-04],\n",
      "         ...,\n",
      "         [-5.56808e+00, -5.45451e+00, -8.33542e-03],\n",
      "         [-5.62598e+00, -5.52824e+00, -7.84318e-03],\n",
      "         [-5.51616e+00, -5.74939e+00, -7.35117e-03]],\n",
      "\n",
      "        [[-8.93800e+00, -8.93338e+00, -4.88401e-04],\n",
      "         [-8.79391e+00, -8.59519e+00, -4.88401e-04],\n",
      "         [-8.17849e+00, -8.07071e+00, -4.88401e-04],\n",
      "         ...,\n",
      "         [-5.26280e+00, -5.19328e+00, -1.08003e-02],\n",
      "         [-5.36339e+00, -5.33949e+00, -9.32065e-03],\n",
      "         [-5.21505e+00, -5.38702e+00, -9.81362e-03]],\n",
      "\n",
      "        ...,\n",
      "\n",
      "        [[-9.00000e+00, -9.14137e+00,  0.00000e+00],\n",
      "         [-8.78172e+00, -8.82419e+00, -4.88401e-04],\n",
      "         [-8.16055e+00, -8.32791e+00, -4.88401e-04],\n",
      "         ...,\n",
      "         [-5.68090e+00, -5.52300e+00, -7.35117e-03],\n",
      "         [-5.58397e+00, -5.53743e+00, -7.84318e-03],\n",
      "         [-5.35438e+00, -5.67566e+00, -8.33542e-03]],\n",
      "\n",
      "        [[-8.97114e+00, -8.94621e+00, -4.88401e-04],\n",
      "         [-8.81771e+00, -8.59653e+00, -4.88401e-04],\n",
      "         [-8.21909e+00, -8.16938e+00, -4.88401e-04],\n",
      "         ...,\n",
      "         [-5.43711e+00, -5.29343e+00, -9.32065e-03],\n",
      "         [-5.58030e+00, -5.52551e+00, -7.84318e-03],\n",
      "         [-5.34518e+00, -5.59802e+00, -8.33542e-03]],\n",
      "\n",
      "        [[-9.11168e+00, -9.35187e+00,  0.00000e+00],\n",
      "         [-8.84368e+00, -9.05320e+00, -4.88401e-04],\n",
      "         [-8.42868e+00, -8.65005e+00, -4.88401e-04],\n",
      "         ...,\n",
      "         [-5.48026e+00, -5.34950e+00, -8.82791e-03],\n",
      "         [-5.54441e+00, -5.49823e+00, -7.84318e-03],\n",
      "         [-5.28209e+00, -5.56308e+00, -8.82791e-03]]], device='cuda:0', grad_fn=<LogBackward0>)\n",
      "batch_qtargets:  "
     ]
    },
    {
     "name": "stderr",
     "output_type": "stream",
     "text": [
      "      1/79      9.1G         0   0.02138         0       222       640:   0%|          | 0/4 [00:00<?, ?it/s]"
     ]
    },
    {
     "name": "stdout",
     "output_type": "stream",
     "text": [
      "tensor([[[4.95840e-05, 3.95803e-05, 9.99911e-01],\n",
      "         [6.35505e-05, 6.02558e-05, 9.99876e-01],\n",
      "         [1.22520e-04, 9.13711e-05, 9.99786e-01],\n",
      "         ...,\n",
      "         [2.23415e-03, 2.42678e-03, 9.95339e-01],\n",
      "         [2.05729e-03, 2.17213e-03, 9.95771e-01],\n",
      "         [2.41264e-03, 1.88074e-03, 9.95707e-01]],\n",
      "\n",
      "        [[5.74553e-05, 5.00948e-05, 9.99892e-01],\n",
      "         [6.93496e-05, 7.31688e-05, 9.99857e-01],\n",
      "         [1.32738e-04, 1.26321e-04, 9.99741e-01],\n",
      "         ...,\n",
      "         [2.07458e-03, 2.32410e-03, 9.95601e-01],\n",
      "         [1.95746e-03, 2.15845e-03, 9.95884e-01],\n",
      "         [2.18405e-03, 1.72970e-03, 9.96086e-01]],\n",
      "\n",
      "        [[7.10948e-05, 7.14236e-05, 9.99858e-01],\n",
      "         [8.21102e-05, 1.00162e-04, 9.99818e-01],\n",
      "         [1.51919e-04, 1.69207e-04, 9.99679e-01],\n",
      "         ...,\n",
      "         [2.81809e-03, 3.02097e-03, 9.94161e-01],\n",
      "         [2.54639e-03, 2.60798e-03, 9.94846e-01],\n",
      "         [2.95418e-03, 2.48743e-03, 9.94558e-01]],\n",
      "\n",
      "        ...,\n",
      "\n",
      "        [[6.67895e-05, 5.79845e-05, 9.99875e-01],\n",
      "         [8.31194e-05, 7.96632e-05, 9.99837e-01],\n",
      "         [1.54674e-04, 1.30838e-04, 9.99714e-01],\n",
      "         ...,\n",
      "         [1.85213e-03, 2.16892e-03, 9.95979e-01],\n",
      "         [2.04131e-03, 2.13858e-03, 9.95820e-01],\n",
      "         [2.56878e-03, 1.86292e-03, 9.95568e-01]],\n",
      "\n",
      "        [[6.87778e-05, 7.05137e-05, 9.99861e-01],\n",
      "         [8.01792e-05, 1.00028e-04, 9.99820e-01],\n",
      "         [1.45878e-04, 1.53312e-04, 9.99701e-01],\n",
      "         ...,\n",
      "         [2.36555e-03, 2.73107e-03, 9.94903e-01],\n",
      "         [2.04876e-03, 2.16415e-03, 9.95787e-01],\n",
      "         [2.59205e-03, 2.01296e-03, 9.95395e-01]],\n",
      "\n",
      "        [[5.97330e-05, 4.69784e-05, 9.99893e-01],\n",
      "         [7.81269e-05, 6.33589e-05, 9.99858e-01],\n",
      "         [1.18305e-04, 9.48118e-05, 9.99787e-01],\n",
      "         ...,\n",
      "         [2.26511e-03, 2.58152e-03, 9.95153e-01],\n",
      "         [2.12333e-03, 2.22369e-03, 9.95653e-01],\n",
      "         [2.76156e-03, 2.08507e-03, 9.95153e-01]]], device='cuda:0')\n",
      "batch_qtargets_yolo:  tensor([[ 0.00000e+00,  2.00000e+00,  6.24847e-03,  6.24847e-03, -1.00000e+00, -1.00000e+00],\n",
      "        [ 0.00000e+00,  2.00000e+00,  1.87531e-02,  6.24847e-03, -1.00000e+00, -1.00000e+00],\n",
      "        [ 0.00000e+00,  2.00000e+00,  3.12500e-02,  6.24847e-03, -1.00000e+00, -1.00000e+00],\n",
      "        ...,\n",
      "        [ 1.90000e+01,  2.00000e+00,  8.75000e-01,  9.75098e-01, -1.00000e+00, -1.00000e+00],\n",
      "        [ 1.90000e+01,  2.00000e+00,  9.24805e-01,  9.75098e-01, -1.00000e+00, -1.00000e+00],\n",
      "        [ 1.90000e+01,  2.00000e+00,  9.75098e-01,  9.75098e-01, -1.00000e+00, -1.00000e+00]], device='cuda:0')\n",
      "batch_qtargets_yolo:  tensor([], device='cuda:0', size=(0, 6))\n"
     ]
    },
    {
     "name": "stderr",
     "output_type": "stream",
     "text": [
      "      1/79      9.1G         0   0.02138         0       222       640:  25%|██▌       | 1/4 [00:00<00:01,  1.88it/s]"
     ]
    },
    {
     "name": "stdout",
     "output_type": "stream",
     "text": [
      "batch_pred_yolo:  tensor([[[1.22910e-02, 0.00000e+00, 1.55312e+01,  ..., 2.61307e-04, 6.10840e-01, 5.63965e-01],\n",
      "         [2.14386e-02, 0.00000e+00, 1.71250e+01,  ..., 3.38078e-04, 4.48730e-01, 4.84619e-01],\n",
      "         [3.20435e-02, 1.82533e-03, 2.03906e+01,  ..., 4.85897e-04, 3.88184e-01, 3.83301e-01],\n",
      "         ...,\n",
      "         [8.73535e-01, 9.71191e-01, 3.93750e+02,  ..., 9.05609e-03, 3.81836e-01, 4.89014e-01],\n",
      "         [9.19434e-01, 9.67773e-01, 4.54250e+02,  ..., 7.54929e-03, 3.95752e-01, 4.71680e-01],\n",
      "         [9.63379e-01, 9.68750e-01, 4.47000e+02,  ..., 8.37708e-03, 4.11133e-01, 3.39600e-01]],\n",
      "\n",
      "        [[1.22833e-02, 0.00000e+00, 8.13281e+00,  ..., 3.93629e-04, 5.24902e-01, 5.19043e-01],\n",
      "         [2.20184e-02, 0.00000e+00, 9.05469e+00,  ..., 4.99249e-04, 3.79883e-01, 4.29688e-01],\n",
      "         [3.15247e-02, 1.88637e-03, 1.22891e+01,  ..., 6.46114e-04, 3.55225e-01, 3.34717e-01],\n",
      "         ...,\n",
      "         [8.67188e-01, 9.69727e-01, 4.47000e+02,  ..., 8.06427e-03, 3.89160e-01, 4.47998e-01],\n",
      "         [9.18945e-01, 9.67773e-01, 5.18000e+02,  ..., 7.23267e-03, 4.01367e-01, 4.24316e-01],\n",
      "         [9.64844e-01, 9.68750e-01, 4.61500e+02,  ..., 6.71768e-03, 3.95020e-01, 3.15186e-01]],\n",
      "\n",
      "        [[1.28326e-02, 0.00000e+00, 1.40781e+01,  ..., 2.69413e-04, 6.57227e-01, 5.67383e-01],\n",
      "         [2.20642e-02, 8.17776e-04, 1.53125e+01,  ..., 3.47376e-04, 5.15625e-01, 4.63135e-01],\n",
      "         [3.22266e-02, 2.66075e-03, 1.92031e+01,  ..., 4.61817e-04, 4.53613e-01, 3.91113e-01],\n",
      "         ...,\n",
      "         [8.67188e-01, 9.67773e-01, 4.12500e+02,  ..., 1.02463e-02, 3.75488e-01, 4.87305e-01],\n",
      "         [9.15527e-01, 9.67285e-01, 5.02000e+02,  ..., 1.02463e-02, 4.02832e-01, 4.79980e-01],\n",
      "         [9.63867e-01, 9.67773e-01, 5.03000e+02,  ..., 8.85010e-03, 4.18457e-01, 3.59375e-01]],\n",
      "\n",
      "        ...,\n",
      "\n",
      "        [[1.11313e-02, 0.00000e+00, 1.06172e+01,  ..., 2.13146e-04, 6.48438e-01, 5.07324e-01],\n",
      "         [2.01721e-02, 0.00000e+00, 1.17266e+01,  ..., 2.82526e-04, 5.10254e-01, 4.22363e-01],\n",
      "         [3.03192e-02, 1.01948e-03, 1.61094e+01,  ..., 4.20570e-04, 4.43359e-01, 3.50830e-01],\n",
      "         ...,\n",
      "         [8.68164e-01, 9.67773e-01, 4.09500e+02,  ..., 9.93347e-03, 4.09668e-01, 4.58008e-01],\n",
      "         [9.15527e-01, 9.67285e-01, 4.85250e+02,  ..., 9.81903e-03, 4.29932e-01, 4.43115e-01],\n",
      "         [9.63379e-01, 9.68750e-01, 4.84500e+02,  ..., 9.37653e-03, 4.36523e-01, 3.39355e-01]],\n",
      "\n",
      "        [[1.19781e-02, 0.00000e+00, 1.33672e+01,  ..., 2.14815e-04, 6.65527e-01, 5.23438e-01],\n",
      "         [2.09808e-02, 3.05176e-04, 1.50938e+01,  ..., 2.84672e-04, 5.32715e-01, 4.40674e-01],\n",
      "         [3.07312e-02, 2.16675e-03, 1.99375e+01,  ..., 4.15802e-04, 4.45068e-01, 3.63281e-01],\n",
      "         ...,\n",
      "         [8.66211e-01, 9.66309e-01, 4.52500e+02,  ..., 1.07346e-02, 3.98438e-01, 4.74609e-01],\n",
      "         [9.16992e-01, 9.64844e-01, 5.53000e+02,  ..., 9.78088e-03, 4.18457e-01, 4.59229e-01],\n",
      "         [9.62402e-01, 9.67773e-01, 4.95250e+02,  ..., 9.67407e-03, 4.13574e-01, 3.57178e-01]],\n",
      "\n",
      "        [[1.17188e-02, 0.00000e+00, 8.78906e+00,  ..., 3.03030e-04, 6.10352e-01, 5.32715e-01],\n",
      "         [2.10114e-02, 0.00000e+00, 1.01406e+01,  ..., 3.96729e-04, 4.64600e-01, 4.38477e-01],\n",
      "         [3.07617e-02, 1.64795e-03, 1.49219e+01,  ..., 5.83649e-04, 4.00879e-01, 3.54736e-01],\n",
      "         ...,\n",
      "         [8.71094e-01, 9.67285e-01, 4.31250e+02,  ..., 7.46155e-03, 3.75488e-01, 4.79980e-01],\n",
      "         [9.21875e-01, 9.67773e-01, 5.28500e+02,  ..., 6.85120e-03, 3.85498e-01, 4.60938e-01],\n",
      "         [9.67285e-01, 9.68750e-01, 4.92750e+02,  ..., 6.41251e-03, 4.12354e-01, 3.37646e-01]]], device='cuda:0', dtype=torch.float16, grad_fn=<CopySlices>)\n",
      "batch_pred_yolo size:  torch.Size([20, 25200, 7])\n",
      "640\n",
      "batch_pred_bcc:  tensor([[[-8.90384e+00, -8.98368e+00, -4.88401e-04],\n",
      "         [-8.72459e+00, -8.64765e+00, -4.88401e-04],\n",
      "         [-8.31635e+00, -8.32901e+00, -4.88401e-04],\n",
      "         ...,\n",
      "         [-5.52880e+00, -5.28140e+00, -9.32065e-03],\n",
      "         [-5.67105e+00, -5.49554e+00, -7.35117e-03],\n",
      "         [-5.38439e+00, -5.57554e+00, -8.33542e-03]],\n",
      "\n",
      "        [[-8.52765e+00, -8.53888e+00, -4.88401e-04],\n",
      "         [-8.35905e+00, -8.23585e+00, -4.88401e-04],\n",
      "         [-8.00839e+00, -8.06786e+00, -4.88401e-04],\n",
      "         ...,\n",
      "         [-5.58633e+00, -5.44554e+00, -8.33542e-03],\n",
      "         [-5.65048e+00, -5.59488e+00, -7.35117e-03],\n",
      "         [-5.58963e+00, -5.81540e+00, -6.85941e-03]],\n",
      "\n",
      "        [[-8.84161e+00, -8.98861e+00, -4.88401e-04],\n",
      "         [-8.60601e+00, -8.71337e+00, -4.88401e-04],\n",
      "         [-8.30211e+00, -8.45036e+00, -4.88401e-04],\n",
      "         ...,\n",
      "         [-5.41279e+00, -5.15213e+00, -1.03068e-02],\n",
      "         [-5.36543e+00, -5.19021e+00, -1.03068e-02],\n",
      "         [-5.34726e+00, -5.49947e+00, -8.82791e-03]],\n",
      "\n",
      "        ...,\n",
      "\n",
      "        [[-9.03148e+00, -9.27690e+00,  0.00000e+00],\n",
      "         [-8.77483e+00, -8.96387e+00, -4.88401e-04],\n",
      "         [-8.35684e+00, -8.59092e+00, -4.88401e-04],\n",
      "         ...,\n",
      "         [-5.36232e+00, -5.25078e+00, -9.81362e-03],\n",
      "         [-5.33180e+00, -5.30159e+00, -9.81362e-03],\n",
      "         [-5.24470e+00, -5.49649e+00, -9.32065e-03]],\n",
      "\n",
      "        [[-9.02599e+00, -9.26615e+00,  0.00000e+00],\n",
      "         [-8.76697e+00, -8.95665e+00, -4.88401e-04],\n",
      "         [-8.38207e+00, -8.58512e+00, -4.88401e-04],\n",
      "         ...,\n",
      "         [-5.31873e+00, -5.14378e+00, -1.08003e-02],\n",
      "         [-5.36804e+00, -5.27507e+00, -9.81362e-03],\n",
      "         [-5.26084e+00, -5.40744e+00, -9.81362e-03]],\n",
      "\n",
      "        [[-8.72911e+00, -8.86516e+00, -4.88401e-04],\n",
      "         [-8.49689e+00, -8.55476e+00, -4.88401e-04],\n",
      "         [-8.08008e+00, -8.20237e+00, -4.88401e-04],\n",
      "         ...,\n",
      "         [-5.72141e+00, -5.47590e+00, -7.35117e-03],\n",
      "         [-5.76983e+00, -5.59110e+00, -6.85941e-03],\n",
      "         [-5.64770e+00, -5.84758e+00, -6.36789e-03]]], device='cuda:0', grad_fn=<LogBackward0>)\n",
      "batch_qtargets:  tensor([[[7.35655e-05, 6.79203e-05, 9.99858e-01],\n",
      "         [8.80038e-05, 9.50423e-05, 9.99817e-01],\n",
      "         [1.32362e-04, 1.30697e-04, 9.99737e-01],\n",
      "         ...,\n",
      "         [2.15869e-03, 2.76461e-03, 9.95077e-01],\n",
      "         [1.87031e-03, 2.22914e-03, 9.95901e-01],\n",
      "         [2.49253e-03, 2.05885e-03, 9.95449e-01]],\n",
      "\n",
      "        [[1.07157e-04, 1.05960e-04, 9.99787e-01],\n",
      "         [1.26829e-04, 1.43457e-04, 9.99730e-01],\n",
      "         [1.80083e-04, 1.69686e-04, 9.99650e-01],\n",
      "         ...,\n",
      "         [2.03709e-03, 2.34508e-03, 9.95618e-01],\n",
      "         [1.90951e-03, 2.01869e-03, 9.96072e-01],\n",
      "         [2.02889e-03, 1.61884e-03, 9.96352e-01]],\n",
      "\n",
      "        [[7.82882e-05, 6.75861e-05, 9.99854e-01],\n",
      "         [9.90830e-05, 8.89965e-05, 9.99812e-01],\n",
      "         [1.34262e-04, 1.15763e-04, 9.99750e-01],\n",
      "         ...,\n",
      "         [2.42503e-03, 3.14718e-03, 9.94428e-01],\n",
      "         [2.54263e-03, 3.02958e-03, 9.94428e-01],\n",
      "         [2.58741e-03, 2.22209e-03, 9.95191e-01]],\n",
      "\n",
      "        ...,\n",
      "\n",
      "        [[6.47200e-05, 5.06356e-05, 9.99885e-01],\n",
      "         [8.36949e-05, 6.92785e-05, 9.99847e-01],\n",
      "         [1.27115e-04, 1.00586e-04, 9.99772e-01],\n",
      "         ...,\n",
      "         [2.54975e-03, 2.85061e-03, 9.94600e-01],\n",
      "         [2.62893e-03, 2.70955e-03, 9.94662e-01],\n",
      "         [2.86745e-03, 2.22917e-03, 9.94903e-01]],\n",
      "\n",
      "        [[6.50763e-05, 5.11826e-05, 9.99884e-01],\n",
      "         [8.43548e-05, 6.97803e-05, 9.99846e-01],\n",
      "         [1.23948e-04, 1.01171e-04, 9.99775e-01],\n",
      "         ...,\n",
      "         [2.66481e-03, 3.17425e-03, 9.94161e-01],\n",
      "         [2.53541e-03, 2.78244e-03, 9.94682e-01],\n",
      "         [2.82248e-03, 2.43760e-03, 9.94740e-01]],\n",
      "\n",
      "        [[8.76085e-05, 7.64648e-05, 9.99836e-01],\n",
      "         [1.10504e-04, 1.04291e-04, 9.99785e-01],\n",
      "         [1.67630e-04, 1.48335e-04, 9.99684e-01],\n",
      "         ...,\n",
      "         [1.77853e-03, 2.27347e-03, 9.95948e-01],\n",
      "         [1.69421e-03, 2.02575e-03, 9.96280e-01],\n",
      "         [1.91381e-03, 1.56708e-03, 9.96519e-01]]], device='cuda:0')\n"
     ]
    },
    {
     "name": "stderr",
     "output_type": "stream",
     "text": [
      "      1/79     11.6G         0   0.02119         0       336       640:  50%|█████     | 2/4 [00:01<00:01,  1.99it/s]"
     ]
    },
    {
     "name": "stdout",
     "output_type": "stream",
     "text": [
      "batch_qtargets_yolo:  tensor([[ 0.00000e+00,  2.00000e+00,  6.24847e-03,  6.24847e-03, -1.00000e+00, -1.00000e+00],\n",
      "        [ 0.00000e+00,  2.00000e+00,  1.87531e-02,  6.24847e-03, -1.00000e+00, -1.00000e+00],\n",
      "        [ 0.00000e+00,  2.00000e+00,  3.12500e-02,  6.24847e-03, -1.00000e+00, -1.00000e+00],\n",
      "        ...,\n",
      "        [ 1.90000e+01,  2.00000e+00,  8.75000e-01,  9.75098e-01, -1.00000e+00, -1.00000e+00],\n",
      "        [ 1.90000e+01,  2.00000e+00,  9.24805e-01,  9.75098e-01, -1.00000e+00, -1.00000e+00],\n",
      "        [ 1.90000e+01,  2.00000e+00,  9.75098e-01,  9.75098e-01, -1.00000e+00, -1.00000e+00]], device='cuda:0')\n",
      "batch_qtargets_yolo:  tensor([], device='cuda:0', size=(0, 6))\n",
      "batch_pred_yolo:  tensor([[[1.20087e-02, 0.00000e+00, 1.20703e+01,  ..., 1.91092e-04, 7.00195e-01, 5.19043e-01],\n",
      "         [2.11945e-02, 2.62499e-04, 1.33438e+01,  ..., 2.59161e-04, 5.71289e-01, 4.22852e-01],\n",
      "         [3.11737e-02, 1.61171e-03, 1.79844e+01,  ..., 3.71218e-04, 4.95850e-01, 3.41309e-01],\n",
      "         ...,\n",
      "         [8.70117e-01, 9.66309e-01, 4.26500e+02,  ..., 9.74274e-03, 4.19189e-01, 4.81934e-01],\n",
      "         [9.20898e-01, 9.66309e-01, 5.39000e+02,  ..., 8.12531e-03, 4.42627e-01, 4.90967e-01],\n",
      "         [9.63867e-01, 9.67773e-01, 5.04500e+02,  ..., 8.51440e-03, 4.28467e-01, 3.54248e-01]],\n",
      "\n",
      "        [[1.04980e-02, 0.00000e+00, 9.28125e+00,  ..., 1.83821e-04, 5.84473e-01, 4.47754e-01],\n",
      "         [2.01721e-02, 0.00000e+00, 1.00781e+01,  ..., 2.49147e-04, 4.48486e-01, 3.90381e-01],\n",
      "         [3.06091e-02, 2.07543e-04, 1.43828e+01,  ..., 4.28915e-04, 4.23096e-01, 3.38135e-01],\n",
      "         ...,\n",
      "         [8.76465e-01, 9.64844e-01, 4.87000e+02,  ..., 6.90460e-03, 4.70703e-01, 4.78027e-01],\n",
      "         [9.24805e-01, 9.70215e-01, 5.92000e+02,  ..., 6.53839e-03, 4.93408e-01, 4.66553e-01],\n",
      "         [9.70215e-01, 9.68750e-01, 5.19000e+02,  ..., 6.64139e-03, 4.48730e-01, 3.33008e-01]],\n",
      "\n",
      "        [[1.16577e-02, 0.00000e+00, 1.30078e+01,  ..., 1.69992e-04, 6.45508e-01, 5.11719e-01],\n",
      "         [2.11182e-02, 0.00000e+00, 1.40312e+01,  ..., 2.30551e-04, 5.30762e-01, 4.37744e-01],\n",
      "         [3.15552e-02, 1.03188e-03, 1.87188e+01,  ..., 3.87430e-04, 4.70215e-01, 3.63770e-01],\n",
      "         ...,\n",
      "         [8.69629e-01, 9.66309e-01, 4.84500e+02,  ..., 8.03375e-03, 4.46045e-01, 4.56787e-01],\n",
      "         [9.20898e-01, 9.67285e-01, 6.00000e+02,  ..., 5.72968e-03, 4.52393e-01, 4.65332e-01],\n",
      "         [9.62402e-01, 9.69727e-01, 5.23500e+02,  ..., 6.71768e-03, 4.45068e-01, 3.44238e-01]],\n",
      "\n",
      "        ...,\n",
      "\n",
      "        [[1.27411e-02, 0.00000e+00, 1.50000e+01,  ..., 2.45333e-04, 6.86523e-01, 4.95117e-01],\n",
      "         [2.20032e-02, 4.57764e-04, 1.65938e+01,  ..., 3.22580e-04, 5.59570e-01, 3.99414e-01],\n",
      "         [3.25928e-02, 2.20299e-03, 2.16250e+01,  ..., 4.40836e-04, 4.52637e-01, 3.12988e-01],\n",
      "         ...,\n",
      "         [8.68652e-01, 9.68750e-01, 3.59750e+02,  ..., 7.87354e-03, 3.75732e-01, 4.50439e-01],\n",
      "         [9.19434e-01, 9.67773e-01, 5.08000e+02,  ..., 6.90460e-03, 4.18457e-01, 4.39941e-01],\n",
      "         [9.62402e-01, 9.70215e-01, 4.70500e+02,  ..., 8.12531e-03, 4.07959e-01, 3.21533e-01]],\n",
      "\n",
      "        [[1.05972e-02, 0.00000e+00, 1.15781e+01,  ..., 2.39730e-04, 7.55859e-01, 5.10254e-01],\n",
      "         [1.91650e-02, 1.51348e-03, 1.18984e+01,  ..., 2.98262e-04, 6.40625e-01, 3.94043e-01],\n",
      "         [2.95868e-02, 2.53296e-03, 1.56250e+01,  ..., 3.14951e-04, 5.62012e-01, 2.97607e-01],\n",
      "         ...,\n",
      "         [8.66211e-01, 9.68750e-01, 4.36000e+02,  ..., 7.90405e-03, 4.47510e-01, 4.12598e-01],\n",
      "         [9.15039e-01, 9.65820e-01, 5.51500e+02,  ..., 6.48880e-03, 4.53369e-01, 4.06006e-01],\n",
      "         [9.59961e-01, 9.69727e-01, 4.68750e+02,  ..., 8.37708e-03, 4.37256e-01, 3.15186e-01]],\n",
      "\n",
      "        [[1.32599e-02, 0.00000e+00, 1.50938e+01,  ..., 2.19941e-04, 6.54785e-01, 5.60059e-01],\n",
      "         [2.25372e-02, 5.61714e-04, 1.61406e+01,  ..., 2.91348e-04, 5.23438e-01, 4.57764e-01],\n",
      "         [3.23792e-02, 2.46620e-03, 1.99062e+01,  ..., 4.04596e-04, 4.44336e-01, 3.87451e-01],\n",
      "         ...,\n",
      "         [8.68164e-01, 9.63867e-01, 4.17250e+02,  ..., 1.07803e-02, 3.58643e-01, 4.84375e-01],\n",
      "         [9.16992e-01, 9.62402e-01, 5.13000e+02,  ..., 1.00098e-02, 3.86475e-01, 4.76562e-01],\n",
      "         [9.63867e-01, 9.67285e-01, 4.91000e+02,  ..., 1.01700e-02, 4.07471e-01, 3.83057e-01]]], device='cuda:0', dtype=torch.float16, grad_fn=<CopySlices>)\n",
      "batch_pred_yolo size:  torch.Size([20, 25200, 7])\n",
      "640\n",
      "batch_pred_bcc:  tensor([[[-9.11738e+00, -9.41675e+00,  0.00000e+00],\n",
      "         [-8.81204e+00, -9.11292e+00, -4.88401e-04],\n",
      "         [-8.42246e+00, -8.79595e+00, -4.88401e-04],\n",
      "         ...,\n",
      "         [-5.39655e+00, -5.25707e+00, -9.81362e-03],\n",
      "         [-5.55909e+00, -5.45544e+00, -8.33542e-03],\n",
      "         [-5.36855e+00, -5.55877e+00, -8.33542e-03]],\n",
      "\n",
      "        [[-9.17031e+00, -9.43678e+00,  0.00000e+00],\n",
      "         [-8.92364e+00, -9.06240e+00, -4.88401e-04],\n",
      "         [-8.34159e+00, -8.56574e+00, -4.88401e-04],\n",
      "         ...,\n",
      "         [-5.67646e+00, -5.66102e+00, -6.85941e-03],\n",
      "         [-5.69562e+00, -5.75159e+00, -6.36789e-03],\n",
      "         [-5.56953e+00, -5.86779e+00, -6.85941e-03]],\n",
      "\n",
      "        [[-9.26350e+00, -9.49576e+00,  0.00000e+00],\n",
      "         [-8.97648e+00, -9.16916e+00,  0.00000e+00],\n",
      "         [-8.42900e+00, -8.68567e+00, -4.88401e-04],\n",
      "         ...,\n",
      "         [-5.52922e+00, -5.50542e+00, -7.84318e-03],\n",
      "         [-5.86944e+00, -5.84124e+00, -5.87661e-03],\n",
      "         [-5.57594e+00, -5.83283e+00, -6.85941e-03]],\n",
      "\n",
      "        ...,\n",
      "\n",
      "        [[-8.85591e+00, -9.18276e+00, -4.88401e-04],\n",
      "         [-8.57786e+00, -8.91503e+00, -4.88401e-04],\n",
      "         [-8.25244e+00, -8.62136e+00, -4.88401e-04],\n",
      "         ...,\n",
      "         [-5.63217e+00, -5.45083e+00, -7.84318e-03],\n",
      "         [-5.69406e+00, -5.64399e+00, -6.85941e-03],\n",
      "         [-5.39395e+00, -5.63202e+00, -8.33542e-03]],\n",
      "\n",
      "        [[-8.85185e+00, -9.24480e+00,  0.00000e+00],\n",
      "         [-8.59693e+00, -9.08292e+00, -4.88401e-04],\n",
      "         [-8.48806e+00, -9.12381e+00, -4.88401e-04],\n",
      "         ...,\n",
      "         [-5.49374e+00, -5.57496e+00, -7.84318e-03],\n",
      "         [-5.67718e+00, -5.78752e+00, -6.36789e-03],\n",
      "         [-5.32506e+00, -5.65242e+00, -8.33542e-03]],\n",
      "\n",
      "        [[-9.04021e+00, -9.19648e+00,  0.00000e+00],\n",
      "         [-8.76935e+00, -8.90342e+00, -4.88401e-04],\n",
      "         [-8.43962e+00, -8.57661e+00, -4.88401e-04],\n",
      "         ...,\n",
      "         [-5.38469e+00, -5.08416e+00, -1.08003e-02],\n",
      "         [-5.40759e+00, -5.19805e+00, -9.81362e-03],\n",
      "         [-5.25105e+00, -5.31283e+00, -1.03068e-02]]], device='cuda:0', grad_fn=<LogBackward0>)\n",
      "batch_qtargets:  tensor([[[5.93937e-05, 4.40276e-05, 9.99897e-01],\n",
      "         [8.06382e-05, 5.96860e-05, 9.99860e-01],\n",
      "         [1.19044e-04, 8.19417e-05, 9.99799e-01],\n",
      "         ...,\n",
      "         [2.46419e-03, 2.83303e-03, 9.94703e-01],\n",
      "         [2.09329e-03, 2.32190e-03, 9.95585e-01],\n",
      "         [2.53213e-03, 2.09352e-03, 9.95374e-01]],\n",
      "\n",
      "        [[5.63316e-05, 4.31546e-05, 9.99900e-01],\n",
      "         [7.21235e-05, 6.27794e-05, 9.99865e-01],\n",
      "         [1.29067e-04, 1.03150e-04, 9.99768e-01],\n",
      "         ...,\n",
      "         [1.85995e-03, 1.88890e-03, 9.96251e-01],\n",
      "         [1.82413e-03, 1.72485e-03, 9.96451e-01],\n",
      "         [2.07016e-03, 1.53629e-03, 9.96394e-01]],\n",
      "\n",
      "        [[5.13197e-05, 4.06831e-05, 9.99908e-01],\n",
      "         [6.83788e-05, 5.63952e-05, 9.99875e-01],\n",
      "         [1.18267e-04, 9.14944e-05, 9.99790e-01],\n",
      "         ...,\n",
      "         [2.15580e-03, 2.20772e-03, 9.95637e-01],\n",
      "         [1.53301e-03, 1.57685e-03, 9.96890e-01],\n",
      "         [2.05686e-03, 1.59088e-03, 9.96352e-01]],\n",
      "\n",
      "        ...,\n",
      "\n",
      "        [[7.71776e-05, 5.56601e-05, 9.99867e-01],\n",
      "         [1.01913e-04, 7.27440e-05, 9.99825e-01],\n",
      "         [1.41101e-04, 9.75684e-05, 9.99761e-01],\n",
      "         ...,\n",
      "         [1.94507e-03, 2.33180e-03, 9.95723e-01],\n",
      "         [1.82751e-03, 1.92134e-03, 9.96251e-01],\n",
      "         [2.46914e-03, 1.94605e-03, 9.95585e-01]],\n",
      "\n",
      "        [[7.74543e-05, 5.22867e-05, 9.99870e-01],\n",
      "         [9.99894e-05, 6.15026e-05, 9.99838e-01],\n",
      "         [1.11489e-04, 5.90378e-05, 9.99830e-01],\n",
      "         ...,\n",
      "         [2.23382e-03, 2.05955e-03, 9.95707e-01],\n",
      "         [1.85814e-03, 1.66402e-03, 9.96478e-01],\n",
      "         [2.64488e-03, 1.90650e-03, 9.95449e-01]],\n",
      "\n",
      "        [[6.41571e-05, 5.48757e-05, 9.99881e-01],\n",
      "         [8.41537e-05, 7.35952e-05, 9.99842e-01],\n",
      "         [1.17017e-04, 1.02036e-04, 9.99781e-01],\n",
      "         ...,\n",
      "         [2.49463e-03, 3.36919e-03, 9.94136e-01],\n",
      "         [2.43680e-03, 3.00482e-03, 9.94558e-01],\n",
      "         [2.85088e-03, 2.68007e-03, 9.94469e-01]]], device='cuda:0')\n"
     ]
    },
    {
     "name": "stderr",
     "output_type": "stream",
     "text": [
      "      1/79     11.6G         0   0.02095         0       289       640:  75%|███████▌  | 3/4 [00:01<00:00,  1.93it/s]"
     ]
    },
    {
     "name": "stdout",
     "output_type": "stream",
     "text": [
      "batch_qtargets_yolo:  tensor([[ 0.00000e+00,  2.00000e+00,  6.24847e-03,  6.24847e-03, -1.00000e+00, -1.00000e+00],\n",
      "        [ 0.00000e+00,  2.00000e+00,  1.87531e-02,  6.24847e-03, -1.00000e+00, -1.00000e+00],\n",
      "        [ 0.00000e+00,  2.00000e+00,  3.12500e-02,  6.24847e-03, -1.00000e+00, -1.00000e+00],\n",
      "        ...,\n",
      "        [ 1.90000e+01,  2.00000e+00,  8.75000e-01,  9.75098e-01, -1.00000e+00, -1.00000e+00],\n",
      "        [ 1.90000e+01,  2.00000e+00,  9.24805e-01,  9.75098e-01, -1.00000e+00, -1.00000e+00],\n",
      "        [ 1.90000e+01,  2.00000e+00,  9.75098e-01,  9.75098e-01, -1.00000e+00, -1.00000e+00]], device='cuda:0')\n",
      "batch_qtargets_yolo:  tensor([], device='cuda:0', size=(0, 6))\n"
     ]
    },
    {
     "name": "stderr",
     "output_type": "stream",
     "text": [
      "      1/79     8.15G         0    0.0207         0       114       640:  75%|███████▌  | 3/4 [00:01<00:00,  1.93it/s]"
     ]
    },
    {
     "name": "stdout",
     "output_type": "stream",
     "text": [
      "batch_pred_yolo:  tensor([[[1.02539e-02, 0.00000e+00, 1.08984e+01,  ..., 3.00646e-04, 6.67480e-01, 5.16602e-01],\n",
      "         [1.93787e-02, 1.15395e-03, 1.20078e+01,  ..., 3.80039e-04, 5.24902e-01, 4.07715e-01],\n",
      "         [3.03497e-02, 2.35558e-03, 1.55312e+01,  ..., 4.85897e-04, 4.55078e-01, 3.37891e-01],\n",
      "         ...,\n",
      "         [8.62305e-01, 9.67773e-01, 4.10250e+02,  ..., 9.19342e-03, 3.45947e-01, 4.42627e-01],\n",
      "         [9.11621e-01, 9.65820e-01, 5.01250e+02,  ..., 9.23157e-03, 3.79883e-01, 4.23828e-01],\n",
      "         [9.58496e-01, 9.70215e-01, 4.71250e+02,  ..., 9.85718e-03, 4.03076e-01, 3.33984e-01]],\n",
      "\n",
      "        [[1.16348e-02, 0.00000e+00, 1.25469e+01,  ..., 1.88112e-04, 6.79688e-01, 5.21973e-01],\n",
      "         [2.09656e-02, 4.27246e-04, 1.41250e+01,  ..., 2.51293e-04, 5.50781e-01, 4.40430e-01],\n",
      "         [3.09296e-02, 2.07520e-03, 1.93125e+01,  ..., 3.95060e-04, 4.75830e-01, 3.56201e-01],\n",
      "         ...,\n",
      "         [8.75977e-01, 9.66309e-01, 4.14250e+02,  ..., 6.85120e-03, 4.50439e-01, 4.71680e-01],\n",
      "         [9.24805e-01, 9.71191e-01, 5.02000e+02,  ..., 7.17545e-03, 4.64355e-01, 4.76562e-01],\n",
      "         [9.70215e-01, 9.71191e-01, 4.98750e+02,  ..., 7.14874e-03, 4.54834e-01, 3.58154e-01]],\n",
      "\n",
      "        [[1.19781e-02, 0.00000e+00, 1.42656e+01,  ..., 2.55108e-04, 6.44043e-01, 4.63135e-01],\n",
      "         [2.11487e-02, 5.06401e-04, 1.50938e+01,  ..., 3.19958e-04, 5.20508e-01, 3.75244e-01],\n",
      "         [3.22266e-02, 1.71471e-03, 1.89375e+01,  ..., 4.02927e-04, 4.55322e-01, 2.97363e-01],\n",
      "         ...,\n",
      "         [8.66211e-01, 9.67285e-01, 3.88500e+02,  ..., 8.85010e-03, 3.67188e-01, 4.33350e-01],\n",
      "         [9.14062e-01, 9.63867e-01, 4.60750e+02,  ..., 8.64410e-03, 3.78418e-01, 4.05029e-01],\n",
      "         [9.59473e-01, 9.67285e-01, 4.65500e+02,  ..., 9.30023e-03, 4.04297e-01, 3.11279e-01]],\n",
      "\n",
      "        ...,\n",
      "\n",
      "        [[1.16806e-02, 0.00000e+00, 1.20078e+01,  ..., 1.78099e-04, 6.52344e-01, 5.08789e-01],\n",
      "         [2.08893e-02, 5.49555e-05, 1.34141e+01,  ..., 2.35915e-04, 5.15625e-01, 4.36768e-01],\n",
      "         [3.07617e-02, 1.61743e-03, 1.85781e+01,  ..., 3.65496e-04, 4.54102e-01, 3.60352e-01],\n",
      "         ...,\n",
      "         [8.72070e-01, 9.66309e-01, 4.13500e+02,  ..., 6.69098e-03, 4.35547e-01, 4.65576e-01],\n",
      "         [9.19434e-01, 9.68750e-01, 5.41000e+02,  ..., 6.53839e-03, 4.58496e-01, 4.82910e-01],\n",
      "         [9.63379e-01, 9.68750e-01, 4.92750e+02,  ..., 6.66809e-03, 4.45801e-01, 3.37158e-01]],\n",
      "\n",
      "        [[1.22223e-02, 0.00000e+00, 1.13750e+01,  ..., 2.25186e-04, 6.64062e-01, 5.20508e-01],\n",
      "         [2.16064e-02, 0.00000e+00, 1.26094e+01,  ..., 3.05414e-04, 5.31250e-01, 4.37256e-01],\n",
      "         [3.16772e-02, 1.10435e-03, 1.76719e+01,  ..., 4.40836e-04, 4.53369e-01, 3.56445e-01],\n",
      "         ...,\n",
      "         [8.68652e-01, 9.70215e-01, 3.78750e+02,  ..., 7.01141e-03, 4.24072e-01, 4.56543e-01],\n",
      "         [9.20898e-01, 9.69727e-01, 5.02000e+02,  ..., 5.18036e-03, 4.16992e-01, 4.44092e-01],\n",
      "         [9.64844e-01, 9.68750e-01, 4.96250e+02,  ..., 5.95856e-03, 4.10889e-01, 2.79541e-01]],\n",
      "\n",
      "        [[1.23672e-02, 0.00000e+00, 1.31641e+01,  ..., 2.34127e-04, 6.27930e-01, 5.10742e-01],\n",
      "         [2.15149e-02, 4.08888e-04, 1.42188e+01,  ..., 3.10183e-04, 5.00000e-01, 4.07471e-01],\n",
      "         [3.16162e-02, 1.91021e-03, 1.77656e+01,  ..., 4.02927e-04, 4.21387e-01, 3.38867e-01],\n",
      "         ...,\n",
      "         [8.69629e-01, 9.67773e-01, 4.34250e+02,  ..., 6.51169e-03, 4.49463e-01, 4.27734e-01],\n",
      "         [9.18945e-01, 9.68750e-01, 5.19000e+02,  ..., 6.21796e-03, 4.56787e-01, 4.04785e-01],\n",
      "         [9.64844e-01, 9.69727e-01, 4.82000e+02,  ..., 7.28989e-03, 4.52393e-01, 2.98096e-01]]], device='cuda:0', dtype=torch.float16, grad_fn=<CopySlices>)\n",
      "batch_pred_yolo size:  torch.Size([10, 25200, 7])\n",
      "640\n",
      "batch_pred_bcc:  tensor([[[-8.68279e+00, -8.93903e+00, -4.88401e-04],\n",
      "         [-8.45002e+00, -8.70266e+00, -4.88401e-04],\n",
      "         [-8.18483e+00, -8.48258e+00, -4.88401e-04],\n",
      "         ...,\n",
      "         [-5.51321e+00, -5.26677e+00, -9.32065e-03],\n",
      "         [-5.43450e+00, -5.32504e+00, -9.32065e-03],\n",
      "         [-5.22310e+00, -5.41113e+00, -9.81362e-03]],\n",
      "\n",
      "        [[-9.14830e+00, -9.41232e+00,  0.00000e+00],\n",
      "         [-8.87648e+00, -9.10007e+00, -4.88401e-04],\n",
      "         [-8.39528e+00, -8.68485e+00, -4.88401e-04],\n",
      "         ...,\n",
      "         [-5.69978e+00, -5.65371e+00, -6.85941e-03],\n",
      "         [-5.64330e+00, -5.61735e+00, -7.35117e-03],\n",
      "         [-5.52160e+00, -5.76057e+00, -7.35117e-03]],\n",
      "\n",
      "        [[-8.81563e+00, -9.14538e+00, -4.88401e-04],\n",
      "         [-8.59018e+00, -8.91741e+00, -4.88401e-04],\n",
      "         [-8.31940e+00, -8.74545e+00, -4.88401e-04],\n",
      "         ...,\n",
      "         [-5.50674e+00, -5.34106e+00, -8.82791e-03],\n",
      "         [-5.47858e+00, -5.41062e+00, -8.82791e-03],\n",
      "         [-5.24865e+00, -5.51011e+00, -9.32065e-03]],\n",
      "\n",
      "        ...,\n",
      "\n",
      "        [[-9.20975e+00, -9.45829e+00,  0.00000e+00],\n",
      "         [-8.96564e+00, -9.13161e+00,  0.00000e+00],\n",
      "         [-8.49845e+00, -8.72969e+00, -4.88401e-04],\n",
      "         ...,\n",
      "         [-5.73403e+00, -5.66736e+00, -6.85941e-03],\n",
      "         [-5.74949e+00, -5.69761e+00, -6.36789e-03],\n",
      "         [-5.57363e+00, -5.85295e+00, -6.85941e-03]],\n",
      "\n",
      "        [[-8.97734e+00, -9.22091e+00,  0.00000e+00],\n",
      "         [-8.69436e+00, -8.88908e+00, -4.88401e-04],\n",
      "         [-8.30694e+00, -8.54746e+00, -4.88401e-04],\n",
      "         ...,\n",
      "         [-5.69093e+00, -5.61715e+00, -6.85941e-03],\n",
      "         [-5.98801e+00, -5.92504e+00, -5.38557e-03],\n",
      "         [-5.64192e+00, -6.02709e+00, -5.87661e-03]],\n",
      "\n",
      "        [[-8.95484e+00, -9.16140e+00,  0.00000e+00],\n",
      "         [-8.67440e+00, -8.87904e+00, -4.88401e-04],\n",
      "         [-8.40686e+00, -8.62480e+00, -4.88401e-04],\n",
      "         ...,\n",
      "         [-5.70284e+00, -5.75239e+00, -6.36789e-03],\n",
      "         [-5.71486e+00, -5.83572e+00, -6.36789e-03],\n",
      "         [-5.42744e+00, -5.84458e+00, -7.35117e-03]]], device='cuda:0', grad_fn=<LogBackward0>)\n",
      "batch_qtargets:  tensor([[[9.17625e-05, 7.10202e-05, 9.99837e-01],\n",
      "         [1.15808e-04, 8.99530e-05, 9.99794e-01],\n",
      "         [1.50967e-04, 1.12092e-04, 9.99737e-01],\n",
      "         ...,\n",
      "         [2.19244e-03, 2.80515e-03, 9.95002e-01],\n",
      "         [2.37192e-03, 2.64631e-03, 9.94982e-01],\n",
      "         [2.93074e-03, 2.42837e-03, 9.94641e-01]],\n",
      "\n",
      "        [[5.75854e-05, 4.42233e-05, 9.99898e-01],\n",
      "         [7.56064e-05, 6.04583e-05, 9.99864e-01],\n",
      "         [1.22322e-04, 9.15691e-05, 9.99786e-01],\n",
      "         ...,\n",
      "         [1.81714e-03, 1.90282e-03, 9.96280e-01],\n",
      "         [1.92334e-03, 1.97390e-03, 9.96103e-01],\n",
      "         [2.17226e-03, 1.71053e-03, 9.96117e-01]],\n",
      "\n",
      "        [[8.03499e-05, 5.77800e-05, 9.99862e-01],\n",
      "         [1.00665e-04, 7.25717e-05, 9.99827e-01],\n",
      "         [1.31966e-04, 8.61846e-05, 9.99782e-01],\n",
      "         ...,\n",
      "         [2.20600e-03, 2.60349e-03, 9.95191e-01],\n",
      "         [2.26925e-03, 2.42883e-03, 9.95302e-01],\n",
      "         [2.85625e-03, 2.19911e-03, 9.94945e-01]],\n",
      "\n",
      "        ...,\n",
      "\n",
      "        [[5.41533e-05, 4.22363e-05, 9.99904e-01],\n",
      "         [6.91242e-05, 5.85526e-05, 9.99872e-01],\n",
      "         [1.10333e-04, 8.75549e-05, 9.99802e-01],\n",
      "         ...,\n",
      "         [1.75610e-03, 1.87718e-03, 9.96367e-01],\n",
      "         [1.72847e-03, 1.82051e-03, 9.96451e-01],\n",
      "         [2.06167e-03, 1.55923e-03, 9.96379e-01]],\n",
      "\n",
      "        [[6.83201e-05, 5.35510e-05, 9.99878e-01],\n",
      "         [9.07063e-05, 7.46577e-05, 9.99835e-01],\n",
      "         [1.33618e-04, 1.05052e-04, 9.99761e-01],\n",
      "         ...,\n",
      "         [1.83313e-03, 1.97349e-03, 9.96193e-01],\n",
      "         [1.36135e-03, 1.44982e-03, 9.97189e-01],\n",
      "         [1.92443e-03, 1.30926e-03, 9.96766e-01]],\n",
      "\n",
      "        [[6.98749e-05, 5.68344e-05, 9.99873e-01],\n",
      "         [9.25350e-05, 7.54105e-05, 9.99832e-01],\n",
      "         [1.20914e-04, 9.72358e-05, 9.99782e-01],\n",
      "         ...,\n",
      "         [1.81105e-03, 1.72349e-03, 9.96465e-01],\n",
      "         [1.78969e-03, 1.58595e-03, 9.96624e-01],\n",
      "         [2.38657e-03, 1.57258e-03, 9.96041e-01]]], device='cuda:0')\n",
      "batch_qtargets_yolo:  tensor([[ 0.00000e+00,  2.00000e+00,  6.24847e-03,  6.24847e-03, -1.00000e+00, -1.00000e+00],\n",
      "        [ 0.00000e+00,  2.00000e+00,  1.87531e-02,  6.24847e-03, -1.00000e+00, -1.00000e+00],\n",
      "        [ 0.00000e+00,  2.00000e+00,  3.12500e-02,  6.24847e-03, -1.00000e+00, -1.00000e+00],\n",
      "        ...,\n",
      "        [ 9.00000e+00,  2.00000e+00,  8.75000e-01,  9.75098e-01, -1.00000e+00, -1.00000e+00],\n",
      "        [ 9.00000e+00,  2.00000e+00,  9.24805e-01,  9.75098e-01, -1.00000e+00, -1.00000e+00],\n",
      "        [ 9.00000e+00,  2.00000e+00,  9.75098e-01,  9.75098e-01, -1.00000e+00, -1.00000e+00]], device='cuda:0')\n",
      "batch_qtargets_yolo:  tensor([], device='cuda:0', size=(0, 6))\n"
     ]
    },
    {
     "name": "stderr",
     "output_type": "stream",
     "text": [
      "      1/79     8.15G         0    0.0207         0       114       640: 100%|██████████| 4/4 [00:01<00:00,  2.13it/s]\n",
      "               Class     Images     Labels          P          R     mAP@.5 mAP@.5:.95:   0%|          | 0/2 [00:00<?, ?it/s]\n"
     ]
    },
    {
     "ename": "KeyboardInterrupt",
     "evalue": "",
     "output_type": "error",
     "traceback": [
      "\u001b[1;31m---------------------------------------------------------------------------\u001b[0m",
      "\u001b[1;31mKeyboardInterrupt\u001b[0m                         Traceback (most recent call last)",
      "\u001b[1;32m~\\OneDrive - University of Surrey\\Documents\\GitHub\\dental_disease\\src\\train.py\u001b[0m in \u001b[0;36m<module>\u001b[1;34m\u001b[0m\n\u001b[0;32m    738\u001b[0m \u001b[1;32mif\u001b[0m \u001b[0m__name__\u001b[0m \u001b[1;33m==\u001b[0m \u001b[1;34m\"__main__\"\u001b[0m\u001b[1;33m:\u001b[0m\u001b[1;33m\u001b[0m\u001b[1;33m\u001b[0m\u001b[0m\n\u001b[0;32m    739\u001b[0m     \u001b[0mopt\u001b[0m \u001b[1;33m=\u001b[0m \u001b[0mparse_opt\u001b[0m\u001b[1;33m(\u001b[0m\u001b[1;33m)\u001b[0m\u001b[1;33m\u001b[0m\u001b[1;33m\u001b[0m\u001b[0m\n\u001b[1;32m--> 740\u001b[1;33m     \u001b[0mmain\u001b[0m\u001b[1;33m(\u001b[0m\u001b[0mopt\u001b[0m\u001b[1;33m)\u001b[0m\u001b[1;33m\u001b[0m\u001b[1;33m\u001b[0m\u001b[0m\n\u001b[0m\u001b[0;32m    741\u001b[0m \u001b[1;31m#torch.cuda.empty_cache()\u001b[0m\u001b[1;33m\u001b[0m\u001b[1;33m\u001b[0m\u001b[0m\n\u001b[0;32m    742\u001b[0m \u001b[1;33m\u001b[0m\u001b[0m\n",
      "\u001b[1;32m~\\OneDrive - University of Surrey\\Documents\\GitHub\\dental_disease\\src\\train.py\u001b[0m in \u001b[0;36mmain\u001b[1;34m(opt)\u001b[0m\n\u001b[0;32m    636\u001b[0m     \u001b[1;31m# Train\u001b[0m\u001b[1;33m\u001b[0m\u001b[1;33m\u001b[0m\u001b[0m\n\u001b[0;32m    637\u001b[0m     \u001b[1;32mif\u001b[0m \u001b[1;32mnot\u001b[0m \u001b[0mopt\u001b[0m\u001b[1;33m.\u001b[0m\u001b[0mevolve\u001b[0m\u001b[1;33m:\u001b[0m\u001b[1;33m\u001b[0m\u001b[1;33m\u001b[0m\u001b[0m\n\u001b[1;32m--> 638\u001b[1;33m         \u001b[0mtrain\u001b[0m\u001b[1;33m(\u001b[0m\u001b[0mopt\u001b[0m\u001b[1;33m.\u001b[0m\u001b[0mhyp\u001b[0m\u001b[1;33m,\u001b[0m \u001b[0mopt\u001b[0m\u001b[1;33m,\u001b[0m \u001b[0mdevice\u001b[0m\u001b[1;33m)\u001b[0m\u001b[1;33m\u001b[0m\u001b[1;33m\u001b[0m\u001b[0m\n\u001b[0m\u001b[0;32m    639\u001b[0m         \u001b[1;32mif\u001b[0m \u001b[0mWORLD_SIZE\u001b[0m \u001b[1;33m>\u001b[0m \u001b[1;36m1\u001b[0m \u001b[1;32mand\u001b[0m \u001b[0mRANK\u001b[0m \u001b[1;33m==\u001b[0m \u001b[1;36m0\u001b[0m\u001b[1;33m:\u001b[0m\u001b[1;33m\u001b[0m\u001b[1;33m\u001b[0m\u001b[0m\n\u001b[0;32m    640\u001b[0m             \u001b[0m_\u001b[0m \u001b[1;33m=\u001b[0m \u001b[1;33m[\u001b[0m\u001b[0mprint\u001b[0m\u001b[1;33m(\u001b[0m\u001b[1;34m'Destroying process group... '\u001b[0m\u001b[1;33m,\u001b[0m \u001b[0mend\u001b[0m\u001b[1;33m=\u001b[0m\u001b[1;34m''\u001b[0m\u001b[1;33m)\u001b[0m\u001b[1;33m,\u001b[0m \u001b[0mdist\u001b[0m\u001b[1;33m.\u001b[0m\u001b[0mdestroy_process_group\u001b[0m\u001b[1;33m(\u001b[0m\u001b[1;33m)\u001b[0m\u001b[1;33m,\u001b[0m \u001b[0mprint\u001b[0m\u001b[1;33m(\u001b[0m\u001b[1;34m'Done.'\u001b[0m\u001b[1;33m)\u001b[0m\u001b[1;33m]\u001b[0m\u001b[1;33m\u001b[0m\u001b[1;33m\u001b[0m\u001b[0m\n",
      "\u001b[1;32m~\\OneDrive - University of Surrey\\Documents\\GitHub\\dental_disease\\src\\train.py\u001b[0m in \u001b[0;36mtrain\u001b[1;34m(hyp, opt, device, callbacks)\u001b[0m\n\u001b[0;32m    440\u001b[0m             \u001b[0mfinal_epoch\u001b[0m \u001b[1;33m=\u001b[0m \u001b[0mepoch\u001b[0m \u001b[1;33m+\u001b[0m \u001b[1;36m1\u001b[0m \u001b[1;33m==\u001b[0m \u001b[0mepochs\u001b[0m\u001b[1;33m\u001b[0m\u001b[1;33m\u001b[0m\u001b[0m\n\u001b[0;32m    441\u001b[0m             \u001b[1;32mif\u001b[0m \u001b[1;32mnot\u001b[0m \u001b[0mnoval\u001b[0m \u001b[1;32mor\u001b[0m \u001b[0mfinal_epoch\u001b[0m\u001b[1;33m:\u001b[0m  \u001b[1;31m# Calculate mAP\u001b[0m\u001b[1;33m\u001b[0m\u001b[1;33m\u001b[0m\u001b[0m\n\u001b[1;32m--> 442\u001b[1;33m                 results, maps, _ = val.run(data_dict,\n\u001b[0m\u001b[0;32m    443\u001b[0m                                            \u001b[0mbatch_size\u001b[0m\u001b[1;33m=\u001b[0m\u001b[0mbatch_size\u001b[0m \u001b[1;33m//\u001b[0m \u001b[0mWORLD_SIZE\u001b[0m \u001b[1;33m*\u001b[0m \u001b[1;36m2\u001b[0m\u001b[1;33m,\u001b[0m\u001b[1;33m\u001b[0m\u001b[1;33m\u001b[0m\u001b[0m\n\u001b[0;32m    444\u001b[0m                                            \u001b[0mimgsz\u001b[0m\u001b[1;33m=\u001b[0m\u001b[0mimgsz\u001b[0m\u001b[1;33m,\u001b[0m\u001b[1;33m\u001b[0m\u001b[1;33m\u001b[0m\u001b[0m\n",
      "\u001b[1;32m~\\Anaconda3\\lib\\site-packages\\torch\\autograd\\grad_mode.py\u001b[0m in \u001b[0;36mdecorate_context\u001b[1;34m(*args, **kwargs)\u001b[0m\n\u001b[0;32m     26\u001b[0m         \u001b[1;32mdef\u001b[0m \u001b[0mdecorate_context\u001b[0m\u001b[1;33m(\u001b[0m\u001b[1;33m*\u001b[0m\u001b[0margs\u001b[0m\u001b[1;33m,\u001b[0m \u001b[1;33m**\u001b[0m\u001b[0mkwargs\u001b[0m\u001b[1;33m)\u001b[0m\u001b[1;33m:\u001b[0m\u001b[1;33m\u001b[0m\u001b[1;33m\u001b[0m\u001b[0m\n\u001b[0;32m     27\u001b[0m             \u001b[1;32mwith\u001b[0m \u001b[0mself\u001b[0m\u001b[1;33m.\u001b[0m\u001b[0m__class__\u001b[0m\u001b[1;33m(\u001b[0m\u001b[1;33m)\u001b[0m\u001b[1;33m:\u001b[0m\u001b[1;33m\u001b[0m\u001b[1;33m\u001b[0m\u001b[0m\n\u001b[1;32m---> 28\u001b[1;33m                 \u001b[1;32mreturn\u001b[0m \u001b[0mfunc\u001b[0m\u001b[1;33m(\u001b[0m\u001b[1;33m*\u001b[0m\u001b[0margs\u001b[0m\u001b[1;33m,\u001b[0m \u001b[1;33m**\u001b[0m\u001b[0mkwargs\u001b[0m\u001b[1;33m)\u001b[0m\u001b[1;33m\u001b[0m\u001b[1;33m\u001b[0m\u001b[0m\n\u001b[0m\u001b[0;32m     29\u001b[0m         \u001b[1;32mreturn\u001b[0m \u001b[0mcast\u001b[0m\u001b[1;33m(\u001b[0m\u001b[0mF\u001b[0m\u001b[1;33m,\u001b[0m \u001b[0mdecorate_context\u001b[0m\u001b[1;33m)\u001b[0m\u001b[1;33m\u001b[0m\u001b[1;33m\u001b[0m\u001b[0m\n\u001b[0;32m     30\u001b[0m \u001b[1;33m\u001b[0m\u001b[0m\n",
      "\u001b[1;32m~\\OneDrive - University of Surrey\\Documents\\GitHub\\dental_disease\\src\\val.py\u001b[0m in \u001b[0;36mrun\u001b[1;34m(data, weights, batch_size, imgsz, conf_thres, iou_thres, task, device, single_cls, augment, verbose, save_txt, save_hybrid, save_conf, save_json, project, name, exist_ok, half, model, dataloader, save_dir, plots, callbacks, compute_loss, prefix)\u001b[0m\n\u001b[0;32m    186\u001b[0m         \u001b[0mlb\u001b[0m \u001b[1;33m=\u001b[0m \u001b[1;33m[\u001b[0m\u001b[0mtargets\u001b[0m\u001b[1;33m[\u001b[0m\u001b[0mtargets\u001b[0m\u001b[1;33m[\u001b[0m\u001b[1;33m:\u001b[0m\u001b[1;33m,\u001b[0m \u001b[1;36m0\u001b[0m\u001b[1;33m]\u001b[0m \u001b[1;33m==\u001b[0m \u001b[0mi\u001b[0m\u001b[1;33m,\u001b[0m \u001b[1;36m1\u001b[0m\u001b[1;33m:\u001b[0m\u001b[1;33m]\u001b[0m \u001b[1;32mfor\u001b[0m \u001b[0mi\u001b[0m \u001b[1;32min\u001b[0m \u001b[0mrange\u001b[0m\u001b[1;33m(\u001b[0m\u001b[0mnb\u001b[0m\u001b[1;33m)\u001b[0m\u001b[1;33m]\u001b[0m \u001b[1;32mif\u001b[0m \u001b[0msave_hybrid\u001b[0m \u001b[1;32melse\u001b[0m \u001b[1;33m[\u001b[0m\u001b[1;33m]\u001b[0m  \u001b[1;31m# for autolabelling\u001b[0m\u001b[1;33m\u001b[0m\u001b[1;33m\u001b[0m\u001b[0m\n\u001b[0;32m    187\u001b[0m         \u001b[0mt\u001b[0m \u001b[1;33m=\u001b[0m \u001b[0mtime_sync\u001b[0m\u001b[1;33m(\u001b[0m\u001b[1;33m)\u001b[0m\u001b[1;33m\u001b[0m\u001b[1;33m\u001b[0m\u001b[0m\n\u001b[1;32m--> 188\u001b[1;33m         \u001b[0mout\u001b[0m \u001b[1;33m=\u001b[0m \u001b[0mnon_max_suppression\u001b[0m\u001b[1;33m(\u001b[0m\u001b[0mout\u001b[0m\u001b[1;33m,\u001b[0m \u001b[0mconf_thres\u001b[0m\u001b[1;33m,\u001b[0m \u001b[0miou_thres\u001b[0m\u001b[1;33m,\u001b[0m \u001b[0mlabels\u001b[0m\u001b[1;33m=\u001b[0m\u001b[0mlb\u001b[0m\u001b[1;33m,\u001b[0m \u001b[0mmulti_label\u001b[0m\u001b[1;33m=\u001b[0m\u001b[1;32mTrue\u001b[0m\u001b[1;33m,\u001b[0m \u001b[0magnostic\u001b[0m\u001b[1;33m=\u001b[0m\u001b[0msingle_cls\u001b[0m\u001b[1;33m)\u001b[0m\u001b[1;33m\u001b[0m\u001b[1;33m\u001b[0m\u001b[0m\n\u001b[0m\u001b[0;32m    189\u001b[0m         \u001b[0mt2\u001b[0m \u001b[1;33m+=\u001b[0m \u001b[0mtime_sync\u001b[0m\u001b[1;33m(\u001b[0m\u001b[1;33m)\u001b[0m \u001b[1;33m-\u001b[0m \u001b[0mt\u001b[0m\u001b[1;33m\u001b[0m\u001b[1;33m\u001b[0m\u001b[0m\n\u001b[0;32m    190\u001b[0m \u001b[1;33m\u001b[0m\u001b[0m\n",
      "\u001b[1;32m~\\OneDrive - University of Surrey\\Documents\\GitHub\\dental_disease\\src\\utils\\general.py\u001b[0m in \u001b[0;36mnon_max_suppression\u001b[1;34m(prediction, conf_thres, iou_thres, classes, agnostic, multi_label, labels, max_det)\u001b[0m\n\u001b[0;32m    606\u001b[0m         \u001b[0mc\u001b[0m \u001b[1;33m=\u001b[0m \u001b[0mx\u001b[0m\u001b[1;33m[\u001b[0m\u001b[1;33m:\u001b[0m\u001b[1;33m,\u001b[0m \u001b[1;36m5\u001b[0m\u001b[1;33m:\u001b[0m\u001b[1;36m6\u001b[0m\u001b[1;33m]\u001b[0m \u001b[1;33m*\u001b[0m \u001b[1;33m(\u001b[0m\u001b[1;36m0\u001b[0m \u001b[1;32mif\u001b[0m \u001b[0magnostic\u001b[0m \u001b[1;32melse\u001b[0m \u001b[0mmax_wh\u001b[0m\u001b[1;33m)\u001b[0m  \u001b[1;31m# classes\u001b[0m\u001b[1;33m\u001b[0m\u001b[1;33m\u001b[0m\u001b[0m\n\u001b[0;32m    607\u001b[0m         \u001b[0mboxes\u001b[0m\u001b[1;33m,\u001b[0m \u001b[0mscores\u001b[0m \u001b[1;33m=\u001b[0m \u001b[0mx\u001b[0m\u001b[1;33m[\u001b[0m\u001b[1;33m:\u001b[0m\u001b[1;33m,\u001b[0m \u001b[1;33m:\u001b[0m\u001b[1;36m4\u001b[0m\u001b[1;33m]\u001b[0m \u001b[1;33m+\u001b[0m \u001b[0mc\u001b[0m\u001b[1;33m,\u001b[0m \u001b[0mx\u001b[0m\u001b[1;33m[\u001b[0m\u001b[1;33m:\u001b[0m\u001b[1;33m,\u001b[0m \u001b[1;36m4\u001b[0m\u001b[1;33m]\u001b[0m  \u001b[1;31m# boxes (offset by class), scores\u001b[0m\u001b[1;33m\u001b[0m\u001b[1;33m\u001b[0m\u001b[0m\n\u001b[1;32m--> 608\u001b[1;33m         \u001b[0mi\u001b[0m \u001b[1;33m=\u001b[0m \u001b[0mtorchvision\u001b[0m\u001b[1;33m.\u001b[0m\u001b[0mops\u001b[0m\u001b[1;33m.\u001b[0m\u001b[0mnms\u001b[0m\u001b[1;33m(\u001b[0m\u001b[0mboxes\u001b[0m\u001b[1;33m,\u001b[0m \u001b[0mscores\u001b[0m\u001b[1;33m,\u001b[0m \u001b[0miou_thres\u001b[0m\u001b[1;33m)\u001b[0m  \u001b[1;31m# NMS\u001b[0m\u001b[1;33m\u001b[0m\u001b[1;33m\u001b[0m\u001b[0m\n\u001b[0m\u001b[0;32m    609\u001b[0m         \u001b[1;32mif\u001b[0m \u001b[0mi\u001b[0m\u001b[1;33m.\u001b[0m\u001b[0mshape\u001b[0m\u001b[1;33m[\u001b[0m\u001b[1;36m0\u001b[0m\u001b[1;33m]\u001b[0m \u001b[1;33m>\u001b[0m \u001b[0mmax_det\u001b[0m\u001b[1;33m:\u001b[0m  \u001b[1;31m# limit detections\u001b[0m\u001b[1;33m\u001b[0m\u001b[1;33m\u001b[0m\u001b[0m\n\u001b[0;32m    610\u001b[0m             \u001b[0mi\u001b[0m \u001b[1;33m=\u001b[0m \u001b[0mi\u001b[0m\u001b[1;33m[\u001b[0m\u001b[1;33m:\u001b[0m\u001b[0mmax_det\u001b[0m\u001b[1;33m]\u001b[0m\u001b[1;33m\u001b[0m\u001b[1;33m\u001b[0m\u001b[0m\n",
      "\u001b[1;32m~\\Anaconda3\\lib\\site-packages\\torchvision\\ops\\boxes.py\u001b[0m in \u001b[0;36mnms\u001b[1;34m(boxes, scores, iou_threshold)\u001b[0m\n\u001b[0;32m     33\u001b[0m     \"\"\"\n\u001b[0;32m     34\u001b[0m     \u001b[0m_assert_has_ops\u001b[0m\u001b[1;33m(\u001b[0m\u001b[1;33m)\u001b[0m\u001b[1;33m\u001b[0m\u001b[1;33m\u001b[0m\u001b[0m\n\u001b[1;32m---> 35\u001b[1;33m     \u001b[1;32mreturn\u001b[0m \u001b[0mtorch\u001b[0m\u001b[1;33m.\u001b[0m\u001b[0mops\u001b[0m\u001b[1;33m.\u001b[0m\u001b[0mtorchvision\u001b[0m\u001b[1;33m.\u001b[0m\u001b[0mnms\u001b[0m\u001b[1;33m(\u001b[0m\u001b[0mboxes\u001b[0m\u001b[1;33m,\u001b[0m \u001b[0mscores\u001b[0m\u001b[1;33m,\u001b[0m \u001b[0miou_threshold\u001b[0m\u001b[1;33m)\u001b[0m\u001b[1;33m\u001b[0m\u001b[1;33m\u001b[0m\u001b[0m\n\u001b[0m\u001b[0;32m     36\u001b[0m \u001b[1;33m\u001b[0m\u001b[0m\n\u001b[0;32m     37\u001b[0m \u001b[1;33m\u001b[0m\u001b[0m\n",
      "\u001b[1;31mKeyboardInterrupt\u001b[0m: "
     ]
    }
   ],
   "source": [
    "## DONT USE THIS#### nEED TO CHANGE IT.\n",
    "import os\n",
    "os.environ['KMP_DUPLICATE_LIB_OK']='True'\n",
    "%run -i ../src/train.py --data ../data/cyolo.yaml --batch-size 20 --epochs 80 --bcc_epoch 0 --device 0 --name test"
   ]
  },
  {
   "cell_type": "markdown",
   "id": "6a2f983b-a95a-49f9-a539-157bb1df1a96",
   "metadata": {},
   "source": [
    "## 1.1  CSall (Dataset 1)"
   ]
  },
  {
   "cell_type": "code",
   "execution_count": 1,
   "id": "0a473999-6457-4943-8cda-eb889f6978ff",
   "metadata": {},
   "outputs": [
    {
     "name": "stderr",
     "output_type": "stream",
     "text": [
      "YOLOv5  2022-1-18 torch 1.10.1+cu113 CUDA:0 (NVIDIA GeForce RTX 3090, 24575.5MB)\n",
      "\n",
      "\u001b[34m\u001b[1mhyperparameters: \u001b[0mlr0=0.01, lrf=0.2, momentum=0.937, weight_decay=0.0005, warmup_epochs=3.0, warmup_momentum=0.8, warmup_bias_lr=0.1, box=0.05, obj=1.0, cls=0.5, cls_pw=1.0, obj_pw=1.0, iou_t=0.2, anchor_t=4.0, fl_gamma=0, hsv_h=0.015, hsv_s=0.7, hsv_v=0.4, degrees=0.0, translate=0.1, scale=0.5, shear=0.0, perspective=0.0, flipud=0.0, fliplr=0.5, mosaic=1.0, mixup=0.0, copy_paste=0.0\n",
      "\u001b[34m\u001b[1mTensorBoard: \u001b[0mStart with 'tensorboard --logdir runs\\train', view at http://localhost:6006/\n"
     ]
    },
    {
     "name": "stdout",
     "output_type": "stream",
     "text": [
      "\u001b[34m\u001b[1mtrain: \u001b[0mbcc_epoch=0, confusion_matrix_diagonal_prior_hyp=0.1, convergence_threshold_hyp=1e-06, qtfilter_epoch=-1, qt_thres_mode=, qt_thres=0.0, hybrid_entropy_thres=0.0, hybrid_conf_thres=0.0, weights=yolov5s.pt, cfg=, data=../data/All_Volunteers_Crowdsourced.yaml, hyp=../data/hyps/hyp.scratch.yaml, epochs=10, batch_size=20, imgsz=640, rect=False, resume=False, nosave=False, noval=False, noautoanchor=False, evolve=None, bucket=, cache=None, image_weights=False, device=0, multi_scale=False, single_cls=False, adam=False, sync_bn=False, workers=8, project=runs/train, entity=None, name=LargeDS_cyolo, exist_ok=False, quad=False, linear_lr=False, label_smoothing=0.0, upload_dataset=False, bbox_interval=-1, save_period=-1, artifact_alias=latest, local_rank=-1, freeze=0, patience=1100\n",
      "\u001b[34m\u001b[1mgithub: \u001b[0mskipping check (not a git repository), for updates see https://github.com/ultralytics/yolov5\n",
      "device:  cuda:0\n"
     ]
    },
    {
     "name": "stderr",
     "output_type": "stream",
     "text": [
      "\u001b[34m\u001b[1mwandb\u001b[0m: Currently logged in as: \u001b[33mdddetection\u001b[0m (use `wandb login --relogin` to force relogin)\n"
     ]
    },
    {
     "data": {
      "text/html": [
       "\n",
       "                    Syncing run <strong><a href=\"https://wandb.ai/dddetection/YOLOv5/runs/175wp5aq\" target=\"_blank\">LargeDS_cyolo</a></strong> to <a href=\"https://wandb.ai/dddetection/YOLOv5\" target=\"_blank\">Weights & Biases</a> (<a href=\"https://docs.wandb.com/integrations/jupyter.html\" target=\"_blank\">docs</a>).<br/>\n",
       "\n",
       "                "
      ],
      "text/plain": [
       "<IPython.core.display.HTML object>"
      ]
     },
     "metadata": {},
     "output_type": "display_data"
    },
    {
     "name": "stderr",
     "output_type": "stream",
     "text": [
      "Overriding model.yaml nc=80 with nc=3\n",
      "\n",
      "                 from  n    params  module                                  arguments                     \n",
      "  0                -1  1      3520  models.common.Conv                      [3, 32, 6, 2, 2]              \n",
      "  1                -1  1     18560  models.common.Conv                      [32, 64, 3, 2]                \n",
      "  2                -1  1     18816  models.common.C3                        [64, 64, 1]                   \n",
      "  3                -1  1     73984  models.common.Conv                      [64, 128, 3, 2]               \n",
      "  4                -1  2    115712  models.common.C3                        [128, 128, 2]                 \n",
      "  5                -1  1    295424  models.common.Conv                      [128, 256, 3, 2]              \n",
      "  6                -1  3    625152  models.common.C3                        [256, 256, 3]                 \n",
      "  7                -1  1   1180672  models.common.Conv                      [256, 512, 3, 2]              \n",
      "  8                -1  1   1182720  models.common.C3                        [512, 512, 1]                 \n",
      "  9                -1  1    656896  models.common.SPPF                      [512, 512, 5]                 \n",
      " 10                -1  1    131584  models.common.Conv                      [512, 256, 1, 1]              \n",
      " 11                -1  1         0  torch.nn.modules.upsampling.Upsample    [None, 2, 'nearest']          \n",
      " 12           [-1, 6]  1         0  models.common.Concat                    [1]                           \n",
      " 13                -1  1    361984  models.common.C3                        [512, 256, 1, False]          \n",
      " 14                -1  1     33024  models.common.Conv                      [256, 128, 1, 1]              \n",
      " 15                -1  1         0  torch.nn.modules.upsampling.Upsample    [None, 2, 'nearest']          \n",
      " 16           [-1, 4]  1         0  models.common.Concat                    [1]                           \n",
      " 17                -1  1     90880  models.common.C3                        [256, 128, 1, False]          \n",
      " 18                -1  1    147712  models.common.Conv                      [128, 128, 3, 2]              \n",
      " 19          [-1, 14]  1         0  models.common.Concat                    [1]                           \n",
      " 20                -1  1    296448  models.common.C3                        [256, 256, 1, False]          \n",
      " 21                -1  1    590336  models.common.Conv                      [256, 256, 3, 2]              \n",
      " 22          [-1, 10]  1         0  models.common.Concat                    [1]                           \n",
      " 23                -1  1   1182720  models.common.C3                        [512, 512, 1, False]          \n",
      " 24      [17, 20, 23]  1     21576  models.yolo.Detect                      [3, [[10, 13, 16, 30, 33, 23], [30, 61, 62, 45, 59, 119], [116, 90, 156, 198, 373, 326]], [128, 256, 512]]\n",
      "C:\\Users\\rb01243\\Anaconda3\\lib\\site-packages\\torch\\functional.py:445: UserWarning: torch.meshgrid: in an upcoming release, it will be required to pass the indexing argument. (Triggered internally at  ..\\aten\\src\\ATen\\native\\TensorShape.cpp:2157.)\n",
      "  return _VF.meshgrid(tensors, **kwargs)  # type: ignore[attr-defined]\n",
      "Model Summary: 270 layers, 7027720 parameters, 7027720 gradients, 15.9 GFLOPs\n",
      "\n",
      "Transferred 344/350 items from yolov5s.pt\n",
      "Scaled weight_decay = 0.00046875\n",
      "\u001b[34m\u001b[1moptimizer:\u001b[0m SGD with parameter groups 57 weight, 60 weight (no decay), 60 bias\n",
      "\u001b[34m\u001b[1mtrain: \u001b[0mScanning '..\\data\\datasets\\All_Volunteers_Crowdsourced\\labels\\train' images and labels...2102 found, 0 missing, 0 empty, 0 corrupted: 100%|██████████| 2102/2102 [00:04<00:00, 498.87it/s]\n",
      "\u001b[34m\u001b[1mtrain: \u001b[0mWARNING: Cache directory ..\\data\\datasets\\All_Volunteers_Crowdsourced\\labels is not writeable: [WinError 183] Cannot create a file when that file already exists: '..\\\\data\\\\datasets\\\\All_Volunteers_Crowdsourced\\\\labels\\\\train.cache.npy' -> '..\\\\data\\\\datasets\\\\All_Volunteers_Crowdsourced\\\\labels\\\\train.cache'\n",
      "\u001b[34m\u001b[1mval: \u001b[0mScanning '..\\data\\datasets\\All_Volunteers_IID\\labels\\val' images and labels...860 found, 0 missing, 0 empty, 2 corrupted: 100%|██████████| 860/860 [00:04<00:00, 204.75it/s]\n",
      "\u001b[34m\u001b[1mval: \u001b[0mWARNING: Ignoring corrupted image and/or label ..\\data\\datasets\\All_Volunteers_IID\\images\\val\\Unknown-X-20191113-153036-XKNMQ7OPXKU-3.1f089314ef9273e4647b.JPG: non-normalized or out of bounds coordinate labels\n",
      "\u001b[34m\u001b[1mval: \u001b[0mWARNING: Ignoring corrupted image and/or label ..\\data\\datasets\\All_Volunteers_IID\\images\\val\\Unknown-X-20191113-153036-XKNMQ7OPXKU-3.9c62fc6bf51ff6f1eafe.JPG: non-normalized or out of bounds coordinate labels\n",
      "\u001b[34m\u001b[1mval: \u001b[0mWARNING: Cache directory ..\\data\\datasets\\All_Volunteers_IID\\labels is not writeable: [WinError 183] Cannot create a file when that file already exists: '..\\\\data\\\\datasets\\\\All_Volunteers_IID\\\\labels\\\\val.cache.npy' -> '..\\\\data\\\\datasets\\\\All_Volunteers_IID\\\\labels\\\\val.cache'\n"
     ]
    },
    {
     "name": "stdout",
     "output_type": "stream",
     "text": [
      "Plotting labels... \n"
     ]
    },
    {
     "name": "stderr",
     "output_type": "stream",
     "text": [
      "Image sizes 640 train, 640 val\n",
      "Using 8 dataloader workers\n",
      "Logging results to \u001b[1mruns\\train\\LargeDS_cyolo\u001b[0m\n",
      "Starting training for 10 epochs...\n",
      "\n",
      "     Epoch   gpu_mem       box       obj       cls    labels  img_size\n",
      "\n",
      "YOLO+BCC\n"
     ]
    },
    {
     "name": "stdout",
     "output_type": "stream",
     "text": [
      "\n",
      "\u001b[34m\u001b[1mautoanchor: \u001b[0mAnalyzing anchors... anchors/target = 5.24, Best Possible Recall (BPR) = 0.9988\n"
     ]
    },
    {
     "name": "stderr",
     "output_type": "stream",
     "text": [
      "       0/9     1.21G         0  0.009596         0        20       640: 100%|██████████| 106/106 [39:55<00:00, 22.60s/it]\n",
      "               Class     Images     Labels          P          R     mAP@.5 mAP@.5:.95: 100%|██████████| 22/22 [00:06<00:00,  3.39it/s]\n"
     ]
    },
    {
     "name": "stdout",
     "output_type": "stream",
     "text": [
      "                 all        858       2891    0.00101     0.0841   0.000566    0.00013\n"
     ]
    },
    {
     "name": "stderr",
     "output_type": "stream",
     "text": [
      "               Class     Images     Labels          P          R     mAP@.5 mAP@.5:.95: 100%|██████████| 106/106 [00:13<00:00,  7.88it/s]\n"
     ]
    },
    {
     "name": "stdout",
     "output_type": "stream",
     "text": [
      "                 all       2102      23339    0.00232     0.0453     0.0012   0.000252\n"
     ]
    },
    {
     "name": "stderr",
     "output_type": "stream",
     "text": [
      "\n",
      "     Epoch   gpu_mem       box       obj       cls    labels  img_size\n",
      "\n",
      "YOLO+BCC\n",
      "       1/9     1.52G         0  0.002521         0        20       640: 100%|██████████| 106/106 [40:01<00:00, 22.65s/it]\n",
      "               Class     Images     Labels          P          R     mAP@.5 mAP@.5:.95: 100%|██████████| 22/22 [00:05<00:00,  3.83it/s]\n"
     ]
    },
    {
     "name": "stdout",
     "output_type": "stream",
     "text": [
      "                 all        858       2891    0.00132     0.0294   0.000691   0.000139\n"
     ]
    },
    {
     "name": "stderr",
     "output_type": "stream",
     "text": [
      "               Class     Images     Labels          P          R     mAP@.5 mAP@.5:.95: 100%|██████████| 106/106 [00:12<00:00,  8.36it/s]\n"
     ]
    },
    {
     "name": "stdout",
     "output_type": "stream",
     "text": [
      "                 all       2102      23339     0.0037     0.0363    0.00197   0.000459\n"
     ]
    },
    {
     "name": "stderr",
     "output_type": "stream",
     "text": [
      "\n",
      "     Epoch   gpu_mem       box       obj       cls    labels  img_size\n",
      "\n",
      "YOLO+BCC\n",
      "       2/9     1.59G         0  0.001231         0        20       640: 100%|██████████| 106/106 [40:31<00:00, 22.94s/it]\n",
      "               Class     Images     Labels          P          R     mAP@.5 mAP@.5:.95: 100%|██████████| 22/22 [00:05<00:00,  4.04it/s]\n"
     ]
    },
    {
     "name": "stdout",
     "output_type": "stream",
     "text": [
      "                 all        858       2891    0.00142    0.00357   0.000723   0.000131\n"
     ]
    },
    {
     "name": "stderr",
     "output_type": "stream",
     "text": [
      "               Class     Images     Labels          P          R     mAP@.5 mAP@.5:.95: 100%|██████████| 106/106 [00:12<00:00,  8.65it/s]\n"
     ]
    },
    {
     "name": "stdout",
     "output_type": "stream",
     "text": [
      "                 all       2102      23339    0.00391    0.00384    0.00199   0.000414\n"
     ]
    },
    {
     "name": "stderr",
     "output_type": "stream",
     "text": [
      "\n",
      "     Epoch   gpu_mem       box       obj       cls    labels  img_size\n",
      "\n",
      "YOLO+BCC\n",
      "       3/9     1.54G         0 0.0007242         0        20       640: 100%|██████████| 106/106 [40:07<00:00, 22.71s/it]\n",
      "               Class     Images     Labels          P          R     mAP@.5 mAP@.5:.95: 100%|██████████| 22/22 [00:04<00:00,  5.46it/s]\n"
     ]
    },
    {
     "name": "stdout",
     "output_type": "stream",
     "text": [
      "                 all        858       2891    0.00185    0.00058   0.000949   0.000175\n"
     ]
    },
    {
     "name": "stderr",
     "output_type": "stream",
     "text": [
      "               Class     Images     Labels          P          R     mAP@.5 mAP@.5:.95: 100%|██████████| 106/106 [00:10<00:00, 10.46it/s]\n"
     ]
    },
    {
     "name": "stdout",
     "output_type": "stream",
     "text": [
      "                 all       2102      23339    0.00515   0.000913    0.00258   0.000453\n"
     ]
    },
    {
     "name": "stderr",
     "output_type": "stream",
     "text": [
      "\n",
      "     Epoch   gpu_mem       box       obj       cls    labels  img_size\n",
      "\n",
      "YOLO+BCC\n",
      "       4/9     1.61G         0 0.0004784         0        20       640: 100%|██████████| 106/106 [40:07<00:00, 22.71s/it]\n",
      "               Class     Images     Labels          P          R     mAP@.5 mAP@.5:.95: 100%|██████████| 22/22 [00:03<00:00,  6.43it/s]\n"
     ]
    },
    {
     "name": "stdout",
     "output_type": "stream",
     "text": [
      "                 all        858       2891    0.00392   0.000259    0.00198   0.000198\n"
     ]
    },
    {
     "name": "stderr",
     "output_type": "stream",
     "text": [
      "               Class     Images     Labels          P          R     mAP@.5 mAP@.5:.95: 100%|██████████| 106/106 [00:09<00:00, 11.07it/s]\n"
     ]
    },
    {
     "name": "stdout",
     "output_type": "stream",
     "text": [
      "                 all       2102      23339    0.00228   0.000116    0.00114   0.000268\n"
     ]
    },
    {
     "name": "stderr",
     "output_type": "stream",
     "text": [
      "\n",
      "     Epoch   gpu_mem       box       obj       cls    labels  img_size\n",
      "\n",
      "YOLO+BCC\n",
      "       5/9     1.59G         0 0.0003453         0        20       640: 100%|██████████| 106/106 [40:13<00:00, 22.77s/it]\n",
      "               Class     Images     Labels          P          R     mAP@.5 mAP@.5:.95: 100%|██████████| 22/22 [00:03<00:00,  7.17it/s]\n"
     ]
    },
    {
     "name": "stdout",
     "output_type": "stream",
     "text": [
      "                 all        858          0          0          0          0          0\n"
     ]
    },
    {
     "name": "stderr",
     "output_type": "stream",
     "text": [
      "               Class     Images     Labels          P          R     mAP@.5 mAP@.5:.95: 100%|██████████| 106/106 [00:09<00:00, 11.15it/s]\n"
     ]
    },
    {
     "name": "stdout",
     "output_type": "stream",
     "text": [
      "                 all       2102      23339    0.00187   5.27e-05   0.000955   9.55e-05\n"
     ]
    },
    {
     "name": "stderr",
     "output_type": "stream",
     "text": [
      "\n",
      "     Epoch   gpu_mem       box       obj       cls    labels  img_size\n",
      "\n",
      "YOLO+BCC\n",
      "       6/9     1.53G         0 0.0002676         0        20       640: 100%|██████████| 106/106 [40:18<00:00, 22.82s/it]\n",
      "               Class     Images     Labels          P          R     mAP@.5 mAP@.5:.95: 100%|██████████| 22/22 [00:02<00:00,  7.66it/s]\n"
     ]
    },
    {
     "name": "stdout",
     "output_type": "stream",
     "text": [
      "                 all        858          0          0          0          0          0\n"
     ]
    },
    {
     "name": "stderr",
     "output_type": "stream",
     "text": [
      "               Class     Images     Labels          P          R     mAP@.5 mAP@.5:.95: 100%|██████████| 106/106 [00:09<00:00, 11.50it/s]\n"
     ]
    },
    {
     "name": "stdout",
     "output_type": "stream",
     "text": [
      "                 all       2102          0          0          0          0          0\n"
     ]
    },
    {
     "name": "stderr",
     "output_type": "stream",
     "text": [
      "\n",
      "     Epoch   gpu_mem       box       obj       cls    labels  img_size\n",
      "\n",
      "YOLO+BCC\n",
      "       7/9     1.53G         0 0.0002187         0        20       640: 100%|██████████| 106/106 [40:17<00:00, 22.80s/it]\n",
      "               Class     Images     Labels          P          R     mAP@.5 mAP@.5:.95: 100%|██████████| 22/22 [00:02<00:00,  8.91it/s]\n"
     ]
    },
    {
     "name": "stdout",
     "output_type": "stream",
     "text": [
      "                 all        858          0          0          0          0          0\n"
     ]
    },
    {
     "name": "stderr",
     "output_type": "stream",
     "text": [
      "               Class     Images     Labels          P          R     mAP@.5 mAP@.5:.95: 100%|██████████| 106/106 [00:09<00:00, 11.69it/s]\n"
     ]
    },
    {
     "name": "stdout",
     "output_type": "stream",
     "text": [
      "                 all       2102          0          0          0          0          0\n"
     ]
    },
    {
     "name": "stderr",
     "output_type": "stream",
     "text": [
      "\n",
      "     Epoch   gpu_mem       box       obj       cls    labels  img_size\n",
      "\n",
      "YOLO+BCC\n",
      "       8/9     1.55G         0 0.0001841         0        20       640: 100%|██████████| 106/106 [40:01<00:00, 22.65s/it]\n",
      "               Class     Images     Labels          P          R     mAP@.5 mAP@.5:.95: 100%|██████████| 22/22 [00:02<00:00,  8.48it/s]\n"
     ]
    },
    {
     "name": "stdout",
     "output_type": "stream",
     "text": [
      "                 all        858          0          0          0          0          0\n"
     ]
    },
    {
     "name": "stderr",
     "output_type": "stream",
     "text": [
      "               Class     Images     Labels          P          R     mAP@.5 mAP@.5:.95: 100%|██████████| 106/106 [00:09<00:00, 11.39it/s]\n"
     ]
    },
    {
     "name": "stdout",
     "output_type": "stream",
     "text": [
      "                 all       2102          0          0          0          0          0\n"
     ]
    },
    {
     "name": "stderr",
     "output_type": "stream",
     "text": [
      "\n",
      "     Epoch   gpu_mem       box       obj       cls    labels  img_size\n",
      "\n",
      "YOLO+BCC\n",
      "       9/9     1.48G         0 0.0001593         0        20       640: 100%|██████████| 106/106 [39:56<00:00, 22.61s/it]\n",
      "               Class     Images     Labels          P          R     mAP@.5 mAP@.5:.95: 100%|██████████| 22/22 [00:03<00:00,  7.06it/s]\n"
     ]
    },
    {
     "name": "stdout",
     "output_type": "stream",
     "text": [
      "                 all        858          0          0          0          0          0\n"
     ]
    },
    {
     "name": "stderr",
     "output_type": "stream",
     "text": [
      "               Class     Images     Labels          P          R     mAP@.5 mAP@.5:.95: 100%|██████████| 106/106 [00:10<00:00, 10.03it/s]\n"
     ]
    },
    {
     "name": "stdout",
     "output_type": "stream",
     "text": [
      "                 all       2102          0          0          0          0          0\n"
     ]
    },
    {
     "name": "stderr",
     "output_type": "stream",
     "text": [
      "\n",
      "10 epochs completed in 6.736 hours.\n",
      "Fusing layers... \n",
      "Model Summary: 213 layers, 7018216 parameters, 0 gradients, 15.8 GFLOPs\n",
      "               Class     Images     Labels          P          R     mAP@.5 mAP@.5:.95: 100%|██████████| 22/22 [00:02<00:00,  8.69it/s]\n"
     ]
    },
    {
     "name": "stdout",
     "output_type": "stream",
     "text": [
      "                 all        858          0          0          0          0          0\n",
      "\n",
      "Evaluating pycocotools mAP... saving runs\\train\\LargeDS_cyolo\\_predictions.json...\n",
      "\u001b[31m\u001b[1mrequirements:\u001b[0m pycocotools not found and is required by YOLOv5, attempting auto-update...\n"
     ]
    },
    {
     "name": "stderr",
     "output_type": "stream",
     "text": [
      "Fusing layers... \n"
     ]
    },
    {
     "name": "stdout",
     "output_type": "stream",
     "text": [
      "\u001b[31m\u001b[1mrequirements:\u001b[0m Command 'pip install 'pycocotools'' returned non-zero exit status 1.\n",
      "pycocotools unable to run: No module named 'pycocotools'\n"
     ]
    },
    {
     "name": "stderr",
     "output_type": "stream",
     "text": [
      "Model Summary: 213 layers, 7018216 parameters, 0 gradients, 15.8 GFLOPs\n",
      "               Class     Images     Labels          P          R     mAP@.5 mAP@.5:.95: 100%|██████████| 22/22 [00:02<00:00,  8.75it/s]\n"
     ]
    },
    {
     "name": "stdout",
     "output_type": "stream",
     "text": [
      "                 all        858       2891    0.00397   0.000259    0.00201   0.000201\n",
      "\n",
      "Evaluating pycocotools mAP... saving runs\\train\\LargeDS_cyolo\\_predictions.json...\n",
      "\u001b[31m\u001b[1mrequirements:\u001b[0m pycocotools not found and is required by YOLOv5, attempting auto-update...\n",
      "\u001b[31m\u001b[1mrequirements:\u001b[0m Command 'pip install 'pycocotools'' returned non-zero exit status 1.\n",
      "pycocotools unable to run: No module named 'pycocotools'\n",
      "Optimizer stripped from runs\\train\\LargeDS_cyolo\\weights\\last.pt, 14.3MB\n",
      "Optimizer stripped from runs\\train\\LargeDS_cyolo\\weights\\best.pt, 14.3MB\n"
     ]
    },
    {
     "data": {
      "text/html": [
       "<br/>Waiting for W&B process to finish, PID 11536... <strong style=\"color:green\">(success).</strong>"
      ],
      "text/plain": [
       "<IPython.core.display.HTML object>"
      ]
     },
     "metadata": {},
     "output_type": "display_data"
    },
    {
     "data": {
      "application/vnd.jupyter.widget-view+json": {
       "model_id": "",
       "version_major": 2,
       "version_minor": 0
      },
      "text/plain": [
       "VBox(children=(Label(value=' 50.35MB of 50.35MB uploaded (0.00MB deduped)\\r'), FloatProgress(value=1.0, max=1.…"
      ]
     },
     "metadata": {},
     "output_type": "display_data"
    },
    {
     "data": {
      "text/html": [
       "<style>\n",
       "    table.wandb td:nth-child(1) { padding: 0 10px; text-align: right }\n",
       "    .wandb-row { display: flex; flex-direction: row; flex-wrap: wrap; width: 100% }\n",
       "    .wandb-col { display: flex; flex-direction: column; flex-basis: 100%; flex: 1; padding: 10px; }\n",
       "    </style>\n",
       "<div class=\"wandb-row\"><div class=\"wandb-col\">\n",
       "<h3>Run history:</h3><br/><table class=\"wandb\"><tr><td>metrics/mAP_0.5</td><td>▃▃▄▄█▁▁▁▁▁</td></tr><tr><td>metrics/mAP_0.5:0.95</td><td>▆▆▆▇█▁▁▁▁▁</td></tr><tr><td>metrics/precision</td><td>▃▃▄▄█▁▁▁▁▁</td></tr><tr><td>metrics/recall</td><td>█▃▁▁▁▁▁▁▁▁</td></tr><tr><td>train/box_loss</td><td>▁▁▁▁▁▁▁▁▁▁</td></tr><tr><td>train/cls_loss</td><td>▁▁▁▁▁▁▁▁▁▁</td></tr><tr><td>train/obj_loss</td><td>█▃▂▁▁▁▁▁▁▁</td></tr><tr><td>val/box_loss</td><td>▇█▇▆▅▅▄▂▁▁</td></tr><tr><td>val/cls_loss</td><td>▅▅▄█▇▅▅▃▂▁</td></tr><tr><td>val/obj_loss</td><td>▁▁▃▄▅▆▆▇██</td></tr><tr><td>x/lr0</td><td>▁▄▆▇██▇▆▅▄</td></tr><tr><td>x/lr1</td><td>▁▄▆▇██▇▆▅▄</td></tr><tr><td>x/lr2</td><td>█▇▆▆▅▄▃▂▁▁</td></tr></table><br/></div><div class=\"wandb-col\">\n",
       "<h3>Run summary:</h3><br/><table class=\"wandb\"><tr><td>metrics/mAP_0.5</td><td>0.0</td></tr><tr><td>metrics/mAP_0.5:0.95</td><td>0.0</td></tr><tr><td>metrics/precision</td><td>0.0</td></tr><tr><td>metrics/recall</td><td>0.0</td></tr><tr><td>train/box_loss</td><td>0.0</td></tr><tr><td>train/cls_loss</td><td>0.0</td></tr><tr><td>train/obj_loss</td><td>0.00016</td></tr><tr><td>val/box_loss</td><td>0.11513</td></tr><tr><td>val/cls_loss</td><td>0.04014</td></tr><tr><td>val/obj_loss</td><td>0.03681</td></tr><tr><td>x/lr0</td><td>0.0022</td></tr><tr><td>x/lr1</td><td>0.0022</td></tr><tr><td>x/lr2</td><td>0.0022</td></tr></table>\n",
       "</div></div>\n",
       "Synced 6 W&B file(s), 332 media file(s), 1 artifact file(s) and 0 other file(s)\n",
       "<br/>Synced <strong style=\"color:#cdcd00\">LargeDS_cyolo</strong>: <a href=\"https://wandb.ai/dddetection/YOLOv5/runs/175wp5aq\" target=\"_blank\">https://wandb.ai/dddetection/YOLOv5/runs/175wp5aq</a><br/>\n",
       "Find logs at: <code>.\\wandb\\run-20220203_114112-175wp5aq\\logs</code><br/>\n"
      ],
      "text/plain": [
       "<IPython.core.display.HTML object>"
      ]
     },
     "metadata": {},
     "output_type": "display_data"
    },
    {
     "name": "stderr",
     "output_type": "stream",
     "text": [
      "Results saved to \u001b[1mruns\\train\\LargeDS_cyolo\u001b[0m\n"
     ]
    }
   ],
   "source": [
    "import os\n",
    "os.environ['KMP_DUPLICATE_LIB_OK']='True'\n",
    "%run -i ../src/train.py --data ../data/All_Volunteers_Crowdsourced.yaml --batch-size 20 --epochs 10 --bcc_epoch 0 --device 0 --name LargeDS_cyolo\n",
    "#--batch-size 100"
   ]
  },
  {
   "cell_type": "code",
   "execution_count": 2,
   "id": "af04f64d-11fa-4678-a422-7b16a5eb734f",
   "metadata": {},
   "outputs": [
    {
     "name": "stdout",
     "output_type": "stream",
     "text": [
      "\u001b[34m\u001b[1mval: \u001b[0mdata=../data/All_Volunteers_Crowdsourced.yaml, weights=['runs/train/Expset2_all_cyolo136/weights/best.pt'], batch_size=32, imgsz=640, conf_thres=0.001, iou_thres=0.6, task=test, device=, single_cls=False, augment=False, verbose=False, save_txt=False, save_hybrid=False, save_conf=False, save_json=False, project=runs/val, name=Expset2_all_cyolo136_test, exist_ok=False, half=False\n",
      "                 all        100        432    0.00203     0.0149    0.00103   0.000154\n",
      "     calculus-plaque        100        316    0.00251     0.0127    0.00127    0.00019\n",
      "       dental-caries        100        116    0.00155     0.0172   0.000786   0.000118\n",
      "Speed: 0.7ms pre-process, 6.1ms inference, 4.5ms NMS per image at shape (32, 3, 640, 640)\n",
      "Results saved to \u001b[1mruns\\val\\Expset2_all_cyolo136_test\u001b[0m\n"
     ]
    },
    {
     "name": "stderr",
     "output_type": "stream",
     "text": [
      "YOLOv5  2022-1-18 torch 1.10.1+cu113 CUDA:0 (NVIDIA GeForce RTX 3090, 24575.5MB)\n",
      "\n",
      "Fusing layers... \n",
      "C:\\Users\\rb01243\\Anaconda3\\lib\\site-packages\\torch\\functional.py:445: UserWarning: torch.meshgrid: in an upcoming release, it will be required to pass the indexing argument. (Triggered internally at  ..\\aten\\src\\ATen\\native\\TensorShape.cpp:2157.)\n",
      "  return _VF.meshgrid(tensors, **kwargs)  # type: ignore[attr-defined]\n",
      "Model Summary: 213 layers, 7018216 parameters, 0 gradients, 15.8 GFLOPs\n",
      "\n",
      "\u001b[34m\u001b[1mtest: \u001b[0mScanning '..\\data\\datasets\\All_Volunteers_Crowdsourced\\labels\\test' images and labels...:   0%|          | 0/100 [00:00<?, ?it/s]\n",
      "\u001b[34m\u001b[1mtest: \u001b[0mScanning '..\\data\\datasets\\All_Volunteers_Crowdsourced\\labels\\test' images and labels...1 found, 0 missing, 0 empty, 0 corrupted:   1%|1         | 1/100 [00:03<05:10,  3.14s/it]\n",
      "\u001b[34m\u001b[1mtest: \u001b[0mScanning '..\\data\\datasets\\All_Volunteers_Crowdsourced\\labels\\test' images and labels...92 found, 0 missing, 0 empty, 0 corrupted:  92%|#########2| 92/100 [00:03<00:00, 39.92it/s]\n",
      "\u001b[34m\u001b[1mtest: \u001b[0mScanning '..\\data\\datasets\\All_Volunteers_Crowdsourced\\labels\\test' images and labels...100 found, 0 missing, 0 empty, 0 corrupted: 100%|##########| 100/100 [00:03<00:00, 30.82it/s]\n",
      "\u001b[34m\u001b[1mtest: \u001b[0mNew cache created: ..\\data\\datasets\\All_Volunteers_Crowdsourced\\labels\\test.cache\n",
      "\n",
      "               Class     Images     Labels          P          R     mAP@.5 mAP@.5:.95:   0%|          | 0/4 [00:00<?, ?it/s]\n",
      "               Class     Images     Labels          P          R     mAP@.5 mAP@.5:.95:  25%|##5       | 1/4 [00:01<00:04,  1.46s/it]\n",
      "               Class     Images     Labels          P          R     mAP@.5 mAP@.5:.95:  50%|#####     | 2/4 [00:02<00:01,  1.01it/s]\n",
      "               Class     Images     Labels          P          R     mAP@.5 mAP@.5:.95:  75%|#######5  | 3/4 [00:02<00:00,  1.21it/s]\n",
      "               Class     Images     Labels          P          R     mAP@.5 mAP@.5:.95: 100%|##########| 4/4 [00:03<00:00,  1.51it/s]\n",
      "               Class     Images     Labels          P          R     mAP@.5 mAP@.5:.95: 100%|##########| 4/4 [00:03<00:00,  1.26it/s]\n"
     ]
    }
   ],
   "source": [
    "os.environ['KMP_DUPLICATE_LIB_OK']='True'\n",
    "!python ../src/val.py --weights runs/train/LargeDS_cyolo/weights/best.pt --data ../data/All_Volunteers_Crowdsourced.yaml --task test --name LargeDS_cyolo_test"
   ]
  },
  {
   "cell_type": "markdown",
   "id": "4696eaf3-1714-4ef3-98fa-bf8c65819da9",
   "metadata": {},
   "source": [
    "## 1.2  CSexp (Dataset 2)"
   ]
  },
  {
   "cell_type": "code",
   "execution_count": null,
   "id": "9b714ba0-c9a3-49c9-bbb4-f7f3e21cc425",
   "metadata": {},
   "outputs": [],
   "source": []
  },
  {
   "cell_type": "markdown",
   "id": "e63ed56d-d6f7-4a26-afb3-c7ce47721b6c",
   "metadata": {},
   "source": [
    "## Analysis"
   ]
  },
  {
   "cell_type": "markdown",
   "id": "6c697e63-3378-4e26-92c9-7d724b732729",
   "metadata": {},
   "source": [
    "{ analysis goes here }"
   ]
  },
  {
   "cell_type": "markdown",
   "id": "303b45ce-e606-4285-af72-07574fea9976",
   "metadata": {},
   "source": [
    "# Experiment 2 (Crowd RCNN)\n",
    "\n",
    "### This section runs the experiments, prints results, and plots graphs for both dataset using the Crowd RCNN model."
   ]
  },
  {
   "cell_type": "markdown",
   "id": "9f483542-c475-4af0-839f-fb46f5390657",
   "metadata": {},
   "source": [
    "## 2.1  CSall (Dataset 1)"
   ]
  },
  {
   "cell_type": "code",
   "execution_count": null,
   "id": "9c738a97-1f88-4ac8-a31e-f30d1f95d4fd",
   "metadata": {},
   "outputs": [],
   "source": []
  },
  {
   "cell_type": "code",
   "execution_count": null,
   "id": "661586bb-a974-4827-bbe1-7544554ea747",
   "metadata": {},
   "outputs": [],
   "source": []
  },
  {
   "cell_type": "markdown",
   "id": "8b418459-5c7a-41fb-ad68-3778917e1c41",
   "metadata": {},
   "source": [
    "## 2.2  CSexp (Dataset 2)"
   ]
  },
  {
   "cell_type": "code",
   "execution_count": null,
   "id": "8aa25181-ee9b-416b-8196-c11290ce0902",
   "metadata": {},
   "outputs": [],
   "source": []
  },
  {
   "cell_type": "code",
   "execution_count": null,
   "id": "915bc5cf-1862-455f-a261-651e8e0a9599",
   "metadata": {},
   "outputs": [],
   "source": []
  },
  {
   "cell_type": "markdown",
   "id": "15e06c44-c3ba-4651-a722-4c73897f10a0",
   "metadata": {},
   "source": [
    "## Analysis"
   ]
  },
  {
   "cell_type": "markdown",
   "id": "78670b00-6e68-45b2-9c22-f6bc13dc4de9",
   "metadata": {},
   "source": [
    "{ analysis goes here }"
   ]
  },
  {
   "cell_type": "markdown",
   "id": "6f11d7f3-7d99-4f76-b240-ac3df05555ac",
   "metadata": {},
   "source": [
    "# Experiment 3 (YoloV5 IID)\n",
    "\n",
    "### This section runs the experiments, prints results, and plots graphs for ranomly selected ground truth labels for both dataset using the YoloV5 model."
   ]
  },
  {
   "cell_type": "markdown",
   "id": "8f3aab15-d2ea-44a9-92be-90f24cc3b6a9",
   "metadata": {},
   "source": [
    "## 3.1  CSall (Dataset 1)"
   ]
  },
  {
   "cell_type": "code",
   "execution_count": 1,
   "id": "f747a954-0d4f-4ed8-9f8d-c2d13d4a5d8b",
   "metadata": {},
   "outputs": [
    {
     "name": "stderr",
     "output_type": "stream",
     "text": [
      "\u001b[34m\u001b[1mwandb\u001b[0m: Currently logged in as: \u001b[33mdddetection\u001b[0m (use `wandb login --relogin` to force relogin)\n",
      "\u001b[34m\u001b[1mtrain: \u001b[0mweights=..\\yolov5-master\\yolov5s.pt, cfg=, data=../data/All_Volunteers_IID.yaml, hyp=..\\yolov5-master\\data\\hyps\\hyp.scratch.yaml, epochs=20, batch_size=20, imgsz=640, rect=False, resume=False, nosave=False, noval=False, noautoanchor=False, evolve=None, bucket=, cache=None, image_weights=False, device=0, multi_scale=False, single_cls=False, optimizer=SGD, sync_bn=False, workers=8, project=..\\yolov5-master\\runs\\train, name=testIIDZOON, exist_ok=False, quad=False, linear_lr=False, label_smoothing=0.0, patience=100, freeze=[0], save_period=-1, local_rank=-1, entity=None, upload_dataset=False, bbox_interval=-1, artifact_alias=latest\n",
      "YOLOv5  2022-1-18 torch 1.10.1+cu113 CUDA:0 (NVIDIA GeForce RTX 3090, 24576MiB)\n",
      "\n",
      "\u001b[34m\u001b[1mhyperparameters: \u001b[0mlr0=0.01, lrf=0.1, momentum=0.937, weight_decay=0.0005, warmup_epochs=3.0, warmup_momentum=0.8, warmup_bias_lr=0.1, box=0.05, cls=0.5, cls_pw=1.0, obj=1.0, obj_pw=1.0, iou_t=0.2, anchor_t=4.0, fl_gamma=0.0, hsv_h=0.015, hsv_s=0.7, hsv_v=0.4, degrees=0.0, translate=0.1, scale=0.5, shear=0.0, perspective=0.0, flipud=0.0, fliplr=0.5, mosaic=1.0, mixup=0.0, copy_paste=0.0\n",
      "\u001b[34m\u001b[1mTensorBoard: \u001b[0mStart with 'tensorboard --logdir ..\\yolov5-master\\runs\\train', view at http://localhost:6006/\n"
     ]
    },
    {
     "name": "stdout",
     "output_type": "stream",
     "text": [
      "\u001b[34m\u001b[1mgithub: \u001b[0mskipping check (not a git repository), for updates see https://github.com/ultralytics/yolov5\n"
     ]
    },
    {
     "data": {
      "text/html": [
       "\n",
       "                    Syncing run <strong><a href=\"https://wandb.ai/dddetection/train/runs/3771xydt\" target=\"_blank\">testIIDZOON</a></strong> to <a href=\"https://wandb.ai/dddetection/train\" target=\"_blank\">Weights & Biases</a> (<a href=\"https://docs.wandb.com/integrations/jupyter.html\" target=\"_blank\">docs</a>).<br/>\n",
       "\n",
       "                "
      ],
      "text/plain": [
       "<IPython.core.display.HTML object>"
      ]
     },
     "metadata": {},
     "output_type": "display_data"
    },
    {
     "name": "stderr",
     "output_type": "stream",
     "text": [
      "Overriding model.yaml nc=80 with nc=3\n",
      "\n",
      "                 from  n    params  module                                  arguments                     \n",
      "  0                -1  1      3520  models.common.Conv                      [3, 32, 6, 2, 2]              \n",
      "  1                -1  1     18560  models.common.Conv                      [32, 64, 3, 2]                \n",
      "  2                -1  1     18816  models.common.C3                        [64, 64, 1]                   \n",
      "  3                -1  1     73984  models.common.Conv                      [64, 128, 3, 2]               \n",
      "  4                -1  2    115712  models.common.C3                        [128, 128, 2]                 \n",
      "  5                -1  1    295424  models.common.Conv                      [128, 256, 3, 2]              \n",
      "  6                -1  3    625152  models.common.C3                        [256, 256, 3]                 \n",
      "  7                -1  1   1180672  models.common.Conv                      [256, 512, 3, 2]              \n",
      "  8                -1  1   1182720  models.common.C3                        [512, 512, 1]                 \n",
      "  9                -1  1    656896  models.common.SPPF                      [512, 512, 5]                 \n",
      " 10                -1  1    131584  models.common.Conv                      [512, 256, 1, 1]              \n",
      " 11                -1  1         0  torch.nn.modules.upsampling.Upsample    [None, 2, 'nearest']          \n",
      " 12           [-1, 6]  1         0  models.common.Concat                    [1]                           \n",
      " 13                -1  1    361984  models.common.C3                        [512, 256, 1, False]          \n",
      " 14                -1  1     33024  models.common.Conv                      [256, 128, 1, 1]              \n",
      " 15                -1  1         0  torch.nn.modules.upsampling.Upsample    [None, 2, 'nearest']          \n",
      " 16           [-1, 4]  1         0  models.common.Concat                    [1]                           \n",
      " 17                -1  1     90880  models.common.C3                        [256, 128, 1, False]          \n",
      " 18                -1  1    147712  models.common.Conv                      [128, 128, 3, 2]              \n",
      " 19          [-1, 14]  1         0  models.common.Concat                    [1]                           \n",
      " 20                -1  1    296448  models.common.C3                        [256, 256, 1, False]          \n",
      " 21                -1  1    590336  models.common.Conv                      [256, 256, 3, 2]              \n",
      " 22          [-1, 10]  1         0  models.common.Concat                    [1]                           \n",
      " 23                -1  1   1182720  models.common.C3                        [512, 512, 1, False]          \n",
      " 24      [17, 20, 23]  1     21576  models.yolo.Detect                      [3, [[10, 13, 16, 30, 33, 23], [30, 61, 62, 45, 59, 119], [116, 90, 156, 198, 373, 326]], [128, 256, 512]]\n",
      "Model Summary: 270 layers, 7027720 parameters, 7027720 gradients, 15.9 GFLOPs\n",
      "\n",
      "Transferred 343/349 items from ..\\yolov5-master\\yolov5s.pt\n",
      "Scaled weight_decay = 0.00046875\n",
      "\u001b[34m\u001b[1moptimizer:\u001b[0m SGD with parameter groups 57 weight (no decay), 60 weight, 60 bias\n",
      "\u001b[34m\u001b[1mtrain: \u001b[0mScanning '..\\data\\datasets\\All_Volunteers_IID\\labels\\train' images and labels...7048 found, 0 missing, 0 empty, 3 corrupted: 100%|██████████| 7048/7048 [00:10<00:00, 642.73it/s] \n",
      "\u001b[34m\u001b[1mtrain: \u001b[0mWARNING: ..\\data\\datasets\\All_Volunteers_IID\\images\\train\\Unknown-X-20200721-090447-XBKCLNGAJQNH-0.72166dd02537c4422cfb.JPG: ignoring corrupt image/label: negative label values [   -0.13763    -0.41026]\n",
      "\u001b[34m\u001b[1mtrain: \u001b[0mWARNING: ..\\data\\datasets\\All_Volunteers_IID\\images\\train\\Unknown-X-20200810-154704-XC9CIS5WKIJE-0.aab52cd7ec577150e46a.JPG: ignoring corrupt image/label: negative label values [   -0.42162     -0.2578   -0.092019]\n",
      "\u001b[34m\u001b[1mtrain: \u001b[0mWARNING: ..\\data\\datasets\\All_Volunteers_IID\\images\\train\\Unknown-X-20201006-084132-XVLTASWWP5TM-0.760f8a0a8459f4f407c1.JPG: ignoring corrupt image/label: negative label values [  -0.045386   -0.048179   -0.059351   -0.098454   -0.085822    -0.08767   -0.076109]\n",
      "\u001b[34m\u001b[1mtrain: \u001b[0mWARNING: Cache directory ..\\data\\datasets\\All_Volunteers_IID\\labels is not writeable: [WinError 183] Cannot create a file when that file already exists: '..\\\\data\\\\datasets\\\\All_Volunteers_IID\\\\labels\\\\train.cache.npy' -> '..\\\\data\\\\datasets\\\\All_Volunteers_IID\\\\labels\\\\train.cache'\n",
      "\u001b[34m\u001b[1mval: \u001b[0mScanning '..\\data\\datasets\\All_Volunteers_IID\\labels\\val' images and labels...860 found, 0 missing, 0 empty, 2 corrupted: 100%|██████████| 860/860 [00:05<00:00, 144.21it/s]\n",
      "\u001b[34m\u001b[1mval: \u001b[0mWARNING: ..\\data\\datasets\\All_Volunteers_IID\\images\\val\\Unknown-X-20191113-153036-XKNMQ7OPXKU-3.1f089314ef9273e4647b.JPG: ignoring corrupt image/label: non-normalized or out of bounds coordinates [     1.2132]\n",
      "\u001b[34m\u001b[1mval: \u001b[0mWARNING: ..\\data\\datasets\\All_Volunteers_IID\\images\\val\\Unknown-X-20191113-153036-XKNMQ7OPXKU-3.9c62fc6bf51ff6f1eafe.JPG: ignoring corrupt image/label: non-normalized or out of bounds coordinates [       1.24]\n",
      "\u001b[34m\u001b[1mval: \u001b[0mWARNING: Cache directory ..\\data\\datasets\\All_Volunteers_IID\\labels is not writeable: [WinError 183] Cannot create a file when that file already exists: '..\\\\data\\\\datasets\\\\All_Volunteers_IID\\\\labels\\\\val.cache.npy' -> '..\\\\data\\\\datasets\\\\All_Volunteers_IID\\\\labels\\\\val.cache'\n",
      "\n",
      "\u001b[34m\u001b[1mAutoAnchor: \u001b[0m5.23 anchors/target, 0.999 Best Possible Recall (BPR). Current anchors are a good fit to dataset \n",
      "Image sizes 640 train, 640 val\n",
      "Using 8 dataloader workers\n",
      "Logging results to \u001b[1m..\\yolov5-master\\runs\\train\\testIIDZOON12\u001b[0m\n",
      "Starting training for 20 epochs...\n",
      "\n",
      "     Epoch   gpu_mem       box       obj       cls    labels  img_size\n"
     ]
    },
    {
     "name": "stdout",
     "output_type": "stream",
     "text": [
      "module 'signal' has no attribute 'SIGALRM'\n"
     ]
    },
    {
     "name": "stderr",
     "output_type": "stream",
     "text": [
      "      0/19     4.32G   0.09139   0.04868     0.033        52       640: 100%|██████████| 353/353 [01:34<00:00,  3.74it/s]\n",
      "               Class     Images     Labels          P          R     mAP@.5 mAP@.5:.95: 100%|██████████| 22/22 [00:06<00:00,  3.44it/s]\n",
      "                 all        858       2891     0.0456       0.24     0.0272    0.00668\n",
      "\n",
      "     Epoch   gpu_mem       box       obj       cls    labels  img_size\n",
      "      1/19     6.12G   0.07738   0.04962   0.02165        30       640: 100%|██████████| 353/353 [01:32<00:00,  3.82it/s]\n",
      "               Class     Images     Labels          P          R     mAP@.5 mAP@.5:.95: 100%|██████████| 22/22 [00:06<00:00,  3.24it/s]\n",
      "                 all        858       2891      0.103       0.14      0.055     0.0134\n",
      "\n",
      "     Epoch   gpu_mem       box       obj       cls    labels  img_size\n",
      "      2/19     6.12G   0.07455   0.04937   0.01793        20       640: 100%|██████████| 353/353 [01:32<00:00,  3.81it/s]\n",
      "               Class     Images     Labels          P          R     mAP@.5 mAP@.5:.95: 100%|██████████| 22/22 [00:05<00:00,  4.07it/s]\n",
      "                 all        858       2891      0.109      0.149     0.0554     0.0135\n",
      "\n",
      "     Epoch   gpu_mem       box       obj       cls    labels  img_size\n",
      "      3/19     6.12G   0.07268   0.05061   0.01725        15       640: 100%|██████████| 353/353 [01:34<00:00,  3.73it/s]\n",
      "               Class     Images     Labels          P          R     mAP@.5 mAP@.5:.95: 100%|██████████| 22/22 [00:06<00:00,  3.40it/s]\n",
      "                 all        858       2891      0.128       0.17     0.0663     0.0173\n",
      "\n",
      "     Epoch   gpu_mem       box       obj       cls    labels  img_size\n",
      "      4/19     6.12G    0.0712   0.04982   0.01624        19       640: 100%|██████████| 353/353 [01:35<00:00,  3.70it/s]\n",
      "               Class     Images     Labels          P          R     mAP@.5 mAP@.5:.95: 100%|██████████| 22/22 [00:05<00:00,  3.89it/s]\n",
      "                 all        858       2891      0.138      0.169     0.0712     0.0177\n",
      "\n",
      "     Epoch   gpu_mem       box       obj       cls    labels  img_size\n",
      "      5/19     6.12G   0.07027   0.05015   0.01562        26       640: 100%|██████████| 353/353 [01:34<00:00,  3.73it/s]\n",
      "               Class     Images     Labels          P          R     mAP@.5 mAP@.5:.95: 100%|██████████| 22/22 [00:06<00:00,  3.44it/s]\n",
      "                 all        858       2891      0.135      0.194      0.079     0.0211\n",
      "\n",
      "     Epoch   gpu_mem       box       obj       cls    labels  img_size\n",
      "      6/19     6.12G   0.06945   0.05073   0.01534        42       640: 100%|██████████| 353/353 [01:33<00:00,  3.78it/s]\n",
      "               Class     Images     Labels          P          R     mAP@.5 mAP@.5:.95: 100%|██████████| 22/22 [00:05<00:00,  4.17it/s]\n",
      "                 all        858       2891      0.159      0.158     0.0812     0.0205\n",
      "\n",
      "     Epoch   gpu_mem       box       obj       cls    labels  img_size\n",
      "      7/19     6.12G   0.06914   0.05003   0.01488        27       640: 100%|██████████| 353/353 [01:34<00:00,  3.72it/s]\n",
      "               Class     Images     Labels          P          R     mAP@.5 mAP@.5:.95: 100%|██████████| 22/22 [00:06<00:00,  3.41it/s]\n",
      "                 all        858       2891      0.147      0.175     0.0826     0.0219\n",
      "\n",
      "     Epoch   gpu_mem       box       obj       cls    labels  img_size\n",
      "      8/19     6.12G   0.06818   0.05068   0.01477        21       640: 100%|██████████| 353/353 [01:35<00:00,  3.70it/s]\n",
      "               Class     Images     Labels          P          R     mAP@.5 mAP@.5:.95: 100%|██████████| 22/22 [00:05<00:00,  4.11it/s]\n",
      "                 all        858       2891       0.16      0.156     0.0879     0.0234\n",
      "\n",
      "     Epoch   gpu_mem       box       obj       cls    labels  img_size\n",
      "      9/19     6.12G   0.06818   0.04996   0.01457        17       640: 100%|██████████| 353/353 [01:35<00:00,  3.71it/s]\n",
      "               Class     Images     Labels          P          R     mAP@.5 mAP@.5:.95: 100%|██████████| 22/22 [00:06<00:00,  3.33it/s]\n",
      "                 all        858       2891      0.166      0.185     0.0889     0.0237\n",
      "\n",
      "     Epoch   gpu_mem       box       obj       cls    labels  img_size\n",
      "     10/19     6.12G   0.06749   0.04994   0.01397        27       640: 100%|██████████| 353/353 [01:36<00:00,  3.68it/s]\n",
      "               Class     Images     Labels          P          R     mAP@.5 mAP@.5:.95: 100%|██████████| 22/22 [00:04<00:00,  4.48it/s]\n",
      "                 all        858       2891      0.169      0.172     0.0871     0.0235\n",
      "\n",
      "     Epoch   gpu_mem       box       obj       cls    labels  img_size\n",
      "     11/19     6.12G    0.0671   0.05059   0.01398        26       640: 100%|██████████| 353/353 [01:32<00:00,  3.80it/s]\n",
      "               Class     Images     Labels          P          R     mAP@.5 mAP@.5:.95: 100%|██████████| 22/22 [00:06<00:00,  3.49it/s]\n",
      "                 all        858       2891        0.2      0.172     0.0923     0.0265\n",
      "\n",
      "     Epoch   gpu_mem       box       obj       cls    labels  img_size\n",
      "     12/19     6.12G   0.06682   0.04992   0.01403       117       640:  40%|███▉      | 140/353 [00:35<00:53,  3.98it/s]\n"
     ]
    },
    {
     "ename": "KeyboardInterrupt",
     "evalue": "",
     "output_type": "error",
     "traceback": [
      "\u001b[1;31m---------------------------------------------------------------------------\u001b[0m",
      "\u001b[1;31mKeyboardInterrupt\u001b[0m                         Traceback (most recent call last)",
      "\u001b[1;32m~\\OneDrive - University of Surrey\\Documents\\GitHub\\dental_disease\\yolov5-master\\train.py\u001b[0m in \u001b[0;36m<module>\u001b[1;34m\u001b[0m\n\u001b[0;32m    634\u001b[0m \u001b[1;32mif\u001b[0m \u001b[0m__name__\u001b[0m \u001b[1;33m==\u001b[0m \u001b[1;34m\"__main__\"\u001b[0m\u001b[1;33m:\u001b[0m\u001b[1;33m\u001b[0m\u001b[1;33m\u001b[0m\u001b[0m\n\u001b[0;32m    635\u001b[0m     \u001b[0mopt\u001b[0m \u001b[1;33m=\u001b[0m \u001b[0mparse_opt\u001b[0m\u001b[1;33m(\u001b[0m\u001b[1;33m)\u001b[0m\u001b[1;33m\u001b[0m\u001b[1;33m\u001b[0m\u001b[0m\n\u001b[1;32m--> 636\u001b[1;33m     \u001b[0mmain\u001b[0m\u001b[1;33m(\u001b[0m\u001b[0mopt\u001b[0m\u001b[1;33m)\u001b[0m\u001b[1;33m\u001b[0m\u001b[1;33m\u001b[0m\u001b[0m\n\u001b[0m",
      "\u001b[1;32m~\\OneDrive - University of Surrey\\Documents\\GitHub\\dental_disease\\yolov5-master\\train.py\u001b[0m in \u001b[0;36mmain\u001b[1;34m(opt, callbacks)\u001b[0m\n\u001b[0;32m    531\u001b[0m     \u001b[1;31m# Train\u001b[0m\u001b[1;33m\u001b[0m\u001b[1;33m\u001b[0m\u001b[0m\n\u001b[0;32m    532\u001b[0m     \u001b[1;32mif\u001b[0m \u001b[1;32mnot\u001b[0m \u001b[0mopt\u001b[0m\u001b[1;33m.\u001b[0m\u001b[0mevolve\u001b[0m\u001b[1;33m:\u001b[0m\u001b[1;33m\u001b[0m\u001b[1;33m\u001b[0m\u001b[0m\n\u001b[1;32m--> 533\u001b[1;33m         \u001b[0mtrain\u001b[0m\u001b[1;33m(\u001b[0m\u001b[0mopt\u001b[0m\u001b[1;33m.\u001b[0m\u001b[0mhyp\u001b[0m\u001b[1;33m,\u001b[0m \u001b[0mopt\u001b[0m\u001b[1;33m,\u001b[0m \u001b[0mdevice\u001b[0m\u001b[1;33m,\u001b[0m \u001b[0mcallbacks\u001b[0m\u001b[1;33m)\u001b[0m\u001b[1;33m\u001b[0m\u001b[1;33m\u001b[0m\u001b[0m\n\u001b[0m\u001b[0;32m    534\u001b[0m         \u001b[1;32mif\u001b[0m \u001b[0mWORLD_SIZE\u001b[0m \u001b[1;33m>\u001b[0m \u001b[1;36m1\u001b[0m \u001b[1;32mand\u001b[0m \u001b[0mRANK\u001b[0m \u001b[1;33m==\u001b[0m \u001b[1;36m0\u001b[0m\u001b[1;33m:\u001b[0m\u001b[1;33m\u001b[0m\u001b[1;33m\u001b[0m\u001b[0m\n\u001b[0;32m    535\u001b[0m             \u001b[0mLOGGER\u001b[0m\u001b[1;33m.\u001b[0m\u001b[0minfo\u001b[0m\u001b[1;33m(\u001b[0m\u001b[1;34m'Destroying process group... '\u001b[0m\u001b[1;33m)\u001b[0m\u001b[1;33m\u001b[0m\u001b[1;33m\u001b[0m\u001b[0m\n",
      "\u001b[1;32m~\\OneDrive - University of Surrey\\Documents\\GitHub\\dental_disease\\yolov5-master\\train.py\u001b[0m in \u001b[0;36mtrain\u001b[1;34m(hyp, opt, device, callbacks)\u001b[0m\n\u001b[0;32m    343\u001b[0m                 \u001b[0moptimizer\u001b[0m\u001b[1;33m.\u001b[0m\u001b[0mzero_grad\u001b[0m\u001b[1;33m(\u001b[0m\u001b[1;33m)\u001b[0m\u001b[1;33m\u001b[0m\u001b[1;33m\u001b[0m\u001b[0m\n\u001b[0;32m    344\u001b[0m                 \u001b[1;32mif\u001b[0m \u001b[0mema\u001b[0m\u001b[1;33m:\u001b[0m\u001b[1;33m\u001b[0m\u001b[1;33m\u001b[0m\u001b[0m\n\u001b[1;32m--> 345\u001b[1;33m                     \u001b[0mema\u001b[0m\u001b[1;33m.\u001b[0m\u001b[0mupdate\u001b[0m\u001b[1;33m(\u001b[0m\u001b[0mmodel\u001b[0m\u001b[1;33m)\u001b[0m\u001b[1;33m\u001b[0m\u001b[1;33m\u001b[0m\u001b[0m\n\u001b[0m\u001b[0;32m    346\u001b[0m                 \u001b[0mlast_opt_step\u001b[0m \u001b[1;33m=\u001b[0m \u001b[0mni\u001b[0m\u001b[1;33m\u001b[0m\u001b[1;33m\u001b[0m\u001b[0m\n\u001b[0;32m    347\u001b[0m \u001b[1;33m\u001b[0m\u001b[0m\n",
      "\u001b[1;32m~\\OneDrive - University of Surrey\\Documents\\GitHub\\dental_disease\\yolov5-master\\utils\\torch_utils.py\u001b[0m in \u001b[0;36mupdate\u001b[1;34m(self, model)\u001b[0m\n\u001b[0;32m    314\u001b[0m                 \u001b[1;32mif\u001b[0m \u001b[0mv\u001b[0m\u001b[1;33m.\u001b[0m\u001b[0mdtype\u001b[0m\u001b[1;33m.\u001b[0m\u001b[0mis_floating_point\u001b[0m\u001b[1;33m:\u001b[0m\u001b[1;33m\u001b[0m\u001b[1;33m\u001b[0m\u001b[0m\n\u001b[0;32m    315\u001b[0m                     \u001b[0mv\u001b[0m \u001b[1;33m*=\u001b[0m \u001b[0md\u001b[0m\u001b[1;33m\u001b[0m\u001b[1;33m\u001b[0m\u001b[0m\n\u001b[1;32m--> 316\u001b[1;33m                     \u001b[0mv\u001b[0m \u001b[1;33m+=\u001b[0m \u001b[1;33m(\u001b[0m\u001b[1;36m1\u001b[0m \u001b[1;33m-\u001b[0m \u001b[0md\u001b[0m\u001b[1;33m)\u001b[0m \u001b[1;33m*\u001b[0m \u001b[0mmsd\u001b[0m\u001b[1;33m[\u001b[0m\u001b[0mk\u001b[0m\u001b[1;33m]\u001b[0m\u001b[1;33m.\u001b[0m\u001b[0mdetach\u001b[0m\u001b[1;33m(\u001b[0m\u001b[1;33m)\u001b[0m\u001b[1;33m\u001b[0m\u001b[1;33m\u001b[0m\u001b[0m\n\u001b[0m\u001b[0;32m    317\u001b[0m \u001b[1;33m\u001b[0m\u001b[0m\n\u001b[0;32m    318\u001b[0m     \u001b[1;32mdef\u001b[0m \u001b[0mupdate_attr\u001b[0m\u001b[1;33m(\u001b[0m\u001b[0mself\u001b[0m\u001b[1;33m,\u001b[0m \u001b[0mmodel\u001b[0m\u001b[1;33m,\u001b[0m \u001b[0minclude\u001b[0m\u001b[1;33m=\u001b[0m\u001b[1;33m(\u001b[0m\u001b[1;33m)\u001b[0m\u001b[1;33m,\u001b[0m \u001b[0mexclude\u001b[0m\u001b[1;33m=\u001b[0m\u001b[1;33m(\u001b[0m\u001b[1;34m'process_group'\u001b[0m\u001b[1;33m,\u001b[0m \u001b[1;34m'reducer'\u001b[0m\u001b[1;33m)\u001b[0m\u001b[1;33m)\u001b[0m\u001b[1;33m:\u001b[0m\u001b[1;33m\u001b[0m\u001b[1;33m\u001b[0m\u001b[0m\n",
      "\u001b[1;31mKeyboardInterrupt\u001b[0m: "
     ]
    }
   ],
   "source": [
    "import os\n",
    "os.environ['KMP_DUPLICATE_LIB_OK']='True'\n",
    "%run -i ../yolov5-master/train.py --data ../data/All_Volunteers_IID.yaml --batch-size 20 --epochs 20 --device 0 --name testIIDZOON"
   ]
  },
  {
   "cell_type": "code",
   "execution_count": null,
   "id": "10bcbb91-a683-42de-8393-8458d455e011",
   "metadata": {},
   "outputs": [],
   "source": []
  },
  {
   "cell_type": "markdown",
   "id": "6805404d-be9c-47d3-bfb1-8fe0c8ba3a13",
   "metadata": {},
   "source": [
    "## 3.2  CSexp (Dataset 2)"
   ]
  },
  {
   "cell_type": "code",
   "execution_count": null,
   "id": "34e2c815-5251-4d88-85ec-60ec8b16d5d7",
   "metadata": {},
   "outputs": [],
   "source": []
  },
  {
   "cell_type": "code",
   "execution_count": null,
   "id": "6c1ad9ee-b6e7-4a4e-a5e4-a037f4f5e5c3",
   "metadata": {},
   "outputs": [],
   "source": []
  },
  {
   "cell_type": "markdown",
   "id": "e8043373-a54a-4eaf-8a2d-96649fe83f6e",
   "metadata": {},
   "source": [
    "## Analysis"
   ]
  },
  {
   "cell_type": "markdown",
   "id": "cc9773f7-612e-449a-9edb-e7bdb5f5c10c",
   "metadata": {},
   "source": [
    "{ analysis goes here }"
   ]
  },
  {
   "cell_type": "markdown",
   "id": "c5c10c65-2246-449a-a753-8115207aa3f1",
   "metadata": {},
   "source": [
    "# Experiment 4 (YoloV5 Agregation Preprocessing)\n",
    "\n",
    "### This section runs the experiments, prints results, and plots graphs for both dataset where ground truth labels are agregated into ground truth labels. This experiment also uses YoloV5 as the object detection algorithm"
   ]
  },
  {
   "cell_type": "markdown",
   "id": "d4676442-4671-4e5d-a0f5-318c19f04f4b",
   "metadata": {},
   "source": [
    "## 4.1  CSall (Dataset 1)"
   ]
  },
  {
   "cell_type": "code",
   "execution_count": null,
   "id": "6b8e4953-f2e8-45b3-a6f5-5d4f59af554e",
   "metadata": {},
   "outputs": [],
   "source": []
  },
  {
   "cell_type": "code",
   "execution_count": null,
   "id": "924cdec6-0eee-4377-ae34-6b7d602b184e",
   "metadata": {},
   "outputs": [],
   "source": []
  },
  {
   "cell_type": "markdown",
   "id": "86c244be-7fd6-4a5c-8df0-b74cd05b938e",
   "metadata": {},
   "source": [
    "## 4.2  CSexp (Dataset 2)"
   ]
  },
  {
   "cell_type": "code",
   "execution_count": null,
   "id": "ceb5396a-7972-4cf9-a20b-607d09fd69da",
   "metadata": {},
   "outputs": [],
   "source": []
  },
  {
   "cell_type": "code",
   "execution_count": null,
   "id": "8fd1931c-4fe2-4c11-b5ee-f31d94d93085",
   "metadata": {},
   "outputs": [],
   "source": []
  },
  {
   "cell_type": "markdown",
   "id": "e2869902-e5fe-4849-815b-d881bdaef5dd",
   "metadata": {},
   "source": [
    "## Analysis"
   ]
  },
  {
   "cell_type": "markdown",
   "id": "6265babd-7dac-49f1-9953-8d55e276777a",
   "metadata": {},
   "source": [
    "{ analysis goes here }"
   ]
  },
  {
   "cell_type": "markdown",
   "id": "c98a9c43-9af8-433e-9e07-56be9e76c5ae",
   "metadata": {},
   "source": [
    "# Conclusion Experiment Set 2"
   ]
  },
  {
   "cell_type": "markdown",
   "id": "7da0712c-6551-4721-a6a6-fb9a10b9fe35",
   "metadata": {},
   "source": []
  }
 ],
 "metadata": {
  "kernelspec": {
   "display_name": "Python 3 (ipykernel)",
   "language": "python",
   "name": "python3"
  },
  "language_info": {
   "codemirror_mode": {
    "name": "ipython",
    "version": 3
   },
   "file_extension": ".py",
   "mimetype": "text/x-python",
   "name": "python",
   "nbconvert_exporter": "python",
   "pygments_lexer": "ipython3",
   "version": "3.9.7"
  }
 },
 "nbformat": 4,
 "nbformat_minor": 5
}
