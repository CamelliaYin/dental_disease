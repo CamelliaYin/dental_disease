{
 "cells": [
  {
   "cell_type": "markdown",
   "id": "ece95adf",
   "metadata": {},
   "source": [
    "# Crowd-YOLO (CYOLO)\n",
    "- Step 0: Prepare necessary environment\n",
    "- Step 1: Prepare data\n",
    "- Step 2: Run experiments"
   ]
  },
  {
   "cell_type": "markdown",
   "id": "6326fc0e",
   "metadata": {},
   "source": [
    "### Step 0: Prepare necessary environment\n",
    "- Ensure that there exists \"master\" data:\n",
    "  - Images (`<data_directory>/images/<image_name>.jpg`)\n",
    "  - Labels (`<data_directory>/labels/<volunteer_name>/<image_name>.txt`)\n",
    "    - Experts would give ground-truth labels\n",
    "    - Non-experts would give crowdsourced labels\n",
    "- From the master data, we prepare multiple datasets for multiple experiments based on the following modes:\n",
    "  - Size (**sz**) modes: toy (**to**), full (**fu**)\n",
    "    - When in the toy mode, we only use a small sample of images (and their annotations). This is done mainly to check that our code works well. It's only a unit-test for our code. But the main experiment would be conducted on the full data (in the full (**fu**) mode).\n",
    "  - Multiplicity (**ml**) modes: single (**si**), all (**all**)\n",
    "    - To use labels from a single (**si**) labeller or multiple (**all**) labellers.\n",
    "  - Train-Validation-Test modes:\n",
    "    - Train (**tr**), Validation (**va**), Test (**te**)\n",
    "      - What data to be used for training, validation, and testing of the model learnt.\n",
    "    - Experts (**e**), Non-experts (**ne**)\n",
    "      - Since labellers could either be experts or non-experts, we need to decide whether we want to use labels from experts or from non-experts. See below for examples.\n",
    "    - Repeated (**r**), Crowdsourced (**c**)\n",
    "      - If an algorithm that accepts training data in the usual form (i.e., one set of labels per image), we resolve \"multiple\" labellers' labels by repeating the (image, labels) combination as many number of times as there are labellers. More clearly, if we have a dataset as follows:\n",
    "        - $(x_1, (y_{11}, y_{12}, \\cdots, y_{1k_1}))$\n",
    "        - $(x_2, (y_{21}, y_{22}, \\cdots, y_{2k_2}))$\n",
    "        - $\\vdots$\n",
    "        - $(x_n, (y_{n1}, y_{n2}, \\cdots, y_{nk_n}))$,\n",
    "      \n",
    "        having $n$ images, with the $i^\\text{th}$ image $x_i$ having labelled by $k_i$ labellers giving labels $y_{i1}, y_{i2}, \\cdots, y_{ik_i}$. To use YOLO, a usual object detection algorithm, we transform this data via the \"repeated\" (**r**) mode into $\\sum_{i=1}^{n}{k_i}$ (data, label) combinations:\n",
    "        - $(x_1, y_{11})$\n",
    "        - $(x_1, y_{12})$\n",
    "        - $\\cdots$\n",
    "        - $(x_1, y_{1k_1})$,\n",
    "        - $(x_2, y_{21})$\n",
    "        - $(x_2, y_{22})$\n",
    "        - $\\cdots$\n",
    "        - $(x_2, y_{2k_2})$,\n",
    "        - $\\vdots$\n",
    "        - $(x_n, y_{n1})$\n",
    "        - $(x_n, y_{n2})$\n",
    "        - $\\cdots$\n",
    "        - $(x_n, y_{nk_n})$.\n",
    "        \n",
    "      - To be able to make use of the crowdsourced labels fully, we use Crowd-YOLO, and this is when we go with the \"crowdsourced\" (**c**) mode.\n",
    "- For example, when running YOLO (without BCC), we have the following mode settings:\n",
    "  - Size mode: full (**sz=fu**)\n",
    "  - Multiplicity mode: multiple (**ml=all**)\n",
    "  - Train-Validation-Test mode:\n",
    "    - Train on non-expert repeated (iid) data: **tr=ner**\n",
    "    - Validation on non-expert repeated (iid) data: **va=ner**\n",
    "    - Test on expert repeated (iid) data: **te=er**\n",
    "- But when running CYOLO (i.e., Crowd-YOLO), we have the following mode settings:\n",
    "  - Size mode: full (**sz=fu**)\n",
    "  - Multiplicity mode: multiple (**ml=all**)\n",
    "  - Train-Validation-Test mode:\n",
    "    - Train on non-expert crowdsourced data: **tr=nec**\n",
    "    - Validation on non-expert repeated (iid) data: **va=ner**\n",
    "    - Test on expert repeated (iid) data: **te=er**\n",
    "- The modes that we use:\n",
    "  - `singletoy-yolo`: **sz_to.ml_si.tr_ner.va_ner.te_er** --> For a quick run on the toy data using labels from a single volunteer for YOLO.\n",
    "  - `singlefull-yolo`: **sz_fu.ml_si.tr_ner.va_ner.te_er** --> For the full data using labels from a single volunteer for YOLO.\n",
    "  - `alltoy-yolo`: **sz_to.ml_all.tr_ner.va_ner.te_er** --> For a quick run on the toy data using all volunteers' labels for YOLO.\n",
    "  - `allfull-yolo`: **sz_fu.ml_all.tr_ner.va_ner.te_er** --> For the full data using all volunteers' labels for YOLO.\n",
    "  - `singletoy-cyolo`: **sz_to.ml_si.tr_nec.va_ner.te_er** --> For a quick run on the toy data using labels from a single volunteer for CYOLO.\n",
    "  - `singlefull-cyolo`: **sz_fu.ml_si.tr_nec.va_ner.te_er** --> For the full data using labels from a single volunteer for CYOLO.\n",
    "  - `multipletoy-cyolo`: **sz_to.ml_all.tr_nec.va_ner.te_er** --> For a quick run on the toy data using all volunteers' labels for CYOLO.\n",
    "  - `multiplefull-cyolo`: **sz_fu.ml_all.tr_nec.va_ner.te_er** --> For the full data using all volunteers' labels for CYOLO."
   ]
  },
  {
   "cell_type": "markdown",
   "id": "e19073bb",
   "metadata": {},
   "source": [
    "### Step 1: Prepare data\n",
    "- "
   ]
  },
  {
   "cell_type": "code",
   "execution_count": 24,
   "id": "87f21385",
   "metadata": {},
   "outputs": [],
   "source": [
    "def get_data_mode_textual_name(data_mode):\n",
    "    w1 = 'single' if data_mode['ml'] == 'si' else 'all'\n",
    "    w2 = 'toy' if data_mode['sz'] == 'to' else 'full'\n",
    "    w3 = 'yolo' if data_mode['tr'] == 'ner' else 'cyolo'\n",
    "    assert data_mode['tr'] in ['ner', 'nec'] and \\\n",
    "           data_mode['va'] == 'ner' and \\\n",
    "           data_mode['te'] == 'er', \"Undefined textual name for this data mode.\"\n",
    "    textual_name = f'{w1}{w2}_{w3}'\n",
    "    return textual_name\n",
    "    \n",
    "def get_data_mode_technical_name(data_mode):\n",
    "    key_seq = ['sz', 'ml', 'tr', 'va', 'te']\n",
    "    technical_name = '.'.join([f'{x}_{data_mode[x]}' for x in key_seq])\n",
    "    return technical_name"
   ]
  },
  {
   "cell_type": "code",
   "execution_count": 25,
   "id": "fa016958",
   "metadata": {},
   "outputs": [],
   "source": [
    "SINGLETOY_YOLO_MODE =   {'sz': 'to', 'ml': 'si',  'tr': 'ner', 'va': 'ner', 'te': 'er'}\n",
    "SINGLEFULL_YOLO_MODE =  {'sz': 'fu', 'ml': 'si',  'tr': 'ner', 'va': 'ner', 'te': 'er'}\n",
    "ALLTOY_YOLO_MODE =      {'sz': 'to', 'ml': 'all', 'tr': 'ner', 'va': 'ner', 'te': 'er'}\n",
    "ALLFULL_YOLO_MODE =     {'sz': 'fu', 'ml': 'all', 'tr': 'ner', 'va': 'ner', 'te': 'er'}\n",
    "\n",
    "SINGLETOY_CYOLO_MODE =  {'sz': 'to', 'ml': 'si',  'tr': 'nec', 'va': 'ner', 'te': 'er'}\n",
    "SINGLEFULL_CYOLO_MODE = {'sz': 'fu', 'ml': 'si',  'tr': 'nec', 'va': 'ner', 'te': 'er'}\n",
    "ALLTOY_CYOLO_MODE =     {'sz': 'to', 'ml': 'all', 'tr': 'nec', 'va': 'ner', 'te': 'er'}\n",
    "ALLFULL_CYOLO_MODE =    {'sz': 'fu', 'ml': 'all', 'tr': 'nec', 'va': 'ner', 'te': 'er'}"
   ]
  },
  {
   "cell_type": "code",
   "execution_count": 26,
   "id": "a6a248b7",
   "metadata": {},
   "outputs": [],
   "source": [
    "data_modes = [SINGLETOY_YOLO_MODE, SINGLETOY_CYOLO_MODE]"
   ]
  },
  {
   "cell_type": "code",
   "execution_count": 27,
   "id": "150a3585",
   "metadata": {},
   "outputs": [
    {
     "data": {
      "text/plain": [
       "['sz_to.ml_si.tr_ner.va_ner.te_er', 'sz_to.ml_si.tr_nec.va_ner.te_er']"
      ]
     },
     "execution_count": 27,
     "metadata": {},
     "output_type": "execute_result"
    }
   ],
   "source": [
    "[get_data_mode_technical_name(x) for x in data_modes]"
   ]
  },
  {
   "cell_type": "code",
   "execution_count": 28,
   "id": "6f8589e0",
   "metadata": {},
   "outputs": [
    {
     "data": {
      "text/plain": [
       "['singletoy_yolo', 'singletoy_cyolo']"
      ]
     },
     "execution_count": 28,
     "metadata": {},
     "output_type": "execute_result"
    }
   ],
   "source": [
    "[get_data_mode_textual_name(x) for x in data_modes]"
   ]
  }
 ],
 "metadata": {
  "kernelspec": {
   "display_name": "Python 3",
   "language": "python",
   "name": "python3"
  },
  "language_info": {
   "codemirror_mode": {
    "name": "ipython",
    "version": 3
   },
   "file_extension": ".py",
   "mimetype": "text/x-python",
   "name": "python",
   "nbconvert_exporter": "python",
   "pygments_lexer": "ipython3",
   "version": "3.8.8"
  }
 },
 "nbformat": 4,
 "nbformat_minor": 5
}
