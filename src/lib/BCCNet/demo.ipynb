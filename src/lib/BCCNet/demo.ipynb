{
 "cells": [
  {
   "cell_type": "markdown",
   "metadata": {},
   "source": [
    "# BCCNet demo on MNIST"
   ]
  },
  {
   "cell_type": "markdown",
   "metadata": {},
   "source": [
    "This script demonstrates BCCNet in action on classification of MNIST\n",
    "\n",
    "* first generates synthetic crowdsourced labels for MNIST. Only 50% of training data is labelled by 4 crowd members with the average reliability of 0.6\n",
    "* iterates one call of the VB_iteration function and one epoch of backpropagated updates for the parameters of a neural network\n",
    "* saves weights of the trained neural network\n",
    "* plots accuracy performance "
   ]
  },
  {
   "cell_type": "markdown",
   "metadata": {},
   "source": [
    "Required import"
   ]
  },
  {
   "cell_type": "code",
   "execution_count": 6,
   "metadata": {
    "scrolled": false
   },
   "outputs": [
    {
     "name": "stdout",
     "output_type": "stream",
     "text": [
      "Requirement already satisfied: pathlib in /Users/gs0029/opt/anaconda3/lib/python3.8/site-packages (1.0.1)\n",
      "Requirement already satisfied: matplotlib in /Users/gs0029/opt/anaconda3/lib/python3.8/site-packages (3.3.4)\n",
      "Requirement already satisfied: tensorflow in /Users/gs0029/opt/anaconda3/lib/python3.8/site-packages (2.6.0)\n",
      "Requirement already satisfied: python-dateutil>=2.1 in /Users/gs0029/opt/anaconda3/lib/python3.8/site-packages (from matplotlib) (2.8.1)\n",
      "Requirement already satisfied: cycler>=0.10 in /Users/gs0029/opt/anaconda3/lib/python3.8/site-packages (from matplotlib) (0.10.0)\n",
      "Requirement already satisfied: pillow>=6.2.0 in /Users/gs0029/opt/anaconda3/lib/python3.8/site-packages (from matplotlib) (8.2.0)\n",
      "Requirement already satisfied: numpy>=1.15 in /Users/gs0029/opt/anaconda3/lib/python3.8/site-packages (from matplotlib) (1.19.5)\n",
      "Requirement already satisfied: pyparsing!=2.0.4,!=2.1.2,!=2.1.6,>=2.0.3 in /Users/gs0029/opt/anaconda3/lib/python3.8/site-packages (from matplotlib) (2.4.7)\n",
      "Requirement already satisfied: kiwisolver>=1.0.1 in /Users/gs0029/opt/anaconda3/lib/python3.8/site-packages (from matplotlib) (1.3.1)\n",
      "Requirement already satisfied: six in /Users/gs0029/opt/anaconda3/lib/python3.8/site-packages (from cycler>=0.10->matplotlib) (1.15.0)\n",
      "Requirement already satisfied: wheel~=0.35 in /Users/gs0029/opt/anaconda3/lib/python3.8/site-packages (from tensorflow) (0.36.2)\n",
      "Requirement already satisfied: gast==0.4.0 in /Users/gs0029/opt/anaconda3/lib/python3.8/site-packages (from tensorflow) (0.4.0)\n",
      "Requirement already satisfied: tensorflow-estimator~=2.6 in /Users/gs0029/opt/anaconda3/lib/python3.8/site-packages (from tensorflow) (2.6.0)\n",
      "Requirement already satisfied: google-pasta~=0.2 in /Users/gs0029/opt/anaconda3/lib/python3.8/site-packages (from tensorflow) (0.2.0)\n",
      "Requirement already satisfied: wrapt~=1.12.1 in /Users/gs0029/opt/anaconda3/lib/python3.8/site-packages (from tensorflow) (1.12.1)\n",
      "Requirement already satisfied: opt-einsum~=3.3.0 in /Users/gs0029/opt/anaconda3/lib/python3.8/site-packages (from tensorflow) (3.3.0)\n",
      "Requirement already satisfied: tensorboard~=2.6 in /Users/gs0029/opt/anaconda3/lib/python3.8/site-packages (from tensorflow) (2.6.0)\n",
      "Requirement already satisfied: typing-extensions~=3.7.4 in /Users/gs0029/opt/anaconda3/lib/python3.8/site-packages (from tensorflow) (3.7.4.3)\n",
      "Requirement already satisfied: clang~=5.0 in /Users/gs0029/opt/anaconda3/lib/python3.8/site-packages (from tensorflow) (5.0)\n",
      "Requirement already satisfied: protobuf>=3.9.2 in /Users/gs0029/opt/anaconda3/lib/python3.8/site-packages (from tensorflow) (3.17.3)\n",
      "Requirement already satisfied: absl-py~=0.10 in /Users/gs0029/opt/anaconda3/lib/python3.8/site-packages (from tensorflow) (0.13.0)\n",
      "Requirement already satisfied: termcolor~=1.1.0 in /Users/gs0029/opt/anaconda3/lib/python3.8/site-packages (from tensorflow) (1.1.0)\n",
      "Requirement already satisfied: grpcio<2.0,>=1.37.0 in /Users/gs0029/opt/anaconda3/lib/python3.8/site-packages (from tensorflow) (1.39.0)\n",
      "Requirement already satisfied: astunparse~=1.6.3 in /Users/gs0029/opt/anaconda3/lib/python3.8/site-packages (from tensorflow) (1.6.3)\n",
      "Requirement already satisfied: flatbuffers~=1.12.0 in /Users/gs0029/opt/anaconda3/lib/python3.8/site-packages (from tensorflow) (1.12)\n",
      "Requirement already satisfied: keras-preprocessing~=1.1.2 in /Users/gs0029/opt/anaconda3/lib/python3.8/site-packages (from tensorflow) (1.1.2)\n",
      "Requirement already satisfied: keras~=2.6 in /Users/gs0029/opt/anaconda3/lib/python3.8/site-packages (from tensorflow) (2.6.0)\n",
      "Requirement already satisfied: h5py~=3.1.0 in /Users/gs0029/opt/anaconda3/lib/python3.8/site-packages (from tensorflow) (3.1.0)\n",
      "Requirement already satisfied: google-auth-oauthlib<0.5,>=0.4.1 in /Users/gs0029/opt/anaconda3/lib/python3.8/site-packages (from tensorboard~=2.6->tensorflow) (0.4.5)\n",
      "Requirement already satisfied: tensorboard-data-server<0.7.0,>=0.6.0 in /Users/gs0029/opt/anaconda3/lib/python3.8/site-packages (from tensorboard~=2.6->tensorflow) (0.6.1)\n",
      "Requirement already satisfied: setuptools>=41.0.0 in /Users/gs0029/opt/anaconda3/lib/python3.8/site-packages (from tensorboard~=2.6->tensorflow) (52.0.0.post20210125)\n",
      "Requirement already satisfied: markdown>=2.6.8 in /Users/gs0029/opt/anaconda3/lib/python3.8/site-packages (from tensorboard~=2.6->tensorflow) (3.3.4)\n",
      "Requirement already satisfied: google-auth<2,>=1.6.3 in /Users/gs0029/opt/anaconda3/lib/python3.8/site-packages (from tensorboard~=2.6->tensorflow) (1.34.0)\n",
      "Requirement already satisfied: werkzeug>=0.11.15 in /Users/gs0029/opt/anaconda3/lib/python3.8/site-packages (from tensorboard~=2.6->tensorflow) (1.0.1)\n",
      "Requirement already satisfied: requests<3,>=2.21.0 in /Users/gs0029/opt/anaconda3/lib/python3.8/site-packages (from tensorboard~=2.6->tensorflow) (2.25.1)\n",
      "Requirement already satisfied: tensorboard-plugin-wit>=1.6.0 in /Users/gs0029/opt/anaconda3/lib/python3.8/site-packages (from tensorboard~=2.6->tensorflow) (1.8.0)\n",
      "Requirement already satisfied: cachetools<5.0,>=2.0.0 in /Users/gs0029/opt/anaconda3/lib/python3.8/site-packages (from google-auth<2,>=1.6.3->tensorboard~=2.6->tensorflow) (4.2.2)\n",
      "Requirement already satisfied: rsa<5,>=3.1.4 in /Users/gs0029/opt/anaconda3/lib/python3.8/site-packages (from google-auth<2,>=1.6.3->tensorboard~=2.6->tensorflow) (4.7.2)\n",
      "Requirement already satisfied: pyasn1-modules>=0.2.1 in /Users/gs0029/opt/anaconda3/lib/python3.8/site-packages (from google-auth<2,>=1.6.3->tensorboard~=2.6->tensorflow) (0.2.8)\n",
      "Requirement already satisfied: requests-oauthlib>=0.7.0 in /Users/gs0029/opt/anaconda3/lib/python3.8/site-packages (from google-auth-oauthlib<0.5,>=0.4.1->tensorboard~=2.6->tensorflow) (1.3.0)\n",
      "Requirement already satisfied: pyasn1<0.5.0,>=0.4.6 in /Users/gs0029/opt/anaconda3/lib/python3.8/site-packages (from pyasn1-modules>=0.2.1->google-auth<2,>=1.6.3->tensorboard~=2.6->tensorflow) (0.4.8)\n",
      "Requirement already satisfied: chardet<5,>=3.0.2 in /Users/gs0029/opt/anaconda3/lib/python3.8/site-packages (from requests<3,>=2.21.0->tensorboard~=2.6->tensorflow) (4.0.0)\n",
      "Requirement already satisfied: urllib3<1.27,>=1.21.1 in /Users/gs0029/opt/anaconda3/lib/python3.8/site-packages (from requests<3,>=2.21.0->tensorboard~=2.6->tensorflow) (1.26.4)\n",
      "Requirement already satisfied: certifi>=2017.4.17 in /Users/gs0029/opt/anaconda3/lib/python3.8/site-packages (from requests<3,>=2.21.0->tensorboard~=2.6->tensorflow) (2020.12.5)\n",
      "Requirement already satisfied: idna<3,>=2.5 in /Users/gs0029/opt/anaconda3/lib/python3.8/site-packages (from requests<3,>=2.21.0->tensorboard~=2.6->tensorflow) (2.10)\n",
      "Requirement already satisfied: oauthlib>=3.0.0 in /Users/gs0029/opt/anaconda3/lib/python3.8/site-packages (from requests-oauthlib>=0.7.0->google-auth-oauthlib<0.5,>=0.4.1->tensorboard~=2.6->tensorflow) (3.1.1)\n"
     ]
    }
   ],
   "source": [
    "!pip3 install pathlib matplotlib tensorflow"
   ]
  },
  {
   "cell_type": "code",
   "execution_count": 12,
   "metadata": {},
   "outputs": [
    {
     "name": "stdout",
     "output_type": "stream",
     "text": [
      "/Users/gs0029/opt/anaconda3/bin/pip\r\n"
     ]
    }
   ],
   "source": [
    "!which pip"
   ]
  },
  {
   "cell_type": "code",
   "execution_count": 14,
   "metadata": {},
   "outputs": [],
   "source": [
    "import matplotlib\n",
    "%matplotlib inline"
   ]
  },
  {
   "cell_type": "code",
   "execution_count": 16,
   "metadata": {},
   "outputs": [],
   "source": [
    "import tensorflow as tf\n",
    "import os\n",
    "import numpy as np\n",
    "import matplotlib.pyplot as plt\n",
    "\n",
    "from NNArchitecture.lenet5_mnist import cnn_for_mnist\n",
    "from SyntheticCrowdsourcing.synthetic_crowd_volunteers import generate_volunteer_labels\n",
    "from VariationalInference.VB_iteration import VB_iteration\n",
    "from utils.utils_dataset_processing import shrink_arrays\n",
    "from VariationalInference import confusion_matrix"
   ]
  },
  {
   "cell_type": "markdown",
   "metadata": {},
   "source": [
    "Set random seed"
   ]
  },
  {
   "cell_type": "code",
   "execution_count": 18,
   "metadata": {},
   "outputs": [],
   "source": [
    "rseed = 1000\n",
    "np.random.seed(rseed)\n",
    "tf.random.set_seed(rseed)"
   ]
  },
  {
   "cell_type": "markdown",
   "metadata": {},
   "source": [
    "Parameters"
   ]
  },
  {
   "cell_type": "code",
   "execution_count": 19,
   "metadata": {},
   "outputs": [],
   "source": [
    "n_classes = 10\n",
    "crowdsourced_labelled_train_data_ratio = 0.5 # ratio of train data labelled by crowd members\n",
    "n_crowd_members = 4\n",
    "crowd_member_reliability_level = 0.6\n",
    "confusion_matrix_diagonal_prior = 1e-1\n",
    "n_epoch = 100\n",
    "batch_size = 32\n",
    "convergence_threshold = 1e-6 # convergence is measured as change in ELBO"
   ]
  },
  {
   "cell_type": "markdown",
   "metadata": {},
   "source": [
    "## Load data"
   ]
  },
  {
   "cell_type": "code",
   "execution_count": 20,
   "metadata": {},
   "outputs": [
    {
     "name": "stdout",
     "output_type": "stream",
     "text": [
      "Downloading data from https://storage.googleapis.com/tensorflow/tf-keras-datasets/mnist.npz\n",
      "11493376/11490434 [==============================] - 1s 0us/step\n",
      "11501568/11490434 [==============================] - 1s 0us/step\n"
     ]
    }
   ],
   "source": [
    "(x_train, y_train), (x_test, y_test) = tf.keras.datasets.mnist.load_data(path=os.getcwd() + '/mnist.npz')"
   ]
  },
  {
   "cell_type": "markdown",
   "metadata": {},
   "source": [
    "Expand dimensions for images to explicitly have 1 channel"
   ]
  },
  {
   "cell_type": "code",
   "execution_count": 21,
   "metadata": {},
   "outputs": [],
   "source": [
    "x_train = np.expand_dims(x_train, axis=3)\n",
    "x_test = np.expand_dims(x_test, axis=3)"
   ]
  },
  {
   "cell_type": "markdown",
   "metadata": {},
   "source": [
    "Select subsample of train data to be \"labelled\" by crowd members"
   ]
  },
  {
   "cell_type": "code",
   "execution_count": 22,
   "metadata": {},
   "outputs": [],
   "source": [
    "labelled_train, whole_train = shrink_arrays([x_train, y_train], \n",
    "                                            crowdsourced_labelled_train_data_ratio, is_shuffle=True)\n",
    "x_labelled_train = labelled_train[0]\n",
    "y_labelled_train = labelled_train[1]\n",
    "x_train = whole_train[0]\n",
    "y_train = whole_train[1]"
   ]
  },
  {
   "cell_type": "markdown",
   "metadata": {},
   "source": [
    "## Generate synthetic crowdsourced labels"
   ]
  },
  {
   "cell_type": "code",
   "execution_count": 23,
   "metadata": {},
   "outputs": [],
   "source": [
    "crowdsourced_labels = generate_volunteer_labels(n_volunteers=n_crowd_members, n_classes=n_classes, \n",
    "                                                gt_labels=y_labelled_train,\n",
    "                                                n_total_tasks=x_train.shape[0],\n",
    "                                                reliability_level=crowd_member_reliability_level)"
   ]
  },
  {
   "cell_type": "markdown",
   "metadata": {},
   "source": [
    "## Set up a neural network and variational parameters"
   ]
  },
  {
   "cell_type": "code",
   "execution_count": 24,
   "metadata": {},
   "outputs": [
    {
     "name": "stderr",
     "output_type": "stream",
     "text": [
      "2021-09-03 12:43:00.856912: I tensorflow/core/platform/cpu_feature_guard.cc:142] This TensorFlow binary is optimized with oneAPI Deep Neural Network Library (oneDNN) to use the following CPU instructions in performance-critical operations:  AVX2 FMA\n",
      "To enable them in other operations, rebuild TensorFlow with the appropriate compiler flags.\n",
      "/Users/gs0029/opt/anaconda3/envs/bccyolo/lib/python3.8/site-packages/keras/optimizer_v2/optimizer_v2.py:355: UserWarning: The `lr` argument is deprecated, use `learning_rate` instead.\n",
      "  warnings.warn(\n"
     ]
    }
   ],
   "source": [
    "cnn_model = cnn_for_mnist()"
   ]
  },
  {
   "cell_type": "code",
   "execution_count": 25,
   "metadata": {},
   "outputs": [],
   "source": [
    "prior_param_confusion_matrices = confusion_matrix.initialise_prior(n_classes=n_classes, n_volunteers=n_crowd_members,\n",
    "                                                                   alpha_diag_prior=confusion_matrix_diagonal_prior)\n",
    "variational_param_confusion_matrices = np.copy(prior_param_confusion_matrices)"
   ]
  },
  {
   "cell_type": "markdown",
   "metadata": {},
   "source": [
    "## Initialisation of the approximating posterior of true labels"
   ]
  },
  {
   "cell_type": "markdown",
   "metadata": {},
   "source": [
    "Initial variational inference iteration"
   ]
  },
  {
   "cell_type": "code",
   "execution_count": 26,
   "metadata": {},
   "outputs": [],
   "source": [
    "initial_nn_output_for_vb_update = np.random.randn(x_train.shape[0], n_classes)\n",
    "\n",
    "q_t, variational_param_confusion_matrices, lower_bound = \\\n",
    "    VB_iteration(crowdsourced_labels, initial_nn_output_for_vb_update, variational_param_confusion_matrices,\n",
    "                 prior_param_confusion_matrices)\n",
    "\n",
    "old_lower_bound = lower_bound"
   ]
  },
  {
   "cell_type": "markdown",
   "metadata": {},
   "source": [
    "## Main training cycle"
   ]
  },
  {
   "cell_type": "markdown",
   "metadata": {},
   "source": [
    "Set up evaluation arrays"
   ]
  },
  {
   "cell_type": "code",
   "execution_count": 27,
   "metadata": {},
   "outputs": [],
   "source": [
    "# based on predictions from the neural network\n",
    "nn_training_accuracy = np.zeros((n_epoch,), dtype=np.float64)   \n",
    "# based on approximated posterior for true labels\n",
    "posterior_estimate_training_accuracy = np.zeros((n_epoch,), dtype=np.float64)  \n",
    "# based on predictions from the neural network on test data\n",
    "nn_test_accuracy = np.zeros((n_epoch,), dtype=np.float64)"
   ]
  },
  {
   "cell_type": "markdown",
   "metadata": {},
   "source": [
    "Training cycle"
   ]
  },
  {
   "cell_type": "code",
   "execution_count": 28,
   "metadata": {},
   "outputs": [
    {
     "name": "stdout",
     "output_type": "stream",
     "text": [
      "epoch 0:\n"
     ]
    },
    {
     "name": "stderr",
     "output_type": "stream",
     "text": [
      "2021-09-03 12:43:32.576583: I tensorflow/compiler/mlir/mlir_graph_optimization_pass.cc:185] None of the MLIR Optimization Passes are enabled (registered 2)\n"
     ]
    },
    {
     "name": "stdout",
     "output_type": "stream",
     "text": [
      "\t nn training accuracy: 0.09896666666666666\n",
      "\t posterior estimate training accuracy: 0.4315833333333333\n",
      "\t nn test accuracy: 0.0999\n",
      "epoch 1:\n",
      "\t nn training accuracy: 0.10805\n",
      "\t posterior estimate training accuracy: 0.44038333333333335\n",
      "\t nn test accuracy: 0.1038\n",
      "epoch 2:\n",
      "\t nn training accuracy: 0.2193\n",
      "\t posterior estimate training accuracy: 0.5039666666666667\n",
      "\t nn test accuracy: 0.2269\n",
      "epoch 3:\n",
      "\t nn training accuracy: 0.4053\n",
      "\t posterior estimate training accuracy: 0.61445\n",
      "\t nn test accuracy: 0.4027\n",
      "epoch 4:\n",
      "\t nn training accuracy: 0.93505\n",
      "\t posterior estimate training accuracy: 0.9148333333333334\n",
      "\t nn test accuracy: 0.9383\n",
      "epoch 5:\n",
      "\t nn training accuracy: 0.9697\n",
      "\t posterior estimate training accuracy: 0.9476166666666667\n",
      "\t nn test accuracy: 0.9711\n",
      "epoch 6:\n",
      "\t nn training accuracy: 0.9793833333333334\n",
      "\t posterior estimate training accuracy: 0.9635166666666667\n",
      "\t nn test accuracy: 0.9784\n",
      "epoch 7:\n",
      "\t nn training accuracy: 0.9829166666666667\n",
      "\t posterior estimate training accuracy: 0.9700833333333333\n",
      "\t nn test accuracy: 0.9815\n",
      "epoch 8:\n",
      "\t nn training accuracy: 0.9850166666666667\n",
      "\t posterior estimate training accuracy: 0.9728166666666667\n",
      "\t nn test accuracy: 0.9819\n",
      "epoch 9:\n",
      "\t nn training accuracy: 0.9856833333333334\n",
      "\t posterior estimate training accuracy: 0.9731833333333333\n",
      "\t nn test accuracy: 0.983\n",
      "epoch 10:\n",
      "\t nn training accuracy: 0.9850666666666666\n",
      "\t posterior estimate training accuracy: 0.9721333333333333\n",
      "\t nn test accuracy: 0.9829\n",
      "epoch 11:\n",
      "\t nn training accuracy: 0.98245\n",
      "\t posterior estimate training accuracy: 0.96985\n",
      "\t nn test accuracy: 0.982\n",
      "epoch 12:\n",
      "\t nn training accuracy: 0.97865\n",
      "\t posterior estimate training accuracy: 0.9661833333333333\n",
      "\t nn test accuracy: 0.9791\n",
      "epoch 13:\n",
      "\t nn training accuracy: 0.9741166666666666\n",
      "\t posterior estimate training accuracy: 0.9618666666666666\n",
      "\t nn test accuracy: 0.9772\n",
      "epoch 14:\n",
      "\t nn training accuracy: 0.9680666666666666\n",
      "\t posterior estimate training accuracy: 0.9576333333333333\n",
      "\t nn test accuracy: 0.9739\n",
      "epoch 15:\n",
      "\t nn training accuracy: 0.9609\n",
      "\t posterior estimate training accuracy: 0.9521666666666667\n",
      "\t nn test accuracy: 0.9717\n",
      "epoch 16:\n",
      "\t nn training accuracy: 0.9567833333333333\n",
      "\t posterior estimate training accuracy: 0.949\n",
      "\t nn test accuracy: 0.9724\n",
      "epoch 17:\n",
      "\t nn training accuracy: 0.9519333333333333\n",
      "\t posterior estimate training accuracy: 0.9456333333333333\n",
      "\t nn test accuracy: 0.9718\n",
      "epoch 18:\n",
      "\t nn training accuracy: 0.94625\n",
      "\t posterior estimate training accuracy: 0.9416\n",
      "\t nn test accuracy: 0.9687\n",
      "epoch 19:\n",
      "\t nn training accuracy: 0.9432833333333334\n",
      "\t posterior estimate training accuracy: 0.9396833333333333\n",
      "\t nn test accuracy: 0.9679\n",
      "epoch 20:\n",
      "\t nn training accuracy: 0.9405833333333333\n",
      "\t posterior estimate training accuracy: 0.9378833333333333\n",
      "\t nn test accuracy: 0.9689\n",
      "epoch 21:\n",
      "\t nn training accuracy: 0.9362666666666667\n",
      "\t posterior estimate training accuracy: 0.9347833333333333\n",
      "\t nn test accuracy: 0.9678\n",
      "epoch 22:\n",
      "\t nn training accuracy: 0.93405\n",
      "\t posterior estimate training accuracy: 0.9327833333333333\n",
      "\t nn test accuracy: 0.9646\n",
      "epoch 23:\n",
      "\t nn training accuracy: 0.9303\n",
      "\t posterior estimate training accuracy: 0.9295666666666667\n",
      "\t nn test accuracy: 0.9649\n",
      "epoch 24:\n",
      "\t nn training accuracy: 0.9283333333333333\n",
      "\t posterior estimate training accuracy: 0.9277666666666666\n",
      "\t nn test accuracy: 0.9621\n",
      "epoch 25:\n",
      "\t nn training accuracy: 0.9264833333333333\n",
      "\t posterior estimate training accuracy: 0.9259\n",
      "\t nn test accuracy: 0.9634\n",
      "epoch 26:\n",
      "\t nn training accuracy: 0.9253666666666667\n",
      "\t posterior estimate training accuracy: 0.9250333333333334\n",
      "\t nn test accuracy: 0.965\n",
      "epoch 27:\n",
      "\t nn training accuracy: 0.92445\n",
      "\t posterior estimate training accuracy: 0.9239333333333334\n",
      "\t nn test accuracy: 0.9645\n",
      "epoch 28:\n",
      "\t nn training accuracy: 0.9235833333333333\n",
      "\t posterior estimate training accuracy: 0.9235\n",
      "\t nn test accuracy: 0.9644\n",
      "epoch 29:\n",
      "\t nn training accuracy: 0.9232666666666667\n",
      "\t posterior estimate training accuracy: 0.92315\n",
      "\t nn test accuracy: 0.9643\n",
      "epoch 30:\n",
      "\t nn training accuracy: 0.9230833333333334\n",
      "\t posterior estimate training accuracy: 0.9227833333333333\n",
      "\t nn test accuracy: 0.9628\n",
      "epoch 31:\n",
      "\t nn training accuracy: 0.9230166666666667\n",
      "\t posterior estimate training accuracy: 0.9228666666666666\n",
      "\t nn test accuracy: 0.9632\n",
      "epoch 32:\n",
      "\t nn training accuracy: 0.9230166666666667\n",
      "\t posterior estimate training accuracy: 0.9229333333333334\n",
      "\t nn test accuracy: 0.9649\n",
      "epoch 33:\n",
      "\t nn training accuracy: 0.9221\n",
      "\t posterior estimate training accuracy: 0.92205\n",
      "\t nn test accuracy: 0.9615\n",
      "epoch 34:\n",
      "\t nn training accuracy: 0.9210333333333334\n",
      "\t posterior estimate training accuracy: 0.9210666666666667\n",
      "\t nn test accuracy: 0.959\n",
      "epoch 35:\n",
      "\t nn training accuracy: 0.9207\n",
      "\t posterior estimate training accuracy: 0.9205333333333333\n",
      "\t nn test accuracy: 0.9602\n",
      "epoch 36:\n",
      "\t nn training accuracy: 0.9200833333333334\n",
      "\t posterior estimate training accuracy: 0.9200666666666667\n",
      "\t nn test accuracy: 0.9591\n",
      "epoch 37:\n",
      "\t nn training accuracy: 0.92\n",
      "\t posterior estimate training accuracy: 0.9199833333333334\n",
      "\t nn test accuracy: 0.9635\n",
      "epoch 38:\n",
      "\t nn training accuracy: 0.9196333333333333\n",
      "\t posterior estimate training accuracy: 0.91965\n",
      "\t nn test accuracy: 0.9583\n",
      "epoch 39:\n",
      "\t nn training accuracy: 0.9195333333333333\n",
      "\t posterior estimate training accuracy: 0.9195166666666666\n",
      "\t nn test accuracy: 0.9599\n",
      "epoch 40:\n",
      "\t nn training accuracy: 0.9195166666666666\n",
      "\t posterior estimate training accuracy: 0.9195333333333333\n",
      "\t nn test accuracy: 0.9619\n",
      "epoch 41:\n",
      "\t nn training accuracy: 0.91955\n",
      "\t posterior estimate training accuracy: 0.9194333333333333\n",
      "\t nn test accuracy: 0.9591\n",
      "epoch 42:\n",
      "\t nn training accuracy: 0.919\n",
      "\t posterior estimate training accuracy: 0.9190333333333334\n",
      "\t nn test accuracy: 0.9611\n",
      "epoch 43:\n",
      "\t nn training accuracy: 0.9192\n",
      "\t posterior estimate training accuracy: 0.9191166666666667\n",
      "\t nn test accuracy: 0.9613\n",
      "epoch 44:\n",
      "\t nn training accuracy: 0.9191\n",
      "\t posterior estimate training accuracy: 0.9190833333333334\n",
      "\t nn test accuracy: 0.9613\n",
      "epoch 45:\n",
      "\t nn training accuracy: 0.919\n",
      "\t posterior estimate training accuracy: 0.9189833333333334\n",
      "\t nn test accuracy: 0.961\n",
      "epoch 46:\n",
      "\t nn training accuracy: 0.91875\n",
      "\t posterior estimate training accuracy: 0.9187666666666666\n",
      "\t nn test accuracy: 0.9579\n",
      "epoch 47:\n",
      "\t nn training accuracy: 0.91875\n",
      "\t posterior estimate training accuracy: 0.91865\n",
      "\t nn test accuracy: 0.9626\n",
      "epoch 48:\n",
      "\t nn training accuracy: 0.91935\n",
      "\t posterior estimate training accuracy: 0.9192166666666667\n",
      "\t nn test accuracy: 0.9628\n",
      "epoch 49:\n",
      "\t nn training accuracy: 0.9196333333333333\n",
      "\t posterior estimate training accuracy: 0.9195833333333333\n",
      "\t nn test accuracy: 0.964\n",
      "epoch 50:\n",
      "\t nn training accuracy: 0.9201666666666667\n",
      "\t posterior estimate training accuracy: 0.9200666666666667\n",
      "\t nn test accuracy: 0.9629\n",
      "epoch 51:\n",
      "\t nn training accuracy: 0.9200166666666667\n",
      "\t posterior estimate training accuracy: 0.9200166666666667\n",
      "\t nn test accuracy: 0.9648\n",
      "epoch 52:\n",
      "\t nn training accuracy: 0.9199\n",
      "\t posterior estimate training accuracy: 0.9198666666666667\n",
      "\t nn test accuracy: 0.9578\n",
      "epoch 53:\n",
      "\t nn training accuracy: 0.91995\n",
      "\t posterior estimate training accuracy: 0.9198833333333334\n",
      "\t nn test accuracy: 0.9614\n",
      "epoch 54:\n",
      "\t nn training accuracy: 0.9201166666666667\n",
      "\t posterior estimate training accuracy: 0.9200833333333334\n",
      "\t nn test accuracy: 0.962\n",
      "epoch 55:\n",
      "\t nn training accuracy: 0.9207333333333333\n",
      "\t posterior estimate training accuracy: 0.92065\n",
      "\t nn test accuracy: 0.9612\n",
      "epoch 56:\n",
      "\t nn training accuracy: 0.9202833333333333\n",
      "\t posterior estimate training accuracy: 0.9201666666666667\n",
      "\t nn test accuracy: 0.962\n",
      "epoch 57:\n",
      "\t nn training accuracy: 0.9208833333333334\n",
      "\t posterior estimate training accuracy: 0.92075\n",
      "\t nn test accuracy: 0.9612\n",
      "epoch 58:\n",
      "\t nn training accuracy: 0.9207666666666666\n",
      "\t posterior estimate training accuracy: 0.9206833333333333\n",
      "\t nn test accuracy: 0.9629\n",
      "epoch 59:\n",
      "\t nn training accuracy: 0.9205833333333333\n",
      "\t posterior estimate training accuracy: 0.9205333333333333\n",
      "\t nn test accuracy: 0.96\n",
      "epoch 60:\n",
      "\t nn training accuracy: 0.9206166666666666\n",
      "\t posterior estimate training accuracy: 0.9206333333333333\n",
      "\t nn test accuracy: 0.9635\n",
      "epoch 61:\n",
      "\t nn training accuracy: 0.9203666666666667\n",
      "\t posterior estimate training accuracy: 0.9204\n",
      "\t nn test accuracy: 0.9606\n",
      "epoch 62:\n",
      "\t nn training accuracy: 0.9207833333333333\n",
      "\t posterior estimate training accuracy: 0.9207833333333333\n"
     ]
    },
    {
     "name": "stdout",
     "output_type": "stream",
     "text": [
      "\t nn test accuracy: 0.9619\n",
      "epoch 63:\n",
      "\t nn training accuracy: 0.92095\n",
      "\t posterior estimate training accuracy: 0.9208\n",
      "\t nn test accuracy: 0.9603\n",
      "epoch 64:\n",
      "\t nn training accuracy: 0.9208666666666666\n",
      "\t posterior estimate training accuracy: 0.9208\n",
      "\t nn test accuracy: 0.9626\n",
      "epoch 65:\n",
      "\t nn training accuracy: 0.9211166666666667\n",
      "\t posterior estimate training accuracy: 0.9210666666666667\n",
      "\t nn test accuracy: 0.9636\n",
      "epoch 66:\n",
      "\t nn training accuracy: 0.9210666666666667\n",
      "\t posterior estimate training accuracy: 0.92105\n",
      "\t nn test accuracy: 0.9622\n",
      "epoch 67:\n",
      "\t nn training accuracy: 0.9210666666666667\n",
      "\t posterior estimate training accuracy: 0.9210333333333334\n",
      "\t nn test accuracy: 0.9638\n",
      "epoch 68:\n",
      "\t nn training accuracy: 0.9211333333333334\n",
      "\t posterior estimate training accuracy: 0.9211166666666667\n",
      "\t nn test accuracy: 0.9628\n",
      "epoch 69:\n",
      "\t nn training accuracy: 0.9210666666666667\n",
      "\t posterior estimate training accuracy: 0.9211166666666667\n",
      "\t nn test accuracy: 0.9631\n",
      "epoch 70:\n",
      "\t nn training accuracy: 0.9212333333333333\n",
      "\t posterior estimate training accuracy: 0.9211833333333334\n",
      "\t nn test accuracy: 0.9654\n",
      "epoch 71:\n",
      "\t nn training accuracy: 0.9213666666666667\n",
      "\t posterior estimate training accuracy: 0.92135\n",
      "\t nn test accuracy: 0.9655\n",
      "epoch 72:\n",
      "\t nn training accuracy: 0.9216166666666666\n",
      "\t posterior estimate training accuracy: 0.92155\n",
      "\t nn test accuracy: 0.9679\n",
      "epoch 73:\n",
      "\t nn training accuracy: 0.92145\n",
      "\t posterior estimate training accuracy: 0.9213833333333333\n",
      "\t nn test accuracy: 0.9636\n",
      "epoch 74:\n",
      "\t nn training accuracy: 0.9215166666666667\n",
      "\t posterior estimate training accuracy: 0.92145\n",
      "\t nn test accuracy: 0.9652\n",
      "epoch 75:\n",
      "\t nn training accuracy: 0.9216166666666666\n",
      "\t posterior estimate training accuracy: 0.9215\n",
      "\t nn test accuracy: 0.9615\n",
      "epoch 76:\n",
      "\t nn training accuracy: 0.9220333333333334\n",
      "\t posterior estimate training accuracy: 0.9218833333333334\n",
      "\t nn test accuracy: 0.9628\n",
      "epoch 77:\n",
      "\t nn training accuracy: 0.92175\n",
      "\t posterior estimate training accuracy: 0.92175\n",
      "\t nn test accuracy: 0.9611\n",
      "epoch 78:\n",
      "\t nn training accuracy: 0.9216666666666666\n",
      "\t posterior estimate training accuracy: 0.9217166666666666\n",
      "\t nn test accuracy: 0.9585\n",
      "epoch 79:\n",
      "\t nn training accuracy: 0.9214833333333333\n",
      "\t posterior estimate training accuracy: 0.9214666666666667\n",
      "\t nn test accuracy: 0.9633\n",
      "epoch 80:\n",
      "\t nn training accuracy: 0.92185\n",
      "\t posterior estimate training accuracy: 0.9217666666666666\n",
      "\t nn test accuracy: 0.9646\n",
      "epoch 81:\n",
      "\t nn training accuracy: 0.9220333333333334\n",
      "\t posterior estimate training accuracy: 0.9219666666666667\n",
      "\t nn test accuracy: 0.9644\n",
      "epoch 82:\n",
      "\t nn training accuracy: 0.9217666666666666\n",
      "\t posterior estimate training accuracy: 0.9217833333333333\n",
      "\t nn test accuracy: 0.9627\n",
      "epoch 83:\n",
      "\t nn training accuracy: 0.9218333333333333\n",
      "\t posterior estimate training accuracy: 0.9217833333333333\n",
      "\t nn test accuracy: 0.9626\n",
      "epoch 84:\n",
      "\t nn training accuracy: 0.92165\n",
      "\t posterior estimate training accuracy: 0.9216333333333333\n",
      "\t nn test accuracy: 0.9602\n",
      "epoch 85:\n",
      "\t nn training accuracy: 0.9215166666666667\n",
      "\t posterior estimate training accuracy: 0.9215\n",
      "\t nn test accuracy: 0.9659\n",
      "epoch 86:\n",
      "\t nn training accuracy: 0.9215166666666667\n",
      "\t posterior estimate training accuracy: 0.9214333333333333\n",
      "\t nn test accuracy: 0.9656\n",
      "epoch 87:\n",
      "\t nn training accuracy: 0.9216\n",
      "\t posterior estimate training accuracy: 0.9215666666666666\n",
      "\t nn test accuracy: 0.9629\n",
      "epoch 88:\n",
      "\t nn training accuracy: 0.92165\n",
      "\t posterior estimate training accuracy: 0.9215666666666666\n",
      "\t nn test accuracy: 0.9623\n",
      "epoch 89:\n",
      "\t nn training accuracy: 0.9215166666666667\n",
      "\t posterior estimate training accuracy: 0.92145\n",
      "\t nn test accuracy: 0.9618\n",
      "epoch 90:\n",
      "\t nn training accuracy: 0.9217\n",
      "\t posterior estimate training accuracy: 0.9216\n",
      "\t nn test accuracy: 0.9648\n",
      "epoch 91:\n",
      "\t nn training accuracy: 0.9216\n",
      "\t posterior estimate training accuracy: 0.9215166666666667\n",
      "\t nn test accuracy: 0.9634\n",
      "epoch 92:\n",
      "\t nn training accuracy: 0.9216166666666666\n",
      "\t posterior estimate training accuracy: 0.9216\n",
      "\t nn test accuracy: 0.957\n",
      "epoch 93:\n",
      "\t nn training accuracy: 0.9215333333333333\n",
      "\t posterior estimate training accuracy: 0.9216\n",
      "\t nn test accuracy: 0.9651\n",
      "epoch 94:\n",
      "\t nn training accuracy: 0.9215166666666667\n",
      "\t posterior estimate training accuracy: 0.9214833333333333\n",
      "\t nn test accuracy: 0.9633\n",
      "epoch 95:\n",
      "\t nn training accuracy: 0.92145\n",
      "\t posterior estimate training accuracy: 0.92145\n",
      "\t nn test accuracy: 0.9617\n",
      "epoch 96:\n",
      "\t nn training accuracy: 0.9214833333333333\n",
      "\t posterior estimate training accuracy: 0.9214666666666667\n",
      "\t nn test accuracy: 0.9656\n",
      "epoch 97:\n",
      "\t nn training accuracy: 0.92155\n",
      "\t posterior estimate training accuracy: 0.92155\n",
      "\t nn test accuracy: 0.9641\n",
      "epoch 98:\n",
      "\t nn training accuracy: 0.9215333333333333\n",
      "\t posterior estimate training accuracy: 0.9216\n",
      "\t nn test accuracy: 0.9608\n",
      "epoch 99:\n",
      "\t nn training accuracy: 0.9214833333333333\n",
      "\t posterior estimate training accuracy: 0.9215\n",
      "\t nn test accuracy: 0.9614\n"
     ]
    }
   ],
   "source": [
    "for epoch in range(n_epoch):\n",
    "    print(f'epoch {epoch}:')\n",
    "\n",
    "    # update of parameters of the neural network\n",
    "    cnn_model.fit(x_train, q_t, epochs=1, shuffle=True, batch_size=batch_size, verbose=0)\n",
    "\n",
    "    # update of approximating posterior for the true labels and confusion matrices\n",
    "    # get current predictions from a neural network\n",
    "    nn_output_for_vb_update = cnn_model.predict(x_train)\n",
    "    # for numerical stability\n",
    "    nn_output_for_vb_update = nn_output_for_vb_update - \\\n",
    "        np.tile(np.expand_dims(np.max(nn_output_for_vb_update, axis=1), axis=1), \n",
    "                (1, nn_output_for_vb_update.shape[1]))\n",
    "\n",
    "    q_t, variational_param_confusion_matrices, lower_bound = \\\n",
    "        VB_iteration(crowdsourced_labels, nn_output_for_vb_update, variational_param_confusion_matrices,\n",
    "                     prior_param_confusion_matrices)\n",
    "\n",
    "    # evaluation\n",
    "    nn_training_accuracy[epoch] = np.mean(np.argmax(nn_output_for_vb_update, axis=1) == y_train)\n",
    "    print(f'\\t nn training accuracy: {nn_training_accuracy[epoch]}')\n",
    "\n",
    "    posterior_estimate_training_accuracy[epoch] = np.mean(np.argmax(q_t, axis=1) == y_train)\n",
    "    print(f'\\t posterior estimate training accuracy: {posterior_estimate_training_accuracy[epoch]}')\n",
    "\n",
    "    nn_test_prediction = cnn_model.predict(x_test)\n",
    "    nn_test_accuracy[epoch] = np.mean(np.argmax(nn_test_prediction, axis=1) == y_test)\n",
    "    print(f'\\t nn test accuracy: {nn_test_accuracy[epoch]}')\n",
    "\n",
    "    # check convergence\n",
    "    if np.abs((lower_bound - old_lower_bound) / old_lower_bound) < convergence_threshold:\n",
    "        break\n",
    "\n",
    "    old_lower_bound = lower_bound"
   ]
  },
  {
   "cell_type": "markdown",
   "metadata": {},
   "source": [
    "## Output"
   ]
  },
  {
   "cell_type": "markdown",
   "metadata": {},
   "source": [
    "Save weights"
   ]
  },
  {
   "cell_type": "code",
   "execution_count": 14,
   "metadata": {
    "scrolled": true
   },
   "outputs": [
    {
     "name": "stdout",
     "output_type": "stream",
     "text": [
      "WARNING:tensorflow:This model was compiled with a Keras optimizer (<tensorflow.python.keras.optimizers.Adam object at 0x122757dd8>) but is being saved in TensorFlow format with `save_weights`. The model's weights will be saved, but unlike with TensorFlow optimizers in the TensorFlow format the optimizer's state will not be saved.\n",
      "\n",
      "Consider using a TensorFlow optimizer from `tf.train`.\n",
      "WARNING:tensorflow:From /Users/olga/VirtualPython37/lib/python3.7/site-packages/tensorflow/python/keras/engine/network.py:1436: update_checkpoint_state (from tensorflow.python.training.checkpoint_management) is deprecated and will be removed in a future version.\n",
      "Instructions for updating:\n",
      "Use tf.train.CheckpointManager to manage checkpoints rather than manually editing the Checkpoint proto.\n"
     ]
    }
   ],
   "source": [
    "cnn_model.save_weights(os.getcwd() + '/trained_weights')"
   ]
  },
  {
   "cell_type": "markdown",
   "metadata": {},
   "source": [
    "Plot accuracy performance"
   ]
  },
  {
   "cell_type": "code",
   "execution_count": 15,
   "metadata": {},
   "outputs": [
    {
     "data": {
      "image/png": "[encoded data removed]",
      "text/plain": [
       "<Figure size 432x288 with 1 Axes>"
      ]
     },
     "metadata": {
      "needs_background": "light"
     },
     "output_type": "display_data"
    }
   ],
   "source": [
    "plt.plot(range(epoch), nn_training_accuracy[:epoch], label='nn train')\n",
    "plt.plot(range(epoch), posterior_estimate_training_accuracy[:epoch], label='posterior train')\n",
    "plt.plot(range(epoch), nn_test_accuracy[:epoch], label='nn test')\n",
    "plt.legend()\n",
    "plt.show()"
   ]
  }
 ],
 "metadata": {
  "kernelspec": {
   "display_name": "Python 3 (ipykernel)",
   "language": "python",
   "name": "python3"
  },
  "language_info": {
   "codemirror_mode": {
    "name": "ipython",
    "version": 3
   },
   "file_extension": ".py",
   "mimetype": "text/x-python",
   "name": "python",
   "nbconvert_exporter": "python",
   "pygments_lexer": "ipython3",
   "version": "3.8.11"
  }
 },
 "nbformat": 4,
 "nbformat_minor": 2
}
